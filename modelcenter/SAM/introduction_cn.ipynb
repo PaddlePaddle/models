{
 "cells": [
  {
   "attachments": {},
   "cell_type": "markdown",
   "id": "03cfffa3-2398-4d55-bf1e-fe3e01f10d68",
   "metadata": {},
   "source": [
    "## 1. SegmentAnything with PaddleSeg 模型简介\n",
    "\n",
    "更多细节可参考：[https://ai.facebook.com/research/publications/segment-anything/](https://ai.facebook.com/research/publications/segment-anything/).\n",
    "\n",
    "更多关于SegmentAnything with PaddleSeg的内容，可以点击 [https://github.com/PaddlePaddle/PaddleSeg/tree/release/2.8/contrib/SegmentAnything](https://github.com/PaddlePaddle/PaddleSeg/tree/release/2.8/contrib/SegmentAnything) 进行了解。"
   ]
  },
  {
   "attachments": {},
   "cell_type": "markdown",
   "id": "8cbcf510-dc56-43f9-9864-5e1de3c7b272",
   "metadata": {},
   "source": [
    "## 2. 模型效果及应用场景\n",
    "SegmentAnything在街景上的分割效果如下：\n",
    "<p align=\"center\">\n",
    "<img src=\"https://user-images.githubusercontent.com/18344247/231054088-b4ebfb05-ebf6-42fd-ad84-1537101d7245.gif\" width=\"100%\" height=\"100%\">\n",
    "</p>\n"
   ]
  },
  {
   "cell_type": "markdown",
   "id": "8d9da224-edd4-4c9e-ab2d-cba7ee5a92a4",
   "metadata": {},
   "source": [
    "## 3. 模型如何使用"
   ]
  },
  {
   "attachments": {},
   "cell_type": "markdown",
   "id": "2ac57be7-c00f-441e-ad82-635f6268b6bd",
   "metadata": {},
   "source": [
    "### 3.1 模型推理\n",
    "* 安装PaddlePaddle\n",
    "\n",
    "安装PaddlePaddle，要求PaddlePaddle >= 2.2.0。由于图像分割模型计算开销大，推荐在GPU版本的PaddlePaddle下使用。\n",
    "\n",
    "在AIStudio中，大家选择可以直接选择安装好PaddlePaddle的环境。 如果需要执行安装PaddlePaddle，请参考PaddlePaddle官网。[安装指引](https://www.paddlepaddle.org.cn/en/install/quick?docurl=/documentation/docs/en/install/pip/linux-pip_en.html)."
   ]
  },
  {
   "attachments": {},
   "cell_type": "markdown",
   "id": "d6593cfb",
   "metadata": {},
   "source": [
    "* 下载和安装PaddleSeg\n",
    "\n",
    "（不在Jupyter Notebook上运行时需要将\"！\"或者\"%\"去掉。）"
   ]
  },
  {
   "cell_type": "code",
   "execution_count": null,
   "id": "3ea22cb4-5bed-4ce0-858b-3bbb342e8ccf",
   "metadata": {
    "scrolled": true,
    "tags": []
   },
   "outputs": [],
   "source": [
    "%cd ~\n",
    "!git clone https://github.com/PaddlePaddle/PaddleSeg.git\n",
    "# 安装\n",
    "%cd ~/PaddleSeg\n",
    "!git checkout release/2.8\n",
    "!pip install -v -e ."
   ]
  },
  {
   "attachments": {},
   "cell_type": "markdown",
   "id": "fd7142e9-5202-4a4d-8a03-36fcc5ea0259",
   "metadata": {},
   "source": [
    "* 快速体验\n",
    "\n",
    "恭喜！ 您已经成功安装了PaddleSeg，接下来快速体验图像分割效果"
   ]
  },
  {
   "cell_type": "code",
   "execution_count": null,
   "id": "a7fd9575-4116-4fa7-86ee-0b2db7417300",
   "metadata": {
    "scrolled": true,
    "tags": []
   },
   "outputs": [],
   "source": [
    "# 进入SegmentAnything路径\n",
    "%cd ~/PaddleSeg/contrib/SegmentAnything/\n",
    "# 下载实例图像\n",
    "!wget https://paddleseg.bj.bcebos.com/dygraph/demo/cityscapes_demo.png\n",
    "\n",
    "# 在图像上推理，启动服务\n",
    "!python script/amg_paddle.py --input_path cityscapes_demo.png --model-type [vit_l/vit_b/vit_h] # default is vit_h"
   ]
  },
  {
   "attachments": {},
   "cell_type": "markdown",
   "id": "a0dd2390-e635-432b-9e0b-d7c9323f81a9",
   "metadata": {},
   "source": [
    "在本地主机上打开网页：```http://0.0.0.0:8017```\n",
    "\n",
    "你可以通过清除（clear）和上传（upload）尝试自己的测试图像！下面是一个例子：\n",
    "\n",
    "<div align=\"center\">\n",
    "<img src=\"https://user-images.githubusercontent.com/34859558/230873989-9597527e-bef6-47ce-988b-977198794d75.jpg\"  width = \"80%\"  />\n",
    "* </div>\n",
    "\n"
   ]
  },
  {
   "attachments": {},
   "cell_type": "markdown",
   "id": "e88ae3be",
   "metadata": {},
   "source": [
    "更多细节请参考PaddleSeg中SegmentAnything文件夹下的文档说明\n",
    "https://github.com/PaddlePaddle/PaddleSeg/tree/release/2.8/contrib/SegmentAnything"
   ]
  },
  {
   "attachments": {},
   "cell_type": "markdown",
   "id": "e9b05c1e-cb59-4dd7-83c0-cb30dfefba60",
   "metadata": {},
   "source": [
    "## 4. 原理\n",
    "\n",
    "<div align=\"center\">\n",
    "<img src=\"https://user-images.githubusercontent.com/18344247/231053823-5d291477-dfd8-4eba-a4b7-611be57e541e.png\"  width = \"80%\"  />\n",
    "* </div>\n",
    "\n",
    "* SAM（Segment Anything Model）由三个网络模块组成，分别是图像编码器，提示编码器和掩码解码器；\n",
    "* 图像编码器: 重量级图像编码器输出图像特征。\n",
    "* 提示编码器: 灵活的对稀疏（点，框，文本）和密集型（掩码）的提示进行编码。\n",
    "* 掩码解码器: 有效地将图像，提示特征和输出tokens映射为输出掩码。\n",
    "* SAM建立了并使用了迄今为止（到目前为止）最大的分割数据集训练，在1100万张许可和尊重隐私的图像上拥有超过10亿个掩码。\n"
   ]
  },
  {
   "attachments": {},
   "cell_type": "markdown",
   "id": "7e238357-2f19-48c3-902e-9ba3c93f7818",
   "metadata": {},
   "source": [
    "## 5. 相关论文以及引用信息\n",
    "```\n",
    "@article{kirillov2023segment,\n",
    "  title={Segment Anything},\n",
    "  author={Kirillov, Alexander and Mintun, Eric and Ravi, Nikhila and Mao, Hanzi and Rolland, Chloe and Gustafson, Laura and Xiao, Tete and Whitehead, Spencer and Berg, Alexander C and Lo, Wan-Yen and others},\n",
    "  journal={arXiv preprint arXiv:2304.02643},\n",
    "  year={2023}\n",
    "}\n",
    "```"
   ]
  }
 ],
 "metadata": {
  "kernelspec": {
   "display_name": "Python 3",
   "language": "python",
   "name": "python3"
  },
  "language_info": {
   "codemirror_mode": {
    "name": "ipython",
    "version": 3
   },
   "file_extension": ".py",
   "mimetype": "text/x-python",
   "name": "python",
   "nbconvert_exporter": "python",
   "pygments_lexer": "ipython3",
   "version": "3.6.8"
  },
  "vscode": {
   "interpreter": {
    "hash": "916dbcbb3f70747c44a77c7bcd40155683ae19c65e1c03b4aa3499c5328201f1"
   }
  }
 },
 "nbformat": 4,
 "nbformat_minor": 5
}
