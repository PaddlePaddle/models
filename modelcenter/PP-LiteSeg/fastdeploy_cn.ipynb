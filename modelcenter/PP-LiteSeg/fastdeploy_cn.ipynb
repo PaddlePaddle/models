{
 "cells": [
  {
   "cell_type": "markdown",
   "id": "9a217d2c-e580-4b7f-bc19-ba6e1dcd2970",
   "metadata": {},
   "source": [
    "## 0 全场景高性能AI推理部署工具 FastDeploy\n",
    "FastDeploy 是一款全场景、易用灵活、极致高效的AI推理部署工具。提供开箱即用的云边端部署体验, 支持超过 150+ Text, Vision, Speech和跨模态模型，实现了AI模型端到端的优化加速。通过统一不同硬件推理引擎，实现一行代码切换不同推理后端和硬件。\n",
    "\n",
    "使用 FastDeploy 3步即可搞定AI模型部署：（1）安装FastDeploy预编译包（2）调用FastDeploy的API实现部署代码 （3）推理部署。\n",
    "\n",
    "**注**:本示例下载 FastDeploy 示例来完成高性能部署体验；仅展示X86 CPU、NVIDIA GPU的推理，如运行GPU环境，默认已经准备好GPU环境（如 CUDA >= 11.2等），如果需要部署其他硬件或者参考环境安装，请参考[FastDeploy的GitHub仓库](https://github.com/PaddlePaddle/FastDeploy)"
   ]
  },
  {
   "cell_type": "markdown",
   "id": "d1305189-7a83-405a-becb-7a3b0262c239",
   "metadata": {},
   "source": [
    "## 1. 安装FastDeploy预编译包"
   ]
  },
  {
   "cell_type": "code",
   "execution_count": null,
   "id": "4bc6ee10-5c59-4e12-aeb2-49762de3a3cb",
   "metadata": {
    "scrolled": true
   },
   "outputs": [],
   "source": [
    "# 默认安装的预编译好的fastdeploy-gpu-python，是X86 CPU 和 NVIDIA GPU 均支持。\n",
    "pip install fastdeploy-gpu-python==0.0.0 -f https://www.paddlepaddle.org.cn/whl/fastdeploy_nightly_build.html"
   ]
  },
  {
   "cell_type": "markdown",
   "id": "30062a7c-4ad4-4382-9e79-d8b26a3a2d5a",
   "metadata": {},
   "source": [
    "## 2. 下载运行部署示例"
   ]
  },
  {
   "cell_type": "code",
   "execution_count": null,
   "id": "cb1b9719-57ab-4f99-b9ae-6f4ec083681e",
   "metadata": {
    "scrolled": true
   },
   "outputs": [],
   "source": [
    "#下载部署示例代码\n",
    "git clone https://github.com/PaddlePaddle/FastDeploy.git\n",
    "cd FastDeploy/examples/vision/segmentation/paddleseg/python\n",
    "\n",
    "# 下载Unet模型文件和测试图片\n",
    "wget https://bj.bcebos.com/paddlehub/fastdeploy/PP_LiteSeg_T_STDC1_cityscapes_without_argmax_infer.tgz\n",
    "tar -xvf PP_LiteSeg_T_STDC1_cityscapes_without_argmax_infer.tgz\n",
    "wget https://paddleseg.bj.bcebos.com/dygraph/demo/cityscapes_demo.png\n",
    "\n",
    "# CPU推理\n",
    "python infer.py --model PP_LiteSeg_T_STDC1_cityscapes_without_argmax_infer --image cityscapes_demo.png --device cpu\n",
    "# GPU推理\n",
    "python infer.py --model PP_LiteSeg_T_STDC1_cityscapes_without_argmax_infer --image cityscapes_demo.png --device gpu\n",
    "# GPU上使用TensorRT推理 （注意：TensorRT推理第一次运行，有序列化模型的操作，有一定耗时，需要耐心等待）\n",
    "python infer.py --model PP_LiteSeg_T_STDC1_cityscapes_without_argmax_infer --image cityscapes_demo.png --device gpu --use_trt True"
   ]
  },
  {
   "cell_type": "markdown",
   "id": "423999c5-9b5f-462c-90e5-01e0766a9e4d",
   "metadata": {},
   "source": [
    "运行完成可视化结果如下图所示:\n",
    "\n",
    "原始图像：\n",
    "\n",
    "<div align=\"center\">\n",
    "<img src=\"https://user-images.githubusercontent.com/54695910/203298832-f29fdcc1-a7f3-495a-8e39-fb67369292fb.png\"  width = \"50%\" >\n",
    "</div>\n",
    "\n",
    "分割后的图：\n",
    "\n",
    "<div align=\"center\">\n",
    "<img src=\"https://user-images.githubusercontent.com/54695910/203298024-4ed3b8ee-f393-4107-9e14-d52ad7bcbb89.png\"  width = \"50%\" >\n",
    "</div>"
   ]
  }
 ],
 "metadata": {
  "kernelspec": {
   "display_name": "Python 3",
   "language": "python",
   "name": "py35-paddle1.2.0"
  },
  "language_info": {
   "codemirror_mode": {
    "name": "ipython",
    "version": 3
   },
   "file_extension": ".py",
   "mimetype": "text/x-python",
   "name": "python",
   "nbconvert_exporter": "python",
   "pygments_lexer": "ipython3",
   "version": "3.7.4"
  }
 },
 "nbformat": 4,
 "nbformat_minor": 5
}
