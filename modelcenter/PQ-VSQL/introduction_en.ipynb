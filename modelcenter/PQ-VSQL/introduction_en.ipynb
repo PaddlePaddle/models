{
 "cells": [
  {
   "cell_type": "markdown",
   "id": "6f0a162f",
   "metadata": {},
   "source": [
    "## 1. VSQL Introduction\n",
    "\n",
    "Variational Shadow Quantum Learning (VSQL) is a hybird quantum-classical framework for supervised quantum learning, which utilizes parameterized quantum circuits and classical shadows. Unlike commonly used variational quantum algorithms, the VSQL method extracts \"local\" features from the subspace instead of the whole Hilbert space."
   ]
  },
  {
   "cell_type": "markdown",
   "id": "99c07da5",
   "metadata": {},
   "source": [
    "## 2. Introduction to the Model Principle\n",
    "\n",
    "The flow chart of VSQL is as follows.\n",
    "\n",
    "![pipeline](https://ai-studio-static-online.cdn.bcebos.com/2b806cc0405e425995df1786a5c5976196c5ca83697647d9ae70ac7cc0bf83c9 \"Flow chart of VSQL\")\n",
    "<div style=\"text-align:center\">Flow chart of VSQL</div>\n",
    "\n",
    "The training steps are as below.\n",
    "\n",
    "1. Encode a classical data point $\\mathbf{x}^i$ into a quantum state $\\left|\\mathbf{x}^i\\right>$.\n",
    "2. Prepare a parameterized local quantum circuit $U(\\mathbf{\\theta})$ and initialize its parameters $\\mathbf{\\theta}$.\n",
    "3. Apply $U(\\mathbf{\\theta})$ on the first few qubits. Then, obtain a shadow feature via measuring a local observable, for instance, $X\\otimes X\\cdots \\otimes X$, on these qubits.\n",
    "4. Sliding down $U(\\mathbf{\\theta})$ one qubit each time, repeat step 3 until the last qubit has been covered.\n",
    "5. Feed all shadow features obtained from steps 3-4 to an FCNN and get the predicted label $\\tilde{\\mathbf{y}}^i$ through an activation function. For multi-label classification problems, we use the softmax activation function.\n",
    "5. Repeat steps 3-5 until all data points in the data set have been processed. Then calculate the loss function $\\mathcal{L}(\\mathbf{\\theta}, \\mathbf{W}, \\mathbf{b})$.\n",
    "6. Adjust the parameters $\\mathbf{\\theta}$, $\\mathbf{W}$, and $\\mathbf{b}$ through optimization methods such as gradient descent to minimize the loss function. Then we get the optimized model $\\mathcal{F}$.\n",
    "\n",
    "Since VSQL only extracts local shadow features, it can be easily implemented on quantum devices with topological connectivity limits. Besides, since the $U(\\mathbf{\\theta})$ used in circuits are identical, the number of parameters involved is significantly smaller than other commonly used variational quantum classifiers.\n",
    "\n",
    "### 2.1 Introduction to local shadow circuits\n",
    "\n",
    "Now, we are ready for the next step. Before diving into details of the circuit, we need to clarify several parameters:\n",
    "- $n$: the number of qubits encoding each data point.\n",
    "- $n_{qsc}$: the width of the quantum shadow circuit . We only apply $U(\\mathbf{\\theta})$ on consecutive $n_{qsc}$ qubits each time.\n",
    "- $D$: the depth of the circuit, indicating the repeating times of a layer in $U(\\mathbf{\\theta})$.\n",
    "\n",
    "Here, we give an example where $n = 4$ and $n_{qsc} = 2$.\n",
    "\n",
    "We first apply $U(\\mathbf{\\theta})$ to the first two qubits and obtain the shadow feature $O_1$.\n",
    "\n",
    "![qubit0](https://ai-studio-static-online.cdn.bcebos.com/818b3c2bac5d4ef0b73e223c357b49d688649f036d7b4d798fb54838a555c6e6 \"The first circuit\")\n",
    "<div style=\"text-align:center\">The first circuit</div>\n",
    "\n",
    "Then, we prepare a copy of the same input state $\\left|\\mathbf{x}^i\\right>$, apply $U(\\mathbf{\\theta})$ to the two qubits in the middle, and obtain the shadow feature $O_2$.\n",
    "\n",
    "![qubit1](https://ai-studio-static-online.cdn.bcebos.com/b58591c4adfc4d18a657cf1b811f4fc0c6dced8fd6b54724a78fbe1c86bb32dc \"The second circuit\")\n",
    "<div style=\"text-align:center\">The second circuit</div>\n",
    "\n",
    "Finally, we prepare another copy of the same input state, apply $U(\\mathbf{\\theta})$ to the last two qubits, and obtain the shadow feature $O_3$. Now we are done with this data point!\n",
    "\n",
    "![qubit2](https://ai-studio-static-online.cdn.bcebos.com/57089cc1c0dd412ba984a0b12e20f5d88585aaa4d293455aa9f6bb7869d7f771 \"The last circuit\")\n",
    "<div style=\"text-align:center\">The last circuit</div>\n",
    "\n",
    "In general, we will need to repeat this process for $n - n_{qsc} + 1$ times for each data point. One thing to point out is that we only use one shadow circuit in the above example. When sliding the shadow circuit $U(\\mathbf{\\theta})$ through the $n$-qubit Hilbert space, the same parameters $\\mathbf{\\theta}$ are used. You can use more shadow circuits for complicated tasks, and different shadow circuits should have different parameters $\\mathbf{\\theta}$.\n",
    "\n",
    "Below, we will use a 2-local shadow circuit, i.e., $n_{qsc}=2$ for the MNIST classification task, and the circuit's structure is shown in the follow figure.\n",
    "\n",
    "![2-local](https://ai-studio-static-online.cdn.bcebos.com/0c1035262cb64f61bd3cc87dbf53253aa6a7ecc170634c4db8dd71d576a9409c \"The 2-local shadow circuit design\")\n",
    "<div style=\"text-align:center\">The 2-local shadow circuit design</div>\n",
    "\n",
    "The circuit layer in the dashed box is repeated for $D$ times to increase the expressive power of the quantum circuit. The structure of the circuit is not unique. You can try to design your own circuit."
   ]
  },
  {
   "cell_type": "markdown",
   "id": "bbec4432",
   "metadata": {},
   "source": [
    "## 3. Model Performance\n",
    "\n",
    "The binary classification effect of VSQL on MNIST dataset is as follows.\n",
    "\n",
    "![binary-classification](https://ai-studio-static-online.cdn.bcebos.com/03c38b174d0e47ae9dbeea6dfda1333d6d3aa74209594324b78c9159b72e7e8a \"Binary classification performance\")\n",
    "<div style=\"text-align:center\">Binary classification performance</div>\n",
    "\n",
    "The ten-class classification effect of VSQL on the MNIST dataset is as follows.\n",
    "\n",
    "![10-classification](https://ai-studio-static-online.cdn.bcebos.com/54a0273672ad4ec5ba6b7d73b3b225f8d97380c43ceb495a82d16a258117182b \"Ten-class classification performance\")\n",
    "<div style=\"text-align:center\">Ten-class classification performance</div>\n",
    "\n",
    "As shown in the tables, VSQL can achieve higher classification accuracy with fewer parameters than other quantum neural networks. Compared with classical neural networks, VSQL can also achieve similar results in ten-class classification tasks with fewer parameters. And when the amount of data is small, VSQL can achieve better results than classical neural networks."
   ]
  },
  {
   "cell_type": "markdown",
   "id": "0af2eccc",
   "metadata": {},
   "source": [
    "## 4. How to Use the Model\n",
    "\n",
    "Configure the environment according to the following code."
   ]
  },
  {
   "cell_type": "code",
   "execution_count": 1,
   "id": "77177110",
   "metadata": {},
   "outputs": [
    {
     "name": "stdout",
     "output_type": "stream",
     "text": [
      "--2022-11-24 13:45:54--  https://release-data.cdn.bcebos.com/PaddleQuantum/vsql.pdparams\n",
      "Resolving release-data.cdn.bcebos.com (release-data.cdn.bcebos.com)... 222.35.73.1\n",
      "Connecting to release-data.cdn.bcebos.com (release-data.cdn.bcebos.com)|222.35.73.1|:443... connected.\n",
      "HTTP request sent, awaiting response... 200 OK\n",
      "Length: 857 [application/octet-stream]\n",
      "Saving to: ‘vsql.pdparams.2’\n",
      "\n",
      "vsql.pdparams.2     100%[===================>]     857  --.-KB/s    in 0s      \n",
      "\n",
      "2022-11-24 13:45:54 (817 MB/s) - ‘vsql.pdparams.2’ saved [857/857]\n",
      "\n"
     ]
    }
   ],
   "source": [
    "# Install the paddle quantum\n",
    "%pip install paddle-quantum\n",
    "# Download the pretrained model\n",
    "!wget https://release-data.cdn.bcebos.com/PaddleQuantum/vsql.pdparams"
   ]
  },
  {
   "cell_type": "markdown",
   "id": "4843c62f",
   "metadata": {},
   "source": [
    "Next, the model can be loaded and tested."
   ]
  },
  {
   "cell_type": "code",
   "execution_count": 2,
   "id": "86d4405c",
   "metadata": {},
   "outputs": [
    {
     "name": "stderr",
     "output_type": "stream",
     "text": [
      "/Users/wangzihe/opt/anaconda3/envs/py37/lib/python3.7/site-packages/scipy/linalg/__init__.py:212: DeprecationWarning: The module numpy.dual is deprecated.  Instead of using dual, use the functions directly from numpy or scipy.\n",
      "  from numpy.dual import register_func\n",
      "/Users/wangzihe/opt/anaconda3/envs/py37/lib/python3.7/site-packages/scipy/sparse/sputils.py:16: DeprecationWarning: `np.typeDict` is a deprecated alias for `np.sctypeDict`.\n",
      "  supported_dtypes = [np.typeDict[x] for x in supported_dtypes]\n",
      "/Users/wangzihe/opt/anaconda3/envs/py37/lib/python3.7/site-packages/scipy/special/orthogonal.py:81: DeprecationWarning: `np.int` is a deprecated alias for the builtin `int`. To silence this warning, use `int` by itself. Doing this will not modify any behavior and is safe. When replacing `np.int`, you may wish to use e.g. `np.int64` or `np.int32` to specify the precision. If you wish to review your current use, check the release note link for additional information.\n",
      "Deprecated in NumPy 1.20; for more details and guidance: https://numpy.org/devdocs/release/1.20.0-notes.html#deprecations\n",
      "  from numpy import (exp, inf, pi, sqrt, floor, sin, cos, around, int,\n",
      "/Users/wangzihe/opt/anaconda3/envs/py37/lib/python3.7/site-packages/scipy/io/matlab/mio5.py:98: DeprecationWarning: `np.bool` is a deprecated alias for the builtin `bool`. To silence this warning, use `bool` by itself. Doing this will not modify any behavior and is safe. If you specifically wanted the numpy scalar type, use `np.bool_` here.\n",
      "Deprecated in NumPy 1.20; for more details and guidance: https://numpy.org/devdocs/release/1.20.0-notes.html#deprecations\n",
      "  from .mio5_utils import VarReader5\n"
     ]
    }
   ],
   "source": [
    "# Import the required packages\n",
    "import os\n",
    "import warnings\n",
    "\n",
    "warnings.filterwarnings('ignore')\n",
    "os.environ['PROTOCOL_BUFFERS_PYTHON_IMPLEMENTATION'] = 'python'\n",
    "\n",
    "import numpy as np\n",
    "import paddle\n",
    "import paddle_quantum as pq\n",
    "import matplotlib.pyplot as plt\n",
    "from paddle_quantum.qml.vsql import VSQL\n",
    "\n",
    "# Set model parameters\n",
    "num_qubits = 10\n",
    "num_shadow = 2\n",
    "classes = [0, 1]\n",
    "num_classes = len(classes)\n",
    "depth = 1\n",
    "\n",
    "# Load the trained model\n",
    "model = VSQL(\n",
    "    num_qubits=num_qubits,\n",
    "    num_shadow=num_shadow,\n",
    "    num_classes=num_classes,\n",
    "    depth=depth,\n",
    ")\n",
    "state_dict = paddle.load('./vsql.pdparams')\n",
    "model.set_state_dict(state_dict)"
   ]
  },
  {
   "cell_type": "code",
   "execution_count": 3,
   "id": "6676b204",
   "metadata": {},
   "outputs": [
    {
     "name": "stdout",
     "output_type": "stream",
     "text": [
      "--2022-11-24 13:46:01--  https://ai-studio-static-online.cdn.bcebos.com/088dc9dbabf349c88d029dfd2e07827aa6e41ba958c5434bbd96bc167fc65347\n",
      "Resolving ai-studio-static-online.cdn.bcebos.com (ai-studio-static-online.cdn.bcebos.com)... 222.35.73.1\n",
      "Connecting to ai-studio-static-online.cdn.bcebos.com (ai-studio-static-online.cdn.bcebos.com)|222.35.73.1|:443... connected.\n",
      "HTTP request sent, awaiting response... 200 OK\n",
      "Length: 290 [image/png]\n",
      "Saving to: ‘data-0.png’\n",
      "\n",
      "data-0.png          100%[===================>]     290  --.-KB/s    in 0s      \n",
      "\n",
      "2022-11-24 13:46:02 (138 MB/s) - ‘data-0.png’ saved [290/290]\n",
      "\n"
     ]
    },
    {
     "data": {
      "text/plain": [
       "<matplotlib.image.AxesImage at 0x7fa1199f8710>"
      ]
     },
     "execution_count": 3,
     "metadata": {},
     "output_type": "execute_result"
    },
    {
     "data": {
      "image/png": "[encoded data removed]",
      "text/plain": [
       "<Figure size 640x480 with 1 Axes>"
      ]
     },
     "metadata": {},
     "output_type": "display_data"
    }
   ],
   "source": [
    "# Load handwritten digit 0\n",
    "!wget https://ai-studio-static-online.cdn.bcebos.com/088dc9dbabf349c88d029dfd2e07827aa6e41ba958c5434bbd96bc167fc65347 -O data-0.png\n",
    "image0 = plt.imread('data-0.png')\n",
    "plt.imshow(image0)"
   ]
  },
  {
   "cell_type": "code",
   "execution_count": 4,
   "id": "f637d0ca",
   "metadata": {},
   "outputs": [
    {
     "name": "stdout",
     "output_type": "stream",
     "text": [
      "--2022-11-24 13:46:03--  https://ai-studio-static-online.cdn.bcebos.com/c755f723af3d4a1c8f113f8ac3bd365406decd1be70944b7b7b9d41413e8bc7a\n",
      "Resolving ai-studio-static-online.cdn.bcebos.com (ai-studio-static-online.cdn.bcebos.com)... 222.35.73.1\n",
      "Connecting to ai-studio-static-online.cdn.bcebos.com (ai-studio-static-online.cdn.bcebos.com)|222.35.73.1|:443... connected.\n",
      "HTTP request sent, awaiting response... 200 OK\n",
      "Length: 173 [image/png]\n",
      "Saving to: ‘data-1.png’\n",
      "\n",
      "data-1.png          100%[===================>]     173  --.-KB/s    in 0s      \n",
      "\n",
      "2022-11-24 13:46:03 (165 MB/s) - ‘data-1.png’ saved [173/173]\n",
      "\n"
     ]
    },
    {
     "data": {
      "text/plain": [
       "<matplotlib.image.AxesImage at 0x7fa1008969d0>"
      ]
     },
     "execution_count": 4,
     "metadata": {},
     "output_type": "execute_result"
    },
    {
     "data": {
      "image/png": "[encoded data removed]",
      "text/plain": [
       "<Figure size 640x480 with 1 Axes>"
      ]
     },
     "metadata": {},
     "output_type": "display_data"
    }
   ],
   "source": [
    "# Load handwritten digit 1\n",
    "!wget https://ai-studio-static-online.cdn.bcebos.com/c755f723af3d4a1c8f113f8ac3bd365406decd1be70944b7b7b9d41413e8bc7a -O data-1.png\n",
    "image1 = plt.imread('data-1.png')\n",
    "plt.imshow(image1)"
   ]
  },
  {
   "cell_type": "code",
   "execution_count": 5,
   "id": "e40d847a",
   "metadata": {},
   "outputs": [
    {
     "name": "stderr",
     "output_type": "stream",
     "text": [
      "/Users/wangzihe/opt/anaconda3/envs/py37/lib/python3.7/site-packages/paddle/tensor/creation.py:125: DeprecationWarning: `np.object` is a deprecated alias for the builtin `object`. To silence this warning, use `object` by itself. Doing this will not modify any behavior and is safe. \n",
      "Deprecated in NumPy 1.20; for more details and guidance: https://numpy.org/devdocs/release/1.20.0-notes.html#deprecations\n",
      "  if data.dtype == np.object:\n",
      "/Users/wangzihe/opt/anaconda3/envs/py37/lib/python3.7/site-packages/paddle/fluid/framework.py:1104: DeprecationWarning: `np.bool` is a deprecated alias for the builtin `bool`. To silence this warning, use `bool` by itself. Doing this will not modify any behavior and is safe. If you specifically wanted the numpy scalar type, use `np.bool_` here.\n",
      "Deprecated in NumPy 1.20; for more details and guidance: https://numpy.org/devdocs/release/1.20.0-notes.html#deprecations\n",
      "  elif dtype == np.bool:\n"
     ]
    },
    {
     "name": "stdout",
     "output_type": "stream",
     "text": [
      "For handwritten digits 0, the model has 89.22% confidence that it is 0 and 10.78% confidence that it is 1.\n",
      "For handwritten digits 1, the model has 18.29% confidence that it is 0 and 81.71% confidence that it is 1.\n"
     ]
    }
   ],
   "source": [
    "# Encoding images into quantum states\n",
    "test_data = [np.array(image0).flatten(), np.array(image1).flatten()]\n",
    "test_data = [np.pad(datum, pad_width=(0, 2 ** num_qubits - datum.size)) for datum in test_data]\n",
    "test_data = [paddle.to_tensor(datum / np.linalg.norm(datum), dtype=pq.get_dtype()) for datum in test_data]\n",
    "# Use the model to make predictions and get the corresponding probability\n",
    "test_output = model(test_data)\n",
    "test_prob = paddle.nn.functional.softmax(test_output)\n",
    "print(\n",
    "    f\"For handwritten digits 0, \"\n",
    "    f\"the model has {test_prob[0][0].item():3.2%} confidence that it is 0 \"\n",
    "    f\"and {test_prob[0][1].item():3.2%} confidence that it is 1.\"\n",
    ")\n",
    "print(\n",
    "    f\"For handwritten digits 1, \"\n",
    "    f\"the model has {test_prob[1][0].item():3.2%} confidence that it is 0 \"\n",
    "    f\"and {test_prob[1][1].item():3.2%} confidence that it is 1.\"\n",
    ")"
   ]
  },
  {
   "cell_type": "markdown",
   "id": "3990efae",
   "metadata": {},
   "source": [
    "## 5. Note\n",
    "\n",
    "The model we provide is a binary classification model that can only be used to distinguish handwritten digits 0 and 1. For other classification tasks, it needs to be retrained."
   ]
  },
  {
   "cell_type": "markdown",
   "id": "4fe699ea",
   "metadata": {},
   "source": [
    "## 6. Related papers and citations\n",
    "\n",
    "```\n",
    "@inproceedings{li2021vsql,\n",
    "  title={VSQL: Variational shadow quantum learning for classification},\n",
    "  author={Li, Guangxi and Song, Zhixin and Wang, Xin},\n",
    "  booktitle={Proceedings of the AAAI Conference on Artificial Intelligence},\n",
    "  volume={35},\n",
    "  number={9},\n",
    "  pages={8357--8365},\n",
    "  year={2021}\n",
    "}\n",
    "```"
   ]
  }
 ],
 "metadata": {
  "kernelspec": {
   "display_name": "Python 3.7.15 ('py37')",
   "language": "python",
   "name": "python3"
  },
  "language_info": {
   "codemirror_mode": {
    "name": "ipython",
    "version": 3
   },
   "file_extension": ".py",
   "mimetype": "text/x-python",
   "name": "python",
   "nbconvert_exporter": "python",
   "pygments_lexer": "ipython3",
   "version": "3.7.15"
  },
  "toc": {
   "base_numbering": 1,
   "nav_menu": {},
   "number_sections": true,
   "sideBar": true,
   "skip_h1_title": false,
   "title_cell": "Table of Contents",
   "title_sidebar": "Contents",
   "toc_cell": false,
   "toc_position": {},
   "toc_section_display": true,
   "toc_window_display": false
  },
  "vscode": {
   "interpreter": {
    "hash": "49b49097121cb1ab3a8a640b71467d7eda4aacc01fc9ff84d52fcb3bd4007bf1"
   }
  }
 },
 "nbformat": 4,
 "nbformat_minor": 5
}
