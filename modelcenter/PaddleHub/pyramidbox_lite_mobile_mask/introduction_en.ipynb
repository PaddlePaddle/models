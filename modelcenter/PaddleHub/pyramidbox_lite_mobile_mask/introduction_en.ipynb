{
 "cells": [
  {
   "cell_type": "markdown",
   "id": "e1ea25d2",
   "metadata": {
    "id": "pyramidbox_lite_mobile_mask"
   },
   "source": [
    "# pyramidbox_lite_mobile_mask\n",
    "\n",
    "|Module Name|pyramidbox_lite_mobile_mask|\n",
    "| :--- | :---: |\n",
    "|Category|face detection|\n",
    "|Network|PyramidBox|\n",
    "|Dataset|WIDER FACEDataset + Baidu Face Dataset|\n",
    "|Fine-tuning supported or not|No|\n",
    "|Module Size|1.2MB|\n",
    "|Latest update date|2021-02-26|\n",
    "|Data indicators|-|"
   ]
  },
  {
   "cell_type": "markdown",
   "id": "ba8949b4",
   "metadata": {
    "id": "i-basic-information"
   },
   "source": [
    "## I.Basic Information\n",
    "\n",
    "- ### Application Effect Display\n",
    "  - Sample results：\n",
    "    <p align=\"center\">\n",
    "    <img src=\"https://user-images.githubusercontent.com/22424850/131603304-690a2e3b-9f24-42f6-9297-a12ada884191.jpg\" width=\"50%\" hspace=\"10\"/>\n",
    "    <br/>\n",
    "    </p>\n",
    "\n",
    "- ### Module Introduction\n",
    "\n",
    "  - PyramidBox-Lite is a light-weight model based  on PyramidBox proposed by Baidu in ECCV 2018. This model has solid robustness against interferences such as light and scale variation. This module is optimized for mobile device, based on PyramidBox, trained on WIDER FACE Dataset and Baidu Face Dataset, and can be used for mask detection."
   ]
  },
  {
   "cell_type": "markdown",
   "id": "0d673fd6",
   "metadata": {
    "id": "ii-installation"
   },
   "source": [
    "## II.Installation\n",
    "\n",
    "- ### 1、Environmental Dependence\n",
    "\n",
    "  - paddlepaddle >= 1.6.2\n",
    "\n",
    "  - paddlehub >= 1.6.0  | [How to install PaddleHub](../../../../docs/docs_en/get_start/installation.rst)\n",
    "\n",
    "- ### 2、Installation\n",
    "\n",
    "  - ```shell\n",
    "    $ hub install pyramidbox_lite_mobile_mask\n",
    "    ```\n",
    "  - In case of any problems during installation, please refer to: [Windows_Quickstart](../../../../docs/docs_en/get_start/windows_quickstart.md) | [Linux_Quickstart](../../../../docs/docs_en/get_start/linux_quickstart.md) | [Mac_Quickstart](../../../../docs/docs_en/get_start/mac_quickstart.md)"
   ]
  },
  {
   "cell_type": "markdown",
   "id": "8bc6d29a",
   "metadata": {
    "id": "iii-module-api-prediction"
   },
   "source": [
    "## III.Module API Prediction\n",
    "\n",
    "- ### 1、Command line Prediction\n",
    "\n",
    "  - ```shell\n",
    "    $ hub run pyramidbox_lite_mobile_mask --input_path \"/PATH/TO/IMAGE\"\n",
    "    ```\n",
    "  - If you want to call the Hub module through the command line, please refer to: [PaddleHub Command Line Instruction](../../../../docs/docs_ch/tutorial/cmd_usage.rst)\n",
    "\n",
    "- ### 2、Prediction Code Example\n",
    "\n",
    "  - ```python\n",
    "    import paddlehub as hub\n",
    "    import cv2\n",
    "\n",
    "    mask_detector = hub.Module(name=\"pyramidbox_lite_mobile_mask\")\n",
    "    result = mask_detector.face_detection(images=[cv2.imread('/PATH/TO/IMAGE')])\n",
    "    # or\n",
    "    # result = mask_detector.face_detection(paths=['/PATH/TO/IMAGE'])\n",
    "    ```\n",
    "\n",
    "- ### 3、API\n",
    "\n",
    "  - ```python\n",
    "    def face_detection(images=None,\n",
    "                       paths=None,\n",
    "                       batch_size=1,\n",
    "                       use_gpu=False,\n",
    "                       visualization=False,\n",
    "                       output_dir='detection_result',\n",
    "                       use_multi_scale=False,\n",
    "                       shrink=0.5,\n",
    "                       confs_threshold=0.6)\n",
    "    ```\n",
    "\n",
    "    - Detect all faces in image, and judge the existence of mask.\n",
    "\n",
    "    - **Parameters**\n",
    "\n",
    "      - images (list\\[numpy.ndarray\\]): image data, ndarray.shape is in the format [H, W, C], BGR;\n",
    "      - paths (list[str]): image path;\n",
    "      - batch_size (int): the size of batch;\n",
    "      - use_gpu (bool): use GPU or not; **set the CUDA_VISIBLE_DEVICES environment variable first if you are using GPU**\n",
    "      - visualization (bool): Whether to save the results as picture files;\n",
    "      - output_dir (str): save path of images;\n",
    "      - use\\_multi\\_scale (bool) : whether to detect across multiple scales;\n",
    "      - shrink (float): the scale to resize image\n",
    "      - confs\\_threshold (float): the confidence threshold\n",
    "\n",
    "      **NOTE:** choose one parameter to provide data from paths and images\n",
    "\n",
    "    - **Return**\n",
    "\n",
    "      - res (list\\[dict\\]): results\n",
    "        - path (str): path for input image\n",
    "        - data (list): detection results, each element in the list is dict\n",
    "          - label (str):  'NO MASK' or 'MASK'；\n",
    "          - confidence (float): the confidence of the result\n",
    "          - left (int): the upper left corner x coordinate of the detection box\n",
    "          - top (int): the upper left corner y coordinate of the detection box\n",
    "          - right (int): the lower right corner x coordinate of the detection box\n",
    "          - bottom (int): the lower right corner y coordinate of the detection box\n",
    "\n",
    "  - ```python\n",
    "    def save_inference_model(dirname)\n",
    "    ```\n",
    "    - Save model to specific path\n",
    "\n",
    "    - **Parameters**\n",
    "\n",
    "      - dirname: model save path"
   ]
  },
  {
   "cell_type": "markdown",
   "id": "dbea847c",
   "metadata": {
    "id": "iv-server-deployment"
   },
   "source": [
    "## IV.Server Deployment\n",
    "\n",
    "- PaddleHub Serving can deploy an online service of face detection.\n",
    "\n",
    "- ### Step 1: Start PaddleHub Serving\n",
    "\n",
    "  - Run the startup command：\n",
    "  - ```shell\n",
    "    $ hub serving start -m pyramidbox_lite_mobile_mask\n",
    "    ```\n",
    "\n",
    "  - The servitization API is now deployed and the default port number is 8866.\n",
    "\n",
    "  - **NOTE:**  If GPU is used for prediction, set CUDA_VISIBLE_DEVICES environment variable before the service, otherwise it need not be set.\n",
    "\n",
    "- ### Step 2: Send a predictive request\n",
    "\n",
    "  - With a configured server, use the following lines of code to send the prediction request and obtain the result\n",
    "\n",
    "  - ```python\n",
    "    import requests\n",
    "    import json\n",
    "    import cv2\n",
    "    import base64\n",
    "\n",
    "    def cv2_to_base64(image):\n",
    "      data = cv2.imencode('.jpg', image)[1]\n",
    "      return base64.b64encode(data.tostring()).decode('utf8')\n",
    "\n",
    "    # Send an HTTP request\n",
    "    data = {'images':[cv2_to_base64(cv2.imread(\"/PATH/TO/IMAGE\"))]}\n",
    "    headers = {\"Content-type\": \"application/json\"}\n",
    "    url = \"http://127.0.0.1:8866/predict/pyramidbox_lite_mobile_mask\"\n",
    "    r = requests.post(url=url, headers=headers, data=json.dumps(data))\n",
    "\n",
    "    # print prediction results\n",
    "    print(r.json()[\"results\"])\n",
    "    ```\n",
    "\n",
    "- ### Gradio APP support\n",
    "  Starting with PaddleHub 2.3.1, the Gradio APP for pyramidbox_lite_mobile_mask is supported to be accessed in the browser using the link http://127.0.0.1:8866/gradio/pyramidbox_lite_mobile_mask."
   ]
  },
  {
   "cell_type": "markdown",
   "id": "5cff114c",
   "metadata": {
    "id": "v-paddle-lite-deployment"
   },
   "source": [
    "## V.Paddle Lite Deployment\n",
    "\n",
    "- ### Save model demo\n",
    "  - ```python\n",
    "    import paddlehub as hub\n",
    "    pyramidbox_lite_mobile_mask = hub.Module(name=\"pyramidbox_lite_mobile_mask\")\n",
    "\n",
    "    # save model in directory named test_program\n",
    "    pyramidbox_lite_mobile_mask.save_inference_model(dirname=\"test_program\")\n",
    "    ```\n",
    "\n",
    "- ### transform model\n",
    "\n",
    "  - The model downloaded from paddlehub is a prediction model. If we want to deploy it in mobile device, we can use OPT tool provided by PaddleLite to transform the model. For more information, please refer to [OPT tool](https://paddle-lite.readthedocs.io/zh/latest/user_guides/model_optimize_tool.html))\n",
    "\n",
    "- ### Deploy the model with Paddle Lite\n",
    "  - Please refer to[Paddle-Lite mask detection model deployment demo](https://github.com/PaddlePaddle/Paddle-Lite/tree/develop/lite/demo/cxx)"
   ]
  },
  {
   "cell_type": "markdown",
   "id": "f8583022",
   "metadata": {
    "id": "v-release-note"
   },
   "source": [
    "## V.Release Note\n",
    "\n",
    "* 1.0.0\n",
    "\n",
    "  First release\n",
    "\n",
    "* 1.3.1\n",
    "\n",
    "  Remove fluid api\n",
    "\n",
    "* 1.4.0\n",
    "\n",
    "  Fix a bug of save_inference_model\n",
    "\n",
    "* 1.5.0\n",
    "\n",
    "  Add Gradio APP support.\n",
    "\n",
    "  - ```shell\n",
    "    $ hub install pyramidbox_lite_mobile_mask==1.5.0\n",
    "    ```"
   ]
  }
 ],
 "metadata": {
  "colab": {
   "name": "pyramidbox_lite_mobile_mask",
   "toc_visible": true
  },
  "kernelspec": {
   "display_name": "python3",
   "name": "python3"
  }
 },
 "nbformat": 4,
 "nbformat_minor": 5
}
