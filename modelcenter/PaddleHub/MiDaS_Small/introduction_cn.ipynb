{
 "cells": [
  {
   "cell_type": "markdown",
   "id": "1256c3c5",
   "metadata": {
    "id": "模型概述"
   },
   "source": [
    "## 模型概述\n",
    "\n",
    "MiDas v2.1 small 单目深度估计模型\n",
    "\n",
    "模型可通过输入图像估计其中的深度信息\n",
    "\n",
    "模型权重转换自 [MiDas](https://github.com/intel-isl/MiDaS) 官方开源项目"
   ]
  },
  {
   "cell_type": "markdown",
   "id": "35861762",
   "metadata": {
    "id": "模型安装"
   },
   "source": [
    "## 模型安装"
   ]
  },
  {
   "cell_type": "markdown",
   "id": "b2fcb25f",
   "metadata": {
    "id": "效果展示"
   },
   "source": [
    "## 效果展示\n",
    "\n",
    "![效果展示](https://img-blog.csdnimg.cn/20201227112553903.jpg)"
   ]
  },
  {
   "cell_type": "markdown",
   "id": "7a7ac21e",
   "metadata": {
    "id": "api-说明"
   },
   "source": [
    "## API 说明\n",
    "\n",
    "深度估计API\n",
    "\n",
    "**参数**\n",
    "\n",
    "* images (list\\[numpy.ndarray\\]): 图片数据，ndarray.shape 为 \\[H, W, C\\]，默认为 None；\n",
    "* paths (list\\[str\\]): 图片的路径，默认为 None；\n",
    "* batch\\_size (int): batch 的大小，默认设为 1；\n",
    "* visualization (bool): 是否将识别结果保存为图片文件，默认设为 False；\n",
    "* output\\_dir (str): 图片的保存路径，默认设为 output。\n",
    "\n",
    "**返回**\n",
    "\n",
    "* res (list\\[numpy.ndarray\\]): 图像深度数据，ndarray.shape 为 \\[H, W\\]。"
   ]
  },
  {
   "cell_type": "markdown",
   "id": "23250937",
   "metadata": {
    "id": "预测代码示例"
   },
   "source": [
    "## 预测代码示例"
   ]
  },
  {
   "cell_type": "markdown",
   "id": "97638eab",
   "metadata": {
    "id": "模型相关信息"
   },
   "source": [
    "## 模型相关信息"
   ]
  },
  {
   "cell_type": "markdown",
   "id": "5cb2ef59",
   "metadata": {
    "id": "模型代码"
   },
   "source": [
    "### 模型代码\n",
    "\n",
    "https://github.com/intel-isl/MiDaS"
   ]
  },
  {
   "cell_type": "markdown",
   "id": "e6241e9c",
   "metadata": {
    "id": "依赖"
   },
   "source": [
    "### 依赖\n",
    "\n",
    "paddlepaddle >= 2.0.0rc0\n",
    "\n",
    "paddlehub >= 2.0.0b1"
   ]
  }
 ],
 "metadata": {
  "colab": {
   "name": "模型概述",
   "toc_visible": true
  },
  "kernelspec": {
   "display_name": "python3",
   "name": "python3"
  }
 },
 "nbformat": 4,
 "nbformat_minor": 5
}
