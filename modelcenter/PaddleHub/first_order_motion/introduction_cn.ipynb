{
 "cells": [
  {
   "cell_type": "markdown",
   "id": "20c7b9a3",
   "metadata": {
    "id": "first_order_motion"
   },
   "source": [
    "# first_order_motion\n",
    "\n",
    "|模型名称|first_order_motion|\n",
    "| :--- | :---: |\n",
    "|类别|图像 - 图像生成|\n",
    "|网络|S3FD|\n",
    "|数据集|-|\n",
    "|是否支持Fine-tuning|否|\n",
    "|模型大小|343MB|\n",
    "|最新更新日期|2021-12-24|\n",
    "|数据指标|-|"
   ]
  },
  {
   "cell_type": "markdown",
   "id": "588f6fba",
   "metadata": {
    "id": "一-模型基本信息"
   },
   "source": [
    "## 一、模型基本信息\n",
    "\n",
    "- ### 应用效果展示\n",
    "  - 样例结果示例：\n",
    "    <p align=\"center\">\n",
    "    <img src=\"https://user-images.githubusercontent.com/22424850/147347145-1a7e84b6-2853-4490-8eaf-caf9cfdca79b.png\" width=\"40%\" hspace=\"10\"/>\n",
    "    <br/>\n",
    "    输入图像\n",
    "    <br/>\n",
    "    <img src=\"https://user-images.githubusercontent.com/22424850/147347151-d6c5690b-00cd-433f-b82b-3f8bb90bc7bd.gif\" width=\"40%\" hspace=\"10\"/>\n",
    "    <br/>\n",
    "    输入视频\n",
    "    <br/>\n",
    "    <img src=\"https://user-images.githubusercontent.com/22424850/147348127-52eb3f26-9b2c-49d5-a4a2-20a31f159802.gif\" width=\"40%\" hspace=\"10\"/>\n",
    "    <br/>\n",
    "    输出视频\n",
    "     <br/>\n",
    "    </p>\n",
    "\n",
    "- ### 模型介绍\n",
    "\n",
    "  - First Order Motion的任务是图像动画/Image Animation，即输入为一张源图片和一个驱动视频，源图片中的人物则会做出驱动视频中的动作。"
   ]
  },
  {
   "cell_type": "markdown",
   "id": "771ae4d4",
   "metadata": {
    "id": "二-安装"
   },
   "source": [
    "## 二、安装\n",
    "\n",
    "- ### 1、环境依赖\n",
    "  - paddlepaddle >= 2.1.0\n",
    "  - paddlehub >= 2.1.0    | [如何安装PaddleHub](../../../../docs/docs_ch/get_start/installation.rst)\n",
    "\n",
    "- ### 2、安装\n",
    "\n",
    "  - ```shell\n",
    "    $ hub install first_order_motion\n",
    "    ```\n",
    "  - 如您安装时遇到问题，可参考：[零基础windows安装](../../../../docs/docs_ch/get_start/windows_quickstart.md)\n",
    " | [零基础Linux安装](../../../../docs/docs_ch/get_start/linux_quickstart.md) | [零基础MacOS安装](../../../../docs/docs_ch/get_start/mac_quickstart.md)"
   ]
  },
  {
   "cell_type": "markdown",
   "id": "27a65dc0",
   "metadata": {
    "id": "三-模型api预测"
   },
   "source": [
    "## 三、模型API预测\n",
    "\n",
    "- ### 1、命令行预测\n",
    "\n",
    "  - ```shell\n",
    "    $ hub run first_order_motion --source_image \"/PATH/TO/IMAGE\" --driving_video \"/PATH/TO/VIDEO\"  --use_gpu\n",
    "    ```\n",
    "  - 通过命令行方式实现视频驱动生成模型的调用，更多请见 [PaddleHub命令行指令](../../../../docs/docs_ch/tutorial/cmd_usage.rst)\n",
    "\n",
    "- ### 2、预测代码示例\n",
    "\n",
    "  - ```python\n",
    "    import paddlehub as hub\n",
    "\n",
    "    module = hub.Module(name=\"first_order_motion\")\n",
    "    module.generate(source_image=\"/PATH/TO/IMAGE\", driving_video=\"/PATH/TO/VIDEO\", ratio=0.4, image_size=256, output_dir='./motion_driving_result/', filename='result.mp4', use_gpu=False)\n",
    "    ```\n",
    "\n",
    "- ### 3、API\n",
    "\n",
    "  - ```python\n",
    "    generate(self, source_image=None, driving_video=None, ratio=0.4, image_size=256, output_dir='./motion_driving_result/', filename='result.mp4', use_gpu=False)\n",
    "    ```\n",
    "    - 视频驱动生成API。\n",
    "\n",
    "    - **参数**\n",
    "      - source_image (str):  原始图片，支持单人图片和多人图片，视频中人物的表情动作将迁移到该原始图片中的人物上。\n",
    "      - driving_video (str): 驱动视频，视频中人物的表情动作作为待迁移的对象。\n",
    "      - ratio (float): 贴回驱动生成的人脸区域占原图的比例, 用户需要根据生成的效果调整该参数，尤其对于多人脸距离比较近的情况下需要调整改参数, 默认为0.4，调整范围是[0.4, 0.5]。\n",
    "      - image_size (int): 图片人脸大小，默认为256，可设置为512。\n",
    "      - output\\_dir (str): 结果保存的文件夹名； <br/>\n",
    "      - filename (str): 结果保存的文件名。\n",
    "      - use\\_gpu (bool): 是否使用 GPU；<br/>"
   ]
  },
  {
   "cell_type": "markdown",
   "id": "26c55e39",
   "metadata": {
    "id": "四-更新历史"
   },
   "source": [
    "## 四、更新历史\n",
    "\n",
    "* 1.0.0\n",
    "\n",
    "  初始发布\n",
    "\n",
    "  - ```shell\n",
    "    $ hub install first_order_motion==1.0.0\n",
    "    ```"
   ]
  }
 ],
 "metadata": {
  "colab": {
   "name": "first_order_motion",
   "toc_visible": true
  },
  "kernelspec": {
   "display_name": "python3",
   "name": "python3"
  }
 },
 "nbformat": 4,
 "nbformat_minor": 5
}
