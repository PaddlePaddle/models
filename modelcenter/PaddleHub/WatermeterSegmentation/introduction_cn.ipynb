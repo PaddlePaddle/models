{
 "cells": [
  {
   "cell_type": "markdown",
   "id": "eba465e6",
   "metadata": {
    "id": "模型概述"
   },
   "source": [
    "# 模型概述\n",
    "\n",
    "水表的数字表盘分割（WatermeterSegmentation），该模型可自动提取水表上的数字。该PaddleHub Module支持API预测及命令行预测。"
   ]
  },
  {
   "cell_type": "markdown",
   "id": "701fb494",
   "metadata": {
    "id": "选择模型版本进行安装"
   },
   "source": [
    "# 选择模型版本进行安装\n",
    "\n",
    "$ hub install WatermeterSegmentation==1.0.0"
   ]
  },
  {
   "cell_type": "markdown",
   "id": "d63a51b8",
   "metadata": {
    "id": "在线体验"
   },
   "source": [
    "# 在线体验\n",
    "\n",
    "[AI Studio快速体验](https://aistudio.baidu.com/aistudio/projectdetail/1643214)"
   ]
  },
  {
   "cell_type": "markdown",
   "id": "c1bf76b1",
   "metadata": {
    "id": "命令行预测示例"
   },
   "source": [
    "# 命令行预测示例\n",
    "\n",
    "$ hub run WatermeterSegmentation --image 1.png --use_gpu True"
   ]
  },
  {
   "cell_type": "markdown",
   "id": "d71a89e0",
   "metadata": {
    "id": "module-api说明"
   },
   "source": [
    "# Module API说明"
   ]
  },
  {
   "cell_type": "markdown",
   "id": "3cceabe7",
   "metadata": {
    "id": "def-cutpic-picurl"
   },
   "source": [
    "## def cutPic(picUrl)\n",
    "\n",
    "水表的数字表盘分割预测接口，输入一张图像，输出该图像上水表记录的数字"
   ]
  },
  {
   "cell_type": "markdown",
   "id": "03960d1b",
   "metadata": {
    "id": "参数"
   },
   "source": [
    "### 参数\n",
    "\n",
    "- picUrl(str): 待检测的图片路径"
   ]
  },
  {
   "cell_type": "markdown",
   "id": "7512371b",
   "metadata": {
    "id": "代码示例"
   },
   "source": [
    "# 代码示例"
   ]
  },
  {
   "cell_type": "markdown",
   "id": "97c7c1a5",
   "metadata": {
    "id": "api调用"
   },
   "source": [
    "## API调用\n",
    "\n",
    "~~~\n",
    "import cv2\n",
    "import paddlehub as hub\n",
    "\n",
    "seg = hub.Module(name='WatermeterSegmentation')\n",
    "res = seg.cutPic(picUrl=\"1.png\")\n",
    "~~~"
   ]
  },
  {
   "cell_type": "markdown",
   "id": "5deb6946",
   "metadata": {
    "id": "命令行调用"
   },
   "source": [
    "## 命令行调用\n",
    "\n",
    "~~~\n",
    "$ hub run WatermeterSegmentation --image 1.png --use_gpu True\n",
    "~~~"
   ]
  },
  {
   "cell_type": "markdown",
   "id": "b0f7a809",
   "metadata": {
    "id": "效果展示"
   },
   "source": [
    "# 效果展示"
   ]
  },
  {
   "cell_type": "markdown",
   "id": "1ed186ae",
   "metadata": {
    "id": "原图"
   },
   "source": [
    "## 原图\n",
    "\n",
    "![ImageSeg_WaterInput](/docs/imgs/Readme_Related/ImageSeg_WaterInput.png)"
   ]
  },
  {
   "cell_type": "markdown",
   "id": "5151c2f0",
   "metadata": {
    "id": "输出结果"
   },
   "source": [
    "## 输出结果\n",
    "\n",
    "![ImageSeg_WaterOutput](/docs/imgs/Readme_Related/ImageSeg_WaterOutput.png)"
   ]
  },
  {
   "cell_type": "markdown",
   "id": "d30c85f6",
   "metadata": {
    "id": "贡献者"
   },
   "source": [
    "# 贡献者\n",
    "\n",
    "郑博培、彭兆帅"
   ]
  },
  {
   "cell_type": "markdown",
   "id": "188fcd0e",
   "metadata": {
    "id": "依赖"
   },
   "source": [
    "# 依赖\n",
    "\n",
    "paddlepaddle >= 2.0.0<br/>\n",
    "paddlehub >= 2.0.0"
   ]
  }
 ],
 "metadata": {
  "colab": {
   "name": "模型概述",
   "toc_visible": true
  },
  "kernelspec": {
   "display_name": "python3",
   "name": "python3"
  }
 },
 "nbformat": 4,
 "nbformat_minor": 5
}
