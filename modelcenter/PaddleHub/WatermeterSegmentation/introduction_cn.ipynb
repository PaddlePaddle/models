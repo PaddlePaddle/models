{
 "cells": [
  {
   "cell_type": "markdown",
   "id": "aa181ddc",
   "metadata": {
    "id": "模型概述"
   },
   "source": [
    "# 模型概述\n",
    "\n",
    "水表的数字表盘分割（WatermeterSegmentation），该模型可自动提取水表上的数字。该PaddleHub Module支持API预测及命令行预测。"
   ]
  },
  {
   "cell_type": "markdown",
   "id": "58635dd3",
   "metadata": {
    "id": "选择模型版本进行安装"
   },
   "source": [
    "# 选择模型版本进行安装\n",
    "\n",
    "$ hub install WatermeterSegmentation==1.0.0"
   ]
  },
  {
   "cell_type": "markdown",
   "id": "6eaa2e1c",
   "metadata": {
    "id": "在线体验"
   },
   "source": [
    "# 在线体验\n",
    "\n",
    "[AI Studio快速体验](https://aistudio.baidu.com/aistudio/projectdetail/1643214)"
   ]
  },
  {
   "cell_type": "markdown",
   "id": "aacb7c55",
   "metadata": {
    "id": "命令行预测示例"
   },
   "source": [
    "# 命令行预测示例\n",
    "\n",
    "$ hub run WatermeterSegmentation --image 1.png --use_gpu True"
   ]
  },
  {
   "cell_type": "markdown",
   "id": "5b38de01",
   "metadata": {
    "id": "module-api说明"
   },
   "source": [
    "# Module API说明"
   ]
  },
  {
   "cell_type": "markdown",
   "id": "ab6d74dd",
   "metadata": {
    "id": "def-cutpic-picurl"
   },
   "source": [
    "## def cutPic(picUrl)\n",
    "\n",
    "水表的数字表盘分割预测接口，输入一张图像，输出该图像上水表记录的数字"
   ]
  },
  {
   "cell_type": "markdown",
   "id": "a75d7406",
   "metadata": {
    "id": "参数"
   },
   "source": [
    "### 参数\n",
    "\n",
    "- picUrl(str): 待检测的图片路径"
   ]
  },
  {
   "cell_type": "markdown",
   "id": "0de7ede7",
   "metadata": {
    "id": "代码示例"
   },
   "source": [
    "# 代码示例"
   ]
  },
  {
   "cell_type": "markdown",
   "id": "0a7bf1f5",
   "metadata": {
    "id": "api调用"
   },
   "source": [
    "## API调用\n",
    "\n",
    "~~~\n",
    "import cv2\n",
    "import paddlehub as hub\n",
    "\n",
    "seg = hub.Module(name='WatermeterSegmentation')\n",
    "res = seg.cutPic(picUrl=\"1.png\")\n",
    "~~~"
   ]
  },
  {
   "cell_type": "markdown",
   "id": "dac24562",
   "metadata": {
    "id": "命令行调用"
   },
   "source": [
    "## 命令行调用\n",
    "\n",
    "~~~\n",
    "$ hub run WatermeterSegmentation --image 1.png --use_gpu True\n",
    "~~~"
   ]
  },
  {
   "cell_type": "markdown",
   "id": "2c9c07b2",
   "metadata": {
    "id": "效果展示"
   },
   "source": [
    "# 效果展示"
   ]
  },
  {
   "cell_type": "markdown",
   "id": "9959a134",
   "metadata": {
    "id": "原图"
   },
   "source": [
    "## 原图\n",
    "\n",
    "![ImageSeg_WaterInput](/docs/imgs/Readme_Related/ImageSeg_WaterInput.png)"
   ]
  },
  {
   "cell_type": "markdown",
   "id": "5da1b88c",
   "metadata": {
    "id": "输出结果"
   },
   "source": [
    "## 输出结果\n",
    "\n",
    "![ImageSeg_WaterOutput](/docs/imgs/Readme_Related/ImageSeg_WaterOutput.png)"
   ]
  },
  {
   "cell_type": "markdown",
   "id": "c45355af",
   "metadata": {
    "id": "贡献者"
   },
   "source": [
    "# 贡献者\n",
    "\n",
    "郑博培、彭兆帅"
   ]
  },
  {
   "cell_type": "markdown",
   "id": "e702e0fb",
   "metadata": {
    "id": "依赖"
   },
   "source": [
    "# 依赖\n",
    "\n",
    "paddlepaddle >= 2.0.0<br/>\n",
    "paddlehub >= 2.0.0"
   ]
  }
 ],
 "metadata": {
  "colab": {
   "name": "模型概述",
   "toc_visible": true
  },
  "kernelspec": {
   "display_name": "python3",
   "name": "python3"
  }
 },
 "nbformat": 4,
 "nbformat_minor": 5
}
