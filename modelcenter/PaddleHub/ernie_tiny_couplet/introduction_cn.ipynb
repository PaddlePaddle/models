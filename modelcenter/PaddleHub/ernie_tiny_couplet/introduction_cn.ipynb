{
 "cells": [
  {
   "cell_type": "markdown",
   "id": "49c59e52",
   "metadata": {
    "id": "命令行预测"
   },
   "source": [
    "## 命令行预测\n",
    "\n",
    "命令行预测只支持使用CPU预测，如需使用GPU，请使用API方式预测。"
   ]
  },
  {
   "cell_type": "markdown",
   "id": "baf17f55",
   "metadata": {
    "id": "api"
   },
   "source": [
    "## API\n",
    "\n",
    "对联预测接口，输入上联文本，输出下联文本。该接口封装了上联文本使用`hub.BertTokenizer`编码的过程，因此它的调用方式比demo中提供的[predcit接口](https://github.com/PaddlePaddle/PaddleHub/blob/develop/demo/text_generation/predict.py#L83)简单。\n",
    "\n",
    "**参数**\n",
    "\n",
    "> texts(list\\[str\\])： 上联文本。\n",
    "\n",
    "**返回**\n",
    "\n",
    "> result(list\\[str\\]): 下联文本。每个上联会对应输出10个下联。\n",
    "\n",
    "**代码示例**"
   ]
  },
  {
   "cell_type": "markdown",
   "id": "b41651dd",
   "metadata": {
    "id": "服务部署"
   },
   "source": [
    "## 服务部署\n",
    "\n",
    "PaddleHub Serving 可以部署在线服务。"
   ]
  },
  {
   "cell_type": "markdown",
   "id": "23b528f0",
   "metadata": {
    "id": "第一步-启动paddlehub-serving"
   },
   "source": [
    "### 第一步：启动PaddleHub Serving\n",
    "\n",
    "运行启动命令：\n",
    "\n",
    "这样就完成了一个服务化API的部署，默认端口号为8866。\n",
    "\n",
    "**NOTE:** 服务部署只支持使用CPU，如需使用GPU，请使用API方式预测。"
   ]
  },
  {
   "cell_type": "markdown",
   "id": "3e071c38",
   "metadata": {
    "id": "第二步-发送预测请求"
   },
   "source": [
    "### 第二步：发送预测请求\n",
    "\n",
    "配置好服务端，以下数行代码即可实现发送预测请求，获取预测结果"
   ]
  },
  {
   "cell_type": "markdown",
   "id": "9a9e5d1e",
   "metadata": {
    "id": "查看代码"
   },
   "source": [
    "##   查看代码\n",
    "\n",
    "https://github.com/PaddlePaddle/PaddleHub/blob/develop/demo/text_generation"
   ]
  },
  {
   "cell_type": "markdown",
   "id": "620cbf61",
   "metadata": {
    "id": "依赖"
   },
   "source": [
    "## 依赖\n",
    "\n",
    "paddlepaddle >= 1.8.2\n",
    "\n",
    "paddlehub >= 1.8.0"
   ]
  },
  {
   "cell_type": "markdown",
   "id": "e6193d2e",
   "metadata": {
    "id": "更新历史"
   },
   "source": [
    "## 更新历史\n",
    "\n",
    "* 1.0.0\n",
    "\n",
    "  初始发布。"
   ]
  }
 ],
 "metadata": {
  "colab": {
   "name": "命令行预测",
   "toc_visible": true
  },
  "kernelspec": {
   "display_name": "python3",
   "name": "python3"
  }
 },
 "nbformat": 4,
 "nbformat_minor": 5
}
