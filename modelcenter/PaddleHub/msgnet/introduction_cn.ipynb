{
 "cells": [
  {
   "cell_type": "markdown",
   "id": "185643b1",
   "metadata": {
    "id": "msgnet"
   },
   "source": [
    "# msgnet\n",
    "\n",
    "|模型名称|msgnet|\n",
    "| :--- | :---: |\n",
    "|类别|图像-图像编辑|\n",
    "|网络|msgnet|\n",
    "|数据集|COCO2014|\n",
    "|是否支持Fine-tuning|是|\n",
    "|模型大小|68MB|\n",
    "|指标|-|\n",
    "|最新更新日期|2021-07-29|"
   ]
  },
  {
   "cell_type": "markdown",
   "id": "30ce7a76",
   "metadata": {
    "id": "一-模型基本信息"
   },
   "source": [
    "## 一、模型基本信息\n",
    "\n",
    "  - 样例结果示例：\n",
    "    <p align=\"center\">\n",
    "    <img src=\"https://user-images.githubusercontent.com/35907364/130910325-d72f34b2-d567-4e77-bb60-35148864301e.jpg\" width=\"450\" height=\"300\" hspace=\"10\"/> <img src=\"https://user-images.githubusercontent.com/35907364/130910195-9433e4a7-3596-4677-85d2-2ffc16939597.png\" width=\"450\" height=\"300\" hspace=\"10\"/>\n",
    "    </p>\n",
    "\n",
    "- ### 模型介绍\n",
    "\n",
    "    - 本示例将展示如何使用PaddleHub对预训练模型进行finetune并完成预测任务。\n",
    "    - 更多详情请参考：[msgnet](https://github.com/zhanghang1989/PyTorch-Multi-Style-Transfer)"
   ]
  },
  {
   "cell_type": "markdown",
   "id": "43208257",
   "metadata": {
    "id": "二-安装"
   },
   "source": [
    "## 二、安装\n",
    "\n",
    "- ### 1、环境依赖\n",
    "\n",
    "    - paddlepaddle >= 2.0.0\n",
    "\n",
    "    - paddlehub >= 2.0.0\n",
    "\n",
    "- ### 2、安装\n",
    "    - ```shell\n",
    "      $ hub install msgnet\n",
    "      ```\n",
    "\n",
    "    -  如您安装时遇到问题，可参考：[零基础windows安装](../../../../docs/docs_ch/get_start/windows_quickstart.md)\n",
    "    | [零基础Linux安装](../../../../docs/docs_ch/get_start/linux_quickstart.md) | [零基础MacOS安装](../../../../docs/docs_ch/get_start/mac_quickstart.md)"
   ]
  },
  {
   "cell_type": "markdown",
   "id": "5388b1c9",
   "metadata": {
    "id": "三-模型api预测"
   },
   "source": [
    "## 三、模型API预测\n",
    "\n",
    "- ### 1.命令行预测"
   ]
  },
  {
   "cell_type": "code",
   "execution_count": null,
   "id": "23209705",
   "metadata": {
    "id": "三-模型api预测-code"
   },
   "outputs": [],
   "source": [
    "$ hub run msgnet --input_path \"/PATH/TO/ORIGIN/IMAGE\" --style_path \"/PATH/TO/STYLE/IMAGE\""
   ]
  },
  {
   "cell_type": "markdown",
   "id": "69dfeb1d",
   "metadata": {
    "id": "三-模型api预测-2"
   },
   "source": [
    "- ### 2.预测代码示例\n",
    "\n",
    "- ### 3.如何开始Fine-tune\n",
    "\n",
    "    - 在完成安装PaddlePaddle与PaddleHub后，通过执行`python train.py`即可开始使用msgnet模型对[MiniCOCO](../../docs/reference/datasets.md#class-hubdatasetsMiniCOCO)等数据集进行Fine-tune。\n",
    "\n",
    "    - 代码步骤\n",
    "\n",
    "        - Step1: 定义数据预处理方式\n",
    "            - ```python\n",
    "              import paddlehub.vision.transforms as T\n",
    "\n",
    "              transform = T.Compose([T.Resize((256, 256), interpolation='LINEAR')])\n",
    "              ```\n",
    "\n",
    "            - `transforms` 数据增强模块定义了丰富的数据预处理方式，用户可按照需求替换自己需要的数据预处理方式。\n",
    "\n",
    "        - Step2: 下载数据集并使用\n",
    "            - ```python\n",
    "              from paddlehub.datasets.minicoco import MiniCOCO\n",
    "\n",
    "              styledata = MiniCOCO(transform=transform, mode='train')\n",
    "\n",
    "              ```\n",
    "                - `transforms`: 数据预处理方式。\n",
    "                - `mode`: 选择数据模式，可选项有 `train`, `test`， 默认为`train`。\n",
    "\n",
    "                - 数据集的准备代码可以参考 [minicoco.py](../../paddlehub/datasets/minicoco.py)。`hub.datasets.MiniCOCO()`会自动从网络下载数据集并解压到用户目录下`$HOME/.paddlehub/dataset`目录。\n",
    "\n",
    "        - Step3: 加载预训练模型\n",
    "\n",
    "            - ```python\n",
    "              model = hub.Module(name='msgnet', load_checkpoint=None)\n",
    "              ```\n",
    "                - `name`: 选择预训练模型的名字。\n",
    "                - `load_checkpoint`: 是否加载自己训练的模型，若为None，则加载提供的模型默认参数。\n",
    "\n",
    "        - Step4: 选择优化策略和运行配置\n",
    "\n",
    "            - ```python\n",
    "              optimizer = paddle.optimizer.Adam(learning_rate=0.0001, parameters=model.parameters())\n",
    "              trainer = Trainer(model, optimizer, checkpoint_dir='test_style_ckpt')\n",
    "              trainer.train(styledata, epochs=101, batch_size=4, eval_dataset=styledata, log_interval=10, save_interval=10)\n",
    "              ```\n",
    "\n",
    "    - 模型预测\n",
    "\n",
    "        - 当完成Fine-tune后，Fine-tune过程在验证集上表现最优的模型会被保存在`${CHECKPOINT_DIR}/best_model`目录下，其中`${CHECKPOINT_DIR}`目录为Fine-tune时所选择的保存checkpoint的目录。我们使用该模型来进行预测。predict.py脚本如下：\n",
    "\n",
    "            ```python\n",
    "            import paddle\n",
    "            import paddlehub as hub\n",
    "\n",
    "            if __name__ == '__main__':\n",
    "                model = hub.Module(name='msgnet', load_checkpoint=\"/PATH/TO/CHECKPOINT\")\n",
    "                result = model.predict(origin=[\"/PATH/TO/ORIGIN/IMAGE\"], style=\"/PATH/TO/STYLE/IMAGE\", visualization=True, save_path =\"/PATH/TO/SAVE/IMAGE\")\n",
    "            ```\n",
    "\n",
    "            - 参数配置正确后，请执行脚本`python predict.py`， 加载模型具体可参见[加载](https://www.paddlepaddle.org.cn/documentation/docs/zh/2.0-rc/api/paddle/framework/io/load_cn.html#load)。\n",
    "\n",
    "            - **Args**\n",
    "                * `origin`:原始图像路径或BGR格式图片；\n",
    "                * `style`: 风格图像路径；\n",
    "                * `visualization`: 是否可视化，默认为True；\n",
    "                * `save_path`: 保存结果的路径，默认保存路径为'style_tranfer'。\n",
    "\n",
    "                **NOTE:** 进行预测时，所选择的module，checkpoint_dir，dataset必须和Fine-tune所用的一样。"
   ]
  },
  {
   "cell_type": "markdown",
   "id": "7d0db856",
   "metadata": {
    "id": "四-服务部署"
   },
   "source": [
    "## 四、服务部署\n",
    "\n",
    "- PaddleHub Serving可以部署一个在线风格迁移服务。\n",
    "\n",
    "- ### 第一步：启动PaddleHub Serving\n",
    "\n",
    "    - 运行启动命令：\n",
    "\n",
    "    - ```shell\n",
    "      $ hub serving start -m msgnet\n",
    "      ```\n",
    "\n",
    "    - 这样就完成了一个风格迁移服务化API的部署，默认端口号为8866。\n",
    "\n",
    "    - **NOTE:** 如使用GPU预测，则需要在启动服务之前，请设置CUDA_VISIBLE_DEVICES环境变量，否则不用设置。\n",
    "\n",
    "- ### 第二步：发送预测请求\n",
    "\n",
    "    - 配置好服务端，以下数行代码即可实现发送预测请求，获取预测结果\n",
    "\n",
    "        ```python\n",
    "        import requests\n",
    "        import json\n",
    "        import cv2\n",
    "        import base64\n",
    "\n",
    "        import numpy as np\n",
    "\n",
    "        def cv2_to_base64(image):\n",
    "            data = cv2.imencode('.jpg', image)[1]\n",
    "            return base64.b64encode(data.tostring()).decode('utf8')\n",
    "\n",
    "        def base64_to_cv2(b64str):\n",
    "            data = base64.b64decode(b64str.encode('utf8'))\n",
    "            data = np.fromstring(data, np.uint8)\n",
    "            data = cv2.imdecode(data, cv2.IMREAD_COLOR)\n",
    "            return data\n",
    "\n",
    "        # 发送HTTP请求\n",
    "        org_im = cv2.imread('/PATH/TO/ORIGIN/IMAGE')\n",
    "        style_im = cv2.imread('/PATH/TO/STYLE/IMAGE')\n",
    "        data = {'images':[[cv2_to_base64(org_im)], cv2_to_base64(style_im)]}\n",
    "        headers = {\"Content-type\": \"application/json\"}\n",
    "        url = \"http://127.0.0.1:8866/predict/msgnet\"\n",
    "        r = requests.post(url=url, headers=headers, data=json.dumps(data))\n",
    "        data = base64_to_cv2(r.json()[\"results\"]['data'][0])\n",
    "        cv2.imwrite('style.png', data)\n",
    "        ```"
   ]
  },
  {
   "cell_type": "markdown",
   "id": "206f5166",
   "metadata": {
    "id": "五-更新历史"
   },
   "source": [
    "## 五、更新历史\n",
    "\n",
    "* 1.0.0\n",
    "\n",
    "  初始发布"
   ]
  }
 ],
 "metadata": {
  "colab": {
   "name": "msgnet",
   "toc_visible": true
  },
  "kernelspec": {
   "display_name": "python3",
   "name": "python3"
  }
 },
 "nbformat": 4,
 "nbformat_minor": 5
}
