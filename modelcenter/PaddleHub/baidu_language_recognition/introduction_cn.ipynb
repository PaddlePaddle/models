{
 "cells": [
  {
   "cell_type": "markdown",
   "id": "9231a4c1",
   "metadata": {
    "id": "baidu_language_recognition"
   },
   "source": [
    "# baidu_language_recognition\n",
    "\n",
    "|模型名称|baidu_language_recognition|\n",
    "| :--- | :---: |\n",
    "|类别|文本-语种识别|\n",
    "|网络|-|\n",
    "|数据集|-|\n",
    "|是否支持Fine-tuning|否|\n",
    "|模型大小|-|\n",
    "|最新更新日期|2022-09-01|\n",
    "|数据指标|-|"
   ]
  },
  {
   "cell_type": "markdown",
   "id": "f9dd00d2",
   "metadata": {
    "id": "一-模型基本信息"
   },
   "source": [
    "## 一、模型基本信息\n",
    "\n",
    "- ### 模型介绍\n",
    "\n",
    "  - 本模块提供百度翻译开放平台的服务，可支持语种识别。您只需要通过传入文本内容，就可以得到识别出来的语种类别。"
   ]
  },
  {
   "cell_type": "markdown",
   "id": "f14940e8",
   "metadata": {
    "id": "二-安装"
   },
   "source": [
    "## 二、安装\n",
    "\n",
    "- ### 1、环境依赖\n",
    "\n",
    "  - paddlepaddle >= 2.1.0\n",
    "\n",
    "  - paddlehub >= 2.3.0    | [如何安装PaddleHub](../../../../docs/docs_ch/get_start/installation.rst)\n",
    "\n",
    "- ### 2、安装\n",
    "\n",
    "  - ```shell\n",
    "    $ hub install baidu_language_recognition\n",
    "    ```\n",
    "  - 如您安装时遇到问题，可参考：[零基础windows安装](../../../../docs/docs_ch/get_start/windows_quickstart.md)\n",
    " | [零基础Linux安装](../../../../docs/docs_ch/get_start/linux_quickstart.md) | [零基础MacOS安装](../../../../docs/docs_ch/get_start/mac_quickstart.md)"
   ]
  },
  {
   "cell_type": "markdown",
   "id": "5d78ca33",
   "metadata": {
    "id": "三-模型api预测"
   },
   "source": [
    "## 三、模型API预测\n",
    "\n",
    "- ### 1、预测代码示例\n",
    "\n",
    "  - ```python\n",
    "    import paddlehub as hub\n",
    "\n",
    "    module = hub.Module(name='baidu_language_recognition')\n",
    "    result = module.recognize(\"I like panda\")\n",
    "    print(result)\n",
    "    ```\n",
    "\n",
    "- ### 2、API\n",
    "\n",
    "  - ```python\n",
    "    def recognize(query: str)\n",
    "    ```\n",
    "\n",
    "    - 语种识别API，输入文本句子，输出识别后的语种编码。\n",
    "\n",
    "    - **参数**\n",
    "\n",
    "      - `query`(str): 待识别的语言。\n",
    "\n",
    "    - **返回**\n",
    "\n",
    "      - `result`(str): 识别的结果，语言的ISO 639-1编码。\n",
    "\n",
    "  目前支持识别的语种如下：\n",
    "    <p align=\"center\">\n",
    "    <img src=\"https://user-images.githubusercontent.com/22424850/188105543-21610399-23de-471b-ab60-82c3e95660a6.png\" width=\"80%\" hspace=\"10\"/>"
   ]
  },
  {
   "cell_type": "markdown",
   "id": "badc2cdf",
   "metadata": {
    "id": "四-服务部署"
   },
   "source": [
    "## 四、服务部署\n",
    "\n",
    "- 通过启动PaddleHub Serving，可以加载模型部署在线语种识别服务。\n",
    "\n",
    "- ### 第一步：启动PaddleHub Serving\n",
    "\n",
    "  - 运行启动命令：\n",
    "\n",
    "  - ```shell\n",
    "    $ hub serving start -m baidu_language_recognition\n",
    "    ```\n",
    "\n",
    "  - 通过以上命令可完成一个语种识别API的部署，默认端口号为8866。\n",
    "\n",
    "- ## 第二步：发送预测请求\n",
    "\n",
    "  - 配置好服务端，以下数行代码即可实现发送预测请求，获取预测结果\n",
    "\n",
    "  - ```python\n",
    "    import requests\n",
    "    import json\n",
    "\n",
    "    text = \"I like panda\"\n",
    "    data = {\"query\": text}\n",
    "    # 发送post请求，content-type类型应指定json方式，url中的ip地址需改为对应机器的ip\n",
    "    url = \"http://127.0.0.1:8866/predict/baidu_language_recognition\"\n",
    "    # 指定post请求的headers为application/json方式\n",
    "    headers = {\"Content-Type\": \"application/json\"}\n",
    "\n",
    "    r = requests.post(url=url, headers=headers, data=json.dumps(data))\n",
    "    print(r.json())\n",
    "    ```\n",
    "\n",
    "  - 关于PaddleHub Serving更多信息参考：[服务部署](../../../../docs/docs_ch/tutorial/serving.md)"
   ]
  },
  {
   "cell_type": "markdown",
   "id": "7c72f9e2",
   "metadata": {
    "id": "五-更新历史"
   },
   "source": [
    "## 五、更新历史\n",
    "\n",
    "* 1.0.0\n",
    "\n",
    "  初始发布\n",
    "\n",
    "  - ```shell\n",
    "    $ hub install baidu_language_recognition==1.0.0\n",
    "    ```</p>"
   ]
  }
 ],
 "metadata": {
  "colab": {
   "name": "baidu_language_recognition",
   "toc_visible": true
  },
  "kernelspec": {
   "display_name": "python3",
   "name": "python3"
  }
 },
 "nbformat": 4,
 "nbformat_minor": 5
}
