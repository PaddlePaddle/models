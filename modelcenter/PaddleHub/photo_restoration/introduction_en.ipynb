{
 "cells": [
  {
   "cell_type": "markdown",
   "id": "4a96db9c",
   "metadata": {
    "id": "photo_restoration"
   },
   "source": [
    "# photo_restoration\n",
    "\n",
    "|Module Name|photo_restoration|\n",
    "| :--- | :---: |\n",
    "|Category|Image editing|\n",
    "|Network|deoldify and realsr|\n",
    "|Fine-tuning supported or not|No|\n",
    "|Module Size |64MB+834MB|\n",
    "|Data indicators|-|\n",
    "|Latest update date|2021-08-19|"
   ]
  },
  {
   "cell_type": "markdown",
   "id": "20bd8a07",
   "metadata": {
    "id": "i-basic-information"
   },
   "source": [
    "## I. Basic Information\n",
    "\n",
    "- ### Application Effect Display\n",
    "\n",
    "  - Sample results:\n",
    "    <p align=\"center\">\n",
    "    <img src=\"https://user-images.githubusercontent.com/35907364/130897828-d0c86b81-63d1-4e9a-8095-bc000b8c7ca8.jpg\" width=\"260\" height=\"400\" hspace=\"10\"/> <img src=\"https://user-images.githubusercontent.com/35907364/130897762-5c9fa711-62bc-4067-8d44-f8feff8c574c.png\" width=\"260\" height=\"400\" hspace=\"10\"/>\n",
    "    </p>\n",
    "\n",
    "- ### Module Introduction\n",
    "\n",
    "    - Photo_restoration can restore old photos. It mainly consists of two parts: coloring and super-resolution. The coloring model is deoldify\n",
    "     , and super resolution model is realsr. Therefore, when using this model, please install deoldify and realsr in advance."
   ]
  },
  {
   "cell_type": "markdown",
   "id": "86349ff8",
   "metadata": {
    "id": "ii-installation"
   },
   "source": [
    "## II. Installation\n",
    "\n",
    "- ### 1、Environmental Dependence\n",
    "\n",
    "    - paddlepaddle >= 2.0.0\n",
    "\n",
    "    - paddlehub >= 2.0.0\n",
    "\n",
    "    - NOTE: This Module relies on ffmpeg, Please install ffmpeg before using this Module.\n",
    "\n",
    "      ```shell\n",
    "      $ conda install x264=='1!152.20180717' ffmpeg=4.0.2 -c conda-forge\n",
    "      ```\n",
    "\n",
    "- ### 2、Installation\n",
    "\n",
    "    - ```shell\n",
    "      $ hub install photo_restoration\n",
    "      ```\n",
    "\n",
    "    - In case of any problems during installation, please refer to:[Windows_Quickstart](../../../../docs/docs_en/get_start/windows_quickstart.md)\n",
    "    | [Linux_Quickstart](../../../../docs/docs_en/get_start/linux_quickstart.md) | [Mac_Quickstart](../../../../docs/docs_en/get_start/mac_quickstart.md)"
   ]
  },
  {
   "cell_type": "markdown",
   "id": "ac8a516d",
   "metadata": {
    "id": "iii-module-api-prediction"
   },
   "source": [
    "## III. Module API Prediction\n",
    "\n",
    "- ### 1、Prediction Code Example\n",
    "\n",
    "  - ```python\n",
    "    import cv2\n",
    "    import paddlehub as hub\n",
    "\n",
    "    model = hub.Module(name='photo_restoration', visualization=True)\n",
    "    im = cv2.imread('/PATH/TO/IMAGE')\n",
    "    res = model.run_image(im)\n",
    "\n",
    "    ```\n",
    "- ### 2、API\n",
    "\n",
    "  - ```python\n",
    "    def run_image(self,\n",
    "                  input,\n",
    "                  model_select= ['Colorization', 'SuperResolution'],\n",
    "                  save_path = 'photo_restoration'):\n",
    "    ```\n",
    "\n",
    "    - Predicition API,  produce repaired photos.\n",
    "\n",
    "    - **Parameter**\n",
    "\n",
    "        - input (numpy.ndarray｜str): Image data，numpy.ndarray or str. ndarray.shape is in the format [H, W, C], BGR.\n",
    "\n",
    "        - model_select (list\\[str\\]): Mode selection，\\['Colorization'\\] only colorize the input image， \\['SuperResolution'\\] only increase the image resolution；\n",
    "        default is \\['Colorization', 'SuperResolution'\\]。\n",
    "\n",
    "        - save_path (str): Save path, default is 'photo_restoration'.\n",
    "\n",
    "     - **Return**\n",
    "\n",
    "        - output (numpy.ndarray): Restoration result，ndarray.shape is in the format [H, W, C], BGR."
   ]
  },
  {
   "cell_type": "markdown",
   "id": "51d831c1",
   "metadata": {
    "id": "iv-server-deployment"
   },
   "source": [
    "## IV. Server Deployment\n",
    "\n",
    "- PaddleHub Serving can deploy an online service of photo restoration.\n",
    "\n",
    "- ### Step 1: Start PaddleHub Serving\n",
    "\n",
    "    - Run the startup command:\n",
    "\n",
    "        - ```shell\n",
    "          $ hub serving start -m photo_restoration\n",
    "          ```\n",
    "\n",
    "    - The servitization API is now deployed and the default port number is 8866.\n",
    "\n",
    "    - **NOTE:**  If GPU is used for prediction, set CUDA_VISIBLE_DEVICES environment variable before the service, otherwise it need not be set.\n",
    "\n",
    "- ### Step 2: Send a predictive request\n",
    "\n",
    "    - With a configured server, use the following lines of code to send the prediction request and obtain the result\n",
    "\n",
    "      - ```python\n",
    "        import requests\n",
    "        import json\n",
    "        import base64\n",
    "\n",
    "        import cv2\n",
    "        import numpy as np\n",
    "\n",
    "        def cv2_to_base64(image):\n",
    "            data = cv2.imencode('.jpg', image)[1]\n",
    "            return base64.b64encode(data.tostring()).decode('utf8')\n",
    "        def base64_to_cv2(b64str):\n",
    "            data = base64.b64decode(b64str.encode('utf8'))\n",
    "            data = np.fromstring(data, np.uint8)\n",
    "            data = cv2.imdecode(data, cv2.IMREAD_COLOR)\n",
    "            return data\n",
    "\n",
    "        # Send an HTTP request\n",
    "        org_im = cv2.imread('PATH/TO/IMAGE')\n",
    "        data = {'images':cv2_to_base64(org_im), 'model_select': ['Colorization', 'SuperResolution']}\n",
    "        headers = {\"Content-type\": \"application/json\"}\n",
    "        url = \"http://127.0.0.1:8866/predict/photo_restoration\"\n",
    "        r = requests.post(url=url, headers=headers, data=json.dumps(data))\n",
    "        img = base64_to_cv2(r.json()[\"results\"])\n",
    "        cv2.imwrite('PATH/TO/SAVE/IMAGE', img)\n",
    "        ```"
   ]
  },
  {
   "cell_type": "markdown",
   "id": "702fe3a3",
   "metadata": {
    "id": "v-release-note"
   },
   "source": [
    "## V. Release Note\n",
    "\n",
    "- 1.0.0\n",
    "\n",
    "  First release\n",
    "\n",
    "- 1.0.1\n",
    "\n",
    "  Adapt to paddlehub2.0"
   ]
  }
 ],
 "metadata": {
  "colab": {
   "name": "photo_restoration",
   "toc_visible": true
  },
  "kernelspec": {
   "display_name": "python3",
   "name": "python3"
  }
 },
 "nbformat": 4,
 "nbformat_minor": 5
}
