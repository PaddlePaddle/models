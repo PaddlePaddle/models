{
 "cells": [
  {
   "cell_type": "markdown",
   "id": "596abaae",
   "metadata": {
    "id": "photo_restoration"
   },
   "source": [
    "# photo_restoration\n",
    "\n",
    "|模型名称|photo_restoration|\n",
    "| :--- | :---: |\n",
    "|类别|图像-图像编辑|\n",
    "|网络|基于deoldify和realsr模型|\n",
    "|是否支持Fine-tuning|否|\n",
    "|模型大小|64MB+834MB|\n",
    "|指标|-|\n",
    "|最新更新日期|2021-08-19|"
   ]
  },
  {
   "cell_type": "markdown",
   "id": "e96d092e",
   "metadata": {
    "id": "一-模型基本信息"
   },
   "source": [
    "## 一、模型基本信息\n",
    "\n",
    "- ### 应用效果展示\n",
    "  - 样例结果示例(左为原图，右为效果图)：\n",
    "    <p align=\"center\">\n",
    "    <img src=\"https://user-images.githubusercontent.com/35907364/130897828-d0c86b81-63d1-4e9a-8095-bc000b8c7ca8.jpg\" width=\"260\" height=\"400\" hspace=\"10\"/> <img src=\"https://user-images.githubusercontent.com/35907364/130897762-5c9fa711-62bc-4067-8d44-f8feff8c574c.png\" width=\"260\" height=\"400\" hspace=\"10\"/>\n",
    "    </p>\n",
    "\n",
    "- ### 模型介绍\n",
    "\n",
    "    - photo_restoration 是针对老照片修复的模型。它主要由两个部分组成：着色和超分。着色模型基于deoldify\n",
    "    ，超分模型基于realsr. 用户可以根据自己的需求选择对图像进行着色或超分操作。因此在使用该模型时，请预先安装deoldify和realsr两个模型。"
   ]
  },
  {
   "cell_type": "markdown",
   "id": "155459e1",
   "metadata": {
    "id": "二-安装"
   },
   "source": [
    "## 二、安装\n",
    "\n",
    "- ### 1、环境依赖\n",
    "\n",
    "    - paddlepaddle >= 2.0.0\n",
    "\n",
    "    - paddlehub >= 2.0.0\n",
    "\n",
    "    - NOTE: 使用该模型需要自行安装ffmpeg，若您使用conda环境，推荐使用如下语句进行安装。\n",
    "\n",
    "      ```shell\n",
    "      $ conda install x264=='1!152.20180717' ffmpeg=4.0.2 -c conda-forge\n",
    "      ```\n",
    "\n",
    "- ### 2、安装\n",
    "    - ```shell\n",
    "      $ hub install photo_restoration\n",
    "      ```\n",
    "\n",
    "    -  如您安装时遇到问题，可参考：[零基础windows安装](../../../../docs/docs_ch/get_start/windows_quickstart.md)\n",
    "      | [零基础Linux安装](../../../../docs/docs_ch/get_start/linux_quickstart.md) | [零基础MacOS安装](../../../../docs/docs_ch/get_start/mac_quickstart.md)"
   ]
  },
  {
   "cell_type": "markdown",
   "id": "3d268b8f",
   "metadata": {
    "id": "三-模型api预测"
   },
   "source": [
    "## 三、模型API预测\n",
    "\n",
    "  - ### 1、预测代码示例\n",
    "\n",
    "    - ```python\n",
    "      import cv2\n",
    "      import paddlehub as hub\n",
    "\n",
    "      model = hub.Module(name='photo_restoration', visualization=True)\n",
    "      im = cv2.imread('/PATH/TO/IMAGE')\n",
    "      res = model.run_image(im)\n",
    "\n",
    "      ```\n",
    "- ### 2、API\n",
    "\n",
    "    ```python\n",
    "    def run_image(self,\n",
    "                  input,\n",
    "                  model_select= ['Colorization', 'SuperResolution'],\n",
    "                  save_path = 'photo_restoration'):\n",
    "    ```\n",
    "\n",
    "    - 预测API，用于图片修复。\n",
    "\n",
    "    - **参数**\n",
    "\n",
    "        - input (numpy.ndarray｜str): 图片数据，numpy.ndarray 或者 str形式。ndarray.shape 为 \\[H, W, C\\]，BGR格式; str为图片的路径。\n",
    "\n",
    "        - model_select (list\\[str\\]): 选择对图片对操作，\\['Colorization'\\]对图像只进行着色操作， \\['SuperResolution'\\]对图像只进行超分操作；\n",
    "        默认值为\\['Colorization', 'SuperResolution'\\]。\n",
    "\n",
    "        - save_path (str): 保存图片的路径, 默认为'photo_restoration'。\n",
    "\n",
    "    - **返回**\n",
    "\n",
    "        - output (numpy.ndarray): 照片修复结果，ndarray.shape 为 \\[H, W, C\\]，BGR格式。"
   ]
  },
  {
   "cell_type": "markdown",
   "id": "48d08d35",
   "metadata": {
    "id": "四-服务部署"
   },
   "source": [
    "## 四、服务部署\n",
    "\n",
    "- PaddleHub Serving可以部署一个照片修复的在线服务。\n",
    "\n",
    "- ## 第一步：启动PaddleHub Serving\n",
    "\n",
    "    - 运行启动命令：\n",
    "\n",
    "        - ```shell\n",
    "          $ hub serving start -m photo_restoration\n",
    "          ```\n",
    "\n",
    "        - 这样就完成了一个照片修复的服务化API的部署，默认端口号为8866。\n",
    "\n",
    "        - **NOTE:** 如使用GPU预测，则需要在启动服务之前，设置CUDA\\_VISIBLE\\_DEVICES环境变量，否则不用设置。\n",
    "\n",
    "- ### 第二步：发送预测请求\n",
    "\n",
    "    - 配置好服务端，以下数行代码即可实现发送预测请求，获取预测结果\n",
    "\n",
    "        ```python\n",
    "        import requests\n",
    "        import json\n",
    "        import base64\n",
    "\n",
    "        import cv2\n",
    "        import numpy as np\n",
    "\n",
    "        def cv2_to_base64(image):\n",
    "            data = cv2.imencode('.jpg', image)[1]\n",
    "            return base64.b64encode(data.tostring()).decode('utf8')\n",
    "        def base64_to_cv2(b64str):\n",
    "            data = base64.b64decode(b64str.encode('utf8'))\n",
    "            data = np.fromstring(data, np.uint8)\n",
    "            data = cv2.imdecode(data, cv2.IMREAD_COLOR)\n",
    "            return data\n",
    "\n",
    "        # 发送HTTP请求\n",
    "        org_im = cv2.imread('PATH/TO/IMAGE')\n",
    "        data = {'images':cv2_to_base64(org_im), 'model_select': ['Colorization', 'SuperResolution']}\n",
    "        headers = {\"Content-type\": \"application/json\"}\n",
    "        url = \"http://127.0.0.1:8866/predict/photo_restoration\"\n",
    "        r = requests.post(url=url, headers=headers, data=json.dumps(data))\n",
    "        img = base64_to_cv2(r.json()[\"results\"])\n",
    "        cv2.imwrite('PATH/TO/SAVE/IMAGE', img)\n",
    "        ```"
   ]
  },
  {
   "cell_type": "markdown",
   "id": "25d9e67a",
   "metadata": {
    "id": "五-更新历史"
   },
   "source": [
    "## 五、更新历史\n",
    "\n",
    "* 1.0.0\n",
    "\n",
    "  初始发布\n",
    "\n",
    "* 1.1.0\n",
    "\n",
    "  适配paddlehub2.0版本\n",
    "\n",
    "  * ```shell\n",
    "    $ hub install photo_restoration==1.1.0\n",
    "    ```"
   ]
  }
 ],
 "metadata": {
  "colab": {
   "name": "photo_restoration",
   "toc_visible": true
  },
  "kernelspec": {
   "display_name": "python3",
   "name": "python3"
  }
 },
 "nbformat": 4,
 "nbformat_minor": 5
}
