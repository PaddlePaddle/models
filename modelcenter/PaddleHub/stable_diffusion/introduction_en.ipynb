{
 "cells": [
  {
   "cell_type": "markdown",
   "id": "043ba361",
   "metadata": {
    "id": "stable_diffusion"
   },
   "source": [
    "# stable_diffusion\n",
    "\n",
    "|Module Name|stable_diffusion|\n",
    "| :--- | :---: |\n",
    "|Category|text to image|\n",
    "|Network|CLIP Text Encoder+UNet+VAD|\n",
    "|Dataset|-|\n",
    "|Fine-tuning supported or not|No|\n",
    "|Module Size|4.0GB|\n",
    "|Latest update date|2022-08-26|\n",
    "|Data indicators|-|"
   ]
  },
  {
   "cell_type": "markdown",
   "id": "6189bbba",
   "metadata": {
    "id": "i-basic-information"
   },
   "source": [
    "## I.Basic Information"
   ]
  },
  {
   "cell_type": "markdown",
   "id": "d8444085",
   "metadata": {
    "id": "application-effect-display"
   },
   "source": [
    "### Application Effect Display\n",
    "\n",
    "  - Prompt \"in the morning light,Overlooking TOKYO city by greg rutkowski and thomas kinkade,Trending on artstation.\"\n",
    "\n",
    "  - Output image\n",
    "  <p align=\"center\">\n",
    "    <img src=\"https://user-images.githubusercontent.com/22424850/186873437-2e426acd-7656-4d37-9ee4-8cafa48f097f.png\" width=\"80%\" hspace=\"10\"/>\n",
    "  <br/>\n",
    "\n",
    "  - Generating process\n",
    "  </p><p align=\"center\">\n",
    "    <img src=\"https://user-images.githubusercontent.com/22424850/186873216-d2a9761a-78b0-4f6a-97ec-919768f324f5.gif\" width=\"80%\" hspace=\"10\"/>\n",
    "  <br/>"
   ]
  },
  {
   "cell_type": "markdown",
   "id": "9aa1da0a",
   "metadata": {
    "id": "module-introduction"
   },
   "source": [
    "### Module Introduction\n",
    "\n",
    "Stable Diffusion is a latent diffusion model (Latent Diffusion), which belongs to the generative model. This kind of model obtains the images by iteratively denoising  noise and sampling step by step, and currently has achieved amazing results. Compared with Disco Diffusion, Stable Diffusion iterates in a lower dimensional latent space instead of the original pixel space, which greatly reduces the memory and computational requirements. You can render the desired image within a minute on the V100, welcome to enjoy it in [aistudio](https://aistudio.baidu.com/aistudio/projectdetail/4512600).\n",
    "\n",
    "For more details, please refer to [High-Resolution Image Synthesis with Latent Diffusion Models](https://arxiv.org/abs/2112.10752)"
   ]
  },
  {
   "cell_type": "markdown",
   "id": "d0acfe8b",
   "metadata": {
    "id": "ii-installation"
   },
   "source": [
    "## II.Installation\n",
    "\n",
    "- ### 1.Environmental Dependence\n",
    "\n",
    "  - paddlepaddle >= 2.0.0\n",
    "\n",
    "  - paddlehub >= 2.0.0    | [How to install PaddleHub](../../../../docs/docs_en/get_start/installation.rst)\n",
    "\n",
    "- ### 2.Installation\n",
    "\n",
    "  - ```shell\n",
    "    $ hub install stable_diffusion\n",
    "    ```\n",
    "  - In case of any problems during installation, please refer to:[Windows_Quickstart](../../../../docs/docs_en/get_start/windows_quickstart.md) | [Linux_Quickstart](../../../../docs/docs_en/get_start/linux_quickstart.md) | [Mac_Quickstart](../../../../docs/docs_en/get_start/mac_quickstart.md)"
   ]
  },
  {
   "cell_type": "markdown",
   "id": "f9412b88",
   "metadata": {
    "id": "iii-module-api-prediction"
   },
   "source": [
    "## III.Module API Prediction\n",
    "\n",
    "- ### 1.Command line Prediction\n",
    "\n",
    "  - ```shell\n",
    "    $ hub run stable_diffusion --text_prompts \"in the morning light,Overlooking TOKYO city by greg rutkowski and thomas kinkade,Trending on artstation.\" --output_dir stable_diffusion_out\n",
    "    ```\n",
    "\n",
    "- ### 2.Prediction Code Example\n",
    "\n",
    "  - ```python\n",
    "    import paddlehub as hub\n",
    "\n",
    "    module = hub.Module(name=\"stable_diffusion\")\n",
    "    text_prompts = [\"in the morning light,Overlooking TOKYO city by greg rutkowski and thomas kinkade,Trending on artstation.\"]\n",
    "    # Output images will be saved in stable_diffusion_out directory.\n",
    "    # The returned da is a DocumentArray object, which contains all immediate and final results\n",
    "    # You can manipulate the DocumentArray object to do post-processing and save images\n",
    "    # you can set batch_size parameter to generate number of batch_size images at one inference step.\n",
    "    da = module.generate_image(text_prompts=text_prompts, batch_size=3, output_dir='./stable_diffusion_out/')\n",
    "    # Show all immediate results\n",
    "    da[0].chunks[-1].chunks.plot_image_sprites(skip_empty=True, show_index=True, keep_aspect_ratio=True)\n",
    "    # Save the generating process as a gif\n",
    "    da[0].chunks[-1].chunks.save_gif('stable_diffusion_out-merged-result.gif')\n",
    "    da[0].chunks[0].chunks.plot_image_sprites(skip_empty=True, show_index=True, keep_aspect_ratio=True)\n",
    "    da[0].chunks[0].chunks.save_gif('stable_diffusion_out-image-0-result.gif')\n",
    "    ```\n",
    "\n",
    "- ### 3.API\n",
    "\n",
    "  - ```python\n",
    "    def generate_image(\n",
    "            text_prompts,\n",
    "            style: Optional[str] = None,\n",
    "            artist: Optional[str] = None,\n",
    "            width_height: Optional[List[int]] = [512, 512],\n",
    "            seed: Optional[int] = None,\n",
    "            batch_size: Optional[int] = 1,\n",
    "            output_dir: Optional[str] = 'stable_diffusion_out'):\n",
    "    ```\n",
    "\n",
    "    - Image generating api, which generates an image corresponding to your prompt.\n",
    "\n",
    "    - **Parameters**\n",
    "\n",
    "      - text_prompts(str): Prompt, used to describe your image content. You can construct a prompt conforms to the format \"content\" + \"artist/style\", such as \"in the morning light,Overlooking TOKYO city by greg rutkowski and thomas kinkade,Trending on artstation.\". For more details, you can refer to [website](https://docs.google.com/document/d/1XUT2G9LmkZataHFzmuOtRXnuWBfhvXDAo8DkS--8tec/edit#).\n",
    "      - style(Optional[str]): Image style, such as \"watercolor\" and \"Chinese painting\". If not provided, style is totally up to your prompt.\n",
    "      - artist(Optional[str]): Artist name, such as Greg Rutkowsk,krenz, image style is as whose works you choose. If not provided, style is totally up to your prompt.(https://weirdwonderfulai.art/resources/disco-diffusion-70-plus-artist-studies/).\n",
    "      - width_height(Optional[List[int]]): The width and height of output images, should be better multiples of 64. The larger size is, the longger computation time is.\n",
    "      - seed(Optional[int]): Random seed, different seeds result in different output images.\n",
    "      - batch_size(Optional[int]): Number of images generated for one inference step.\n",
    "      - output_dir(Optional[str]): Output directory, default is \"stable_diffusion_out\".\n",
    "\n",
    "    - **Return**\n",
    "      - ra(DocumentArray):  DocumentArray object， including `batch_size` Documents，each document keeps all immediate results during generation, please refer to [DocumentArray tutorial](https://docarray.jina.ai/fundamentals/documentarray/index.html) for more details."
   ]
  },
  {
   "cell_type": "markdown",
   "id": "b9e0ac56",
   "metadata": {
    "id": "iv-server-deployment"
   },
   "source": [
    "## IV.Server Deployment\n",
    "\n",
    "- PaddleHub Serving can deploy an online service of text-to-image.\n",
    "\n",
    "- ### Step 1: Start PaddleHub Serving\n",
    "\n",
    "  - Run the startup command：\n",
    "  - ```shell\n",
    "    $ hub serving start -m stable_diffusion\n",
    "    ```\n",
    "\n",
    "  - The servitization API is now deployed and the default port number is 8866.\n",
    "\n",
    "  - **NOTE:**  If GPU is used for prediction, set CUDA_VISIBLE_DEVICES environment variable before the service, otherwise it need not be set.\n",
    "\n",
    "- ### Step 2: Send a predictive request\n",
    "\n",
    "  - With a configured server, use the following lines of code to send the prediction request and obtain the result.\n",
    "\n",
    "  - ```python\n",
    "    import requests\n",
    "    import json\n",
    "    import cv2\n",
    "    import base64\n",
    "    from docarray import DocumentArray\n",
    "\n",
    "    # Send an HTTP request\n",
    "    data = {'text_prompts': 'in the morning light,Overlooking TOKYO city by greg rutkowski and thomas kinkade,Trending on artstation.'}\n",
    "    headers = {\"Content-type\": \"application/json\"}\n",
    "    url = \"http://127.0.0.1:8866/predict/stable_diffusion\"\n",
    "    r = requests.post(url=url, headers=headers, data=json.dumps(data))\n",
    "\n",
    "    # Get results\n",
    "    r.json()[\"results\"]\n",
    "    da = DocumentArray.from_base64(r.json()[\"results\"])\n",
    "    # Save final result image to a file\n",
    "    da[0].save_uri_to_file('stable_diffusion_out.png')\n",
    "    # Save the generating process as a gif\n",
    "    da[0].chunks[0].chunks.save_gif('stable_diffusion_out.gif')\n",
    "    ```"
   ]
  },
  {
   "cell_type": "markdown",
   "id": "e1cda2c0",
   "metadata": {
    "id": "v-release-note"
   },
   "source": [
    "## V.Release Note\n",
    "\n",
    "* 1.0.0\n",
    "\n",
    "  First release\n",
    "\n",
    "  ```shell\n",
    "  $ hub install stable_diffusion == 1.0.0\n",
    "  ```</p>"
   ]
  }
 ],
 "metadata": {
  "colab": {
   "name": "stable_diffusion",
   "toc_visible": true
  },
  "kernelspec": {
   "display_name": "python3",
   "name": "python3"
  }
 },
 "nbformat": 4,
 "nbformat_minor": 5
}
