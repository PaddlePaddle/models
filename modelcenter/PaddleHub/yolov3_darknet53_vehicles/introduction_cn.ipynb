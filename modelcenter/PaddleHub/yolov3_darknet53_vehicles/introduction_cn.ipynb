{
 "cells": [
  {
   "cell_type": "markdown",
   "id": "ceeedad7",
   "metadata": {
    "id": "yolov3_darknet53_vehicles"
   },
   "source": [
    "# yolov3_darknet53_vehicles\n",
    "\n",
    "|模型名称|yolov3_darknet53_vehicles|\n",
    "| :--- | :---: |\n",
    "|类别|图像 - 目标检测|\n",
    "|网络|YOLOv3|\n",
    "|数据集|百度自建大规模车辆数据集|\n",
    "|是否支持Fine-tuning|否|\n",
    "|模型大小|238MB|\n",
    "|最新更新日期|2021-03-15|\n",
    "|数据指标|-|"
   ]
  },
  {
   "cell_type": "markdown",
   "id": "66f56020",
   "metadata": {
    "id": "一-模型基本信息"
   },
   "source": [
    "## 一、模型基本信息\n",
    "\n",
    "- ### 应用效果展示\n",
    "  - 样例结果示例：\n",
    "     <p align=\"center\">\n",
    "     <img src=\"https://user-images.githubusercontent.com/22424850/131529643-70ee93fc-c9f3-40df-a981-901074683beb.jpg\" width=\"50%\" hspace=\"10\"/>\n",
    "     <br/>\n",
    "     </p>\n",
    "\n",
    "- ### 模型介绍\n",
    "\n",
    "  - 车辆检测是城市交通监控中非常重要并且具有挑战性的任务，该任务的难度在于对复杂场景中相对较小的车辆进行精准地定位和分类。该 PaddleHub Module 的网络为 YOLOv3, 其中 backbone 为 DarkNet53，采用百度自建大规模车辆数据集训练得到，支持car (汽车)、truck (卡车)、bus (公交车)、motorbike (摩托车)、tricycle (三轮车)等车型的识别。目前仅支持预测。"
   ]
  },
  {
   "cell_type": "markdown",
   "id": "5573b879",
   "metadata": {
    "id": "二-安装"
   },
   "source": [
    "## 二、安装\n",
    "\n",
    "- ### 1、环境依赖\n",
    "\n",
    "  - paddlepaddle >= 1.6.2\n",
    "\n",
    "  - paddlehub >= 1.6.0  | [如何安装paddlehub](../../../../docs/docs_ch/get_start/installation.rst)\n",
    "\n",
    "- ### 2、安装\n",
    "\n",
    "  - ```shell\n",
    "    $ hub install yolov3_darknet53_vehicles\n",
    "    ```\n",
    "  - 如您安装时遇到问题，可参考：[零基础windows安装](../../../../docs/docs_ch/get_start/windows_quickstart.md)\n",
    " | [零基础Linux安装](../../../../docs/docs_ch/get_start/linux_quickstart.md) | [零基础MacOS安装](../../../../docs/docs_ch/get_start/mac_quickstart.md)"
   ]
  },
  {
   "cell_type": "markdown",
   "id": "0a28d382",
   "metadata": {
    "id": "三-模型api预测"
   },
   "source": [
    "## 三、模型API预测\n",
    "\n",
    "- ### 1、命令行预测\n",
    "\n",
    "  - ```shell\n",
    "    $ hub run yolov3_darknet53_vehicles --input_path \"/PATH/TO/IMAGE\"\n",
    "    ```\n",
    "  - 通过命令行方式实现车辆检测模型的调用，更多请见 [PaddleHub命令行指令](../../../../docs/docs_ch/tutorial/cmd_usage.rst)\n",
    "- ### 2、预测代码示例\n",
    "\n",
    "  - ```python\n",
    "    import paddlehub as hub\n",
    "    import cv2\n",
    "\n",
    "    vehicles_detector = hub.Module(name=\"yolov3_darknet53_vehicles\")\n",
    "    result = vehicles_detector.object_detection(images=[cv2.imread('/PATH/TO/IMAGE')])\n",
    "    # or\n",
    "    # result = vehicles_detector.object_detection((paths=['/PATH/TO/IMAGE'])\n",
    "    ```\n",
    "\n",
    "- ### 3、API\n",
    "\n",
    "  - ```python\n",
    "    def object_detection(paths=None,\n",
    "                         images=None,\n",
    "                         batch_size=1,\n",
    "                         use_gpu=False,\n",
    "                         output_dir='yolov3_vehicles_detect_output',\n",
    "                         score_thresh=0.2,\n",
    "                         visualization=True)\n",
    "    ```\n",
    "\n",
    "    - 预测API，检测输入图片中的所有车辆的位置。\n",
    "\n",
    "    - **参数**\n",
    "\n",
    "      - paths (list\\[str\\]): 图片的路径； <br/>\n",
    "      - images (list\\[numpy.ndarray\\]): 图片数据，ndarray.shape 为 \\[H, W, C\\]，BGR格式； <br/>\n",
    "      - batch\\_size (int): batch 的大小；<br/>\n",
    "      - use\\_gpu (bool): 是否使用 GPU；<br/>\n",
    "      - output\\_dir (str): 图片的保存路径，默认设为 yolov3\\_vehicles\\_detect\\_output；<br/>\n",
    "      - score\\_thresh (float): 识别置信度的阈值；<br/>\n",
    "      - visualization (bool): 是否将识别结果保存为图片文件。\n",
    "\n",
    "      **NOTE:** paths和images两个参数选择其一进行提供数据\n",
    "\n",
    "    - **返回**\n",
    "\n",
    "      - res (list\\[dict\\]): 识别结果的列表，列表中每一个元素为 dict，各字段为:\n",
    "        - data (list): 检测结果，list的每一个元素为 dict，各字段为:\n",
    "          - confidence (float): 识别的置信度\n",
    "          - label (str): 标签\n",
    "          - left (int): 边界框的左上角x坐标\n",
    "          - top (int): 边界框的左上角y坐标\n",
    "          - right (int): 边界框的右下角x坐标\n",
    "          - bottom (int): 边界框的右下角y坐标\n",
    "        - save\\_path (str, optional): 识别结果的保存路径 (仅当visualization=True时存在)\n",
    "\n",
    "  - ```python\n",
    "    def save_inference_model(dirname)\n",
    "    ```\n",
    "    - 将模型保存到指定路径。\n",
    "\n",
    "    - **参数**\n",
    "\n",
    "      - dirname: 模型保存路径 <br/>"
   ]
  },
  {
   "cell_type": "markdown",
   "id": "451b559d",
   "metadata": {
    "id": "四-服务部署"
   },
   "source": [
    "## 四、服务部署\n",
    "\n",
    "- PaddleHub Serving可以部署一个车辆检测的在线服务。\n",
    "\n",
    "- ### 第一步：启动PaddleHub Serving\n",
    "\n",
    "  - 运行启动命令：\n",
    "  - ```shell\n",
    "    $ hub serving start -m yolov3_darknet53_vehicles\n",
    "    ```\n",
    "\n",
    "  - 这样就完成了一个车辆检测的服务化API的部署，默认端口号为8866。\n",
    "\n",
    "  - **NOTE:** 如使用GPU预测，则需要在启动服务之前，请设置CUDA\\_VISIBLE\\_DEVICES环境变量，否则不用设置。\n",
    "\n",
    "- ### 第二步：发送预测请求\n",
    "\n",
    "  - 配置好服务端，以下数行代码即可实现发送预测请求，获取预测结果\n",
    "\n",
    "  - ```python\n",
    "    import requests\n",
    "    import json\n",
    "    import cv2\n",
    "    import base64\n",
    "\n",
    "    def cv2_to_base64(image):\n",
    "      data = cv2.imencode('.jpg', image)[1]\n",
    "      return base64.b64encode(data.tostring()).decode('utf8')\n",
    "\n",
    "    # 发送HTTP请求\n",
    "    data = {'images':[cv2_to_base64(cv2.imread(\"/PATH/TO/IMAGE\"))]}\n",
    "    headers = {\"Content-type\": \"application/json\"}\n",
    "    url = \"http://127.0.0.1:8866/predict/yolov3_darknet53_vehicles\"\n",
    "    r = requests.post(url=url, headers=headers, data=json.dumps(data))\n",
    "\n",
    "    # 打印预测结果\n",
    "    print(r.json()[\"results\"])\n",
    "    ```"
   ]
  },
  {
   "cell_type": "markdown",
   "id": "76bb4b25",
   "metadata": {
    "id": "五-更新历史"
   },
   "source": [
    "## 五、更新历史\n",
    "\n",
    "* 1.0.0\n",
    "\n",
    "  初始发布\n",
    "\n",
    "* 1.0.2\n",
    "\n",
    "  修复numpy数据读取问题\n",
    "\n",
    "* 1.0.3\n",
    "\n",
    "  移除 fluid api\n",
    "\n",
    "* 1.1.0\n",
    "\n",
    "   修复推理模型无法导出的问题\n",
    "\n",
    "  - ```shell\n",
    "    $ hub install yolov3_darknet53_vehicles==1.1.0\n",
    "    ```"
   ]
  }
 ],
 "metadata": {
  "colab": {
   "name": "yolov3_darknet53_vehicles",
   "toc_visible": true
  },
  "kernelspec": {
   "display_name": "python3",
   "name": "python3"
  }
 },
 "nbformat": 4,
 "nbformat_minor": 5
}
