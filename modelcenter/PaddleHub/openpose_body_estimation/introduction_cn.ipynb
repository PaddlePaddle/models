{
 "cells": [
  {
   "cell_type": "markdown",
   "id": "00339c78",
   "metadata": {
    "id": "openpose_body_estimation"
   },
   "source": [
    "# openpose_body_estimation\n",
    "\n",
    "| 模型名称            |  openpose_body_estimation  |\n",
    "| :------------------ | :------------------------: |\n",
    "| 类别                |      图像-关键点检测       |\n",
    "| 网络                | two-branch multi-stage CNN |\n",
    "| 数据集              |      MPII, COCO 2016       |\n",
    "| 是否支持Fine-tuning |             否             |\n",
    "| 模型大小            |            185M            |\n",
    "| 最新更新日期        |         2021-06-28         |\n",
    "| 数据指标            |             -              |"
   ]
  },
  {
   "cell_type": "markdown",
   "id": "5f1396b7",
   "metadata": {
    "id": "一-模型基本信息"
   },
   "source": [
    "## 一、模型基本信息\n",
    "\n",
    "- ### 应用效果展示\n",
    "  - 人体关键点（左）、模型预测效果（右）\n",
    "\n",
    "    <p align=\"center\">\n",
    "    <img src=\"https://user-images.githubusercontent.com/76040149/133232647-011528a1-32f3-416f-a618-17ffbeba6bab.png\" height=\"300\" hspace=\"10\"/> <img src=\"https://user-images.githubusercontent.com/76040149/133232724-30979d86-8688-483e-abc3-a9159695a56c.png\" height=\"300\" hspace=\"10\"/>\n",
    "    </p>\n",
    "\n",
    "- ### 模型介绍\n",
    "  - openpose_body_estimation是基于'Realtime Multi-Person 2D Pose Estimation using Part Affinity Fields'构建的用于肢体关键点检测的模型，该模型可以与openpose_hands_estimation模型联合使用检测肢体和手部关键点。"
   ]
  },
  {
   "cell_type": "markdown",
   "id": "e01b7f61",
   "metadata": {
    "id": "二-安装"
   },
   "source": [
    "## 二、安装\n",
    "\n",
    "- ### 1、环境依赖\n",
    "\n",
    "  - paddlepaddle >= 2.0.0\n",
    "\n",
    "  - paddlehub >= 2.0.0    | [如何安装PaddleHub](../../../../docs/docs_ch/get_start/installation.rst)\n",
    "\n",
    "- ### 2、安装\n",
    "\n",
    "  - ```shell\n",
    "    $ hub install openpose_body_estimation\n",
    "    ```\n",
    "\n",
    "  - 如您安装时遇到问题，可参考：[零基础windows安装](../../../../docs/docs_ch/get_start/windows_quickstart.md)\n",
    "   | [零基础Linux安装](../../../../docs/docs_ch/get_start/linux_quickstart.md) | [零基础MacOS安装](../../../../docs/docs_ch/get_start/mac_quickstart.md)"
   ]
  },
  {
   "cell_type": "markdown",
   "id": "00788875",
   "metadata": {
    "id": "三-模型api预测"
   },
   "source": [
    "## 三、模型API预测\n",
    "\n",
    "- ### 1、命令行预测\n",
    "\n",
    "  - ```shell\n",
    "    $ hub run openpose_body_estimation --input_path \"/PATH/TO/IMAGE\"\n",
    "    ```\n",
    "\n",
    "  - 通过命令行方式实现hub模型的调用，更多请见 [PaddleHub命令行指令](../../../../docs/docs_ch/tutorial/cmd_usage.rst)\n",
    "\n",
    "- ### 2、预测代码示例\n",
    "\n",
    "  - ```python\n",
    "    import paddlehub as hub\n",
    "\n",
    "    model = hub.Module(name='openpose_body_estimation')\n",
    "    result = model.predict('/PATH/TO/IMAGE')\n",
    "    model.save_inference_model('/PATH/TO/SAVE/MODEL')\n",
    "\n",
    "    # PaddleHub示例图片下载方法：\n",
    "    # wget https://paddlehub.bj.bcebos.com/resources/test_image.jpg\n",
    "    ```\n",
    "\n",
    "- ### 3、API\n",
    "\n",
    "  - ```python\n",
    "    def __init__(self, load_checkpoint: str = None):\n",
    "    ```\n",
    "\n",
    "    - 模型初始化函数\n",
    "    - **参数**\n",
    "      - load_checkpoint(str): 肢体检测模型，用户可以指定自己的模型地址。 默认为None时，会使用PaddleHub提供的默认模型。\n",
    "\n",
    "  - ```python\n",
    "    def predict(self,\n",
    "                img,\n",
    "                save_path='openpose_body',\n",
    "                visualization=True):\n",
    "    ```\n",
    "\n",
    "    - 识别输入图片中的所有人肢体关键点。\n",
    "    - **参数**\n",
    "      - img (numpy.ndarray|str): 图片数据，使用图片路径或者输入numpy.ndarray，BGR格式；\n",
    "      - save_path (str): 图片保存路径， 默认为'openpose_body'；\n",
    "      - visualization (bool): 是否将识别结果保存为图片文件；\n",
    "    - **返回**\n",
    "      - res (dict): 识别结果的列表，列表元素为 dict, 有以下两个字段：\n",
    "        - data : 可视化图片内容(numpy.ndarray，BGR格式);\n",
    "        - candidate: 图片中所有肢体关键点坐标;\n",
    "        - subset: 不同的人不同关键点对应的关键点坐标的索引。\n",
    "\n",
    "  - ```python\n",
    "    def save_inference_model(save_dir):\n",
    "    ```\n",
    "\n",
    "    - 将模型保存到指定路径。\n",
    "    - **参数**\n",
    "      - save_dir(str): 存在模型的目录名称。"
   ]
  },
  {
   "cell_type": "markdown",
   "id": "75b1dcfa",
   "metadata": {
    "id": "四-服务部署"
   },
   "source": [
    "## 四、服务部署\n",
    "\n",
    "- PaddleHub Serving可以部署一个在线肢体关键点检测服务。\n",
    "\n",
    "- ### 第一步：启动PaddleHub Serving\n",
    "\n",
    "  - 运行启动命令：\n",
    "  - ```shell\n",
    "    $ hub serving start -m openpose_body_estimation -p 8866\n",
    "    ```\n",
    "\n",
    "  - 这样就完成了一个肢体关键点服务化API的部署，默认端口号为8866。\n",
    "\n",
    "  - **NOTE:** 如使用GPU预测，则需要在启动服务之前，请设置CUDA\\_VISIBLE\\_DEVICES环境变量，否则不用设置。\n",
    "\n",
    "- ### 第二步：发送预测请求\n",
    "\n",
    "  - 配置好服务端，以下数行代码即可实现发送预测请求，获取预测结果\n",
    "\n",
    "  - ```python\n",
    "    import requests\n",
    "    import json\n",
    "    import cv2\n",
    "    import base64\n",
    "\n",
    "    import numpy as np\n",
    "\n",
    "    def cv2_to_base64(image):\n",
    "        data = cv2.imencode('.jpg', image)[1]\n",
    "        return base64.b64encode(data.tostring()).decode('utf8')\n",
    "\n",
    "    def base64_to_cv2(b64str):\n",
    "        data = base64.b64decode(b64str.encode('utf8'))\n",
    "        data = np.fromstring(data, np.uint8)\n",
    "        data = cv2.imdecode(data, cv2.IMREAD_COLOR)\n",
    "        return data\n",
    "\n",
    "    # 发送HTTP请求\n",
    "    org_im = cv2.imread('/PATH/TO/IMAGE')\n",
    "    data = {'images':[cv2_to_base64(org_im)]}\n",
    "    headers = {\"Content-type\": \"application/json\"}\n",
    "    url = \"http://127.0.0.1:8866/predict/openpose_body_estimation\"\n",
    "    r = requests.post(url=url, headers=headers, data=json.dumps(data))\n",
    "\n",
    "    canvas = base64_to_cv2(r.json()[\"results\"]['data'])\n",
    "    cv2.imwrite('keypoint_body.png', canvas)\n",
    "    ```"
   ]
  },
  {
   "cell_type": "markdown",
   "id": "b62499d3",
   "metadata": {
    "id": "五-更新历史"
   },
   "source": [
    "## 五、更新历史\n",
    "\n",
    "* 1.0.0\n",
    "\n",
    "  初始发布\n",
    "\n",
    "* 1.1.0\n",
    "\n",
    "  * ```shell\n",
    "    $ hub install openpose_body_estimation==1.1.0\n",
    "    ```"
   ]
  }
 ],
 "metadata": {
  "colab": {
   "name": "openpose_body_estimation",
   "toc_visible": true
  },
  "kernelspec": {
   "display_name": "python3",
   "name": "python3"
  }
 },
 "nbformat": 4,
 "nbformat_minor": 5
}
