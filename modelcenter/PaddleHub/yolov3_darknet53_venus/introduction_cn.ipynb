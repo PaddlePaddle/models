{
 "cells": [
  {
   "cell_type": "markdown",
   "id": "7df095d2",
   "metadata": {
    "id": "yolov3_darknet53_venus"
   },
   "source": [
    "# yolov3_darknet53_venus\n",
    "\n",
    "|模型名称|yolov3_darknet53_venus|\n",
    "| :--- | :---: |\n",
    "|类别|图像 - 目标检测|\n",
    "|网络|YOLOv3|\n",
    "|数据集|百度自建数据集|\n",
    "|是否支持Fine-tuning|是|\n",
    "|模型大小|501MB|\n",
    "|最新更新日期|2021-02-26|\n",
    "|数据指标|-|"
   ]
  },
  {
   "cell_type": "markdown",
   "id": "4ff82695",
   "metadata": {
    "id": "一-模型基本信息"
   },
   "source": [
    "## 一、模型基本信息\n",
    "\n",
    "- ### 模型介绍\n",
    "\n",
    "  - YOLOv3是由Joseph Redmon和Ali Farhadi提出的单阶段检测器, 该检测器与达到同样精度的传统目标检测方法相比，推断速度能达到接近两倍。 YOLOv3将输入图像划分格子，并对每个格子预测bounding box。YOLOv3的loss函数由三部分组成：Location误差，Confidence误差和分类误差。该PaddleHub Module是由800+tag,170w图片，1000w+检测框训练的大规模通用检测模型，在8个数据集上MAP平均提升5.36%，iou=0.5的准确率提升4.53%。对比于其他通用检测模型，使用该Module进行finetune，可以更快收敛，达到较优效果。"
   ]
  },
  {
   "cell_type": "markdown",
   "id": "a3b6aaa8",
   "metadata": {
    "id": "二-安装"
   },
   "source": [
    "## 二、安装\n",
    "\n",
    "- ### 1、环境依赖\n",
    "\n",
    "  - paddlepaddle >= 1.6.2\n",
    "\n",
    "  - paddlehub >= 1.6.0  | [如何安装paddlehub](../../../../docs/docs_ch/get_start/installation.rst)\n",
    "\n",
    "- ### 2、安装\n",
    "\n",
    "  - ```shell\n",
    "    $ hub install yolov3_darknet53_venus\n",
    "    ```\n",
    "  - 如您安装时遇到问题，可参考：[零基础windows安装](../../../../docs/docs_ch/get_start/windows_quickstart.md)\n",
    " | [零基础Linux安装](../../../../docs/docs_ch/get_start/linux_quickstart.md) | [零基础MacOS安装](../../../../docs/docs_ch/get_start/mac_quickstart.md)"
   ]
  },
  {
   "cell_type": "markdown",
   "id": "450f001a",
   "metadata": {
    "id": "三-模型api预测"
   },
   "source": [
    "## 三、模型API预测\n",
    "\n",
    "- ### 1、API\n",
    "\n",
    "  - ```python\n",
    "    def context(trainable=True,\n",
    "                pretrained=True,\n",
    "                get_prediction=False)\n",
    "    ```\n",
    "\n",
    "    - 提取特征，用于迁移学习。\n",
    "\n",
    "    - **参数**\n",
    "\n",
    "      - trainable(bool): 参数是否可训练；<br/>\n",
    "      - pretrained (bool): 是否加载预训练模型；<br/>\n",
    "      - get\\_prediction (bool): 是否执行预测。\n",
    "\n",
    "    - **返回**\n",
    "      - inputs (dict): 模型的输入，keys 包括 'image', 'im\\_size'，相应的取值为：\n",
    "        - image (Variable): 图像变量\n",
    "        - im\\_size (Variable): 图片的尺寸\n",
    "      - outputs (dict): 模型的输出。如果 get\\_prediction 为 False，输出 'head\\_features'、'body\\_features'，否则输出 'bbox\\_out'\n",
    "      - context\\_prog (Program): 用于迁移学习的 Program\n",
    "\n",
    "  - ```python\n",
    "    def save_inference_model(dirname,\n",
    "                             model_filename=None,\n",
    "                             params_filename=None,\n",
    "                             combined=True)\n",
    "    ```\n",
    "    - 将模型保存到指定路径。\n",
    "\n",
    "    - **参数**\n",
    "\n",
    "      - dirname: 存在模型的目录名称； <br/>\n",
    "      - model\\_filename: 模型文件名称，默认为\\_\\_model\\_\\_； <br/>\n",
    "      - params\\_filename: 参数文件名称，默认为\\_\\_params\\_\\_(仅当`combined`为True时生效)；<br/>\n",
    "      - combined: 是否将参数保存到统一的一个文件中。"
   ]
  },
  {
   "cell_type": "markdown",
   "id": "31941ca5",
   "metadata": {
    "id": "四-更新历史"
   },
   "source": [
    "## 四、更新历史\n",
    "\n",
    "* 1.0.0\n",
    "\n",
    "  初始发布\n",
    "  - ```shell\n",
    "    $ hub install yolov3_darknet53_venus==1.0.0\n",
    "    ```"
   ]
  }
 ],
 "metadata": {
  "colab": {
   "name": "yolov3_darknet53_venus",
   "toc_visible": true
  },
  "kernelspec": {
   "display_name": "python3",
   "name": "python3"
  }
 },
 "nbformat": 4,
 "nbformat_minor": 5
}
