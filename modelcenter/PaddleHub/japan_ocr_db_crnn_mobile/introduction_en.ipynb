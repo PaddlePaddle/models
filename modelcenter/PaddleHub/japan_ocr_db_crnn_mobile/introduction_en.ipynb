{
 "cells": [
  {
   "cell_type": "markdown",
   "id": "2542ec13",
   "metadata": {
    "id": "japan_ocr_db_crnn_mobile"
   },
   "source": [
    "# japan_ocr_db_crnn_mobile\n",
    "\n",
    "|Module Name|japan_ocr_db_crnn_mobile|\n",
    "| :--- | :---: |\n",
    "|Category|text recognition|\n",
    "|Network|Differentiable Binarization+CRNN|\n",
    "|Dataset|icdar2015Dataset|\n",
    "|Fine-tuning supported or not|No|\n",
    "|Module Size|8MB|\n",
    "|Latest update date|2021-04-15|\n",
    "|Data indicators|-|"
   ]
  },
  {
   "cell_type": "markdown",
   "id": "e04692d7",
   "metadata": {
    "id": "i-basic-information"
   },
   "source": [
    "## I.Basic Information\n",
    "\n",
    "- ### Application Effect Display\n",
    "  - Sample results：\n",
    "    <p align=\"center\">\n",
    "    <img src=\"https://user-images.githubusercontent.com/22424850/133761650-91f24c1e-f437-47b1-8cfb-a074e7150ff5.jpg\" width=\"80%\" hspace=\"10\"/> <br/>\n",
    "    </p>\n",
    "\n",
    "- ### Module Introduction\n",
    "\n",
    "  - japan_ocr_db_crnn_mobile Module is used to identify Japanese characters in pictures. It first obtains the text box detected by [chinese_text_detection_db_mobile Module](), then identifies the Japanese characters and carries out angle classification to these text boxes. CRNN(Convolutional Recurrent Neural Network) is adopted as the final recognition algorithm. This Module is an ultra-lightweight Japanese OCR model that supports direct prediction."
   ]
  },
  {
   "cell_type": "markdown",
   "id": "84f1216f",
   "metadata": {
    "id": "ii-installation"
   },
   "source": [
    "## II.Installation\n",
    "\n",
    "- ### 1、Environmental Dependence\n",
    "\n",
    "  - paddlepaddle >= 1.8.0\n",
    "\n",
    "  - paddlehub >= 1.8.0    | [How to install PaddleHub](../../../../docs/docs_en/get_start/installation.rst)\n",
    "\n",
    "  - shapely\n",
    "\n",
    "  - pyclipper\n",
    "\n",
    "  - ```shell\n",
    "    $ pip install shapely pyclipper\n",
    "    ```\n",
    "  - **This Module relies on the third-party libraries, shapely and pyclipper. Please install shapely and pyclipper before using this Module.**\n",
    "\n",
    "- ### 2、Installation\n",
    "\n",
    "  - ```shell\n",
    "    $ hub install japan_ocr_db_crnn_mobile\n",
    "    ```\n",
    "  - In case of any problems during installation, please refer to: [Windows_Quickstart](../../../../docs/docs_en/get_start/windows_quickstart.md) | [Linux_Quickstart](../../../../docs/docs_en/get_start/linux_quickstart.md) | [Mac_Quickstart](../../../../docs/docs_en/get_start/mac_quickstart.md)"
   ]
  },
  {
   "cell_type": "markdown",
   "id": "b6acf6af",
   "metadata": {
    "id": "iii-module-api-prediction"
   },
   "source": [
    "## III.Module API Prediction\n",
    "\n",
    "- ### 1、Command line Prediction\n",
    "\n",
    "  - ```shell\n",
    "    $ hub run japan_ocr_db_crnn_mobile --input_path \"/PATH/TO/IMAGE\"\n",
    "    ```\n",
    "  - If you want to call the Hub module through the command line, please refer to: [PaddleHub Command Line Instruction](../../../../docs/docs_ch/tutorial/cmd_usage.rst)\n",
    "\n",
    "- ### 2、Prediction Code Example\n",
    "\n",
    "  - ```python\n",
    "    import paddlehub as hub\n",
    "    import cv2\n",
    "\n",
    "    ocr = hub.Module(name=\"japan_ocr_db_crnn_mobile\", enable_mkldnn=True)    # MKLDNN acceleration is only available on CPU\n",
    "    result = ocr.recognize_text(images=[cv2.imread('/PATH/TO/IMAGE')])\n",
    "\n",
    "    # or\n",
    "    # result = ocr.recognize_text(paths=['/PATH/TO/IMAGE'])\n",
    "    ```\n",
    "\n",
    "- ### 3、API\n",
    "\n",
    "  - ```python\n",
    "    def __init__(text_detector_module=None, enable_mkldnn=False)\n",
    "    ```\n",
    "    - Construct the JapanOCRDBCRNNMobile object\n",
    "    - **Parameters**\n",
    "      - text_detector_module(str): Name of text detection module in PaddleHub Module, if set to None, [chinese_text_detection_db_mobile Module]() will be used by default. It serves to detect the text in the picture.\n",
    "      - enable_mkldnn(bool): Whether to enable MKLDNN for CPU computing acceleration. This parameter is valid only when the CPU is running. The default is False.\n",
    "\n",
    "  - ```python\n",
    "    def recognize_text(images=[],\n",
    "                       paths=[],\n",
    "                       use_gpu=False,\n",
    "                       output_dir='ocr_result',\n",
    "                       visualization=False,\n",
    "                       box_thresh=0.5,\n",
    "                       text_thresh=0.5,\n",
    "                       angle_classification_thresh=0.9)\n",
    "    ```\n",
    "\n",
    "    - Prediction API, detecting the position of all Japanese text in the input image.\n",
    "    - **Parameter**\n",
    "      - paths (list[str]): image path\n",
    "      - images (list[numpy.ndarray]): image data, ndarray.shape is in the format [H, W, C], BGR;\n",
    "      - use_gpu (bool): use GPU or not; **set the CUDA_VISIBLE_DEVICES environment variable first if you are using GPU**\n",
    "      - box_thresh (float): The confidence threshold for text box detection;\n",
    "      - text_thresh (float): The confidence threshold for Japanese text recognition;\n",
    "      - angle_classification_thresh(float): The confidence threshold for text angle classification\n",
    "      - visualization (bool): Whether to save the results as picture files;\n",
    "      - output_dir (str): save path of images;\n",
    "    - **Return**\n",
    "      - res (list[dict]): The list of recognition results, where each element is dict and each field is:\n",
    "        - data (list[dict]): recognition results, each element in the list is dict and each field is:\n",
    "          - text(str): Recognized texts\n",
    "          - confidence(float): The confidence of the results\n",
    "          - text_box_position(list): The pixel coordinates of the text box in the original picture, a 4*2 matrix representing the coordinates of the lower left, lower right, upper right and upper left vertices of the text box in turn, data is [] if there's no result\n",
    "        - save_path (str, optional): Save path of the result, save_path is '' if no image is saved."
   ]
  },
  {
   "cell_type": "markdown",
   "id": "b00e52f6",
   "metadata": {
    "id": "iv-server-deployment"
   },
   "source": [
    "## IV.Server Deployment\n",
    "\n",
    "- PaddleHub Serving can deploy an online service of text recognition.\n",
    "\n",
    "- ### Step 1: Start PaddleHub Serving\n",
    "\n",
    "  - Run the startup command：\n",
    "  - ```shell\n",
    "    $ hub serving start -m japan_ocr_db_crnn_mobile\n",
    "    ```\n",
    "\n",
    "  - The servitization API is now deployed and the default port number is 8866.\n",
    "\n",
    "  - **NOTE:**  If GPU is used for prediction, set CUDA_VISIBLE_DEVICES environment variable before the service, otherwise it need not be set.\n",
    "\n",
    "- ### Step 2: Send a predictive request\n",
    "\n",
    "  - With a configured server, use the following lines of code to send the prediction request and obtain the result\n",
    "\n",
    "  - ```python\n",
    "    import requests\n",
    "    import json\n",
    "    import cv2\n",
    "    import base64\n",
    "\n",
    "    def cv2_to_base64(image):\n",
    "        data = cv2.imencode('.jpg', image)[1]\n",
    "        return base64.b64encode(data.tostring()).decode('utf8')\n",
    "\n",
    "    # Send an HTTP request\n",
    "    data = {'images':[cv2_to_base64(cv2.imread(\"/PATH/TO/IMAGE\"))]}\n",
    "    headers = {\"Content-type\": \"application/json\"}\n",
    "    url = \"http://127.0.0.1:8866/predict/japan_ocr_db_crnn_mobile\"\n",
    "    r = requests.post(url=url, headers=headers, data=json.dumps(data))\n",
    "\n",
    "    # print prediction results\n",
    "    print(r.json()[\"results\"])\n",
    "    ```"
   ]
  },
  {
   "cell_type": "markdown",
   "id": "d2651053",
   "metadata": {
    "id": "v-release-note"
   },
   "source": [
    "## V.Release Note\n",
    "\n",
    "* 1.0.0\n",
    "\n",
    "  First release\n",
    "\n",
    "  - ```shell\n",
    "    $ hub install japan_ocr_db_crnn_mobile==1.0.0\n",
    "    ```"
   ]
  }
 ],
 "metadata": {
  "colab": {
   "name": "japan_ocr_db_crnn_mobile",
   "toc_visible": true
  },
  "kernelspec": {
   "display_name": "python3",
   "name": "python3"
  }
 },
 "nbformat": 4,
 "nbformat_minor": 5
}
