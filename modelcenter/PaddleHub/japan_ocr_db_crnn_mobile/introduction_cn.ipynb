{
 "cells": [
  {
   "cell_type": "markdown",
   "id": "b36b521d",
   "metadata": {
    "id": "japan_ocr_db_crnn_mobile"
   },
   "source": [
    "# japan_ocr_db_crnn_mobile\n",
    "\n",
    "|模型名称|japan_ocr_db_crnn_mobile|\n",
    "| :--- | :---: |\n",
    "|类别|图像-文字识别|\n",
    "|网络|Differentiable Binarization+CRNN|\n",
    "|数据集|icdar2015数据集|\n",
    "|是否支持Fine-tuning|否|\n",
    "|模型大小|8MB|\n",
    "|最新更新日期|2021-04-15|\n",
    "|数据指标|-|"
   ]
  },
  {
   "cell_type": "markdown",
   "id": "90be26c1",
   "metadata": {
    "id": "一-模型基本信息"
   },
   "source": [
    "## 一、模型基本信息\n",
    "\n",
    "- ### 应用效果展示\n",
    "  - 样例结果示例：\n",
    "    <p align=\"center\">\n",
    "    <img src=\"https://user-images.githubusercontent.com/22424850/133761650-91f24c1e-f437-47b1-8cfb-a074e7150ff5.jpg\" width=\"80%\" hspace=\"10\"/> <br/>\n",
    "    </p>\n",
    "\n",
    "- ### 模型介绍\n",
    "\n",
    "  - japan_ocr_db_crnn_mobile Module用于识别图片当中的日文。其基于chinese_text_detection_db_mobile检测得到的文本框，继续识别文本框中的日文文字。最终识别文字算法采用CRNN（Convolutional Recurrent Neural Network）即卷积递归神经网络。其是DCNN和RNN的组合，专门用于识别图像中的序列式对象。与CTC loss配合使用，进行文字识别，可以直接从文本词级或行级的标注中学习，不需要详细的字符级的标注。该Module是一个识别日文的轻量级OCR模型，支持直接预测。"
   ]
  },
  {
   "cell_type": "markdown",
   "id": "f5e6a193",
   "metadata": {
    "id": "二-安装"
   },
   "source": [
    "## 二、安装\n",
    "\n",
    "- ### 1、环境依赖\n",
    "\n",
    "  - paddlepaddle >= 2.0.2\n",
    "\n",
    "  - paddlehub >= 2.0.0   | [如何安装paddlehub](../../../../docs/docs_ch/get_start/installation.rst)\n",
    "\n",
    "- ### 2、安装\n",
    "\n",
    "  - ```shell\n",
    "    $ hub install japan_ocr_db_crnn_mobile\n",
    "    ```\n",
    "  - 如您安装时遇到问题，可参考：[零基础windows安装](../../../../docs/docs_ch/get_start/windows_quickstart.md)\n",
    " | [零基础Linux安装](../../../../docs/docs_ch/get_start/linux_quickstart.md) | [零基础MacOS安装](../../../../docs/docs_ch/get_start/mac_quickstart.md)"
   ]
  },
  {
   "cell_type": "markdown",
   "id": "06f4b927",
   "metadata": {
    "id": "三-模型api预测"
   },
   "source": [
    "## 三、模型API预测\n",
    "\n",
    "- ### 1、命令行预测\n",
    "\n",
    "  - ```shell\n",
    "    $ hub run japan_ocr_db_crnn_mobile --input_path \"/PATH/TO/IMAGE\"\n",
    "    ```\n",
    "  - 通过命令行方式实现文字识别模型的调用，更多请见 [PaddleHub命令行指令](../../../../docs/docs_ch/tutorial/cmd_usage.rst)\n",
    "\n",
    "- ### 2、预测代码示例\n",
    "\n",
    "  - ```python\n",
    "    import paddlehub as hub\n",
    "    import cv2\n",
    "\n",
    "    ocr = hub.Module(name=\"japan_ocr_db_crnn_mobile\", enable_mkldnn=True)       # mkldnn加速仅在CPU下有效\n",
    "    result = ocr.recognize_text(images=[cv2.imread('/PATH/TO/IMAGE')])\n",
    "\n",
    "    # or\n",
    "    # result = ocr.recognize_text(paths=['/PATH/TO/IMAGE'])\n",
    "    ```\n",
    "\n",
    "- ### 3、API\n",
    "\n",
    "  - ```python\n",
    "    def __init__(text_detector_module=None, enable_mkldnn=False)\n",
    "    ```\n",
    "\n",
    "    - 构造JapanOCRDBCRNNMobile对象\n",
    "\n",
    "    - **参数**\n",
    "\n",
    "      - text_detector_module(str): 文字检测PaddleHub Module名字，如设置为None，则默认使用[chinese_text_detection_db_mobile Module](../chinese_text_detection_db_mobile/)。其作用为检测图片当中的文本。<br/>\n",
    "      - enable_mkldnn(bool): 是否开启mkldnn加速CPU计算。该参数仅在CPU运行下设置有效。默认为False。\n",
    "\n",
    "  - ```python\n",
    "    def recognize_text(images=[],\n",
    "                       paths=[],\n",
    "                       use_gpu=False,\n",
    "                       output_dir='ocr_result',\n",
    "                       visualization=False,\n",
    "                       box_thresh=0.5,\n",
    "                       text_thresh=0.5,\n",
    "                       angle_classification_thresh=0.9)\n",
    "    ```\n",
    "\n",
    "    - 预测API，检测输入图片中的所有日文文本的位置。\n",
    "\n",
    "    - **参数**\n",
    "\n",
    "      - paths (list\\[str\\]): 图片的路径； <br/>\n",
    "      - images (list\\[numpy.ndarray\\]): 图片数据，ndarray.shape 为 \\[H, W, C\\]，BGR格式； <br/>\n",
    "      - use\\_gpu (bool): 是否使用 GPU；**若使用GPU，请先设置CUDA_VISIBLE_DEVICES环境变量** <br/>\n",
    "      - output\\_dir (str): 图片的保存路径，默认设为 ocr\\_result； <br/>\n",
    "      - box\\_thresh (float): 检测文本框置信度的阈值； <br/>\n",
    "      - text\\_thresh (float): 识别日文文本置信度的阈值； <br/>\n",
    "      - angle_classification_thresh(float): 文本角度分类置信度的阈值 <br/>\n",
    "      - visualization (bool): 是否将识别结果保存为图片文件。\n",
    "\n",
    "    - **返回**\n",
    "\n",
    "      - res (list\\[dict\\]): 识别结果的列表，列表中每一个元素为 dict，各字段为：\n",
    "        - data (list\\[dict\\]): 识别文本结果，列表中每一个元素为 dict，各字段为：\n",
    "          - text(str): 识别得到的文本\n",
    "          - confidence(float): 识别文本结果置信度\n",
    "          - text_box_position(list): 文本框在原图中的像素坐标，4*2的矩阵，依次表示文本框左下、右下、右上、左上顶点的坐标\n",
    "      如果无识别结果则data为\\[\\]\n",
    "        - save_path (str, optional): 识别结果的保存路径，如不保存图片则save_path为''"
   ]
  },
  {
   "cell_type": "markdown",
   "id": "0e7bf04f",
   "metadata": {
    "id": "四-服务部署"
   },
   "source": [
    "## 四、服务部署\n",
    "\n",
    "- PaddleHub Serving 可以部署一个目标检测的在线服务。\n",
    "\n",
    "- ### 第一步：启动PaddleHub Serving\n",
    "\n",
    "  - 运行启动命令：\n",
    "  - ```shell\n",
    "    $ hub serving start -m japan_ocr_db_crnn_mobile\n",
    "    ```\n",
    "\n",
    "  - 这样就完成了一个目标检测的服务化API的部署，默认端口号为8866。\n",
    "\n",
    "  - **NOTE:** 如使用GPU预测，则需要在启动服务之前，请设置CUDA\\_VISIBLE\\_DEVICES环境变量，否则不用设置。\n",
    "\n",
    "- ### 第二步：发送预测请求\n",
    "\n",
    "  - 配置好服务端，以下数行代码即可实现发送预测请求，获取预测结果\n",
    "\n",
    "  - ```python\n",
    "    import requests\n",
    "    import json\n",
    "    import cv2\n",
    "    import base64\n",
    "\n",
    "    def cv2_to_base64(image):\n",
    "        data = cv2.imencode('.jpg', image)[1]\n",
    "        return base64.b64encode(data.tostring()).decode('utf8')\n",
    "\n",
    "    # 发送HTTP请求\n",
    "    data = {'images':[cv2_to_base64(cv2.imread(\"/PATH/TO/IMAGE\"))]}\n",
    "    headers = {\"Content-type\": \"application/json\"}\n",
    "    url = \"http://127.0.0.1:8866/predict/japan_ocr_db_crnn_mobile\"\n",
    "    r = requests.post(url=url, headers=headers, data=json.dumps(data))\n",
    "\n",
    "    # 打印预测结果\n",
    "    print(r.json()[\"results\"])\n",
    "    ```"
   ]
  },
  {
   "cell_type": "markdown",
   "id": "c61c4332",
   "metadata": {
    "id": "五-更新历史"
   },
   "source": [
    "## 五、更新历史\n",
    "\n",
    "* 1.0.0\n",
    "\n",
    "  初始发布\n",
    "\n",
    "* 1.1.0\n",
    "\n",
    "  优化模型\n",
    "  - ```shell\n",
    "    $ hub install japan_ocr_db_crnn_mobile==1.1.0\n",
    "    ```"
   ]
  }
 ],
 "metadata": {
  "colab": {
   "name": "japan_ocr_db_crnn_mobile",
   "toc_visible": true
  },
  "kernelspec": {
   "display_name": "python3",
   "name": "python3"
  }
 },
 "nbformat": 4,
 "nbformat_minor": 5
}
