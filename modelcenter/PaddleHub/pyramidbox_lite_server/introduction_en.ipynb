{
 "cells": [
  {
   "cell_type": "markdown",
   "id": "e2d30107",
   "metadata": {
    "id": "pyramidbox_lite_server"
   },
   "source": [
    "# pyramidbox_lite_server\n",
    "\n",
    "|Module Name|pyramidbox_lite_server|\n",
    "| :--- | :---: |\n",
    "|Category|face detection|\n",
    "|Network|PyramidBox|\n",
    "|Dataset|WIDER FACEDataset + Baidu Face Dataset|\n",
    "|Fine-tuning supported or not|No|\n",
    "|Module Size|8MB|\n",
    "|Latest update date|2021-02-26|\n",
    "|Data indicators|-|"
   ]
  },
  {
   "cell_type": "markdown",
   "id": "651c047a",
   "metadata": {
    "id": "i-basic-information"
   },
   "source": [
    "## I.Basic Information\n",
    "\n",
    "- ### Application Effect Display\n",
    "  - Sample results：\n",
    "    <p align=\"center\">\n",
    "    <img src=\"https://user-images.githubusercontent.com/22424850/131602468-351eb3fb-81e3-4294-ac8e-b49a3a0232cb.jpg\" width=\"50%\" hspace=\"10\"/>\n",
    "    <br/>\n",
    "    </p>\n",
    "\n",
    "- ### Module Introduction\n",
    "\n",
    "  - PyramidBox-Lite is a light-weight model based  on PyramidBox proposed by Baidu in ECCV 2018. This model has solid robustness against interferences such as light and scale variation. This module is based on PyramidBox, trained on WIDER FACE Dataset and Baidu Face Dataset, and can be used for face detection."
   ]
  },
  {
   "cell_type": "markdown",
   "id": "3149fe59",
   "metadata": {
    "id": "ii-installation"
   },
   "source": [
    "## II.Installation\n",
    "\n",
    "- ### 1、Environmental Dependence\n",
    "\n",
    "  - paddlepaddle >= 1.6.2\n",
    "\n",
    "  - paddlehub >= 1.6.0  | [How to install PaddleHub](../../../../docs/docs_en/get_start/installation.rst)\n",
    "\n",
    "- ### 2、Installation\n",
    "\n",
    "  - ```shell\n",
    "    $ hub install pyramidbox_lite_server\n",
    "    ```\n",
    "  - In case of any problems during installation, please refer to: [Windows_Quickstart](../../../../docs/docs_en/get_start/windows_quickstart.md) | [Linux_Quickstart](../../../../docs/docs_en/get_start/linux_quickstart.md) | [Mac_Quickstart](../../../../docs/docs_en/get_start/mac_quickstart.md)"
   ]
  },
  {
   "cell_type": "markdown",
   "id": "e6fa697d",
   "metadata": {
    "id": "iii-module-api-prediction"
   },
   "source": [
    "## III.Module API Prediction\n",
    "\n",
    "- ### 1、Command line Prediction\n",
    "\n",
    "  - ```shell\n",
    "    $ hub run pyramidbox_lite_server --input_path \"/PATH/TO/IMAGE\"\n",
    "    ```\n",
    "  - If you want to call the Hub module through the command line, please refer to: [PaddleHub Command Line Instruction](../../../../docs/docs_ch/tutorial/cmd_usage.rst)\n",
    "\n",
    "- ### 2、Prediction Code Example\n",
    "\n",
    "  - ```python\n",
    "    import paddlehub as hub\n",
    "    import cv2\n",
    "\n",
    "    face_detector = hub.Module(name=\"pyramidbox_lite_server\")\n",
    "    result = face_detector.face_detection(images=[cv2.imread('/PATH/TO/IMAGE')])\n",
    "    # or\n",
    "    # result = face_detector.face_detection(paths=['/PATH/TO/IMAGE'])\n",
    "    ```\n",
    "\n",
    "- ### 3、API\n",
    "\n",
    "  - ```python\n",
    "    def face_detection(images=None,\n",
    "                       paths=None,\n",
    "                       use_gpu=False,\n",
    "                       output_dir='detection_result',\n",
    "                       visualization=False,\n",
    "                       shrink=0.5,\n",
    "                       confs_threshold=0.6)\n",
    "    ```\n",
    "\n",
    "    - Detect all faces in image\n",
    "\n",
    "    - **Parameters**\n",
    "\n",
    "      - images (list\\[numpy.ndarray\\]): image data, ndarray.shape is in the format [H, W, C], BGR;\n",
    "      - paths (list[str]): image path;\n",
    "      - use_gpu (bool): use GPU or not; **set the CUDA_VISIBLE_DEVICES environment variable first if you are using GPU**\n",
    "      - output_dir (str): save path of images;\n",
    "      - visualization (bool): Whether to save the results as picture files;\n",
    "      - shrink (float): the scale to resize image\n",
    "      - confs\\_threshold (float): the confidence threshold\n",
    "\n",
    "      **NOTE:** choose one parameter to provide data from paths and images\n",
    "\n",
    "    - **Return**\n",
    "\n",
    "      - res (list\\[dict\\]): results\n",
    "        - path (str): path for input image\n",
    "        - data (list): detection results, each element in the list is dict\n",
    "          - confidence (float): the confidence of the result\n",
    "          - left (int): the upper left corner x coordinate of the detection box\n",
    "          - top (int): the upper left corner y coordinate of the detection box\n",
    "          - right (int): the lower right corner x coordinate of the detection box\n",
    "          - bottom (int): the lower right corner y coordinate of the detection box\n",
    "\n",
    "  - ```python\n",
    "    def save_inference_model(dirname)\n",
    "    ```\n",
    "    - Save model to specific path\n",
    "\n",
    "    - **Parameters**\n",
    "\n",
    "      - dirname: model save path"
   ]
  },
  {
   "cell_type": "markdown",
   "id": "e0dbe5cb",
   "metadata": {
    "id": "iv-server-deployment"
   },
   "source": [
    "## IV.Server Deployment\n",
    "\n",
    "- PaddleHub Serving can deploy an online service of face detection.\n",
    "\n",
    "- ### Step 1: Start PaddleHub Serving\n",
    "\n",
    "  - Run the startup command：\n",
    "  - ```shell\n",
    "    $ hub serving start -m pyramidbox_lite_server\n",
    "    ```\n",
    "\n",
    "  - The servitization API is now deployed and the default port number is 8866.\n",
    "\n",
    "  - **NOTE:**  If GPU is used for prediction, set CUDA_VISIBLE_DEVICES environment variable before the service, otherwise it need not be set.\n",
    "\n",
    "- ### Step 2: Send a predictive request\n",
    "\n",
    "  - With a configured server, use the following lines of code to send the prediction request and obtain the result\n",
    "\n",
    "  - ```python\n",
    "    import requests\n",
    "    import json\n",
    "    import cv2\n",
    "    import base64\n",
    "\n",
    "    def cv2_to_base64(image):\n",
    "      data = cv2.imencode('.jpg', image)[1]\n",
    "      return base64.b64encode(data.tostring()).decode('utf8')\n",
    "\n",
    "    # Send an HTTP request\n",
    "    data = {'images':[cv2_to_base64(cv2.imread(\"/PATH/TO/IMAGE\"))]}\n",
    "    headers = {\"Content-type\": \"application/json\"}\n",
    "    url = \"http://127.0.0.1:8866/predict/pyramidbox_lite_server\"\n",
    "    r = requests.post(url=url, headers=headers, data=json.dumps(data))\n",
    "\n",
    "    # print prediction results\n",
    "    print(r.json()[\"results\"])\n",
    "    ```"
   ]
  },
  {
   "cell_type": "markdown",
   "id": "c601f2e0",
   "metadata": {
    "id": "v-release-note"
   },
   "source": [
    "## V.Release Note\n",
    "\n",
    "* 1.0.0\n",
    "\n",
    "  First release\n",
    "\n",
    "* 1.2.0\n",
    "\n",
    "  Fix the problem of reading numpy\n",
    "\n",
    "* 1.2.1\n",
    "\n",
    "  Remove fluid api\n",
    "\n",
    "* 1.3.0\n",
    "\n",
    "  Fix a bug of save_inference_model\n",
    "\n",
    "  - ```shell\n",
    "    $ hub install pyramidbox_lite_server==1.3.0\n",
    "    ```"
   ]
  }
 ],
 "metadata": {
  "colab": {
   "name": "pyramidbox_lite_server",
   "toc_visible": true
  },
  "kernelspec": {
   "display_name": "python3",
   "name": "python3"
  }
 },
 "nbformat": 4,
 "nbformat_minor": 5
}
