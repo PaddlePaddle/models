{
 "cells": [
  {
   "cell_type": "markdown",
   "id": "086aea4e",
   "metadata": {
    "id": "概述"
   },
   "source": [
    "## 概述\n",
    "\n",
    "* 基于 SINet 模型实现的轻量化人像分割模型\n",
    "* 模型具体规格如下：\n",
    "    |model|SINet|\n",
    "    |----|----|\n",
    "    |Param|0.087 M|\n",
    "    |Flop|0.064 G|\n",
    "\n",
    "* 模型参数转换至 [ext_portrait_segmentation](https://github.com/clovaai/ext_portrait_segmentation) 项目\n",
    "* 感谢 [ext_portrait_segmentation](https://github.com/clovaai/ext_portrait_segmentation) 项目提供的开源代码和模型"
   ]
  },
  {
   "cell_type": "markdown",
   "id": "c8e4ff58",
   "metadata": {
    "id": "效果展示"
   },
   "source": [
    "## 效果展示\n",
    "\n",
    "![](https://ai-studio-static-online.cdn.bcebos.com/264c689d024942f3817bc9b290dea18812ba88e43d89457e977cd811988f0b44)"
   ]
  },
  {
   "cell_type": "markdown",
   "id": "2d43faf8",
   "metadata": {
    "id": "api"
   },
   "source": [
    "## API\n",
    "\n",
    "人像分割 API\n",
    "\n",
    "**参数**\n",
    "* images (list[np.ndarray]) : 输入图像数据列表（BGR）\n",
    "* paths (list[str]) : 输入图像路径列表\n",
    "* batch_size (int) : 数据批大小\n",
    "* output_dir (str) : 可视化图像输出目录\n",
    "* visualization (bool) : 是否可视化\n",
    "\n",
    "**返回**\n",
    "* results (list[dict{\"mask\":np.ndarray,\"result\":np.ndarray}]): 输出图像数据列表\n",
    "\n",
    "**代码示例**"
   ]
  },
  {
   "cell_type": "markdown",
   "id": "6145fbb6",
   "metadata": {
    "id": "查看代码"
   },
   "source": [
    "## 查看代码\n",
    "\n",
    "https://github.com/clovaai/ext_portrait_segmentation"
   ]
  },
  {
   "cell_type": "markdown",
   "id": "6f417444",
   "metadata": {
    "id": "依赖"
   },
   "source": [
    "## 依赖\n",
    "\n",
    "paddlepaddle >= 2.0.0rc0\n",
    "paddlehub >= 2.0.0b1"
   ]
  }
 ],
 "metadata": {
  "colab": {
   "name": "概述",
   "toc_visible": true
  },
  "kernelspec": {
   "display_name": "python3",
   "name": "python3"
  }
 },
 "nbformat": 4,
 "nbformat_minor": 5
}
