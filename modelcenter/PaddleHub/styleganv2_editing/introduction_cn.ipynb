{
 "cells": [
  {
   "cell_type": "markdown",
   "id": "d75064f5",
   "metadata": {
    "id": "styleganv2_editing"
   },
   "source": [
    "# styleganv2_editing\n",
    "\n",
    "|模型名称|styleganv2_editing|\n",
    "| :--- | :---: |\n",
    "|类别|图像 - 图像生成|\n",
    "|网络|StyleGAN V2|\n",
    "|数据集|-|\n",
    "|是否支持Fine-tuning|否|\n",
    "|模型大小|190MB|\n",
    "|最新更新日期|2021-12-15|\n",
    "|数据指标|-|"
   ]
  },
  {
   "cell_type": "markdown",
   "id": "0480d24c",
   "metadata": {
    "id": "一-模型基本信息"
   },
   "source": [
    "## 一、模型基本信息\n",
    "\n",
    "- ### 应用效果展示\n",
    "  - 样例结果示例：\n",
    "    <p align=\"center\">\n",
    "    <img src=\"https://user-images.githubusercontent.com/22424850/146483720-fb0ea3c0-b259-4ad6-b176-966675b9b164.png\" width=\"40%\" hspace=\"10\"/>\n",
    "    <br/>\n",
    "    输入图像\n",
    "    <br/>\n",
    "    <img src=\"https://user-images.githubusercontent.com/22424850/146483730-3104795e-4ee6-43de-b4dc-b7760d502b50.png\" width=\"40%\" hspace=\"10\"/>\n",
    "    <br/>\n",
    "    输出图像(修改age)\n",
    "     <br/>\n",
    "    </p>\n",
    "\n",
    "- ### 模型介绍\n",
    "\n",
    "  - StyleGAN V2 的任务是使用风格向量进行image generation，而Editing模块则是利用预先对多图的风格向量进行分类回归得到的属性操纵向量来操纵生成图像的属性。"
   ]
  },
  {
   "cell_type": "markdown",
   "id": "206007d5",
   "metadata": {
    "id": "二-安装"
   },
   "source": [
    "## 二、安装\n",
    "\n",
    "- ### 1、环境依赖\n",
    "  - ppgan\n",
    "\n",
    "- ### 2、安装\n",
    "\n",
    "  - ```shell\n",
    "    $ hub install styleganv2_editing\n",
    "    ```\n",
    "  - 如您安装时遇到问题，可参考：[零基础windows安装](../../../../docs/docs_ch/get_start/windows_quickstart.md)\n",
    " | [零基础Linux安装](../../../../docs/docs_ch/get_start/linux_quickstart.md) | [零基础MacOS安装](../../../../docs/docs_ch/get_start/mac_quickstart.md)"
   ]
  },
  {
   "cell_type": "markdown",
   "id": "3d930dcf",
   "metadata": {
    "id": "三-模型api预测"
   },
   "source": [
    "## 三、模型API预测\n",
    "\n",
    "- ### 1、命令行预测\n",
    "\n",
    "  - ```shell\n",
    "    # Read from a file\n",
    "    $ hub run styleganv2_editing --input_path \"/PATH/TO/IMAGE\" --direction_name age --direction_offset 5\n",
    "    ```\n",
    "  - 通过命令行方式实现人脸编辑模型的调用，更多请见 [PaddleHub命令行指令](../../../../docs/docs_ch/tutorial/cmd_usage.rst)\n",
    "\n",
    "- ### 2、预测代码示例\n",
    "\n",
    "  - ```python\n",
    "    import paddlehub as hub\n",
    "\n",
    "    module = hub.Module(name=\"styleganv2_editing\")\n",
    "    input_path = [\"/PATH/TO/IMAGE\"]\n",
    "    # Read from a file\n",
    "    module.generate(paths=input_path, direction_name='age', direction_offset=5, output_dir='./editing_result/', use_gpu=True)\n",
    "    ```\n",
    "\n",
    "- ### 3、API\n",
    "\n",
    "  - ```python\n",
    "    generate(self, images=None, paths=None, direction_name='age', direction_offset=0.0, output_dir='./editing_result/', use_gpu=False, visualization=True)\n",
    "    ```\n",
    "    - 人脸编辑生成API。\n",
    "\n",
    "    - **参数**\n",
    "\n",
    "      - images (list\\[numpy.ndarray\\]): 图片数据 <br/>\n",
    "      - paths (list\\[str\\]): 图片路径；<br/>\n",
    "      - direction_name （str): 要编辑的属性名称，对于ffhq-conf-f有预先准备的这些属性: age、eyes_open、eye_distance、eye_eyebrow_distance、eye_ratio、gender、lip_ratio、mouth_open、mouth_ratio、nose_mouth_distance、nose_ratio、nose_tip、pitch、roll、smile、yaw <br/>\n",
    "      - direction_offset (float): 属性的偏移强度 <br/>\n",
    "      - output\\_dir (str): 结果保存的路径； <br/>\n",
    "      - use\\_gpu (bool): 是否使用 GPU；<br/>\n",
    "      - visualization(bool): 是否保存结果到本地文件夹"
   ]
  },
  {
   "cell_type": "markdown",
   "id": "f9b533d2",
   "metadata": {
    "id": "四-服务部署"
   },
   "source": [
    "## 四、服务部署\n",
    "\n",
    "- PaddleHub Serving可以部署一个在线人脸编辑服务。\n",
    "\n",
    "- ### 第一步：启动PaddleHub Serving\n",
    "\n",
    "  - 运行启动命令：\n",
    "  - ```shell\n",
    "    $ hub serving start -m styleganv2_editing\n",
    "    ```\n",
    "\n",
    "  - 这样就完成了一个人脸编辑的在线服务API的部署，默认端口号为8866。\n",
    "\n",
    "  - **NOTE:** 如使用GPU预测，则需要在启动服务之前，请设置CUDA\\_VISIBLE\\_DEVICES环境变量，否则不用设置。\n",
    "\n",
    "- ### 第二步：发送预测请求\n",
    "\n",
    "  - 配置好服务端，以下数行代码即可实现发送预测请求，获取预测结果\n",
    "\n",
    "  - ```python\n",
    "    import requests\n",
    "    import json\n",
    "    import cv2\n",
    "    import base64\n",
    "\n",
    "    def cv2_to_base64(image):\n",
    "      data = cv2.imencode('.jpg', image)[1]\n",
    "      return base64.b64encode(data.tostring()).decode('utf8')\n",
    "\n",
    "    # 发送HTTP请求\n",
    "    data = {'images':[cv2_to_base64(cv2.imread(\"/PATH/TO/IMAGE\"))]}\n",
    "    headers = {\"Content-type\": \"application/json\"}\n",
    "    url = \"http://127.0.0.1:8866/predict/styleganv2_editing\"\n",
    "    r = requests.post(url=url, headers=headers, data=json.dumps(data))\n",
    "\n",
    "    # 打印预测结果\n",
    "    print(r.json()[\"results\"])"
   ]
  },
  {
   "cell_type": "markdown",
   "id": "b856c8da",
   "metadata": {
    "id": "五-更新历史"
   },
   "source": [
    "## 五、更新历史\n",
    "\n",
    "* 1.0.0\n",
    "\n",
    "  初始发布\n",
    "\n",
    "  - ```shell\n",
    "    $ hub install styleganv2_editing==1.0.0\n",
    "    ```"
   ]
  }
 ],
 "metadata": {
  "colab": {
   "name": "styleganv2_editing",
   "toc_visible": true
  },
  "kernelspec": {
   "display_name": "python3",
   "name": "python3"
  }
 },
 "nbformat": 4,
 "nbformat_minor": 5
}
