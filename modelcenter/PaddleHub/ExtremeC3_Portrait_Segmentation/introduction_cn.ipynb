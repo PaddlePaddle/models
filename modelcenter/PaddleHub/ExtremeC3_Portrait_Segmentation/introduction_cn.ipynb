{
 "cells": [
  {
   "cell_type": "markdown",
   "id": "ffa1979d",
   "metadata": {
    "id": "extremec3_portrait_segmentation"
   },
   "source": [
    "# ExtremeC3_Portrait_Segmentation\n",
    "\n",
    "|模型名称|ExtremeC3_Portrait_Segmentation|\n",
    "| :--- | :---: |\n",
    "|类别|图像-图像分割|\n",
    "|网络|ExtremeC3|\n",
    "|数据集|EG1800, Baidu fashion dataset|\n",
    "|是否支持Fine-tuning|否|\n",
    "|模型大小|0.038MB|\n",
    "|指标|-|\n",
    "|最新更新日期|2021-02-26|"
   ]
  },
  {
   "cell_type": "markdown",
   "id": "d32fd516",
   "metadata": {
    "id": "一-模型基本信息"
   },
   "source": [
    "## 一、模型基本信息\n",
    "\n",
    "- ### 应用效果展示\n",
    "\n",
    "    - 样例结果示例：\n",
    "        <p align=\"center\">\n",
    "        <img src=\"https://ai-studio-static-online.cdn.bcebos.com/1261398a98e24184852bdaff5a4e1dbd7739430f59fb47e8b84e3a2cfb976107\" hspace=\"10\"/> <br/>\n",
    "        </p>\n",
    "\n",
    "- ### 模型介绍\n",
    "    * 基于 ExtremeC3 模型实现的轻量化人像分割模型\n",
    "\n",
    "    * 更多详情请参考： [ExtremeC3_Portrait_Segmentation](https://github.com/clovaai/ext_portrait_segmentation) 项目"
   ]
  },
  {
   "cell_type": "markdown",
   "id": "e234bc00",
   "metadata": {
    "id": "二-安装"
   },
   "source": [
    "## 二、安装\n",
    "\n",
    "- ### 1、环境依赖\n",
    "    - paddlepaddle >= 2.0.0\n",
    "\n",
    "    - paddlehub >= 2.0.0\n",
    "\n",
    "- ### 2、安装\n",
    "\n",
    "    - ```shell\n",
    "      $ hub install ExtremeC3_Portrait_Segmentation\n",
    "      ```\n",
    "\n",
    "    -  如您安装时遇到问题，可参考：[零基础windows安装](../../../../docs/docs_ch/get_start/windows_quickstart.md)\n",
    "      | [零基础Linux安装](../../../../docs/docs_ch/get_start/linux_quickstart.md) | [零基础MacOS安装](../../../../docs/docs_ch/get_start/mac_quickstart.md)"
   ]
  },
  {
   "cell_type": "markdown",
   "id": "2b8f7e01",
   "metadata": {
    "id": "三-模型api预测"
   },
   "source": [
    "## 三、模型API预测\n",
    "\n",
    "- ### 1、预测代码示例\n",
    "\n",
    "    ```python\n",
    "    import cv2\n",
    "    import paddlehub as hub\n",
    "\n",
    "    model = hub.Module(name='ExtremeC3_Portrait_Segmentation')\n",
    "\n",
    "    result = model.Segmentation(\n",
    "        images=[cv2.imread('/PATH/TO/IMAGE')],\n",
    "        paths=None,\n",
    "        batch_size=1,\n",
    "        output_dir='output',\n",
    "        visualization=False)\n",
    "    ```\n",
    "\n",
    "- ### 2、API\n",
    "\n",
    "- 人像分割 API\n",
    "\n",
    "- **参数**\n",
    "    * images (list[np.ndarray]) : 输入图像数据列表（BGR）\n",
    "    * paths (list[str]) : 输入图像路径列表\n",
    "    * batch_size (int) : 数据批大小\n",
    "    * output_dir (str) : 可视化图像输出目录\n",
    "    * visualization (bool) : 是否可视化\n",
    "\n",
    "- **返回**\n",
    "    * results (list[dict{\"mask\":np.ndarray,\"result\":np.ndarray}]): 输出图像数据列表"
   ]
  },
  {
   "cell_type": "markdown",
   "id": "2d52458b",
   "metadata": {
    "id": "四-更新历史"
   },
   "source": [
    "## 四、更新历史\n",
    "\n",
    "* 1.0.0\n",
    "\n",
    "  初始发布"
   ]
  }
 ],
 "metadata": {
  "colab": {
   "name": "ExtremeC3_Portrait_Segmentation",
   "toc_visible": true
  },
  "kernelspec": {
   "display_name": "python3",
   "name": "python3"
  }
 },
 "nbformat": 4,
 "nbformat_minor": 5
}
