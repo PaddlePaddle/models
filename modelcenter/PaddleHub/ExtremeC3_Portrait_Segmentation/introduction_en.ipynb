{
 "cells": [
  {
   "cell_type": "markdown",
   "id": "55c5bd62",
   "metadata": {
    "id": "extremec3_portrait_segmentation"
   },
   "source": [
    "# ExtremeC3_Portrait_Segmentation\n",
    "\n",
    "|Module Name|ExtremeC3_Portrait_Segmentation|\n",
    "| :--- | :---: |\n",
    "|Category|image segmentation|\n",
    "|Network |ExtremeC3|\n",
    "|Dataset|EG1800, Baidu fashion dataset|\n",
    "|Fine-tuning supported or not|No|\n",
    "|Module Size|0.038MB|\n",
    "|Data indicators|-|\n",
    "|Latest update date|2021-02-26|"
   ]
  },
  {
   "cell_type": "markdown",
   "id": "4332f9ae",
   "metadata": {
    "id": "i-basic-information"
   },
   "source": [
    "## I. Basic Information\n",
    "\n",
    "- ### Application Effect Display\n",
    "\n",
    "    - Sample results:\n",
    "        <p align=\"center\">\n",
    "        <img src=\"https://ai-studio-static-online.cdn.bcebos.com/1261398a98e24184852bdaff5a4e1dbd7739430f59fb47e8b84e3a2cfb976107\" hspace=\"10\"/> <br/>\n",
    "        </p>\n",
    "\n",
    "- ### Module Introduction\n",
    "    * ExtremeC3_Portrait_Segmentation is a light weigth module based on ExtremeC3 to achieve portrait segmentation.\n",
    "\n",
    "    * For more information, please refer to: [ExtremeC3_Portrait_Segmentation](https://github.com/clovaai/ext_portrait_segmentation)."
   ]
  },
  {
   "cell_type": "markdown",
   "id": "877c0fc7",
   "metadata": {
    "id": "ii-installation"
   },
   "source": [
    "## II. Installation\n",
    "\n",
    "- ### 1、Environmental Dependence\n",
    "\n",
    "    - paddlepaddle >= 2.0.0\n",
    "\n",
    "    - paddlehub >= 2.0.0\n",
    "\n",
    "- ### 2、Installation\n",
    "\n",
    "    - ```shell\n",
    "      $ hub install ExtremeC3_Portrait_Segmentation\n",
    "      ```\n",
    "\n",
    "    - In case of any problems during installation, please refer to:[Windows_Quickstart](../../../../docs/docs_ch/get_start/windows_quickstart.md)\n",
    "    | [Linux_Quickstart](../../../../docs/docs_ch/get_start/linux_quickstart.md) | [Mac_Quickstart](../../../../docs/docs_ch/get_start/mac_quickstart.md)"
   ]
  },
  {
   "cell_type": "markdown",
   "id": "16f94e87",
   "metadata": {
    "id": "iii-module-api-prediction"
   },
   "source": [
    "## III. Module API Prediction\n",
    "\n",
    "- ### 1、Prediction Code Example\n",
    "\n",
    "    ```python\n",
    "    import cv2\n",
    "    import paddlehub as hub\n",
    "\n",
    "    model = hub.Module(name='ExtremeC3_Portrait_Segmentation')\n",
    "\n",
    "    result = model.Segmentation(\n",
    "        images=[cv2.imread('/PATH/TO/IMAGE')],\n",
    "        paths=None,\n",
    "        batch_size=1,\n",
    "        output_dir='output',\n",
    "        visualization=False)\n",
    "    ```\n",
    "\n",
    "- ### 2、API\n",
    "\n",
    "    ```python\n",
    "    def Segmentation(\n",
    "        images=None,\n",
    "        paths=None,\n",
    "        batch_size=1,\n",
    "        output_dir='output',\n",
    "        visualization=False):\n",
    "    ```\n",
    "    - Prediction API, used for portrait segmentation.\n",
    "\n",
    "    - **Parameter**\n",
    "        * images (list[np.ndarray]) : image data, ndarray.shape is in the format [H, W, C], BGR;\n",
    "        * paths (list[str]) :image path\n",
    "        * batch_size (int) : batch size\n",
    "        * output_dir (str) : save path of images, 'output' by default.\n",
    "        * visualization (bool) : whether to save the segmentation results as picture files.\n",
    "    - **Return**\n",
    "        * results (list[dict{\"mask\":np.ndarray,\"result\":np.ndarray}]): list of recognition results."
   ]
  },
  {
   "cell_type": "markdown",
   "id": "0ec18a7e",
   "metadata": {
    "id": "iv-release-note"
   },
   "source": [
    "## IV. Release Note\n",
    "\n",
    "- 1.0.0\n",
    "\n",
    "  First release"
   ]
  }
 ],
 "metadata": {
  "colab": {
   "name": "ExtremeC3_Portrait_Segmentation",
   "toc_visible": true
  },
  "kernelspec": {
   "display_name": "python3",
   "name": "python3"
  }
 },
 "nbformat": 4,
 "nbformat_minor": 5
}
