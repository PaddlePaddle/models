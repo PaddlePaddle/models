{
 "cells": [
  {
   "cell_type": "markdown",
   "id": "d4c2f979",
   "metadata": {
    "id": "resnet50_vd_10w"
   },
   "source": [
    "# resnet50_vd_10w\n",
    "\n",
    "|Module Name|resnet50_vd_10w|\n",
    "| :--- | :---: |\n",
    "|Category|image classification|\n",
    "|Network|ResNet_vd|\n",
    "|Dataset|Baidu Dataset|\n",
    "|Fine-tuning supported or not|No|\n",
    "|Module Size|92MB|\n",
    "|Latest update date|-|\n",
    "|Data indicators|-|"
   ]
  },
  {
   "cell_type": "markdown",
   "id": "939999f1",
   "metadata": {
    "id": "i-basic-information"
   },
   "source": [
    "## I.Basic Information\n",
    "\n",
    "- ### Module Introduction\n",
    "\n",
    "  - ResNet proposed a residual unit to solve the problem of training an extremely deep network, and improved the prediction accuracy of models. ResNet-vd is a variant of ResNet. This module is based on ResNet_vd, trained on Baidu dataset(consists of 100 thousand classes, 40 million pairs of data), and can predict an image of size 224*224*3."
   ]
  },
  {
   "cell_type": "markdown",
   "id": "c2a807ba",
   "metadata": {
    "id": "ii-installation"
   },
   "source": [
    "## II.Installation\n",
    "\n",
    "- ### 1、Environmental Dependence\n",
    "\n",
    "  - paddlepaddle >= 1.6.2\n",
    "\n",
    "  - paddlehub >= 1.6.0  | [How to install PaddleHub](../../../../docs/docs_en/get_start/installation.rst)\n",
    "\n",
    "- ### 2、Installation\n",
    "\n",
    "  - ```shell\n",
    "    $ hub install resnet50_vd_10w\n",
    "    ```\n",
    "  - In case of any problems during installation, please refer to: [Windows_Quickstart](../../../../docs/docs_en/get_start/windows_quickstart.md) | [Linux_Quickstart](../../../../docs/docs_en/get_start/linux_quickstart.md) | [Mac_Quickstart](../../../../docs/docs_en/get_start/mac_quickstart.md)"
   ]
  },
  {
   "cell_type": "markdown",
   "id": "d74919ac",
   "metadata": {
    "id": "iii-module-api-prediction"
   },
   "source": [
    "## III.Module API Prediction\n",
    "\n",
    "- ### 1、Prediction Code Example\n",
    "\n",
    "  - ```python\n",
    "    import paddlehub as hub\n",
    "    import cv2\n",
    "\n",
    "    classifier = hub.Module(name=\"resnet50_vd_10w\")\n",
    "    input_dict, output_dict, program = classifier.context(trainable=True)\n",
    "    ```\n",
    "\n",
    "- ### 2、API\n",
    "\n",
    "  - ```python\n",
    "    def context(trainable=True, pretrained=True)\n",
    "    ```\n",
    "    - **Parameters**\n",
    "      - trainable (bool): whether parameters are trainable；<br/>\n",
    "      - pretrained (bool): whether load the pre-trained model.\n",
    "\n",
    "    - **Return**\n",
    "      - inputs (dict): model inputs，key is 'image', value is the image tensor；<br/>\n",
    "      - outputs (dict): model outputs，key is 'classification' and 'feature_map'，values：\n",
    "        - classification (paddle.fluid.framework.Variable): classification result；\n",
    "        - feature\\_map (paddle.fluid.framework.Variable): feature map extracted by model.\n",
    "      - context\\_prog(fluid.Program): computation graph, used for transfer learning.\n",
    "\n",
    "  - ```python\n",
    "    def save_inference_model(dirname,\n",
    "                             model_filename=None,\n",
    "                             params_filename=None,\n",
    "                             combined=True)\n",
    "    ```\n",
    "    - **Parameters**\n",
    "      - dirname: output dir for saving model; <br/>\n",
    "      - model_filename: filename of model, default is \\_\\_model\\_\\_; <br/>\n",
    "      - params_filename: filename of parameters，default is \\_\\_params\\_\\_(only effective when `combined` is True); <br/>\n",
    "      - combined: whether save parameters into one file"
   ]
  },
  {
   "cell_type": "markdown",
   "id": "62fe3328",
   "metadata": {
    "id": "v-release-note"
   },
   "source": [
    "## V.Release Note\n",
    "\n",
    "* 1.0.0\n",
    "\n",
    "  First release\n",
    "\n",
    "  - ```shell\n",
    "    $ hub install resnet50_vd_10w==1.0.0\n",
    "    ```"
   ]
  }
 ],
 "metadata": {
  "colab": {
   "name": "resnet50_vd_10w",
   "toc_visible": true
  },
  "kernelspec": {
   "display_name": "python3",
   "name": "python3"
  }
 },
 "nbformat": 4,
 "nbformat_minor": 5
}
