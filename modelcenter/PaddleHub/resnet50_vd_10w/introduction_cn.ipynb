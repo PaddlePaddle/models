{
 "cells": [
  {
   "cell_type": "markdown",
   "id": "dac8f5ba",
   "metadata": {
    "id": "resnet50_vd_10w"
   },
   "source": [
    "# resnet50_vd_10w\n",
    "\n",
    "|模型名称|resnet50_vd_10w|\n",
    "| :--- | :---: |\n",
    "|类别|图像-图像分类|\n",
    "|网络|ResNet_vd|\n",
    "|数据集|百度自建数据集|\n",
    "|是否支持Fine-tuning|否|\n",
    "|模型大小|92MB|\n",
    "|最新更新日期|-|\n",
    "|数据指标|-|"
   ]
  },
  {
   "cell_type": "markdown",
   "id": "4fc8e0d1",
   "metadata": {
    "id": "一-模型基本信息"
   },
   "source": [
    "## 一、模型基本信息\n",
    "\n",
    "- ### 模型介绍\n",
    "\n",
    "  - ResNet系列模型是图像分类领域的重要模型之一，模型中提出的残差单元有效地解决了深度网络训练困难的问题，通过增加模型的深度提升了模型的准确率，ResNet-vd 其实就是 ResNet-D，是ResNet 原始结构的变种。该PaddleHub Module结构为ResNet_vd，使用百度自研的基于10万种类别、4千多万的有标签数据进行训练，接受输入图片大小为224 x 224 x 3，支持finetune。"
   ]
  },
  {
   "cell_type": "markdown",
   "id": "f7c062f4",
   "metadata": {
    "id": "二-安装"
   },
   "source": [
    "## 二、安装\n",
    "\n",
    "- ### 1、环境依赖\n",
    "\n",
    "  - paddlepaddle >= 1.6.2\n",
    "\n",
    "  - paddlehub >= 1.6.0  | [如何安装paddlehub](../../../../docs/docs_ch/get_start/installation.rst)\n",
    "\n",
    "- ### 2、安装\n",
    "\n",
    "  - ```shell\n",
    "    $ hub install resnet50_vd_10w\n",
    "    ```\n",
    "  - 如您安装时遇到问题，可参考：[零基础windows安装](../../../../docs/docs_ch/get_start/windows_quickstart.md)\n",
    " | [零基础Linux安装](../../../../docs/docs_ch/get_start/linux_quickstart.md) | [零基础MacOS安装](../../../../docs/docs_ch/get_start/mac_quickstart.md)"
   ]
  },
  {
   "cell_type": "markdown",
   "id": "19bf5a81",
   "metadata": {
    "id": "三-模型api预测"
   },
   "source": [
    "## 三、模型API预测\n",
    "\n",
    "- ### 1、预测代码示例\n",
    "\n",
    "  - ```python\n",
    "    import paddlehub as hub\n",
    "    import cv2\n",
    "\n",
    "    classifier = hub.Module(name=\"resnet50_vd_10w\")\n",
    "    input_dict, output_dict, program = classifier.context(trainable=True)\n",
    "    ```\n",
    "\n",
    "- ### 2、API\n",
    "\n",
    "  - ```python\n",
    "    def context(trainable=True, pretrained=True)\n",
    "    ```\n",
    "    - **参数**\n",
    "      - trainable (bool): 计算图的参数是否为可训练的；<br/>\n",
    "      - pretrained (bool): 是否加载默认的预训练模型。\n",
    "\n",
    "    - **返回**\n",
    "      - inputs (dict): 计算图的输入，key 为 'image', value 为图片的张量；<br/>\n",
    "      - outputs (dict): 计算图的输出，key 为 'classification' 和 'feature_map'，其相应的值为：\n",
    "        - classification (paddle.fluid.framework.Variable): 分类结果，也就是全连接层的输出；\n",
    "        - feature\\_map (paddle.fluid.framework.Variable): 特征匹配，全连接层前面的那个张量。\n",
    "      - context\\_prog(fluid.Program): 计算图，用于迁移学习。\n",
    "\n",
    "  - ```python\n",
    "    def save_inference_model(dirname,\n",
    "                             model_filename=None,\n",
    "                             params_filename=None,\n",
    "                             combined=True)\n",
    "    ```\n",
    "    - **参数**\n",
    "      - dirname: 存在模型的目录名称；<br/>\n",
    "      - model_filename: 模型文件名称，默认为\\_\\_model\\_\\_; <br/>\n",
    "      - params_filename: 参数文件名称，默认为\\_\\_params\\_\\_(仅当`combined`为True时生效); <br/>\n",
    "      - combined: 是否将参数保存到统一的一个文件中。"
   ]
  },
  {
   "cell_type": "markdown",
   "id": "70e5faf1",
   "metadata": {
    "id": "五-更新历史"
   },
   "source": [
    "## 五、更新历史\n",
    "\n",
    "* 1.0.0\n",
    "\n",
    "  初始发布\n",
    "\n",
    "  - ```shell\n",
    "    $ hub install resnet50_vd_10w==1.0.0\n",
    "    ```"
   ]
  }
 ],
 "metadata": {
  "colab": {
   "name": "resnet50_vd_10w",
   "toc_visible": true
  },
  "kernelspec": {
   "display_name": "python3",
   "name": "python3"
  }
 },
 "nbformat": 4,
 "nbformat_minor": 5
}
