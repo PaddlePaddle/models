{
 "cells": [
  {
   "cell_type": "markdown",
   "id": "dbf671f8",
   "metadata": {
    "id": "pp-tinypose"
   },
   "source": [
    "# pp-tinypose\n",
    "\n",
    "|模型名称|pp-tinypose|\n",
    "| :--- | :---: |\n",
    "|类别|图像-关键点检测|\n",
    "|网络|PicoDet + tinypose|\n",
    "|数据集|COCO + AI Challenger|\n",
    "|是否支持Fine-tuning|否|\n",
    "|模型大小|125M|\n",
    "|最新更新日期|2022-05-20|\n",
    "|数据指标|-|"
   ]
  },
  {
   "cell_type": "markdown",
   "id": "29ed94ec",
   "metadata": {
    "id": "一-模型基本信息"
   },
   "source": [
    "## 一、模型基本信息\n",
    "\n",
    "- ### 应用效果展示\n",
    "  - 样例结果示例：\n",
    "<p align=\"center\">\n",
    "    <img src=\"https://user-images.githubusercontent.com/22424850/169768593-9fcf729a-458e-4bb1-bb3c-b005ff7bcec2.jpg\" hspace=\"10\"/>\n",
    "    <br/>\n",
    "    输入图像\n",
    "    <br/>\n",
    "    <img src=\"https://user-images.githubusercontent.com/22424850/170029768-3c60def2-7c87-4e8a-98bc-1bbc912204e7.jpg\" hspace=\"10\"/>\n",
    "    <br/>\n",
    "    输出图像\n",
    "\n",
    "- ### 模型介绍\n",
    "\n",
    "  - PP-TinyPose是PaddleDetecion针对移动端设备优化的实时关键点检测模型，可流畅地在移动端设备上执行多人姿态估计任务。借助PaddleDetecion自研的优秀轻量级检测模型PicoDet以及轻量级姿态估计任务骨干网络Tinypose, 结合多种策略有效平衡了模型的速度和精度表现。\n",
    "\n",
    "  - 更多详情参考：[PP-TinyPose](https://github.com/PaddlePaddle/PaddleDetection/tree/release/2.4/configs/keypoint/tiny_pose)。"
   ]
  },
  {
   "cell_type": "markdown",
   "id": "1f0c9690",
   "metadata": {
    "id": "二-安装"
   },
   "source": [
    "## 二、安装\n",
    "\n",
    "- ### 1、环境依赖\n",
    "\n",
    "  - paddlepaddle >= 2.2\n",
    "\n",
    "  - paddlehub >= 2.2   | [如何安装paddlehub](../../../../docs/docs_ch/get_start/installation.rst)\n",
    "\n",
    "- ### 2、安装\n",
    "\n",
    "  - ```shell\n",
    "    $ hub install pp-tinypose\n",
    "    ```\n",
    "  - 如您安装时遇到问题，可参考：[零基础windows安装](../../../../docs/docs_ch/get_start/windows_quickstart.md)\n",
    " | [零基础Linux安装](../../../../docs/docs_ch/get_start/linux_quickstart.md) | [零基础MacOS安装](../../../../docs/docs_ch/get_start/mac_quickstart.md)"
   ]
  },
  {
   "cell_type": "markdown",
   "id": "90fa497c",
   "metadata": {
    "id": "三-模型api预测"
   },
   "source": [
    "## 三、模型API预测\n",
    "\n",
    "- ### 1、命令行预测\n",
    "\n",
    "  - ```shell\n",
    "    $ hub run pp-tinypose --input_path \"/PATH/TO/IMAGE\" --visualization True --use_gpu\n",
    "    ```\n",
    "  - 通过命令行方式实现关键点检测模型的调用，更多请见 [PaddleHub命令行指令](../../../../docs/docs_ch/tutorial/cmd_usage.rst)\n",
    "\n",
    "- ### 2、预测代码示例\n",
    "\n",
    "  - ```python\n",
    "    import paddlehub as hub\n",
    "    import cv2\n",
    "\n",
    "    model = hub.Module(name=\"pp-tinypose\")\n",
    "    result = model.predict('/PATH/TO/IMAGE', save_path='pp_tinypose_output', visualization=True, use_gpu=True)\n",
    "    ```\n",
    "\n",
    "- ### 3、API\n",
    "\n",
    "  - ```python\n",
    "    def predict(self, img: Union[str, np.ndarray], save_path: str = \"pp_tinypose_output\", visualization: bool = True, use_gpu = False)\n",
    "    ```\n",
    "\n",
    "    - 预测API，识别输入图片中的所有人肢体关键点。\n",
    "\n",
    "    - **参数**\n",
    "\n",
    "      - img (numpy.ndarray|str): 图片数据，使用图片路径或者输入numpy.ndarray，BGR格式；\n",
    "      - save_path (str): 图片保存路径， 默认为'pp_tinypose_output'；\n",
    "      - visualization (bool): 是否将识别结果保存为图片文件；\n",
    "      - use_gpu: 是否使用gpu；\n",
    "    - **返回**\n",
    "\n",
    "      - res (list\\[dict\\]): 识别结果的列表，列表元素依然为列表，存的内容为[图像名称，检测框，关键点]。"
   ]
  },
  {
   "cell_type": "markdown",
   "id": "b18c092a",
   "metadata": {
    "id": "四-服务部署"
   },
   "source": [
    "## 四、服务部署\n",
    "\n",
    "- PaddleHub Serving 可以部署一个关键点检测的在线服务。\n",
    "\n",
    "- ### 第一步：启动PaddleHub Serving\n",
    "\n",
    "  - 运行启动命令：\n",
    "  - ```shell\n",
    "    $ hub serving start -m pp-tinypose\n",
    "    ```\n",
    "\n",
    "  - 这样就完成了一个关键点检测的服务化API的部署，默认端口号为8866。\n",
    "\n",
    "  - **NOTE:** 如使用GPU预测，则需要在启动服务之前，请设置CUDA\\_VISIBLE\\_DEVICES环境变量，否则不用设置。\n",
    "\n",
    "- ### 第二步：发送预测请求\n",
    "\n",
    "  - 配置好服务端，以下数行代码即可实现发送预测请求，获取预测结果\n",
    "\n",
    "  - ```python\n",
    "    import requests\n",
    "    import json\n",
    "    import cv2\n",
    "    import base64\n",
    "\n",
    "    def cv2_to_base64(image):\n",
    "        data = cv2.imencode('.jpg', image)[1]\n",
    "        return base64.b64encode(data.tostring()).decode('utf8')\n",
    "\n",
    "    # 发送HTTP请求\n",
    "    data = {'images':[cv2_to_base64(cv2.imread(\"/PATH/TO/IMAGE\"))]}\n",
    "    headers = {\"Content-type\": \"application/json\"}\n",
    "    url = \"http://127.0.0.1:8866/predict/pp-tinypose\"\n",
    "    r = requests.post(url=url, headers=headers, data=json.dumps(data))\n",
    "    ```"
   ]
  },
  {
   "cell_type": "markdown",
   "id": "e5a78f32",
   "metadata": {
    "id": "五-更新历史"
   },
   "source": [
    "## 五、更新历史\n",
    "\n",
    "* 1.0.0\n",
    "\n",
    "  初始发布\n",
    "\n",
    "* 1.1.0\n",
    "\n",
    "  修复使用 ndarray 输入时无法保存可视化图片的问题\n",
    "\n",
    "  - ```shell\n",
    "    $ hub install pp-tinypose==1.1.0\n",
    "    ```</p>"
   ]
  }
 ],
 "metadata": {
  "colab": {
   "name": "pp-tinypose",
   "toc_visible": true
  },
  "kernelspec": {
   "display_name": "python3",
   "name": "python3"
  }
 },
 "nbformat": 4,
 "nbformat_minor": 5
}
