{
 "cells": [
  {
   "cell_type": "markdown",
   "id": "d5e1c919",
   "metadata": {
    "id": "lseg"
   },
   "source": [
    "# lseg\n",
    "\n",
    "|模型名称|lseg|\n",
    "| :--- | :---: |\n",
    "|类别|图像-图像分割|\n",
    "|网络|LSeg|\n",
    "|数据集|-|\n",
    "|是否支持Fine-tuning|否|\n",
    "|模型大小|1.63GB|\n",
    "|指标|-|\n",
    "|最新更新日期|2022-09-22|"
   ]
  },
  {
   "cell_type": "markdown",
   "id": "0834dfb4",
   "metadata": {
    "id": "一-模型基本信息"
   },
   "source": [
    "## 一、模型基本信息\n",
    "\n",
    "- ### 应用效果展示\n",
    "\n",
    "  - 网络结构：\n",
    "      <p align=\"center\">\n",
    "      <img src=\"https://ai-studio-static-online.cdn.bcebos.com/5617725d3c5640c2b24c27294437d73c83c63f78498e40b5ab2e94d01128c70c\" hspace=\"10\"/> <br/>\n",
    "      </p>\n",
    "\n",
    "  - 样例结果示例：\n",
    "      <p align=\"center\">\n",
    "      <img src=\"https://ai-studio-static-online.cdn.bcebos.com/2168a1e6270c40e896dfc74f2127e964ee8a8c7164aa41e3afafe1657d1e2bba\" hspace=\"10\"/>\n",
    "      </p>\n",
    "\n",
    "- ### 模型介绍\n",
    "\n",
    "  - 文本驱动的图像语义分割模型（Language-driven Semantic Segmentation），即通过文本控制模型的分割类别实现指定类别的图像语义分割算法。"
   ]
  },
  {
   "cell_type": "markdown",
   "id": "14943947",
   "metadata": {
    "id": "二-安装"
   },
   "source": [
    "## 二、安装\n",
    "\n",
    "- ### 1、环境依赖\n",
    "\n",
    "  - paddlepaddle >= 2.0.0\n",
    "\n",
    "  - paddlehub >= 2.0.0\n",
    "\n",
    "- ### 2.安装\n",
    "\n",
    "    - ```shell\n",
    "      $ hub install lseg\n",
    "      ```\n",
    "    -  如您安装时遇到问题，可参考：[零基础windows安装](../../../../docs/docs_ch/get_start/windows_quickstart.md)\n",
    "      | [零基础Linux安装](../../../../docs/docs_ch/get_start/linux_quickstart.md) | [零基础MacOS安装](../../../../docs/docs_ch/get_start/mac_quickstart.md)"
   ]
  },
  {
   "cell_type": "markdown",
   "id": "f73a658d",
   "metadata": {
    "id": "三-模型api预测"
   },
   "source": [
    "## 三、模型API预测\n",
    "\n",
    "  - ### 1、命令行预测\n",
    "\n",
    "    ```shell\n",
    "    $ hub run lseg \\\n",
    "        --input_path \"/PATH/TO/IMAGE\" \\\n",
    "        --labels \"Category 1\" \"Category 2\" \"Category n\" \\\n",
    "        --output_dir \"lseg_output\"\n",
    "    ```\n",
    "\n",
    "  - ### 2、预测代码示例\n",
    "\n",
    "    ```python\n",
    "    import paddlehub as hub\n",
    "    import cv2\n",
    "\n",
    "    module = hub.Module(name=\"lseg\")\n",
    "    result = module.segment(\n",
    "        image=cv2.imread('/PATH/TO/IMAGE'),\n",
    "        labels=[\"Category 1\", \"Category 2\", \"Category n\"],\n",
    "        visualization=True,\n",
    "        output_dir='lseg_output'\n",
    "    )\n",
    "    ```\n",
    "\n",
    "  - ### 3、API\n",
    "\n",
    "    ```python\n",
    "    def segment(\n",
    "        image: Union[str, numpy.ndarray],\n",
    "        labels: Union[str, List[str]],\n",
    "        visualization: bool = False,\n",
    "        output_dir: str = 'lseg_output'\n",
    "    ) -> Dict[str, Union[numpy.ndarray, Dict[str, numpy.ndarray]]]\n",
    "    ```\n",
    "\n",
    "    - 语义分割 API\n",
    "\n",
    "    - **参数**\n",
    "\n",
    "      * image (Union\\[str, numpy.ndarray\\]): 图片数据，ndarray.shape 为 \\[H, W, C\\]，BGR格式；\n",
    "      * labels (Union\\[str, List\\[str\\]\\]): 类别文本标签；\n",
    "      * visualization (bool): 是否将识别结果保存为图片文件；\n",
    "      * output\\_dir (str): 保存处理结果的文件目录。\n",
    "\n",
    "    - **返回**\n",
    "\n",
    "      * res (Dict\\[str, Union\\[numpy.ndarray, Dict\\[str, numpy.ndarray\\]\\]\\]): 识别结果的字典，字典中包含如下元素：\n",
    "        * gray (numpy.ndarray): 灰度分割结果 (GRAY)；\n",
    "        * color (numpy.ndarray): 伪彩色图分割结果 (BGR)；\n",
    "        * mix (numpy.ndarray): 叠加原图和伪彩色图的分割结果 (BGR)；\n",
    "        * classes (Dict\\[str, numpy.ndarray\\]): 各个类别标签的分割抠图结果 (BGRA)。"
   ]
  },
  {
   "cell_type": "markdown",
   "id": "81a6d7fe",
   "metadata": {
    "id": "四-服务部署"
   },
   "source": [
    "## 四、服务部署\n",
    "\n",
    "- PaddleHub Serving可以部署一个语义驱动的语义分割的在线服务。\n",
    "\n",
    "- ### 第一步：启动PaddleHub Serving\n",
    "\n",
    "  - 运行启动命令：\n",
    "\n",
    "    ```shell\n",
    "     $ hub serving start -m lseg\n",
    "    ```\n",
    "\n",
    "    - 这样就完成了一个语义驱动的语义分割服务化API的部署，默认端口号为8866。\n",
    "\n",
    "- ### 第二步：发送预测请求\n",
    "\n",
    "  - 配置好服务端，以下数行代码即可实现发送预测请求，获取预测结果\n",
    "\n",
    "    ```python\n",
    "    import requests\n",
    "    import json\n",
    "    import base64\n",
    "\n",
    "    import cv2\n",
    "    import numpy as np\n",
    "\n",
    "    def cv2_to_base64(image):\n",
    "        data = cv2.imencode('.jpg', image)[1]\n",
    "        return base64.b64encode(data.tobytes()).decode('utf8')\n",
    "\n",
    "    def base64_to_cv2(b64str):\n",
    "        data = base64.b64decode(b64str.encode('utf8'))\n",
    "        data = np.frombuffer(data, np.uint8)\n",
    "        data = cv2.imdecode(data, cv2.IMREAD_COLOR)\n",
    "        return data\n",
    "\n",
    "    # 发送HTTP请求\n",
    "    org_im = cv2.imread('/PATH/TO/IMAGE')\n",
    "    data = {\n",
    "        'image': cv2_to_base64(org_im),\n",
    "        'labels': [\"Category 1\", \"Category 2\", \"Category n\"]\n",
    "    }\n",
    "    headers = {\"Content-type\": \"application/json\"}\n",
    "    url = \"http://127.0.0.1:8866/predict/lseg\"\n",
    "    r = requests.post(url=url, headers=headers, data=json.dumps(data))\n",
    "\n",
    "    # 结果转换\n",
    "    results = r.json()['results']\n",
    "    results = {\n",
    "        'gray': base64_to_cv2(results['gray']),\n",
    "        'color': base64_to_cv2(results['color']),\n",
    "        'mix': base64_to_cv2(results['mix']),\n",
    "        'classes': {\n",
    "            k: base64_to_cv2(v) for k, v in results['classes'].items()\n",
    "        }\n",
    "    }\n",
    "\n",
    "    # 保存输出\n",
    "    cv2.imwrite('mix.jpg', results['mix'])\n",
    "    ```"
   ]
  },
  {
   "cell_type": "markdown",
   "id": "dd8f4aef",
   "metadata": {
    "id": "五-参考资料"
   },
   "source": [
    "## 五、参考资料\n",
    "\n",
    "* 论文：[Language-driven Semantic Segmentation](https://arxiv.org/abs/2201.03546)\n",
    "\n",
    "* 官方实现：[isl-org/lang-seg](https://github.com/isl-org/lang-seg)"
   ]
  },
  {
   "cell_type": "markdown",
   "id": "516d1a7a",
   "metadata": {
    "id": "六-更新历史"
   },
   "source": [
    "## 六、更新历史\n",
    "\n",
    "* 1.0.0\n",
    "\n",
    "  初始发布\n",
    "\n",
    "  ```shell\n",
    "  $ hub install lseg==1.0.0\n",
    "  ```"
   ]
  }
 ],
 "metadata": {
  "colab": {
   "name": "lseg",
   "toc_visible": true
  },
  "kernelspec": {
   "display_name": "python3",
   "name": "python3"
  }
 },
 "nbformat": 4,
 "nbformat_minor": 5
}
