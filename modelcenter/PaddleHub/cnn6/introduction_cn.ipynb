{
 "cells": [
  {
   "cell_type": "markdown",
   "id": "3e163897",
   "metadata": {
    "id": "panns_cnn6"
   },
   "source": [
    "# panns_cnn6\n",
    "\n",
    "|模型名称|panns_cnn6|\n",
    "| :--- | :---: |\n",
    "|类别|语音-声音分类|\n",
    "|网络|PANNs|\n",
    "|数据集|Google Audioset|\n",
    "|是否支持Fine-tuning|是|\n",
    "|模型大小|29MB|\n",
    "|最新更新日期|2021-06-15|\n",
    "|数据指标|mAP 0.343|"
   ]
  },
  {
   "cell_type": "markdown",
   "id": "e8b07c0e",
   "metadata": {
    "id": "一-模型基本信息"
   },
   "source": [
    "## 一、模型基本信息"
   ]
  },
  {
   "cell_type": "markdown",
   "id": "c5c63415",
   "metadata": {
    "id": "模型介绍"
   },
   "source": [
    "### 模型介绍\n",
    "\n",
    "`panns_cnn6`是一个基于[Google Audioset](https://research.google.com/audioset/)数据集训练的声音分类/识别的模型。该模型主要包含4个卷积层和2个全连接层，模型参数为4.5M。经过预训练后，可以用于提取音频的embbedding，维度是512。\n",
    "\n",
    "更多详情请参考：[PANNs: Large-Scale Pretrained Audio Neural Networks for Audio Pattern Recognition](https://arxiv.org/pdf/1912.10211.pdf)"
   ]
  },
  {
   "cell_type": "markdown",
   "id": "d77b3181",
   "metadata": {
    "id": "二-安装"
   },
   "source": [
    "## 二、安装\n",
    "\n",
    "- ### 1、环境依赖\n",
    "\n",
    "  - paddlepaddle >= 2.0.0\n",
    "\n",
    "  - paddlehub >= 2.0.0    | [如何安装PaddleHub](../../../../docs/docs_ch/get_start/installation.rst)\n",
    "\n",
    "- ### 2、安装\n",
    "\n",
    "  - ```shell\n",
    "    $ hub install panns_cnn6\n",
    "    ```\n",
    "  - 如您安装时遇到问题，可参考：[零基础windows安装](../../../../docs/docs_ch/get_start/windows_quickstart.md)\n",
    " | [零基础Linux安装](../../../../docs/docs_ch/get_start/linux_quickstart.md) | [零基础MacOS安装](../../../../docs/docs_ch/get_start/mac_quickstart.md)"
   ]
  },
  {
   "cell_type": "markdown",
   "id": "94485df4",
   "metadata": {
    "id": "三-模型api预测"
   },
   "source": [
    "## 三、模型API预测\n",
    "\n",
    "- ### 1、预测代码示例\n",
    "\n",
    "  - ```python\n",
    "    # ESC50声音分类预测\n",
    "    import librosa\n",
    "    import paddlehub as hub\n",
    "    from paddlehub.datasets import ESC50\n",
    "\n",
    "    sr = 44100 # 音频文件的采样率\n",
    "    wav_file = '/PATH/TO/AUDIO' # 用于预测的音频文件路径\n",
    "    checkpoint = 'model.pdparams' # 用于预测的模型参数\n",
    "\n",
    "    label_map = {idx: label for idx, label in enumerate(ESC50.label_list)}\n",
    "\n",
    "    model = hub.Module(\n",
    "        name='panns_cnn6',\n",
    "        version='1.0.0',\n",
    "        task='sound-cls',\n",
    "        num_class=ESC50.num_class,\n",
    "        label_map=label_map,\n",
    "        load_checkpoint=checkpoint)\n",
    "\n",
    "    data = [librosa.load(wav_file, sr=sr)[0]]\n",
    "    result = model.predict(\n",
    "        data,\n",
    "        sample_rate=sr,\n",
    "        batch_size=1,\n",
    "        feat_type='mel',\n",
    "        use_gpu=True)\n",
    "\n",
    "    print('File: {}\\tLable: {}'.format(wav_file, result[0]))\n",
    "    ```\n",
    "\n",
    "  - ```python\n",
    "    # Audioset Tagging\n",
    "    import librosa\n",
    "    import numpy as np\n",
    "    import paddlehub as hub\n",
    "\n",
    "    def show_topk(k, label_map, file, result):\n",
    "        \"\"\"\n",
    "        展示topk的分的类别和分数。\n",
    "        \"\"\"\n",
    "        result = np.asarray(result)\n",
    "        topk_idx = (-result).argsort()[:k]\n",
    "        msg = f'[{file}]\\n'\n",
    "        for idx in topk_idx:\n",
    "            label, score = label_map[idx], result[idx]\n",
    "            msg += f'{label}: {score}\\n'\n",
    "        print(msg)\n",
    "\n",
    "    sr = 44100 # 音频文件的采样率\n",
    "    wav_file = '/PATH/TO/AUDIO' # 用于预测的音频文件路径\n",
    "    label_file = './audioset_labels.txt' # audioset标签文本文件\n",
    "    topk = 10 # 展示的topk数\n",
    "\n",
    "    label_map = {}\n",
    "    with open(label_file, 'r') as f:\n",
    "        for i, l in enumerate(f.readlines()):\n",
    "            label_map[i] = l.strip()\n",
    "\n",
    "    model = hub.Module(\n",
    "        name='panns_cnn6',\n",
    "        version='1.0.0',\n",
    "        task=None)\n",
    "\n",
    "    data = [librosa.load(wav_file, sr=sr)[0]]\n",
    "    result = model.predict(\n",
    "        data,\n",
    "        sample_rate=sr,\n",
    "        batch_size=1,\n",
    "        feat_type='mel',\n",
    "        use_gpu=True)\n",
    "\n",
    "    show_topk(topk, label_map, wav_file, result[0])\n",
    "    ```\n",
    "\n",
    "- ### 2、API\n",
    "\n",
    "  - ```python\n",
    "    def __init__(\n",
    "            task,\n",
    "            num_class=None,\n",
    "            label_map=None,\n",
    "            load_checkpoint=None,\n",
    "            **kwargs,\n",
    "    )\n",
    "    ```\n",
    "    - 创建Module对象。\n",
    "\n",
    "    - **参数**\n",
    "      - `task`： 任务名称，可为`sound-cls`或者`None`。`sound-cls`代表声音分类任务，可以对声音分类的数据集进行finetune；为`None`时可以获取预训练模型对音频进行分类/Tagging。\n",
    "      - `num_classes`：声音分类任务的类别数，finetune时需要指定，数值与具体使用的数据集类别数一致。\n",
    "      - `label_map`：预测时的类别映射表。\n",
    "      - `load_checkpoint`：使用PaddleHub Fine-tune api训练保存的模型参数文件路径。\n",
    "      - `**kwargs`：用户额外指定的关键字字典类型的参数。\n",
    "\n",
    "  - ```python\n",
    "    def predict(\n",
    "            data,\n",
    "            sample_rate,\n",
    "            batch_size=1,\n",
    "            feat_type='mel',\n",
    "            use_gpu=False\n",
    "    )\n",
    "    ```\n",
    "    - 模型预测，输入为音频波形数据，输出为分类标签。\n",
    "\n",
    "    - **参数**\n",
    "      - `data`： 待预测数据，格式为\\[waveform1, wavwform2…,\\]，其中每个元素都是一个一维numpy列表，是音频的波形采样数值列表。\n",
    "      - `sample_rate`：音频文件的采样率。\n",
    "      - `feat_type`：音频特征的种类选取，当前支持`'mel'`(详情可查看[Mel-frequency cepstrum](https://en.wikipedia.org/wiki/Mel-frequency_cepstrum))和原始波形特征`'raw'`。\n",
    "      - `batch_size`：模型批处理大小。\n",
    "      - `use_gpu`：是否使用gpu，默认为False。对于GPU用户，建议开启use_gpu。\n",
    "\n",
    "    - **返回**\n",
    "      - `results`：list类型，不同任务类型的返回结果如下\n",
    "      - 声音分类(task参数为`sound-cls`)：列表里包含每个音频文件的分类标签。\n",
    "      - Tagging(task参数为`None`)：列表里包含每个音频文件527个类别([Audioset标签](https://research.google.com/audioset/))的得分。\n",
    "\n",
    "    详情可参考PaddleHub示例：\n",
    "    - [AudioClassification](https://github.com/PaddlePaddle/PaddleHub/tree/release/v2.0/demo/audio_classification)"
   ]
  },
  {
   "cell_type": "markdown",
   "id": "8f08370b",
   "metadata": {
    "id": "四-更新历史"
   },
   "source": [
    "## 四、更新历史\n",
    "\n",
    "* 1.0.0\n",
    "\n",
    "  初始发布，动态图版本模型，支持声音分类`sound-cls`任务的fine-tune和基于Audioset Tagging预测。\n",
    "\n",
    "  ```shell\n",
    "  $ hub install panns_cnn6\n",
    "  ```"
   ]
  }
 ],
 "metadata": {
  "colab": {
   "name": "panns_cnn6",
   "toc_visible": true
  },
  "kernelspec": {
   "display_name": "python3",
   "name": "python3"
  }
 },
 "nbformat": 4,
 "nbformat_minor": 5
}
