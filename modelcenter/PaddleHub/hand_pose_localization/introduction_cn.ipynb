{
 "cells": [
  {
   "cell_type": "markdown",
   "id": "27be0b81",
   "metadata": {
    "id": "hand_pose_localization"
   },
   "source": [
    "# hand_pose_localization\n",
    "\n",
    "| 模型名称            | hand_pose_localization |\n",
    "| :------------------ | :--------------------: |\n",
    "| 类别                |    图像-关键点检测     |\n",
    "| 网络                |                        |\n",
    "| 数据集              |       MPII, NZSL       |\n",
    "| 是否支持Fine-tuning |           否           |\n",
    "| 模型大小            |          130M          |\n",
    "| 最新更新日期        |       2021-06-02       |\n",
    "| 数据指标            |                        |"
   ]
  },
  {
   "cell_type": "markdown",
   "id": "4dcaa818",
   "metadata": {
    "id": "一-模型基本信息"
   },
   "source": [
    "## 一、模型基本信息\n",
    "\n",
    "- ### 应用效果展示\n",
    "\n",
    "<p align=\"center\">\n",
    "<img src=\"https://user-images.githubusercontent.com/76040149/133246893-f47cfdce-b9c1-490b-b1de-f837b61caf18.png\" align=\"center\" width=\"500\"/>\n",
    "</p>\n",
    "\n",
    "- ### 模型介绍\n",
    "  - openpose 手部关键点检测模型。更多详情请参考：[openpose开源项目](https://github.com/CMU-Perceptual-Computing-Lab/openpose)"
   ]
  },
  {
   "cell_type": "markdown",
   "id": "2659e239",
   "metadata": {
    "id": "二-安装"
   },
   "source": [
    "## 二、安装\n",
    "\n",
    "- ### 1、环境依赖\n",
    "\n",
    "  - paddlepaddle >= 2.0.0\n",
    "\n",
    "  - paddlehub >= 2.0.0    | [如何安装PaddleHub](../../../../docs/docs_ch/get_start/installation.rst)\n",
    "\n",
    "- ### 2、安装\n",
    "\n",
    "  - ```shell\n",
    "    $ hub install hand_pose_localization\n",
    "    ```\n",
    "\n",
    "  - 如您安装时遇到问题，可参考：[零基础windows安装](../../../../docs/docs_ch/get_start/windows_quickstart.md)\n",
    "   | [零基础Linux安装](../../../../docs/docs_ch/get_start/linux_quickstart.md) | [零基础MacOS安装](../../../../docs/docs_ch/get_start/mac_quickstart.md)"
   ]
  },
  {
   "cell_type": "markdown",
   "id": "2d50836c",
   "metadata": {
    "id": "三-模型api预测"
   },
   "source": [
    "## 三、模型API预测\n",
    "\n",
    "- 本模型不支持命令行预测\n",
    "\n",
    "- ### 1、预测代码示例\n",
    "\n",
    "  - ```python\n",
    "    import cv2\n",
    "    import paddlehub as hub\n",
    "\n",
    "    # use_gpu：是否使用GPU进行预测\n",
    "    model = hub.Module(name='hand_pose_localization', use_gpu=False)\n",
    "\n",
    "    # 调用关键点检测API\n",
    "    result = model.keypoint_detection(images=[cv2.imread('/PATH/TO/IMAGE')])\n",
    "    # or\n",
    "    # result = model.keypoint_detection(paths=['/PATH/TO/IMAGE'])\n",
    "\n",
    "    # 打印预测结果\n",
    "    print(result)\n",
    "    ```\n",
    "\n",
    "- ### 2、API\n",
    "\n",
    "  - ```python\n",
    "    def keypoint_detection(images=None,\n",
    "                           paths=None,\n",
    "                           batch_size=1,\n",
    "                           output_dir='output',\n",
    "                           visualization=False)：\n",
    "    ```\n",
    "\n",
    "    - 预测API，识别出人体手部关键点。\n",
    "    - **参数**\n",
    "      - images (list[numpy.ndarray]): 图片数据，ndarray.shape 为 [H, W, C], 默认设为 None；\n",
    "      - paths (list[str]): 图片的路径, 默认设为 None；\n",
    "      - batch_size (int): batch 的大小，默认设为 1；\n",
    "      - visualization (bool): 是否将识别结果保存为图片文件，默认设为 False；\n",
    "      - output_dir (str): 图片的保存路径，默认设为 output。\n",
    "    - **返回**\n",
    "      - res (list[list[list[int](https://www.paddlepaddle.org.cn/hubdetail?name=hand_pose_localization&amp;en_category=KeyPointDetection)]]): 每张图片识别到的21个手部关键点组成的列表，每个关键点的格式为[x, y](https://www.paddlepaddle.org.cn/hubdetail?name=hand_pose_localization&amp;en_category=KeyPointDetection)，若有关键点未识别到则为None"
   ]
  },
  {
   "cell_type": "markdown",
   "id": "a9854d22",
   "metadata": {
    "id": "四-服务部署"
   },
   "source": [
    "## 四、服务部署\n",
    "\n",
    "- PaddleHub Serving可以部署一个在线人体手部关键点检测服务。\n",
    "\n",
    "- ### 第一步：启动PaddleHub Serving\n",
    "\n",
    "  - 运行启动命令：\n",
    "  - ```shell\n",
    "    $ hub serving start -m hand_pose_localization -p 8866\n",
    "    ```\n",
    "\n",
    "  - 这样就完成了一个人体手部关键点检测的在线服务API的部署，默认端口号为8866。\n",
    "\n",
    "  - **NOTE:** 如使用GPU预测，则需要在启动服务之前，请设置CUDA\\_VISIBLE\\_DEVICES环境变量，否则不用设置。\n",
    "\n",
    "- ### 第二步：发送预测请求\n",
    "\n",
    "  - 配置好服务端，以下数行代码即可实现发送预测请求，获取预测结果\n",
    "\n",
    "  - ```python\n",
    "    import requests\n",
    "    import json\n",
    "    import cv2\n",
    "    import base64\n",
    "\n",
    "    # 图片Base64编码函数\n",
    "    def cv2_to_base64(image):\n",
    "        data = cv2.imencode('.jpg', image)[1]\n",
    "        return base64.b64encode(data.tostring()).decode('utf8')\n",
    "\n",
    "    # 发送HTTP请求\n",
    "    data = {'images':[cv2_to_base64(cv2.imread(\"/PATH/TO/IMAGE\"))]}\n",
    "    headers = {\"Content-type\": \"application/json\"}\n",
    "    url = \"http://127.0.0.1:8866/predict/hand_pose_localization\"\n",
    "    r = requests.post(url=url, headers=headers, data=json.dumps(data))\n",
    "\n",
    "    # 打印预测结果\n",
    "    print(r.json()[\"results\"])\n",
    "    ```"
   ]
  },
  {
   "cell_type": "markdown",
   "id": "d4028d55",
   "metadata": {
    "id": "五-更新历史"
   },
   "source": [
    "## 五、更新历史\n",
    "\n",
    "* 1.0.0\n",
    "\n",
    "  初始发布\n",
    "\n",
    "* 1.0.1\n",
    "\n",
    "  适配paddlehub 2.0\n",
    "\n",
    "* 1.1.0\n",
    "\n",
    "  * ```shell\n",
    "    $ hub install hand_pose_localization==1.1.0\n",
    "    ```"
   ]
  }
 ],
 "metadata": {
  "colab": {
   "name": "hand_pose_localization",
   "toc_visible": true
  },
  "kernelspec": {
   "display_name": "python3",
   "name": "python3"
  }
 },
 "nbformat": 4,
 "nbformat_minor": 5
}
