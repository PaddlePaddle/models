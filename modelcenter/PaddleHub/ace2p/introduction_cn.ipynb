{
 "cells": [
  {
   "cell_type": "markdown",
   "id": "400ff5ee",
   "metadata": {
    "id": "ace2p"
   },
   "source": [
    "# ace2p\n",
    "\n",
    "|模型名称|ace2p|\n",
    "| :--- | :---: |\n",
    "|类别|图像-图像分割|\n",
    "|网络|ACE2P|\n",
    "|数据集|LIP|\n",
    "|是否支持Fine-tuning|否|\n",
    "|模型大小|259MB|\n",
    "|指标|-|\n",
    "|最新更新日期|2021-02-26|"
   ]
  },
  {
   "cell_type": "markdown",
   "id": "d27a9f2c",
   "metadata": {
    "id": "一-模型基本信息"
   },
   "source": [
    "## 一、模型基本信息\n",
    "\n",
    "- ### 应用效果展示\n",
    "\n",
    "  - 网络结构：\n",
    "      <p align=\"center\">\n",
    "      <img src=\"https://bj.bcebos.com/paddlehub/paddlehub-img/ace2p_network.jpg\" hspace=\"10\"/> <br/>\n",
    "      </p>\n",
    "\n",
    "  - 调色板\n",
    "\n",
    "      <p align=\"left\">\n",
    "      <img src=\"https://bj.bcebos.com/paddlehub/paddlehub-img/ace2p_palette.jpg\" hspace=\"10\"/> <br/>\n",
    "      </p>\n",
    "\n",
    "  - 样例结果示例：\n",
    "      <p align=\"center\">\n",
    "      <img src=\"https://user-images.githubusercontent.com/35907364/130913092-312a5f37-842e-4fd0-8db4-5f853fd8419f.jpg\" width=\"337\" height=\"505\" hspace=\"10\"/> <img src=\"https://user-images.githubusercontent.com/35907364/130913765-c9572c77-c6bf-46ec-9653-04ff356b4b85.png\" width=\"337\" height=\"505\" hspace=\"10\"/>\n",
    "      </p>\n",
    "\n",
    "- ### 模型介绍\n",
    "\n",
    "  - 人体解析(Human Parsing)是细粒度的语义分割任务，其旨在识别像素级别的人类图像的组成部分（例如，身体部位和服装）。ACE2P通过融合底层特征，全局上下文信息和边缘细节，端到端地训练学习人体解析任务。该结构针对Intersection over Union指标进行针对性的优化学习，提升准确率。以ACE2P单人人体解析网络为基础的解决方案在CVPR2019第三届LIP挑战赛中赢得了全部三个人体解析任务的第一名。该PaddleHub Module采用ResNet101作为骨干网络，接受输入图片大小为473x473x3。"
   ]
  },
  {
   "cell_type": "markdown",
   "id": "e17452aa",
   "metadata": {
    "id": "二-安装"
   },
   "source": [
    "## 二、安装\n",
    "\n",
    "- ### 1、环境依赖\n",
    "\n",
    "  - paddlepaddle >= 2.0.0\n",
    "\n",
    "  - paddlehub >= 2.0.0\n",
    "\n",
    "- ### 2.安装\n",
    "\n",
    "    - ```shell\n",
    "      $ hub install ace2p\n",
    "      ```\n",
    "    -  如您安装时遇到问题，可参考：[零基础windows安装](../../../../docs/docs_ch/get_start/windows_quickstart.md)\n",
    "      | [零基础Linux安装](../../../../docs/docs_ch/get_start/linux_quickstart.md) | [零基础MacOS安装](../../../../docs/docs_ch/get_start/mac_quickstart.md)"
   ]
  },
  {
   "cell_type": "markdown",
   "id": "01e40ca3",
   "metadata": {
    "id": "三-模型api预测"
   },
   "source": [
    "## 三、模型API预测\n",
    "\n",
    "  - ### 1、命令行预测\n",
    "\n",
    "    ```shell\n",
    "    $ hub run ace2p --input_path \"/PATH/TO/IMAGE\"\n",
    "    ```\n",
    "\n",
    "  - ### 2、预测代码示例\n",
    "\n",
    "    ```python\n",
    "    import paddlehub as hub\n",
    "    import cv2\n",
    "\n",
    "    human_parser = hub.Module(name=\"ace2p\")\n",
    "    result = human_parser.segmentation(images=[cv2.imread('/PATH/TO/IMAGE')])\n",
    "    ```\n",
    "\n",
    "  - ### 3、API\n",
    "\n",
    "    ```python\n",
    "    def segmentation(images=None,\n",
    "                    paths=None,\n",
    "                    batch_size=1,\n",
    "                    use_gpu=False,\n",
    "                    output_dir='ace2p_output',\n",
    "                    visualization=False):\n",
    "    ```\n",
    "\n",
    "    - 预测API，用于图像分割得到人体解析。\n",
    "\n",
    "    - **参数**\n",
    "\n",
    "      * images (list\\[numpy.ndarray\\]): 图片数据，ndarray.shape 为 \\[H, W, C\\]，BGR格式；\n",
    "      * paths (list\\[str\\]): 图片的路径；\n",
    "      * batch\\_size (int): batch 的大小；\n",
    "      * use\\_gpu (bool): 是否使用 GPU；\n",
    "      * output\\_dir (str): 保存处理结果的文件目录；\n",
    "      * visualization (bool): 是否将识别结果保存为图片文件。\n",
    "\n",
    "    - **返回**\n",
    "\n",
    "      * res (list\\[dict\\]): 识别结果的列表，列表中每一个元素为 dict，关键字有'path', 'data'，相应的取值为：\n",
    "          * path (str): 原输入图片的路径；\n",
    "          * data (numpy.ndarray): 图像分割得到的结果，shape 为`H * W`，元素的取值为0-19，表示每个像素的分类结果，映射顺序与下面的调色板相同。\n",
    "\n",
    "    ```python\n",
    "    def save_inference_model(dirname)\n",
    "    ```\n",
    "\n",
    "    - 将模型保存到指定路径。\n",
    "\n",
    "    - **参数**\n",
    "\n",
    "      * dirname: 模型保存路径"
   ]
  },
  {
   "cell_type": "markdown",
   "id": "1a862619",
   "metadata": {
    "id": "四-服务部署"
   },
   "source": [
    "## 四、服务部署\n",
    "\n",
    "- PaddleHub Serving可以部署一个人体解析的在线服务。\n",
    "\n",
    "- ### 第一步：启动PaddleHub Serving\n",
    "\n",
    "  - 运行启动命令：\n",
    "\n",
    "    ```shell\n",
    "     $ hub serving start -m ace2p\n",
    "    ```\n",
    "\n",
    "    - 这样就完成了一个人体解析服务化API的部署，默认端口号为8866。\n",
    "\n",
    "    - **NOTE:** 如使用GPU预测，则需要在启动服务之前，请设置CUDA\\_VISIBLE\\_DEVICES环境变量，否则不用设置。\n",
    "\n",
    "- ### 第二步：发送预测请求\n",
    "\n",
    "  - 配置好服务端，以下数行代码即可实现发送预测请求，获取预测结果\n",
    "\n",
    "      ```python\n",
    "      import requests\n",
    "      import json\n",
    "      import cv2\n",
    "      import base64\n",
    "\n",
    "      import numpy as np\n",
    "\n",
    "      def cv2_to_base64(image):\n",
    "          data = cv2.imencode('.jpg', image)[1]\n",
    "          return base64.b64encode(data.tostring()).decode('utf8')\n",
    "\n",
    "      def base64_to_cv2(b64str):\n",
    "          data = base64.b64decode(b64str.encode('utf8'))\n",
    "          data = np.fromstring(data, np.uint8)\n",
    "          data = cv2.imdecode(data, cv2.IMREAD_COLOR)\n",
    "          return data\n",
    "\n",
    "      # 发送HTTP请求\n",
    "      data = {'images':[cv2_to_base64(cv2.imread(\"/PATH/TO/IMAGE\"))]}\n",
    "      headers = {\"Content-type\": \"application/json\"}\n",
    "      url = \"http://127.0.0.1:8866/predict/ace2p\"\n",
    "      r = requests.post(url=url, headers=headers, data=json.dumps(data))\n",
    "\n",
    "      # 打印预测结果\n",
    "      print(base64_to_cv2(r.json()[\"results\"][0]['data']))\n",
    "      ```"
   ]
  },
  {
   "cell_type": "markdown",
   "id": "526208a6",
   "metadata": {
    "id": "五-更新历史"
   },
   "source": [
    "## 五、更新历史\n",
    "\n",
    "* 1.0.0\n",
    "\n",
    "  初始发布\n",
    "\n",
    "* 1.1.0\n",
    "\n",
    "  适配paddlehub2.0版本\n",
    "\n",
    "* 1.2.0\n",
    "\n",
    "  移除 Fluid API\n",
    "\n",
    "  ```shell\n",
    "  $ hub install ace2p == 1.2.0\n",
    "  ```"
   ]
  }
 ],
 "metadata": {
  "colab": {
   "name": "ace2p",
   "toc_visible": true
  },
  "kernelspec": {
   "display_name": "python3",
   "name": "python3"
  }
 },
 "nbformat": 4,
 "nbformat_minor": 5
}
