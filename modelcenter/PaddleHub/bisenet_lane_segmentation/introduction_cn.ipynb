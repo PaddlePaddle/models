{
 "cells": [
  {
   "cell_type": "markdown",
   "id": "3e5bfcd0",
   "metadata": {
    "id": "bisenet_lane_segmentation"
   },
   "source": [
    "# bisenet_lane_segmentation\n",
    "\n",
    "|模型名称|bisenet_lane_segmentation|\n",
    "| :--- | :---: |\n",
    "|类别|图像-图像分割|\n",
    "|网络|bisenet|\n",
    "|数据集|TuSimple|\n",
    "|是否支持Fine-tuning|否|\n",
    "|模型大小|9.7MB|\n",
    "|指标|ACC96.09%|\n",
    "|最新更新日期|2021-12-03|"
   ]
  },
  {
   "cell_type": "markdown",
   "id": "61085898",
   "metadata": {
    "id": "一-模型基本信息"
   },
   "source": [
    "## 一、模型基本信息\n",
    "\n",
    "- ### 应用效果展示\n",
    "\n",
    "  - 样例结果示例(左为原图，右为效果图)：\n",
    "    <p align=\"center\">\n",
    "    <img src=\"https://user-images.githubusercontent.com/35907364/146115316-e9ed4220-8470-432f-b3f1-549d2bcdc845.jpg\"/>\n",
    "    <img src=\"https://user-images.githubusercontent.com/35907364/146115396-a7d19290-6117-4831-bc35-4b14ae8f90bc.png\"/>\n",
    "    </p>\n",
    "\n",
    "- ### 模型介绍\n",
    "\n",
    "  - 车道线分割是自动驾驶算法的一个范畴，可以用来辅助进行车辆定位和进行决策，早期已有基于传统图像处理的车道线检测方法，但是随着技术的演进，车道线检测任务所应对的场景越来越多样化，目前更多的方式是寻求在语义上对车道线存在位置的检测。bisenet_lane_segmentation是一个轻量化车道线分割模型。\n",
    "\n",
    "  - 更多详情请参考：[bisenet_lane_segmentation](https://github.com/PaddlePaddle/PaddleSeg)"
   ]
  },
  {
   "cell_type": "markdown",
   "id": "882e5eef",
   "metadata": {
    "id": "二-安装"
   },
   "source": [
    "## 二、安装\n",
    "\n",
    "- ### 1、环境依赖\n",
    "\n",
    "    - paddlepaddle >= 2.2.0\n",
    "\n",
    "    - paddlehub >= 2.1.0\n",
    "\n",
    "    - paddleseg >= 2.3.0\n",
    "\n",
    "    - Python >= 3.7+\n",
    "\n",
    "- ### 2、安装\n",
    "\n",
    "    - ```shell\n",
    "      $ hub install bisenet_lane_segmentation\n",
    "      ```\n",
    "\n",
    "    - 如您安装时遇到问题，可参考：[零基础windows安装](../../../../docs/docs_ch/get_start/windows_quickstart.md)\n",
    "      | [零基础Linux安装](../../../../docs/docs_ch/get_start/linux_quickstart.md) | [零基础MacOS安装](../../../../docs/docs_ch/get_start/mac_quickstart.md)"
   ]
  },
  {
   "cell_type": "markdown",
   "id": "02414d59",
   "metadata": {
    "id": "三-模型api预测"
   },
   "source": [
    "## 三、模型API预测\n",
    "\n",
    "- ### 1、命令行预测\n",
    "\n",
    "  - ```shell\n",
    "    $ hub run bisenet_lane_segmentation --input_path \"/PATH/TO/IMAGE\"\n",
    "    ```\n",
    "\n",
    "  - 通过命令行方式实现hub模型的调用，更多请见 [PaddleHub命令行指令](../../../../docs/docs_ch/tutorial/cmd_usage.rst)\n",
    "\n",
    "- ### 2、预测代码示例\n",
    "\n",
    "    - ```python\n",
    "      import paddlehub as hub\n",
    "      import cv2\n",
    "\n",
    "      model = hub.Module(name=\"bisenet_lane_segmentation\")\n",
    "      result = model.predict(image_list=[\"/PATH/TO/IMAGE\"])\n",
    "      print(result)\n",
    "      ```\n",
    "- ### 3、API\n",
    "\n",
    "    - ```python\n",
    "        def predict(self,\n",
    "                    image_list,\n",
    "                    visualization,\n",
    "                    save_path):\n",
    "      ```\n",
    "\n",
    "        - 车道线分割预测API，用于将输入图片中的车道线分割出来。\n",
    "\n",
    "        - 参数\n",
    "\n",
    "            - image_list (list(str | numpy.ndarray)):图片输入路径或者BGR格式numpy数据。\n",
    "            - visualization (bool): 是否进行可视化，默认为False。\n",
    "            - save_path (str): 当visualization为True时，保存图片的路径，默认为\"bisenet_lane_segmentation_output\"。\n",
    "\n",
    "        - 返回\n",
    "\n",
    "            - result (list(numpy.ndarray))：模型分割结果："
   ]
  },
  {
   "cell_type": "markdown",
   "id": "4ed54ae0",
   "metadata": {
    "id": "四-服务部署"
   },
   "source": [
    "## 四、服务部署\n",
    "\n",
    "- PaddleHub Serving可以部署车道线分割在线服务。\n",
    "\n",
    "- ### 第一步：启动PaddleHub Serving\n",
    "\n",
    "  - 运行启动命令：\n",
    "\n",
    "    - ```shell\n",
    "      $ hub serving start -m bisenet_lane_segmentation\n",
    "      ```\n",
    "\n",
    "    - 这样就完成了一个车道线分割在线服务API的部署，默认端口号为8866。\n",
    "\n",
    "    - **NOTE:** 如使用GPU预测，则需要在启动服务之前，请设置CUDA\\_VISIBLE\\_DEVICES环境变量，否则不用设置。\n",
    "\n",
    "- ### 第二步：发送预测请求\n",
    "\n",
    "  - 配置好服务端，以下数行代码即可实现发送预测请求，获取预测结果\n",
    "\n",
    "    ```python\n",
    "    import requests\n",
    "    import json\n",
    "    import cv2\n",
    "    import base64\n",
    "\n",
    "    import numpy as np\n",
    "\n",
    "    def cv2_to_base64(image):\n",
    "        data = cv2.imencode('.jpg', image)[1]\n",
    "        return base64.b64encode(data.tostring()).decode('utf8')\n",
    "\n",
    "    def base64_to_cv2(b64str):\n",
    "        data = base64.b64decode(b64str.encode('utf8'))\n",
    "        data = np.fromstring(data, np.uint8)\n",
    "        data = cv2.imdecode(data, cv2.IMREAD_COLOR)\n",
    "        return data\n",
    "\n",
    "    # 发送HTTP请求\n",
    "    org_im = cv2.imread('/PATH/TO/IMAGE')\n",
    "    data = {'images':[cv2_to_base64(org_im)]}\n",
    "    headers = {\"Content-type\": \"application/json\"}\n",
    "    url = \"http://127.0.0.1:8866/predict/bisenet_lane_segmentation\"\n",
    "    r = requests.post(url=url, headers=headers, data=json.dumps(data))\n",
    "    #print(r.json())\n",
    "    mask = base64_to_cv2(r.json()[\"results\"]['data'][0])\n",
    "    print(mask)\n",
    "    ```"
   ]
  },
  {
   "cell_type": "markdown",
   "id": "d68ee674",
   "metadata": {
    "id": "五-更新历史"
   },
   "source": [
    "## 五、更新历史\n",
    "\n",
    "* 1.0.0\n",
    "\n",
    "  初始发布"
   ]
  }
 ],
 "metadata": {
  "colab": {
   "name": "bisenet_lane_segmentation",
   "toc_visible": true
  },
  "kernelspec": {
   "display_name": "python3",
   "name": "python3"
  }
 },
 "nbformat": 4,
 "nbformat_minor": 5
}
