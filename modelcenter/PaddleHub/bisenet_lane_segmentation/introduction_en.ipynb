{
 "cells": [
  {
   "cell_type": "markdown",
   "id": "ec22d901",
   "metadata": {
    "id": "bisenet_lane_segmentation"
   },
   "source": [
    "# bisenet_lane_segmentation\n",
    "\n",
    "|Module Name|bisenet_lane_segmentation|\n",
    "| :--- | :---: |\n",
    "|Category|Image Segmentation|\n",
    "|Network|bisenet|\n",
    "|Dataset|TuSimple|\n",
    "|Support Fine-tuning|No|\n",
    "|Module Size|9.7MB|\n",
    "|Data Indicators|ACC96.09%|\n",
    "|Latest update date|2021-12-03|"
   ]
  },
  {
   "cell_type": "markdown",
   "id": "a7f9fb7c",
   "metadata": {
    "id": "i-basic-information"
   },
   "source": [
    "## I. Basic Information\n",
    "\n",
    "- ### Application Effect Display\n",
    "\n",
    "  - Sample results:\n",
    "    <p align=\"center\">\n",
    "    <img src=\"https://user-images.githubusercontent.com/35907364/146115316-e9ed4220-8470-432f-b3f1-549d2bcdc845.jpg\"/>\n",
    "    <img src=\"https://user-images.githubusercontent.com/35907364/146115396-a7d19290-6117-4831-bc35-4b14ae8f90bc.png\"/>\n",
    "    </p>\n",
    "\n",
    "- ### Module Introduction\n",
    "\n",
    "  - Lane segmentation is a category of automatic driving algorithms, which can be used to assist vehicle positioning and decision-making. In the early days, there were lane detection methods based on traditional image processing, but with the evolution of technology, the scenes that lane detection tasks deal with More and more diversified, and more methods are currently seeking to detect the location of lane semantically. bisenet_lane_segmentation is a lightweight model for lane segmentation.\n",
    "\n",
    "  - For more information, please refer to: [bisenet_lane_segmentation](https://github.com/PaddlePaddle/PaddleSeg)"
   ]
  },
  {
   "cell_type": "markdown",
   "id": "9c980e30",
   "metadata": {
    "id": "ii-installation"
   },
   "source": [
    "## II. Installation\n",
    "\n",
    "- ### 1、Environmental Dependence\n",
    "\n",
    "    - paddlepaddle >= 2.2.0\n",
    "\n",
    "    - paddlehub >= 2.1.0\n",
    "\n",
    "    - paddleseg >= 2.3.0\n",
    "\n",
    "    - Python >= 3.7+\n",
    "\n",
    "- ### 2、Installation\n",
    "\n",
    "    - ```shell\n",
    "      $ hub install bisenet_lane_segmentation\n",
    "      ```\n",
    "\n",
    "    - In case of any problems during installation, please refer to:[Windows_Quickstart](../../../../docs/docs_en/get_start/windows_quickstart.md)\n",
    "    | [Linux_Quickstart](../../../../docs/docs_en/get_start/linux_quickstart.md) | [Mac_Quickstart](../../../../docs/docs_en/get_start/mac_quickstart.md)"
   ]
  },
  {
   "cell_type": "markdown",
   "id": "b8014f50",
   "metadata": {
    "id": "iii-module-api-prediction"
   },
   "source": [
    "## III. Module API Prediction\n",
    "\n",
    "- ### 1、Command line Prediction\n",
    "\n",
    "  - ```shell\n",
    "    $ hub run bisenet_lane_segmentation --input_path \"/PATH/TO/IMAGE\"\n",
    "    ```\n",
    "\n",
    "  - If you want to call the Hub module through the command line, please refer to: [PaddleHub Command Line Instruction](../../../../docs/docs_en/tutorial/cmd_usage.rst)\n",
    "\n",
    "- ### 2、Prediction Code Example\n",
    "\n",
    "    - ```python\n",
    "      import paddlehub as hub\n",
    "      import cv2\n",
    "\n",
    "      model = hub.Module(name=\"bisenet_lane_segmentation\")\n",
    "      result = model.predict(image_list=[\"/PATH/TO/IMAGE\"])\n",
    "      print(result)\n",
    "\n",
    "      ```\n",
    "- ### 3、API\n",
    "\n",
    "    - ```python\n",
    "        def predict(self,\n",
    "                    image_list,\n",
    "                    visualization,\n",
    "                    save_path):\n",
    "      ```\n",
    "\n",
    "        - Prediction API for lane segmentation.\n",
    "\n",
    "        - **Parameter**\n",
    "\n",
    "            - image_list (list(str | numpy.ndarray)): Image path or image data, ndarray.shape is in the format \\[H, W, C\\]，BGR.\n",
    "            - visualization (bool): Whether to save the recognition results as picture files, default is False.\n",
    "            - save_path (str): Save path of images, \"bisenet_lane_segmentation_output\" by default.\n",
    "\n",
    "        - **Return**\n",
    "\n",
    "            - result (list(numpy.ndarray))：The list of model results."
   ]
  },
  {
   "cell_type": "markdown",
   "id": "8d597284",
   "metadata": {
    "id": "iv-server-deployment"
   },
   "source": [
    "## IV. Server Deployment\n",
    "\n",
    "- PaddleHub Serving can deploy an online service of lane segmentation.\n",
    "\n",
    "- ### Step 1: Start PaddleHub Serving\n",
    "\n",
    "  - Run the startup command:\n",
    "\n",
    "    - ```shell\n",
    "      $ hub serving start -m bisenet_lane_segmentation\n",
    "      ```\n",
    "\n",
    "    - The servitization API is now deployed and the default port number is 8866.\n",
    "\n",
    "    - **NOTE:**  If GPU is used for prediction, set CUDA_VISIBLE_DEVICES environment variable before the service, otherwise it need not be set.\n",
    "\n",
    "- ### Step 2: Send a predictive request\n",
    "\n",
    "  - With a configured server, use the following lines of code to send the prediction request and obtain the result\n",
    "\n",
    "    ```python\n",
    "    import requests\n",
    "    import json\n",
    "    import cv2\n",
    "    import base64\n",
    "\n",
    "    import numpy as np\n",
    "\n",
    "    def cv2_to_base64(image):\n",
    "        data = cv2.imencode('.jpg', image)[1]\n",
    "        return base64.b64encode(data.tostring()).decode('utf8')\n",
    "\n",
    "    def base64_to_cv2(b64str):\n",
    "        data = base64.b64decode(b64str.encode('utf8'))\n",
    "        data = np.fromstring(data, np.uint8)\n",
    "        data = cv2.imdecode(data, cv2.IMREAD_COLOR)\n",
    "        return data\n",
    "\n",
    "    org_im = cv2.imread('/PATH/TO/IMAGE')\n",
    "    data = {'images':[cv2_to_base64(org_im)]}\n",
    "    headers = {\"Content-type\": \"application/json\"}\n",
    "    url = \"http://127.0.0.1:8866/predict/bisenet_lane_segmentation\"\n",
    "    r = requests.post(url=url, headers=headers, data=json.dumps(data))\n",
    "    #print(r.json())\n",
    "    mask = base64_to_cv2(r.json()[\"results\"]['data'][0])\n",
    "    print(mask)\n",
    "    ```"
   ]
  },
  {
   "cell_type": "markdown",
   "id": "37e9a2c0",
   "metadata": {
    "id": "v-release-note"
   },
   "source": [
    "## V. Release Note\n",
    "\n",
    "- 1.0.0\n",
    "\n",
    "  First release"
   ]
  }
 ],
 "metadata": {
  "colab": {
   "name": "bisenet_lane_segmentation",
   "toc_visible": true
  },
  "kernelspec": {
   "display_name": "python3",
   "name": "python3"
  }
 },
 "nbformat": 4,
 "nbformat_minor": 5
}
