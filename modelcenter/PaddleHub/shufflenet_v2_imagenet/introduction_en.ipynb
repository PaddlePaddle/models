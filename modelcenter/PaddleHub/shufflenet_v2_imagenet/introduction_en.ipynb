{
 "cells": [
  {
   "cell_type": "markdown",
   "id": "a2dc838d",
   "metadata": {
    "id": "shufflenet_v2_imagenet"
   },
   "source": [
    "# shufflenet_v2_imagenet\n",
    "\n",
    "|Module Name|shufflenet_v2_imagenet|\n",
    "| :--- | :---: |\n",
    "|Category|image classification|\n",
    "|Network|ShuffleNet V2|\n",
    "|Dataset|ImageNet-2012|\n",
    "|Fine-tuning supported or not|No|\n",
    "|Module Size|11MB|\n",
    "|Latest update date|-|\n",
    "|Data indicators|-|"
   ]
  },
  {
   "cell_type": "markdown",
   "id": "8011a1ef",
   "metadata": {
    "id": "i-basic-information"
   },
   "source": [
    "## I.Basic Information\n",
    "\n",
    "- ### Module Introduction\n",
    "\n",
    "  - ShuffleNet V2 is a light-weight model proposed by MEGVII in 2018. This model proposed pointwise group convolution and channel shuffle to keep accurary and reduce the amount of computation. This module is based on ShuffleNet V2, trained on ImageNet-2012, and can predict an image of 224*224*3."
   ]
  },
  {
   "cell_type": "markdown",
   "id": "ef14764a",
   "metadata": {
    "id": "ii-installation"
   },
   "source": [
    "## II.Installation\n",
    "\n",
    "- ### 1、Environmental Dependence\n",
    "\n",
    "  - paddlepaddle >= 1.4.0\n",
    "\n",
    "  - paddlehub >= 1.0.0  | [How to install PaddleHub](../../../../docs/docs_en/get_start/installation.rst)\n",
    "\n",
    "- ### 2、Installation\n",
    "\n",
    "  - ```shell\n",
    "    $ hub install shufflenet_v2_imagenet\n",
    "    ```\n",
    "  - In case of any problems during installation, please refer to: [Windows_Quickstart](../../../../docs/docs_en/get_start/windows_quickstart.md) | [Linux_Quickstart](../../../../docs/docs_en/get_start/linux_quickstart.md) | [Mac_Quickstart](../../../../docs/docs_en/get_start/mac_quickstart.md)"
   ]
  },
  {
   "cell_type": "markdown",
   "id": "dce4648e",
   "metadata": {
    "id": "iii-module-api-prediction"
   },
   "source": [
    "## III.Module API Prediction\n",
    "\n",
    "- ### 1、Command line Prediction\n",
    "\n",
    "  - ```shell\n",
    "    $ hub run shufflenet_v2_imagenet --input_path \"/PATH/TO/IMAGE\"\n",
    "    ```\n",
    "  - If you want to call the Hub module through the command line, please refer to: [PaddleHub Command Line Instruction](../../../../docs/docs_ch/tutorial/cmd_usage.rst)\n",
    "\n",
    "- ### 2、Prediction Code Example\n",
    "\n",
    "  - ```python\n",
    "    import paddlehub as hub\n",
    "    import cv2\n",
    "\n",
    "    classifier = hub.Module(name=\"shufflenet_v2_imagenet\")\n",
    "    test_img_path = \"/PATH/TO/IMAGE\"\n",
    "    input_dict = {\"image\": [test_img_path]}\n",
    "    result = classifier.classification(data=input_dict)\n",
    "    ```\n",
    "\n",
    "- ### 3、API\n",
    "\n",
    "  - ```python\n",
    "    def classification(data)\n",
    "    ```\n",
    "    - classification API.\n",
    "    - **Parameters**\n",
    "      - data (dict): key is \"image\", value is a list of image paths\n",
    "\n",
    "    - **Return**\n",
    "      - result(list[dict]): classication results, each element in the list is dict, key is the label name, and value is the corresponding probability"
   ]
  },
  {
   "cell_type": "markdown",
   "id": "1850aebc",
   "metadata": {
    "id": "iv-release-note"
   },
   "source": [
    "## IV.Release Note\n",
    "\n",
    "* 1.0.0\n",
    "\n",
    "  First release\n",
    "\n",
    "  - ```shell\n",
    "    $ hub install shufflenet_v2_imagenet==1.0.0\n",
    "    ```"
   ]
  }
 ],
 "metadata": {
  "colab": {
   "name": "shufflenet_v2_imagenet",
   "toc_visible": true
  },
  "kernelspec": {
   "display_name": "python3",
   "name": "python3"
  }
 },
 "nbformat": 4,
 "nbformat_minor": 5
}
