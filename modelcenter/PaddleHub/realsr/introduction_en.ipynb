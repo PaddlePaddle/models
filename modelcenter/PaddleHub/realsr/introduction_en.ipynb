{
 "cells": [
  {
   "cell_type": "markdown",
   "id": "8a6652bb",
   "metadata": {
    "id": "realsr"
   },
   "source": [
    "# realsr\n",
    "\n",
    "|Module Name |reasr|\n",
    "| :--- | :---: |\n",
    "|Category |Image editing|\n",
    "|Network|LP-KPN|\n",
    "|Dataset |RealSR dataset|\n",
    "|Fine-tuning supported or not|No|\n",
    "|Module Size |64MB|\n",
    "|Latest update date|2021-02-26|\n",
    "|Data indicators |PSNR29.05|"
   ]
  },
  {
   "cell_type": "markdown",
   "id": "7d090dbe",
   "metadata": {
    "id": "i-basic-information"
   },
   "source": [
    "## I. Basic Information\n",
    "\n",
    "- ### Application Effect Display\n",
    "\n",
    "  - Sample results:\n",
    "    <p align=\"center\">\n",
    "    <img src=\"https://user-images.githubusercontent.com/35907364/133558583-0b7049db-ed1f-4a16-8676-f2141fcb3dee.png\" width=\"450\" height=\"300\" hspace=\"10\"/> <img src=\"https://user-images.githubusercontent.com/35907364/130789888-a0d4f78e-acd6-44c1-9570-7390e90ae8dc.png\" width=\"450\" height=\"300\" hspace=\"10\"/>\n",
    "    </p>\n",
    "\n",
    "- ### Module Introduction\n",
    "\n",
    "  - Realsr is a super resolution model for image and video based on \"Toward Real-World Single Image Super-Resolution: A New Benchmark and A New Mode\". This model provides super resolution result with scale factor x4.\n",
    "\n",
    "  - For more information, please refer to: [realsr](https://github.com/csjcai/RealSR)"
   ]
  },
  {
   "cell_type": "markdown",
   "id": "6ec27af5",
   "metadata": {
    "id": "ii-installation"
   },
   "source": [
    "## II. Installation\n",
    "\n",
    "- ### 1、Environmental Dependence\n",
    "\n",
    "    - paddlepaddle >= 2.0.0\n",
    "\n",
    "    - paddlehub >= 2.0.0\n",
    "\n",
    "    - **NOTE**: This Module relies on ffmpeg, Please install ffmpeg before using this Module.\n",
    "      ```shell\n",
    "      $ conda install x264=='1!152.20180717' ffmpeg=4.0.2 -c conda-forge\n",
    "      ```\n",
    "\n",
    "- ### 2、Installation\n",
    "\n",
    "    - ```shell\n",
    "      $ hub install realsr\n",
    "      ```\n",
    "\n",
    "    - In case of any problems during installation, please refer to:[Windows_Quickstart](../../../../docs/docs_en/get_start/windows_quickstart.md)\n",
    "    | [Linux_Quickstart](../../../../docs/docs_en/get_start/linux_quickstart.md) | [Mac_Quickstart](../../../../docs/docs_en/get_start/mac_quickstart.md)"
   ]
  },
  {
   "cell_type": "markdown",
   "id": "66472e43",
   "metadata": {
    "id": "iii-module-api-prediction"
   },
   "source": [
    "## III. Module API Prediction\n",
    "\n",
    "  - ### 1、Prediction Code Example\n",
    "\n",
    "    - ```python\n",
    "      import paddlehub as hub\n",
    "\n",
    "      model = hub.Module(name='realsr')\n",
    "      model.predict('/PATH/TO/IMAGE')\n",
    "\n",
    "      # model.predict('/PATH/TO/VIDEO')\n",
    "      ```\n",
    "  - ### 2、API\n",
    "\n",
    "    - ```python\n",
    "      def predict(self, input):\n",
    "      ```\n",
    "\n",
    "      - Prediction API.\n",
    "\n",
    "      - **Parameter**\n",
    "\n",
    "          - input (str): image path.\n",
    "\n",
    "      - **Return**\n",
    "\n",
    "          - If input is image path, the output is：\n",
    "            - pred_img(np.ndarray): image data, ndarray.shape is in the format [H, W, C], BGR.\n",
    "            - out_path(str): save path of images.\n",
    "\n",
    "          - If input is video path, the output is ：\n",
    "            - frame_pattern_combined(str): save path of frames from output video.\n",
    "            - vid_out_path(str): save path of output video.\n",
    "\n",
    "    - ```python\n",
    "      def run_image(self, img):\n",
    "      ```\n",
    "      - Prediction API for images.\n",
    "\n",
    "      - **Parameter**\n",
    "\n",
    "          - img (str｜np.ndarray): Image data,  str or ndarray. ndarray.shape is in the format [H, W, C], BGR.\n",
    "\n",
    "      - **Return**\n",
    "\n",
    "          - pred_img(np.ndarray): Prediction result, ndarray.shape is in the format [H, W, C], BGR.\n",
    "\n",
    "    - ```python\n",
    "      def run_video(self, video):\n",
    "      ```\n",
    "       -  Prediction API for video.\n",
    "\n",
    "          - **Parameter**\n",
    "\n",
    "            - video(str): Video path.\n",
    "\n",
    "          - **Return**\n",
    "\n",
    "            - frame_pattern_combined(str): Save path of frames from output video.\n",
    "            - vid_out_path(str): Save path of output video."
   ]
  },
  {
   "cell_type": "markdown",
   "id": "75e510db",
   "metadata": {
    "id": "iv-server-deployment"
   },
   "source": [
    "## IV. Server Deployment\n",
    "\n",
    "- PaddleHub Serving can deploy an online service of image super resolution.\n",
    "\n",
    "- ### Step 1: Start PaddleHub Serving\n",
    "\n",
    "  - Run the startup command:\n",
    "\n",
    "    - ```shell\n",
    "      $ hub serving start -m realsr\n",
    "      ```\n",
    "\n",
    "  - The servitization API is now deployed and the default port number is 8866.\n",
    "\n",
    "  - **NOTE:**  If GPU is used for prediction, set CUDA_VISIBLE_DEVICES environment variable before the service, otherwise it need not be set.\n",
    "\n",
    "- ### Step 2: Send a predictive request\n",
    "\n",
    "    - With a configured server, use the following lines of code to send the prediction request and obtain the result\n",
    "\n",
    "      - ```python\n",
    "        import requests\n",
    "        import json\n",
    "        import base64\n",
    "\n",
    "        import cv2\n",
    "        import numpy as np\n",
    "\n",
    "        def cv2_to_base64(image):\n",
    "            data = cv2.imencode('.jpg', image)[1]\n",
    "            return base64.b64encode(data.tostring()).decode('utf8')\n",
    "        def base64_to_cv2(b64str):\n",
    "            data = base64.b64decode(b64str.encode('utf8'))\n",
    "            data = np.fromstring(data, np.uint8)\n",
    "            data = cv2.imdecode(data, cv2.IMREAD_COLOR)\n",
    "            return data\n",
    "\n",
    "        org_im = cv2.imread('/PATH/TO/IMAGE')\n",
    "        data = {'images':cv2_to_base64(org_im)}\n",
    "        headers = {\"Content-type\": \"application/json\"}\n",
    "        url = \"http://127.0.0.1:8866/predict/realsr\"\n",
    "        r = requests.post(url=url, headers=headers, data=json.dumps(data))\n",
    "        img = base64_to_cv2(r.json()[\"results\"])\n",
    "        cv2.imwrite('/PATH/TO/SAVE/IMAGE', img)\n",
    "\n",
    "        ```"
   ]
  },
  {
   "cell_type": "markdown",
   "id": "30275b65",
   "metadata": {
    "id": "v-release-note"
   },
   "source": [
    "## V. Release Note\n",
    "\n",
    "- 1.0.0\n",
    "\n",
    "  First release\n",
    "\n",
    "* 1.0.1\n",
    "\n",
    "  Support paddlehub2.0\n",
    "\n",
    "* 1.1.0\n",
    "\n",
    "  Update code format\n",
    "\n",
    "  ```shell\n",
    "  $ hub install realsr == 1.1.0\n",
    "  ```"
   ]
  }
 ],
 "metadata": {
  "colab": {
   "name": "realsr",
   "toc_visible": true
  },
  "kernelspec": {
   "display_name": "python3",
   "name": "python3"
  }
 },
 "nbformat": 4,
 "nbformat_minor": 5
}
