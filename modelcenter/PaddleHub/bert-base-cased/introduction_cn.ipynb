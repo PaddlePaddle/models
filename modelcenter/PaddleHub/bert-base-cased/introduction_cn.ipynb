{
 "cells": [
  {
   "cell_type": "markdown",
   "id": "334bdc85",
   "metadata": {
    "id": "api"
   },
   "source": [
    "## API\n",
    "\n",
    "创建Module对象（动态图组网版本）。\n",
    "\n",
    "**参数**\n",
    "\n",
    "* `task`： 任务名称，可为`seq-cls`(文本分类任务，原来的`sequence_classification`在未来会被弃用)或`token-cls`(序列标注任务)。\n",
    "* `load_checkpoint`：使用PaddleHub Fine-tune api训练保存的模型参数文件路径。\n",
    "* `label_map`：预测时的类别映射表。\n",
    "* `num_classes`：分类任务的类别数，如果指定了`label_map`，此参数可不传，默认2分类。\n",
    "* `suffix`: 序列标注任务的标签格式，如果设定为`True`，标签以'-B', '-I', '-E' 或者 '-S'为结尾，此参数默认为`False`。\n",
    "* `**kwargs`：用户额外指定的关键字字典类型的参数。\n",
    "\n",
    "**参数**\n",
    "\n",
    "* `data`： 待预测数据，格式为\\[\\[sample\\_a\\_text\\_a, sample\\_a\\_text\\_b\\], \\[sample\\_b\\_text\\_a, sample\\_b\\_text\\_b\\],…,\\]，其中每个元素都是一个样例，每个样例可以包含text\\_a与text\\_b。每个样例文本数量（1个或者2个）需和训练时保持一致。\n",
    "* `max_seq_len`：模型处理文本的最大长度\n",
    "* `batch_size`：模型批处理大小\n",
    "* `use_gpu`：是否使用gpu，默认为False。对于GPU用户，建议开启use_gpu。\n",
    "\n",
    "**返回**\n",
    "\n",
    "* `results`：list类型，不同任务类型的返回结果如下\n",
    "  * 文本分类：列表里包含每个句子的预测标签，格式为\\[label\\_1, label\\_2, …,\\]\n",
    "  * 序列标注：列表里包含每个句子每个token的预测标签，格式为\\[\\[token\\_1, token\\_2, …,\\], \\[token\\_1, token\\_2, …,\\], …,\\]\n",
    "\n",
    "用于获取输入文本的句子粒度特征与字粒度特征\n",
    "\n",
    "**参数**\n",
    "\n",
    "* `data`：输入文本列表，格式为\\[\\[sample\\_a\\_text\\_a, sample\\_a\\_text\\_b\\], \\[sample\\_b\\_text\\_a, sample\\_b\\_text\\_b\\],…,\\]，其中每个元素都是一个样例，每个样例可以包含text\\_a与text\\_b。\n",
    "* `use_gpu`：是否使用gpu，默认为False。对于GPU用户，建议开启use_gpu。\n",
    "\n",
    "**返回**\n",
    "\n",
    "* `results`：list类型，格式为\\[\\[sample\\_a\\_pooled\\_feature, sample\\_a\\_seq\\_feature\\], \\[sample\\_b\\_pooled\\_feature, sample\\_b\\_seq\\_feature\\],…,\\]，其中每个元素都是对应样例的特征输出，每个样例都有句子粒度特征pooled\\_feature与字粒度特征seq\\_feature。\n",
    "\n",
    "**代码示例**\n",
    "\n",
    "详情可参考PaddleHub示例：\n",
    "- [文本分类](https://github.com/PaddlePaddle/PaddleHub/tree/release/v2.0.0-beta/demo/text_classification)\n",
    "- [序列标注](https://github.com/PaddlePaddle/PaddleHub/tree/release/v2.0.0-beta/demo/sequence_labeling)"
   ]
  },
  {
   "cell_type": "markdown",
   "id": "bffb2916",
   "metadata": {
    "id": "服务部署"
   },
   "source": [
    "## 服务部署\n",
    "\n",
    "PaddleHub Serving可以部署一个在线获取预训练词向量。"
   ]
  },
  {
   "cell_type": "markdown",
   "id": "f6c65f80",
   "metadata": {
    "id": "step1-启动paddlehub-serving"
   },
   "source": [
    "### Step1: 启动PaddleHub Serving\n",
    "\n",
    "运行启动命令：\n",
    "\n",
    "这样就完成了一个获取预训练词向量服务化API的部署，默认端口号为8866。\n",
    "\n",
    "**NOTE:** 如使用GPU预测，则需要在启动服务之前，请设置CUDA_VISIBLE_DEVICES环境变量，否则不用设置。"
   ]
  },
  {
   "cell_type": "markdown",
   "id": "fb9f9495",
   "metadata": {
    "id": "step2-发送预测请求"
   },
   "source": [
    "### Step2: 发送预测请求\n",
    "\n",
    "配置好服务端，以下数行代码即可实现发送预测请求，获取预测结果"
   ]
  },
  {
   "cell_type": "markdown",
   "id": "de705507",
   "metadata": {
    "id": "查看代码"
   },
   "source": [
    "##   查看代码\n",
    "\n",
    "https://github.com/PaddlePaddle/models/tree/develop/PaddleNLP/pretrain_langauge_models/BERT"
   ]
  },
  {
   "cell_type": "markdown",
   "id": "874205b1",
   "metadata": {
    "id": "依赖"
   },
   "source": [
    "## 依赖\n",
    "\n",
    "paddlepaddle >= 2.0.0\n",
    "\n",
    "paddlehub >= 2.0.0"
   ]
  },
  {
   "cell_type": "markdown",
   "id": "78a1baf5",
   "metadata": {
    "id": "更新历史"
   },
   "source": [
    "## 更新历史\n",
    "\n",
    "* 1.0.0\n",
    "\n",
    "  初始发布\n",
    "\n",
    "* 1.1.0\n",
    "\n",
    "  支持get_embedding与get_params_layer\n",
    "\n",
    "* 2.0.0\n",
    "\n",
    "  全面升级动态图，接口有所变化。\n",
    "\n",
    "* 2.0.1\n",
    "\n",
    "  任务名称调整，增加序列标注任务`token-cls`\n",
    "\n",
    "* 2.0.2\n",
    "\n",
    "  增加文本匹配任务`text-matching`"
   ]
  }
 ],
 "metadata": {
  "colab": {
   "name": "API",
   "toc_visible": true
  },
  "kernelspec": {
   "display_name": "python3",
   "name": "python3"
  }
 },
 "nbformat": 4,
 "nbformat_minor": 5
}
