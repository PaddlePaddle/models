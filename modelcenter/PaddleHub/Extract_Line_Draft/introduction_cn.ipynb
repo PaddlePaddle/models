{
 "cells": [
  {
   "cell_type": "markdown",
   "id": "acdb8034",
   "metadata": {
    "id": "extract_line_draft"
   },
   "source": [
    "# Extract_Line_Draft\n",
    "\n",
    "|模型名称|Extract_Line_Draft|\n",
    "| :--- | :---: |\n",
    "|类别|图像-图像分割|\n",
    "|网络|-|\n",
    "|数据集|-|\n",
    "|是否支持Fine-tuning|否|\n",
    "|模型大小|259MB|\n",
    "|指标|-|\n",
    "|最新更新日期|2021-02-26|"
   ]
  },
  {
   "cell_type": "markdown",
   "id": "e14c939b",
   "metadata": {
    "id": "一-模型基本信息"
   },
   "source": [
    "## 一、模型基本信息\n",
    "\n",
    "- ### 应用效果展示\n",
    "\n",
    "  - 样例结果示例：\n",
    "      <p align=\"center\">\n",
    "      <img src=\"https://ai-studio-static-online.cdn.bcebos.com/1c30757e069541a18dc89b92f0750983b77ad762560849afa0170046672e57a3\" width=\"337\" height=\"505\" hspace=\"10\"/> <img src=\"https://ai-studio-static-online.cdn.bcebos.com/7ef00637e5974be2847317053f8abe97236cec75fba14f77be2c095529a1eeb3\" width=\"337\" height=\"505\" hspace=\"10\"/>\n",
    "      </p>\n",
    "\n",
    "- ### 模型介绍\n",
    "\n",
    "  - 提取线稿（Extract_Line_Draft），该模型可自动根据彩色图生成线稿图。该PaddleHub Module支持API预测及命令行预测。"
   ]
  },
  {
   "cell_type": "markdown",
   "id": "a4be0542",
   "metadata": {
    "id": "二-安装"
   },
   "source": [
    "## 二、安装\n",
    "\n",
    "- ### 1、环境依赖\n",
    "\n",
    "  - paddlepaddle >= 2.0.0\n",
    "\n",
    "  - paddlehub >= 2.0.0\n",
    "\n",
    "- ### 2.安装\n",
    "\n",
    "    - ```shell\n",
    "      $ hub install Extract_Line_Draft\n",
    "      ```\n",
    "    -  如您安装时遇到问题，可参考：[零基础windows安装](../../../../docs/docs_ch/get_start/windows_quickstart.md)\n",
    "      | [零基础Linux安装](../../../../docs/docs_ch/get_start/linux_quickstart.md) | [零基础MacOS安装](../../../../docs/docs_ch/get_start/mac_quickstart.md)"
   ]
  },
  {
   "cell_type": "markdown",
   "id": "313564e6",
   "metadata": {
    "id": "三-模型api预测"
   },
   "source": [
    "## 三、模型API预测\n",
    "\n",
    "  - ### 1、命令行预测\n",
    "\n",
    "    ```shell\n",
    "    $ hub run Extract_Line_Draft --input_path \"testImage\" --use_gpu True\n",
    "    ```\n",
    "\n",
    "  - ### 2、预测代码示例\n",
    "\n",
    "    ```python\n",
    "    import paddlehub as hub\n",
    "\n",
    "    Extract_Line_Draft_test = hub.Module(name=\"Extract_Line_Draft\")\n",
    "\n",
    "    test_img = \"testImage.png\"\n",
    "\n",
    "    # execute predict\n",
    "    Extract_Line_Draft_test.ExtractLine(test_img, use_gpu=True)\n",
    "    ```\n",
    "\n",
    "  - ### 3、API\n",
    "\n",
    "    ```python\n",
    "    def ExtractLine(image, use_gpu=False)\n",
    "    ```\n",
    "\n",
    "    - 预测API，用于图像分割得到人体解析。\n",
    "\n",
    "    - **参数**\n",
    "\n",
    "      * image(str): 待检测的图片路径\n",
    "      * use_gpu (bool): 是否使用 GPU"
   ]
  },
  {
   "cell_type": "markdown",
   "id": "36caf200",
   "metadata": {
    "id": "四-更新历史"
   },
   "source": [
    "## 四、更新历史\n",
    "\n",
    "* 1.0.0\n",
    "\n",
    "  初始发布\n",
    "\n",
    "* 1.1.0\n",
    "\n",
    "  移除 Fluid API\n",
    "\n",
    "  ```shell\n",
    "  $ hub install Extract_Line_Draft == 1.1.0\n",
    "  ```"
   ]
  }
 ],
 "metadata": {
  "colab": {
   "name": "Extract_Line_Draft",
   "toc_visible": true
  },
  "kernelspec": {
   "display_name": "python3",
   "name": "python3"
  }
 },
 "nbformat": 4,
 "nbformat_minor": 5
}
