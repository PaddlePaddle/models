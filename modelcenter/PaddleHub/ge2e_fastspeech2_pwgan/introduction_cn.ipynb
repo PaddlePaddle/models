{
 "cells": [
  {
   "cell_type": "markdown",
   "id": "99284436",
   "metadata": {
    "id": "ge2e_fastspeech2_pwgan"
   },
   "source": [
    "# ge2e_fastspeech2_pwgan\n",
    "\n",
    "|模型名称|ge2e_fastspeech2_pwgan|\n",
    "| :--- | :---: |\n",
    "|类别|语音-声音克隆|\n",
    "|网络|FastSpeech2|\n",
    "|数据集|AISHELL-3|\n",
    "|是否支持Fine-tuning|否|\n",
    "|模型大小|462MB|\n",
    "|最新更新日期|2021-12-17|\n",
    "|数据指标|-|"
   ]
  },
  {
   "cell_type": "markdown",
   "id": "1335d6ee",
   "metadata": {
    "id": "一-模型基本信息"
   },
   "source": [
    "## 一、模型基本信息"
   ]
  },
  {
   "cell_type": "markdown",
   "id": "fcb97c24",
   "metadata": {
    "id": "模型介绍"
   },
   "source": [
    "### 模型介绍\n",
    "\n",
    "声音克隆是指使用特定的音色，结合文字的读音合成音频，使得合成后的音频具有目标说话人的特征，从而达到克隆的目的。\n",
    "\n",
    "在训练语音克隆模型时，目标音色作为Speaker Encoder的输入，模型会提取这段语音的说话人特征（音色）作为Speaker Embedding。接着，在训练模型重新合成此类音色的语音时，除了输入的目标文本外，说话人的特征也将成为额外条件加入模型的训练。\n",
    "\n",
    "在预测时，选取一段新的目标音色作为Speaker Encoder的输入，并提取其说话人特征，最终实现输入为一段文本和一段目标音色，模型生成目标音色说出此段文本的语音片段。\n",
    "\n",
    "![](https://ai-studio-static-online.cdn.bcebos.com/982ab955b87244d3bae3b003aff8e28d9ec159ff0d6246a79757339076dfe7d4)\n",
    "\n",
    "`ge2e_fastspeech2_pwgan`是一个支持中文的语音克隆模型，分别使用了LSTMSpeakerEncoder、FastSpeech2和PWGan模型分别用于语音特征提取、目标音频特征合成和语音波形转换。\n",
    "\n",
    "关于模型的详请可参考[PaddleSpeech](https://github.com/PaddlePaddle/PaddleSpeech)。"
   ]
  },
  {
   "cell_type": "markdown",
   "id": "744932c1",
   "metadata": {
    "id": "二-安装"
   },
   "source": [
    "## 二、安装\n",
    "\n",
    "- ### 1、环境依赖\n",
    "\n",
    "  - paddlepaddle >= 2.2.0\n",
    "\n",
    "  - paddlehub >= 2.1.0    | [如何安装PaddleHub](../../../../docs/docs_ch/get_start/installation.rst)\n",
    "\n",
    "- ### 2、安装\n",
    "\n",
    "  - ```shell\n",
    "    $ hub install ge2e_fastspeech2_pwgan\n",
    "    ```\n",
    "  - 如您安装时遇到问题，可参考：[零基础windows安装](../../../../docs/docs_ch/get_start/windows_quickstart.md)\n",
    " | [零基础Linux安装](../../../../docs/docs_ch/get_start/linux_quickstart.md) | [零基础MacOS安装](../../../../docs/docs_ch/get_start/mac_quickstart.md)"
   ]
  },
  {
   "cell_type": "markdown",
   "id": "c607824f",
   "metadata": {
    "id": "三-模型api预测"
   },
   "source": [
    "## 三、模型API预测\n",
    "\n",
    "- ### 1、预测代码示例\n",
    "\n",
    "  - ```python\n",
    "    import paddlehub as hub\n",
    "\n",
    "    model = hub.Module(name='ge2e_fastspeech2_pwgan', output_dir='./', speaker_audio='/data/man.wav')  # 指定目标音色音频文件\n",
    "    texts = [\n",
    "        '语音的表现形式在未来将变得越来越重要$',\n",
    "        '今天的天气怎么样$',  ]\n",
    "    wavs = model.generate(texts, use_gpu=True)\n",
    "\n",
    "    for text, wav in zip(texts, wavs):\n",
    "        print('='*30)\n",
    "        print(f'Text: {text}')\n",
    "        print(f'Wav: {wav}')\n",
    "    ```\n",
    "\n",
    "- ### 2、API\n",
    "  - ```python\n",
    "    def __init__(speaker_audio: str = None,\n",
    "                 output_dir: str = './')\n",
    "    ```\n",
    "    - 初始化module，可配置模型的目标音色的音频文件和输出的路径。\n",
    "\n",
    "    - **参数**\n",
    "      - `speaker_audio`(str): 目标说话人语音音频文件(*.wav)的路径，默认为None(使用默认的女声作为目标音色)。\n",
    "      - `output_dir`(str): 合成音频的输出文件，默认为当前目录。\n",
    "\n",
    "  - ```python\n",
    "    def get_speaker_embedding()\n",
    "    ```\n",
    "    - 获取模型的目标说话人特征。\n",
    "\n",
    "    - **返回**\n",
    "      - `results`(numpy.ndarray): 长度为256的numpy数组，代表目标说话人的特征。\n",
    "\n",
    "  - ```python\n",
    "    def set_speaker_embedding(speaker_audio: str)\n",
    "    ```\n",
    "    - 设置模型的目标说话人特征。\n",
    "\n",
    "    - **参数**\n",
    "      - `speaker_audio`(str): 必填，目标说话人语音音频文件(*.wav)的路径。\n",
    "\n",
    "  - ```python\n",
    "    def generate(data: Union[str, List[str]], use_gpu: bool = False):\n",
    "    ```\n",
    "    - 根据输入文字，合成目标说话人的语音音频文件。\n",
    "\n",
    "    - **参数**\n",
    "      - `data`(Union[str, List[str]]): 必填，目标音频的内容文本列表，目前只支持中文，不支持添加标点符号。\n",
    "      - `use_gpu`(bool): 是否使用gpu执行计算，默认为False。"
   ]
  },
  {
   "cell_type": "markdown",
   "id": "d2fce7f0",
   "metadata": {
    "id": "四-更新历史"
   },
   "source": [
    "## 四、更新历史\n",
    "\n",
    "* 1.0.0\n",
    "\n",
    "  初始发布。\n",
    "\n",
    "  ```shell\n",
    "  $ hub install ge2e_fastspeech2_pwgan\n",
    "  ```"
   ]
  }
 ],
 "metadata": {
  "colab": {
   "name": "ge2e_fastspeech2_pwgan",
   "toc_visible": true
  },
  "kernelspec": {
   "display_name": "python3",
   "name": "python3"
  }
 },
 "nbformat": 4,
 "nbformat_minor": 5
}
