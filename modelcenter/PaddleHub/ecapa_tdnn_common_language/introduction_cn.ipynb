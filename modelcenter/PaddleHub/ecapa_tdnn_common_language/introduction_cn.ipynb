{
 "cells": [
  {
   "cell_type": "markdown",
   "id": "144efc28",
   "metadata": {
    "id": "ecapa_tdnn_common_language"
   },
   "source": [
    "# ecapa_tdnn_common_language\n",
    "\n",
    "|模型名称|ecapa_tdnn_common_language|\n",
    "| :--- | :---: |\n",
    "|类别|语音-语言识别|\n",
    "|网络|ECAPA-TDNN|\n",
    "|数据集|CommonLanguage|\n",
    "|是否支持Fine-tuning|否|\n",
    "|模型大小|79MB|\n",
    "|最新更新日期|2021-12-30|\n",
    "|数据指标|ACC 84.9%|"
   ]
  },
  {
   "cell_type": "markdown",
   "id": "8aa8802e",
   "metadata": {
    "id": "一-模型基本信息"
   },
   "source": [
    "## 一、模型基本信息"
   ]
  },
  {
   "cell_type": "markdown",
   "id": "2e9373d2",
   "metadata": {
    "id": "模型介绍"
   },
   "source": [
    "### 模型介绍\n",
    "\n",
    "ecapa_tdnn_common_language采用了[ECAPA-TDNN](https://arxiv.org/abs/2005.07143)的模型结构，并在[CommonLanguage](https://zenodo.org/record/5036977/)数据集上进行了预训练，在其测试集的测试结果为 ACC 84.9%。\n",
    "\n",
    "<p align=\"center\">\n",
    "<img src=\"https://d3i71xaburhd42.cloudfront.net/9609f4817a7e769f5e3e07084db35e46696e82cd/3-Figure2-1.png\" hspace=\"10\" height=\"550\"/> <br/>\n",
    "</p>\n",
    "\n",
    "更多详情请参考\n",
    "- [CommonLanguage](https://zenodo.org/record/5036977#.Yc19b5Mzb0o)\n",
    "- [ECAPA-TDNN: Emphasized Channel Attention, Propagation and Aggregation in TDNN Based Speaker Verification](https://arxiv.org/pdf/2005.07143.pdf)\n",
    "- [The SpeechBrain Toolkit](https://github.com/speechbrain/speechbrain)"
   ]
  },
  {
   "cell_type": "markdown",
   "id": "a849c189",
   "metadata": {
    "id": "二-安装"
   },
   "source": [
    "## 二、安装\n",
    "\n",
    "- ### 1、环境依赖\n",
    "\n",
    "  - paddlepaddle >= 2.2.0\n",
    "\n",
    "  - paddlehub >= 2.2.0    | [如何安装PaddleHub](../../../../docs/docs_ch/get_start/installation.rst)\n",
    "\n",
    "- ### 2、安装\n",
    "\n",
    "  - ```shell\n",
    "    $ hub install ecapa_tdnn_common_language\n",
    "    ```\n",
    "  - 如您安装时遇到问题，可参考：[零基础windows安装](../../../../docs/docs_ch/get_start/windows_quickstart.md)\n",
    " | [零基础Linux安装](../../../../docs/docs_ch/get_start/linux_quickstart.md) | [零基础MacOS安装](../../../../docs/docs_ch/get_start/mac_quickstart.md)"
   ]
  },
  {
   "cell_type": "markdown",
   "id": "85fe8186",
   "metadata": {
    "id": "三-模型api预测"
   },
   "source": [
    "## 三、模型API预测\n",
    "\n",
    "- ### 1、预测代码示例\n",
    "\n",
    "    ```python\n",
    "    import paddlehub as hub\n",
    "\n",
    "    model = hub.Module(\n",
    "        name='ecapa_tdnn_common_language',\n",
    "        version='1.0.0')\n",
    "\n",
    "    # 通过下列链接可下载示例音频\n",
    "    # https://paddlehub.bj.bcebos.com/paddlehub_dev/zh.wav\n",
    "    # https://paddlehub.bj.bcebos.com/paddlehub_dev/en.wav\n",
    "    # https://paddlehub.bj.bcebos.com/paddlehub_dev/it.wav\n",
    "\n",
    "    # Language Identification\n",
    "    score, label = model.speaker_verify('zh.wav')\n",
    "    print(score, label)\n",
    "    # array([0.6214552], dtype=float32), 'Chinese_China'\n",
    "    score, label = model.speaker_verify('en.wav')\n",
    "    print(score, label)\n",
    "    # array([0.37193954], dtype=float32), 'English'\n",
    "    score, label = model.speaker_verify('it.wav')\n",
    "    print(score, label)\n",
    "    # array([0.46913534], dtype=float32), 'Italian'\n",
    "    ```\n",
    "\n",
    "- ### 2、API\n",
    "  - ```python\n",
    "    def language_identify(\n",
    "        wav: os.PathLike,\n",
    "    )\n",
    "    ```\n",
    "    - 判断输入人声音频的语言类别。\n",
    "\n",
    "    - **参数**\n",
    "\n",
    "      - `wav`：输入的说话人的音频文件，格式为`*.wav`。\n",
    "\n",
    "    - **返回**\n",
    "\n",
    "      - 输出结果的得分和对应的语言类别。"
   ]
  },
  {
   "cell_type": "markdown",
   "id": "93091d02",
   "metadata": {
    "id": "四-更新历史"
   },
   "source": [
    "## 四、更新历史\n",
    "\n",
    "* 1.0.0\n",
    "\n",
    "  初始发布\n",
    "\n",
    "  ```shell\n",
    "  $ hub install ecapa_tdnn_common_language\n",
    "  ```"
   ]
  }
 ],
 "metadata": {
  "colab": {
   "name": "ecapa_tdnn_common_language",
   "toc_visible": true
  },
  "kernelspec": {
   "display_name": "python3",
   "name": "python3"
  }
 },
 "nbformat": 4,
 "nbformat_minor": 5
}
