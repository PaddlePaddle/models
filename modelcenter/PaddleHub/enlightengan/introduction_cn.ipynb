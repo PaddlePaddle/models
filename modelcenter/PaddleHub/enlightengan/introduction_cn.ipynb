{
 "cells": [
  {
   "cell_type": "markdown",
   "id": "6e57a800",
   "metadata": {
    "id": "enlightengan"
   },
   "source": [
    "# enlightengan\n",
    "\n",
    "|模型名称|enlightengan|\n",
    "| :--- | :---: |\n",
    "|类别|图像 - 暗光增强|\n",
    "|网络|EnlightenGAN|\n",
    "|数据集|-|\n",
    "|是否支持Fine-tuning|否|\n",
    "|模型大小|83MB|\n",
    "|最新更新日期|2021-11-04|\n",
    "|数据指标|-|"
   ]
  },
  {
   "cell_type": "markdown",
   "id": "ec4e408a",
   "metadata": {
    "id": "一-模型基本信息"
   },
   "source": [
    "## 一、模型基本信息\n",
    "\n",
    "- ### 应用效果展示\n",
    "  - 样例结果示例：\n",
    "    <p align=\"center\">\n",
    "    <img src=\"https://user-images.githubusercontent.com/22424850/142827116-76d713c6-94d9-410d-830a-65135cd856b8.jpeg\" width=\"450\" height=\"300\" hspace=\"10\"/>\n",
    "    <br/>\n",
    "    输入图像\n",
    "    <br/>\n",
    "    <img src=\"https://user-images.githubusercontent.com/22424850/142827262-97317323-f6bd-4aa4-b7ac-c69436c4d576.png\" width=\"450\" height=\"300\" hspace=\"10\"/>\n",
    "    <br/>\n",
    "    输出图像\n",
    "     <br/>\n",
    "    </p>\n",
    "\n",
    "- ### 模型介绍\n",
    "\n",
    "  - EnlightenGAN使用非成对的数据进行训练，通过设计自特征保留损失函数和自约束注意力机制，训练的网络可以应用到多种场景下的暗光增强中。\n",
    "\n",
    "  - 更多详情参考：[EnlightenGAN: Deep Light Enhancement without Paired Supervision](https://arxiv.org/abs/1906.06972)"
   ]
  },
  {
   "cell_type": "markdown",
   "id": "73771ed6",
   "metadata": {
    "id": "二-安装"
   },
   "source": [
    "## 二、安装\n",
    "\n",
    "- ### 1、环境依赖\n",
    "  - onnxruntime\n",
    "  - x2paddle\n",
    "  - pillow\n",
    "\n",
    "- ### 2、安装\n",
    "\n",
    "  - ```shell\n",
    "    $ hub install enlightengan\n",
    "    ```\n",
    "  - 如您安装时遇到问题，可参考：[零基础windows安装](../../../../docs/docs_ch/get_start/windows_quickstart.md)\n",
    " | [零基础Linux安装](../../../../docs/docs_ch/get_start/linux_quickstart.md) | [零基础MacOS安装](../../../../docs/docs_ch/get_start/mac_quickstart.md)"
   ]
  },
  {
   "cell_type": "markdown",
   "id": "2b34772d",
   "metadata": {
    "id": "三-模型api预测"
   },
   "source": [
    "## 三、模型API预测\n",
    "\n",
    "- ### 1、命令行预测\n",
    "\n",
    "  - ```shell\n",
    "    # Read from a file\n",
    "    $ hub run enlightengan --input_path \"/PATH/TO/IMAGE\"\n",
    "    ```\n",
    "  - 通过命令行方式实现暗光增强模型的调用，更多请见 [PaddleHub命令行指令](../../../../docs/docs_ch/tutorial/cmd_usage.rst)\n",
    "\n",
    "- ### 2、预测代码示例\n",
    "\n",
    "  - ```python\n",
    "    import paddlehub as hub\n",
    "\n",
    "    enlightener = hub.Module(name=\"enlightengan\")\n",
    "    input_path = [\"/PATH/TO/IMAGE\"]\n",
    "    # Read from a file\n",
    "    enlightener.enlightening(paths=input_path, output_dir='./enlightening_result/', use_gpu=True)\n",
    "    ```\n",
    "\n",
    "- ### 3、API\n",
    "\n",
    "  - ```python\n",
    "    def enlightening(images=None, paths=None, output_dir='./enlightening_result/', use_gpu=False, visualization=True)\n",
    "    ```\n",
    "    - 暗光增强API。\n",
    "\n",
    "    - **参数**\n",
    "\n",
    "      - images (list\\[numpy.ndarray\\]): 图片数据，ndarray.shape 为 \\[H, W, C\\]；<br/>\n",
    "      - paths (list\\[str\\]): 图片的路径；<br/>\n",
    "      - output\\_dir (str): 结果保存的路径； <br/>\n",
    "      - use\\_gpu (bool): 是否使用 GPU；<br/>\n",
    "      - visualization(bool): 是否保存结果到本地文件夹"
   ]
  },
  {
   "cell_type": "markdown",
   "id": "f355c753",
   "metadata": {
    "id": "四-服务部署"
   },
   "source": [
    "## 四、服务部署\n",
    "\n",
    "- PaddleHub Serving可以部署一个在线图像风格转换服务。\n",
    "\n",
    "- ### 第一步：启动PaddleHub Serving\n",
    "\n",
    "  - 运行启动命令：\n",
    "  - ```shell\n",
    "    $ hub serving start -m enlightengan\n",
    "    ```\n",
    "\n",
    "  - 这样就完成了一个图像风格转换的在线服务API的部署，默认端口号为8866。\n",
    "\n",
    "  - **NOTE:** 如使用GPU预测，则需要在启动服务之前，请设置CUDA\\_VISIBLE\\_DEVICES环境变量，否则不用设置。\n",
    "\n",
    "- ### 第二步：发送预测请求\n",
    "\n",
    "  - 配置好服务端，以下数行代码即可实现发送预测请求，获取预测结果\n",
    "\n",
    "  - ```python\n",
    "    import requests\n",
    "    import json\n",
    "    import cv2\n",
    "    import base64\n",
    "\n",
    "    def cv2_to_base64(image):\n",
    "      data = cv2.imencode('.jpg', image)[1]\n",
    "      return base64.b64encode(data.tostring()).decode('utf8')\n",
    "\n",
    "    # 发送HTTP请求\n",
    "    data = {'images':[cv2_to_base64(cv2.imread(\"/PATH/TO/IMAGE\"))]}\n",
    "    headers = {\"Content-type\": \"application/json\"}\n",
    "    url = \"http://127.0.0.1:8866/predict/enlightengan\"\n",
    "    r = requests.post(url=url, headers=headers, data=json.dumps(data))\n",
    "\n",
    "    # 打印预测结果\n",
    "    print(r.json()[\"results\"])\n",
    "    ```"
   ]
  },
  {
   "cell_type": "markdown",
   "id": "13730e45",
   "metadata": {
    "id": "五-更新历史"
   },
   "source": [
    "## 五、更新历史\n",
    "\n",
    "* 1.0.0\n",
    "\n",
    "  初始发布\n",
    "\n",
    "  - ```shell\n",
    "    $ hub install enlightengan==1.0.0\n",
    "    ```"
   ]
  }
 ],
 "metadata": {
  "colab": {
   "name": "enlightengan",
   "toc_visible": true
  },
  "kernelspec": {
   "display_name": "python3",
   "name": "python3"
  }
 },
 "nbformat": 4,
 "nbformat_minor": 5
}
