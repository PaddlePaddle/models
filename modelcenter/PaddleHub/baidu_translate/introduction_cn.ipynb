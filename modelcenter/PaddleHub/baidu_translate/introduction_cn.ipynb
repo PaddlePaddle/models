{
 "cells": [
  {
   "cell_type": "markdown",
   "id": "cc15c410",
   "metadata": {
    "id": "baidu_translate"
   },
   "source": [
    "# baidu_translate\n",
    "\n",
    "|模型名称|baidu_translate|\n",
    "| :--- | :---: |\n",
    "|类别|文本-机器翻译|\n",
    "|网络|-|\n",
    "|数据集|-|\n",
    "|是否支持Fine-tuning|否|\n",
    "|模型大小|-|\n",
    "|最新更新日期|2022-09-01|\n",
    "|数据指标|-|"
   ]
  },
  {
   "cell_type": "markdown",
   "id": "e40d2d1f",
   "metadata": {
    "id": "一-模型基本信息"
   },
   "source": [
    "## 一、模型基本信息\n",
    "\n",
    "- ### 模型介绍\n",
    "\n",
    "  - 本模块提供百度翻译开放平台的服务，可支持多语种互译。您只需要通过传入待翻译的内容，并指定要翻译的源语言（支持源语言语种自动检测）和目标语言种类，就可以得到相应的翻译结果。"
   ]
  },
  {
   "cell_type": "markdown",
   "id": "eda881ac",
   "metadata": {
    "id": "二-安装"
   },
   "source": [
    "## 二、安装\n",
    "\n",
    "- ### 1、环境依赖\n",
    "\n",
    "  - paddlepaddle >= 2.1.0\n",
    "\n",
    "  - paddlehub >= 2.3.0    | [如何安装PaddleHub](../../../../docs/docs_ch/get_start/installation.rst)\n",
    "\n",
    "- ### 2、安装\n",
    "\n",
    "  - ```shell\n",
    "    $ hub install baidu_translate\n",
    "    ```\n",
    "  - 如您安装时遇到问题，可参考：[零基础windows安装](../../../../docs/docs_ch/get_start/windows_quickstart.md)\n",
    " | [零基础Linux安装](../../../../docs/docs_ch/get_start/linux_quickstart.md) | [零基础MacOS安装](../../../../docs/docs_ch/get_start/mac_quickstart.md)"
   ]
  },
  {
   "cell_type": "markdown",
   "id": "e5fbbc66",
   "metadata": {
    "id": "三-模型api预测"
   },
   "source": [
    "## 三、模型API预测\n",
    "\n",
    "- ### 1、预测代码示例\n",
    "\n",
    "  - ```python\n",
    "    import paddlehub as hub\n",
    "\n",
    "    module = hub.Module(name='baidu_translate')\n",
    "    result = module.translate(\"I like panda\")\n",
    "    print(result)\n",
    "    ```\n",
    "\n",
    "- ### 2、API\n",
    "\n",
    "  - ```python\n",
    "    def translate(query: str,\n",
    "            from_lang: Optional[str] = \"en\",\n",
    "            to_lang: Optional[int] = \"zh\")\n",
    "    ```\n",
    "\n",
    "    - 翻译API，输入源语言的文本句子，解码后输出翻译后的目标语言的文本句子。\n",
    "\n",
    "    - **参数**\n",
    "\n",
    "      - `query`(str): 待翻译的语言。\n",
    "      - `from_lang`(int): 源语言。\n",
    "      - `to_lang`(int): 目标语言。\n",
    "\n",
    "    - **返回**\n",
    "\n",
    "      - `result`(str): 翻译后的目标语言句子。\n",
    "\n",
    "  源语言和目标语言都采用ISO 639-1语言编码标准来表示，常用的语言编码如下, 更多语言表示可以参考[文档](https://fanyi-api.baidu.com/doc/21)。\n",
    "    <p align=\"center\">\n",
    "    <img src=\"https://user-images.githubusercontent.com/22424850/188076725-c2ac6831-1f9d-416a-bf9a-8f3671d6de36.png\" width=\"80%\" hspace=\"10\"/>"
   ]
  },
  {
   "cell_type": "markdown",
   "id": "ada35af3",
   "metadata": {
    "id": "四-服务部署"
   },
   "source": [
    "## 四、服务部署\n",
    "\n",
    "- 通过启动PaddleHub Serving，可以加载模型部署在线翻译服务。\n",
    "\n",
    "- ### 第一步：启动PaddleHub Serving\n",
    "\n",
    "  - 运行启动命令：\n",
    "\n",
    "  - ```shell\n",
    "    $ hub serving start -m baidu_translate\n",
    "    ```\n",
    "\n",
    "  - 通过以上命令可完成一个翻译API的部署，默认端口号为8866。\n",
    "\n",
    "- ## 第二步：发送预测请求\n",
    "\n",
    "  - 配置好服务端，以下数行代码即可实现发送预测请求，获取预测结果\n",
    "\n",
    "  - ```python\n",
    "    import requests\n",
    "    import json\n",
    "\n",
    "    text = \"I like panda\"\n",
    "    data = {\"query\": text, \"from_lang\":'en', \"to_lang\":'zh'}\n",
    "    # 发送post请求，content-type类型应指定json方式，url中的ip地址需改为对应机器的ip\n",
    "    url = \"http://127.0.0.1:8866/predict/baidu_translate\"\n",
    "    # 指定post请求的headers为application/json方式\n",
    "    headers = {\"Content-Type\": \"application/json\"}\n",
    "\n",
    "    r = requests.post(url=url, headers=headers, data=json.dumps(data))\n",
    "    print(r.json())\n",
    "    ```\n",
    "\n",
    "  - 关于PaddleHub Serving更多信息参考：[服务部署](../../../../docs/docs_ch/tutorial/serving.md)"
   ]
  },
  {
   "cell_type": "markdown",
   "id": "980cc2f7",
   "metadata": {
    "id": "五-更新历史"
   },
   "source": [
    "## 五、更新历史\n",
    "\n",
    "* 1.0.0\n",
    "\n",
    "  初始发布\n",
    "\n",
    "  - ```shell\n",
    "    $ hub install baidu_translate==1.0.0\n",
    "    ```</p>"
   ]
  }
 ],
 "metadata": {
  "colab": {
   "name": "baidu_translate",
   "toc_visible": true
  },
  "kernelspec": {
   "display_name": "python3",
   "name": "python3"
  }
 },
 "nbformat": 4,
 "nbformat_minor": 5
}
