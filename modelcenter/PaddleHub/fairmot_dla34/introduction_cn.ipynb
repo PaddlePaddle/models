{
 "cells": [
  {
   "cell_type": "markdown",
   "id": "322e269b",
   "metadata": {
    "id": "fairmot_dla34"
   },
   "source": [
    "# fairmot_dla34\n",
    "\n",
    "|模型名称|fairmot_dla34|\n",
    "| :--- | :---: |\n",
    "|类别|视频 - 多目标追踪|\n",
    "|网络|CenterNet|\n",
    "|数据集|Caltech Pedestrian+CityPersons+CUHK-SYSU+PRW+ETHZ+MOT17|\n",
    "|是否支持Fine-tuning|否|\n",
    "|模型大小|125MB|\n",
    "|最新更新日期|2021-08-26|\n",
    "|数据指标|-|"
   ]
  },
  {
   "cell_type": "markdown",
   "id": "dd7f9d32",
   "metadata": {
    "id": "一-模型基本信息"
   },
   "source": [
    "## 一、模型基本信息\n",
    "\n",
    "- ### 应用效果展示\n",
    "  - 样例结果示例：\n",
    "  <p align=\"center\">\n",
    "  <img src=\"https://user-images.githubusercontent.com/22424850/131989578-ec06e18f-e122-40b0-84d2-8772fd35391a.gif\" hspace=\"10\"/> <br/>\n",
    "  </p>\n",
    "\n",
    "- ### 模型介绍\n",
    "\n",
    "  - FairMOT以Anchor Free的CenterNet检测器为基础，克服了Anchor-Based的检测框架中anchor和特征不对齐问题，深浅层特征融合使得检测和ReID任务各自获得所需要的特征，并且使用低维度ReID特征，提出了一种由两个同质分支组成的简单baseline来预测像素级目标得分和ReID特征，实现了两个任务之间的公平性，并获得了更高水平的实时多目标跟踪精度。\n",
    "\n",
    "  - 更多详情参考：[FairMOT: On the Fairness of Detection and Re-Identification in Multiple Object Tracking](https://arxiv.org/abs/2004.01888)"
   ]
  },
  {
   "cell_type": "markdown",
   "id": "3d690656",
   "metadata": {
    "id": "二-安装"
   },
   "source": [
    "## 二、安装\n",
    "\n",
    "- ### 1、环境依赖\n",
    "\n",
    "  - paddledet >= 2.2.0\n",
    "\n",
    "  - opencv-python\n",
    "\n",
    "- ### 2、安装\n",
    "\n",
    "  - ```shell\n",
    "    $ hub install fairmot_dla34\n",
    "    ```\n",
    "  - 如您安装时遇到问题，可参考：[零基础windows安装](../../../../docs/docs_ch/get_start/windows_quickstart.md)\n",
    " | [零基础Linux安装](../../../../docs/docs_ch/get_start/linux_quickstart.md) | [零基础MacOS安装](../../../../docs/docs_ch/get_start/mac_quickstart.md)\n",
    "  - 在windows下安装，由于paddledet package会依赖cython-bbox以及pycocotools, 这两个包需要windows用户提前装好，可参考[cython-bbox安装](https://blog.csdn.net/qq_24739717/article/details/105588729)和[pycocotools安装](https://github.com/PaddlePaddle/PaddleX/blob/release/1.3/docs/install.md#pycocotools安装问题)"
   ]
  },
  {
   "cell_type": "markdown",
   "id": "3b2f4c90",
   "metadata": {
    "id": "三-模型api预测"
   },
   "source": [
    "## 三、模型API预测\n",
    "\n",
    "- ### 1、命令行预测\n",
    "\n",
    "  - ```shell\n",
    "    # Read from a video file\n",
    "    $ hub run fairmot_dla34 --video_stream \"/PATH/TO/VIDEO\"\n",
    "    ```\n",
    "  - 通过命令行方式实现多目标追踪模型的调用，更多请见 [PaddleHub命令行指令](../../../../docs/docs_ch/tutorial/cmd_usage.rst)\n",
    "\n",
    "- ### 2、预测代码示例\n",
    "\n",
    "  - ```python\n",
    "    import paddlehub as hub\n",
    "\n",
    "    tracker = hub.Module(name=\"fairmot_dla34\")\n",
    "    # Read from a video file\n",
    "    tracker.tracking('/PATH/TO/VIDEO', output_dir='mot_result', visualization=True,\n",
    "                        draw_threshold=0.5, use_gpu=False)\n",
    "    # or read from a image stream\n",
    "    # with tracker.stream_mode(output_dir='image_stream_output', visualization=True, draw_threshold=0.5, use_gpu=True):\n",
    "    #    tracker.predict([images])\n",
    "    ```\n",
    "\n",
    "- ### 3、API\n",
    "\n",
    "  - ```python\n",
    "    def tracking(video_stream,\n",
    "                 output_dir='',\n",
    "                 visualization=True,\n",
    "                 draw_threshold=0.5,\n",
    "                 use_gpu=False)\n",
    "    ```\n",
    "    - 视频预测API，完成对视频内容的多目标追踪，并存储追踪结果。\n",
    "\n",
    "    - **参数**\n",
    "\n",
    "      - video_stream (str): 视频文件的路径; <br/>\n",
    "      - output_dir (str): 结果保存路径的根目录，默认为当前目录； <br/>\n",
    "      - visualization (bool): 是否保存追踪结果；<br/>\n",
    "      - use\\_gpu (bool): 是否使用 GPU；<br/>\n",
    "      - draw\\_threshold (float): 预测置信度的阈值。\n",
    "\n",
    "  - ```python\n",
    "    def stream_mode(output_dir='',\n",
    "                    visualization=True,\n",
    "                    draw_threshold=0.5,\n",
    "                    use_gpu=False)\n",
    "    ```\n",
    "    - 进入图片流预测模式API，在该模式中完成对图片流的多目标追踪，并存储追踪结果。\n",
    "\n",
    "    - **参数**\n",
    "\n",
    "      - output_dir (str): 结果保存路径的根目录，默认为当前目录； <br/>\n",
    "      - visualization (bool): 是否保存追踪结果；<br/>\n",
    "      - use\\_gpu (bool): 是否使用 GPU；<br/>\n",
    "      - draw\\_threshold (float): 预测置信度的阈值。\n",
    "\n",
    "  - ```python\n",
    "    def predict(images: list = [])\n",
    "    ```\n",
    "    - 对图片进行预测的API, 该接口必须在stream_mode API被调用后使用。\n",
    "\n",
    "    - **参数**\n",
    "\n",
    "      - images (list): 待预测的图片列表。"
   ]
  },
  {
   "cell_type": "markdown",
   "id": "3c453597",
   "metadata": {
    "id": "四-更新历史"
   },
   "source": [
    "## 四、更新历史\n",
    "\n",
    "* 1.0.0\n",
    "\n",
    "  初始发布\n",
    "\n",
    "* 1.1.0\n",
    "\n",
    "  移除fluid api\n",
    "\n",
    "  - ```shell\n",
    "    $ hub install fairmot_dla34==1.1.0\n",
    "    ```"
   ]
  }
 ],
 "metadata": {
  "colab": {
   "name": "fairmot_dla34",
   "toc_visible": true
  },
  "kernelspec": {
   "display_name": "python3",
   "name": "python3"
  }
 },
 "nbformat": 4,
 "nbformat_minor": 5
}
