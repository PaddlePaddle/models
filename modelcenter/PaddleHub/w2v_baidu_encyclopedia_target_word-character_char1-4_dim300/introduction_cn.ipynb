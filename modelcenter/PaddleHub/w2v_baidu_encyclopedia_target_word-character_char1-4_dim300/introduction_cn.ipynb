{
 "cells": [
  {
   "cell_type": "markdown",
   "id": "704b274e",
   "metadata": {
    "id": "w2v_baidu_encyclopedia_target_word-character_char1-4_dim300"
   },
   "source": [
    "# w2v_baidu_encyclopedia_target_word-character_char1-4_dim300\n",
    "\n",
    "|模型名称|w2v_baidu_encyclopedia_target_word-character_char1-4_dim300|\n",
    "| :--- | :---: |\n",
    "|类别|文本-词嵌入|\n",
    "|网络|w2v|\n",
    "|数据集|baidu_encyclopedia|\n",
    "|是否支持Fine-tuning|否|\n",
    "|文件大小|679.51MB|\n",
    "|词表大小|636038|\n",
    "|最新更新日期|2021-04-28|\n",
    "|数据指标|-|"
   ]
  },
  {
   "cell_type": "markdown",
   "id": "cf29b98b",
   "metadata": {
    "id": "一-模型基本信息"
   },
   "source": [
    "## 一、模型基本信息\n",
    "\n",
    "- ### 模型介绍\n",
    "\n",
    "  - PaddleHub提供多个开源的预训练Embedding模型。这些Embedding模型可根据不同语料、不同训练方式和不同的维度进行区分，关于模型的具体信息可参考PaddleNLP的文档：[Embedding模型汇总](https://github.com/PaddlePaddle/models/blob/release/2.0-beta/PaddleNLP/docs/embeddings.md)"
   ]
  },
  {
   "cell_type": "markdown",
   "id": "175057f4",
   "metadata": {
    "id": "二-安装"
   },
   "source": [
    "## 二、安装\n",
    "\n",
    "- ### 1、环境依赖\n",
    "\n",
    "  - paddlepaddle >= 2.0.0\n",
    "\n",
    "  - paddlehub >= 2.0.0    | [如何安装PaddleHub](../../../../docs/docs_ch/get_start/installation.rst)\n",
    "\n",
    "- ### 2、安装\n",
    "\n",
    "  - ```shell\n",
    "    $ hub install w2v_baidu_encyclopedia_target_word-character_char1-4_dim300\n",
    "    ```\n",
    "  - 如您安装时遇到问题，可参考：[零基础windows安装](../../../../docs/docs_ch/get_start/windows_quickstart.md)\n",
    " | [零基础Linux安装](../../../../docs/docs_ch/get_start/linux_quickstart.md) | [零基础MacOS安装](../../../../docs/docs_ch/get_start/mac_quickstart.md)"
   ]
  },
  {
   "cell_type": "markdown",
   "id": "149e1ae4",
   "metadata": {
    "id": "三-模型api"
   },
   "source": [
    "## 三、模型API\n",
    "\n",
    "- ### 1、预测代码示例\n",
    "\n",
    "  - ```python\n",
    "    import paddlehub as hub\n",
    "    embedding = hub.Module(name='w2v_baidu_encyclopedia_target_word-character_char1-4_dim300')\n",
    "\n",
    "    # 获取单词的embedding\n",
    "    embedding.search(\"中国\")\n",
    "    # 计算两个词向量的余弦相似度\n",
    "    embedding.cosine_sim(\"中国\", \"美国\")\n",
    "    # 计算两个词向量的内积\n",
    "    embedding.dot(\"中国\", \"美国\")\n",
    "    ```\n",
    "\n",
    "- ### 2、API\n",
    "\n",
    "  - ```python\n",
    "    def __init__(\n",
    "        *args,\n",
    "        **kwargs\n",
    "    )\n",
    "    ```\n",
    "\n",
    "    - 创建一个Embedding Module对象，默认无需参数。\n",
    "\n",
    "    - **参数**\n",
    "      - `*args`： 用户额外指定的列表类型的参数。\n",
    "      - `**kwargs`：用户额外指定的关键字字典类型的参数。\n",
    "\n",
    "    - 关于额外参数的详情可参考[paddlenlp.embeddings](https://github.com/PaddlePaddle/models/tree/release/2.0-beta/PaddleNLP/paddlenlp/embeddings)\n",
    "\n",
    "  - ```python\n",
    "    def search(\n",
    "        words: Union[List[str], str, int],\n",
    "    )\n",
    "    ```\n",
    "\n",
    "    - 获取一个或多个词的embedding。输入可以是`str`、`List[str]`和`int`类型，分别代表获取一个词，多个词和指定词编号的embedding，词的编号和模型的词典相关，词典可通过模型实例的`vocab`属性获取。\n",
    "\n",
    "    - **参数**\n",
    "      - `words`： 需要获取的词向量的词、词列表或者词编号。\n",
    "\n",
    "  - ```python\n",
    "    def cosine_sim(\n",
    "        word_a: str,\n",
    "        word_b: str,\n",
    "    )\n",
    "    ```\n",
    "\n",
    "    - 计算两个词embedding的余弦相似度。需要注意的是`word_a`和`word_b`都需要是词典里的单词，否则将会被认为是OOV(Out-Of-Vocabulary)，同时被替换为`unknown_token`。\n",
    "\n",
    "    - **参数**\n",
    "      - `word_a`： 需要计算余弦相似度的单词a。\n",
    "      - `word_b`： 需要计算余弦相似度的单词b。\n",
    "\n",
    "  - ```python\n",
    "    def dot(\n",
    "        word_a: str,\n",
    "        word_b: str,\n",
    "    )\n",
    "    ```\n",
    "\n",
    "    - 计算两个词embedding的内积。对于输入单词同样需要注意OOV问题。\n",
    "\n",
    "    - **参数**\n",
    "      - `word_a`： 需要计算内积的单词a。\n",
    "      - `word_b`： 需要计算内积的单词b。\n",
    "\n",
    "  - ```python\n",
    "    def get_vocab_path()\n",
    "    ```\n",
    "\n",
    "    - 获取本地词表文件的路径信息。\n",
    "\n",
    "  - ```python\n",
    "    def get_tokenizer(*args, **kwargs)\n",
    "    ```\n",
    "\n",
    "    - 获取当前模型的tokenizer，返回一个JiebaTokenizer的实例，当前只支持中文embedding模型。\n",
    "\n",
    "    - **参数**\n",
    "      - `*args`： 额外传递的列表形式的参数。\n",
    "      - `**kwargs`： 额外传递的字典形式的参数。\n",
    "\n",
    "    - 关于额外参数的详情可参考[paddlenlp.data.tokenizer.JiebaTokenizer](https://github.com/PaddlePaddle/models/blob/release/2.0-beta/PaddleNLP/paddlenlp/data/tokenizer.py)\n",
    "\n",
    "  - 更多api详情和用法可参考[paddlenlp.embeddings](https://github.com/PaddlePaddle/models/tree/release/2.0-beta/PaddleNLP/paddlenlp/embeddings)"
   ]
  },
  {
   "cell_type": "markdown",
   "id": "f8e0a238",
   "metadata": {
    "id": "四-部署服务"
   },
   "source": [
    "## 四、部署服务\n",
    "\n",
    "- 通过PaddleHub Serving，可以部署一个在线获取两个词向量的余弦相似度的服务。\n",
    "\n",
    "- ### Step1: 启动PaddleHub Serving\n",
    "\n",
    "  - 运行启动命令：\n",
    "\n",
    "  - ```shell\n",
    "    $ hub serving start -m w2v_baidu_encyclopedia_target_word-character_char1-4_dim300\n",
    "    ```\n",
    "\n",
    "  - 这样就完成了一个获取词向量的余弦相似度服务化API的部署，默认端口号为8866。\n",
    "\n",
    "  - **NOTE:** 如使用GPU预测，则需要在启动服务之前，请设置CUDA_VISIBLE_DEVICES环境变量，否则不用设置。\n",
    "\n",
    "- ### 第二步: 发送预测请求\n",
    "\n",
    "  - 配置好服务端，以下数行代码即可实现发送预测请求，获取预测结果\n",
    "\n",
    "  - ```python\n",
    "    import requests\n",
    "    import json\n",
    "\n",
    "    # 指定用于计算余弦相似度的单词对[[word_a, word_b], [word_a, word_b], ... ]]\n",
    "    word_pairs = [[\"中国\", \"美国\"], [\"今天\", \"明天\"]]\n",
    "    # 以key的方式指定word_pairs传入预测方法的时的参数，此例中为\"data\"，对于每一对单词，调用cosine_sim进行余弦相似度的计算\n",
    "    data = {\"data\": word_pairs}\n",
    "    # 发送post请求，content-type类型应指定json方式，url中的ip地址需改为对应机器的ip\n",
    "    url = \"http://127.0.0.1:8866/predict/w2v_baidu_encyclopedia_target_word-character_char1-4_dim300\"\n",
    "    # 指定post请求的headers为application/json方式\n",
    "    headers = {\"Content-Type\": \"application/json\"}\n",
    "\n",
    "    r = requests.post(url=url, headers=headers, data=json.dumps(data))\n",
    "    print(r.json())\n",
    "    ```"
   ]
  },
  {
   "cell_type": "markdown",
   "id": "7d671e84",
   "metadata": {
    "id": "五-更新历史"
   },
   "source": [
    "## 五、更新历史\n",
    "\n",
    "* 1.0.0\n",
    "\n",
    "  初始发布\n",
    "\n",
    "* 1.0.1\n",
    "\n",
    "  优化模型\n",
    "  - ```shell\n",
    "    $ hub install w2v_baidu_encyclopedia_target_word-character_char1-4_dim300==1.0.1\n",
    "    ```"
   ]
  }
 ],
 "metadata": {
  "colab": {
   "name": "w2v_baidu_encyclopedia_target_word-character_char1-4_dim300",
   "toc_visible": true
  },
  "kernelspec": {
   "display_name": "python3",
   "name": "python3"
  }
 },
 "nbformat": 4,
 "nbformat_minor": 5
}
