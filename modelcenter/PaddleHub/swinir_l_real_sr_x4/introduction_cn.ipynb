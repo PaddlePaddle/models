{
 "cells": [
  {
   "cell_type": "markdown",
   "id": "6d03d5e1",
   "metadata": {
    "id": "swinir_l_real_sr_x4"
   },
   "source": [
    "# swinir_l_real_sr_x4\n",
    "\n",
    "|模型名称|swinir_l_real_sr_x4|\n",
    "| :--- | :---: |\n",
    "|类别|图像-图像编辑|\n",
    "|网络|SwinIR|\n",
    "|数据集|DIV2K / Flickr2K|\n",
    "|是否支持Fine-tuning|否|\n",
    "|模型大小|142.2MB|\n",
    "|指标|-|\n",
    "|最新更新日期|2022-10-10|"
   ]
  },
  {
   "cell_type": "markdown",
   "id": "a7adec44",
   "metadata": {
    "id": "一-模型基本信息"
   },
   "source": [
    "## 一、模型基本信息\n",
    "\n",
    "- ### 应用效果展示\n",
    "\n",
    "  - 网络结构：\n",
    "      <p align=\"center\">\n",
    "      <img src=\"https://ai-studio-static-online.cdn.bcebos.com/b3c6bfc3dfc14078adcf3dc19acaf04acd4b064770384e2bbd8865697c7dbc91\" hspace=\"10\"/> <br/>\n",
    "      </p>\n",
    "\n",
    "  - 样例结果示例：\n",
    "      <p align=\"center\">\n",
    "      <img src=\"https://ai-studio-static-online.cdn.bcebos.com/c5517af6c3f944c4b281aedc417a4f8c02c0a969d0dd494c9106c4ff2709fc2f\" hspace=\"10\"/>\n",
    "      <img src=\"https://ai-studio-static-online.cdn.bcebos.com/183c5821029f45bbb78d1700ab8297baabba15f82ab4467e88414bbed056ccf0\" hspace=\"10\"/>\n",
    "      </p>\n",
    "\n",
    "- ### 模型介绍\n",
    "\n",
    "  - SwinIR 是一个基于 Swin Transformer 的图像恢复模型。swinir_l_real_sr_x4 是基于 SwinIR-L 的 4 倍现实图像超分辨率模型。"
   ]
  },
  {
   "cell_type": "markdown",
   "id": "51e56e55",
   "metadata": {
    "id": "二-安装"
   },
   "source": [
    "## 二、安装\n",
    "\n",
    "- ### 1、环境依赖\n",
    "\n",
    "  - paddlepaddle >= 2.0.0\n",
    "\n",
    "  - paddlehub >= 2.0.0\n",
    "\n",
    "- ### 2.安装\n",
    "\n",
    "    - ```shell\n",
    "      $ hub install swinir_l_real_sr_x4\n",
    "      ```\n",
    "    -  如您安装时遇到问题，可参考：[零基础windows安装](../../../../docs/docs_ch/get_start/windows_quickstart.md)\n",
    "      | [零基础Linux安装](../../../../docs/docs_ch/get_start/linux_quickstart.md) | [零基础MacOS安装](../../../../docs/docs_ch/get_start/mac_quickstart.md)"
   ]
  },
  {
   "cell_type": "markdown",
   "id": "cc18aa4d",
   "metadata": {
    "id": "三-模型api预测"
   },
   "source": [
    "## 三、模型API预测\n",
    "\n",
    "  - ### 1、命令行预测\n",
    "\n",
    "    ```shell\n",
    "    $ hub run swinir_l_real_sr_x4 \\\n",
    "        --input_path \"/PATH/TO/IMAGE\" \\\n",
    "        --output_dir \"swinir_l_real_sr_x4_output\"\n",
    "    ```\n",
    "\n",
    "  - ### 2、预测代码示例\n",
    "\n",
    "    ```python\n",
    "    import paddlehub as hub\n",
    "    import cv2\n",
    "\n",
    "    module = hub.Module(name=\"swinir_l_real_sr_x4\")\n",
    "    result = module.real_sr(\n",
    "        image=cv2.imread('/PATH/TO/IMAGE'),\n",
    "        visualization=True,\n",
    "        output_dir='swinir_l_real_sr_x4_output'\n",
    "    )\n",
    "    ```\n",
    "\n",
    "  - ### 3、API\n",
    "\n",
    "    ```python\n",
    "    def real_sr(\n",
    "        image: Union[str, numpy.ndarray],\n",
    "        visualization: bool = True,\n",
    "        output_dir: str = \"swinir_l_real_sr_x4_output\"\n",
    "    ) -> numpy.ndarray\n",
    "    ```\n",
    "\n",
    "    - 超分辨率 API\n",
    "\n",
    "    - **参数**\n",
    "\n",
    "      * image (Union\\[str, numpy.ndarray\\]): 图片数据，ndarray.shape 为 \\[H, W, C\\]，BGR格式；\n",
    "      * visualization (bool): 是否将识别结果保存为图片文件；\n",
    "      * output\\_dir (str): 保存处理结果的文件目录。\n",
    "\n",
    "    - **返回**\n",
    "\n",
    "      * res (numpy.ndarray): 图像超分辨率结果 (BGR)；"
   ]
  },
  {
   "cell_type": "markdown",
   "id": "47d192a7",
   "metadata": {
    "id": "四-服务部署"
   },
   "source": [
    "## 四、服务部署\n",
    "\n",
    "- PaddleHub Serving 可以部署一个图像超分辨率的在线服务。\n",
    "\n",
    "- ### 第一步：启动PaddleHub Serving\n",
    "\n",
    "  - 运行启动命令：\n",
    "\n",
    "    ```shell\n",
    "     $ hub serving start -m swinir_l_real_sr_x4\n",
    "    ```\n",
    "\n",
    "    - 这样就完成了一个图像超分辨率服务化API的部署，默认端口号为8866。\n",
    "\n",
    "- ### 第二步：发送预测请求\n",
    "\n",
    "  - 配置好服务端，以下数行代码即可实现发送预测请求，获取预测结果\n",
    "\n",
    "    ```python\n",
    "    import requests\n",
    "    import json\n",
    "    import base64\n",
    "\n",
    "    import cv2\n",
    "    import numpy as np\n",
    "\n",
    "    def cv2_to_base64(image):\n",
    "        data = cv2.imencode('.jpg', image)[1]\n",
    "        return base64.b64encode(data.tobytes()).decode('utf8')\n",
    "\n",
    "    def base64_to_cv2(b64str):\n",
    "        data = base64.b64decode(b64str.encode('utf8'))\n",
    "        data = np.frombuffer(data, np.uint8)\n",
    "        data = cv2.imdecode(data, cv2.IMREAD_COLOR)\n",
    "        return data\n",
    "\n",
    "    # 发送HTTP请求\n",
    "    org_im = cv2.imread('/PATH/TO/IMAGE')\n",
    "    data = {\n",
    "        'image': cv2_to_base64(org_im)\n",
    "    }\n",
    "    headers = {\"Content-type\": \"application/json\"}\n",
    "    url = \"http://127.0.0.1:8866/predict/swinir_l_real_sr_x4\"\n",
    "    r = requests.post(url=url, headers=headers, data=json.dumps(data))\n",
    "\n",
    "    # 结果转换\n",
    "    results = r.json()['results']\n",
    "    results = base64_to_cv2(results)\n",
    "\n",
    "    # 保存结果\n",
    "    cv2.imwrite('output.jpg', results)\n",
    "    ```"
   ]
  },
  {
   "cell_type": "markdown",
   "id": "6159f86f",
   "metadata": {
    "id": "五-参考资料"
   },
   "source": [
    "## 五、参考资料\n",
    "\n",
    "* 论文：[SwinIR: Image Restoration Using Swin Transformer](https://arxiv.org/abs/2108.10257)\n",
    "\n",
    "* 官方实现：[JingyunLiang/SwinIR](https://github.com/JingyunLiang/SwinIR)"
   ]
  },
  {
   "cell_type": "markdown",
   "id": "369fa5fd",
   "metadata": {
    "id": "六-更新历史"
   },
   "source": [
    "## 六、更新历史\n",
    "\n",
    "* 1.0.0\n",
    "\n",
    "  初始发布\n",
    "\n",
    "  ```shell\n",
    "  $ hub install swinir_l_real_sr_x4==1.0.0\n",
    "  ```"
   ]
  }
 ],
 "metadata": {
  "colab": {
   "name": "swinir_l_real_sr_x4",
   "toc_visible": true
  },
  "kernelspec": {
   "display_name": "python3",
   "name": "python3"
  }
 },
 "nbformat": 4,
 "nbformat_minor": 5
}
