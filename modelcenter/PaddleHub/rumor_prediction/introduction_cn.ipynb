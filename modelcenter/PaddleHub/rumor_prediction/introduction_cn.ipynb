{
 "cells": [
  {
   "cell_type": "markdown",
   "id": "760d1fa3",
   "metadata": {
    "id": "概述"
   },
   "source": [
    "## 概述\n",
    "\n",
    "Rumor_prediction是预测语句是否为谣言的模型。"
   ]
  },
  {
   "cell_type": "markdown",
   "id": "f26c0095",
   "metadata": {
    "id": "命令行预测"
   },
   "source": [
    "## 命令行预测"
   ]
  },
  {
   "cell_type": "markdown",
   "id": "b3ce9c2b",
   "metadata": {
    "id": "api"
   },
   "source": [
    "## API\n",
    "\n",
    "预测API，预测语句是否为谣言。\n",
    "\n",
    "**参数**\n",
    "\n",
    "* texts (list\\[str\\]): 想要预测是否为谣言的语句；\n",
    "* use\\_gpu (bool): 是否使用 GPU；**若使用GPU，请先设置CUDA\\_VISIBLE\\_DEVICES环境变量**；\n",
    "\n",
    "**返回**\n",
    "\n",
    "* results (list[dict]): 预测结果的列表，列表中每一个元素为 dict，各字段为：\n",
    "\n",
    "    - content(str):输入文本内容\n",
    "    - prediction(str):预测结果\n",
    "    - probability(float):预测结果概率\n",
    "\n",
    "**代码示例**"
   ]
  },
  {
   "cell_type": "markdown",
   "id": "31968698",
   "metadata": {
    "id": "依赖"
   },
   "source": [
    "### 依赖\n",
    "\n",
    "paddlepaddle >= 2.0.0rc1\n",
    "\n",
    "paddlehub >= 2.0.0rc0"
   ]
  }
 ],
 "metadata": {
  "colab": {
   "name": "概述",
   "toc_visible": true
  },
  "kernelspec": {
   "display_name": "python3",
   "name": "python3"
  }
 },
 "nbformat": 4,
 "nbformat_minor": 5
}
