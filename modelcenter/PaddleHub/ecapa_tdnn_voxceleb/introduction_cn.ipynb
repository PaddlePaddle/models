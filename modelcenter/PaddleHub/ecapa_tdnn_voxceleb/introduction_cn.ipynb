{
 "cells": [
  {
   "cell_type": "markdown",
   "id": "096f2dd8",
   "metadata": {
    "id": "ecapa_tdnn_voxceleb"
   },
   "source": [
    "# ecapa_tdnn_voxceleb\n",
    "\n",
    "|模型名称|ecapa_tdnn_voxceleb|\n",
    "| :--- | :---: |\n",
    "|类别|语音-声纹识别|\n",
    "|网络|ECAPA-TDNN|\n",
    "|数据集|VoxCeleb|\n",
    "|是否支持Fine-tuning|否|\n",
    "|模型大小|79MB|\n",
    "|最新更新日期|2021-12-30|\n",
    "|数据指标|EER 0.69%|"
   ]
  },
  {
   "cell_type": "markdown",
   "id": "e2abbaac",
   "metadata": {
    "id": "一-模型基本信息"
   },
   "source": [
    "## 一、模型基本信息"
   ]
  },
  {
   "cell_type": "markdown",
   "id": "199f0eed",
   "metadata": {
    "id": "模型介绍"
   },
   "source": [
    "### 模型介绍\n",
    "\n",
    "ecapa_tdnn_voxceleb采用了[ECAPA-TDNN](https://arxiv.org/abs/2005.07143)的模型结构，并在[VoxCeleb](http://www.robots.ox.ac.uk/~vgg/data/voxceleb/)数据集上进行了预训练，在VoxCeleb1的声纹识别测试集([veri_test.txt](https://www.robots.ox.ac.uk/~vgg/data/voxceleb/meta/veri_test.txt))上的测试结果为 EER 0.69%，达到了该数据集的SOTA。\n",
    "\n",
    "<p align=\"center\">\n",
    "<img src=\"https://d3i71xaburhd42.cloudfront.net/9609f4817a7e769f5e3e07084db35e46696e82cd/3-Figure2-1.png\" hspace=\"10\" height=\"550\"/> <br/>\n",
    "</p>\n",
    "\n",
    "更多详情请参考\n",
    "- [VoxCeleb: a large-scale speaker identification dataset](https://www.robots.ox.ac.uk/~vgg/publications/2017/Nagrani17/nagrani17.pdf)\n",
    "- [ECAPA-TDNN: Emphasized Channel Attention, Propagation and Aggregation in TDNN Based Speaker Verification](https://arxiv.org/pdf/2005.07143.pdf)\n",
    "- [The SpeechBrain Toolkit](https://github.com/speechbrain/speechbrain)"
   ]
  },
  {
   "cell_type": "markdown",
   "id": "00a944d8",
   "metadata": {
    "id": "二-安装"
   },
   "source": [
    "## 二、安装\n",
    "\n",
    "- ### 1、环境依赖\n",
    "\n",
    "  - paddlepaddle >= 2.2.0\n",
    "\n",
    "  - paddlehub >= 2.2.0    | [如何安装PaddleHub](../../../../docs/docs_ch/get_start/installation.rst)\n",
    "\n",
    "- ### 2、安装\n",
    "\n",
    "  - ```shell\n",
    "    $ hub install ecapa_tdnn_voxceleb\n",
    "    ```\n",
    "  - 如您安装时遇到问题，可参考：[零基础windows安装](../../../../docs/docs_ch/get_start/windows_quickstart.md)\n",
    " | [零基础Linux安装](../../../../docs/docs_ch/get_start/linux_quickstart.md) | [零基础MacOS安装](../../../../docs/docs_ch/get_start/mac_quickstart.md)"
   ]
  },
  {
   "cell_type": "markdown",
   "id": "ad62b542",
   "metadata": {
    "id": "三-模型api预测"
   },
   "source": [
    "## 三、模型API预测\n",
    "\n",
    "- ### 1、预测代码示例\n",
    "\n",
    "    ```python\n",
    "    import paddlehub as hub\n",
    "\n",
    "    model = hub.Module(\n",
    "        name='ecapa_tdnn_voxceleb',\n",
    "        threshold=0.25,\n",
    "        version='1.0.0')\n",
    "\n",
    "    # 通过下列链接可下载示例音频\n",
    "    # https://paddlehub.bj.bcebos.com/paddlehub_dev/sv1.wav\n",
    "    # https://paddlehub.bj.bcebos.com/paddlehub_dev/sv2.wav\n",
    "\n",
    "    # Speaker Embedding\n",
    "    embedding = model.speaker_embedding('sv1.wav')\n",
    "    print(embedding.shape)\n",
    "    # (192,)\n",
    "\n",
    "    # Speaker Verification\n",
    "    score, pred = model.speaker_verify('sv1.wav', 'sv2.wav')\n",
    "    print(score, pred)\n",
    "    # [0.16354457], [False]\n",
    "    ```\n",
    "\n",
    "- ### 2、API\n",
    "  - ```python\n",
    "    def __init__(\n",
    "        threshold: float,\n",
    "    )\n",
    "    ```\n",
    "    - 初始化声纹模型，确定判别阈值。\n",
    "\n",
    "    - **参数**\n",
    "\n",
    "      - `threshold`：设定模型判别声纹相似度的得分阈值，默认为 0.25。\n",
    "\n",
    "  - ```python\n",
    "    def speaker_embedding(\n",
    "        wav: os.PathLike,\n",
    "    )\n",
    "    ```\n",
    "    - 获取输入音频的声纹特征\n",
    "\n",
    "    - **参数**\n",
    "\n",
    "      - `wav`：输入的说话人的音频文件，格式为`*.wav`。\n",
    "\n",
    "    - **返回**\n",
    "\n",
    "      - 输出纬度为 (192,) 的声纹特征向量。\n",
    "\n",
    "  - ```python\n",
    "    def speaker_verify(\n",
    "        wav1: os.PathLike,\n",
    "        wav2: os.PathLike,\n",
    "    )\n",
    "    ```\n",
    "    - 对比两段音频，分别计算其声纹特征的相似度得分，并判断是否为同一说话人。\n",
    "\n",
    "    - **参数**\n",
    "\n",
    "      - `wav1`：输入的说话人1的音频文件，格式为`*.wav`。\n",
    "      - `wav2`：输入的说话人2的音频文件，格式为`*.wav`。\n",
    "\n",
    "    - **返回**\n",
    "\n",
    "      - 返回声纹相似度得分[-1, 1]和预测结果。"
   ]
  },
  {
   "cell_type": "markdown",
   "id": "b8e8a8ef",
   "metadata": {
    "id": "四-更新历史"
   },
   "source": [
    "## 四、更新历史\n",
    "\n",
    "* 1.0.0\n",
    "\n",
    "  初始发布\n",
    "\n",
    "  ```shell\n",
    "  $ hub install ecapa_tdnn_voxceleb\n",
    "  ```"
   ]
  }
 ],
 "metadata": {
  "colab": {
   "name": "ecapa_tdnn_voxceleb",
   "toc_visible": true
  },
  "kernelspec": {
   "display_name": "python3",
   "name": "python3"
  }
 },
 "nbformat": 4,
 "nbformat_minor": 5
}
