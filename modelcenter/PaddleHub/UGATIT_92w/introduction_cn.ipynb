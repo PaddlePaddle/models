{
 "cells": [
  {
   "cell_type": "markdown",
   "id": "55def1b9",
   "metadata": {
    "id": "ugatit_92w"
   },
   "source": [
    "# UGATIT_92w\n",
    "\n",
    "|模型名称|UGATIT_92w|\n",
    "| :--- | :---: |\n",
    "|类别|图像 - 图像生成|\n",
    "|网络|U-GAT-IT|\n",
    "|数据集|selfie2anime|\n",
    "|是否支持Fine-tuning|否|\n",
    "|模型大小|41MB|\n",
    "|最新更新日期|2021-02-26|\n",
    "|数据指标|-|"
   ]
  },
  {
   "cell_type": "markdown",
   "id": "92d7e7b4",
   "metadata": {
    "id": "一-模型基本信息"
   },
   "source": [
    "## 一、模型基本信息\n",
    "\n",
    "- ### 应用效果展示\n",
    "  - 样例结果示例(左为原图，右为效果图)：\n",
    "    <p align=\"center\">\n",
    "    <img src=\"https://user-images.githubusercontent.com/35907364/136651638-33cac040-edad-41ac-a9ce-7c0e678d8c52.jpg\" width=\"400\" height=\"400\" hspace=\"10\"/> <img src=\"https://user-images.githubusercontent.com/35907364/136653047-f00c30fb-521f-486f-8247-8d8f63649473.jpg\" width=\"400\" height=\"400\" hspace=\"10\"/>\n",
    "    </p>\n",
    "\n",
    "- ### 模型介绍\n",
    "\n",
    "  - UGATIT 图像风格转换模型, 模型可将输入的人脸图像转换成动漫风格."
   ]
  },
  {
   "cell_type": "markdown",
   "id": "43273091",
   "metadata": {
    "id": "二-安装"
   },
   "source": [
    "## 二、安装\n",
    "\n",
    "- ### 1、环境依赖\n",
    "\n",
    "  - paddlepaddle >= 1.8.2\n",
    "\n",
    "  - paddlehub >= 1.8.0\n",
    "\n",
    "- ### 2、安装\n",
    "\n",
    "  - ```shell\n",
    "    $ hub install UGATIT_92w\n",
    "    ```\n",
    "  - 如您安装时遇到问题，可参考：[零基础windows安装](../../../../docs/docs_ch/get_start/windows_quickstart.md)\n",
    " | [零基础Linux安装](../../../../docs/docs_ch/get_start/linux_quickstart.md) | [零基础MacOS安装](../../../../docs/docs_ch/get_start/mac_quickstart.md)"
   ]
  },
  {
   "cell_type": "markdown",
   "id": "4d163ccb",
   "metadata": {
    "id": "三-模型api预测"
   },
   "source": [
    "## 三、模型API预测\n",
    "\n",
    "- ### 1、预测代码示例\n",
    "\n",
    "  - ```python\n",
    "    import cv2\n",
    "    import paddlehub as hub\n",
    "\n",
    "    # 模型加载\n",
    "    # use_gpu：是否使用GPU进行预测\n",
    "    model = hub.Module(name='UGATIT_92w', use_gpu=False)\n",
    "\n",
    "    # 模型预测\n",
    "    result = model.style_transfer(images=[cv2.imread('/PATH/TO/IMAGE')])\n",
    "\n",
    "    # or\n",
    "    # result = model.style_transfer(paths=['/PATH/TO/IMAGE'])\n",
    "    ```\n",
    "\n",
    "- ### 2、API\n",
    "\n",
    "  - ```python\n",
    "    def style_transfer(\n",
    "        self,\n",
    "        images=None,\n",
    "        paths=None,\n",
    "        batch_size=1,\n",
    "        output_dir='output',\n",
    "        visualization=False\n",
    "    )\n",
    "    ```\n",
    "\n",
    "    - 风格转换API，将输入的人脸图像转换成动漫风格。\n",
    "\n",
    "    - **参数**\n",
    "        * images (list\\[numpy.ndarray\\]): 图片数据，ndarray.shape 为 \\[H, W, C\\]，默认为 None；\n",
    "        * paths (list\\[str\\]): 图片的路径，默认为 None；\n",
    "        * batch\\_size (int): batch 的大小，默认设为 1；\n",
    "        * visualization (bool): 是否将识别结果保存为图片文件，默认设为 False；\n",
    "        * output\\_dir (str): 图片的保存路径，默认设为 output\n",
    "\n",
    "      **NOTE:** paths和images两个参数选择其一进行提供数据\n",
    "\n",
    "    - **返回**\n",
    "\n",
    "      - res (list\\[numpy.ndarray\\]): 输出图像数据，ndarray.shape 为 \\[H, W, C\\]"
   ]
  },
  {
   "cell_type": "markdown",
   "id": "5a1ea809",
   "metadata": {
    "id": "四-服务部署"
   },
   "source": [
    "## 四、服务部署\n",
    "\n",
    "- PaddleHub Serving可以部署一个在线图像风格转换服务。\n",
    "\n",
    "- ### 第一步：启动PaddleHub Serving\n",
    "\n",
    "  - 运行启动命令：\n",
    "\n",
    "  - ```shell\n",
    "    $ hub serving start -m UGATIT_92w\n",
    "    ```\n",
    "\n",
    "  - 这样就完成了一个图像风格转换的在线服务API的部署，默认端口号为8866。\n",
    "\n",
    "  - **NOTE:** 如使用GPU预测，则需要在启动服务之前，请设置CUDA_VISIBLE_DEVICES环境变量，否则不用设置。\n",
    "\n",
    "- ### 第二步：发送预测请求\n",
    "\n",
    "  - 配置好服务端，以下数行代码即可实现发送预测请求，获取预测结果\n",
    "\n",
    "  - ```python\n",
    "    import requests\n",
    "    import json\n",
    "    import cv2\n",
    "    import base64\n",
    "\n",
    "    def cv2_to_base64(image):\n",
    "        data = cv2.imencode('.jpg', image)[1]\n",
    "        return base64.b64encode(data.tostring()).decode('utf8')\n",
    "\n",
    "    # 发送HTTP请求\n",
    "    data = {'images':[cv2_to_base64(cv2.imread(\"/PATH/TO/IMAGE\"))]}\n",
    "    headers = {\"Content-type\": \"application/json\"}\n",
    "    url = \"http://127.0.0.1:8866/predict/UGATIT_92w\"\n",
    "    r = requests.post(url=url, headers=headers, data=json.dumps(data))\n",
    "\n",
    "    # 打印预测结果\n",
    "    print(r.json()[\"results\"])\n",
    "    ```"
   ]
  },
  {
   "cell_type": "markdown",
   "id": "ebab70a5",
   "metadata": {
    "id": "五-更新历史"
   },
   "source": [
    "## 五、更新历史\n",
    "\n",
    "* 1.0.0\n",
    "\n",
    "  初始发布"
   ]
  }
 ],
 "metadata": {
  "colab": {
   "name": "UGATIT_92w",
   "toc_visible": true
  },
  "kernelspec": {
   "display_name": "python3",
   "name": "python3"
  }
 },
 "nbformat": 4,
 "nbformat_minor": 5
}
