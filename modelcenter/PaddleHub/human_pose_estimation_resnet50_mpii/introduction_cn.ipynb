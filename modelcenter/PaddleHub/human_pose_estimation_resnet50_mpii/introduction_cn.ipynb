{
 "cells": [
  {
   "cell_type": "markdown",
   "id": "ae6c2ad1",
   "metadata": {
    "id": "human_pose_estimation_resnet50_mpii"
   },
   "source": [
    "# human_pose_estimation_resnet50_mpii\n",
    "\n",
    "| 模型名称            | human_pose_estimation_resnet50_mpii |\n",
    "| :------------------ | :---------------------------------: |\n",
    "| 类别                |           图像-关键点检测           |\n",
    "| 网络                |            Pose_Resnet50            |\n",
    "| 数据集              |                MPII                 |\n",
    "| 是否支持Fine-tuning |                 否                  |\n",
    "| 模型大小            |                121M                 |\n",
    "| 最新更新日期        |             2021-02-26              |\n",
    "| 数据指标            |                                     |"
   ]
  },
  {
   "cell_type": "markdown",
   "id": "d82244e9",
   "metadata": {
    "id": "一-模型基本信息"
   },
   "source": [
    "## 一、模型基本信息\n",
    "\n",
    "- ### 应用效果展示\n",
    "\n",
    "<p align=\"center\">\n",
    "<img src=\"https://user-images.githubusercontent.com/76040149/133231581-1dffc391-652d-417f-b8ad-a3c22b8092e8.jpg\" width=\"300\"/>\n",
    "</p>\n",
    "\n",
    "- ### 模型介绍\n",
    "  - 人体骨骼关键点检测(Pose Estimation) 是计算机视觉的基础算法之一，在很多cv任务中起到了基础性的作用，如行为识别、人物跟踪、步态识别等领域。"
   ]
  },
  {
   "cell_type": "markdown",
   "id": "e3adbed8",
   "metadata": {
    "id": "二-安装"
   },
   "source": [
    "## 二、安装\n",
    "\n",
    "- ### 1、环境依赖\n",
    "\n",
    "  - paddlepaddle >= 1.6.2\n",
    "\n",
    "  - paddlehub >= 1.6.0    | [如何安装PaddleHub](../../../../docs/docs_ch/get_start/installation.rst)\n",
    "\n",
    "- ### 2、安装\n",
    "\n",
    "  - ```shell\n",
    "    $ hub install human_pose_estimation_resnet50_mpii\n",
    "    ```\n",
    "\n",
    "  - 如您安装时遇到问题，可参考：[零基础windows安装](../../../../docs/docs_ch/get_start/windows_quickstart.md)\n",
    "   | [零基础Linux安装](../../../../docs/docs_ch/get_start/linux_quickstart.md) | [零基础MacOS安装](../../../../docs/docs_ch/get_start/mac_quickstart.md)"
   ]
  },
  {
   "cell_type": "markdown",
   "id": "a343e46b",
   "metadata": {
    "id": "三-模型api预测"
   },
   "source": [
    "## 三、模型API预测\n",
    "\n",
    "- ### 1、命令行预测\n",
    "\n",
    "  - ```shell\n",
    "    $ hub run human_pose_estimation_resnet50_mpii --input_path \"/PATH/TO/IMAGE\"\n",
    "    ```\n",
    "\n",
    "  - 通过命令行方式实现hub模型的调用，更多请见 [PaddleHub命令行指令](../../../../docs/docs_ch/tutorial/cmd_usage.rst)\n",
    "\n",
    "- ### 2、预测代码示例\n",
    "\n",
    "  - ```python\n",
    "    import cv2\n",
    "    import paddlehub as hub\n",
    "\n",
    "    pose_estimation = hub.Module(name=\"human_pose_estimation_resnet50_mpii\")\n",
    "\n",
    "    result = pose_estimation.keypoint_detection(images=[cv2.imread('/PATH/TO/IMAGE')])\n",
    "    # or\n",
    "    # result = pose_estimation.keypoint_detection(paths=['/PATH/TO/IMAGE'])\n",
    "\n",
    "    # PaddleHub示例图片下载方法：\n",
    "    # wget https://paddlehub.bj.bcebos.com/resources/test_image.jpg\n",
    "    ```\n",
    "\n",
    "- ### 3、API\n",
    "\n",
    "  - ```python\n",
    "    def keypoint_detection(images=None,\n",
    "                           paths=None,\n",
    "                           batch_size=1,\n",
    "                           use_gpu=False,\n",
    "                           output_dir='output_pose',\n",
    "                           visualization=False):\n",
    "    ```\n",
    "\n",
    "    - 预测API，识别出人体骨骼关键点。\n",
    "    - **参数**\n",
    "      - images (list[numpy.ndarray]): 图片数据，ndarray.shape 为 [H, W, C]；\n",
    "      - paths (list[str]): 图片的路径；\n",
    "      - batch_size (int): batch 的大小；\n",
    "      - use_gpu (bool): 是否使用 GPU；\n",
    "      - visualization (bool): 是否将识别结果保存为图片文件；\n",
    "      - output_dir (str): 图片的保存路径，默认设为 output_pose。\n",
    "    - **返回**\n",
    "      - res (list): 识别元素的列表，列表元素为 dict，关键字为 'path', 'data'，相应的取值为：\n",
    "        - path (str): 原图的路径；\n",
    "        - data (OrderedDict): 人体骨骼关键点的坐标。\n",
    "\n",
    "  - ```python\n",
    "    def save_inference_model(dirname):\n",
    "    ```\n",
    "\n",
    "    - 将模型保存到指定路径。\n",
    "\n",
    "    - **参数**\n",
    "\n",
    "      - dirname: 模型保存路径"
   ]
  },
  {
   "cell_type": "markdown",
   "id": "7118a5f8",
   "metadata": {
    "id": "四-服务部署"
   },
   "source": [
    "## 四、服务部署\n",
    "\n",
    "- PaddleHub Serving可以部署一个在线人体骨骼关键点识别服务。\n",
    "\n",
    "- ### 第一步：启动PaddleHub Serving\n",
    "\n",
    "  - 运行启动命令：\n",
    "  - ```shell\n",
    "    $ hub serving start -m human_pose_estimation_resnet50_mpii -p 8866\n",
    "    ```\n",
    "\n",
    "  - 这样就完成了一个人体骨骼关键点识别的在线服务API的部署，默认端口号为8866。\n",
    "\n",
    "  - **NOTE:** 如使用GPU预测，则需要在启动服务之前，请设置CUDA\\_VISIBLE\\_DEVICES环境变量，否则不用设置。\n",
    "\n",
    "- ### 第二步：发送预测请求\n",
    "\n",
    "  - 配置好服务端，以下数行代码即可实现发送预测请求，获取预测结果\n",
    "\n",
    "  - ```python\n",
    "    import requests\n",
    "    import json\n",
    "    import cv2\n",
    "    import base64\n",
    "\n",
    "    def cv2_to_base64(image):\n",
    "        data = cv2.imencode('.jpg', image)[1]\n",
    "        return base64.b64encode(data.tostring()).decode('utf8')\n",
    "\n",
    "    # 发送HTTP请求\n",
    "    data = {'images':[cv2_to_base64(cv2.imread(\"/PATH/TO/IMAGE\"))]}\n",
    "    headers = {\"Content-type\": \"application/json\"}\n",
    "    url = \"http://127.0.0.1:8866/predict/human_pose_estimation_resnet50_mpii\"\n",
    "    r = requests.post(url=url, headers=headers, data=json.dumps(data))\n",
    "\n",
    "    # 打印预测结果\n",
    "    print(r.json()[\"results\"])\n",
    "\n",
    "    # r.json()['results']即为keypoint_detection函数返回的结果\n",
    "    ```"
   ]
  },
  {
   "cell_type": "markdown",
   "id": "2aa6e9bd",
   "metadata": {
    "id": "五-更新历史"
   },
   "source": [
    "## 五、更新历史\n",
    "\n",
    "* 1.0.0\n",
    "\n",
    "* 1.1.0\n",
    "\n",
    "* 1.1.1\n",
    "\n",
    "* 1.2.0\n",
    "\n",
    "   移除 fluid api\n",
    "\n",
    "  * ```shell\n",
    "    $ hub install human_pose_estimation_resnet50_mpii==1.2.0\n",
    "    ```"
   ]
  }
 ],
 "metadata": {
  "colab": {
   "name": "human_pose_estimation_resnet50_mpii",
   "toc_visible": true
  },
  "kernelspec": {
   "display_name": "python3",
   "name": "python3"
  }
 },
 "nbformat": 4,
 "nbformat_minor": 5
}
