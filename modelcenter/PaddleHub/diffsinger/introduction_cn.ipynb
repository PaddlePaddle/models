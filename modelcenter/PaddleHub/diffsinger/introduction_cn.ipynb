{
 "cells": [
  {
   "cell_type": "markdown",
   "id": "033087e0",
   "metadata": {
    "id": "diffsinger"
   },
   "source": [
    "# diffsinger\n",
    "\n",
    "|模型名称|diffsinger|\n",
    "| :--- | :---: |\n",
    "|类别|音频-歌声合成|\n",
    "|网络|DiffSinger|\n",
    "|数据集|-|\n",
    "|是否支持Fine-tuning|否|\n",
    "|模型大小|256.1MB|\n",
    "|指标|-|\n",
    "|最新更新日期|2022-10-25|"
   ]
  },
  {
   "cell_type": "markdown",
   "id": "b624b666",
   "metadata": {
    "id": "一-模型基本信息"
   },
   "source": [
    "## 一、模型基本信息\n",
    "\n",
    "- ### 应用效果展示\n",
    "\n",
    "  - 网络结构：\n",
    "      <p align=\"center\">\n",
    "        <img src=\"https://neuralsvb.github.io/resources/model_all7.png\"/>\n",
    "      </p>\n",
    "\n",
    "  - 样例结果示例：\n",
    "\n",
    "    |文本|音频|\n",
    "    |:-:|:-:|\n",
    "    |让 梦 恒 久 比 天 长|<audio controls=\"controls\"><source src=\"https://diffsinger.github.io/audio/singing_demo/diffsinger-base/000000007.wav\" autoplay=\"\"/></audio>|\n",
    "    |我 终 于 翱 翔|<audio controls=\"controls\"><source src=\"https://diffsinger.github.io/audio/singing_demo/diffsinger-base/000000005.wav\" autoplay=\"\"/></audio>|\n",
    "\n",
    "- ### 模型介绍\n",
    "\n",
    "  - DiffSinger，一个基于扩散概率模型的 SVS 声学模型。DiffSinger 是一个参数化的马尔科夫链，它可以根据乐谱的条件，迭代地将噪声转换为旋律谱。通过隐式优化变异约束，DiffSinger 可以被稳定地训练并产生真实的输出。"
   ]
  },
  {
   "cell_type": "markdown",
   "id": "bd6a212c",
   "metadata": {
    "id": "二-安装"
   },
   "source": [
    "## 二、安装\n",
    "\n",
    "- ### 1、环境依赖\n",
    "\n",
    "  - onnxruntime >= 1.12.0\n",
    "\n",
    "    ```shell\n",
    "    # CPU\n",
    "    $ pip install onnxruntime\n",
    "\n",
    "    # GPU\n",
    "    $ pip install onnxruntime-gpu\n",
    "    ```\n",
    "\n",
    "  - paddlehub >= 2.0.0\n",
    "\n",
    "- ### 2.安装\n",
    "\n",
    "    - ```shell\n",
    "      $ hub install diffsinger\n",
    "      ```\n",
    "    -  如您安装时遇到问题，可参考：[零基础windows安装](../../../../docs/docs_ch/get_start/windows_quickstart.md)\n",
    "      | [零基础Linux安装](../../../../docs/docs_ch/get_start/linux_quickstart.md) | [零基础MacOS安装](../../../../docs/docs_ch/get_start/mac_quickstart.md)"
   ]
  },
  {
   "cell_type": "markdown",
   "id": "e9734633",
   "metadata": {
    "id": "三-模型api预测"
   },
   "source": [
    "## 三、模型API预测\n",
    "\n",
    "  - ### 1、命令行预测\n",
    "\n",
    "    ```shell\n",
    "    $ hub run diffsinger \\\n",
    "        --input_type \"word\" \\\n",
    "        --text \"小酒窝长睫毛AP是你最美的记号\" \\\n",
    "        --notes \"C#4/Db4 | F#4/Gb4 | G#4/Ab4 | A#4/Bb4 F#4/Gb4 | F#4/Gb4 C#4/Db4 | C#4/Db4 | rest | C#4/Db4 | A#4/Bb4 | G#4/Ab4 | A#4/Bb4 | G#4/Ab4 | F4 | C#4/Db4\" \\\n",
    "        --notes_duration \"0.407140 | 0.376190 | 0.242180 | 0.509550 0.183420 | 0.315400 0.235020 | 0.361660 | 0.223070 | 0.377270 | 0.340550 | 0.299620 | 0.344510 | 0.283770 | 0.323390 | 0.360340\" \\\n",
    "        --sample_num 1 \\\n",
    "        --save_dir \"outputs\"\n",
    "\n",
    "    $ hub run diffsinger \\\n",
    "        --input_type \"phoneme\" \\\n",
    "        --text \"小酒窝长睫毛AP是你最美的记号\" \\\n",
    "        --ph_seq \"x iao j iu w o ch ang ang j ie ie m ao AP sh i n i z ui m ei d e j i h ao\" \\\n",
    "        --note_seq \"C#4/Db4 C#4/Db4 F#4/Gb4 F#4/Gb4 G#4/Ab4 G#4/Ab4 A#4/Bb4 A#4/Bb4 F#4/Gb4 F#4/Gb4 F#4/Gb4 C#4/Db4 C#4/Db4 C#4/Db4 rest C#4/Db4 C#4/Db4 A#4/Bb4 A#4/Bb4 G#4/Ab4 G#4/Ab4 A#4/Bb4 A#4/Bb4 G#4/Ab4 G#4/Ab4 F4 F4 C#4/Db4 C#4/Db4\" \\\n",
    "        --note_dur_seq \"0.407140 0.407140 0.376190 0.376190 0.242180 0.242180 0.509550 0.509550 0.183420 0.315400 0.315400 0.235020 0.361660 0.361660 0.223070 0.377270 0.377270 0.340550 0.340550 0.299620 0.299620 0.344510 0.344510 0.283770 0.283770 0.323390 0.323390 0.360340 0.360340\" \\\n",
    "        --is_slur_seq \"0 0 0 0 0 0 0 0 1 0 0 1 0 0 0 0 0 0 0 0 0 0 0 0 0 0 0 0 0\" \\\n",
    "        --sample_num 1 \\\n",
    "        --save_dir \"outputs\"\n",
    "    ```\n",
    "\n",
    "  - ### 2、预测代码示例\n",
    "\n",
    "    ```python\n",
    "    import paddlehub as hub\n",
    "\n",
    "    module = hub.Module(name=\"diffsinger\")\n",
    "    results = module.singing_voice_synthesis(\n",
    "      inputs={\n",
    "        'text': '小酒窝长睫毛AP是你最美的记号',\n",
    "        'notes': 'C#4/Db4 | F#4/Gb4 | G#4/Ab4 | A#4/Bb4 F#4/Gb4 | F#4/Gb4 C#4/Db4 | C#4/Db4 | rest | C#4/Db4 | A#4/Bb4 | G#4/Ab4 | A#4/Bb4 | G#4/Ab4 | F4 | C#4/Db4',\n",
    "        'notes_duration': '0.407140 | 0.376190 | 0.242180 | 0.509550 0.183420 | 0.315400 0.235020 | 0.361660 | 0.223070 | 0.377270 | 0.340550 | 0.299620 | 0.344510 | 0.283770 | 0.323390 | 0.360340',\n",
    "        'input_type': 'word'\n",
    "      },\n",
    "      sample_num=1,\n",
    "      save_audio=True,\n",
    "      save_dir='outputs'\n",
    "    )\n",
    "    ```\n",
    "\n",
    "  - ### 3、API\n",
    "\n",
    "    ```python\n",
    "    def singing_voice_synthesis(\n",
    "      inputs: Dict[str, str],\n",
    "      sample_num: int = 1,\n",
    "      save_audio: bool = True,\n",
    "      save_dir: str = 'outputs'\n",
    "    ) -> Dict[str, Union[List[List[int]], int]]:\n",
    "    ```\n",
    "\n",
    "    - 歌声合成 API\n",
    "\n",
    "    - **参数**\n",
    "\n",
    "      * inputs (Dict\\[str, str\\]): 输入数据，支持如下两种格式；\n",
    "\n",
    "        ```python\n",
    "        {\n",
    "          'text': '小酒窝长睫毛AP是你最美的记号',\n",
    "          'notes': 'C#4/Db4 | F#4/Gb4 | G#4/Ab4 | A#4/Bb4 F#4/Gb4 | F#4/Gb4 C#4/Db4 | C#4/Db4 | rest | C#4/Db4 | A#4/Bb4 | G#4/Ab4 | A#4/Bb4 | G#4/Ab4 | F4 | C#4/Db4',\n",
    "          'notes_duration': '0.407140 | 0.376190 | 0.242180 | 0.509550 0.183420 | 0.315400 0.235020 | 0.361660 | 0.223070 | 0.377270 | 0.340550 | 0.299620 | 0.344510 | 0.283770 | 0.323390 | 0.360340',\n",
    "          'input_type': 'word'\n",
    "        }\n",
    "        {\n",
    "            'text': '小酒窝长睫毛AP是你最美的记号',\n",
    "            'ph_seq': 'x iao j iu w o ch ang ang j ie ie m ao AP sh i n i z ui m ei d e j i h ao',\n",
    "            'note_seq': 'C#4/Db4 C#4/Db4 F#4/Gb4 F#4/Gb4 G#4/Ab4 G#4/Ab4 A#4/Bb4 A#4/Bb4 F#4/Gb4 F#4/Gb4 F#4/Gb4 C#4/Db4 C#4/Db4 C#4/Db4 rest C#4/Db4 C#4/Db4 A#4/Bb4 A#4/Bb4 G#4/Ab4 G#4/Ab4 A#4/Bb4 A#4/Bb4 G#4/Ab4 G#4/Ab4 F4 F4 C#4/Db4 C#4/Db4',\n",
    "            'note_dur_seq': '0.407140 0.407140 0.376190 0.376190 0.242180 0.242180 0.509550 0.509550 0.183420 0.315400 0.315400 0.235020 0.361660 0.361660 0.223070 0.377270 0.377270 0.340550 0.340550 0.299620 0.299620 0.344510 0.344510 0.283770 0.283770 0.323390 0.323390 0.360340 0.360340',\n",
    "            'is_slur_seq': '0 0 0 0 0 0 0 0 1 0 0 1 0 0 0 0 0 0 0 0 0 0 0 0 0 0 0 0 0',\n",
    "            'input_type': 'phoneme'\n",
    "        }\n",
    "        ```\n",
    "\n",
    "      * sample_num (int): 生成音频的数量；\n",
    "      * save_audio (bool): 是否保存音频文件；\n",
    "      * save\\_dir (str): 保存处理结果的文件目录。\n",
    "\n",
    "    - **返回**\n",
    "\n",
    "      * res (Dict\\[str, Union\\[List\\[List\\[int\\]\\], int\\]\\]): 歌声合成结果，一个字典，包容如下内容；\n",
    "\n",
    "        * wavs: 歌声音频数据\n",
    "        * sample_rate: 音频采样率"
   ]
  },
  {
   "cell_type": "markdown",
   "id": "107d1faa",
   "metadata": {
    "id": "四-服务部署"
   },
   "source": [
    "## 四、服务部署\n",
    "\n",
    "- PaddleHub Serving 可以部署一个歌声合成的在线服务。\n",
    "\n",
    "- ### 第一步：启动PaddleHub Serving\n",
    "\n",
    "  - 运行启动命令：\n",
    "\n",
    "    ```shell\n",
    "     $ hub serving start -m diffsinger\n",
    "    ```\n",
    "\n",
    "    - 这样就完成了一个歌声合成服务化API的部署，默认端口号为8866。\n",
    "\n",
    "- ### 第二步：发送预测请求\n",
    "\n",
    "  - 配置好服务端，以下数行代码即可实现发送预测请求，获取预测结果\n",
    "\n",
    "    ```python\n",
    "    import requests\n",
    "    import json\n",
    "\n",
    "    data = {\n",
    "        'inputs': {\n",
    "                'text': '小酒窝长睫毛AP是你最美的记号',\n",
    "                'notes': 'C#4/Db4 | F#4/Gb4 | G#4/Ab4 | A#4/Bb4 F#4/Gb4 | F#4/Gb4 C#4/Db4 | C#4/Db4 | rest | C#4/Db4 | A#4/Bb4 | G#4/Ab4 | A#4/Bb4 | G#4/Ab4 | F4 | C#4/Db4',\n",
    "                'notes_duration': '0.407140 | 0.376190 | 0.242180 | 0.509550 0.183420 | 0.315400 0.235020 | 0.361660 | 0.223070 | 0.377270 | 0.340550 | 0.299620 | 0.344510 | 0.283770 | 0.323390 | 0.360340',\n",
    "                'input_type': 'word'\n",
    "            },\n",
    "        'save_audio': False,\n",
    "    }\n",
    "    headers = {\"Content-type\": \"application/json\"}\n",
    "    url = \"http://127.0.0.1:8866/predict/diffsinger\"\n",
    "    r = requests.post(url=url, headers=headers, data=json.dumps(data))\n",
    "    results = r.json()['results']\n",
    "    ```"
   ]
  },
  {
   "cell_type": "markdown",
   "id": "443391ca",
   "metadata": {
    "id": "五-参考资料"
   },
   "source": [
    "## 五、参考资料\n",
    "\n",
    "* 论文：[DiffSinger: Singing Voice Synthesis via Shallow Diffusion Mechanism](https://arxiv.org/abs/2105.02446)\n",
    "\n",
    "* 官方实现：[MoonInTheRiver/DiffSinger](https://github.com/MoonInTheRiver/DiffSinger)"
   ]
  },
  {
   "cell_type": "markdown",
   "id": "323720ad",
   "metadata": {
    "id": "六-更新历史"
   },
   "source": [
    "## 六、更新历史\n",
    "\n",
    "* 1.0.0\n",
    "\n",
    "  初始发布\n",
    "\n",
    "  ```shell\n",
    "  $ hub install diffsinger==1.0.0\n",
    "  ```"
   ]
  }
 ],
 "metadata": {
  "colab": {
   "name": "diffsinger",
   "toc_visible": true
  },
  "kernelspec": {
   "display_name": "python3",
   "name": "python3"
  }
 },
 "nbformat": 4,
 "nbformat_minor": 5
}
