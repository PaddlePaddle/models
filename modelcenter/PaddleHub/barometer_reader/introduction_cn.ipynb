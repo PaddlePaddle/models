{
 "cells": [
  {
   "cell_type": "markdown",
   "id": "8ab79132",
   "metadata": {
    "id": "模型概述"
   },
   "source": [
    "## 模型概述\n",
    "\n",
    "barometer_reader是基于PaddleX实现对传统机械式指针表计的检测与自动读数功能的模型。该模型首先使用目标检测模型检测出图像中的表计，随后使用语义分割模型将各表计的指针和刻度分割，最后根据指针的相对位置和预知的量程计算出各表计的读数。"
   ]
  },
  {
   "cell_type": "markdown",
   "id": "28cdd88c",
   "metadata": {
    "id": "命令行预测"
   },
   "source": [
    "## 命令行预测"
   ]
  },
  {
   "cell_type": "code",
   "execution_count": null,
   "id": "099ac07b",
   "metadata": {
    "id": "命令行预测-code"
   },
   "outputs": [],
   "source": [
    "$ hub run barometer_reader --input_path \"/PATH/TO/IMAGE\"\n"
   ]
  },
  {
   "cell_type": "markdown",
   "id": "f965da3a",
   "metadata": {
    "id": "api"
   },
   "source": [
    "## API\n",
    "\n",
    "预测API，用于表针读数。\n",
    "\n",
    "**参数**\n",
    "\n",
    "* im_file (Union\\[str, np.ndarray\\]): 图片路径或者图片数据，ndarray.shape 为 \\[H, W, C\\]，BGR格式；\n",
    "* score\\_threshold (float): 检测模型输出结果中，预测得分低于该阈值的框将被滤除，默认值为0.5；\n",
    "* seg\\_batch\\_size (int): 分割的批量大小，默认为2；\n",
    "* erode\\_kernel (int): 图像腐蚀操作时的卷积核大小，默认值为4；\n",
    "* use\\_erode (str): 是否使用图像腐蚀对分割预测图进行细分，默认为False;\n",
    "* visualization (bool): 是否将可视化图片保存；\n",
    "* save_dir (str): 保存图片到路径， 默认为\"output\"。\n",
    "\n",
    "**返回**\n",
    "\n",
    "* res (list\\[dict\\]): 识别结果的列表，列表中每一个元素为 dict，关键字有 'category\\_id', 'bbox', 'score','category', 对应的取值为：\n",
    "  * category\\_id (int): bounding box框出的图片的类别号；\n",
    "  * bbox (list): bounding box数值；\n",
    "  * score (float): bbox类别得分；\n",
    "  * category (str):  bounding box框出的图片的类别名称。"
   ]
  },
  {
   "cell_type": "markdown",
   "id": "19bdac64",
   "metadata": {
    "id": "代码示例"
   },
   "source": [
    "## 代码示例"
   ]
  },
  {
   "cell_type": "markdown",
   "id": "59364f83",
   "metadata": {
    "id": "服务部署"
   },
   "source": [
    "## 服务部署\n",
    "\n",
    "PaddleHub Serving可以部署一个表计识别的在线服务。"
   ]
  },
  {
   "cell_type": "markdown",
   "id": "59ca4316",
   "metadata": {
    "id": "第一步-启动paddlehub-serving"
   },
   "source": [
    "## 第一步：启动PaddleHub Serving\n",
    "\n",
    "运行启动命令：\n",
    "\n",
    "默认端口号为8866。\n",
    "\n",
    "**NOTE:** 如使用GPU预测，则需要在启动服务之前，设置CUDA_VISIBLE_DEVICES环境变量，否则不用设置。"
   ]
  },
  {
   "cell_type": "markdown",
   "id": "985dc1d9",
   "metadata": {
    "id": "第二步-发送预测请求"
   },
   "source": [
    "## 第二步：发送预测请求\n",
    "\n",
    "配置好服务端，以下数行代码即可实现发送预测请求，获取预测结果"
   ]
  },
  {
   "cell_type": "markdown",
   "id": "39a22c45",
   "metadata": {
    "id": "查看代码"
   },
   "source": [
    "### 查看代码\n",
    "\n",
    "https://github.com/PaddlePaddle/PaddleX"
   ]
  },
  {
   "cell_type": "markdown",
   "id": "29de7473",
   "metadata": {
    "id": "依赖"
   },
   "source": [
    "### 依赖\n",
    "\n",
    "paddlepaddle >= 2.0.0\n",
    "\n",
    "paddlehub >= 2.0.0\n",
    "\n",
    "paddlex >= 1.3.0"
   ]
  }
 ],
 "metadata": {
  "colab": {
   "name": "模型概述",
   "toc_visible": true
  },
  "kernelspec": {
   "display_name": "python3",
   "name": "python3"
  }
 },
 "nbformat": 4,
 "nbformat_minor": 5
}
