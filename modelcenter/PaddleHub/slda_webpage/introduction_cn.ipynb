{
 "cells": [
  {
   "cell_type": "markdown",
   "id": "e55253fe",
   "metadata": {
    "id": "模型概述"
   },
   "source": [
    "## 模型概述\n",
    "\n",
    "主题模型(Topic Model)是以无监督学习的方式对文档的隐含语义结构进行聚类的统计模型，其中SLDA(Sentence-LDA)是主题模型的一种。SLDA是LDA主题模型的扩展，LDA假设每个单词对应一个主题，而SLDA假设每个句子对应一个主题。本Module基于的数据集为百度自建的网页领域数据集。\n",
    "\n",
    "<p align=\"center\">\n",
    "<img src=\"https://bj.bcebos.com/paddlehub/model/nlp/semantic_model/slda.png\" hspace=\"10\"/> <br/>\n",
    "</p>\n",
    "\n",
    "更多详情请参考[SLDA论文](https://pdfs.semanticscholar.org/c311/778adb9484c86250e915aecd9714f4206050.pdf)。\n",
    "\n",
    "注：该Module由第三方开发者DesmonDay贡献。"
   ]
  },
  {
   "cell_type": "markdown",
   "id": "7425a7d3",
   "metadata": {
    "id": "slda模型-api-说明"
   },
   "source": [
    "## SLDA模型 API 说明"
   ]
  },
  {
   "cell_type": "markdown",
   "id": "8d46fa68",
   "metadata": {
    "id": "infer_doc_topic_distribution-document"
   },
   "source": [
    "### infer_doc_topic_distribution(document)\n",
    "\n",
    "用于推理出文档的主题分布。\n",
    "\n",
    "**参数**\n",
    "\n",
    "- document(str): 输入文档。\n",
    "\n",
    "**返回**\n",
    "\n",
    "- results(list): 包含主题分布下各个主题ID和对应的概率分布。其中，list的基本元素为dict，dict的key为主题ID，value为各个主题ID对应的概率。"
   ]
  },
  {
   "cell_type": "markdown",
   "id": "49b81b55",
   "metadata": {
    "id": "show_topic_keywords-topic_id-k-10"
   },
   "source": [
    "### show_topic_keywords(topic_id, k=10)\n",
    "\n",
    "用于展示出每个主题下对应的关键词，可配合推理主题分布的API使用。\n",
    "\n",
    "**参数**\n",
    "\n",
    "- topic_id(int): 主题ID。\n",
    "- k(int): 需要知道对应主题的前k个关键词。\n",
    "\n",
    "**返回**\n",
    "\n",
    "- results(dict): 返回对应文档的前k个关键词，以及各个关键词在文档中的出现概率。"
   ]
  },
  {
   "cell_type": "markdown",
   "id": "d6e3d666",
   "metadata": {
    "id": "代码示例"
   },
   "source": [
    "### 代码示例\n",
    "\n",
    "这里展示API的使用示例。"
   ]
  },
  {
   "cell_type": "markdown",
   "id": "3814944d",
   "metadata": {
    "id": "查看代码"
   },
   "source": [
    "## 查看代码\n",
    "\n",
    "https://github.com/baidu/Familia"
   ]
  },
  {
   "cell_type": "markdown",
   "id": "fc0314ac",
   "metadata": {
    "id": "依赖"
   },
   "source": [
    "## 依赖\n",
    "\n",
    "paddlepaddle >= 1.8.2\n",
    "\n",
    "paddlehub >= 1.8.0"
   ]
  },
  {
   "cell_type": "markdown",
   "id": "be1e8ffa",
   "metadata": {
    "id": "更新历史"
   },
   "source": [
    "## 更新历史\n",
    "\n",
    "* 1.0.0\n",
    "\n",
    "  初始发布"
   ]
  }
 ],
 "metadata": {
  "colab": {
   "name": "模型概述",
   "toc_visible": true
  },
  "kernelspec": {
   "display_name": "python3",
   "name": "python3"
  }
 },
 "nbformat": 4,
 "nbformat_minor": 5
}
