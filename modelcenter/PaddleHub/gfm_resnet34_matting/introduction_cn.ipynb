{
 "cells": [
  {
   "cell_type": "markdown",
   "id": "9391d3c4",
   "metadata": {
    "id": "gfm_resnet34_matting"
   },
   "source": [
    "# gfm_resnet34_matting\n",
    "\n",
    "|模型名称|gfm_resnet34_matting|\n",
    "| :--- | :---: |\n",
    "|类别|图像-抠图|\n",
    "|网络|gfm_resnet34|\n",
    "|数据集|AM-2k|\n",
    "|是否支持Fine-tuning|否|\n",
    "|模型大小|562MB|\n",
    "|指标|SAD10.89|\n",
    "|最新更新日期|2021-12-03|"
   ]
  },
  {
   "cell_type": "markdown",
   "id": "55f67bce",
   "metadata": {
    "id": "一-模型基本信息"
   },
   "source": [
    "## 一、模型基本信息\n",
    "\n",
    "- ### 应用效果展示\n",
    "\n",
    "  - 样例结果示例(左为原图，右为效果图)：\n",
    "    <p align=\"center\">\n",
    "    <img src=\"https://user-images.githubusercontent.com/35907364/145993777-9b69a85d-d31c-4743-8620-82b2a56ca1e7.jpg\" width=\"480\" height=\"350\" hspace=\"10\"/>\n",
    "    <img src=\"https://user-images.githubusercontent.com/35907364/145993809-b0fb4bae-2c64-4868-99fc-500f19343442.png\" width=\"480\" height=\"350\" hspace=\"10\"/>\n",
    "    </p>\n",
    "\n",
    "- ### 模型介绍\n",
    "\n",
    "  - Matting（精细化分割/影像去背/抠图）是指借由计算前景的颜色和透明度，将前景从影像中撷取出来的技术，可用于替换背景、影像合成、视觉特效，在电影工业中被广泛地使用。影像中的每个像素会有代表其前景透明度的值，称作阿法值（Alpha），一张影像中所有阿法值的集合称作阿法遮罩（Alpha Matte），将影像被遮罩所涵盖的部分取出即可完成前景的分离。gfm_resnet34_matting可生成抠图结果。\n",
    "\n",
    "  - 更多详情请参考：[gfm_resnet34_matting](https://github.com/JizhiziLi/GFM)"
   ]
  },
  {
   "cell_type": "markdown",
   "id": "c0f216e9",
   "metadata": {
    "id": "二-安装"
   },
   "source": [
    "## 二、安装\n",
    "\n",
    "- ### 1、环境依赖\n",
    "\n",
    "    - paddlepaddle >= 2.2.0\n",
    "\n",
    "    - paddlehub >= 2.1.0\n",
    "\n",
    "    - paddleseg >= 2.3.0\n",
    "\n",
    "- ### 2、安装\n",
    "\n",
    "    - ```shell\n",
    "      $ hub install gfm_resnet34_matting\n",
    "      ```\n",
    "\n",
    "    - 如您安装时遇到问题，可参考：[零基础windows安装](../../../../docs/docs_ch/get_start/windows_quickstart.md)\n",
    "      | [零基础Linux安装](../../../../docs/docs_ch/get_start/linux_quickstart.md) | [零基础MacOS安装](../../../../docs/docs_ch/get_start/mac_quickstart.md)"
   ]
  },
  {
   "cell_type": "markdown",
   "id": "98331f88",
   "metadata": {
    "id": "三-模型api预测"
   },
   "source": [
    "## 三、模型API预测\n",
    "\n",
    "- ### 1、命令行预测\n",
    "\n",
    "  - ```shell\n",
    "    $ hub run gfm_resnet34_matting --input_path \"/PATH/TO/IMAGE\"\n",
    "    ```\n",
    "\n",
    "  - 通过命令行方式实现hub模型的调用，更多请见 [PaddleHub命令行指令](../../../../docs/docs_ch/tutorial/cmd_usage.rst)\n",
    "\n",
    "- ### 2、预测代码示例\n",
    "\n",
    "    - ```python\n",
    "      import paddlehub as hub\n",
    "      import cv2\n",
    "\n",
    "      model = hub.Module(name=\"gfm_resnet34_matting\")\n",
    "      result = model.predict([cv2.imread(\"/PATH/TO/IMAGE\")])\n",
    "      print(result)\n",
    "      ```\n",
    "- ### 3、API\n",
    "\n",
    "    - ```python\n",
    "        def predict(self,\n",
    "                    image_list,\n",
    "                    visualization,\n",
    "                    save_path):\n",
    "      ```\n",
    "\n",
    "        - 动物matting预测API，用于将输入图片中的动物分割出来。\n",
    "\n",
    "        - 参数\n",
    "\n",
    "            - image_list (list(str | numpy.ndarray)):图片输入路径或者BGR格式numpy数据。\n",
    "            - visualization (bool): 是否进行可视化，默认为False。\n",
    "            - save_path (str): 当visualization为True时，保存图片的路径，默认为\"gfm_resnet34_matting_output\"。\n",
    "\n",
    "        - 返回\n",
    "\n",
    "            - result (list(numpy.ndarray))：模型分割结果："
   ]
  },
  {
   "cell_type": "markdown",
   "id": "fed2c48a",
   "metadata": {
    "id": "四-服务部署"
   },
   "source": [
    "## 四、服务部署\n",
    "\n",
    "- PaddleHub Serving可以部署动物matting在线服务。\n",
    "\n",
    "- ### 第一步：启动PaddleHub Serving\n",
    "\n",
    "  - 运行启动命令：\n",
    "\n",
    "    - ```shell\n",
    "      $ hub serving start -m gfm_resnet34_matting\n",
    "      ```\n",
    "\n",
    "    - 这样就完成了一个动物matting在线服务API的部署，默认端口号为8866。\n",
    "\n",
    "    - **NOTE:** 如使用GPU预测，则需要在启动服务之前，请设置CUDA\\_VISIBLE\\_DEVICES环境变量，否则不用设置。\n",
    "\n",
    "- ### 第二步：发送预测请求\n",
    "\n",
    "  - 配置好服务端，以下数行代码即可实现发送预测请求，获取预测结果\n",
    "\n",
    "    ```python\n",
    "    import requests\n",
    "    import json\n",
    "    import cv2\n",
    "    import base64\n",
    "    import time\n",
    "    import numpy as np\n",
    "\n",
    "    def cv2_to_base64(image):\n",
    "        data = cv2.imencode('.jpg', image)[1]\n",
    "        return base64.b64encode(data.tostring()).decode('utf8')\n",
    "\n",
    "    def base64_to_cv2(b64str):\n",
    "        data = base64.b64decode(b64str.encode('utf8'))\n",
    "        data = np.fromstring(data, np.uint8)\n",
    "        data = cv2.imdecode(data, cv2.IMREAD_COLOR)\n",
    "        return data\n",
    "\n",
    "    # 发送HTTP请求\n",
    "    data = {'images':[cv2_to_base64(cv2.imread(\"/PATH/TO/IMAGE\"))]}\n",
    "\n",
    "    headers = {\"Content-type\": \"application/json\"}\n",
    "    url = \"http://127.0.0.1:8866/predict/gfm_resnet34_matting\"\n",
    "    r = requests.post(url=url, headers=headers, data=json.dumps(data))\n",
    "\n",
    "    for image in r.json()[\"results\"]['data']:\n",
    "        data = base64_to_cv2(image)\n",
    "        image_path =str(time.time()) + \".png\"\n",
    "        cv2.imwrite(image_path, data)\n",
    "      ```"
   ]
  },
  {
   "cell_type": "markdown",
   "id": "34f47521",
   "metadata": {
    "id": "五-更新历史"
   },
   "source": [
    "## 五、更新历史\n",
    "\n",
    "* 1.0.0\n",
    "\n",
    "  初始发布"
   ]
  }
 ],
 "metadata": {
  "colab": {
   "name": "gfm_resnet34_matting",
   "toc_visible": true
  },
  "kernelspec": {
   "display_name": "python3",
   "name": "python3"
  }
 },
 "nbformat": 4,
 "nbformat_minor": 5
}
