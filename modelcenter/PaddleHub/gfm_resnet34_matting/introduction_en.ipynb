{
 "cells": [
  {
   "cell_type": "markdown",
   "id": "85dce00b",
   "metadata": {
    "id": "gfm_resnet34_matting"
   },
   "source": [
    "# gfm_resnet34_matting\n",
    "\n",
    "|Module Name|gfm_resnet34_matting|\n",
    "| :--- | :---: |\n",
    "|Category|Image Matting|\n",
    "|Network|gfm_resnet34|\n",
    "|Dataset|AM-2k|\n",
    "|Support Fine-tuning|No|\n",
    "|Module Size|562MB|\n",
    "|Data Indicators|SAD10.89|\n",
    "|Latest update date|2021-12-03|"
   ]
  },
  {
   "cell_type": "markdown",
   "id": "b99241dd",
   "metadata": {
    "id": "i-basic-information"
   },
   "source": [
    "## I. Basic Information\n",
    "\n",
    "- ### Application Effect Display\n",
    "\n",
    "  - Sample results:\n",
    "    <p align=\"center\">\n",
    "    <img src=\"https://user-images.githubusercontent.com/35907364/145993777-9b69a85d-d31c-4743-8620-82b2a56ca1e7.jpg\" width=\"480\" height=\"350\" hspace=\"10\"/>\n",
    "    <img src=\"https://user-images.githubusercontent.com/35907364/145993809-b0fb4bae-2c64-4868-99fc-500f19343442.png\" width=\"480\" height=\"350\" hspace=\"10\"/>\n",
    "    </p>\n",
    "\n",
    "- ### Module Introduction\n",
    "\n",
    "  - Mating is the technique of extracting foreground from an image by calculating its color and transparency. It is widely used in the film industry to replace background, image composition, and visual effects. Each pixel in the image will have a value that represents its foreground transparency, called Alpha. The set of all Alpha values in an image is called Alpha Matte. The part of the image covered by the mask can be extracted to complete foreground separation.\n",
    "\n",
    "  - For more information, please refer to: [gfm_resnet34_matting](https://github.com/JizhiziLi/GFM)"
   ]
  },
  {
   "cell_type": "markdown",
   "id": "483a21a2",
   "metadata": {
    "id": "ii-installation"
   },
   "source": [
    "## II. Installation\n",
    "\n",
    "- ### 1、Environmental Dependence\n",
    "\n",
    "    - paddlepaddle >= 2.2.0\n",
    "\n",
    "    - paddlehub >= 2.1.0\n",
    "\n",
    "    - paddleseg >= 2.3.0\n",
    "\n",
    "- ### 2、Installation\n",
    "\n",
    "    - ```shell\n",
    "      $ hub install gfm_resnet34_matting\n",
    "      ```\n",
    "\n",
    "    - In case of any problems during installation, please refer to:[Windows_Quickstart](../../../../docs/docs_en/get_start/windows_quickstart.md)\n",
    "    | [Linux_Quickstart](../../../../docs/docs_en/get_start/linux_quickstart.md) | [Mac_Quickstart](../../../../docs/docs_en/get_start/mac_quickstart.md)"
   ]
  },
  {
   "cell_type": "markdown",
   "id": "86975bf5",
   "metadata": {
    "id": "iii-module-api-prediction"
   },
   "source": [
    "## III. Module API Prediction\n",
    "\n",
    "- ### 1、Command line Prediction\n",
    "\n",
    "  - ```shell\n",
    "    $ hub run gfm_resnet34_matting --input_path \"/PATH/TO/IMAGE\"\n",
    "    ```\n",
    "\n",
    "  - If you want to call the Hub module through the command line, please refer to: [PaddleHub Command Line Instruction](../../../../docs/docs_en/tutorial/cmd_usage.rst)\n",
    "\n",
    "- ### 2、Prediction Code Example\n",
    "\n",
    "    - ```python\n",
    "      import paddlehub as hub\n",
    "      import cv2\n",
    "\n",
    "      model = hub.Module(name=\"gfm_resnet34_matting\")\n",
    "      result = model.predict([cv2.imread(\"/PATH/TO/IMAGE\")])\n",
    "      print(result)\n",
    "\n",
    "      ```\n",
    "- ### 3、API\n",
    "\n",
    "    - ```python\n",
    "        def predict(self,\n",
    "                    image_list,\n",
    "                    visualization,\n",
    "                    save_path):\n",
    "      ```\n",
    "\n",
    "        - Prediction API for matting.\n",
    "\n",
    "        - **Parameter**\n",
    "\n",
    "            - image_list (list(str | numpy.ndarray)): Image path or image data, ndarray.shape is in the format \\[H, W, C\\]，BGR.\n",
    "            - visualization (bool): Whether to save the recognition results as picture files, default is False.\n",
    "            - save_path (str): Save path of images, \"modnet_mobilenetv2_matting_output\" by default.\n",
    "\n",
    "        - **Return**\n",
    "\n",
    "            - result (list(numpy.ndarray))：The list of model results."
   ]
  },
  {
   "cell_type": "markdown",
   "id": "4577e07d",
   "metadata": {
    "id": "iv-server-deployment"
   },
   "source": [
    "## IV. Server Deployment\n",
    "\n",
    "- PaddleHub Serving can deploy an online service of matting.\n",
    "\n",
    "- ### Step 1: Start PaddleHub Serving\n",
    "\n",
    "  - Run the startup command:\n",
    "\n",
    "    - ```shell\n",
    "      $ hub serving start -m gfm_resnet34_matting\n",
    "      ```\n",
    "\n",
    "    - The servitization API is now deployed and the default port number is 8866.\n",
    "\n",
    "    - **NOTE:**  If GPU is used for prediction, set CUDA_VISIBLE_DEVICES environment variable before the service, otherwise it need not be set.\n",
    "\n",
    "- ### Step 2: Send a predictive request\n",
    "\n",
    "  - With a configured server, use the following lines of code to send the prediction request and obtain the result\n",
    "\n",
    "    ```python\n",
    "    import requests\n",
    "    import json\n",
    "    import cv2\n",
    "    import base64\n",
    "    import time\n",
    "    import numpy as np\n",
    "\n",
    "    def cv2_to_base64(image):\n",
    "        data = cv2.imencode('.jpg', image)[1]\n",
    "        return base64.b64encode(data.tostring()).decode('utf8')\n",
    "\n",
    "    def base64_to_cv2(b64str):\n",
    "        data = base64.b64decode(b64str.encode('utf8'))\n",
    "        data = np.fromstring(data, np.uint8)\n",
    "        data = cv2.imdecode(data, cv2.IMREAD_COLOR)\n",
    "        return data\n",
    "\n",
    "    data = {'images':[cv2_to_base64(cv2.imread(\"/PATH/TO/IMAGE\"))]}\n",
    "\n",
    "    headers = {\"Content-type\": \"application/json\"}\n",
    "    url = \"http://127.0.0.1:8866/predict/gfm_resnet34_matting\"\n",
    "    r = requests.post(url=url, headers=headers, data=json.dumps(data))\n",
    "\n",
    "    for image in r.json()[\"results\"]['data']:\n",
    "        data = base64_to_cv2(image)\n",
    "        image_path =str(time.time()) + \".png\"\n",
    "        cv2.imwrite(image_path, data)\n",
    "      ```"
   ]
  },
  {
   "cell_type": "markdown",
   "id": "721dbd41",
   "metadata": {
    "id": "v-release-note"
   },
   "source": [
    "## V. Release Note\n",
    "\n",
    "- 1.0.0\n",
    "\n",
    "  First release"
   ]
  }
 ],
 "metadata": {
  "colab": {
   "name": "gfm_resnet34_matting",
   "toc_visible": true
  },
  "kernelspec": {
   "display_name": "python3",
   "name": "python3"
  }
 },
 "nbformat": 4,
 "nbformat_minor": 5
}
