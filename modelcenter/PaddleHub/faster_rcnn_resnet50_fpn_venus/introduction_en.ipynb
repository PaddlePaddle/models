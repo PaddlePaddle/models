{
 "cells": [
  {
   "cell_type": "markdown",
   "id": "5b8fb23a",
   "metadata": {
    "id": "faster_rcnn_resnet50_fpn_venus"
   },
   "source": [
    "# faster_rcnn_resnet50_fpn_venus\n",
    "\n",
    "|Module Name|faster_rcnn_resnet50_fpn_venus|\n",
    "| :--- | :---: |\n",
    "|Category|object detection|\n",
    "|Network|faster_rcnn|\n",
    "|Dataset|Baidu Detection Dataset|\n",
    "|Fine-tuning supported or not|Yes|\n",
    "|Module Size|317MB|\n",
    "|Latest update date|2021-02-26|\n",
    "|Data indicators|-|"
   ]
  },
  {
   "cell_type": "markdown",
   "id": "31e017a7",
   "metadata": {
    "id": "i-basic-information"
   },
   "source": [
    "## I.Basic Information\n",
    "\n",
    "- ### Module Introduction\n",
    "\n",
    "  - Faster_RCNN is a two-stage detector, it consists of feature extraction, proposal, classification and refinement processes. This module is trained on Baidu Detection Dataset, which contains 170w pictures and 1000w+ boxes, and improve the accuracy on 8 test datasets with average 2.06%. Besides, this module supports to fine-tune model, and can achieve faster convergence and better performance."
   ]
  },
  {
   "cell_type": "markdown",
   "id": "41c57f6a",
   "metadata": {
    "id": "ii-installation"
   },
   "source": [
    "## II.Installation\n",
    "\n",
    "- ### 1、Environmental Dependence\n",
    "\n",
    "  - paddlepaddle >= 1.6.2\n",
    "\n",
    "  - paddlehub >= 1.6.0  | [How to install PaddleHub](../../../../docs/docs_en/get_start/installation.rst)\n",
    "\n",
    "- ### 2、Installation\n",
    "\n",
    "  - ```shell\n",
    "    $ hub install faster_rcnn_resnet50_fpn_venus\n",
    "    ```\n",
    "  - In case of any problems during installation, please refer to: [Windows_Quickstart](../../../../docs/docs_en/get_start/windows_quickstart.md) | [Linux_Quickstart](../../../../docs/docs_en/get_start/linux_quickstart.md) | [Mac_Quickstart](../../../../docs/docs_en/get_start/mac_quickstart.md)"
   ]
  },
  {
   "cell_type": "markdown",
   "id": "75faebbe",
   "metadata": {
    "id": "iii-module-api-prediction"
   },
   "source": [
    "## III.Module API Prediction\n",
    "\n",
    "- ### 1、API\n",
    "\n",
    "  - ```python\n",
    "    def context(num_classes=81,\n",
    "                trainable=True,\n",
    "                pretrained=True,\n",
    "                phase='train')\n",
    "    ```\n",
    "\n",
    "    - Extract features, and do transfer learning\n",
    "\n",
    "    - **Parameters**\n",
    "      - num\\_classes (int): number of classes；<br/>\n",
    "      - trainable (bool): whether parameters trainable or not；<br/>\n",
    "      - pretrained (bool): whether load pretrained model or not\n",
    "      - get\\_prediction (bool): optional, 'train' or 'predict'，'train' is used for training，'predict' used for prediction.\n",
    "\n",
    "    - **Return**\n",
    "      - inputs (dict): inputs, a dict：\n",
    "        if phase is 'train', keys are：\n",
    "          - image (Variable): image variable\n",
    "          - im\\_size (Variable): image size\n",
    "          - im\\_info (Variable): image information\n",
    "          - gt\\_class (Variable): box class\n",
    "          - gt\\_box (Variable): box coordination\n",
    "          - is\\_crowd (Variable): if multiple objects in box\n",
    "        if phase 为 'predict'，keys are：\n",
    "          - image (Variable): image variable\n",
    "          - im\\_size (Variable): image size\n",
    "          - im\\_info (Variable): image information\n",
    "      - outputs (dict): model output\n",
    "         if phase is 'train', keys are：\n",
    "          - head_features (Variable): features extracted\n",
    "          - rpn\\_cls\\_loss (Variable): classfication loss in box\n",
    "          - rpn\\_reg\\_loss (Variable): regression loss in box\n",
    "          - generate\\_proposal\\_labels (Variable): proposal labels\n",
    "        if phase 为 'predict'，keys are：\n",
    "          - head_features (Variable): features extracted\n",
    "          - rois (Variable): roi\n",
    "          - bbox\\_out (Variable): prediction results\n",
    "      - program for transfer learning\n",
    "\n",
    "  - ```python\n",
    "    def save_inference_model(dirname,\n",
    "                             model_filename=None,\n",
    "                             params_filename=None,\n",
    "                             combined=True)\n",
    "    ```\n",
    "    - Save model to specific path\n",
    "\n",
    "    - **Parameters**\n",
    "\n",
    "      - dirname: output dir for saving model\n",
    "      - model\\_filename: filename for saving model\n",
    "      - params\\_filename: filename for saving parameters\n",
    "      - combined: whether save parameters into one file"
   ]
  },
  {
   "cell_type": "markdown",
   "id": "9e8a195b",
   "metadata": {
    "id": "iv-release-note"
   },
   "source": [
    "## IV.Release Note\n",
    "\n",
    "* 1.0.0\n",
    "\n",
    "  First release\n",
    "  - ```shell\n",
    "    $ hub install faster_rcnn_resnet50_fpn_venus==1.0.0\n",
    "    ```"
   ]
  }
 ],
 "metadata": {
  "colab": {
   "name": "faster_rcnn_resnet50_fpn_venus",
   "toc_visible": true
  },
  "kernelspec": {
   "display_name": "python3",
   "name": "python3"
  }
 },
 "nbformat": 4,
 "nbformat_minor": 5
}
