{
 "cells": [
  {
   "cell_type": "markdown",
   "id": "75667c2f",
   "metadata": {
    "id": "faster_rcnn_resnet50_fpn_venus"
   },
   "source": [
    "# faster_rcnn_resnet50_fpn_venus\n",
    "\n",
    "|模型名称|faster_rcnn_resnet50_fpn_venus|\n",
    "| :--- | :---: |\n",
    "|类别|图像 - 目标检测|\n",
    "|网络|faster_rcnn|\n",
    "|数据集|百度自建数据集|\n",
    "|是否支持Fine-tuning|是|\n",
    "|模型大小|317MB|\n",
    "|最新更新日期|2021-02-26|\n",
    "|数据指标|-|"
   ]
  },
  {
   "cell_type": "markdown",
   "id": "7a241632",
   "metadata": {
    "id": "一-模型基本信息"
   },
   "source": [
    "## 一、模型基本信息\n",
    "\n",
    "- ### 模型介绍\n",
    "\n",
    "  - Faster_RCNN是两阶段目标检测器，对图像生成候选区域、提取特征、判别特征类别并修正候选框位置。Faster_RCNN整体网络可以分为4个部分，一是ResNet-50作为基础卷积层，二是区域生成网络，三是Rol Align，四是检测层。该PaddleHub Module是由800+tag,170w图片，1000w+检测框训练的大规模通用检测模型，在8个数据集上MAP平均提升2.06%，iou=0.5的准确率平均提升1.78%。对比于其他通用检测模型，使用该Module进行finetune，可以更快收敛，达到较优效果。"
   ]
  },
  {
   "cell_type": "markdown",
   "id": "54a6cb1f",
   "metadata": {
    "id": "二-安装"
   },
   "source": [
    "## 二、安装\n",
    "\n",
    "- ### 1、环境依赖\n",
    "\n",
    "  - paddlepaddle >= 1.6.2\n",
    "\n",
    "  - paddlehub >= 1.6.0  | [如何安装paddlehub](../../../../docs/docs_ch/get_start/installation.rst)\n",
    "\n",
    "- ### 2、安装\n",
    "\n",
    "  - ```shell\n",
    "    $ hub install faster_rcnn_resnet50_fpn_venus\n",
    "    ```\n",
    "  - 如您安装时遇到问题，可参考：[零基础windows安装](../../../../docs/docs_ch/get_start/windows_quickstart.md)\n",
    " | [零基础Linux安装](../../../../docs/docs_ch/get_start/linux_quickstart.md) | [零基础MacOS安装](../../../../docs/docs_ch/get_start/mac_quickstart.md)"
   ]
  },
  {
   "cell_type": "markdown",
   "id": "ef450e58",
   "metadata": {
    "id": "三-模型api预测"
   },
   "source": [
    "## 三、模型API预测\n",
    "\n",
    "- ### 1、API\n",
    "\n",
    "  - ```python\n",
    "    def context(num_classes=81,\n",
    "                trainable=True,\n",
    "                pretrained=True,\n",
    "                phase='train')\n",
    "    ```\n",
    "\n",
    "    - 提取特征，用于迁移学习。\n",
    "\n",
    "    - **参数**\n",
    "      - num\\_classes (int): 类别数；<br/>\n",
    "      - trainable (bool): 参数是否可训练；<br/>\n",
    "      - pretrained (bool): 是否加载预训练模型；<br/>\n",
    "      - get\\_prediction (bool): 可选值为 'train'/'predict'，'train' 用于训练，'predict' 用于预测。\n",
    "\n",
    "    - **返回**\n",
    "      - inputs (dict): 模型的输入，相应的取值为：\n",
    "        当phase为'train'时，包含：\n",
    "          - image (Variable): 图像变量\n",
    "          - im\\_size (Variable): 图像的尺寸\n",
    "          - im\\_info (Variable): 图像缩放信息\n",
    "          - gt\\_class (Variable): 检测框类别\n",
    "          - gt\\_box (Variable): 检测框坐标\n",
    "          - is\\_crowd (Variable): 单个框内是否包含多个物体\n",
    "        当 phase 为 'predict'时，包含：\n",
    "          - image (Variable): 图像变量\n",
    "          - im\\_size (Variable): 图像的尺寸\n",
    "          - im\\_info (Variable): 图像缩放信息\n",
    "      - outputs (dict): 模型的输出，响应的取值为：\n",
    "        当 phase 为 'train'时，包含：\n",
    "          - head_features (Variable): 所提取的特征\n",
    "          - rpn\\_cls\\_loss (Variable): 检测框分类损失\n",
    "          - rpn\\_reg\\_loss (Variable): 检测框回归损失\n",
    "          - generate\\_proposal\\_labels (Variable): 图像信息\n",
    "        当 phase 为 'predict'时，包含：\n",
    "          - head_features (Variable): 所提取的特征\n",
    "          - rois (Variable): 提取的roi\n",
    "          - bbox\\_out (Variable): 预测结果\n",
    "      - context\\_prog (Program): 用于迁移学习的 Program\n",
    "\n",
    "  - ```python\n",
    "    def save_inference_model(dirname,\n",
    "                             model_filename=None,\n",
    "                             params_filename=None,\n",
    "                             combined=True)\n",
    "    ```\n",
    "    - 将模型保存到指定路径。\n",
    "\n",
    "    - **参数**\n",
    "\n",
    "      - dirname: 存在模型的目录名称； <br/>\n",
    "      - model\\_filename: 模型文件名称，默认为\\_\\_model\\_\\_； <br/>\n",
    "      - params\\_filename: 参数文件名称，默认为\\_\\_params\\_\\_(仅当`combined`为True时生效)；<br/>\n",
    "      - combined: 是否将参数保存到统一的一个文件中。"
   ]
  },
  {
   "cell_type": "markdown",
   "id": "e2d1e938",
   "metadata": {
    "id": "四-更新历史"
   },
   "source": [
    "## 四、更新历史\n",
    "\n",
    "* 1.0.0\n",
    "\n",
    "  初始发布\n",
    "  - ```shell\n",
    "    $ hub install faster_rcnn_resnet50_fpn_venus==1.0.0\n",
    "    ```"
   ]
  }
 ],
 "metadata": {
  "colab": {
   "name": "faster_rcnn_resnet50_fpn_venus",
   "toc_visible": true
  },
  "kernelspec": {
   "display_name": "python3",
   "name": "python3"
  }
 },
 "nbformat": 4,
 "nbformat_minor": 5
}
