{
 "cells": [
  {
   "cell_type": "markdown",
   "id": "4d912a80",
   "metadata": {
    "id": "animegan_v2_paprika_54"
   },
   "source": [
    "# animegan_v2_paprika_54\n",
    "\n",
    "|Module Name |animegan_v2_paprika_54|\n",
    "| :--- | :---: |\n",
    "|Category |Image generation|\n",
    "|Network|AnimeGAN|\n",
    "|Dataset|Paprika|\n",
    "|Fine-tuning supported or not|No|\n",
    "|Module Size|9.4MB|\n",
    "|Latest update date|2021-02-26|\n",
    "|Data indicators|-|"
   ]
  },
  {
   "cell_type": "markdown",
   "id": "f742d0f0",
   "metadata": {
    "id": "i-basic-information"
   },
   "source": [
    "## I. Basic Information\n",
    "\n",
    "- ### Application Effect Display\n",
    "\n",
    "  - Sample results:\n",
    "    <p align=\"center\">\n",
    "    <img src=\"https://ai-studio-static-online.cdn.bcebos.com/bd002c4bb6a7427daf26988770bb18648b7d8d2bfd6746bfb9a429db4867727f\" width=\"450\" height=\"300\" hspace=\"10\"/>\n",
    "    <br/>\n",
    "    Input image\n",
    "    <br/>\n",
    "    <img src=\"https://ai-studio-static-online.cdn.bcebos.com/6574669d87b24bab9627c6e33896528b4a0bf5af1cd84ca29655d68719f2d551\" width=\"450\" height=\"300\" hspace=\"10\"/>\n",
    "    <br/>\n",
    "    Output image\n",
    "     <br/>\n",
    "    </p>\n",
    "\n",
    "- ### Module Introduction\n",
    "\n",
    "  - AnimeGAN V2 image style stransfer model, the model can convert the input image into red pepper anime style, the model weight is converted from[AnimeGAN V2 official repo](https://github.com/TachibanaYoshino/AnimeGAN)。"
   ]
  },
  {
   "cell_type": "markdown",
   "id": "4b4f2c1f",
   "metadata": {
    "id": "ii-installation"
   },
   "source": [
    "## II. Installation\n",
    "\n",
    "- ### 1、Environmental Dependence\n",
    "\n",
    "  - paddlepaddle >= 1.8.0\n",
    "\n",
    "  - paddlehub >= 1.8.0  | [How to install PaddleHub](../../../../docs/docs_en/get_start/installation.rst)\n",
    "\n",
    "- ### 2、Installation\n",
    "\n",
    "  - ```shell\n",
    "    $ hub install animegan_v2_paprika_54\n",
    "    ```\n",
    "\n",
    "  - In case of any problems during installation, please refer to:[Windows_Quickstart](../../../../docs/docs_en/get_start/windows_quickstart.md)\n",
    "    | [Linux_Quickstart](../../../../docs/docs_en/get_start/linux_quickstart.md) | [Mac_Quickstart](../../../../docs/docs_en/get_start/mac_quickstart.md)"
   ]
  },
  {
   "cell_type": "markdown",
   "id": "fd6f23da",
   "metadata": {
    "id": "iii-module-api-prediction"
   },
   "source": [
    "## III. Module API Prediction\n",
    "\n",
    "- ### 1、Prediction Code Example\n",
    "\n",
    "  - ```python\n",
    "    import paddlehub as hub\n",
    "    import cv2\n",
    "\n",
    "    model = hub.Module(name=\"animegan_v2_paprika_54\")\n",
    "    result = model.style_transfer(images=[cv2.imread('/PATH/TO/IMAGE')])\n",
    "    # or\n",
    "    # result = model.style_transfer(paths=['/PATH/TO/IMAGE'])\n",
    "    ```\n",
    "\n",
    "- ### 2、API\n",
    "\n",
    "  - ```python\n",
    "    def style_transfer(images=None,\n",
    "                       paths=None,\n",
    "                       output_dir='output',\n",
    "                       visualization=False,\n",
    "                       min_size=32,\n",
    "                       max_size=1024)\n",
    "    ```\n",
    "\n",
    "    - Style transfer API.\n",
    "\n",
    "    - **Parameters**\n",
    "\n",
    "      - images (list\\[numpy.ndarray\\]): Image data, ndarray.shape is in the format [H, W, C], BGR.\n",
    "      - paths (list\\[str\\]): Image path.\n",
    "      - output\\_dir (str): Save path of images, `output` by default.\n",
    "      - visualization (bool): Whether to save the results as picture files.\n",
    "      - min\\_size (int): Minimum size, default is  32.\n",
    "      - max\\_size (int): Maximum size, default is 1024.\n",
    "\n",
    "      **NOTE:** Choose one of `paths` and `images` to provide input data.\n",
    "\n",
    "    - **Return**\n",
    "      - res (list\\[numpy.ndarray\\]): The list of style transfer results，ndarray.shape is in the format [H, W, C]."
   ]
  },
  {
   "cell_type": "markdown",
   "id": "b95d1427",
   "metadata": {
    "id": "iv-server-deployment"
   },
   "source": [
    "## IV. Server Deployment\n",
    "\n",
    "- PaddleHub Serving can deploy an online service of style transfer.\n",
    "\n",
    "- ### Step 1: Start PaddleHub Serving\n",
    "\n",
    "  - Run the startup command:\n",
    "\n",
    "    - ```shell\n",
    "      $ hub serving start -m animegan_v2_paprika_54\n",
    "      ```\n",
    "\n",
    "  - The servitization API is now deployed and the default port number is 8866.\n",
    "\n",
    "   - **NOTE:**  If GPU is used for prediction, set CUDA_VISIBLE_DEVICES environment variable before the service, otherwise it need not be set.\n",
    "\n",
    "- ### Step 2: Send a predictive request\n",
    "\n",
    "   - With a configured server, use the following lines of code to send the prediction request and obtain the result\n",
    "\n",
    "      - ```python\n",
    "        import requests\n",
    "        import json\n",
    "        import cv2\n",
    "        import base64\n",
    "\n",
    "        def cv2_to_base64(image):\n",
    "          data = cv2.imencode('.jpg', image)[1]\n",
    "          return base64.b64encode(data.tostring()).decode('utf8')\n",
    "\n",
    "        # Send an HTTP request\n",
    "        data = {'images':[cv2_to_base64(cv2.imread(\"/PATH/TO/IMAGE\"))]}\n",
    "        headers = {\"Content-type\": \"application/json\"}\n",
    "        url = \"http://127.0.0.1:8866/predict/animegan_v2_paprika_54\"\n",
    "        r = requests.post(url=url, headers=headers, data=json.dumps(data))\n",
    "\n",
    "        # print prediction results\n",
    "        print(r.json()[\"results\"])\n",
    "        ```"
   ]
  },
  {
   "cell_type": "markdown",
   "id": "43c332ed",
   "metadata": {
    "id": "v-release-note"
   },
   "source": [
    "## V. Release Note\n",
    "\n",
    "- 1.0.0\n",
    "\n",
    "  First release.\n",
    "\n",
    "* 1.1.0\n",
    "\n",
    "  Remove Fluid API\n",
    "\n",
    "  - ```shell\n",
    "    $ hub install animegan_v2_paprika_54==1.1.0\n",
    "    ```"
   ]
  }
 ],
 "metadata": {
  "colab": {
   "name": "animegan_v2_paprika_54",
   "toc_visible": true
  },
  "kernelspec": {
   "display_name": "python3",
   "name": "python3"
  }
 },
 "nbformat": 4,
 "nbformat_minor": 5
}
