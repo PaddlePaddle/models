{
 "cells": [
  {
   "cell_type": "markdown",
   "id": "36044262",
   "metadata": {
    "id": "deepvoice3_ljspeech"
   },
   "source": [
    "# deepvoice3_ljspeech\n",
    "\n",
    "|模型名称|deepvoice3_ljspeech|\n",
    "| :--- | :---: |\n",
    "|类别|语音-语音合成|\n",
    "|网络|DeepVoice3|\n",
    "|数据集|LJSpeech-1.1|\n",
    "|是否支持Fine-tuning|否|\n",
    "|模型大小|58MB|\n",
    "|最新更新日期|2020-10-27|\n",
    "|数据指标|-|"
   ]
  },
  {
   "cell_type": "markdown",
   "id": "4a67b8e4",
   "metadata": {
    "id": "一-模型基本信息"
   },
   "source": [
    "## 一、模型基本信息"
   ]
  },
  {
   "cell_type": "markdown",
   "id": "157207c2",
   "metadata": {
    "id": "模型介绍"
   },
   "source": [
    "### 模型介绍\n",
    "\n",
    "Deep Voice 3是百度研究院2017年发布的端到端的TTS模型（论文录用于ICLR 2018）。它是一个基于卷积神经网络和注意力机制的seq2seq模型,由于不包含循环神经网络，它可以并行训练，远快于基于循环神经网络的模型。Deep Voice 3可以学习到多个说话人的特征，也支持搭配多种声码器使用。deepvoice3_ljspeech是基于ljspeech英文语音数据集预训练得到的英文TTS模型，仅支持预测。\n",
    "\n",
    "<p align=\"center\">\n",
    "<img src=\"https://raw.githubusercontent.com/PaddlePaddle/Parakeet/release/v0.1/examples/deepvoice3/images/model_architecture.png\" hspace=\"10\"/> <br/>\n",
    "</p>\n",
    "\n",
    "更多详情参考论文[Deep Voice 3: Scaling Text-to-Speech with Convolutional Sequence Learning](https://arxiv.org/abs/1710.07654)"
   ]
  },
  {
   "cell_type": "markdown",
   "id": "c43dd46e",
   "metadata": {
    "id": "二-安装"
   },
   "source": [
    "## 二、安装\n",
    "\n",
    "- ### 1、系统依赖\n",
    "\n",
    "    对于Ubuntu用户，请执行：\n",
    "    ```\n",
    "    sudo apt-get install libsndfile1\n",
    "    ```\n",
    "    对于Centos用户，请执行：\n",
    "    ```\n",
    "    sudo yum install libsndfile\n",
    "    ```\n",
    "\n",
    "- ### 2、环境依赖\n",
    "\n",
    "  - 2.0.0 > paddlepaddle >= 1.8.2\n",
    "\n",
    "  - 2.0.0 > paddlehub >= 1.7.0    | [如何安装PaddleHub](../../../../docs/docs_ch/get_start/installation.rst)\n",
    "\n",
    "- ### 3、安装\n",
    "\n",
    "  - ```shell\n",
    "    $ hub install deepvoice3_ljspeech\n",
    "    ```\n",
    "  - 如您安装时遇到问题，可参考：[零基础windows安装](../../../../docs/docs_ch/get_start/windows_quickstart.md)\n",
    " | [零基础Linux安装](../../../../docs/docs_ch/get_start/linux_quickstart.md) | [零基础MacOS安装](../../../../docs/docs_ch/get_start/mac_quickstart.md)"
   ]
  },
  {
   "cell_type": "markdown",
   "id": "b8828f10",
   "metadata": {
    "id": "三-模型api预测"
   },
   "source": [
    "## 三、模型API预测\n",
    "\n",
    "- ### 1、命令行预测\n",
    "\n",
    "  - ```shell\n",
    "    $ hub run deepvoice3_ljspeech --input_text='Simple as this proposition is, it is necessary to be stated' --use_gpu True --vocoder griffin-lim\n",
    "    ```\n",
    "  - 通过命令行方式实现语音合成模型的调用，更多请见[PaddleHub命令行指令](https://github.com/shinichiye/PaddleHub/blob/release/v2.1/docs/docs_ch/tutorial/cmd_usage.rst)\n",
    "\n",
    "- ### 2、预测代码示例\n",
    "\n",
    "  - ```python\n",
    "    import paddlehub as hub\n",
    "    import soundfile as sf\n",
    "\n",
    "    # Load deepvoice3_ljspeech module.\n",
    "    module = hub.Module(name=\"deepvoice3_ljspeech\")\n",
    "\n",
    "    # Predict sentiment label\n",
    "    test_texts = ['Simple as this proposition is, it is necessary to be stated',\n",
    "                'Parakeet stands for Paddle PARAllel text-to-speech toolkit']\n",
    "    wavs, sample_rate = module.synthesize(texts=test_texts)\n",
    "    for index, wav in enumerate(wavs):\n",
    "        sf.write(f\"{index}.wav\", wav, sample_rate)\n",
    "    ```\n",
    "\n",
    "- ### 3、API\n",
    "\n",
    "  - ```python\n",
    "    def synthesize(texts, use_gpu=False, vocoder=\"griffin-lim\"):\n",
    "    ```\n",
    "\n",
    "    - 预测API，由输入文本合成对应音频波形。\n",
    "\n",
    "    - **参数**\n",
    "      - texts (list\\[str\\]): 待预测文本；\n",
    "      - use\\_gpu (bool): 是否使用 GPU；**若使用GPU，请先设置CUDA\\_VISIBLE\\_DEVICES环境变量**；\n",
    "      - vocoder: 指定声码器，可选 \"griffin-lim\"或\"waveflow\"\n",
    "\n",
    "    - **返回**\n",
    "      - wavs (list): 语音合成结果列表，列表中每一个元素为对应输入文本的音频波形，可使用`soundfile.write`进一步处理或保存。\n",
    "      - sample\\_rate (int): 合成音频的采样率。"
   ]
  },
  {
   "cell_type": "markdown",
   "id": "057a3161",
   "metadata": {
    "id": "四-服务部署"
   },
   "source": [
    "## 四、服务部署\n",
    "\n",
    "- PaddleHub Serving可以部署一个在线语音合成服务，可以将此接口用于在线web应用。\n",
    "\n",
    "- ### 第一步：启动PaddleHub Serving\n",
    "\n",
    "  - 运行启动命令\n",
    "  - ```shell\n",
    "    $ hub serving start -m deepvoice3_ljspeech\n",
    "    ```\n",
    "  - 这样就完成了服务化API的部署，默认端口号为8866。\n",
    "  - **NOTE:** 如使用GPU预测，则需要在启动服务之前，请设置CUDA\\_VISIBLE\\_DEVICES环境变量，否则不用设置。\n",
    "\n",
    "- ### 第二步：发送预测请求\n",
    "\n",
    "  - 配置好服务端，以下数行代码即可实现发送预测请求，获取预测结果\n",
    "\n",
    "  - ```python\n",
    "    import requests\n",
    "    import json\n",
    "\n",
    "    import soundfile as sf\n",
    "\n",
    "    # 发送HTTP请求\n",
    "\n",
    "    data = {'texts':['Simple as this proposition is, it is necessary to be stated',\n",
    "                    'Parakeet stands for Paddle PARAllel text-to-speech toolkit'],\n",
    "            'use_gpu':False}\n",
    "    headers = {\"Content-type\": \"application/json\"}\n",
    "    url = \"http://127.0.0.1:8866/predict/deepvoice3_ljspeech\"\n",
    "    r = requests.post(url=url, headers=headers, data=json.dumps(data))\n",
    "\n",
    "    # 保存结果\n",
    "    result = r.json()[\"results\"]\n",
    "    wavs = result[\"wavs\"]\n",
    "    sample_rate = result[\"sample_rate\"]\n",
    "    for index, wav in enumerate(wavs):\n",
    "        sf.write(f\"{index}.wav\", wav, sample_rate)\n",
    "    ```"
   ]
  },
  {
   "cell_type": "markdown",
   "id": "7d30688b",
   "metadata": {
    "id": "五-更新历史"
   },
   "source": [
    "## 五、更新历史\n",
    "\n",
    "* 1.0.0\n",
    "\n",
    "  初始发布\n",
    "\n",
    "  ```shell\n",
    "  $ hub install deepvoice3_ljspeech\n",
    "  ```"
   ]
  }
 ],
 "metadata": {
  "colab": {
   "name": "deepvoice3_ljspeech",
   "toc_visible": true
  },
  "kernelspec": {
   "display_name": "python3",
   "name": "python3"
  }
 },
 "nbformat": 4,
 "nbformat_minor": 5
}
