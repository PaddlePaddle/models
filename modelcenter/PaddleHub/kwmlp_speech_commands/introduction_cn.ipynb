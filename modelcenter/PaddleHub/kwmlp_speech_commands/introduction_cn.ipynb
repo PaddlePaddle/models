{
 "cells": [
  {
   "cell_type": "markdown",
   "id": "5c4bf27b",
   "metadata": {
    "id": "kwmlp_speech_commands"
   },
   "source": [
    "# kwmlp_speech_commands\n",
    "\n",
    "|模型名称|kwmlp_speech_commands|\n",
    "| :--- | :---: |\n",
    "|类别|语音-语言识别|\n",
    "|网络|Keyword-MLP|\n",
    "|数据集|Google Speech Commands V2|\n",
    "|是否支持Fine-tuning|否|\n",
    "|模型大小|1.6MB|\n",
    "|最新更新日期|2022-01-04|\n",
    "|数据指标|ACC 97.56%|"
   ]
  },
  {
   "cell_type": "markdown",
   "id": "48dbeeed",
   "metadata": {
    "id": "一-模型基本信息"
   },
   "source": [
    "## 一、模型基本信息"
   ]
  },
  {
   "cell_type": "markdown",
   "id": "d1114035",
   "metadata": {
    "id": "模型介绍"
   },
   "source": [
    "### 模型介绍\n",
    "\n",
    "kwmlp_speech_commands采用了 [Keyword-MLP](https://arxiv.org/pdf/2110.07749v1.pdf) 的轻量级模型结构，并在 [Google Speech Commands V2](https://arxiv.org/abs/1804.03209) 数据集上进行了预训练，在其测试集的测试结果为 ACC 97.56%。\n",
    "\n",
    "<p align=\"center\">\n",
    "<img src=\"https://d3i71xaburhd42.cloudfront.net/fa690a97f76ba119ca08fb02fa524a546c47f031/2-Figure1-1.png\" hspace=\"10\" height=\"550\"/> <br/>\n",
    "</p>\n",
    "\n",
    "更多详情请参考\n",
    "- [Speech Commands: A Dataset for Limited-Vocabulary Speech Recognition](https://arxiv.org/abs/1804.03209)\n",
    "- [ATTENTION-FREE KEYWORD SPOTTING](https://arxiv.org/pdf/2110.07749v1.pdf)\n",
    "- [Keyword-MLP](https://github.com/AI-Research-BD/Keyword-MLP)"
   ]
  },
  {
   "cell_type": "markdown",
   "id": "40e2d2e6",
   "metadata": {
    "id": "二-安装"
   },
   "source": [
    "## 二、安装\n",
    "\n",
    "- ### 1、环境依赖\n",
    "\n",
    "  - paddlepaddle >= 2.2.0\n",
    "\n",
    "  - paddlehub >= 2.2.0    | [如何安装PaddleHub](../../../../docs/docs_ch/get_start/installation.rst)\n",
    "\n",
    "- ### 2、安装\n",
    "\n",
    "  - ```shell\n",
    "    $ hub install kwmlp_speech_commands\n",
    "    ```\n",
    "  - 如您安装时遇到问题，可参考：[零基础windows安装](../../../../docs/docs_ch/get_start/windows_quickstart.md)\n",
    " | [零基础Linux安装](../../../../docs/docs_ch/get_start/linux_quickstart.md) | [零基础MacOS安装](../../../../docs/docs_ch/get_start/mac_quickstart.md)"
   ]
  },
  {
   "cell_type": "markdown",
   "id": "78a25028",
   "metadata": {
    "id": "三-模型api预测"
   },
   "source": [
    "## 三、模型API预测\n",
    "\n",
    "- ### 1、预测代码示例\n",
    "\n",
    "    ```python\n",
    "    import paddlehub as hub\n",
    "\n",
    "    model = hub.Module(\n",
    "        name='kwmlp_speech_commands',\n",
    "        version='1.0.0')\n",
    "\n",
    "    # 通过下列链接可下载示例音频\n",
    "    # https://paddlehub.bj.bcebos.com/paddlehub_dev/go.wav\n",
    "\n",
    "    # Keyword spotting\n",
    "    score, label = model.keyword_recognize('no.wav')\n",
    "    print(score, label)\n",
    "    # [0.89498246] no\n",
    "    score, label = model.keyword_recognize('go.wav')\n",
    "    print(score, label)\n",
    "    # [0.8997176] go\n",
    "    score, label = model.keyword_recognize('one.wav')\n",
    "    print(score, label)\n",
    "    # [0.88598305] one\n",
    "    ```\n",
    "\n",
    "- ### 2、API\n",
    "  - ```python\n",
    "    def keyword_recognize(\n",
    "        wav: os.PathLike,\n",
    "    )\n",
    "    ```\n",
    "    - 检测音频中包含的关键词。\n",
    "\n",
    "    - **参数**\n",
    "\n",
    "      - `wav`：输入的包含关键词的音频文件，格式为`*.wav`。\n",
    "\n",
    "    - **返回**\n",
    "\n",
    "      - 输出结果的得分和对应的关键词标签。"
   ]
  },
  {
   "cell_type": "markdown",
   "id": "fb52bfcb",
   "metadata": {
    "id": "四-更新历史"
   },
   "source": [
    "## 四、更新历史\n",
    "\n",
    "* 1.0.0\n",
    "\n",
    "  初始发布\n",
    "\n",
    "  ```shell\n",
    "  $ hub install kwmlp_speech_commands\n",
    "  ```"
   ]
  }
 ],
 "metadata": {
  "colab": {
   "name": "kwmlp_speech_commands",
   "toc_visible": true
  },
  "kernelspec": {
   "display_name": "python3",
   "name": "python3"
  }
 },
 "nbformat": 4,
 "nbformat_minor": 5
}
