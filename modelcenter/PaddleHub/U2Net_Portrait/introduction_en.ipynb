{
 "cells": [
  {
   "cell_type": "markdown",
   "id": "8b306676",
   "metadata": {
    "id": "u2net_portrait"
   },
   "source": [
    "# U2Net_Portrait\n",
    "\n",
    "|Module Name|U2Net_Portrait|\n",
    "| :--- | :---: |\n",
    "|Category|image generation|\n",
    "|Network|U^2Net|\n",
    "|Dataset|-|\n",
    "|Fine-tuning supported or not|No|\n",
    "|Module Size|254MB|\n",
    "|Latest update date|2021-02-26|\n",
    "|Data indicators|-|"
   ]
  },
  {
   "cell_type": "markdown",
   "id": "eae1d0e7",
   "metadata": {
    "id": "i-basic-information"
   },
   "source": [
    "## I.Basic Information\n",
    "\n",
    "- ### Application Effect Display\n",
    "  - Sample results：\n",
    "    <p align=\"center\">\n",
    "    <img src=\"https://ai-studio-static-online.cdn.bcebos.com/07f73466f3294373965e06c141c4781992f447104a94471dadfabc1c3d920861\" height=\"50%\" hspace=\"10\"/>\n",
    "    <br/>\n",
    "    Input image\n",
    "    <br/>\n",
    "    <img src=\"https://ai-studio-static-online.cdn.bcebos.com/c6ab02cf27414a5ba5921d9e6b079b487f6cda6026dc4d6dbca8f0167ad7cae3\" height=\"50%\" hspace=\"10\"/>\n",
    "    <br/>\n",
    "    Output image\n",
    "    <br/>\n",
    "    </p>\n",
    "\n",
    "- ### Module Introduction\n",
    "\n",
    "  - U2Net_Portrait can be used to create a face portrait."
   ]
  },
  {
   "cell_type": "markdown",
   "id": "7ccac47f",
   "metadata": {
    "id": "ii-installation"
   },
   "source": [
    "## II.Installation\n",
    "\n",
    "- ### 1、Environmental Dependence\n",
    "\n",
    "  - paddlepaddle >= 2.0.0\n",
    "\n",
    "  - paddlehub >= 2.0.0  | [How to install PaddleHub](../../../../docs/docs_en/get_start/installation.rst)\n",
    "\n",
    "- ### 2、Installation\n",
    "\n",
    "  - ```shell\n",
    "    $ hub install U2Net_Portrait\n",
    "    ```\n",
    "  - In case of any problems during installation, please refer to: [Windows_Quickstart](../../../../docs/docs_en/get_start/windows_quickstart.md) | [Linux_Quickstart](../../../../docs/docs_en/get_start/linux_quickstart.md) | [Mac_Quickstart](../../../../docs/docs_en/get_start/mac_quickstart.md)"
   ]
  },
  {
   "cell_type": "markdown",
   "id": "98dae935",
   "metadata": {
    "id": "iii-module-api-prediction"
   },
   "source": [
    "## III.Module API Prediction\n",
    "\n",
    "- ### 1、Prediction Code Example\n",
    "\n",
    "  - ```python\n",
    "    import paddlehub as hub\n",
    "    import cv2\n",
    "\n",
    "    model = hub.Module(name=\"U2Net_Portrait\")\n",
    "    result = model.Portrait_GEN(images=[cv2.imread('/PATH/TO/IMAGE')])\n",
    "    # or\n",
    "    # result = model.Portrait_GEN(paths=['/PATH/TO/IMAGE'])\n",
    "    ```\n",
    "\n",
    "- ### 2、API\n",
    "\n",
    "  - ```python\n",
    "    def Portrait_GEN(images=None,\n",
    "                    paths=None,\n",
    "                    scale=1,\n",
    "                    batch_size=1,\n",
    "                    output_dir='output',\n",
    "                    face_detection=True,\n",
    "                    visualization=False):\n",
    "    ```\n",
    "\n",
    "    - Portrait generation API.\n",
    "\n",
    "    - **Parameters**\n",
    "\n",
    "      - images (list\\[numpy.ndarray\\]): image data, ndarray.shape is in the format [H, W, C], BGR;\n",
    "      - paths (list[str]): image path;\n",
    "      - scale (float) : scale for resizing image；<br/>\n",
    "      - batch_size (int): the size of batch;\n",
    "      - output_dir (str): save path of images;\n",
    "      - visualization (bool): Whether to save the results as picture files;\n",
    "\n",
    "      **NOTE:** choose one parameter to provide data from paths and images\n",
    "\n",
    "    - **Return**\n",
    "      - res (list\\[numpy.ndarray\\]): result list，ndarray.shape is \\[H, W, C\\]"
   ]
  },
  {
   "cell_type": "markdown",
   "id": "8aa9eef8",
   "metadata": {
    "id": "iv-release-note"
   },
   "source": [
    "## IV.Release Note\n",
    "\n",
    "* 1.0.0\n",
    "\n",
    "  First release\n",
    "\n",
    "  - ```shell\n",
    "    $ hub install U2Net_Portrait==1.0.0\n",
    "    ```"
   ]
  }
 ],
 "metadata": {
  "colab": {
   "name": "U2Net_Portrait",
   "toc_visible": true
  },
  "kernelspec": {
   "display_name": "python3",
   "name": "python3"
  }
 },
 "nbformat": 4,
 "nbformat_minor": 5
}
