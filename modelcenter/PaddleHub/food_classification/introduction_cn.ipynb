{
 "cells": [
  {
   "cell_type": "markdown",
   "id": "eb6e9441",
   "metadata": {
    "id": "food_classification"
   },
   "source": [
    "# food_classification\n",
    "\n",
    "|模型名称|food_classification|\n",
    "| :--- | :---: |\n",
    "|类别|图像-图像分类|\n",
    "|网络|ResNet50_vd_ssld|\n",
    "|数据集|美食数据集|\n",
    "|是否支持Fine-tuning|否|\n",
    "|模型大小|91MB|\n",
    "|最新更新日期|-|\n",
    "|数据指标|-|"
   ]
  },
  {
   "cell_type": "markdown",
   "id": "07b5448f",
   "metadata": {
    "id": "一-模型基本信息"
   },
   "source": [
    "## 一、模型基本信息\n",
    "\n",
    "- ### 模型介绍\n",
    "\n",
    "  - 美食分类（food_classification），该模型可识别苹果派，小排骨，烤面包，牛肉馅饼，牛肉鞑靼。该PaddleHub Module支持API预测及命令行预测。"
   ]
  },
  {
   "cell_type": "markdown",
   "id": "cc487d56",
   "metadata": {
    "id": "二-安装"
   },
   "source": [
    "## 二、安装\n",
    "\n",
    "- ### 1、环境依赖\n",
    "\n",
    "  - paddlehub >= 2.0.0  | [如何安装paddlehub](../../../../docs/docs_ch/get_start/installation.rst)\n",
    "\n",
    "  - paddlex >= 1.3.7\n",
    "\n",
    "- ### 2、安装\n",
    "\n",
    "  - ```shell\n",
    "    $ hub install food_classification\n",
    "    ```\n",
    "  - 如您安装时遇到问题，可参考：[零基础windows安装](../../../../docs/docs_ch/get_start/windows_quickstart.md)\n",
    " | [零基础Linux安装](../../../../docs/docs_ch/get_start/linux_quickstart.md) | [零基础MacOS安装](../../../../docs/docs_ch/get_start/mac_quickstart.md)"
   ]
  },
  {
   "cell_type": "markdown",
   "id": "4280ef54",
   "metadata": {
    "id": "三-模型api预测"
   },
   "source": [
    "## 三、模型API预测\n",
    "\n",
    "- ### 1、命令行预测\n",
    "\n",
    "  - ```shell\n",
    "    $ hub run food_classification --input_path /PATH/TO/IMAGE\n",
    "    ```\n",
    "  - 通过命令行方式实现图像分类模型的调用，更多请见 [PaddleHub命令行指令](../../../../docs/docs_ch/tutorial/cmd_usage.rst)\n",
    "\n",
    "- ### 2、预测代码示例\n",
    "\n",
    "  - ```python\n",
    "    import paddlehub as hub\n",
    "    import cv2\n",
    "\n",
    "    classifier = hub.Module(name=\"food_classification\")\n",
    "    images = [cv2.imread('/PATH/TO/IMAGE')]\n",
    "    results = classifier.predict(images=images)\n",
    "    for result in results:\n",
    "        print(result)\n",
    "    ```\n",
    "\n",
    "- ### 3、API\n",
    "\n",
    "  - ```python\n",
    "    def predict(images)\n",
    "    ```\n",
    "    - 分类接口API。\n",
    "    - **参数**\n",
    "      - images：list类型，待检测的图像。\n",
    "\n",
    "    - **返回**\n",
    "      - result：list类型，每个元素为对应输入图片的预测结果。预测结果为dict类型:\n",
    "        - category_id (int): 类别的id；\n",
    "        - category（str）: 类别;\n",
    "        - score（float）: 准确率"
   ]
  },
  {
   "cell_type": "markdown",
   "id": "d7da891a",
   "metadata": {
    "id": "四-更新历史"
   },
   "source": [
    "## 四、更新历史\n",
    "\n",
    "* 1.0.0\n",
    "\n",
    "  初始发布\n",
    "\n",
    "  - ```shell\n",
    "    $ hub install food_classification==1.0.0\n",
    "    ```"
   ]
  }
 ],
 "metadata": {
  "colab": {
   "name": "food_classification",
   "toc_visible": true
  },
  "kernelspec": {
   "display_name": "python3",
   "name": "python3"
  }
 },
 "nbformat": 4,
 "nbformat_minor": 5
}
