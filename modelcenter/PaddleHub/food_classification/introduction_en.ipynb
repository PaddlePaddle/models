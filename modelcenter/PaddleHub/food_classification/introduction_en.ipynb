{
 "cells": [
  {
   "cell_type": "markdown",
   "id": "4fe56f70",
   "metadata": {
    "id": "food_classification"
   },
   "source": [
    "# food_classification\n",
    "\n",
    "|Module Name|food_classification|\n",
    "| :--- | :---: |\n",
    "|Category|image classification|\n",
    "|Network|ResNet50_vd_ssld|\n",
    "|Dataset|Food Dataset|\n",
    "|Fine-tuning supported or not|No|\n",
    "|Module Size|91MB|\n",
    "|Latest update date|-|\n",
    "|Data indicators|-|"
   ]
  },
  {
   "cell_type": "markdown",
   "id": "3496fe85",
   "metadata": {
    "id": "i-basic-information"
   },
   "source": [
    "## I.Basic Information\n",
    "\n",
    "- ### Module Introduction\n",
    "\n",
    "  - This module can be used for food classification."
   ]
  },
  {
   "cell_type": "markdown",
   "id": "aba85d19",
   "metadata": {
    "id": "ii-installation"
   },
   "source": [
    "## II.Installation\n",
    "\n",
    "- ### 1、Environmental Dependence\n",
    "\n",
    "  - paddlehub >= 2.0.0  | [How to install PaddleHub](../../../../docs/docs_en/get_start/installation.rst)\n",
    "\n",
    "  - paddlex >= 1.3.7\n",
    "\n",
    "- ### 2、Installation\n",
    "\n",
    "  - ```shell\n",
    "    $ hub install food_classification\n",
    "    ```\n",
    "  - In case of any problems during installation, please refer to: [Windows_Quickstart](../../../../docs/docs_en/get_start/windows_quickstart.md) | [Linux_Quickstart](../../../../docs/docs_en/get_start/linux_quickstart.md) | [Mac_Quickstart](../../../../docs/docs_en/get_start/mac_quickstart.md)"
   ]
  },
  {
   "cell_type": "markdown",
   "id": "1815b1e9",
   "metadata": {
    "id": "iii-module-api-prediction"
   },
   "source": [
    "## III.Module API Prediction\n",
    "\n",
    "- ### 1、Command line Prediction\n",
    "\n",
    "  - ```shell\n",
    "    $ hub run food_classification --input_path /PATH/TO/IMAGE\n",
    "    ```\n",
    "  - If you want to call the Hub module through the command line, please refer to: [PaddleHub Command Line Instruction](../../../../docs/docs_ch/tutorial/cmd_usage.rst)\n",
    "\n",
    "- ### 2、Prediction Code Example\n",
    "\n",
    "  - ```python\n",
    "    import paddlehub as hub\n",
    "    import cv2\n",
    "\n",
    "    classifier = hub.Module(name=\"food_classification\")\n",
    "    images = [cv2.imread('/PATH/TO/IMAGE')]\n",
    "    results = classifier.predict(images=images)\n",
    "    for result in results:\n",
    "        print(result)\n",
    "    ```\n",
    "\n",
    "- ### 3、API\n",
    "\n",
    "  - ```python\n",
    "    def predict(images)\n",
    "    ```\n",
    "    - classification API.\n",
    "    - **Parameters**\n",
    "      - images (list\\[numpy.ndarray\\]): image data, ndarray.shape is in the format [H, W, C], BGR;\n",
    "\n",
    "    - **Return**\n",
    "      - result(list[dict]): classication results, each element in the list is dict, key is the label name, and value is the corresponding probability\n",
    "        - category_id (int): category id；\n",
    "        - category（str）: category name;\n",
    "        - score（float）: probability"
   ]
  },
  {
   "cell_type": "markdown",
   "id": "9ba5181a",
   "metadata": {
    "id": "iv-release-note"
   },
   "source": [
    "## IV.Release Note\n",
    "\n",
    "* 1.0.0\n",
    "\n",
    "  First release\n",
    "\n",
    "  - ```shell\n",
    "    $ hub install food_classification==1.0.0\n",
    "    ```"
   ]
  }
 ],
 "metadata": {
  "colab": {
   "name": "food_classification",
   "toc_visible": true
  },
  "kernelspec": {
   "display_name": "python3",
   "name": "python3"
  }
 },
 "nbformat": 4,
 "nbformat_minor": 5
}
