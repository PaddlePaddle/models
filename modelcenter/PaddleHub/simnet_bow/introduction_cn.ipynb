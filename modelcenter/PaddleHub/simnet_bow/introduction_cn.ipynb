{
 "cells": [
  {
   "cell_type": "markdown",
   "id": "3594379f",
   "metadata": {
    "id": "simnet_bow"
   },
   "source": [
    "# simnet_bow\n",
    "\n",
    "|模型名称|simnet_bow|\n",
    "| :--- | :---: |\n",
    "|类别|文本-语义匹配|\n",
    "|网络|BOW|\n",
    "|数据集|百度自建数据集|\n",
    "|是否支持Fine-tuning|否|\n",
    "|模型大小|245MB|\n",
    "|最新更新日期|2021-02-26|\n",
    "|数据指标|-|"
   ]
  },
  {
   "cell_type": "markdown",
   "id": "a8d8a561",
   "metadata": {
    "id": "一-模型基本信息"
   },
   "source": [
    "## 一、模型基本信息\n",
    "\n",
    "- ### 模型介绍\n",
    "\n",
    "  - 短文本语义匹配(SimilarityNet, SimNet)是一个计算短文本相似度的模型，可以根据用户输入的两个文本，计算出相似度得分。SimNet在百度各产品上广泛应用，适用于信息检索、新闻推荐、智能客服等多个应用场景，帮助企业解决语义匹配问题。该PaddleHub Module基于BOW网络结构，支持预测。"
   ]
  },
  {
   "cell_type": "markdown",
   "id": "efa291c9",
   "metadata": {
    "id": "二-安装"
   },
   "source": [
    "## 二、安装\n",
    "\n",
    "- ### 1、环境依赖\n",
    "\n",
    "  - paddlepaddle >= 2.1.0\n",
    "\n",
    "  - paddlehub >= 2.1.0    | [如何安装PaddleHub](../../../../docs/docs_ch/get_start/installation.rst)\n",
    "\n",
    "- ### 2、安装\n",
    "\n",
    "  - ```shell\n",
    "    $ hub install simnet_bow\n",
    "    ```\n",
    "\n",
    "  - 如您安装时遇到问题，可参考：[零基础windows安装](../../../../docs/docs_ch/get_start/windows_quickstart.md)\n",
    " | [零基础Linux安装](../../../../docs/docs_ch/get_start/linux_quickstart.md) | [零基础MacOS安装](../../../../docs/docs_ch/get_start/mac_quickstart.md)"
   ]
  },
  {
   "cell_type": "markdown",
   "id": "0a1b743b",
   "metadata": {
    "id": "三-模型api预测"
   },
   "source": [
    "## 三、模型API预测\n",
    "\n",
    "- ### 1、命令行预测\n",
    "\n",
    "  - ```shell\n",
    "    $ hub run simnet_bow --text_1 \"这道题很难\" --text_2 \"这道题不简单\"\n",
    "    ```\n",
    "    - 通过命令行方式实现文字识别模型的调用，更多请见 [PaddleHub命令行指令](../../../../docs/docs_ch/tutorial/cmd_usage.rst)\n",
    "\n",
    "- ### 2、预测代码示例\n",
    "\n",
    "  - ```python\n",
    "    import paddlehub as hub\n",
    "\n",
    "    simnet_bow = hub.Module(name=\"simnet_bow\")\n",
    "\n",
    "    # Data to be predicted\n",
    "    test_text_1 = [\"这道题太难了\", \"这道题太难了\", \"这道题太难了\"]\n",
    "    test_text_2 = [\"这道题是上一年的考题\", \"这道题不简单\", \"这道题很有意思\"]\n",
    "\n",
    "    inputs = {\"text_1\": test_text_1, \"text_2\": test_text_2}\n",
    "    results = simnet_bow.similarity(data=inputs, batch_size=2)\n",
    "    print(results)\n",
    "\n",
    "    # [{'text_1': '这道题太难了', 'text_2': '这道题是上一年的考题', 'similarity': 0.689}, {'text_1': '这道题太难了', 'text_2': '这道题不简单', 'similarity': 0.855}, {'text_1': '这道题太难了', 'text_2': '这道题很有意思', 'similarity': 0.8166}]\n",
    "    ```\n",
    "\n",
    "- ### 3、 API\n",
    "\n",
    "  - ```python\n",
    "    similarity(texts=[], use_gpu=False, batch_size=1)\n",
    "    ```\n",
    "\n",
    "    - simnet_bow预测接口，计算两个句子的cosin相似度\n",
    "\n",
    "    - **参数**\n",
    "\n",
    "      - texts(list): 待预测数据，第一个元素(list)为第一顺序句子，第二个元素(list)为第二顺序句子，两个元素长度相同。\n",
    "        如texts=[[\"这道题太难了\", \"这道题太难了\", \"这道题太难了\"], [\"这道题是上一年的考题\", \"这道题不简单\", \"这道题很有意思\"]]。\n",
    "      - use_gpu(bool): 是否使用GPU预测，如果使用GPU预测，则在预测之前，请设置CUDA_VISIBLE_DEVICES环境变量，否则不用设置\n",
    "      - batch_size(int): 批处理大小\n",
    "\n",
    "    - **返回**\n",
    "\n",
    "      - results(list): 带预测数据的cosin相似度\n",
    "\n",
    "  - ```python\n",
    "    get_vocab_path()\n",
    "    ```\n",
    "    - 获取预训练时使用的词汇表\n",
    "\n",
    "    - **返回**\n",
    "\n",
    "      - vocab_path(str): 词汇表路径"
   ]
  },
  {
   "cell_type": "markdown",
   "id": "5aa13385",
   "metadata": {
    "id": "四-服务部署"
   },
   "source": [
    "## 四、服务部署\n",
    "\n",
    "- PaddleHub Serving可以部署一个在线语义匹配服务，可以将此接口用于在线web应用。\n",
    "\n",
    "- ### 第一步：启动PaddleHub Serving\n",
    "\n",
    "  - 运行启动命令：\n",
    "\n",
    "  - ```shell\n",
    "    $ hub serving start -m simnet_bow\n",
    "    ```\n",
    "\n",
    "  - 启动时会显示加载模型过程，启动成功后显示\n",
    "\n",
    "  - ```shell\n",
    "    Loading simnet_bow successful.\n",
    "    ```\n",
    "\n",
    "  - 这样就完成了服务化API的部署，默认端口号为8866。\n",
    "\n",
    "  - **NOTE:** 如使用GPU预测，则需要在启动服务之前，请设置CUDA_VISIBLE_DEVICES环境变量，否则不用设置。\n",
    "\n",
    "- ### 第二步：发送预测请求\n",
    "\n",
    "  - 配置好服务端，以下数行代码即可实现发送预测请求，获取预测结果\n",
    "\n",
    "  - ```python\n",
    "    import requests\n",
    "    import json\n",
    "\n",
    "    # 待预测数据\n",
    "    test_text_1 = [\"这道题太难了\", \"这道题太难了\", \"这道题太难了\"]\n",
    "    test_text_2 = [\"这道题是上一年的考题\", \"这道题不简单\", \"这道题很有意思\"]\n",
    "\n",
    "    text = [test_text_1, test_text_2]\n",
    "\n",
    "    # 设置运行配置\n",
    "    # 对应本地预测simnet_bow.similarity(texts=text, batch_size=1, use_gpu=True)\n",
    "    data = {\"texts\": text, \"batch_size\": 1, \"use_gpu\":True}\n",
    "\n",
    "    # 指定预测方法为simnet_bow并发送post请求，content-type类型应指定json方式\n",
    "    # HOST_IP为服务器IP\n",
    "    url = \"http://HOST_IP:8866/predict/simnet_bow\"\n",
    "    headers = {\"Content-Type\": \"application/json\"}\n",
    "    r = requests.post(url=url, headers=headers, data=json.dumps(data))\n",
    "\n",
    "    # 打印预测结果\n",
    "    print(json.dumps(r.json(), indent=4, ensure_ascii=False))\n",
    "    ```\n",
    "\n",
    "  - 关于PaddleHub Serving更多信息参考：[服务部署](../../../../docs/docs_ch/tutorial/serving.md)"
   ]
  },
  {
   "cell_type": "markdown",
   "id": "7742e021",
   "metadata": {
    "id": "五-更新历史"
   },
   "source": [
    "## 五、更新历史\n",
    "\n",
    "* 1.0.0\n",
    "\n",
    "  初始发布\n",
    "\n",
    "* 1.1.0\n",
    "\n",
    "  大幅提升预测性能\n",
    "\n",
    "* 1.2.0\n",
    "\n",
    "  模型升级，支持用于文本分类，文本匹配等各种任务迁移学习\n",
    "\n",
    "* 1.2.1\n",
    "\n",
    "  移除 fluid api\n",
    "\n",
    "  - ```shell\n",
    "    $ hub install simnet_bow==1.2.1\n",
    "    ```"
   ]
  }
 ],
 "metadata": {
  "colab": {
   "name": "simnet_bow",
   "toc_visible": true
  },
  "kernelspec": {
   "display_name": "python3",
   "name": "python3"
  }
 },
 "nbformat": 4,
 "nbformat_minor": 5
}
