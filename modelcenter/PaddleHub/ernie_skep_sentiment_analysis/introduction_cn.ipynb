{
 "cells": [
  {
   "cell_type": "markdown",
   "id": "4b368003",
   "metadata": {
    "id": "ernie_skep_sentiment_analysis"
   },
   "source": [
    "# ernie_skep_sentiment_analysis\n",
    "\n",
    "|模型名称|ernie_skep_sentiment_analysis|\n",
    "| :--- | :---: |\n",
    "|类别|文本-情感分析|\n",
    "|网络|SKEP|\n",
    "|数据集|百度自建数据集|\n",
    "|是否支持Fine-tuning|否|\n",
    "|模型大小|2.4G|\n",
    "|最新更新日期|2021-02-26|\n",
    "|数据指标|-|"
   ]
  },
  {
   "cell_type": "markdown",
   "id": "41b5bd82",
   "metadata": {
    "id": "一-模型基本信息"
   },
   "source": [
    "## 一、模型基本信息\n",
    "\n",
    "- ### 模型介绍\n",
    "\n",
    "  - SKEP（Sentiment Knowledge Enhanced Pre-training for Sentiment Analysis）是百度研究团队在2020年提出的基于情感知识增强的情感预训练算法，此算法采用无监督方法自动挖掘情感知识，然后利用情感知识构建预训练目标，从而让机器学会理解情感语义，在14项中英情感分析典型任务上全面超越SOTA，相关工作已经被ACL 2020录用。SKEP为各类情感分析任务提供统一且强大的情感语义表示。ernie_skep_sentiment_analysis Module可用于句子级情感分析任务预测。其在预训练时使用ERNIE 1.0 large预训练参数作为其网络参数初始化继续预训练。\n",
    "\n",
    "<p align=\"center\">\n",
    "<img src=\"https://bj.bcebos.com/paddlehub/model/nlp/skep.png\" width=\"600\" hspace=\"10\"/> <br/>\n",
    "</p>\n",
    "\n",
    "  - 更多详情参考ACL 2020论文：[SKEP: Sentiment Knowledge Enhanced Pre-training for Sentiment Analysis](https://arxiv.org/abs/2005.05635)"
   ]
  },
  {
   "cell_type": "markdown",
   "id": "07ae4f79",
   "metadata": {
    "id": "二-安装"
   },
   "source": [
    "## 二、安装\n",
    "\n",
    "- ### 1、环境依赖\n",
    "\n",
    "  - paddlepaddle >= 1.8.0\n",
    "\n",
    "  - paddlehub >= 1.7.0    | [如何安装PaddleHub](../../../../docs/docs_ch/get_start/installation.rst)\n",
    "\n",
    "- ### 2、安装\n",
    "\n",
    "  - ```shell\n",
    "    $ hub install ernie_skep_sentiment_analysis\n",
    "    ```\n",
    "  - 如您安装时遇到问题，可参考：[零基础windows安装](../../../../docs/docs_ch/get_start/windows_quickstart.md)\n",
    " | [零基础Linux安装](../../../../docs/docs_ch/get_start/linux_quickstart.md) | [零基础MacOS安装](../../../../docs/docs_ch/get_start/mac_quickstart.md)"
   ]
  },
  {
   "cell_type": "markdown",
   "id": "e3170d54",
   "metadata": {
    "id": "三-模型api预测"
   },
   "source": [
    "## 三、模型API预测\n",
    "\n",
    "- ### 1、命令行预测\n",
    "\n",
    "  - ```shell\n",
    "    $ hub run ernie_skep_sentiment_analysis --input_text='虽然小明很努力，但是他还是没有考100分'\n",
    "    ```\n",
    "\n",
    "- ### 2、预测代码示例\n",
    "\n",
    "  - ```python\n",
    "    import paddlehub as hub\n",
    "\n",
    "    # Load ernie_skep_sentiment_analysis module.\n",
    "    module = hub.Module(name=\"ernie_skep_sentiment_analysis\")\n",
    "\n",
    "    # Predict sentiment label\n",
    "    test_texts = ['你不是不聪明，而是不认真', '虽然小明很努力，但是他还是没有考100分']\n",
    "    results = module.predict_sentiment(test_texts, use_gpu=False)\n",
    "\n",
    "    for result in results:\n",
    "        print(result['text'])\n",
    "        print(result['sentiment_label'])\n",
    "        print(result['positive_probs'])\n",
    "        print(result['negative_probs'])\n",
    "\n",
    "    # 你不是不聪明，而是不认真 negative 0.10738129168748856 0.8926186561584473\n",
    "    # 虽然小明很努力，但是他还是没有考100分 negative 0.05391530692577362 0.94608473777771\n",
    "    ```\n",
    "\n",
    "- ### 3、API\n",
    "\n",
    "  - ```python\n",
    "    def predict_sentiment(texts=[], use_gpu=False)\n",
    "    ```\n",
    "    - 预测API，分类输入文本的情感极性。\n",
    "\n",
    "    - **参数**\n",
    "\n",
    "      - texts (list\\[str\\]): 待预测文本；\n",
    "      - use\\_gpu (bool): 是否使用 GPU；**若使用GPU，请先设置CUDA_VISIBLE_DEVICES环境变量**；\n",
    "\n",
    "    - **返回**\n",
    "\n",
    "      - res (list\\[dict\\]): 情感分类结果的列表，列表中每一个元素为 dict，各字段为：\n",
    "        - text(str): 输入预测文本\n",
    "        - sentiment_label(str): 情感分类结果，或为positive或为negative\n",
    "        - positive_probs: 输入预测文本情感极性属于positive的概率\n",
    "        - negative_probs: 输入预测文本情感极性属于negative的概率\n",
    "\n",
    "  - ```python\n",
    "    def get_embedding(texts, use_gpu=False, batch_size=1)\n",
    "    ```\n",
    "\n",
    "    - 用于获取输入文本的句子粒度特征与字粒度特征\n",
    "\n",
    "    - **参数**\n",
    "\n",
    "      - texts(list)：输入文本列表，格式为\\[\\[sample\\_a\\_text\\_a, sample\\_a\\_text\\_b\\], \\[sample\\_b\\_text\\_a, sample\\_b\\_text\\_b\\],…,\\]，其中每个元素都是一个样例，每个样例可以包含text\\_a与text\\_b。\n",
    "      - use_gpu(bool)：是否使用gpu，默认为False。对于GPU用户，建议开启use_gpu。**若使用GPU，请先设置CUDA_VISIBLE_DEVICES环境变量**；\n",
    "\n",
    "    - **返回**\n",
    "\n",
    "      - results(list): embedding特征，格式为\\[\\[sample\\_a\\_pooled\\_feature, sample\\_a\\_seq\\_feature\\], \\[sample\\_b\\_pooled\\_feature, sample\\_b\\_seq\\_feature\\],…,\\]，其中每个元素都是对应样例的特征输出，每个样例都有句子粒度特征pooled\\_feature与字粒度特征seq\\_feature。"
   ]
  },
  {
   "cell_type": "markdown",
   "id": "ad470540",
   "metadata": {
    "id": "四-服务部署"
   },
   "source": [
    "## 四、服务部署\n",
    "\n",
    "- PaddleHub Serving 可以部署一个目标检测的在线服务。\n",
    "\n",
    "- ### 第一步：启动PaddleHub Serving\n",
    "\n",
    "  - 运行启动命令：\n",
    "    ```shell\n",
    "    $ hub serving start -m ernie_skep_sentiment_analysis\n",
    "    ```\n",
    "\n",
    "  - 这样就完成了一个目标检测的服务化API的部署，默认端口号为8866。\n",
    "\n",
    "  - **NOTE:** 如使用GPU预测，则需要在启动服务之前，请设置CUDA\\_VISIBLE\\_DEVICES环境变量，否则不用设置。\n",
    "\n",
    "- ### 第二步：发送预测请求\n",
    "\n",
    "  - 配置好服务端，以下数行代码即可实现发送预测请求，获取预测结果\n",
    "\n",
    "    ```python\n",
    "    import requests\n",
    "    import json\n",
    "\n",
    "    # 发送HTTP请求\n",
    "    data = {'texts':['你不是不聪明，而是不认真', '虽然小明很努力，但是他还是没有考100分']}\n",
    "    headers = {\"Content-type\": \"application/json\"}\n",
    "    url = \"http://127.0.0.1:8866/predict/ernie_skep_sentiment_analysis\"\n",
    "    r = requests.post(url=url, headers=headers, data=json.dumps(data))\n",
    "\n",
    "    # 打印预测结果\n",
    "    print(r.json()[\"results\"])\n",
    "    ```"
   ]
  },
  {
   "cell_type": "markdown",
   "id": "260e5c9d",
   "metadata": {
    "id": "五-更新历史"
   },
   "source": [
    "## 五、更新历史\n",
    "\n",
    "* 1.0.0\n",
    "\n",
    "  初始发布\n",
    "\n",
    "* 1.0.1\n",
    "\n",
    "  移除 fluid api\n",
    "\n",
    "  - ```shell\n",
    "    $ hub install ernie_skep_sentiment_analysis==1.0.1\n",
    "    ```"
   ]
  }
 ],
 "metadata": {
  "colab": {
   "name": "ernie_skep_sentiment_analysis",
   "toc_visible": true
  },
  "kernelspec": {
   "display_name": "python3",
   "name": "python3"
  }
 },
 "nbformat": 4,
 "nbformat_minor": 5
}
