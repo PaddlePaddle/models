{
 "cells": [
  {
   "cell_type": "markdown",
   "id": "0279709d",
   "metadata": {
    "id": "概述"
   },
   "source": [
    "## 概述\n",
    "\n",
    "PLATO2是一个超大规模生成式对话系统模型。它承袭了PLATO隐变量进行回复多样化生成的特性，能够就开放域话题进行流畅深入的聊天。据公开数据，其效果超越了Google 于2020年2月份发布的 Meena和Facebook AI Research于2020年4月份发布的Blender的效果。plato2_en_large包含1.6B参数，可用于一键预测对话回复，该Module仅支持使用GPU预测，不支持CPU。\n",
    "<p align=\"center\">\n",
    "<img src=\"https://image.jiqizhixin.com/uploads/editor/65107b78-0259-4121-b8c5-a090f9d3175b/640.png\" hspace=\"10\"/> <br/>\n",
    "</p>\n",
    "\n",
    "更多详情参考论文[PLATO-2: Towards Building an Open-Domain Chatbot via Curriculum Learning](https://arxiv.org/abs/2006.16779)\n",
    "\n",
    "**注：plato2\\_en\\_large 模型大小12GB,下载时间较长，请耐心等候。运行此模型要求显存至少16GB。**"
   ]
  },
  {
   "cell_type": "markdown",
   "id": "50aa75f1",
   "metadata": {
    "id": "命令行预测"
   },
   "source": [
    "## 命令行预测"
   ]
  },
  {
   "cell_type": "markdown",
   "id": "2f2f8296",
   "metadata": {
    "id": "api"
   },
   "source": [
    "## API\n",
    "\n",
    "预测API，输入对话上下文，输出机器回复。\n",
    "\n",
    "**参数**\n",
    "\n",
    "* texts (list\\[str\\] or str): 如果不在交互模式中，texts应为list，每个元素为一次对话的上下文，上下文应包含人类和机器人的对话内容，不同角色之间的聊天用分隔符\"\\t\"进行分割；例如[[\"Hello\\thi, nice to meet you\\tnice to meet you\"]]。这个输入中包含1次对话，机器人回复了\"hi, nice to meet you\"后人类回复“nice to meet you”，现在轮到机器人回复了。如果在交互模式中，texts应为str，模型将自动构建它的上下文。\n",
    "\n",
    "**返回**\n",
    "\n",
    "* results (list\\[str\\]): 每个元素为相应对话中机器人的新回复。\n",
    "\n",
    "**代码示例**\n",
    "\n",
    "进入交互模式。交互模式中，generate接口的texts将支持字符串类型。\n",
    "\n",
    "**参数**\n",
    "\n",
    "* max_turn (int): 模型能记忆的对话轮次，当max_turn = 1时，模型只能记住当前对话，无法获知之前的对话内容。\n",
    "\n",
    "**代码示例**"
   ]
  },
  {
   "cell_type": "markdown",
   "id": "46a10947",
   "metadata": {
    "id": "服务部署"
   },
   "source": [
    "## 服务部署\n",
    "\n",
    "PaddleHub Serving 可以部署在线服务。"
   ]
  },
  {
   "cell_type": "markdown",
   "id": "052e0be4",
   "metadata": {
    "id": "第一步-启动paddlehub-serving"
   },
   "source": [
    "### 第一步：启动PaddleHub Serving\n",
    "\n",
    "运行启动命令：\n",
    "\n",
    "这样就完成了一个服务化API的部署，默认端口号为8866。\n",
    "\n",
    "**NOTE:** 在启动服务之前，请设置CUDA\\_VISIBLE\\_DEVICES环境变量。"
   ]
  },
  {
   "cell_type": "markdown",
   "id": "f10d5e63",
   "metadata": {
    "id": "第二步-发送预测请求"
   },
   "source": [
    "### 第二步：发送预测请求\n",
    "\n",
    "方式1： 自定义脚本发送对话信息\n",
    "\n",
    "配置好服务端，以下数行代码即可实现发送预测请求，获取预测结果\n",
    "\n",
    "方式2： 通过交互式客户端进入交互模式\n",
    "\n",
    "您可以执行以下客户端脚本进入交互模式："
   ]
  },
  {
   "cell_type": "markdown",
   "id": "44415b2f",
   "metadata": {
    "id": "查看代码"
   },
   "source": [
    "## 查看代码\n",
    "\n",
    "https://github.com/PaddlePaddle/Knover"
   ]
  },
  {
   "cell_type": "markdown",
   "id": "5cd0709a",
   "metadata": {
    "id": "依赖"
   },
   "source": [
    "### 依赖\n",
    "\n",
    "1.8.2 &lt;= paddlepaddle &lt; 2.0.0\n",
    "\n",
    "1.7.0 &lt;= paddlehub &lt; 2.0.0"
   ]
  },
  {
   "cell_type": "markdown",
   "id": "8d3a54ef",
   "metadata": {
    "id": "更新历史"
   },
   "source": [
    "## 更新历史\n",
    "\n",
    "* 1.0.0\n",
    "\n",
    "  初始发布"
   ]
  }
 ],
 "metadata": {
  "colab": {
   "name": "概述",
   "toc_visible": true
  },
  "kernelspec": {
   "display_name": "python3",
   "name": "python3"
  }
 },
 "nbformat": 4,
 "nbformat_minor": 5
}
