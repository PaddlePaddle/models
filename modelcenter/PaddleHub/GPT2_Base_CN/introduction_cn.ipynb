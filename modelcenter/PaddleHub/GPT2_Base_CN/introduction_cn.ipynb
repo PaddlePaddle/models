{
 "cells": [
  {
   "cell_type": "markdown",
   "id": "41080329",
   "metadata": {
    "id": "概述"
   },
   "source": [
    "## 概述\n",
    "\n",
    "GPT2_Base_CN 是一个预训练生成模型，是 PaddleNLP 中的内置模型。"
   ]
  },
  {
   "cell_type": "markdown",
   "id": "2adf1689",
   "metadata": {
    "id": "api"
   },
   "source": [
    "## API\n",
    "\n",
    "文本生成 API ，根据输入的文字进行文本生成，使用 Greedy Search 进行解码，生成的文本单一且确定，适合于问答类的文本生成。\n",
    "\n",
    "**参数**\n",
    "* text (str) : 输入文本\n",
    "* max_len (int) : 生成文本的最大长度\n",
    "* end_word (str or None) : 终止生成的标志词\n",
    "\n",
    "**返回**\n",
    "* results (str): 生成的文本\n",
    "\n",
    "文本生成 API ，根据输入的文字进行文本生成，使用采样的方式进行解码，生成的文本比较多样，适合于文章类的文本生成。\n",
    "\n",
    "**参数**\n",
    "* text (str) : 输入文本\n",
    "* max_len (int) : 生成文本的最大长度\n",
    "* end_word (str or None) : 终止生成的标志词\n",
    "* repitition_penalty (float) : 重复词抑制率，大于1抑制，小于1提高\n",
    "* temperature (float) ：较低的temperature可以让模型对最佳选择越来越有信息，大于1，则会降低，0则相当于 argmax/max ，inf则相当于均匀采样\n",
    "* top_k (int) : 抑制小于 Top K 的输出，大于0时有效\n",
    "* top_p (float) : 抑制小于 Top P 的输出，小于1.0时有效\n",
    "\n",
    "**返回**\n",
    "* results (str): 生成的文本\n",
    "\n",
    "**代码示例**\n",
    "* 加载模型：\n",
    "\n",
    "* 使用 Greedy Search 生成文本：\n",
    "\n",
    "    默写古诗:\n",
    "    日照香炉生紫烟,遥看瀑布挂前川。\n",
    "    飞流直下三千尺,疑是银河落九天。\n",
    "\n",
    "    问题:西游记是谁写的?\n",
    "    答案:吴承恩。\n",
    "\n",
    "    小明决定去吃饭,小红继续写作业\n",
    "    问题:去吃饭的人是谁?\n",
    "    答案:小明\n",
    "\n",
    "    默写英文:\n",
    "    狗:dog\n",
    "    猫:cat\n",
    "\n",
    "* 使用采样方式生成文本：\n",
    "\n",
    "    在此处输入文本的开头字母。\n",
    "\n",
    "    《乡土中国》是费孝通先生在社区研究的基础上从宏观角度探讨中国社会结构的著作,肯定了集体所有制在提升中国中低山地区农村生活水平方面所起的积极作用。"
   ]
  },
  {
   "cell_type": "markdown",
   "id": "a1fcbd82",
   "metadata": {
    "id": "服务部署"
   },
   "source": [
    "## 服务部署\n",
    "\n",
    "PaddleHub Serving 可以部署一个在线文本生成服务。"
   ]
  },
  {
   "cell_type": "markdown",
   "id": "c43c91e7",
   "metadata": {
    "id": "第一步-启动paddlehub-serving"
   },
   "source": [
    "## 第一步：启动PaddleHub Serving\n",
    "\n",
    "运行启动命令：\n",
    "\n",
    "这样就完成了一个文本生成的在线服务API的部署，默认端口号为8866。\n",
    "\n",
    "**NOTE:** 如使用GPU预测，则需要在启动服务之前，请设置CUDA\\_VISIBLE\\_DEVICES环境变量，否则不用设置。"
   ]
  },
  {
   "cell_type": "markdown",
   "id": "96359a34",
   "metadata": {
    "id": "第二步-发送预测请求"
   },
   "source": [
    "## 第二步：发送预测请求\n",
    "\n",
    "配置好服务端，以下数行代码即可实现发送预测请求，获取预测结果"
   ]
  },
  {
   "cell_type": "markdown",
   "id": "a26d920a",
   "metadata": {
    "id": "查看代码"
   },
   "source": [
    "## 查看代码\n",
    "\n",
    "https://github.com/PaddlePaddle/PaddleNLP"
   ]
  },
  {
   "cell_type": "markdown",
   "id": "b6104a9c",
   "metadata": {
    "id": "依赖"
   },
   "source": [
    "## 依赖\n",
    "\n",
    "paddlepaddle >= 2.0.0\n",
    "\n",
    "paddlehub >= 2.0.0\n",
    "\n",
    "sentencepiece==0.1.92"
   ]
  }
 ],
 "metadata": {
  "colab": {
   "name": "概述",
   "toc_visible": true
  },
  "kernelspec": {
   "display_name": "python3",
   "name": "python3"
  }
 },
 "nbformat": 4,
 "nbformat_minor": 5
}
