{
 "cells": [
  {
   "cell_type": "markdown",
   "id": "251ed75b",
   "metadata": {
    "id": "word2vec_skipgram"
   },
   "source": [
    "# word2vec_skipgram\n",
    "\n",
    "|模型名称|word2vec_skipgram|\n",
    "| :--- | :---: |\n",
    "|类别|文本-词嵌入|\n",
    "|网络|skip-gram|\n",
    "|数据集|百度自建数据集|\n",
    "|是否支持Fine-tuning|是|\n",
    "|模型大小|861MB|\n",
    "|最新更新日期|2021-02-26|\n",
    "|数据指标|-|"
   ]
  },
  {
   "cell_type": "markdown",
   "id": "d83e2403",
   "metadata": {
    "id": "一-模型基本信息"
   },
   "source": [
    "## 一、模型基本信息\n",
    "\n",
    "- ### 模型介绍\n",
    "\n",
    "  - Word2vec是常用的词嵌入（word embedding）模型。该PaddleHub Module基于Skip-gram模型，在海量百度搜索数据集下预训练得到中文单词预训练词嵌入。其支持Fine-tune。Word2vec的预训练数据集的词汇表大小为1700249，word embedding维度为128。"
   ]
  },
  {
   "cell_type": "markdown",
   "id": "d08723bc",
   "metadata": {
    "id": "二-安装"
   },
   "source": [
    "## 二、安装\n",
    "\n",
    "- ### 1、环境依赖\n",
    "\n",
    "  - paddlepaddle >= 1.8.2\n",
    "\n",
    "  - paddlehub >= 1.8.0    | [如何安装PaddleHub](../../../../docs/docs_ch/get_start/installation.rst)\n",
    "\n",
    "- ### 2、安装\n",
    "\n",
    "  - ```shell\n",
    "    $ hub install word2vec_skipgram\n",
    "    ```\n",
    "  - 如您安装时遇到问题，可参考：[零基础windows安装](../../../../docs/docs_ch/get_start/windows_quickstart.md)\n",
    " | [零基础Linux安装](../../../../docs/docs_ch/get_start/linux_quickstart.md) | [零基础MacOS安装](../../../../docs/docs_ch/get_start/mac_quickstart.md)"
   ]
  },
  {
   "cell_type": "markdown",
   "id": "aee22064",
   "metadata": {
    "id": "三-模型api"
   },
   "source": [
    "## 三、模型API\n",
    "\n",
    "- ### 1、Finetune代码示例\n",
    "\n",
    "- ### 2、API\n",
    "\n",
    "  - ```python\n",
    "    context(trainable=False, max_seq_len=128, num_slots=1)\n",
    "    ```\n",
    "\n",
    "    - **参数**\n",
    "\n",
    "      - trainable(bool): trainable=True表示program中的参数在Fine-tune时需要微调，否则保持不变。\n",
    "      - max_seq_len(int): 模型使用的最大序列长度。\n",
    "      - num_slots(int): 输入到模型所需要的文本个数，如完成单句文本分类任务，则num_slots=1；完成pointwise文本匹配任务，则num_slots=2；完成pairtwise文本匹配任务，则num_slots=3；\n",
    "\n",
    "    - **返回**\n",
    "\n",
    "      - inputs(dict): program的输入变量\n",
    "      - outputs(dict): program的输出变量\n",
    "      - main_program(Program): 带有预训练参数的program"
   ]
  },
  {
   "cell_type": "markdown",
   "id": "d4f9e42d",
   "metadata": {
    "id": "四-更新历史"
   },
   "source": [
    "## 四、更新历史\n",
    "\n",
    "* 1.0.0\n",
    "\n",
    "  初始发布\n",
    "\n",
    "* 1.1.0\n",
    "\n",
    "  模型升级，支持用于文本分类，文本匹配等各种任务迁移学习"
   ]
  }
 ],
 "metadata": {
  "colab": {
   "name": "word2vec_skipgram",
   "toc_visible": true
  },
  "kernelspec": {
   "display_name": "python3",
   "name": "python3"
  }
 },
 "nbformat": 4,
 "nbformat_minor": 5
}
