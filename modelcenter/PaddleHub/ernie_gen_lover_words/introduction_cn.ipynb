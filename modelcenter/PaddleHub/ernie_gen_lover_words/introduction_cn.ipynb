{
 "cells": [
  {
   "cell_type": "markdown",
   "id": "a958190c",
   "metadata": {
    "id": "ernie_gen_lover_words"
   },
   "source": [
    "# ernie_gen_lover_words\n",
    "\n",
    "| 模型名称            | ernie_gen_lover_words |\n",
    "| :------------------ | :-------------------: |\n",
    "| 类别                |     文本-文本生成     |\n",
    "| 网络                |       ERNIE-GEN       |\n",
    "| 数据集              |  网络情诗、情话数据   |\n",
    "| 是否支持Fine-tuning |          否           |\n",
    "| 模型大小            |         420M          |\n",
    "| 最新更新日期        |      2021-02-26       |\n",
    "| 数据指标            |           -           |"
   ]
  },
  {
   "cell_type": "markdown",
   "id": "6f27ae8c",
   "metadata": {
    "id": "一-模型基本信息"
   },
   "source": [
    "## 一、模型基本信息\n",
    "\n",
    "- ### 模型介绍\n",
    "  - ERNIE-GEN 是面向生成任务的预训练-微调框架，首次在预训练阶段加入span-by-span 生成任务，让模型每次能够生成一个语义完整的片段。在预训练和微调中通过填充式生成机制和噪声感知机制来缓解曝光偏差问题。此外, ERNIE-GEN 采样多片段-多粒度目标文本采样策略, 增强源文本和目标文本的关联性，加强了编码器和解码器的交互。\n",
    "  - ernie_gen_lover_words采用网络搜集的情诗、情话数据微调，可用于生成情话。\n",
    "\n",
    "<p align=\"center\">\n",
    "<img src=\"https://user-images.githubusercontent.com/76040149/133191670-8eb1c542-f8e8-4715-adb2-6346b976fab1.png\" width=\"600\" hspace=\"10\"/>\n",
    "</p>\n",
    "\n",
    "- 更多详情请参考：[ERNIE-GEN:An Enhanced Multi-Flow Pre-training and Fine-tuning Framework for Natural Language Generation](https://arxiv.org/abs/2001.11314)"
   ]
  },
  {
   "cell_type": "markdown",
   "id": "7e2da4b6",
   "metadata": {
    "id": "二-安装"
   },
   "source": [
    "## 二、安装\n",
    "\n",
    "- ### 1、环境依赖\n",
    "\n",
    "  - paddlepaddle >= 1.8.2\n",
    "\n",
    "  - paddlehub >= 1.7.0    | [如何安装PaddleHub](../../../../docs/docs_ch/get_start/installation.rst)\n",
    "\n",
    "- ### 2、安装\n",
    "\n",
    "  - ```shell\n",
    "    $ hub install ernie_gen_lover_words\n",
    "    ```\n",
    "  - 如您安装时遇到问题，可参考：[零基础windows安装](../../../../docs/docs_ch/get_start/windows_quickstart.md)\n",
    " | [零基础Linux安装](../../../../docs/docs_ch/get_start/linux_quickstart.md) | [零基础MacOS安装](../../../../docs/docs_ch/get_start/mac_quickstart.md)"
   ]
  },
  {
   "cell_type": "markdown",
   "id": "ed01b8bb",
   "metadata": {
    "id": "三-模型api预测"
   },
   "source": [
    "## 三、模型API预测\n",
    "\n",
    "- ### 1、命令行预测\n",
    "\n",
    "  - ```shell\n",
    "    $ hub run ernie_gen_lover_words --input_text \"情人节\" --use_gpu True --beam_width 5\n",
    "    ```\n",
    "  - 通过命令行方式实现hub模型的调用，更多请见 [PaddleHub命令行指令](../../../../docs/docs_ch/tutorial/cmd_usage.rst)\n",
    "\n",
    "- ### 2、预测代码示例\n",
    "\n",
    "  - ```python\n",
    "    import paddlehub as hub\n",
    "\n",
    "    module = hub.Module(name=\"ernie_gen_lover_words\")\n",
    "\n",
    "    test_texts = ['情人节', '故乡', '小编带大家了解一下程序员情人节']\n",
    "    results = module.generate(texts=test_texts, use_gpu=True, beam_width=5)\n",
    "    for result in results:\n",
    "        print(result)\n",
    "\n",
    "    # '情人节，我愿做一条鱼，任你红烧、白煮、清蒸，然后躺在你温柔的胃里。', '情人节，对你的思念太重，压断了电话线，烧坏了手机卡，掏尽了钱包袋，吃光了安眠药，哎!可我还是思念你。', '情人节，对你的思念太重，压断了电话线，烧坏了手机卡，掏尽了钱包袋，吃光了安眠药，哎!可我还是思念你，祝你情人节快乐!', '情人节，对你的思念太重，压断了电话线，烧坏了手机卡，掏尽了钱包袋，吃光了安眠药，唉!可我还是思念你，祝你情人节快乐!', '情人节，对你的思念太重，压断了电话线，烧坏了手机卡，掏尽了钱包袋，吃光了安眠药，哎!可是我还是思念你。']\n",
    "    # ['故乡，是深秋的雨，云雾缭绕，夏日的阳光照耀下，像一只只翅膀，那就是思念。', '故乡，是深秋的雨，是诗人们吟咏的乡村序曲，但愿天下有情人，一定难忘。', '故乡，是深秋的雨，是诗人们吟咏的一篇美丽的诗章，但愿天下有情人，都一定走进了蒙蒙细雨中。', '故乡，是深秋的雨，是诗人们吟咏的一篇美丽的诗章，但愿天下有情人，都一定走进了蒙蒙的细雨，纷纷而来。', '故乡，是深秋的雨，是诗人们吟咏的一篇美丽的诗章，但愿天下有情人，都一定走进了蒙蒙的细雨中。']\n",
    "    # ['小编带大家了解一下程序员情人节，没有人会悄悄的下载数据库，没有人会升级!希望程序可以好好的工作!', '小编带大家了解一下程序员情人节，没有人会悄悄的下载数据库，没有人会升级!希望程序可以重新拥有!', '小编带大家了解一下程序员情人节，没有人会悄悄的下载数据库，没有人会升级!希望程序可以好好的工作。', '小编带大家了解一下程序员情人节，没有人会悄悄的下载数据库，没有人会升级!希望程序可以重新把我们送上。', '小编带大家了解一下程序员情人节，没有人会悄悄的下载数据库，没有人会升级!希望程序可以重新把我们送上!']\n",
    "    ```\n",
    "\n",
    "- ### 3、API\n",
    "\n",
    "  - ```python\n",
    "    def generate(texts, use_gpu=False, beam_width=5):\n",
    "    ```\n",
    "\n",
    "    - 预测API，输入情话开头，输出情话下文。\n",
    "\n",
    "    - **参数**\n",
    "      - texts(list[str]):情话的开头\n",
    "      - use_gpu(bool): 是否使用GPU预测，如果使用GPU预测，则在预测之前，请设置CUDA_VISIBLE_DEVICES环境变量，否则不用设置\n",
    "      - beam_width: beam search宽度，决定每个情话开头输出的下文数目\n",
    "\n",
    "    - **返回**\n",
    "      - results(list[list]\\[str]): 情话下文，每个情话开头会生成beam_width个下文"
   ]
  },
  {
   "cell_type": "markdown",
   "id": "447fbcc8",
   "metadata": {
    "id": "四-服务部署"
   },
   "source": [
    "## 四、服务部署\n",
    "\n",
    "- PaddleHub Serving可以部署一个在线文本生成服务，可以将此接口用于在线web应用。\n",
    "\n",
    "- ### 第一步：启动PaddleHub Serving\n",
    "\n",
    "  - 运行启动命令：\n",
    "  - ```shell\n",
    "    $ hub serving start -m ernie_gen_lover_words -p 8866\n",
    "    ```\n",
    "\n",
    "  - 这样就完成了服务化API的部署，默认端口号为8866。\n",
    "\n",
    "  - **NOTE:** 如使用GPU预测，则需要在启动服务之前，请设置CUDA_VISIBLE_DEVICES环境变量，否则不用设置。\n",
    "\n",
    "- ### 第二步：发送预测请求\n",
    "\n",
    "  - 配置好服务端，以下数行代码即可实现发送预测请求，获取预测结果\n",
    "\n",
    "  - ```python\n",
    "    import requests\n",
    "    import json\n",
    "\n",
    "    # 发送HTTP请求\n",
    "\n",
    "    data = {'texts':['情人节', '故乡', '小编带大家了解一下程序员情人节'],\n",
    "            'use_gpu':False, 'beam_width':5}\n",
    "    headers = {\"Content-type\": \"application/json\"}\n",
    "    # HOST_IP为服务器IP\n",
    "    url = \"http://HOST_IP:8866/predict/ernie_gen_lover_words\"\n",
    "    r = requests.post(url=url, headers=headers, data=json.dumps(data))\n",
    "\n",
    "    # 保存结果\n",
    "    results = r.json()[\"results\"]\n",
    "    for result in results:\n",
    "        print(result)\n",
    "    ```\n",
    "\n",
    "  - 关于PaddleHub Serving更多信息参考[服务部署](../../../../docs/docs_ch/tutorial/serving.md)"
   ]
  },
  {
   "cell_type": "markdown",
   "id": "23bcc053",
   "metadata": {
    "id": "五-更新历史"
   },
   "source": [
    "## 五、更新历史\n",
    "\n",
    "* 1.0.0\n",
    "\n",
    "  初始发布\n",
    "\n",
    "* 1.0.1\n",
    "\n",
    "  完善API的输入文本检查\n",
    "\n",
    "  - ```shell\n",
    "    $ hub install ernie_gen_lover_words==1.0.1\n",
    "    ```"
   ]
  }
 ],
 "metadata": {
  "colab": {
   "name": "ernie_gen_lover_words",
   "toc_visible": true
  },
  "kernelspec": {
   "display_name": "python3",
   "name": "python3"
  }
 },
 "nbformat": 4,
 "nbformat_minor": 5
}
