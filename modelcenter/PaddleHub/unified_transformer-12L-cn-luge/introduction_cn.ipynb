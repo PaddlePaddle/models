{
 "cells": [
  {
   "cell_type": "markdown",
   "id": "20ebc1a8",
   "metadata": {
    "id": "概述"
   },
   "source": [
    "## 概述\n",
    "\n",
    "近年来，人机对话系统受到了学术界和产业界的广泛关注并取得了不错的发展。开放域对话系统旨在建立一个开放域的多轮对话系统，使得机器可以流畅自然地与人进行语言交互，既可以进行日常问候类的闲聊，又可以完成特定功能，以使得开放域对话系统具有实际应用价值。具体的说，开放域对话可以继续拆分为支持不同功能的对话形式，例如对话式推荐，知识对话技术等，如何解决并有效融合以上多个技能面临诸多挑战。\n",
    "\n",
    "[UnifiedTransformer](https://arxiv.org/abs/2006.16779)以[Transformer](https://arxiv.org/abs/1706.03762) 编码器为网络基本组件，采用灵活的注意力机制，十分适合文本生成任务，并在模型输入中加入了标识不同对话技能的special token，使得模型能同时支持闲聊对话、推荐对话和知识对话。\n",
    "\n",
    "unified_transformer_12L_cn_luge包含12层的transformer结构，头数为12，隐藏层参数为768，参数量为132M。该预训练模型使用了样本量为60M的文本数据和20M的对话数据的大型中文对话数据集进行预训练，然后在luge-dialogue的训练集合上进行finetune，具体训练详情可以查看[LUGE-Dialogue](https://github.com/PaddlePaddle/Knover/tree/luge-dialogue/luge-dialogue)。"
   ]
  },
  {
   "cell_type": "markdown",
   "id": "cf15abb2",
   "metadata": {
    "id": "api"
   },
   "source": [
    "## API\n",
    "\n",
    "预测API，输入对话上下文，输出机器回复。\n",
    "\n",
    "**参数**\n",
    "- `data`(Union[List[List[str]], str]): 在非交互模式中，数据类型为List[List[str]]，每个样本是一个List[str]，表示为对话内容\n",
    "- `max_seq_len`(int): 每个样本的最大文本长度\n",
    "- `batch_size`(int): 进行预测的batch_size\n",
    "- `use_gpu`(bool): 是否使用gpu执行预测\n",
    "- `kwargs`: 预测时传给模型的额外参数，以keyword方式传递。其余的参数详情请查看[UnifiedTransformer](https://github.com/PaddlePaddle/PaddleNLP/tree/develop/examples/dialogue/unified_transformer)。\n",
    "\n",
    "**返回**\n",
    "* `results`(List[str]): 每个元素为相应对话中模型的新回复\n",
    "\n",
    "进入交互模式。交互模式中，predict接口的data将支持字符串类型。\n",
    "\n",
    "**参数**\n",
    "- `max_turn`(int): 模型能记忆的对话轮次，当`max_turn`为1时，模型只能记住当前对话，无法获知之前的对话内容。\n",
    "\n",
    "**代码示例**"
   ]
  },
  {
   "cell_type": "markdown",
   "id": "e88a48ee",
   "metadata": {
    "id": "服务部署"
   },
   "source": [
    "## 服务部署\n",
    "\n",
    "PaddleHub Serving可以部署在线服务。"
   ]
  },
  {
   "cell_type": "markdown",
   "id": "1c566515",
   "metadata": {
    "id": "step1-启动paddlehub-serving"
   },
   "source": [
    "### Step1: 启动PaddleHub Serving\n",
    "\n",
    "运行启动命令：\n",
    "\n",
    "这样就完成了一个对话机器人服务化API的部署，默认端口号为8866。\n",
    "\n",
    "**NOTE:** 如使用GPU预测，则需要在启动服务之前，请设置CUDA_VISIBLE_DEVICES环境变量，否则不用设置。"
   ]
  },
  {
   "cell_type": "markdown",
   "id": "b383ba0a",
   "metadata": {
    "id": "step2-发送预测请求"
   },
   "source": [
    "### Step2: 发送预测请求\n",
    "\n",
    "配置好服务端，以下数行代码即可实现发送预测请求，获取预测结果"
   ]
  },
  {
   "cell_type": "markdown",
   "id": "421f8e80",
   "metadata": {
    "id": "查看代码"
   },
   "source": [
    "## 查看代码\n",
    "\n",
    "https://github.com/PaddlePaddle/Knover"
   ]
  },
  {
   "cell_type": "markdown",
   "id": "e807197f",
   "metadata": {
    "id": "依赖"
   },
   "source": [
    "## 依赖\n",
    "\n",
    "paddlepaddle >= 2.0.0\n",
    "\n",
    "paddlehub >= 2.1.0"
   ]
  },
  {
   "cell_type": "markdown",
   "id": "1c3d276a",
   "metadata": {
    "id": "更新历史"
   },
   "source": [
    "## 更新历史\n",
    "\n",
    "* 1.0.0\n",
    "\n",
    "  初始发布"
   ]
  }
 ],
 "metadata": {
  "colab": {
   "name": "概述",
   "toc_visible": true
  },
  "kernelspec": {
   "display_name": "python3",
   "name": "python3"
  }
 },
 "nbformat": 4,
 "nbformat_minor": 5
}
