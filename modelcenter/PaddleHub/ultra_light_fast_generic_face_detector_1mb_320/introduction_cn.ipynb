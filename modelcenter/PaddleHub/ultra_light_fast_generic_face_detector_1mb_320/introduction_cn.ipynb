{
 "cells": [
  {
   "cell_type": "markdown",
   "id": "dd2392f3",
   "metadata": {
    "id": "ultra_light_fast_generic_face_detector_1mb_320"
   },
   "source": [
    "# ultra_light_fast_generic_face_detector_1mb_320\n",
    "\n",
    "|模型名称|ultra_light_fast_generic_face_detector_1mb_320|\n",
    "| :--- | :---: |\n",
    "|类别|图像 - 人脸检测|\n",
    "|网络|Ultra-Light-Fast-Generic-Face-Detector-1MB|\n",
    "|数据集|WIDER FACE数据集|\n",
    "|是否支持Fine-tuning|否|\n",
    "|模型大小|2.6MB|\n",
    "|最新更新日期|2021-02-26|\n",
    "|数据指标|-|"
   ]
  },
  {
   "cell_type": "markdown",
   "id": "66569f5b",
   "metadata": {
    "id": "一-模型基本信息"
   },
   "source": [
    "## 一、模型基本信息\n",
    "\n",
    "- ### 应用效果展示\n",
    "  - 样例结果示例：\n",
    "    <p align=\"center\">\n",
    "    <img src=\"https://user-images.githubusercontent.com/22424850/131604811-bce29c3f-66f7-45cb-a388-d739368bfeb9.jpg\" width=\"50%\" hspace=\"10\"/>\n",
    "    <br/>\n",
    "    </p>\n",
    "\n",
    "- ### 模型介绍\n",
    "\n",
    "  - Ultra-Light-Fast-Generic-Face-Detector-1MB是针对边缘计算设备或低算力设备(如用ARM推理)设计的实时超轻量级通用人脸检测模型，可以在低算力设备中如用ARM进行实时的通用场景的人脸检测推理。该PaddleHub Module的预训练数据集为WIDER FACE数据集，可支持预测，在预测时会将图片输入缩放为320 * 240。"
   ]
  },
  {
   "cell_type": "markdown",
   "id": "edc36d93",
   "metadata": {
    "id": "二-安装"
   },
   "source": [
    "## 二、安装\n",
    "\n",
    "- ### 1、环境依赖\n",
    "\n",
    "  - paddlepaddle >= 1.6.2\n",
    "\n",
    "  - paddlehub >= 1.6.0  | [如何安装paddlehub](../../../../docs/docs_ch/get_start/installation.rst)\n",
    "\n",
    "- ### 2、安装\n",
    "\n",
    "  - ```shell\n",
    "    $ hub install ultra_light_fast_generic_face_detector_1mb_320\n",
    "    ```\n",
    "  - 如您安装时遇到问题，可参考：[零基础windows安装](../../../../docs/docs_ch/get_start/windows_quickstart.md)\n",
    " | [零基础Linux安装](../../../../docs/docs_ch/get_start/linux_quickstart.md) | [零基础MacOS安装](../../../../docs/docs_ch/get_start/mac_quickstart.md)"
   ]
  },
  {
   "cell_type": "markdown",
   "id": "d69ac635",
   "metadata": {
    "id": "三-模型api预测"
   },
   "source": [
    "## 三、模型API预测\n",
    "\n",
    "- ### 1、命令行预测\n",
    "\n",
    "  - ```shell\n",
    "    $ hub run ultra_light_fast_generic_face_detector_1mb_320 --input_path \"/PATH/TO/IMAGE\"\n",
    "    ```\n",
    "  - 通过命令行方式实现人脸检测模型的调用，更多请见 [PaddleHub命令行指令](../../../../docs/docs_ch/tutorial/cmd_usage.rst)\n",
    "\n",
    "- ### 2、预测代码示例\n",
    "\n",
    "  - ```python\n",
    "    import paddlehub as hub\n",
    "    import cv2\n",
    "\n",
    "    face_detector = hub.Module(name=\"ultra_light_fast_generic_face_detector_1mb_320\")\n",
    "    result = face_detector.face_detection(images=[cv2.imread('/PATH/TO/IMAGE')])\n",
    "    # or\n",
    "    # result = face_detector.face_detection(paths=['/PATH/TO/IMAGE'])\n",
    "    ```\n",
    "\n",
    "- ### 3、API\n",
    "\n",
    "  - ```python\n",
    "    def face_detection(images=None,\n",
    "                       paths=None,\n",
    "                       batch\\_size=1,\n",
    "                       use_gpu=False,\n",
    "                       output_dir='face_detector_640_predict_output',\n",
    "                       visualization=False,\n",
    "                       confs_threshold=0.5)\n",
    "    ```\n",
    "\n",
    "    - 检测输入图片中的所有人脸位置。\n",
    "\n",
    "    - **参数**\n",
    "\n",
    "      - images (list\\[numpy.ndarray\\]): 图片数据，ndarray.shape 为 \\[H, W, C\\]，BGR格式；<br/>\n",
    "      - paths (list\\[str\\]): 图片的路径；<br/>\n",
    "      - batch\\_size (int): batch 的大小；<br/>\n",
    "      - use\\_gpu (bool): 是否使用 GPU；<br/>\n",
    "      - output\\_dir (str): 图片的保存路径，默认设为 face\\_detector\\_640\\_predict\\_output；<br/>\n",
    "      - visualization (bool): 是否将识别结果保存为图片文件；<br/>\n",
    "      - confs\\_threshold (float): 置信度的阈值。\n",
    "\n",
    "      **NOTE:** paths和images两个参数选择其一进行提供数据\n",
    "\n",
    "    - **返回**\n",
    "\n",
    "      - res (list\\[dict\\]): 识别结果的列表，列表中每一个元素为 dict，各字段为:\n",
    "        - path (str): 原输入图片的路径\n",
    "        - data (list): 检测结果，list的每一个元素为 dict，各字段为:\n",
    "          - confidence (float): 识别的置信度\n",
    "          - left (int): 边界框的左上角x坐标\n",
    "          - top (int): 边界框的左上角y坐标\n",
    "          - right (int): 边界框的右下角x坐标\n",
    "          - bottom (int): 边界框的右下角y坐标\n",
    "        - save\\_path 字段为可视化图片的保存路径（仅当visualization=True时存在）\n",
    "\n",
    "  - ```python\n",
    "    def save_inference_model(dirname)\n",
    "    ```\n",
    "    - 将模型保存到指定路径。\n",
    "\n",
    "    - **参数**\n",
    "\n",
    "      - dirname: 模型保存路径 <br/>"
   ]
  },
  {
   "cell_type": "markdown",
   "id": "fbf06666",
   "metadata": {
    "id": "四-服务部署"
   },
   "source": [
    "## 四、服务部署\n",
    "\n",
    "- PaddleHub Serving可以部署一个在线人脸检测服务。\n",
    "\n",
    "- ### 第一步：启动PaddleHub Serving\n",
    "\n",
    "  - 运行启动命令：\n",
    "  - ```shell\n",
    "    $ hub serving start -m ultra_light_fast_generic_face_detector_1mb_320\n",
    "    ```\n",
    "\n",
    "  - 这样就完成了一个人脸检测服务化API的部署，默认端口号为8866。\n",
    "\n",
    "  - **NOTE:** 如使用GPU预测，则需要在启动服务之前，请设置CUDA\\_VISIBLE\\_DEVICES环境变量，否则不用设置。\n",
    "\n",
    "- ### 第二步：发送预测请求\n",
    "\n",
    "  - 配置好服务端，以下数行代码即可实现发送预测请求，获取预测结果\n",
    "\n",
    "  - ```python\n",
    "    import requests\n",
    "    import json\n",
    "    import cv2\n",
    "    import base64\n",
    "\n",
    "    def cv2_to_base64(image):\n",
    "      data = cv2.imencode('.jpg', image)[1]\n",
    "      return base64.b64encode(data.tostring()).decode('utf8')\n",
    "\n",
    "    # 发送HTTP请求\n",
    "    data = {'images':[cv2_to_base64(cv2.imread(\"/PATH/TO/IMAGE\"))]}\n",
    "    headers = {\"Content-type\": \"application/json\"}\n",
    "    url = \"http://127.0.0.1:8866/predict/ultra_light_fast_generic_face_detector_1mb_320\"\n",
    "    r = requests.post(url=url, headers=headers, data=json.dumps(data))\n",
    "\n",
    "    # 打印预测结果\n",
    "    print(r.json()[\"results\"])\n",
    "    ```"
   ]
  },
  {
   "cell_type": "markdown",
   "id": "1cd2c0e1",
   "metadata": {
    "id": "五-更新历史"
   },
   "source": [
    "## 五、更新历史\n",
    "\n",
    "* 1.0.0\n",
    "\n",
    "  初始发布\n",
    "\n",
    "* 1.1.3\n",
    "\n",
    "  移除 fluid api\n",
    "\n",
    "* 1.2.0\n",
    "\n",
    "  修复无法导出推理模型的问题\n",
    "\n",
    "  - ```shell\n",
    "    $ hub install ultra_light_fast_generic_face_detector_1mb_320==1.2.0\n",
    "    ```"
   ]
  }
 ],
 "metadata": {
  "colab": {
   "name": "ultra_light_fast_generic_face_detector_1mb_320",
   "toc_visible": true
  },
  "kernelspec": {
   "display_name": "python3",
   "name": "python3"
  }
 },
 "nbformat": 4,
 "nbformat_minor": 5
}
