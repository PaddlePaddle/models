{
 "cells": [
  {
   "cell_type": "markdown",
   "id": "43fa1cc5",
   "metadata": {
    "id": "photo2cartoon"
   },
   "source": [
    "# Photo2Cartoon\n",
    "\n",
    "|Module Name|Photo2Cartoon|\n",
    "| :--- | :---: |\n",
    "|Category|image generation|\n",
    "|Network|U-GAT-IT|\n",
    "|Dataset|cartoon_data|\n",
    "|Fine-tuning supported or not|No|\n",
    "|Module Size|205MB|\n",
    "|Latest update date|2021-02-26|\n",
    "|Data indicators|-|"
   ]
  },
  {
   "cell_type": "markdown",
   "id": "d7f70605",
   "metadata": {
    "id": "i-basic-information"
   },
   "source": [
    "## I.Basic Information\n",
    "\n",
    "- ### Application Effect Display\n",
    "  - Sample results：\n",
    "    <p align=\"center\">\n",
    "    <img src=\"https://img-blog.csdnimg.cn/20201224164040624.jpg\" hspace=\"10\"/> <br/>\n",
    "    </p>\n",
    "\n",
    "- ### Module Introduction\n",
    "\n",
    "  - This module encapsulates project [photo2cartoon](https://github.com/minivision-ai/photo2cartoon-paddle)."
   ]
  },
  {
   "cell_type": "markdown",
   "id": "0100d4fe",
   "metadata": {
    "id": "ii-installation"
   },
   "source": [
    "## II.Installation\n",
    "\n",
    "- ### 1、Environmental Dependence\n",
    "\n",
    "  - paddlepaddle >= 2.0.0\n",
    "\n",
    "  - paddlehub >= 2.0.0   | [How to install PaddleHub](../../../../docs/docs_en/get_start/installation.rst)\n",
    "\n",
    "- ### 2、Installation\n",
    "\n",
    "  - ```shell\n",
    "    $ hub install Photo2Cartoon\n",
    "    ```\n",
    "  - In case of any problems during installation, please refer to: [Windows_Quickstart](../../../../docs/docs_en/get_start/windows_quickstart.md) | [Linux_Quickstart](../../../../docs/docs_en/get_start/linux_quickstart.md) | [Mac_Quickstart](../../../../docs/docs_en/get_start/mac_quickstart.md)"
   ]
  },
  {
   "cell_type": "markdown",
   "id": "201b4139",
   "metadata": {
    "id": "iii-module-api-prediction"
   },
   "source": [
    "## III.Module API Prediction\n",
    "\n",
    "- ### 1、Prediction Code Example\n",
    "\n",
    "  - ```python\n",
    "    import paddlehub as hub\n",
    "    import cv2\n",
    "\n",
    "    model = hub.Module(name=\"Photo2Cartoon\")\n",
    "    result = model.Cartoon_GEN(images=[cv2.imread('/PATH/TO/IMAGE')])\n",
    "    # or\n",
    "    # result = model.Cartoon_GEN(paths=['/PATH/TO/IMAGE'])\n",
    "    ```\n",
    "\n",
    "- ### 2、API\n",
    "\n",
    "  - ```python\n",
    "    def Cartoon_GEN(images=None,\n",
    "                    paths=None,\n",
    "                    batch_size=1,\n",
    "                    output_dir='output',\n",
    "                    visualization=False,\n",
    "                    use_gpu=False):\n",
    "    ```\n",
    "\n",
    "    - Cartoon style generation API.\n",
    "\n",
    "    - **Parameters**\n",
    "\n",
    "      - images (list\\[numpy.ndarray\\]): image data, ndarray.shape is in the format [H, W, C], BGR;\n",
    "      - paths (list[str]): image path;\n",
    "      - output_dir (str): save path of images;\n",
    "      - batch_size (int): the size of batch;\n",
    "      - visualization (bool): Whether to save the results as picture files;\n",
    "      - use_gpu (bool): use GPU or not; **set the CUDA_VISIBLE_DEVICES environment variable first if you are using GPU**\n",
    "\n",
    "      **NOTE:** choose one parameter to provide data from paths and images\n",
    "\n",
    "    - **Return**\n",
    "      - res (list\\[numpy.ndarray\\]): result list，ndarray.shape is \\[H, W, C\\]"
   ]
  },
  {
   "cell_type": "markdown",
   "id": "680090b6",
   "metadata": {
    "id": "iv-release-note"
   },
   "source": [
    "## IV.Release Note\n",
    "\n",
    "* 1.0.0\n",
    "\n",
    "  First release\n",
    "\n",
    "  - ```shell\n",
    "    $ hub install Photo2Cartoon==1.0.0\n",
    "    ```"
   ]
  }
 ],
 "metadata": {
  "colab": {
   "name": "Photo2Cartoon",
   "toc_visible": true
  },
  "kernelspec": {
   "display_name": "python3",
   "name": "python3"
  }
 },
 "nbformat": 4,
 "nbformat_minor": 5
}
