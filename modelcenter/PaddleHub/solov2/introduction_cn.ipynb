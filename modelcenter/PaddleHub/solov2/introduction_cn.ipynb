{
 "cells": [
  {
   "cell_type": "markdown",
   "id": "370135d7",
   "metadata": {
    "id": "solov2"
   },
   "source": [
    "# solov2\n",
    "\n",
    "| 模型名称            |    solov2     |\n",
    "| :------------------ | :-----------: |\n",
    "| 类别                | 图像-实例分割 |\n",
    "| 网络                |       -       |\n",
    "| 数据集              |   COCO2014    |\n",
    "| 是否支持Fine-tuning |      否       |\n",
    "| 模型大小            |     165M      |\n",
    "| 最新更新日期        |  2021-02-26   |\n",
    "| 数据指标            |       -       |"
   ]
  },
  {
   "cell_type": "markdown",
   "id": "03dafba9",
   "metadata": {
    "id": "一-模型基本信息"
   },
   "source": [
    "## 一、模型基本信息\n",
    "\n",
    "- ### 应用效果展示\n",
    "\n",
    "<div align=\"center\">\n",
    "<img src=\"https://user-images.githubusercontent.com/76040149/133250741-83040204-acfc-4348-af90-acac74f40cd8.png\" height=\"300\"/>\n",
    "</div>\n",
    "\n",
    "- ### 模型介绍\n",
    "  - solov2是基于\"SOLOv2: Dynamic, Faster and Stronger\"实现的快速实例分割的模型。该模型基于SOLOV1, 并且针对mask的检测效果和运行效率进行改进，在实例分割任务中表现优秀。相对语义分割，实例分割需要标注出图上同一物体的不同个体。"
   ]
  },
  {
   "cell_type": "markdown",
   "id": "bc21174a",
   "metadata": {
    "id": "二-安装"
   },
   "source": [
    "## 二、安装\n",
    "\n",
    "- ### 1、环境依赖\n",
    "\n",
    "  - paddlepaddle >= 2.0.0\n",
    "  - paddlehub >= 2.0.0    | [如何安装PaddleHub](../../../../docs/docs_ch/get_start/installation.rst)\n",
    "\n",
    "- ### 2、安装\n",
    "\n",
    "  - ```shell\n",
    "    $ hub install solov2\n",
    "    ```\n",
    "\n",
    "  - 如您安装时遇到问题，可参考：[零基础windows安装](../../../../docs/docs_ch/get_start/windows_quickstart.md)\n",
    "   | [零基础Linux安装](../../../../docs/docs_ch/get_start/linux_quickstart.md) | [零基础MacOS安装](../../../../docs/docs_ch/get_start/mac_quickstart.md)"
   ]
  },
  {
   "cell_type": "markdown",
   "id": "8962d9c7",
   "metadata": {
    "id": "三-模型api预测"
   },
   "source": [
    "## 三、模型API预测\n",
    "\n",
    "- ### 1、命令行预测\n",
    "\n",
    "  - ```shell\n",
    "    $ hub run openpose_hands_estimation --input_path \"/PATH/TO/IMAGE\"\n",
    "    ```\n",
    "\n",
    "  - 通过命令行方式实现hub模型的调用，更多请见 [PaddleHub命令行指令](../../../../docs/docs_ch/tutorial/cmd_usage.rst)\n",
    "\n",
    "- ### 2、预测代码示例\n",
    "\n",
    "  - ```python\n",
    "    import cv2\n",
    "    import paddlehub as hub\n",
    "\n",
    "    img = cv2.imread('/PATH/TO/IMAGE')\n",
    "    model = hub.Module(name='solov2', use_gpu=False)\n",
    "    output = model.predict(image=img, visualization=False)\n",
    "    ```\n",
    "\n",
    "- ### 3、API\n",
    "\n",
    "  - ```python\n",
    "    def predict(image: Union[str, np.ndarray],\n",
    "                threshold: float = 0.5,\n",
    "                visualization: bool = False,\n",
    "                save_dir: str = 'solov2_result'):\n",
    "    ```\n",
    "\n",
    "    - 预测API，实例分割。\n",
    "    - **参数**\n",
    "      - image (Union[str, np.ndarray]): 图片路径或者图片数据，ndarray.shape 为 [H, W, C]，BGR格式；\n",
    "      - threshold (float): 检测模型输出结果中，预测得分低于该阈值的框将被滤除，默认值为0.5；\n",
    "      - visualization (bool): 是否将可视化图片保存；\n",
    "      - save_dir (str): 保存图片到路径， 默认为\"solov2_result\"。\n",
    "    - **返回**\n",
    "      - res (dict): 识别结果，关键字有 'segm', 'label', 'score'对应的取值为：\n",
    "        - segm (np.ndarray): 实例分割结果,取值为0或1。0表示背景，1为实例；\n",
    "        - label (list): 实例分割结果类别id；\n",
    "        - score (list):实例分割结果类别得分；"
   ]
  },
  {
   "cell_type": "markdown",
   "id": "79071f35",
   "metadata": {
    "id": "四-服务部署"
   },
   "source": [
    "## 四、服务部署\n",
    "\n",
    "- PaddleHub Serving可以部署一个实例分割的在线服务。\n",
    "\n",
    "- ### 第一步：启动PaddleHub Serving\n",
    "\n",
    "  - 运行启动命令：\n",
    "  - ```shell\n",
    "    $ hub serving start -m solov2 -p 8866\n",
    "    ```\n",
    "\n",
    "  - 这样就完成了一个实例分割的在线服务API的部署，默认端口号为8866。\n",
    "\n",
    "  - **NOTE:** 如使用GPU预测，则需要在启动服务之前，请设置CUDA\\_VISIBLE\\_DEVICES环境变量，否则不用设置。\n",
    "\n",
    "- ### 第二步：发送预测请求\n",
    "\n",
    "  - 配置好服务端，以下数行代码即可实现发送预测请求，获取预测结果\n",
    "\n",
    "  - ```python\n",
    "    import requests\n",
    "    import json\n",
    "    import cv2\n",
    "    import base64\n",
    "\n",
    "    import numpy as np\n",
    "\n",
    "    def cv2_to_base64(image):\n",
    "        data = cv2.imencode('.jpg', image)[1]\n",
    "        return base64.b64encode(data.tostring()).decode('utf8')\n",
    "\n",
    "    def base64_to_cv2(b64str):\n",
    "        data = base64.b64decode(b64str.encode('utf8'))\n",
    "        data = np.fromstring(data, np.uint8)\n",
    "        data = cv2.imdecode(data, cv2.IMREAD_COLOR)\n",
    "        return data\n",
    "\n",
    "    # 发送HTTP请求\n",
    "\n",
    "    org_im = cv2.imread('/PATH/TO/IMAGE')\n",
    "    h, w, c = org_im.shape\n",
    "    data = {'images':[cv2_to_base64(org_im)]}\n",
    "    headers = {\"Content-type\": \"application/json\"}\n",
    "    url = \"http://127.0.0.1:8866/predict/solov2\"\n",
    "    r = requests.post(url=url, headers=headers, data=json.dumps(data))\n",
    "\n",
    "    seg = base64.b64decode(r.json()[\"results\"]['segm'].encode('utf8'))\n",
    "    seg = np.fromstring(seg, dtype=np.int32).reshape((-1, h, w))\n",
    "\n",
    "    label = base64.b64decode(r.json()[\"results\"]['label'].encode('utf8'))\n",
    "    label = np.fromstring(label, dtype=np.int64)\n",
    "\n",
    "    score = base64.b64decode(r.json()[\"results\"]['score'].encode('utf8'))\n",
    "    score = np.fromstring(score, dtype=np.float32)\n",
    "\n",
    "    print('seg', seg)\n",
    "    print('label', label)\n",
    "    print('score', score)\n",
    "    ```"
   ]
  },
  {
   "cell_type": "markdown",
   "id": "ac74f995",
   "metadata": {
    "id": "五-更新历史"
   },
   "source": [
    "## 五、更新历史\n",
    "\n",
    "* 1.0.0\n",
    "\n",
    "  初始发布\n",
    "\n",
    "* 1.1.0\n",
    "\n",
    "  适配 PaddlePaddle 2.2.0+\n",
    "\n",
    "  * ```shell\n",
    "    $ hub install hand_pose_localization==1.1.0\n",
    "    ```"
   ]
  }
 ],
 "metadata": {
  "colab": {
   "name": "solov2",
   "toc_visible": true
  },
  "kernelspec": {
   "display_name": "python3",
   "name": "python3"
  }
 },
 "nbformat": 4,
 "nbformat_minor": 5
}
