{
 "cells": [
  {
   "cell_type": "markdown",
   "id": "b80629be",
   "metadata": {
    "id": "paddlehub-图像分割"
   },
   "source": [
    "# PaddleHub 图像分割"
   ]
  },
  {
   "cell_type": "markdown",
   "id": "019762d9",
   "metadata": {
    "id": "模型预测"
   },
   "source": [
    "## 模型预测\n",
    "\n",
    "若想使用我们提供的预训练模型进行预测，可使用如下脚本："
   ]
  },
  {
   "cell_type": "markdown",
   "id": "ba815b29",
   "metadata": {
    "id": "如何开始fine-tune"
   },
   "source": [
    "## 如何开始Fine-tune\n",
    "\n",
    "本示例将展示如何使用PaddleHub对预训练模型进行finetune并完成预测任务。\n",
    "\n",
    "在完成安装PaddlePaddle与PaddleHub后，通过执行`python train.py`即可开始使用bisenetv2_cityscapes模型对OpticDiscSeg等数据集进行Fine-tune。"
   ]
  },
  {
   "cell_type": "markdown",
   "id": "7d75a9f9",
   "metadata": {
    "id": "代码步骤"
   },
   "source": [
    "## 代码步骤\n",
    "\n",
    "使用PaddleHub Fine-tune API进行Fine-tune可以分为4个步骤。"
   ]
  },
  {
   "cell_type": "markdown",
   "id": "8666fe63",
   "metadata": {
    "id": "step1-定义数据预处理方式"
   },
   "source": [
    "### Step1: 定义数据预处理方式\n",
    "\n",
    "`segmentation_transforms` 数据增强模块定义了丰富的针对图像分割数据的预处理方式，用户可按照需求替换自己需要的数据预处理方式。"
   ]
  },
  {
   "cell_type": "markdown",
   "id": "f698d2d2",
   "metadata": {
    "id": "step2-下载数据集并使用"
   },
   "source": [
    "### Step2: 下载数据集并使用\n",
    "\n",
    "* `transform`: 数据预处理方式。\n",
    "* `mode`: 选择数据模式，可选项有 `train`, `test`, `val`, 默认为`train`。\n",
    "\n",
    "数据集的准备代码可以参考 [opticdiscseg.py](../../paddlehub/datasets/opticdiscseg.py)。`hub.datasets.OpticDiscSeg()`会自动从网络下载数据集并解压到用户目录下`$HOME/.paddlehub/dataset`目录。"
   ]
  },
  {
   "cell_type": "markdown",
   "id": "4d03df91",
   "metadata": {
    "id": "step3-加载预训练模型"
   },
   "source": [
    "### Step3: 加载预训练模型\n",
    "\n",
    "* `name`: 选择预训练模型的名字。\n",
    "* `num_classes`: 分割模型的类别数目。\n",
    "* `pretrained`: 是否加载自己训练的模型，若为None，则加载提供的模型默认参数。"
   ]
  },
  {
   "cell_type": "markdown",
   "id": "0dce5d95",
   "metadata": {
    "id": "step4-选择优化策略和运行配置"
   },
   "source": [
    "### Step4: 选择优化策略和运行配置"
   ]
  },
  {
   "cell_type": "markdown",
   "id": "24b3af07",
   "metadata": {
    "id": "优化策略"
   },
   "source": [
    "#### 优化策略\n",
    "\n",
    "Paddle2.0提供了多种优化器选择，如`SGD`, `Adam`, `Adamax`等，其中`Adam`:\n",
    "\n",
    "* `learning_rate`: 全局学习率。\n",
    "*  `parameters`: 待优化模型参数。"
   ]
  },
  {
   "cell_type": "markdown",
   "id": "e955d47e",
   "metadata": {
    "id": "运行配置"
   },
   "source": [
    "#### 运行配置\n",
    "\n",
    "`Trainer` 主要控制Fine-tune的训练，包含以下可控制的参数:\n",
    "\n",
    "* `model`: 被优化模型；\n",
    "* `optimizer`: 优化器选择；\n",
    "* `use_gpu`: 是否使用gpu，默认为False;\n",
    "* `use_vdl`: 是否使用vdl可视化训练过程；\n",
    "* `checkpoint_dir`: 保存模型参数的地址；\n",
    "* `compare_metrics`: 保存最优模型的衡量指标；\n",
    "\n",
    "`trainer.train` 主要控制具体的训练过程，包含以下可控制的参数：\n",
    "\n",
    "* `train_dataset`: 训练时所用的数据集；\n",
    "* `epochs`: 训练轮数；\n",
    "* `batch_size`: 训练的批大小，如果使用GPU，请根据实际情况调整batch_size；\n",
    "* `num_workers`: works的数量，默认为0；\n",
    "* `eval_dataset`: 验证集；\n",
    "* `log_interval`: 打印日志的间隔， 单位为执行批训练的次数。\n",
    "* `save_interval`: 保存模型的间隔频次，单位为执行训练的轮数。"
   ]
  },
  {
   "cell_type": "markdown",
   "id": "cdf536c6",
   "metadata": {
    "id": "模型预测-2"
   },
   "source": [
    "## 模型预测\n",
    "\n",
    "当完成Fine-tune后，Fine-tune过程在验证集上表现最优的模型会被保存在`${CHECKPOINT_DIR}/best_model`目录下，其中`${CHECKPOINT_DIR}`目录为Fine-tune时所选择的保存checkpoint的目录。\n",
    "\n",
    "我们使用该模型来进行预测。predict.py脚本如下：\n",
    "\n",
    "参数配置正确后，请执行脚本`python predict.py`。\n",
    "**Args**\n",
    "* `images`:原始图像路径或BGR格式图片；\n",
    "* `visualization`: 是否可视化，默认为True；\n",
    "* `save_path`: 保存结果的路径，默认保存路径为'seg_result'。\n",
    "\n",
    "**NOTE:** 进行预测时，所选择的module，checkpoint_dir，dataset必须和Fine-tune所用的一样。"
   ]
  },
  {
   "cell_type": "markdown",
   "id": "f589266e",
   "metadata": {
    "id": "服务部署"
   },
   "source": [
    "## 服务部署\n",
    "\n",
    "PaddleHub Serving可以部署一个在线图像分割服务。"
   ]
  },
  {
   "cell_type": "markdown",
   "id": "f7999571",
   "metadata": {
    "id": "step1-启动paddlehub-serving"
   },
   "source": [
    "### Step1: 启动PaddleHub Serving\n",
    "\n",
    "运行启动命令：\n",
    "\n",
    "这样就完成了一个图像分割服务化API的部署，默认端口号为8866。\n",
    "\n",
    "**NOTE:** 如使用GPU预测，则需要在启动服务之前，请设置CUDA_VISIBLE_DEVICES环境变量，否则不用设置。"
   ]
  },
  {
   "cell_type": "markdown",
   "id": "69d4d6d5",
   "metadata": {
    "id": "step2-发送预测请求"
   },
   "source": [
    "### Step2: 发送预测请求\n",
    "\n",
    "配置好服务端，以下数行代码即可实现发送预测请求，获取预测结果"
   ]
  },
  {
   "cell_type": "markdown",
   "id": "d1d78068",
   "metadata": {
    "id": "查看代码"
   },
   "source": [
    "### 查看代码\n",
    "\n",
    "https://github.com/PaddlePaddle/PaddleSeg"
   ]
  },
  {
   "cell_type": "markdown",
   "id": "0e6174a9",
   "metadata": {
    "id": "依赖"
   },
   "source": [
    "### 依赖\n",
    "\n",
    "paddlepaddle >= 2.0.0\n",
    "\n",
    "paddlehub >= 2.0.0"
   ]
  }
 ],
 "metadata": {
  "colab": {
   "name": "PaddleHub 图像分割",
   "toc_visible": true
  },
  "kernelspec": {
   "display_name": "python3",
   "name": "python3"
  }
 },
 "nbformat": 4,
 "nbformat_minor": 5
}
