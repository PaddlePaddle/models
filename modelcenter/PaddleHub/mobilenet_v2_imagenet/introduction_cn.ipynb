{
 "cells": [
  {
   "cell_type": "markdown",
   "id": "6bc12d1e",
   "metadata": {
    "id": "mobilenet_v2_imagenet"
   },
   "source": [
    "# mobilenet_v2_imagenet\n",
    "\n",
    "|模型名称|mobilenet_v2_imagenet|\n",
    "| :--- | :---: |\n",
    "|类别|图像-图像分类|\n",
    "|网络|Mobilenet_v2|\n",
    "|数据集|ImageNet-2012|\n",
    "|是否支持Fine-tuning|否|\n",
    "|模型大小|15MB|\n",
    "|最新更新日期|-|\n",
    "|数据指标|-|"
   ]
  },
  {
   "cell_type": "markdown",
   "id": "8ab47087",
   "metadata": {
    "id": "一-模型基本信息"
   },
   "source": [
    "## 一、模型基本信息\n",
    "\n",
    "- ### 模型介绍\n",
    "\n",
    "  - MobileNet V2是Mark Sandler, Andrew Howard等人在2018年提出的一个图像分类模型，该系列模型（MobileNet）是为移动和嵌入式设备提出的高效模型，在模型参数较少的情况下仍然保持了较高的分类准确率。该PaddleHub Module基于ImageNet-2012数据集训练，接受输入图片大小为224 x 224 x 3，支持直接通过命令行或者Python接口进行预测。"
   ]
  },
  {
   "cell_type": "markdown",
   "id": "c69ca53d",
   "metadata": {
    "id": "二-安装"
   },
   "source": [
    "## 二、安装\n",
    "\n",
    "- ### 1、环境依赖\n",
    "\n",
    "  - paddlepaddle >= 1.4.0\n",
    "\n",
    "  - paddlehub >= 1.0.0  | [如何安装paddlehub](../../../../docs/docs_ch/get_start/installation.rst)\n",
    "\n",
    "- ### 2、安装\n",
    "\n",
    "  - ```shell\n",
    "    $ hub install mobilenet_v2_imagenet\n",
    "    ```\n",
    "  - 如您安装时遇到问题，可参考：[零基础windows安装](../../../../docs/docs_ch/get_start/windows_quickstart.md)\n",
    " | [零基础Linux安装](../../../../docs/docs_ch/get_start/linux_quickstart.md) | [零基础MacOS安装](../../../../docs/docs_ch/get_start/mac_quickstart.md)"
   ]
  },
  {
   "cell_type": "markdown",
   "id": "37c00c7a",
   "metadata": {
    "id": "三-模型api预测"
   },
   "source": [
    "## 三、模型API预测\n",
    "\n",
    "- ### 1、命令行预测\n",
    "\n",
    "  - ```shell\n",
    "    $ hub run mobilenet_v2_imagenet --input_path \"/PATH/TO/IMAGE\"\n",
    "    ```\n",
    "  - 通过命令行方式实现图像分类模型的调用，更多请见 [PaddleHub命令行指令](../../../../docs/docs_ch/tutorial/cmd_usage.rst)\n",
    "\n",
    "- ### 2、预测代码示例\n",
    "\n",
    "  - ```python\n",
    "    import paddlehub as hub\n",
    "    import cv2\n",
    "\n",
    "    classifier = hub.Module(name=\"mobilenet_v2_imagenet\")\n",
    "    test_img_path = \"/PATH/TO/IMAGE\"\n",
    "    input_dict = {\"image\": [test_img_path]}\n",
    "    result = classifier.classification(data=input_dict)\n",
    "    ```\n",
    "\n",
    "- ### 3、API\n",
    "\n",
    "  - ```python\n",
    "    def classification(data)\n",
    "    ```\n",
    "    - 分类接口API。\n",
    "    - **参数**\n",
    "      - data：dict类型，key为image，str类型，value为待检测的图片路径，list类型。\n",
    "\n",
    "    - **返回**\n",
    "      - result：list类型，每个元素为对应输入图片的预测结果。预测结果为dict类型，key为该图片分类结果label，value为该label对应的概率"
   ]
  },
  {
   "cell_type": "markdown",
   "id": "391e6765",
   "metadata": {
    "id": "四-更新历史"
   },
   "source": [
    "## 四、更新历史\n",
    "\n",
    "* 1.0.0\n",
    "\n",
    "  初始发布\n",
    "\n",
    "* 1.0.1\n",
    "\n",
    "  修复python2中编码问题\n",
    "\n",
    "  - ```shell\n",
    "    $ hub install mobilenet_v2_imagenet==1.0.1\n",
    "    ```"
   ]
  }
 ],
 "metadata": {
  "colab": {
   "name": "mobilenet_v2_imagenet",
   "toc_visible": true
  },
  "kernelspec": {
   "display_name": "python3",
   "name": "python3"
  }
 },
 "nbformat": 4,
 "nbformat_minor": 5
}
