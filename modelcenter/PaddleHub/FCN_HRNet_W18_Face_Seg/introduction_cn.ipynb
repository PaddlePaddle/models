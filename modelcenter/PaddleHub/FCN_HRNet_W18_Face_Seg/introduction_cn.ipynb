{
 "cells": [
  {
   "cell_type": "markdown",
   "id": "2fe43526",
   "metadata": {
    "id": "fcn_hrnet_w18_face_seg"
   },
   "source": [
    "# FCN_HRNet_W18_Face_Seg\n",
    "\n",
    "|模型名称|FCN_HRNet_W18_Face_Seg|\n",
    "| :--- | :---: |\n",
    "|类别|图像 - 图像生成|\n",
    "|网络|FCN_HRNet_W18|\n",
    "|数据集|-|\n",
    "|是否支持Fine-tuning|否|\n",
    "|模型大小|56MB|\n",
    "|最新更新日期|2021-02-26|\n",
    "|数据指标|-|"
   ]
  },
  {
   "cell_type": "markdown",
   "id": "7fbb77a8",
   "metadata": {
    "id": "一-模型基本信息"
   },
   "source": [
    "## 一、模型基本信息\n",
    "\n",
    "- ### 应用效果展示\n",
    "  - 样例结果示例：\n",
    "    <p align=\"center\">\n",
    "    <img src=\"https://ai-studio-static-online.cdn.bcebos.com/88155299a7534f1084f8467a4d6db7871dc4729627d3471c9129d316dc4ff9bc\" width=\"70%\" hspace=\"10\"/> <br/>\n",
    "    </p>\n",
    "\n",
    "- ### 模型介绍\n",
    "\n",
    "  - 基于 FCN_HRNet_W18模型实现的人像分割模型。"
   ]
  },
  {
   "cell_type": "markdown",
   "id": "5564c341",
   "metadata": {
    "id": "二-安装"
   },
   "source": [
    "## 二、安装\n",
    "\n",
    "- ### 1、环境依赖\n",
    "\n",
    "  - paddlepaddle >= 2.0.0\n",
    "\n",
    "  - paddlehub >= 2.0.0   | [如何安装paddlehub](../../../../docs/docs_ch/get_start/installation.rst)\n",
    "\n",
    "- ### 2、安装\n",
    "\n",
    "  - ```shell\n",
    "    $ hub install FCN_HRNet_W18_Face_Seg\n",
    "    ```\n",
    "  - 如您安装时遇到问题，可参考：[零基础windows安装](../../../../docs/docs_ch/get_start/windows_quickstart.md)\n",
    " | [零基础Linux安装](../../../../docs/docs_ch/get_start/linux_quickstart.md) | [零基础MacOS安装](../../../../docs/docs_ch/get_start/mac_quickstart.md)"
   ]
  },
  {
   "cell_type": "markdown",
   "id": "2b32eed7",
   "metadata": {
    "id": "三-模型api预测"
   },
   "source": [
    "## 三、模型API预测\n",
    "\n",
    "- ### 1、预测代码示例\n",
    "\n",
    "  - ```python\n",
    "    import paddlehub as hub\n",
    "    import cv2\n",
    "\n",
    "    model = hub.Module(name=\"FCN_HRNet_W18_Face_Seg\")\n",
    "    result = model.Segmentation(images=[cv2.imread('/PATH/TO/IMAGE')])\n",
    "    # or\n",
    "    # result = model.Segmentation(paths=['/PATH/TO/IMAGE'])\n",
    "    ```\n",
    "\n",
    "- ### 2、API\n",
    "\n",
    "  - ```python\n",
    "    def Segmentation(images=None,\n",
    "                    paths=None,\n",
    "                    batch_size=1,\n",
    "                    output_dir='output',\n",
    "                    visualization=False):\n",
    "    ```\n",
    "\n",
    "    - 人像分割API。\n",
    "\n",
    "    - **参数**\n",
    "\n",
    "      - images (list\\[numpy.ndarray\\]): 图片数据，ndarray.shape 为 \\[H, W, C\\]；<br/>\n",
    "      - paths (list\\[str\\]): 输入图像路径；<br/>\n",
    "      - batch_size (int) : batch大小；<br/>\n",
    "      - output\\_dir (str): 图片的保存路径，默认设为 output；<br/>\n",
    "      - visualization (bool) : 是否将结果保存为图片文件；；<br/>\n",
    "\n",
    "      **NOTE:** paths和images两个参数选择其一进行提供数据\n",
    "\n",
    "    - **返回**\n",
    "      - res (list\\[numpy.ndarray\\]): 输出图像数据，ndarray.shape 为 \\[H, W, C\\]"
   ]
  },
  {
   "cell_type": "markdown",
   "id": "df73f0d9",
   "metadata": {
    "id": "四-更新历史"
   },
   "source": [
    "## 四、更新历史\n",
    "\n",
    "* 1.0.0\n",
    "\n",
    "  初始发布\n",
    "\n",
    "  - ```shell\n",
    "    $ hub install FCN_HRNet_W18_Face_Seg==1.0.0\n",
    "    ```"
   ]
  }
 ],
 "metadata": {
  "colab": {
   "name": "FCN_HRNet_W18_Face_Seg",
   "toc_visible": true
  },
  "kernelspec": {
   "display_name": "python3",
   "name": "python3"
  }
 },
 "nbformat": 4,
 "nbformat_minor": 5
}
