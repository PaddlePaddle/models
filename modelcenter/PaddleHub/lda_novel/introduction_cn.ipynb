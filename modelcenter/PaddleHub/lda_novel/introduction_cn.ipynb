{
 "cells": [
  {
   "cell_type": "markdown",
   "id": "751c691a",
   "metadata": {
    "id": "模型概述"
   },
   "source": [
    "## 模型概述\n",
    "\n",
    "主题模型(Topic Model)是以无监督学习的方式对文档的隐含语义结构进行聚类的统计模型，其中LDA(Latent Dirichlet Allocation)算法是主题模型的一种。LDA根据对词的共现信息的分析，拟合出词-文档-主题的分布，从而将词、文本映射到一个语义空间中。本Module基于的数据集为百度自建的小说领域数据集。\n",
    "\n",
    "<p align=\"center\">\n",
    "<img src=\"https://bj.bcebos.com/paddlehub/model/nlp/semantic_model/lda.png\" hspace=\"10\"/> <br/>\n",
    "</p>\n",
    "\n",
    "更多详情请参考[LDA论文](http://www.jmlr.org/papers/volume3/blei03a/blei03a.pdf)。\n",
    "\n",
    "注：该Module由第三方开发者DesmonDay贡献。"
   ]
  },
  {
   "cell_type": "markdown",
   "id": "3f065ccb",
   "metadata": {
    "id": "lda模型-api-说明"
   },
   "source": [
    "## LDA模型 API 说明"
   ]
  },
  {
   "cell_type": "markdown",
   "id": "84394a87",
   "metadata": {
    "id": "cal_doc_distance-doc_text1-doc_text2"
   },
   "source": [
    "### cal_doc_distance(doc_text1, doc_text2)\n",
    "\n",
    "用于计算两个输入文档之间的距离，包括Jensen-Shannon divergence(JS散度)、Hellinger Distance(海林格距离)。\n",
    "\n",
    "**参数**\n",
    "\n",
    "- doc_text1(str): 输入的第一个文档。\n",
    "- doc_text2(str): 输入的第二个文档。\n",
    "\n",
    "**返回**\n",
    "\n",
    "- jsd(float): 两个文档之间的JS散度([Jensen-Shannon divergence](https://blog.csdn.net/FrankieHello/article/details/80614422?utm_source=copy))。\n",
    "- hd(float): 两个文档之间的海林格距离([Hellinger Distance](http://blog.sina.com.cn/s/blog_85f1ffb70101e65d.html))。"
   ]
  },
  {
   "cell_type": "markdown",
   "id": "28f13c0e",
   "metadata": {
    "id": "cal_doc_keywords_similarity-document-top_k-10"
   },
   "source": [
    "### cal_doc_keywords_similarity(document, top_k=10)\n",
    "\n",
    "用于查找输入文档的前k个关键词及对应的与原文档的相似度。\n",
    "\n",
    "**参数**\n",
    "\n",
    "- document(str): 输入文档。\n",
    "- top_k(int): 查找输入文档的前k个关键词。\n",
    "\n",
    "**返回**\n",
    "\n",
    "- results(list): 包含每个关键词以及对应的与原文档的相似度。其中，list的基本元素为dict，dict的key为关键词，value为对应的与原文档的相似度。"
   ]
  },
  {
   "cell_type": "markdown",
   "id": "3a001bb2",
   "metadata": {
    "id": "cal_query_doc_similarity-query-document"
   },
   "source": [
    "### cal_query_doc_similarity(query, document)\n",
    "\n",
    "用于计算短文档与长文档之间的相似度。\n",
    "\n",
    "**参数**\n",
    "\n",
    "- query(str): 输入的短文档。\n",
    "- document(str): 输入的长文档。\n",
    "\n",
    "**返回**\n",
    "\n",
    "- lda_sim(float): 返回短文档与长文档之间的相似度。"
   ]
  },
  {
   "cell_type": "markdown",
   "id": "8e28dd54",
   "metadata": {
    "id": "infer_doc_topic_distribution-document"
   },
   "source": [
    "### infer_doc_topic_distribution(document)\n",
    "\n",
    "用于推理出文档的主题分布。\n",
    "\n",
    "**参数**\n",
    "\n",
    "- document(str): 输入文档。\n",
    "\n",
    "**返回**\n",
    "\n",
    "- results(list): 包含主题分布下各个主题ID和对应的概率分布。其中，list的基本元素为dict，dict的key为主题ID，value为各个主题ID对应的概率。"
   ]
  },
  {
   "cell_type": "markdown",
   "id": "42da137e",
   "metadata": {
    "id": "show_topic_keywords-topic_id-k-10"
   },
   "source": [
    "### show_topic_keywords(topic_id, k=10)\n",
    "\n",
    "用于展示出每个主题下对应的关键词，可配合推理主题分布的API使用。\n",
    "\n",
    "**参数**\n",
    "\n",
    "- topic_id(int): 主题ID。\n",
    "- k(int): 需要知道对应主题的前k个关键词。\n",
    "\n",
    "**返回**\n",
    "\n",
    "- results(dict): 返回对应文档的前k个关键词，以及各个关键词在文档中的出现概率。"
   ]
  },
  {
   "cell_type": "markdown",
   "id": "a82871c1",
   "metadata": {
    "id": "代码示例"
   },
   "source": [
    "### 代码示例\n",
    "\n",
    "这里展示部分API的使用示例。"
   ]
  },
  {
   "cell_type": "markdown",
   "id": "d6e2161e",
   "metadata": {
    "id": "查看代码"
   },
   "source": [
    "## 查看代码\n",
    "\n",
    "https://github.com/baidu/Familia"
   ]
  },
  {
   "cell_type": "markdown",
   "id": "b77de765",
   "metadata": {
    "id": "依赖"
   },
   "source": [
    "## 依赖\n",
    "\n",
    "paddlepaddle >= 1.8.2\n",
    "\n",
    "paddlehub >= 1.8.0"
   ]
  },
  {
   "cell_type": "markdown",
   "id": "69c3224f",
   "metadata": {
    "id": "更新历史"
   },
   "source": [
    "## 更新历史\n",
    "\n",
    "* 1.0.0\n",
    "\n",
    "  初始发布\n",
    "\n",
    "* 1.0.1\n",
    "\n",
    "  修复因为return的bug导致的NoneType错误\n",
    "\n",
    "* 1.0.2\n",
    "\n",
    "  修复由于Windows`gbk`编码导致的问题"
   ]
  }
 ],
 "metadata": {
  "colab": {
   "name": "模型概述",
   "toc_visible": true
  },
  "kernelspec": {
   "display_name": "python3",
   "name": "python3"
  }
 },
 "nbformat": 4,
 "nbformat_minor": 5
}
