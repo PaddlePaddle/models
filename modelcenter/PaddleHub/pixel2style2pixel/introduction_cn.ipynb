{
 "cells": [
  {
   "cell_type": "markdown",
   "id": "5f5bf5a9",
   "metadata": {
    "id": "pixel2style2pixel"
   },
   "source": [
    "# pixel2style2pixel\n",
    "\n",
    "|模型名称|pixel2style2pixel|\n",
    "| :--- | :---: |\n",
    "|类别|图像 - 图像生成|\n",
    "|网络|Pixel2Style2Pixel|\n",
    "|数据集|-|\n",
    "|是否支持Fine-tuning|否|\n",
    "|模型大小|1.7GB|\n",
    "|最新更新日期|2021-12-14|\n",
    "|数据指标|-|"
   ]
  },
  {
   "cell_type": "markdown",
   "id": "c2159dde",
   "metadata": {
    "id": "一-模型基本信息"
   },
   "source": [
    "## 一、模型基本信息\n",
    "\n",
    "- ### 应用效果展示\n",
    "  - 样例结果示例：\n",
    "    <p align=\"center\">\n",
    "    <img src=\"https://user-images.githubusercontent.com/22424850/146486444-63637926-4e46-4299-8905-d93f529d9d54.jpg\" width=\"40%\" hspace=\"10\"/>\n",
    "    <br/>\n",
    "    输入图像\n",
    "    <br/>\n",
    "    <img src=\"https://user-images.githubusercontent.com/22424850/146486413-0447dcc8-80ac-4b2c-8a7a-69347d60a2c4.png\" width=\"40%\" hspace=\"10\"/>\n",
    "    <br/>\n",
    "    输出图像\n",
    "     <br/>\n",
    "    </p>\n",
    "\n",
    "- ### 模型介绍\n",
    "\n",
    "  - Pixel2Style2Pixel使用相当大的模型对图像进行编码，将图像编码到StyleGAN V2的风格向量空间中，使编码前的图像和解码后的图像具有强关联性。该模块应用于人脸转正任务。"
   ]
  },
  {
   "cell_type": "markdown",
   "id": "b9625635",
   "metadata": {
    "id": "二-安装"
   },
   "source": [
    "## 二、安装\n",
    "\n",
    "- ### 1、环境依赖\n",
    "\n",
    "  - paddlepaddle >= 2.1.0\n",
    "  - paddlehub >= 2.1.0    | [如何安装PaddleHub](../../../../docs/docs_ch/get_start/installation.rst)\n",
    "- ### 2、安装\n",
    "\n",
    "  - ```shell\n",
    "    $ hub install pixel2style2pixel\n",
    "    ```\n",
    "  - 如您安装时遇到问题，可参考：[零基础windows安装](../../../../docs/docs_ch/get_start/windows_quickstart.md)\n",
    " | [零基础Linux安装](../../../../docs/docs_ch/get_start/linux_quickstart.md) | [零基础MacOS安装](../../../../docs/docs_ch/get_start/mac_quickstart.md)"
   ]
  },
  {
   "cell_type": "markdown",
   "id": "657f4e0d",
   "metadata": {
    "id": "三-模型api预测"
   },
   "source": [
    "## 三、模型API预测\n",
    "\n",
    "- ### 1、命令行预测\n",
    "\n",
    "  - ```shell\n",
    "    # Read from a file\n",
    "    $ hub run pixel2style2pixel --input_path \"/PATH/TO/IMAGE\"\n",
    "    ```\n",
    "  - 通过命令行方式实现人脸转正模型的调用，更多请见 [PaddleHub命令行指令](../../../../docs/docs_ch/tutorial/cmd_usage.rst)\n",
    "\n",
    "- ### 2、预测代码示例\n",
    "\n",
    "  - ```python\n",
    "    import paddlehub as hub\n",
    "\n",
    "    module = hub.Module(name=\"pixel2style2pixel\")\n",
    "    input_path = [\"/PATH/TO/IMAGE\"]\n",
    "    # Read from a file\n",
    "    module.style_transfer(paths=input_path, output_dir='./transfer_result/', use_gpu=True)\n",
    "    ```\n",
    "\n",
    "- ### 3、API\n",
    "\n",
    "  - ```python\n",
    "    style_transfer(images=None, paths=None, output_dir='./transfer_result/', use_gpu=False, visualization=True):\n",
    "    ```\n",
    "    - 人脸转正生成API。\n",
    "\n",
    "    - **参数**\n",
    "\n",
    "      - images (list\\[numpy.ndarray\\]): 图片数据，ndarray.shape 为 \\[H, W, C\\]；<br/>\n",
    "      - paths (list\\[str\\]): 图片的路径；<br/>\n",
    "      - output\\_dir (str): 结果保存的路径； <br/>\n",
    "      - use\\_gpu (bool): 是否使用 GPU；<br/>\n",
    "      - visualization(bool): 是否保存结果到本地文件夹"
   ]
  },
  {
   "cell_type": "markdown",
   "id": "144a1522",
   "metadata": {
    "id": "四-服务部署"
   },
   "source": [
    "## 四、服务部署\n",
    "\n",
    "- PaddleHub Serving可以部署一个在线人脸转正服务。\n",
    "\n",
    "- ### 第一步：启动PaddleHub Serving\n",
    "\n",
    "  - 运行启动命令：\n",
    "  - ```shell\n",
    "    $ hub serving start -m pixel2style2pixel\n",
    "    ```\n",
    "\n",
    "  - 这样就完成了一个人脸转正的在线服务API的部署，默认端口号为8866。\n",
    "\n",
    "  - **NOTE:** 如使用GPU预测，则需要在启动服务之前，请设置CUDA\\_VISIBLE\\_DEVICES环境变量，否则不用设置。\n",
    "\n",
    "- ### 第二步：发送预测请求\n",
    "\n",
    "  - 配置好服务端，以下数行代码即可实现发送预测请求，获取预测结果\n",
    "\n",
    "  - ```python\n",
    "    import requests\n",
    "    import json\n",
    "    import cv2\n",
    "    import base64\n",
    "\n",
    "    def cv2_to_base64(image):\n",
    "      data = cv2.imencode('.jpg', image)[1]\n",
    "      return base64.b64encode(data.tostring()).decode('utf8')\n",
    "\n",
    "    # 发送HTTP请求\n",
    "    data = {'images':[cv2_to_base64(cv2.imread(\"/PATH/TO/IMAGE\"))]}\n",
    "    headers = {\"Content-type\": \"application/json\"}\n",
    "    url = \"http://127.0.0.1:8866/predict/pixel2style2pixel\"\n",
    "    r = requests.post(url=url, headers=headers, data=json.dumps(data))\n",
    "\n",
    "    # 打印预测结果\n",
    "    print(r.json()[\"results\"])"
   ]
  },
  {
   "cell_type": "markdown",
   "id": "d6726061",
   "metadata": {
    "id": "五-更新历史"
   },
   "source": [
    "## 五、更新历史\n",
    "\n",
    "* 1.0.0\n",
    "\n",
    "  初始发布\n",
    "\n",
    "  - ```shell\n",
    "    $ hub install pixel2style2pixel==1.0.0\n",
    "    ```"
   ]
  }
 ],
 "metadata": {
  "colab": {
   "name": "pixel2style2pixel",
   "toc_visible": true
  },
  "kernelspec": {
   "display_name": "python3",
   "name": "python3"
  }
 },
 "nbformat": 4,
 "nbformat_minor": 5
}
