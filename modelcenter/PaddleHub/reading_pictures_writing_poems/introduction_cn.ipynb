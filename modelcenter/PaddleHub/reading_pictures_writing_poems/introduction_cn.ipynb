{
 "cells": [
  {
   "cell_type": "markdown",
   "id": "4496abd7",
   "metadata": {
    "id": "reading_pictures_writing_poems"
   },
   "source": [
    "# reading_pictures_writing_poems\n",
    "\n",
    "| 模型名称            | reading_pictures_writing_poems |\n",
    "| :------------------ | :----------------------------: |\n",
    "| 类别                |         文本-文本生成          |\n",
    "| 网络                |           多网络级联           |\n",
    "| 数据集              |               -                |\n",
    "| 是否支持Fine-tuning |               否               |\n",
    "| 模型大小            |             3.16K              |\n",
    "| 最新更新日期        |           2021-04-26           |\n",
    "| 数据指标            |               -                |"
   ]
  },
  {
   "cell_type": "markdown",
   "id": "addc71a0",
   "metadata": {
    "id": "一-模型基本信息"
   },
   "source": [
    "## 一、模型基本信息\n",
    "\n",
    "- ### 应用效果展示\n",
    "\n",
    "<p align=\"center\">\n",
    "<img src=\"https://user-images.githubusercontent.com/76040149/133189274-ff86801f-017f-460e-adb0-1d381d74aff6.jpg\" width=\"300\"/>\n",
    "</p>\n",
    "\n",
    "  - 输入以上图片生成的古诗是：\n",
    "\n",
    "     - 蕾蕾海河海，岳峰岳麓蔓。\n",
    "     - 不萌枝上春，自结心中线。\n",
    "\n",
    "- ### 模型介绍\n",
    "  - 看图写诗（reading_pictures_writing_poems），该模型可自动根据图像生成古诗词。该PaddleHub Module支持预测。"
   ]
  },
  {
   "cell_type": "markdown",
   "id": "d13cdd39",
   "metadata": {
    "id": "二-安装"
   },
   "source": [
    "## 二、安装\n",
    "\n",
    "- ### 1、环境依赖\n",
    "\n",
    "  - paddlepaddle >= 1.8.2\n",
    "\n",
    "  - paddlehub >= 1.8.0    | [如何安装PaddleHub](../../../../docs/docs_ch/get_start/installation.rst)\n",
    "\n",
    "  - translate\n",
    "\n",
    "    - ```shell\n",
    "      $ pip install translate\n",
    "      ```\n",
    "\n",
    "- ### 2、安装\n",
    "\n",
    "  - ```shell\n",
    "    $ hub install reading_pictures_writing_poems\n",
    "    ```\n",
    "\n",
    "    - 本模型还需要用到xception71_imagenet, ernie_gen_couplet, ernie_gen_poetry这3个模型\n",
    "    - 若您未安装这3个模型，代码运行时会自动帮您下载\n",
    "\n",
    "  - 如您安装时遇到问题，可参考：[零基础windows安装](../../../../docs/docs_ch/get_start/windows_quickstart.md)\n",
    "   | [零基础Linux安装](../../../../docs/docs_ch/get_start/linux_quickstart.md) | [零基础MacOS安装](../../../../docs/docs_ch/get_start/mac_quickstart.md)"
   ]
  },
  {
   "cell_type": "markdown",
   "id": "c80813a7",
   "metadata": {
    "id": "三-模型api预测"
   },
   "source": [
    "## 三、模型API预测\n",
    "\n",
    "- ### 1、命令行预测\n",
    "\n",
    "  - ```shell\n",
    "    $ hub run reading_pictures_writing_poems --input_image \"/PATH/TO/IMAGE\"\n",
    "    ```\n",
    "\n",
    "- ### 2、预测代码示例\n",
    "\n",
    "  - ```python\n",
    "    import paddlehub as hub\n",
    "\n",
    "    readingPicturesWritingPoems = hub.Module(name=\"reading_pictures_writing_poems\")\n",
    "    results = readingPicturesWritingPoems.WritingPoem(image=\"/PATH/TO/IMAGE\", use_gpu=False)\n",
    "\n",
    "    for result in results:\n",
    "        print(result)\n",
    "    ```\n",
    "\n",
    "- ### 3、API\n",
    "\n",
    "  - ```python\n",
    "    def WritingPoem(image, use_gpu=False):\n",
    "    ```\n",
    "\n",
    "     - 看图写诗预测接口，预测输入一张图像，输出一首古诗词\n",
    "     - **参数**\n",
    "         - image(str): 待检测的图片路径\n",
    "         - use_gpu (bool): 是否使用 GPU\n",
    "     - **返回**\n",
    "         - results (list\\[dict\\]): 识别结果的列表，列表中每一个元素为 dict，关键字有 image, poetry\n",
    "           - image: 为原输入图片的路径\n",
    "           - poetry: 字段为输出的古诗词"
   ]
  },
  {
   "cell_type": "markdown",
   "id": "3f013220",
   "metadata": {
    "id": "四-服务部署"
   },
   "source": [
    "## 四、服务部署\n",
    "\n",
    "- 本模型不支持hub serving"
   ]
  },
  {
   "cell_type": "markdown",
   "id": "93639bc6",
   "metadata": {
    "id": "五-更新历史"
   },
   "source": [
    "## 五、更新历史\n",
    "\n",
    "* 1.0.0\n",
    "\n",
    "  初始发布\n",
    "\n",
    "* 1.1.0\n",
    "\n",
    "  移除 Fluid API，更换分类模型\n",
    "\n",
    "  - ```shell\n",
    "    $ hub install porn_detection_lstm==1.1.0\n",
    "    ```"
   ]
  }
 ],
 "metadata": {
  "colab": {
   "name": "reading_pictures_writing_poems",
   "toc_visible": true
  },
  "kernelspec": {
   "display_name": "python3",
   "name": "python3"
  }
 },
 "nbformat": 4,
 "nbformat_minor": 5
}
