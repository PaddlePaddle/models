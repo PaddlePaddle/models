{
 "cells": [
  {
   "cell_type": "markdown",
   "id": "0e9d256f",
   "metadata": {
    "id": "faster_rcnn_resnet50_coco2017"
   },
   "source": [
    "# faster_rcnn_resnet50_coco2017\n",
    "\n",
    "|Module Name|faster_rcnn_resnet50_coco2017|\n",
    "| :--- | :---: |\n",
    "|Category|object detection|\n",
    "|Network|faster_rcnn|\n",
    "|Dataset|COCO2017|\n",
    "|Fine-tuning supported or not|No|\n",
    "|Module Size|131MB|\n",
    "|Latest update date|2021-03-15|\n",
    "|Data indicators|-|"
   ]
  },
  {
   "cell_type": "markdown",
   "id": "845e8d97",
   "metadata": {
    "id": "i-basic-information"
   },
   "source": [
    "## I.Basic Information\n",
    "\n",
    "- ### Application Effect Display\n",
    "  - Sample results：\n",
    "     <p align=\"center\">\n",
    "     <img src=\"https://user-images.githubusercontent.com/22424850/131504887-d024c7e5-fc09-4d6b-92b8-4d0c965949d0.jpg\" width=\"50%\" hspace=\"10\"/>\n",
    "     <br/>\n",
    "     </p>\n",
    "\n",
    "- ### Module Introduction\n",
    "\n",
    "  - Faster_RCNN is a two-stage detector, it consists of feature extraction, proposal, classification and refinement processes. This module is trained on COCO2017 dataset, and can be used for object detection."
   ]
  },
  {
   "cell_type": "markdown",
   "id": "3f78576a",
   "metadata": {
    "id": "ii-installation"
   },
   "source": [
    "## II.Installation\n",
    "\n",
    "- ### 1、Environmental Dependence\n",
    "\n",
    "  - paddlepaddle >= 1.6.2\n",
    "\n",
    "  - paddlehub >= 1.6.0  | [How to install PaddleHub](../../../../docs/docs_en/get_start/installation.rst)\n",
    "\n",
    "- ### 2、Installation\n",
    "\n",
    "  - ```shell\n",
    "    $ hub install faster_rcnn_resnet50_coco2017\n",
    "    ```\n",
    "  - In case of any problems during installation, please refer to: [Windows_Quickstart](../../../../docs/docs_en/get_start/windows_quickstart.md) | [Linux_Quickstart](../../../../docs/docs_en/get_start/linux_quickstart.md) | [Mac_Quickstart](../../../../docs/docs_en/get_start/mac_quickstart.md)"
   ]
  },
  {
   "cell_type": "markdown",
   "id": "445a1c8b",
   "metadata": {
    "id": "iii-module-api-prediction"
   },
   "source": [
    "## III.Module API Prediction\n",
    "\n",
    "- ### 1、Command line Prediction\n",
    "\n",
    "  - ```shell\n",
    "    $ hub run faster_rcnn_resnet50_coco2017 --input_path \"/PATH/TO/IMAGE\"\n",
    "    ```\n",
    "  - If you want to call the Hub module through the command line, please refer to: [PaddleHub Command Line Instruction](../../../../docs/docs_ch/tutorial/cmd_usage.rst)\n",
    "- ### 2、Prediction Code Example\n",
    "\n",
    "  - ```python\n",
    "    import paddlehub as hub\n",
    "    import cv2\n",
    "\n",
    "    object_detector = hub.Module(name=\"faster_rcnn_resnet50_coco2017\")\n",
    "    result = object_detector.object_detection(images=[cv2.imread('/PATH/TO/IMAGE')])\n",
    "    # or\n",
    "    # result = object_detector.object_detection(paths=['/PATH/TO/IMAGE'])\n",
    "    ```\n",
    "\n",
    "- ### 3、API\n",
    "\n",
    "  - ```python\n",
    "    def object_detection(paths=None,\n",
    "                         images=None,\n",
    "                         batch_size=1,\n",
    "                         use_gpu=False,\n",
    "                         output_dir='detection_result',\n",
    "                         score_thresh=0.5,\n",
    "                         visualization=True)\n",
    "    ```\n",
    "\n",
    "    - Detection API, detect positions of all objects in image\n",
    "\n",
    "    - **Parameters**\n",
    "\n",
    "      - paths (list[str]): image path;\n",
    "      - images (list\\[numpy.ndarray\\]): image data, ndarray.shape is in the format [H, W, C], BGR;\n",
    "      - batch_size (int): the size of batch;\n",
    "      - use_gpu (bool): use GPU or not; **set the CUDA_VISIBLE_DEVICES environment variable first if you are using GPU**\n",
    "      - output_dir (str): save path of images;\n",
    "      - score\\_thresh (float): confidence threshold；<br/>\n",
    "      - visualization (bool): Whether to save the results as picture files;\n",
    "\n",
    "      **NOTE:** choose one parameter to provide data from paths and images\n",
    "\n",
    "    - **Return**\n",
    "\n",
    "      - res (list\\[dict\\]): results\n",
    "        - data (list): detection results, each element in the list is dict\n",
    "          - confidence (float): the confidence of the result\n",
    "          - label (str): label\n",
    "          - left (int): the upper left corner x coordinate of the detection box\n",
    "          - top (int): the upper left corner y coordinate of the detection box\n",
    "          - right (int): the lower right corner x coordinate of the detection box\n",
    "          - bottom (int): the lower right corner y coordinate of the detection box\n",
    "        - save\\_path (str, optional): output path for saving results\n",
    "\n",
    "  - ```python\n",
    "    def save_inference_model(dirname)\n",
    "    ```\n",
    "    - Save model to specific path\n",
    "\n",
    "    - **Parameters**\n",
    "\n",
    "      - dirname: model save path"
   ]
  },
  {
   "cell_type": "markdown",
   "id": "2b6d3fb9",
   "metadata": {
    "id": "iv-server-deployment"
   },
   "source": [
    "## IV.Server Deployment\n",
    "\n",
    "- PaddleHub Serving can deploy an online service of object detection.\n",
    "\n",
    "- ### Step 1: Start PaddleHub Serving\n",
    "\n",
    "  - Run the startup command：\n",
    "  - ```shell\n",
    "    $ hub serving start -m faster_rcnn_resnet50_coco2017\n",
    "    ```\n",
    "\n",
    "  - The servitization API is now deployed and the default port number is 8866.\n",
    "\n",
    "  - **NOTE:**  If GPU is used for prediction, set CUDA_VISIBLE_DEVICES environment variable before the service, otherwise it need not be set.\n",
    "\n",
    "- ### Step 2: Send a predictive request\n",
    "\n",
    "  - With a configured server, use the following lines of code to send the prediction request and obtain the result\n",
    "\n",
    "  - ```python\n",
    "    import requests\n",
    "    import json\n",
    "    import cv2\n",
    "    import base64\n",
    "\n",
    "    def cv2_to_base64(image):\n",
    "      data = cv2.imencode('.jpg', image)[1]\n",
    "      return base64.b64encode(data.tostring()).decode('utf8')\n",
    "\n",
    "    # Send an HTTP request\n",
    "    data = {'images':[cv2_to_base64(cv2.imread(\"/PATH/TO/IMAGE\"))]}\n",
    "    headers = {\"Content-type\": \"application/json\"}\n",
    "    url = \"http://127.0.0.1:8866/predict/faster_rcnn_resnet50_coco2017\"\n",
    "    r = requests.post(url=url, headers=headers, data=json.dumps(data))\n",
    "\n",
    "    # print prediction results\n",
    "    print(r.json()[\"results\"])\n",
    "    ```"
   ]
  },
  {
   "cell_type": "markdown",
   "id": "fdafbf0b",
   "metadata": {
    "id": "v-release-note"
   },
   "source": [
    "## V.Release Note\n",
    "\n",
    "* 1.1.0\n",
    "\n",
    "  First release\n",
    "\n",
    "* 1.1.1\n",
    "\n",
    "  Fix the problem of reading numpy\n",
    "\n",
    "* 1.2.0\n",
    "\n",
    "  Remove fluid api\n",
    "\n",
    "  - ```shell\n",
    "    $ hub install faster_rcnn_resnet50_coco2017==1.2.0\n",
    "    ```"
   ]
  }
 ],
 "metadata": {
  "colab": {
   "name": "faster_rcnn_resnet50_coco2017",
   "toc_visible": true
  },
  "kernelspec": {
   "display_name": "python3",
   "name": "python3"
  }
 },
 "nbformat": 4,
 "nbformat_minor": 5
}
