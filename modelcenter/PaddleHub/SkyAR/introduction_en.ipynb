{
 "cells": [
  {
   "cell_type": "markdown",
   "id": "dc74b4a6",
   "metadata": {
    "id": "skyar"
   },
   "source": [
    "# SkyAR\n",
    "\n",
    "|Module Name|SkyAR|\n",
    "| :--- | :---: |\n",
    "|Category|Video editing|\n",
    "|Network|UNet|\n",
    "|Dataset|-|\n",
    "|Fine-tuning supported or not|No|\n",
    "|Module Size|206MB|\n",
    "|Data indicators|-|\n",
    "|Latest update date|2021-02-26|"
   ]
  },
  {
   "cell_type": "markdown",
   "id": "a3cdfeaa",
   "metadata": {
    "id": "i-basic-information"
   },
   "source": [
    "## I. Basic Information\n",
    "\n",
    "- ### Application Effect Display\n",
    "\n",
    "    - Sample results:\n",
    "        * Input video:\n",
    "\n",
    "            ![Input video](https://img-blog.csdnimg.cn/20210126142046572.gif)\n",
    "\n",
    "        * Jupiter:\n",
    "\n",
    "            ![Jupiter](https://img-blog.csdnimg.cn/20210125211435619.gif)\n",
    "        * Rainy day:\n",
    "\n",
    "            ![Rainy day](https://img-blog.csdnimg.cn/2021012521152492.gif)\n",
    "        * Galaxy:\n",
    "\n",
    "            ![Galaxy](https://img-blog.csdnimg.cn/20210125211523491.gif)\n",
    "        * Ninth area spacecraft:\n",
    "\n",
    "            ![Ninth area spacecraft](https://img-blog.csdnimg.cn/20210125211520955.gif)\n",
    "\n",
    "        * Input video:\n",
    "\n",
    "            ![Input video](https://img-blog.csdnimg.cn/20210126142038716.gif)\n",
    "        * Floating castle:\n",
    "\n",
    "            ![Floating castle](https://img-blog.csdnimg.cn/20210125211514997.gif)\n",
    "        * Thunder and lightning:\n",
    "\n",
    "            ![Thunder and lightning](https://img-blog.csdnimg.cn/20210125211433591.gif)\n",
    "\n",
    "        * Super moon:\n",
    "\n",
    "            ![Super moon](https://img-blog.csdnimg.cn/20210125211417524.gif)\n",
    "\n",
    "- ### Module Introduction\n",
    "\n",
    "    - SkyAR is based on [Castle in the Sky: Dynamic Sky Replacement and Harmonization in Videos](https://arxiv.org/abs/2010.11800). It mainly consists of three parts: sky matting network, motion estimation and image fusion.\n",
    "\n",
    "    - For more information, please refer to:[SkyAR](https://github.com/jiupinjia/SkyAR)"
   ]
  },
  {
   "cell_type": "markdown",
   "id": "e55da1fe",
   "metadata": {
    "id": "ii-installation"
   },
   "source": [
    "## II. Installation\n",
    "\n",
    "- ### 1、Environmental Dependence\n",
    "\n",
    "    - paddlepaddle >= 2.0.0\n",
    "\n",
    "    - paddlehub >= 2.0.0\n",
    "\n",
    "- ### 2、Installation\n",
    "\n",
    "    - ```shell\n",
    "      $hub install SkyAR\n",
    "      ```\n",
    "    - In case of any problems during installation, please refer to:[Windows_Quickstart](../../../../docs/docs_en/get_start/windows_quickstart.md)\n",
    "    | [Linux_Quickstart](../../../../docs/docs_en/get_start/linux_quickstart.md) | [Mac_Quickstart](../../../../docs/docs_en/get_start/mac_quickstart.md)"
   ]
  },
  {
   "cell_type": "markdown",
   "id": "e782ef84",
   "metadata": {
    "id": "iii-module-api-prediction"
   },
   "source": [
    "## III. Module API Prediction\n",
    "\n",
    "- ### 1、Prediction Code Example\n",
    "\n",
    "    ```python\n",
    "    import paddlehub as hub\n",
    "\n",
    "    model = hub.Module(name='SkyAR')\n",
    "\n",
    "    model.MagicSky(\n",
    "        video_path=[path to input video path],\n",
    "        save_path=[path to save video path]\n",
    "    )\n",
    "    ```\n",
    "- ### 2、API\n",
    "\n",
    "    ```python\n",
    "    def MagicSky(\n",
    "            video_path, save_path, config='jupiter',\n",
    "            is_rainy=False, preview_frames_num=0, is_video_sky=False, is_show=False,\n",
    "            skybox_img=None, skybox_video=None, rain_cap_path=None,\n",
    "            halo_effect=True, auto_light_matching=False,\n",
    "            relighting_factor=0.8, recoloring_factor=0.5, skybox_center_crop=0.5\n",
    "        )\n",
    "    ```\n",
    "\n",
    "    - **Parameter**\n",
    "\n",
    "        * video_path(str)：input video path.\n",
    "        * save_path(str)：save videp path.\n",
    "        * config(str): SkyBox configuration, all preset configurations are as follows:  `['cloudy', 'district9ship', 'floatingcastle', 'galaxy', 'jupiter',\n",
    "            'rainy', 'sunny', 'sunset', 'supermoon', 'thunderstorm'\n",
    "        ]`, if you use a custom SkyBox, please set it to None.\n",
    "\n",
    "        * skybox_img(str)：custom SkyBox image path\n",
    "        * skybox_video(str)：custom SkyBox video path\n",
    "        * is_video_sky(bool)：customize whether SkyBox is a video\n",
    "        * rain_cap_path(str)：custom video path with rain\n",
    "        * is_rainy(bool): whether the sky is raining\n",
    "        * halo_effect(bool)：whether to open halo effect\n",
    "        * auto_light_matching(bool)：whether to enable automatic brightness matching\n",
    "        * relighting_factor(float): relighting factor\n",
    "        * recoloring_factor(float): recoloring factor\n",
    "        * skybox_center_crop(float)：skyBox center crop factor\n",
    "        * preview_frames_num(int)：set the number of preview frames\n",
    "        * is_show(bool)：whether to preview graphically"
   ]
  },
  {
   "cell_type": "markdown",
   "id": "bd348ff7",
   "metadata": {
    "id": "iv-release-note"
   },
   "source": [
    "## IV. Release Note\n",
    "\n",
    "- 1.0.0\n",
    "\n",
    "  First release"
   ]
  }
 ],
 "metadata": {
  "colab": {
   "name": "SkyAR",
   "toc_visible": true
  },
  "kernelspec": {
   "display_name": "python3",
   "name": "python3"
  }
 },
 "nbformat": 4,
 "nbformat_minor": 5
}
