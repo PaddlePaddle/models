{
 "cells": [
  {
   "cell_type": "markdown",
   "id": "2c311dc6",
   "metadata": {
    "id": "skyar"
   },
   "source": [
    "# SkyAR\n",
    "\n",
    "|模型名称|SkyAR|\n",
    "| :--- | :---: |\n",
    "|类别|视频-视频编辑|\n",
    "|网络|UNet|\n",
    "|数据集|-|\n",
    "|是否支持Fine-tuning|否|\n",
    "|模型大小|206MB|\n",
    "|指标|-|\n",
    "|最新更新日期|2021-02-26|"
   ]
  },
  {
   "cell_type": "markdown",
   "id": "45bc0ce3",
   "metadata": {
    "id": "一-模型基本信息"
   },
   "source": [
    "## 一、模型基本信息\n",
    "\n",
    "- ### 应用效果展示\n",
    "\n",
    "    - 样例结果示例：\n",
    "        * 原始视频：\n",
    "\n",
    "            ![原始视频](https://img-blog.csdnimg.cn/20210126142046572.gif)\n",
    "\n",
    "        * 木星：\n",
    "\n",
    "            ![木星](https://img-blog.csdnimg.cn/20210125211435619.gif)\n",
    "        * 雨天：\n",
    "\n",
    "            ![雨天](https://img-blog.csdnimg.cn/2021012521152492.gif)\n",
    "        * 银河：\n",
    "\n",
    "            ![银河](https://img-blog.csdnimg.cn/20210125211523491.gif)\n",
    "        * 第九区飞船：\n",
    "\n",
    "            ![第九区飞船](https://img-blog.csdnimg.cn/20210125211520955.gif)\n",
    "        * 原始视频：\n",
    "\n",
    "            ![原始视频](https://img-blog.csdnimg.cn/20210126142038716.gif)\n",
    "        * 漂浮城堡：\n",
    "\n",
    "            ![漂浮城堡](https://img-blog.csdnimg.cn/20210125211514997.gif)\n",
    "        * 电闪雷鸣：\n",
    "\n",
    "            ![电闪雷鸣](https://img-blog.csdnimg.cn/20210125211433591.gif)\n",
    "        * 超级月亮：\n",
    "\n",
    "            ![超级月亮](https://img-blog.csdnimg.cn/20210125211417524.gif)\n",
    "\n",
    "- ### 模型介绍\n",
    "\n",
    "    - SkyAR是一种用于视频中天空置换与协调的视觉方法，主要由三个核心组成：天空抠图网络、运动估计和图像融合。\n",
    "\n",
    "    - 更多详情请参考：[SkyAR](https://github.com/jiupinjia/SkyAR)\n",
    "\n",
    "    - 参考论文：Zhengxia Zou. [Castle in the Sky: Dynamic Sky Replacement and Harmonization in Videos](https://arxiv.org/abs/2010.11800). CoRR, abs/2010.118003, 2020."
   ]
  },
  {
   "cell_type": "markdown",
   "id": "670b4e85",
   "metadata": {
    "id": "二-安装"
   },
   "source": [
    "## 二、安装\n",
    "\n",
    "- ### 1、环境依赖\n",
    "\n",
    "    - paddlepaddle >= 2.0.0\n",
    "\n",
    "    - paddlehub >= 2.0.0\n",
    "\n",
    "- ### 2、安装\n",
    "\n",
    "    ```shell\n",
    "    $hub install SkyAR\n",
    "    ```\n",
    "    -  如您安装时遇到问题，可参考：[零基础windows安装](../../../../docs/docs_ch/get_start/windows_quickstart.md)\n",
    "      | [零基础Linux安装](../../../../docs/docs_ch/get_start/linux_quickstart.md) | [零基础MacOS安装](../../../../docs/docs_ch/get_start/mac_quickstart.md)"
   ]
  },
  {
   "cell_type": "markdown",
   "id": "e62872ef",
   "metadata": {
    "id": "三-模型api预测"
   },
   "source": [
    "## 三、模型API预测\n",
    "\n",
    "- ### 1、预测代码示例\n",
    "\n",
    "    ```python\n",
    "    import paddlehub as hub\n",
    "\n",
    "    model = hub.Module(name='SkyAR')\n",
    "\n",
    "    model.MagicSky(\n",
    "        video_path=\"/PATH/TO/VIDEO\",\n",
    "        save_path=\"/PATH/TO/SAVE/RESULT\"\n",
    "    )\n",
    "    ```\n",
    "- ### 2、API\n",
    "\n",
    "    ```python\n",
    "    def MagicSky(\n",
    "            video_path, save_path, config='jupiter',\n",
    "            is_rainy=False, preview_frames_num=0, is_video_sky=False, is_show=False,\n",
    "            skybox_img=None, skybox_video=None, rain_cap_path=None,\n",
    "            halo_effect=True, auto_light_matching=False,\n",
    "            relighting_factor=0.8, recoloring_factor=0.5, skybox_center_crop=0.5\n",
    "        )\n",
    "    ```\n",
    "\n",
    "    - **参数**\n",
    "\n",
    "        * video_path(str)：输入视频路径\n",
    "        * save_path(str)：视频保存路径\n",
    "        * config(str): 预设 SkyBox 配置，所有预设配置如下，如果使用自定义 SkyBox，请设置为 None：\n",
    "        ```\n",
    "        [\n",
    "            'cloudy', 'district9ship', 'floatingcastle', 'galaxy', 'jupiter',\n",
    "            'rainy', 'sunny', 'sunset', 'supermoon', 'thunderstorm'\n",
    "        ]\n",
    "        ```\n",
    "        * skybox_img(str)：自定义的 SkyBox 图像路径\n",
    "        * skybox_video(str)：自定义的 SkyBox 视频路径\n",
    "        * is_video_sky(bool)：自定义 SkyBox 是否为视频\n",
    "        * rain_cap_path(str)：自定义下雨效果视频路径\n",
    "        * is_rainy(bool): 天空是否下雨\n",
    "        * halo_effect(bool)：是否开启 halo effect\n",
    "        * auto_light_matching(bool)：是否开启自动亮度匹配\n",
    "        * relighting_factor(float): Relighting factor\n",
    "        * recoloring_factor(float): Recoloring factor\n",
    "        * skybox_center_crop(float)：SkyBox center crop factor\n",
    "        * preview_frames_num(int)：设置预览帧数量，即只处理开头这几帧，设为 0，则为全部处理\n",
    "        * is_show(bool)：是否图形化预览"
   ]
  },
  {
   "cell_type": "markdown",
   "id": "93a13b00",
   "metadata": {
    "id": "四-更新历史"
   },
   "source": [
    "## 四、更新历史\n",
    "\n",
    "* 1.0.0\n",
    "\n",
    "  初始发布"
   ]
  }
 ],
 "metadata": {
  "colab": {
   "name": "SkyAR",
   "toc_visible": true
  },
  "kernelspec": {
   "display_name": "python3",
   "name": "python3"
  }
 },
 "nbformat": 4,
 "nbformat_minor": 5
}
