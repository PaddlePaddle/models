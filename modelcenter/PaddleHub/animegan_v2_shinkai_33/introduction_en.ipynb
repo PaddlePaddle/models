{
 "cells": [
  {
   "cell_type": "markdown",
   "id": "e01d39cc",
   "metadata": {
    "id": "animegan_v2_shinkai_33"
   },
   "source": [
    "# animegan_v2_shinkai_33\n",
    "\n",
    "|Module Name|animegan_v2_shinkai_33|\n",
    "| :--- | :---: |\n",
    "|Category|image generation|\n",
    "|Network|AnimeGAN|\n",
    "|Dataset|Your Name, Weathering with you|\n",
    "|Fine-tuning supported or not|No|\n",
    "|Module Size|9.4MB|\n",
    "|Latest update date|2021-07-30|\n",
    "|Data indicators|-|"
   ]
  },
  {
   "cell_type": "markdown",
   "id": "7c253b1b",
   "metadata": {
    "id": "i-basic-information"
   },
   "source": [
    "## I.Basic Information\n",
    "\n",
    "- ### Application Effect Display\n",
    "  - Sample results：\n",
    "    <p align=\"center\">\n",
    "    <img src=\"https://ai-studio-static-online.cdn.bcebos.com/bd002c4bb6a7427daf26988770bb18648b7d8d2bfd6746bfb9a429db4867727f\" width=\"450\" height=\"300\" hspace=\"10\"/>\n",
    "    <br/>\n",
    "    Input image\n",
    "    <br/>\n",
    "    <img src=\"https://ai-studio-static-online.cdn.bcebos.com/776a84a0d97c452bbbe479592fbb8f5c6fe9c45f3b7e41fd8b7da80bf52ee668\" width=\"450\" height=\"300\" hspace=\"10\"/>\n",
    "    <br/>\n",
    "    Output image\n",
    "    <br/>\n",
    "    </p>\n",
    "\n",
    "- ### Module Introduction\n",
    "\n",
    "  - AnimeGAN V2 is a style transfer model, which can transfer a image style to Shinkai carton style. For more information, please refer to [AnimeGAN V2 Project](https://github.com/TachibanaYoshino/AnimeGANv2)."
   ]
  },
  {
   "cell_type": "markdown",
   "id": "ed522f86",
   "metadata": {
    "id": "ii-installation"
   },
   "source": [
    "## II.Installation\n",
    "\n",
    "- ### 1、Environmental Dependence\n",
    "\n",
    "  - paddlepaddle >= 1.8.0\n",
    "\n",
    "  - paddlehub >= 1.8.0  | [How to install PaddleHub](../../../../docs/docs_en/get_start/installation.rst)\n",
    "\n",
    "- ### 2、Installation\n",
    "\n",
    "  - ```shell\n",
    "    $ hub install animegan_v2_shinkai_33\n",
    "    ```\n",
    "  - In case of any problems during installation, please refer to: [Windows_Quickstart](../../../../docs/docs_en/get_start/windows_quickstart.md) | [Linux_Quickstart](../../../../docs/docs_en/get_start/linux_quickstart.md) | [Mac_Quickstart](../../../../docs/docs_en/get_start/mac_quickstart.md)"
   ]
  },
  {
   "cell_type": "markdown",
   "id": "26eec371",
   "metadata": {
    "id": "iii-module-api-prediction"
   },
   "source": [
    "## III.Module API Prediction\n",
    "\n",
    "- ### 1、Prediction Code Example\n",
    "\n",
    "  - ```python\n",
    "    import paddlehub as hub\n",
    "    import cv2\n",
    "\n",
    "    model = hub.Module(name=\"animegan_v2_shinkai_33\")\n",
    "    result = model.style_transfer(images=[cv2.imread('/PATH/TO/IMAGE')])\n",
    "    # or\n",
    "    # result = model.style_transfer(paths=['/PATH/TO/IMAGE'])\n",
    "    ```\n",
    "\n",
    "- ### 2、API\n",
    "\n",
    "  - ```python\n",
    "    def style_transfer(images=None,\n",
    "                       paths=None,\n",
    "                       output_dir='output',\n",
    "                       visualization=False,\n",
    "                       min_size=32,\n",
    "                       max_size=1024)\n",
    "    ```\n",
    "\n",
    "    - Style transfer API.\n",
    "\n",
    "    - **Parameters**\n",
    "\n",
    "      - images (list\\[numpy.ndarray\\]): image data, ndarray.shape is in the format [H, W, C], BGR;\n",
    "      - paths (list[str]): image path;\n",
    "      - output_dir (str): save path of images;\n",
    "      - visualization (bool): Whether to save the results as picture files;\n",
    "      - min\\_size (int): min size of image shape，default is 32；\n",
    "      - max\\_size (int): max size of image shape，default is 1024.\n",
    "\n",
    "      **NOTE:** choose one parameter to provide data from paths and images\n",
    "\n",
    "    - **Return**\n",
    "      - res (list\\[numpy.ndarray\\]): result list，ndarray.shape is \\[H, W, C\\]"
   ]
  },
  {
   "cell_type": "markdown",
   "id": "1d454b82",
   "metadata": {
    "id": "iv-server-deployment"
   },
   "source": [
    "## IV.Server Deployment\n",
    "\n",
    "- PaddleHub Serving can deploy an online service of style transfer.\n",
    "\n",
    "- ### Step 1: Start PaddleHub Serving\n",
    "\n",
    "  - Run the startup command：\n",
    "  - ```shell\n",
    "    $ hub serving start -m animegan_v2_shinkai_33\n",
    "    ```\n",
    "\n",
    "  - The servitization API is now deployed and the default port number is 8866.\n",
    "\n",
    "  - **NOTE:**  If GPU is used for prediction, set CUDA_VISIBLE_DEVICES environment variable before the service, otherwise it need not be set.\n",
    "\n",
    "- ### Step 2: Send a predictive request\n",
    "\n",
    "  - With a configured server, use the following lines of code to send the prediction request and obtain the result\n",
    "\n",
    "  - ```python\n",
    "    import requests\n",
    "    import json\n",
    "    import cv2\n",
    "    import base64\n",
    "\n",
    "    def cv2_to_base64(image):\n",
    "      data = cv2.imencode('.jpg', image)[1]\n",
    "      return base64.b64encode(data.tostring()).decode('utf8')\n",
    "\n",
    "    # Send an HTTP request\n",
    "    data = {'images':[cv2_to_base64(cv2.imread(\"/PATH/TO/IMAGE\"))]}\n",
    "    headers = {\"Content-type\": \"application/json\"}\n",
    "    url = \"http://127.0.0.1:8866/predict/animegan_v2_shinkai_33\"\n",
    "    r = requests.post(url=url, headers=headers, data=json.dumps(data))\n",
    "\n",
    "    # print prediction results\n",
    "    print(r.json()[\"results\"])\n",
    "    ```"
   ]
  },
  {
   "cell_type": "markdown",
   "id": "411a50ae",
   "metadata": {
    "id": "v-release-note"
   },
   "source": [
    "## V.Release Note\n",
    "\n",
    "* 1.0.0\n",
    "\n",
    "  First release\n",
    "\n",
    "* 1.1.0\n",
    "\n",
    "  Remove Fluid API\n",
    "\n",
    "  - ```shell\n",
    "    $ hub install animegan_v2_shinkai_33==1.1.0\n",
    "    ```"
   ]
  }
 ],
 "metadata": {
  "colab": {
   "name": "animegan_v2_shinkai_33",
   "toc_visible": true
  },
  "kernelspec": {
   "display_name": "python3",
   "name": "python3"
  }
 },
 "nbformat": 4,
 "nbformat_minor": 5
}
