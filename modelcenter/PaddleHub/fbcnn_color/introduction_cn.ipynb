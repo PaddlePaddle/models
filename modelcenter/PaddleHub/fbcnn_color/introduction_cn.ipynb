{
 "cells": [
  {
   "cell_type": "markdown",
   "id": "fb253cf0",
   "metadata": {
    "id": "fbcnn_color"
   },
   "source": [
    "# fbcnn_color\n",
    "\n",
    "|模型名称|fbcnn_color|\n",
    "| :--- | :---: |\n",
    "|类别|图像-图像编辑|\n",
    "|网络|FBCNN|\n",
    "|数据集|-|\n",
    "|是否支持Fine-tuning|否|\n",
    "|模型大小|288MB|\n",
    "|指标|-|\n",
    "|最新更新日期|2022-10-08|"
   ]
  },
  {
   "cell_type": "markdown",
   "id": "3940d3b7",
   "metadata": {
    "id": "一-模型基本信息"
   },
   "source": [
    "## 一、模型基本信息\n",
    "\n",
    "- ### 应用效果展示\n",
    "\n",
    "  - 网络结构：\n",
    "      <p align=\"center\">\n",
    "      <img src=\"https://ai-studio-static-online.cdn.bcebos.com/08afa15df2e54adeb39587cd7aaa9b60fc82d349bda34f51993d6304776fd374\" hspace=\"10\"/> <br/>\n",
    "      </p>\n",
    "\n",
    "  - 样例结果示例：\n",
    "      <p align=\"center\">\n",
    "      <img src=\"https://ai-studio-static-online.cdn.bcebos.com/f486da7c9d5e4cac8b7ff252b5a4c17633f44f28745c4e489f31e6b78caea005\" hspace=\"10\"/>\n",
    "      </p>\n",
    "\n",
    "- ### 模型介绍\n",
    "\n",
    "  - FBCNN 是一个基于卷积神经网络的 JPEG 图像伪影去除模型，它可以预测可调整的质量因子，以控制伪影重新移动和细节保留之间的权衡。"
   ]
  },
  {
   "cell_type": "markdown",
   "id": "ea899cb7",
   "metadata": {
    "id": "二-安装"
   },
   "source": [
    "## 二、安装\n",
    "\n",
    "- ### 1、环境依赖\n",
    "\n",
    "  - paddlepaddle >= 2.0.0\n",
    "\n",
    "  - paddlehub >= 2.0.0\n",
    "\n",
    "- ### 2.安装\n",
    "\n",
    "    - ```shell\n",
    "      $ hub install fbcnn_color\n",
    "      ```\n",
    "    -  如您安装时遇到问题，可参考：[零基础windows安装](../../../../docs/docs_ch/get_start/windows_quickstart.md)\n",
    "      | [零基础Linux安装](../../../../docs/docs_ch/get_start/linux_quickstart.md) | [零基础MacOS安装](../../../../docs/docs_ch/get_start/mac_quickstart.md)"
   ]
  },
  {
   "cell_type": "markdown",
   "id": "ff3056e8",
   "metadata": {
    "id": "三-模型api预测"
   },
   "source": [
    "## 三、模型API预测\n",
    "\n",
    "  - ### 1、命令行预测\n",
    "\n",
    "    ```shell\n",
    "    $ hub run fbcnn_color \\\n",
    "        --input_path \"/PATH/TO/IMAGE\" \\\n",
    "        --quality_factor -1 \\\n",
    "        --output_dir \"fbcnn_color_output\"\n",
    "    ```\n",
    "\n",
    "  - ### 2、预测代码示例\n",
    "\n",
    "    ```python\n",
    "    import paddlehub as hub\n",
    "    import cv2\n",
    "\n",
    "    module = hub.Module(name=\"fbcnn_color\")\n",
    "    result = module.artifacts_removal(\n",
    "        image=cv2.imread('/PATH/TO/IMAGE'),\n",
    "        quality_factor=None,\n",
    "        visualization=True,\n",
    "        output_dir='fbcnn_color_output'\n",
    "    )\n",
    "    ```\n",
    "\n",
    "  - ### 3、API\n",
    "\n",
    "    ```python\n",
    "    def artifacts_removal(\n",
    "        image: Union[str, numpy.ndarray],\n",
    "        quality_factor: float = None,\n",
    "        visualization: bool = True,\n",
    "        output_dir: str = \"fbcnn_color_output\"\n",
    "    ) -> numpy.ndarray\n",
    "    ```\n",
    "\n",
    "    - 伪影去除 API\n",
    "\n",
    "    - **参数**\n",
    "\n",
    "      * image (Union\\[str, numpy.ndarray\\]): 图片数据，ndarray.shape 为 \\[H, W, C\\]，BGR格式；\n",
    "      * quality_factor (float): 自定义质量因子（0.0 - 1.0），默认 None 为自适应；\n",
    "      * visualization (bool): 是否将识别结果保存为图片文件；\n",
    "      * output\\_dir (str): 保存处理结果的文件目录。\n",
    "\n",
    "    - **返回**\n",
    "\n",
    "      * res (numpy.ndarray): 图像伪影去除结果 (BGR)；"
   ]
  },
  {
   "cell_type": "markdown",
   "id": "9dc2e80d",
   "metadata": {
    "id": "四-服务部署"
   },
   "source": [
    "## 四、服务部署\n",
    "\n",
    "- PaddleHub Serving 可以部署一个图像伪影去除的在线服务。\n",
    "\n",
    "- ### 第一步：启动PaddleHub Serving\n",
    "\n",
    "  - 运行启动命令：\n",
    "\n",
    "    ```shell\n",
    "     $ hub serving start -m fbcnn_color\n",
    "    ```\n",
    "\n",
    "    - 这样就完成了一个图像伪影去除服务化API的部署，默认端口号为8866。\n",
    "\n",
    "- ### 第二步：发送预测请求\n",
    "\n",
    "  - 配置好服务端，以下数行代码即可实现发送预测请求，获取预测结果\n",
    "\n",
    "    ```python\n",
    "    import requests\n",
    "    import json\n",
    "    import base64\n",
    "\n",
    "    import cv2\n",
    "    import numpy as np\n",
    "\n",
    "    def cv2_to_base64(image):\n",
    "        data = cv2.imencode('.jpg', image)[1]\n",
    "        return base64.b64encode(data.tobytes()).decode('utf8')\n",
    "\n",
    "    def base64_to_cv2(b64str):\n",
    "        data = base64.b64decode(b64str.encode('utf8'))\n",
    "        data = np.frombuffer(data, np.uint8)\n",
    "        data = cv2.imdecode(data, cv2.IMREAD_COLOR)\n",
    "        return data\n",
    "\n",
    "    # 发送HTTP请求\n",
    "    org_im = cv2.imread('/PATH/TO/IMAGE')\n",
    "    data = {\n",
    "        'image': cv2_to_base64(org_im)\n",
    "    }\n",
    "    headers = {\"Content-type\": \"application/json\"}\n",
    "    url = \"http://127.0.0.1:8866/predict/fbcnn_color\"\n",
    "    r = requests.post(url=url, headers=headers, data=json.dumps(data))\n",
    "\n",
    "    # 结果转换\n",
    "    results = r.json()['results']\n",
    "    results = base64_to_cv2(results)\n",
    "\n",
    "    # 保存结果\n",
    "    cv2.imwrite('output.jpg', results)\n",
    "    ```"
   ]
  },
  {
   "cell_type": "markdown",
   "id": "811ba3a1",
   "metadata": {
    "id": "五-参考资料"
   },
   "source": [
    "## 五、参考资料\n",
    "\n",
    "* 论文：[Towards Flexible Blind JPEG Artifacts Removal](https://arxiv.org/abs/2109.14573)\n",
    "\n",
    "* 官方实现：[jiaxi-jiang/FBCNN](https://github.com/jiaxi-jiang/FBCNN)"
   ]
  },
  {
   "cell_type": "markdown",
   "id": "5940e307",
   "metadata": {
    "id": "六-更新历史"
   },
   "source": [
    "## 六、更新历史\n",
    "\n",
    "* 1.0.0\n",
    "\n",
    "  初始发布\n",
    "\n",
    "  ```shell\n",
    "  $ hub install fbcnn_color==1.0.0\n",
    "  ```"
   ]
  }
 ],
 "metadata": {
  "colab": {
   "name": "fbcnn_color",
   "toc_visible": true
  },
  "kernelspec": {
   "display_name": "python3",
   "name": "python3"
  }
 },
 "nbformat": 4,
 "nbformat_minor": 5
}
