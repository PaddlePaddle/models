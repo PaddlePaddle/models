{
 "cells": [
  {
   "cell_type": "markdown",
   "id": "b002b0ec",
   "metadata": {
    "id": "driverstatusrecognition"
   },
   "source": [
    "# DriverStatusRecognition\n",
    "\n",
    "|模型名称|DriverStatusRecognition|\n",
    "| :--- | :---: |\n",
    "|类别|图像-图像分类|\n",
    "|网络|MobileNetV3_small_ssld|\n",
    "|数据集|分心司机检测数据集|\n",
    "|是否支持Fine-tuning|否|\n",
    "|模型大小|6MB|\n",
    "|最新更新日期|-|\n",
    "|数据指标|-|"
   ]
  },
  {
   "cell_type": "markdown",
   "id": "3c39ee0e",
   "metadata": {
    "id": "一-模型基本信息"
   },
   "source": [
    "## 一、模型基本信息\n",
    "\n",
    "- ### 模型介绍\n",
    "\n",
    "  - 驾驶员状态识别（DriverStatusRecognition），该模型可挖掘出人在疲劳状态下的表情特征，然后将这些定性的表情特征进行量化，提取出面部特征点及特征指标作为判断依据，再结合实验数据总结出基于这些参数的识别方法，最后输入获取到的状态数据进行识别和判断。该PaddleHub Module支持API预测及命令行预测。"
   ]
  },
  {
   "cell_type": "markdown",
   "id": "f8b5f03a",
   "metadata": {
    "id": "二-安装"
   },
   "source": [
    "## 二、安装\n",
    "\n",
    "- ### 1、环境依赖\n",
    "\n",
    "  - paddlepaddle >= 2.0.0\n",
    "\n",
    "  - paddlehub >= 2.0.0  | [如何安装paddlehub](../../../../docs/docs_ch/get_start/installation.rst)\n",
    "\n",
    "  - paddlex >= 1.3.7\n",
    "\n",
    "- ### 2、安装\n",
    "\n",
    "  - ```shell\n",
    "    $ hub install DriverStatusRecognition\n",
    "    ```\n",
    "  - 如您安装时遇到问题，可参考：[零基础windows安装](../../../../docs/docs_ch/get_start/windows_quickstart.md)\n",
    " | [零基础Linux安装](../../../../docs/docs_ch/get_start/linux_quickstart.md) | [零基础MacOS安装](../../../../docs/docs_ch/get_start/mac_quickstart.md)\n",
    "\n",
    "- ### 3、在线体验\n",
    "  [AI Studio 快速体验](https://aistudio.baidu.com/aistudio/projectdetail/1649513)"
   ]
  },
  {
   "cell_type": "markdown",
   "id": "88883b78",
   "metadata": {
    "id": "三-模型api预测"
   },
   "source": [
    "## 三、模型API预测\n",
    "\n",
    "- ### 1、命令行预测\n",
    "\n",
    "  - ```shell\n",
    "    $ hub run DriverStatusRecognition --input_path /PATH/TO/IMAGE\n",
    "    ```\n",
    "  - 通过命令行方式实现图像分类模型的调用，更多请见 [PaddleHub命令行指令](../../../../docs/docs_ch/tutorial/cmd_usage.rst)\n",
    "\n",
    "- ### 2、预测代码示例\n",
    "\n",
    "  - ```python\n",
    "    import paddlehub as hub\n",
    "    import cv2\n",
    "\n",
    "    classifier = hub.Module(name=\"DriverStatusRecognition\")\n",
    "    images = [cv2.imread('/PATH/TO/IMAGE')]\n",
    "    results = classifier.predict(images=images)\n",
    "    for result in results:\n",
    "        print(result)\n",
    "    ```\n",
    "\n",
    "- ### 3、API\n",
    "\n",
    "  - ```python\n",
    "    def predict(images)\n",
    "    ```\n",
    "    - 分类接口API。\n",
    "    - **参数**\n",
    "      - images：list类型，待检测的图像。\n",
    "\n",
    "    - **返回**\n",
    "      - result：list类型，每个元素为对应输入图片的预测结果。"
   ]
  },
  {
   "cell_type": "markdown",
   "id": "70e286a0",
   "metadata": {
    "id": "四-更新历史"
   },
   "source": [
    "## 四、更新历史\n",
    "\n",
    "* 1.0.0\n",
    "\n",
    "  初始发布\n",
    "\n",
    "  - ```shell\n",
    "    $ hub install DriverStatusRecognition==1.0.0\n",
    "    ```"
   ]
  }
 ],
 "metadata": {
  "colab": {
   "name": "DriverStatusRecognition",
   "toc_visible": true
  },
  "kernelspec": {
   "display_name": "python3",
   "name": "python3"
  }
 },
 "nbformat": 4,
 "nbformat_minor": 5
}
