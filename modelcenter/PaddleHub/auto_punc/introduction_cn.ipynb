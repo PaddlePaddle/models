{
 "cells": [
  {
   "cell_type": "markdown",
   "id": "b6e8633b",
   "metadata": {
    "id": "auto_punc"
   },
   "source": [
    "# auto_punc\n",
    "\n",
    "|模型名称|auto_punc|\n",
    "| :--- | :---: |\n",
    "|类别|文本-标点恢复|\n",
    "|网络|Ernie-1.0|\n",
    "|数据集|WuDaoCorpora 2.0|\n",
    "|是否支持Fine-tuning|否|\n",
    "|模型大小|568MB|\n",
    "|最新更新日期|2021-12-24|\n",
    "|数据指标|-|"
   ]
  },
  {
   "cell_type": "markdown",
   "id": "00d868c1",
   "metadata": {
    "id": "一-模型基本信息"
   },
   "source": [
    "## 一、模型基本信息"
   ]
  },
  {
   "cell_type": "markdown",
   "id": "6083af4e",
   "metadata": {
    "id": "模型介绍"
   },
   "source": [
    "### 模型介绍\n",
    "\n",
    "Ernie是百度提出的基于知识增强的持续学习语义理解模型，该模型将大数据预训练与多源丰富知识相结合，通过持续学习技术，不断吸收海量文本数据中词汇、结构、语义等方面的知识，实现模型效果不断进化。\n",
    "\n",
    "[\"悟道\"文本数据集](https://ks3-cn-beijing.ksyun.com/resources/WuDaoCorpora/WuDaoCorpora__A_Super_Large_scale_Chinese_Corporafor_Pre_training_Language_Models.pdf)\n",
    "采用20多种规则从100TB原始网页数据中清洗得出最终数据集，注重隐私数据信息的去除，源头上避免GPT-3存在的隐私泄露风险；包含教育、科技等50+个行业数据标签，可以支持多领域预训练模型的训练。\n",
    "- 数据总量：3TB\n",
    "- 数据格式：json\n",
    "- 开源数量：200GB\n",
    "- 数据集下载：https://resource.wudaoai.cn/\n",
    "- 日期：2021年12月23日\n",
    "\n",
    "auto_punc采用了Ernie1.0预训练模型，在[WuDaoCorpora 2.0](https://resource.wudaoai.cn/home)的200G开源文本数据集上进行了标点恢复任务的训练，模型可直接用于预测，对输入的对中文文本自动添加7种标点符号：逗号（，）、句号（。）、感叹号（！）、问号（？）、顿号（、）、冒号（：）和分号（；）。\n",
    "\n",
    "<p align=\"center\">\n",
    "<img src=\"https://bj.bcebos.com/paddlehub/paddlehub-img/ernie_network_1.png\" hspace=\"10\"/> <br/>\n",
    "</p>\n",
    "\n",
    "<p align=\"center\">\n",
    "<img src=\"https://bj.bcebos.com/paddlehub/paddlehub-img/ernie_network_2.png\" hspace=\"10\"/> <br/>\n",
    "</p>\n",
    "\n",
    "更多详情请参考\n",
    "- [WuDaoCorpora: A Super Large-scale Chinese Corpora for Pre-training Language Models](https://ks3-cn-beijing.ksyun.com/resources/WuDaoCorpora/WuDaoCorpora__A_Super_Large_scale_Chinese_Corporafor_Pre_training_Language_Models.pdf)\n",
    "- [ERNIE: Enhanced Representation through Knowledge Integration](https://arxiv.org/abs/1904.09223)"
   ]
  },
  {
   "cell_type": "markdown",
   "id": "8f2c3278",
   "metadata": {
    "id": "二-安装"
   },
   "source": [
    "## 二、安装\n",
    "\n",
    "- ### 1、环境依赖\n",
    "\n",
    "  - paddlepaddle >= 2.1.0\n",
    "\n",
    "  - paddlehub >= 2.1.0    | [如何安装PaddleHub](../../../../docs/docs_ch/get_start/installation.rst)\n",
    "\n",
    "- ### 2、安装\n",
    "\n",
    "  - ```shell\n",
    "    $ hub install auto_punc\n",
    "    ```\n",
    "  - 如您安装时遇到问题，可参考：[零基础windows安装](../../../../docs/docs_ch/get_start/windows_quickstart.md)\n",
    " | [零基础Linux安装](../../../../docs/docs_ch/get_start/linux_quickstart.md) | [零基础MacOS安装](../../../../docs/docs_ch/get_start/mac_quickstart.md)"
   ]
  },
  {
   "cell_type": "markdown",
   "id": "12cfef05",
   "metadata": {
    "id": "三-模型api预测"
   },
   "source": [
    "## 三、模型API预测\n",
    "\n",
    "- ### 1、预测代码示例\n",
    "\n",
    "    ```python\n",
    "    import paddlehub as hub\n",
    "\n",
    "    model = hub.Module(\n",
    "        name='auto_punc',\n",
    "        version='1.0.0')\n",
    "\n",
    "    texts = [\n",
    "        '今天的天气真好啊你下午有空吗我想约你一起去逛街',\n",
    "        '我最喜欢的诗句是先天下之忧而忧后天下之乐而乐',\n",
    "    ]\n",
    "    punc_texts = model.add_puncs(texts)\n",
    "    print(punc_texts)\n",
    "    # ['我最喜欢的诗句是：先天下之忧而忧，后天下之乐而乐。', '今天的天气真好啊！你下午有空吗？我想约你一起去逛街。']\n",
    "    ```\n",
    "\n",
    "- ### 2、API\n",
    "  - ```python\n",
    "    def add_puncs(\n",
    "        texts: Union[str, List[str]],\n",
    "        max_length=256,\n",
    "        device='cpu'\n",
    "    )\n",
    "    ```\n",
    "    - 对输入的中文文本自动添加标点符号。\n",
    "\n",
    "    - **参数**\n",
    "\n",
    "      - `texts`：输入的中文文本，可为str或List[str]类型，预测时，中英文和数字以外的字符将会被删除。\n",
    "      - `max_length`：模型预测时输入的最大长度，超过时文本会被截断，默认为256。\n",
    "      - `device`：预测时使用的设备，默认为`cpu`，如需使用gpu预测，请设置为`gpu`。\n",
    "\n",
    "    - **返回**\n",
    "\n",
    "      - `punc_texts`：List[str]类型，返回添加标点后的文本列表。"
   ]
  },
  {
   "cell_type": "markdown",
   "id": "e1f46c14",
   "metadata": {
    "id": "四-服务部署"
   },
   "source": [
    "## 四、服务部署\n",
    "\n",
    "- PaddleHub Serving可以部署一个在线的文本标点添加的服务。\n",
    "\n",
    "- ### 第一步：启动PaddleHub Serving\n",
    "\n",
    "  - ```shell\n",
    "    $ hub serving start -m auto_punc\n",
    "    ```\n",
    "\n",
    "  - 这样就完成了一个文本标点添加服务化API的部署，默认端口号为8866。\n",
    "\n",
    "  - **NOTE:** 如使用GPU预测，则需要在启动服务之前，请设置CUDA_VISIBLE_DEVICES环境变量，否则不用设置。\n",
    "\n",
    "- ### 第二步：发送预测请求\n",
    "\n",
    "  - 配置好服务端，以下数行代码即可实现发送预测请求，获取预测结果\n",
    "\n",
    "  - ```python\n",
    "    import requests\n",
    "    import json\n",
    "\n",
    "    # 输入的中文文本，中英文和数字之外的字符在模型预测前会被删除\n",
    "    texts = [\n",
    "        '今天的天气真好啊你下午有空吗我想约你一起去逛街',\n",
    "        '我最喜欢的诗句是先天下之忧而忧后天下之乐而乐',\n",
    "    ]\n",
    "\n",
    "    # 以key的方式指定text传入预测方法的时的参数，此例中为\"texts\"\n",
    "    data = {\"texts\": texts}\n",
    "\n",
    "    # 发送post请求，content-type类型应指定json方式，url中的ip地址需改为对应机器的ip\n",
    "    url = \"http://127.0.0.1:8866/predict/auto_punc\"\n",
    "\n",
    "    # 指定post请求的headers为application/json方式\n",
    "    headers = {\"Content-Type\": \"application/json\"}\n",
    "\n",
    "    r = requests.post(url=url, headers=headers, data=json.dumps(data))\n",
    "    print(r.json())\n",
    "    ```"
   ]
  },
  {
   "cell_type": "markdown",
   "id": "6bc1da4c",
   "metadata": {
    "id": "五-更新历史"
   },
   "source": [
    "## 五、更新历史\n",
    "\n",
    "* 1.0.0\n",
    "\n",
    "  初始发布\n",
    "\n",
    "  ```shell\n",
    "  $ hub install auto_punc\n",
    "  ```"
   ]
  }
 ],
 "metadata": {
  "colab": {
   "name": "auto_punc",
   "toc_visible": true
  },
  "kernelspec": {
   "display_name": "python3",
   "name": "python3"
  }
 },
 "nbformat": 4,
 "nbformat_minor": 5
}
