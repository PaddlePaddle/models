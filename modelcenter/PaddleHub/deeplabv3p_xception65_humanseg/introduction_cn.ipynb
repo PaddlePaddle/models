{
 "cells": [
  {
   "cell_type": "markdown",
   "id": "f25a1440",
   "metadata": {
    "id": "deeplabv3p_xception65_humanseg"
   },
   "source": [
    "# deeplabv3p_xception65_humanseg\n",
    "\n",
    "|模型名称|deeplabv3p_xception65_humanseg|\n",
    "| :--- | :---: |\n",
    "|类别|图像-图像分割|\n",
    "|网络|deeplabv3p|\n",
    "|数据集|百度自建数据集|\n",
    "|是否支持Fine-tuning|否|\n",
    "|模型大小|162MB|\n",
    "|指标|-|\n",
    "|最新更新日期|2021-02-26|"
   ]
  },
  {
   "cell_type": "markdown",
   "id": "f72fd05f",
   "metadata": {
    "id": "一-模型基本信息"
   },
   "source": [
    "## 一、模型基本信息\n",
    "\n",
    "- ### 应用效果展示\n",
    "\n",
    "  - 样例结果示例：\n",
    "    <p align=\"center\">\n",
    "    <img src=\"https://user-images.githubusercontent.com/35907364/130913092-312a5f37-842e-4fd0-8db4-5f853fd8419f.jpg\" width=\"337\" height=\"505\" hspace=\"10\"/> <img src=\"https://user-images.githubusercontent.com/35907364/130913256-41056b21-1c3d-4ee2-b481-969c94754609.png\" width=\"337\" height=\"505\" hspace=\"10\"/>\n",
    "    </p>\n",
    "\n",
    "- ### 模型介绍\n",
    "\n",
    "  - DeepLabv3+使用百度自建数据集进行训练，可用于人像分割，支持任意大小的图片输入。\n",
    "<p align=\"center\">\n",
    "<img src=\"https://paddlehub.bj.bcebos.com/paddlehub-img/deeplabv3plus.png\" hspace=\"10\"/> <br/>\n",
    "</p>\n",
    "\n",
    "- 更多详情请参考：[deeplabv3p](https://github.com/PaddlePaddle/PaddleSeg)"
   ]
  },
  {
   "cell_type": "markdown",
   "id": "4c653510",
   "metadata": {
    "id": "二-安装"
   },
   "source": [
    "## 二、安装\n",
    "\n",
    "- ### 1、环境依赖\n",
    "\n",
    "  - paddlepaddle >= 2.0.0\n",
    "\n",
    "  - paddlehub >= 2.0.0\n",
    "\n",
    "- ### 2、安装\n",
    "\n",
    "    - ```shell\n",
    "      $ hub install deeplabv3p_xception65_humanseg\n",
    "      ```\n",
    "\n",
    "    -  如您安装时遇到问题，可参考：[零基础windows安装](../../../../docs/docs_ch/get_start/windows_quickstart.md)\n",
    "      | [零基础Linux安装](../../../../docs/docs_ch/get_start/linux_quickstart.md) | [零基础MacOS安装](../../../../docs/docs_ch/get_start/mac_quickstart.md)"
   ]
  },
  {
   "cell_type": "markdown",
   "id": "eb3dac7a",
   "metadata": {
    "id": "三-模型api预测"
   },
   "source": [
    "## 三、模型API预测\n",
    "\n",
    "- ### 1.命令行预测\n",
    "\n",
    "  ```shell\n",
    "  hub run deeplabv3p_xception65_humanseg --input_path \"/PATH/TO/IMAGE\"\n",
    "  ```\n",
    "\n",
    "- ### 2.预测代码示例\n",
    "\n",
    "  ```python\n",
    "  import paddlehub as hub\n",
    "  import cv2\n",
    "\n",
    "  human_seg = hub.Module(name=\"deeplabv3p_xception65_humanseg\")\n",
    "  result = human_seg.segmentation(images=[cv2.imread('/PATH/TO/IMAGE')])\n",
    "\n",
    "  ```\n",
    "\n",
    "- ### 3.API\n",
    "\n",
    "    ```python\n",
    "    def segmentation(images=None,\n",
    "                     paths=None,\n",
    "                     batch_size=1,\n",
    "                     use_gpu=False,\n",
    "                     visualization=False,\n",
    "                     output_dir='humanseg_output')\n",
    "    ```\n",
    "\n",
    "    - 预测API，用于人像分割。\n",
    "\n",
    "    - **参数**\n",
    "\n",
    "      * images (list\\[numpy.ndarray\\]): 图片数据，ndarray.shape 为 \\[H, W, C\\]，BGR格式；\n",
    "      * paths (list\\[str\\]): 图片的路径；\n",
    "      * batch\\_size (int): batch 的大小；\n",
    "      * use\\_gpu (bool): 是否使用 GPU；\n",
    "      * visualization (bool): 是否将识别结果保存为图片文件；\n",
    "      * output\\_dir (str): 图片的保存路径。\n",
    "\n",
    "    - **返回**\n",
    "\n",
    "      * res (list\\[dict\\]): 识别结果的列表，列表中每一个元素为 dict，关键字有 'save\\_path', 'data'，对应的取值为：\n",
    "      * save\\_path (str, optional): 可视化图片的保存路径（仅当visualization=True时存在）；\n",
    "      * data (numpy.ndarray): 人像分割结果，仅包含Alpha通道，取值为0-255 (0为全透明，255为不透明)，也即取值越大的像素点越可能为人体，取值越小的像素点越可能为背景。\n",
    "\n",
    "    ```python\n",
    "    def save_inference_model(dirname)\n",
    "    ```\n",
    "\n",
    "    - 将模型保存到指定路径。\n",
    "\n",
    "    - **参数**\n",
    "\n",
    "      * dirname: 模型保存路径"
   ]
  },
  {
   "cell_type": "markdown",
   "id": "3d61cb63",
   "metadata": {
    "id": "四-服务部署"
   },
   "source": [
    "## 四、服务部署\n",
    "\n",
    "- PaddleHub Serving可以部署一个人像分割的在线服务。\n",
    "\n",
    "- ### 第一步：启动PaddleHub Serving\n",
    "\n",
    "  - 运行启动命令：\n",
    "\n",
    "    ```shell\n",
    "    $ hub serving start -m deeplabv3p_xception65_humanseg\n",
    "    ```\n",
    "\n",
    "    - 这样就完成了一个人像分割的服务化API的部署，默认端口号为8866。\n",
    "\n",
    "    - **NOTE:** 如使用GPU预测，则需要在启动服务之前，设置CUDA\\_VISIBLE\\_DEVICES环境变量，否则不用设置。\n",
    "\n",
    "- ### 第二步：发送预测请求\n",
    "\n",
    "  - 配置好服务端，以下数行代码即可实现发送预测请求，获取预测结果\n",
    "\n",
    "  - ```python\n",
    "    import requests\n",
    "    import json\n",
    "    import cv2\n",
    "    import base64\n",
    "    import numpy as np\n",
    "\n",
    "    def cv2_to_base64(image):\n",
    "        data = cv2.imencode('.jpg', image)[1]\n",
    "        return base64.b64encode(data.tostring()).decode('utf8')\n",
    "\n",
    "    def base64_to_cv2(b64str):\n",
    "        data = base64.b64decode(b64str.encode('utf8'))\n",
    "        data = np.fromstring(data, np.uint8)\n",
    "        data = cv2.imdecode(data, cv2.IMREAD_COLOR)\n",
    "        return data\n",
    "\n",
    "    org_im = cv2.imread(\"/PATH/TO/IMAGE\")\n",
    "    # 发送HTTP请求\n",
    "    data = {'images':[cv2_to_base64(org_im)]}\n",
    "    headers = {\"Content-type\": \"application/json\"}\n",
    "    url = \"http://127.0.0.1:8866/predict/deeplabv3p_xception65_humanseg\"\n",
    "    r = requests.post(url=url, headers=headers, data=json.dumps(data))# 保存图片\n",
    "    mask =cv2.cvtColor(base64_to_cv2(r.json()[\"results\"][0]['data']), cv2.COLOR_BGR2GRAY)\n",
    "    rgba = np.concatenate((org_im, np.expand_dims(mask, axis=2)), axis=2)\n",
    "    cv2.imwrite(\"segment_human_server.png\", rgba)\n",
    "    ```"
   ]
  },
  {
   "cell_type": "markdown",
   "id": "09ed5c66",
   "metadata": {
    "id": "五-更新历史"
   },
   "source": [
    "## 五、更新历史\n",
    "\n",
    "* 1.0.0\n",
    "\n",
    "   初始发布\n",
    "\n",
    "* 1.1.0\n",
    "\n",
    "   提升预测性能\n",
    "\n",
    "* 1.1.1\n",
    "\n",
    "   修复预测后处理图像数据超过[0,255]范围\n",
    "\n",
    "* 1.2.0\n",
    "\n",
    "   移除 fluid api\n",
    "\n",
    "  - ```shell\n",
    "    $ hub install deeplabv3p_xception65_humanseg==1.2.0\n",
    "    ```"
   ]
  }
 ],
 "metadata": {
  "colab": {
   "name": "deeplabv3p_xception65_humanseg",
   "toc_visible": true
  },
  "kernelspec": {
   "display_name": "python3",
   "name": "python3"
  }
 },
 "nbformat": 4,
 "nbformat_minor": 5
}
