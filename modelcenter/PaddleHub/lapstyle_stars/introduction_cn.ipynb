{
 "cells": [
  {
   "cell_type": "markdown",
   "id": "67fedec7",
   "metadata": {
    "id": "lapstyle_stars"
   },
   "source": [
    "# lapstyle_stars\n",
    "\n",
    "|模型名称|lapstyle_stars|\n",
    "| :--- | :---: |\n",
    "|类别|图像 - 风格迁移|\n",
    "|网络|LapStyle|\n",
    "|数据集|COCO|\n",
    "|是否支持Fine-tuning|否|\n",
    "|模型大小|121MB|\n",
    "|最新更新日期|2021-12-07|\n",
    "|数据指标|-|"
   ]
  },
  {
   "cell_type": "markdown",
   "id": "92da8f61",
   "metadata": {
    "id": "一-模型基本信息"
   },
   "source": [
    "## 一、模型基本信息\n",
    "\n",
    "- ### 应用效果展示\n",
    "  - 样例结果示例：\n",
    "    <p align=\"center\">\n",
    "    <img src=\"https://user-images.githubusercontent.com/22424850/144995283-77ddba45-9efe-4f72-914c-1bff734372ed.png\" width=\"50%\" hspace=\"10\"/>\n",
    "    <br/>\n",
    "    输入内容图形\n",
    "    <br/>\n",
    "    <img src=\"https://user-images.githubusercontent.com/22424850/144998358-14b87265-e966-422e-95f7-1738407e84ee.png\" width=\"50%\" hspace=\"10\"/>\n",
    "    <br/>\n",
    "    输入风格图形\n",
    "    <br/>\n",
    "    <img src=\"https://user-images.githubusercontent.com/22424850/144998367-5bc21fae-27fc-4c0e-8e1e-9702c7ee2b26.png\" width=\"50%\" hspace=\"10\"/>\n",
    "    <br/>\n",
    "    输出图像\n",
    "     <br/>\n",
    "    </p>\n",
    "\n",
    "- ### 模型介绍\n",
    "\n",
    "  - LapStyle--拉普拉斯金字塔风格化网络，是一种能够生成高质量风格化图的快速前馈风格化网络，能渐进地生成复杂的纹理迁移效果，同时能够在512分辨率下达到100fps的速度。可实现多种不同艺术风格的快速迁移，在艺术图像生成、滤镜等领域有广泛的应用。\n",
    "\n",
    "  - 更多详情参考：[Drafting and Revision: Laplacian Pyramid Network for Fast High-Quality Artistic Style Transfer](https://arxiv.org/pdf/2104.05376.pdf)"
   ]
  },
  {
   "cell_type": "markdown",
   "id": "97f5e109",
   "metadata": {
    "id": "二-安装"
   },
   "source": [
    "## 二、安装\n",
    "\n",
    "- ### 1、环境依赖\n",
    "  - ppgan\n",
    "\n",
    "- ### 2、安装\n",
    "\n",
    "  - ```shell\n",
    "    $ hub install lapstyle_stars\n",
    "    ```\n",
    "  - 如您安装时遇到问题，可参考：[零基础windows安装](../../../../../docs/docs_ch/get_start/windows_quickstart.md)\n",
    " | [零基础Linux安装](../../../../../docs/docs_ch/get_start/linux_quickstart.md) | [零基础MacOS安装](../../../../../docs/docs_ch/get_start/mac_quickstart.md)"
   ]
  },
  {
   "cell_type": "markdown",
   "id": "fc576472",
   "metadata": {
    "id": "三-模型api预测"
   },
   "source": [
    "## 三、模型API预测\n",
    "\n",
    "- ### 1、命令行预测\n",
    "\n",
    "  - ```shell\n",
    "    # Read from a file\n",
    "    $ hub run lapstyle_stars --content \"/PATH/TO/IMAGE\" --style \"/PATH/TO/IMAGE1\"\n",
    "    ```\n",
    "  - 通过命令行方式实现风格转换模型的调用，更多请见 [PaddleHub命令行指令](../../../../docs/docs_ch/tutorial/cmd_usage.rst)\n",
    "\n",
    "- ### 2、预测代码示例\n",
    "\n",
    "  - ```python\n",
    "    import paddlehub as hub\n",
    "\n",
    "    module = hub.Module(name=\"lapstyle_stars\")\n",
    "    content = cv2.imread(\"/PATH/TO/IMAGE\")\n",
    "    style = cv2.imread(\"/PATH/TO/IMAGE1\")\n",
    "    results = module.style_transfer(images=[{'content':content, 'style':style}], output_dir='./transfer_result', use_gpu=True)\n",
    "    ```\n",
    "\n",
    "- ### 3、API\n",
    "\n",
    "  - ```python\n",
    "    style_transfer(images=None, paths=None, output_dir='./transfer_result/', use_gpu=False, visualization=True)\n",
    "    ```\n",
    "    - 风格转换API。\n",
    "\n",
    "    - **参数**\n",
    "\n",
    "      - images (list[dict]): data of images, 每一个元素都为一个 dict，有关键字 content, style, 相应取值为：\n",
    "        - content (numpy.ndarray): 待转换的图片，shape 为 \\[H, W, C\\]，BGR格式；<br/>\n",
    "        - style (numpy.ndarray) : 风格图像，shape为 \\[H, W, C\\]，BGR格式；<br/>\n",
    "      - paths (list[str]): paths to images, 每一个元素都为一个dict, 有关键字 content, style, 相应取值为：\n",
    "        - content (str): 待转换的图片的路径；<br/>\n",
    "        - style (str) : 风格图像的路径；<br/>\n",
    "      - output\\_dir (str): 结果保存的路径； <br/>\n",
    "      - use\\_gpu (bool): 是否使用 GPU；<br/>\n",
    "      - visualization(bool): 是否保存结果到本地文件夹"
   ]
  },
  {
   "cell_type": "markdown",
   "id": "e45d92ea",
   "metadata": {
    "id": "四-服务部署"
   },
   "source": [
    "## 四、服务部署\n",
    "\n",
    "- PaddleHub Serving可以部署一个在线图像风格转换服务。\n",
    "\n",
    "- ### 第一步：启动PaddleHub Serving\n",
    "\n",
    "  - 运行启动命令：\n",
    "  - ```shell\n",
    "    $ hub serving start -m lapstyle_stars\n",
    "    ```\n",
    "\n",
    "  - 这样就完成了一个图像风格转换的在线服务API的部署，默认端口号为8866。\n",
    "\n",
    "  - **NOTE:** 如使用GPU预测，则需要在启动服务之前，请设置CUDA\\_VISIBLE\\_DEVICES环境变量，否则不用设置。\n",
    "\n",
    "- ### 第二步：发送预测请求\n",
    "\n",
    "  - 配置好服务端，以下数行代码即可实现发送预测请求，获取预测结果\n",
    "\n",
    "  - ```python\n",
    "    import requests\n",
    "    import json\n",
    "    import cv2\n",
    "    import base64\n",
    "\n",
    "    def cv2_to_base64(image):\n",
    "      data = cv2.imencode('.jpg', image)[1]\n",
    "      return base64.b64encode(data.tostring()).decode('utf8')\n",
    "\n",
    "    # 发送HTTP请求\n",
    "    data = {'images':[{'content': cv2_to_base64(cv2.imread(\"/PATH/TO/IMAGE\")), 'style': cv2_to_base64(cv2.imread(\"/PATH/TO/IMAGE1\"))}]}\n",
    "    headers = {\"Content-type\": \"application/json\"}\n",
    "    url = \"http://127.0.0.1:8866/predict/lapstyle_stars\"\n",
    "    r = requests.post(url=url, headers=headers, data=json.dumps(data))\n",
    "\n",
    "    # 打印预测结果\n",
    "    print(r.json()[\"results\"])"
   ]
  },
  {
   "cell_type": "markdown",
   "id": "194cf0b6",
   "metadata": {
    "id": "五-更新历史"
   },
   "source": [
    "## 五、更新历史\n",
    "\n",
    "* 1.0.0\n",
    "\n",
    "  初始发布\n",
    "\n",
    "  - ```shell\n",
    "    $ hub install lapstyle_stars==1.0.0\n",
    "    ```"
   ]
  }
 ],
 "metadata": {
  "colab": {
   "name": "lapstyle_stars",
   "toc_visible": true
  },
  "kernelspec": {
   "display_name": "python3",
   "name": "python3"
  }
 },
 "nbformat": 4,
 "nbformat_minor": 5
}
