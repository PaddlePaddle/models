{
 "cells": [
  {
   "cell_type": "markdown",
   "id": "6e1658b9",
   "metadata": {
    "id": "u2netp"
   },
   "source": [
    "# U2Netp\n",
    "\n",
    "|模型名称|U2Netp|\n",
    "| :--- | :---: |\n",
    "|类别|图像-图像分割|\n",
    "|网络|U^2Net|\n",
    "|数据集|-|\n",
    "|是否支持Fine-tuning|否|\n",
    "|模型大小|6.7MB|\n",
    "|指标|-|\n",
    "|最新更新日期|2021-02-26|"
   ]
  },
  {
   "cell_type": "markdown",
   "id": "cd303e44",
   "metadata": {
    "id": "一-模型基本信息"
   },
   "source": [
    "## 一、模型基本信息\n",
    "\n",
    "- ### 应用效果展示\n",
    "\n",
    "    - 样例结果示例：\n",
    "        <p align=\"center\">\n",
    "        <img src=\"https://ai-studio-static-online.cdn.bcebos.com/4d77bc3a05cf48bba6f67b797978f4cdf10f38288b9645d59393dd85cef58eff\" width=\"450\" height=\"300\" hspace=\"10\"/> <img src=\"https://ai-studio-static-online.cdn.bcebos.com/11c9eba8de6d4316b672f10b285245061821f0a744e441f3b80c223881256ca0\" width=\"450\" height=\"300\" hspace=\"10\"/>\n",
    "        </p>\n",
    "\n",
    "- ### 模型介绍\n",
    "\n",
    "    * U2Netp的网络结构如下图，其类似于编码-解码(Encoder-Decoder)结构的 U-Net, 每个 stage 由新提出的 RSU模块(residual U-block) 组成. 例如，En_1 即为基于 RSU 构建的, 它是一个小型化的模型\n",
    "\n",
    "    ![](https://ai-studio-static-online.cdn.bcebos.com/999d37b4ffdd49dc9e3315b7cec7b2c6918fdd57c8594ced9dded758a497913d)\n",
    "\n",
    "    *  - 更多详情请参考：[U2Net](https://github.com/xuebinqin/U-2-Net)"
   ]
  },
  {
   "cell_type": "markdown",
   "id": "9598f682",
   "metadata": {
    "id": "二-安装"
   },
   "source": [
    "## 二、安装\n",
    "\n",
    "- ### 1、环境依赖\n",
    "    - paddlepaddle >= 2.0.0\n",
    "\n",
    "    - paddlehub >= 2.0.0\n",
    "\n",
    "- ### 2、安装\n",
    "    - ```shell\n",
    "      $ hub install U2Netp\n",
    "      ```\n",
    "\n",
    "    - 如您安装时遇到问题，可参考：[零基础windows安装](../../../../docs/docs_ch/get_start/windows_quickstart.md)\n",
    "      | [零基础Linux安装](../../../../docs/docs_ch/get_start/linux_quickstart.md) | [零基础MacOS安装](../../../../docs/docs_ch/get_start/mac_quickstart.md)"
   ]
  },
  {
   "cell_type": "markdown",
   "id": "1461a49c",
   "metadata": {
    "id": "三-模型api预测"
   },
   "source": [
    "## 三、模型API预测\n",
    "\n",
    "- ### 1、预测代码示例\n",
    "\n",
    "    ```python\n",
    "    import cv2\n",
    "    import paddlehub as hub\n",
    "\n",
    "    model = hub.Module(name='U2Netp')\n",
    "\n",
    "    result = model.Segmentation(\n",
    "        images=[cv2.imread('/PATH/TO/IMAGE')],\n",
    "        paths=None,\n",
    "        batch_size=1,\n",
    "        input_size=320,\n",
    "        output_dir='output',\n",
    "        visualization=True)\n",
    "    ```\n",
    " - ### 2、API\n",
    "\n",
    "    ```python\n",
    "    def Segmentation(\n",
    "            images=None,\n",
    "            paths=None,\n",
    "            batch_size=1,\n",
    "            input_size=320,\n",
    "            output_dir='output',\n",
    "            visualization=False):\n",
    "    ```\n",
    "    - 图像前景背景分割 API\n",
    "\n",
    "    -   **参数**\n",
    "        * images (list[np.ndarray]) : 输入图像数据列表（BGR）\n",
    "        * paths (list[str]) : 输入图像路径列表\n",
    "        * batch_size (int) : 数据批大小\n",
    "        * input_size (int) : 输入图像大小\n",
    "        * output_dir (str) : 可视化图像输出目录\n",
    "        * visualization (bool) : 是否可视化\n",
    "\n",
    "    -   **返回**\n",
    "        * results (list[np.ndarray]): 输出图像数据列表"
   ]
  },
  {
   "cell_type": "markdown",
   "id": "74805c69",
   "metadata": {
    "id": "四-更新历史"
   },
   "source": [
    "## 四、更新历史\n",
    "\n",
    "* 1.0.0\n",
    "\n",
    "  初始发布"
   ]
  }
 ],
 "metadata": {
  "colab": {
   "name": "U2Netp",
   "toc_visible": true
  },
  "kernelspec": {
   "display_name": "python3",
   "name": "python3"
  }
 },
 "nbformat": 4,
 "nbformat_minor": 5
}
