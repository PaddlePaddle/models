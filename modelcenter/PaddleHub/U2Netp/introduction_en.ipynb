{
 "cells": [
  {
   "cell_type": "markdown",
   "id": "6e208b2b",
   "metadata": {
    "id": "u2netp"
   },
   "source": [
    "# U2Netp\n",
    "\n",
    "|Module Name |U2Netp|\n",
    "| :--- | :---: |\n",
    "|Category |Image segmentation|\n",
    "|Network |U^2Net|\n",
    "|Dataset|-|\n",
    "|Fine-tuning supported or not|No|\n",
    "|Module Size |6.7MB|\n",
    "|Data indicators|-|\n",
    "|Latest update date|2021-02-26|"
   ]
  },
  {
   "cell_type": "markdown",
   "id": "c00006c3",
   "metadata": {
    "id": "i-basic-information"
   },
   "source": [
    "## I. Basic Information\n",
    "\n",
    "- ### Application Effect Display\n",
    "\n",
    "  - Sample results:\n",
    "\n",
    "        <p align=\"center\">\n",
    "        <img src=\"https://ai-studio-static-online.cdn.bcebos.com/4d77bc3a05cf48bba6f67b797978f4cdf10f38288b9645d59393dd85cef58eff\" width=\"450\" height=\"300\" hspace=\"10\"/> <img src=\"https://ai-studio-static-online.cdn.bcebos.com/11c9eba8de6d4316b672f10b285245061821f0a744e441f3b80c223881256ca0\" width=\"450\" height=\"300\" hspace=\"10\"/>\n",
    "        </p>\n",
    "\n",
    "- ### Module Introduction\n",
    "\n",
    "    - Network architecture:\n",
    "      <p align=\"center\">\n",
    "      <img src=\"https://ai-studio-static-online.cdn.bcebos.com/999d37b4ffdd49dc9e3315b7cec7b2c6918fdd57c8594ced9dded758a497913d\" hspace=\"10\"/> <br/>\n",
    "      </p>\n",
    "\n",
    "    - For more information, please refer to: [U2Net](https://github.com/xuebinqin/U-2-Net)"
   ]
  },
  {
   "cell_type": "markdown",
   "id": "fb33aa76",
   "metadata": {
    "id": "ii-installation"
   },
   "source": [
    "## II. Installation\n",
    "\n",
    "- ### 1、Environmental Dependence\n",
    "\n",
    "    - paddlepaddle >= 2.0.0\n",
    "    - paddlehub >= 2.0.0\n",
    "\n",
    "- ### 2、Installation\n",
    "    - ```shell\n",
    "      $ hub install U2Netp\n",
    "      ```\n",
    "\n",
    "    - In case of any problems during installation, please refer to:[Windows_Quickstart](../../../../docs/docs_en/get_start/windows_quickstart.md)\n",
    "    | [Linux_Quickstart](../../../../docs/docs_en/get_start/linux_quickstart.md) | [Mac_Quickstart](../../../../docs/docs_en/get_start/mac_quickstart.md)"
   ]
  },
  {
   "cell_type": "markdown",
   "id": "c47402b3",
   "metadata": {
    "id": "iii-module-api-prediction"
   },
   "source": [
    "## III. Module API Prediction\n",
    "\n",
    "- ### 1、Prediction Code Example\n",
    "\n",
    "    ```python\n",
    "    import cv2\n",
    "    import paddlehub as hub\n",
    "\n",
    "    model = hub.Module(name='U2Netp')\n",
    "\n",
    "    result = model.Segmentation(\n",
    "        images=[cv2.imread('/PATH/TO/IMAGE')],\n",
    "        paths=None,\n",
    "        batch_size=1,\n",
    "        input_size=320,\n",
    "        output_dir='output',\n",
    "        visualization=True)\n",
    "    ```\n",
    " - ### 2、API\n",
    "\n",
    "    ```python\n",
    "    def Segmentation(\n",
    "            images=None,\n",
    "            paths=None,\n",
    "            batch_size=1,\n",
    "            input_size=320,\n",
    "            output_dir='output',\n",
    "            visualization=False):\n",
    "    ```\n",
    "    - Prediction API, obtaining segmentation result.\n",
    "\n",
    "    - **Parameter**\n",
    "        * images (list[np.ndarray]) : Image data, ndarray.shape is in the format [H, W, C], BGR.\n",
    "        * paths (list[str]) : Image path.\n",
    "        * batch_size (int) : Batch size.\n",
    "        * input_size (int) : Input image size, default is 320.\n",
    "        * output_dir (str) : Save path of images, 'output' by default.\n",
    "        * visualization (bool) : Whether to save the results as picture files.\n",
    "\n",
    "    - **Return**\n",
    "        * results (list[np.ndarray]): The list of segmentation results."
   ]
  },
  {
   "cell_type": "markdown",
   "id": "4c2d5b97",
   "metadata": {
    "id": "iv-release-note"
   },
   "source": [
    "## IV. Release Note\n",
    "\n",
    "- 1.0.0\n",
    "\n",
    "  First release"
   ]
  }
 ],
 "metadata": {
  "colab": {
   "name": "U2Netp",
   "toc_visible": true
  },
  "kernelspec": {
   "display_name": "python3",
   "name": "python3"
  }
 },
 "nbformat": 4,
 "nbformat_minor": 5
}
