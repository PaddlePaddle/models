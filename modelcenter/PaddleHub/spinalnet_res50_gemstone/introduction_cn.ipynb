{
 "cells": [
  {
   "cell_type": "markdown",
   "id": "ce941379",
   "metadata": {
    "id": "概述"
   },
   "source": [
    "## 概述\n",
    "\n",
    "* [SpinalNet](https://arxiv.org/abs/2007.03347)的网络结构如下图，\n",
    "\n",
    "[网络结构图](https://ai-studio-static-online.cdn.bcebos.com/0c58fff63018401089f92085a2aea5d46921351012e64ac4b7d5a8e1370c463f)\n",
    "\n",
    "该模型为SpinalNet在宝石数据集上的预训练模型，可以安装PaddleHub后完成一键预测及微调。"
   ]
  },
  {
   "cell_type": "markdown",
   "id": "12478fa1",
   "metadata": {
    "id": "预训练模型"
   },
   "source": [
    "## 预训练模型\n",
    "\n",
    "预训练模型位于https://aistudio.baidu.com/aistudio/datasetdetail/69923"
   ]
  },
  {
   "cell_type": "markdown",
   "id": "eed11bf3",
   "metadata": {
    "id": "api"
   },
   "source": [
    "## API\n",
    "\n",
    "加载该模型后，使用PadduleHub2.0的默认图像分类API"
   ]
  },
  {
   "cell_type": "code",
   "execution_count": null,
   "id": "89a52fcd",
   "metadata": {
    "id": "api-code"
   },
   "outputs": [],
   "source": [
    "def Predict(images, batch_size, top_k):"
   ]
  },
  {
   "cell_type": "markdown",
   "id": "31ba3485",
   "metadata": {
    "id": "api-2"
   },
   "source": [
    "**参数**\n",
    "* images (list[str: 图片路径]) : 输入图像数据列表\n",
    "* batch_size: 默认值为1\n",
    "* top_k: 每张图片的前k个预测类别"
   ]
  }
 ],
 "metadata": {
  "colab": {
   "name": "概述",
   "toc_visible": true
  },
  "kernelspec": {
   "display_name": "python3",
   "name": "python3"
  }
 },
 "nbformat": 4,
 "nbformat_minor": 5
}
