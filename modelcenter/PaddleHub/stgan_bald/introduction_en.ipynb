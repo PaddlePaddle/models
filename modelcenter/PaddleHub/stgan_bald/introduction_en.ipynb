{
 "cells": [
  {
   "cell_type": "markdown",
   "id": "4f81eb58",
   "metadata": {
    "id": "stgan_bald"
   },
   "source": [
    "# stgan_bald\n",
    "\n",
    "|Module Name|stgan_bald|\n",
    "| :--- | :---: |\n",
    "|Category|image generation|\n",
    "|Network|STGAN|\n",
    "|Dataset|CelebA|\n",
    "|Fine-tuning supported or not|No|\n",
    "|Module Size|287MB|\n",
    "|Latest update date|2021-02-26|\n",
    "|Data indicators|-|"
   ]
  },
  {
   "cell_type": "markdown",
   "id": "cfd0cf7b",
   "metadata": {
    "id": "i-basic-information"
   },
   "source": [
    "## I.Basic Information\n",
    "\n",
    "- ### Application Effect Display\n",
    "  - Please refer to this [link](https://aistudio.baidu.com/aistudio/projectdetail/1145381)\n",
    "\n",
    "- ### Module Introduction\n",
    "\n",
    "  - This module is based on STGAN model, trained on CelebA dataset, and can be used to predict bald appearance after 1, 3 and 5 years."
   ]
  },
  {
   "cell_type": "markdown",
   "id": "7facc150",
   "metadata": {
    "id": "ii-installation"
   },
   "source": [
    "## II.Installation\n",
    "\n",
    "- ### 1、Environmental Dependence\n",
    "\n",
    "  - paddlehub >= 1.8.0  | [How to install PaddleHub](../../../../docs/docs_en/get_start/installation.rst)\n",
    "\n",
    "- ### 2、Installation\n",
    "\n",
    "  - ```shell\n",
    "    $ hub install stgan_bald\n",
    "    ```\n",
    "  - In case of any problems during installation, please refer to: [Windows_Quickstart](../../../../docs/docs_en/get_start/windows_quickstart.md) | [Linux_Quickstart](../../../../docs/docs_en/get_start/linux_quickstart.md) | [Mac_Quickstart](../../../../docs/docs_en/get_start/mac_quickstart.md)"
   ]
  },
  {
   "cell_type": "markdown",
   "id": "80f13906",
   "metadata": {
    "id": "iii-module-api-prediction"
   },
   "source": [
    "## III.Module API Prediction\n",
    "\n",
    "- ### 1、Prediction Code Example\n",
    "\n",
    "  - ```python\n",
    "    import paddlehub as hub\n",
    "    import cv2\n",
    "\n",
    "    stgan_bald = hub.Module(name=\"stgan_bald\")\n",
    "    result = stgan_bald.bald(images=[cv2.imread('/PATH/TO/IMAGE')])\n",
    "    # or\n",
    "    # result = stgan_bald.bald(paths=['/PATH/TO/IMAGE'])\n",
    "    ```\n",
    "\n",
    "- ### 2、API\n",
    "\n",
    "  - ```python\n",
    "    def bald(images=None,\n",
    "             paths=None,\n",
    "             use_gpu=False,\n",
    "             visualization=False,\n",
    "             output_dir=\"bald_output\")\n",
    "    ```\n",
    "\n",
    "    - Bald appearance generation API.\n",
    "\n",
    "    - **Parameters**\n",
    "      - images (list\\[numpy.ndarray\\]): image data, ndarray.shape is in the format [H, W, C], BGR;\n",
    "      - paths (list[str]): image path;\n",
    "      - use_gpu (bool): use GPU or not; **set the CUDA_VISIBLE_DEVICES environment variable first if you are using GPU**\n",
    "      - visualization (bool): Whether to save the results as picture files;\n",
    "      - output_dir (str): save path of images;\n",
    "\n",
    "      **NOTE:** choose one parameter to provide data from paths and images\n",
    "\n",
    "    - **Return**\n",
    "\n",
    "      - res (list\\[numpy.ndarray\\]): result list，ndarray.shape is \\[H, W, C\\]"
   ]
  },
  {
   "cell_type": "markdown",
   "id": "79b7f564",
   "metadata": {
    "id": "iv-server-deployment"
   },
   "source": [
    "## IV.Server Deployment\n",
    "\n",
    "- PaddleHub Serving can deploy an online service of bald appearance generation.\n",
    "\n",
    "- ### Step 1: Start PaddleHub Serving\n",
    "\n",
    "  - Run the startup command：\n",
    "  - ```shell\n",
    "    $ hub serving start -m stgan_bald\n",
    "    ```\n",
    "\n",
    "  - The servitization API is now deployed and the default port number is 8866.\n",
    "\n",
    "  - **NOTE:**  If GPU is used for prediction, set CUDA_VISIBLE_DEVICES environment variable before the service, otherwise it need not be set.\n",
    "\n",
    "- ### Step 2: Send a predictive request\n",
    "\n",
    "  - With a configured server, use the following lines of code to send the prediction request and obtain the result\n",
    "\n",
    "  - ```python\n",
    "    import requests\n",
    "    import json\n",
    "    import cv2\n",
    "    import base64\n",
    "    import numpy as np\n",
    "\n",
    "    def cv2_to_base64(image):\n",
    "      data = cv2.imencode('.jpg', image)[1]\n",
    "      return base64.b64encode(data.tostring()).decode('utf8')\n",
    "\n",
    "    def base64_to_cv2(b64str):\n",
    "      data = base64.b64decode(b64str.encode('utf8'))\n",
    "      data = np.fromstring(data, np.uint8)\n",
    "      data = cv2.imdecode(data, cv2.IMREAD_COLOR)\n",
    "      return data\n",
    "\n",
    "    # Send an HTTP request\n",
    "    data = {'images':[cv2_to_base64(cv2.imread(\"/PATH/TO/IMAGE\"))]}\n",
    "    headers = {\"Content-type\": \"application/json\"}\n",
    "    url = \"http://127.0.0.1:8866/predict/stgan_bald\"\n",
    "    r = requests.post(url=url, headers=headers, data=json.dumps(data))\n",
    "\n",
    "    # save results\n",
    "    one_year =cv2.cvtColor(base64_to_cv2(r.json()[\"results\"]['data_0']), cv2.COLOR_RGB2BGR)\n",
    "    three_year =cv2.cvtColor(base64_to_cv2(r.json()[\"results\"]['data_1']), cv2.COLOR_RGB2BGR)\n",
    "    five_year =cv2.cvtColor(base64_to_cv2(r.json()[\"results\"]['data_2']), cv2.COLOR_RGB2BGR)\n",
    "    cv2.imwrite(\"stgan_bald_server.png\", one_year)\n",
    "    ```"
   ]
  },
  {
   "cell_type": "markdown",
   "id": "8ceb2d23",
   "metadata": {
    "id": "v-release-note"
   },
   "source": [
    "## V.Release Note\n",
    "\n",
    "* 1.0.0\n",
    "\n",
    "  First release\n",
    "\n",
    "* 1.1.0\n",
    "\n",
    "  Remove Fluid API\n",
    "\n",
    "  - ```shell\n",
    "    $ hub install stgan_bald==1.1.0\n",
    "    ```"
   ]
  }
 ],
 "metadata": {
  "colab": {
   "name": "stgan_bald",
   "toc_visible": true
  },
  "kernelspec": {
   "display_name": "python3",
   "name": "python3"
  }
 },
 "nbformat": 4,
 "nbformat_minor": 5
}
