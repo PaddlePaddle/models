{
 "cells": [
  {
   "cell_type": "markdown",
   "id": "e5bd3c1e",
   "metadata": {
    "id": "paddlehub-ernie-vilg"
   },
   "source": [
    "# PaddleHub ERNIE-ViLG"
   ]
  },
  {
   "cell_type": "markdown",
   "id": "b7104aa0",
   "metadata": {
    "id": "目录"
   },
   "source": [
    "# 目录\n",
    "\n",
    "1. [模型基本信息](#一模型基本信息)\n",
    "2. [安装](#二安装)\n",
    "3. [模型API预测](#三模型api预测)\n",
    "4. [Prompt 指南](#四-prompt-指南)\n",
    "5. [服务部署](#五服务部署)\n",
    "6. [更新历史](#六更新历史)"
   ]
  },
  {
   "cell_type": "markdown",
   "id": "28eb70c9",
   "metadata": {
    "id": "一-模型基本信息"
   },
   "source": [
    "## 一、模型基本信息\n",
    "\n",
    "|模型名称|ernie_vilg|\n",
    "| :--- | :---: |\n",
    "|类别|图像-文图生成|\n",
    "|网络|ERNIE-ViLG|\n",
    "|数据集|-|\n",
    "|是否支持Fine-tuning|否|\n",
    "|模型大小|-|\n",
    "|最新更新日期|2022-10-14|\n",
    "|数据指标|-|"
   ]
  },
  {
   "cell_type": "markdown",
   "id": "516f1bc7",
   "metadata": {
    "id": "应用效果展示"
   },
   "source": [
    "### 应用效果展示\n",
    "\n",
    "  - 输入文本 \"戴眼镜的猫\"  风格 \"油画\"\n",
    "\n",
    "  - 输出图像\n",
    "  </p><p align=\"center\">\n",
    "    <img src=\"https://user-images.githubusercontent.com/22424850/187395109-8ab830bb-4559-41a2-97a1-0a45d217abd6.png\" width=\"80%\" hspace=\"10\"/>\n",
    "  <br/>"
   ]
  },
  {
   "cell_type": "markdown",
   "id": "60ca800d",
   "metadata": {
    "id": "模型介绍"
   },
   "source": [
    "### 模型介绍\n",
    "\n",
    "文心ERNIE-ViLG参数规模达到100亿，是目前为止全球最大规模中文跨模态生成模型，在文本生成图像、图像描述等跨模态生成任务上效果全球领先，在图文生成领域MS-COCO、COCO-CN、AIC-ICC等数据集上取得最好效果。你可以输入一段文本描述以及生成风格，模型就会根据输入的内容自动创作出符合要求的图像。"
   ]
  },
  {
   "cell_type": "markdown",
   "id": "47e90d37",
   "metadata": {
    "id": "二-安装"
   },
   "source": [
    "## 二、安装\n",
    "\n",
    "- ### 1、环境依赖\n",
    "\n",
    "  - paddlepaddle >= 2.0.0\n",
    "\n",
    "  - paddlehub >= 2.2.0    | [如何安装PaddleHub](../../../../docs/docs_ch/get_start/installation.rst)\n",
    "\n",
    "- ### 2、安装\n",
    "\n",
    "  - ```shell\n",
    "    $ hub install ernie_vilg\n",
    "    ```\n",
    "  - 如您安装时遇到问题，可参考：[零基础windows安装](../../../../docs/docs_ch/get_start/windows_quickstart.md)\n",
    " | [零基础Linux安装](../../../../docs/docs_ch/get_start/linux_quickstart.md) | [零基础MacOS安装](../../../../docs/docs_ch/get_start/mac_quickstart.md)\n",
    "\n",
    "- ### 3. 使用申请（可选）\n",
    "  - 请前往 [文心旸谷社区](https://wenxin.baidu.com/moduleApi/key) 申请使用本模型所需的 API key 和 Secret Key。"
   ]
  },
  {
   "cell_type": "markdown",
   "id": "838a9225",
   "metadata": {
    "id": "三-模型api预测"
   },
   "source": [
    "## 三、模型API预测\n",
    "\n",
    "- ### 1、命令行预测\n",
    "\n",
    "  - ```shell\n",
    "    # 请设置 '--ak' 和 '--sk' 参数\n",
    "    # 或者设置 'WENXIN_AK' 和 'WENXIN_SK' 环境变量\n",
    "    # 更多细节参考下方 API 说明\n",
    "    $ hub run ernie_vilg --text_prompts \"宁静的小镇\" --style \"油画\" --output_dir ernie_vilg_out\n",
    "    ```\n",
    "\n",
    "- ### 2、预测代码示例\n",
    "\n",
    "  - ```python\n",
    "    import paddlehub as hub\n",
    "\n",
    "    # 请设置 'ak' 和 'sk' 参数\n",
    "    # 或者设置 'WENXIN_AK' 和 'WENXIN_SK' 环境变量\n",
    "    # 更多细节参考下方 API 说明\n",
    "    module = hub.Module(name=\"ernie_vilg\")\n",
    "    text_prompts = [\"宁静的小镇\"]\n",
    "    images = module.generate_image(text_prompts=text_prompts, style='油画', output_dir='./ernie_vilg_out/')\n",
    "    ```\n",
    "\n",
    "- ### 3、API\n",
    "\n",
    "  - ```python\n",
    "    def __init__(\n",
    "      ak: Optional[str] = None,\n",
    "      sk: Optional[str] = None\n",
    "    )\n",
    "    ```\n",
    "\n",
    "    - 初始化 API。\n",
    "\n",
    "    - **参数**\n",
    "\n",
    "      - ak(Optional[str]): 文心 API AK，默认为 None，即从环境变量 'WENXIN_AK' 中获取；\n",
    "      - sk(Optional[str]): 文心 API SK，默认为 None，即从环境变量 'WENXIN_SK' 中获取。\n",
    "\n",
    "  - ```python\n",
    "    def generate_image(\n",
    "      text_prompts:str,\n",
    "      style: Optional[str] = \"探索无限\",\n",
    "      topk: Optional[int] = 6,\n",
    "      output_dir: Optional[str] = 'ernievilg_output'\n",
    "    )\n",
    "    ```\n",
    "\n",
    "    - 文图生成API，生成文本描述内容的图像。\n",
    "\n",
    "    - **参数**\n",
    "\n",
    "      - text_prompts(str): 输入的语句，描述想要生成的图像的内容。\n",
    "      - style(Optional[str]): 生成图像的风格，当前支持 古风、油画、水彩、卡通、二次元、浮世绘、蒸汽波艺术、\n",
    "        low poly、像素风格、概念艺术、未来主义、赛博朋克、写实风格、洛丽塔风格、巴洛克风格、超现实主义、探索无限。\n",
    "      - topk(Optional[int]): 保存前多少张图，最多保存6张。\n",
    "      - output_dir(Optional[str]): 保存输出图像的目录，默认为\"ernievilg_output\"。\n",
    "\n",
    "    - **返回**\n",
    "      - images(List(PIL.Image)): 返回生成的所有图像列表，PIL的Image格式。"
   ]
  },
  {
   "cell_type": "markdown",
   "id": "8a428c3d",
   "metadata": {
    "id": "四-prompt-指南"
   },
   "source": [
    "## 四、 Prompt 指南\n",
    "\n",
    "作者：佳祥 (LCL-Brew) &amp; 单斌"
   ]
  },
  {
   "cell_type": "markdown",
   "id": "de3383f2",
   "metadata": {
    "id": "prompt公式"
   },
   "source": [
    "### Prompt公式\n",
    "\n",
    "「公式」= 图片主体，细节词，修饰词\n",
    "细节词可以任意组合，修饰词可以限定一种风格，也可以限定多种风格，遵循的基本原则是符合正常的中文语法逻辑即可。"
   ]
  },
  {
   "cell_type": "markdown",
   "id": "97fb3fbf",
   "metadata": {
    "id": "示例"
   },
   "source": [
    "### 示例\n",
    "\n",
    "|<img src=\"https://bce.bdstatic.com/doc/AIDP/wenxin/174_蒙娜丽莎，赛博朋克，宝丽来，33毫米,蒸汽波艺术_000-1_7b4a78a.png\" alt=\"drawing\" width=\"300\"/>|\n",
    "| --- |\n",
    "| prompt：蒙娜丽莎，赛博朋克，宝丽来，33毫米,蒸汽波艺术  |\n",
    "\n",
    "|<img src=\"https://bce.bdstatic.com/doc/AIDP/wenxin/3_72d9343.png\" alt=\"drawing\" width=\"300\"/>|\n",
    "| --- |\n",
    "| prompt：火焰，凤凰，少女，未来感，高清，3d，精致面容，cg感，古风，唯美，毛发细致，上半身立绘 |\n",
    "\n",
    "|<img src=\"https://bce.bdstatic.com/doc/AIDP/wenxin/4_e1f5cbb.png\" alt=\"drawing\" width=\"300\"/>|\n",
    "| --- |\n",
    "|  prompt：巨狼，飘雪，蓝色大片烟雾，毛发细致，烟雾缭绕，高清，3d，cg感，侧面照  |\n",
    "\n",
    "| <img src=\"https://bce.bdstatic.com/doc/AIDP/wenxin/5_d380451.png\" alt=\"drawing\" width=\"400\"/> |\n",
    "| --- |\n",
    "|  </p><center>prompt：浮世绘日本科幻哑光绘画，概念艺术，动漫风格神道寺禅园英雄动作序列，包豪斯</center> |"
   ]
  },
  {
   "cell_type": "markdown",
   "id": "1e9f0011",
   "metadata": {
    "id": "修饰词"
   },
   "source": [
    "### 修饰词\n",
    "\n",
    "好的修饰词可以让图片生成的效果更好，基于产业级知识增强的文心大模型，用户可以通过输入独特且特征明显的修饰词，来达到更高质量的图片生成。"
   ]
  },
  {
   "cell_type": "markdown",
   "id": "8416346d",
   "metadata": {
    "id": "1-效果参考"
   },
   "source": [
    "#### 1. 效果参考\n",
    "\n",
    "![drawing](https://bce.bdstatic.com/doc/AIDP/wenxin/1_3612449.jpg)\n",
    "\n",
    "**cg感**\n",
    "\n",
    "| ![drawing](https://bce.bdstatic.com/doc/AIDP/wenxin/2_b72fd7a.png) |![drawing](https://bce.bdstatic.com/doc/AIDP/wenxin/image%20%281%29_8a6b56b.png) |\n",
    "| --- | --- |\n",
    "\n",
    "|  ![drawing](https://bce.bdstatic.com/doc/AIDP/wenxin/6_2363c54.png)|![drawing](https://bce.bdstatic.com/doc/AIDP/wenxin/7_a0910bf.png)|\n",
    "| --- | --- |\n",
    "\n",
    "**厚涂风格 / 厚涂版绘**\n",
    "\n",
    "| ![drawing](https://bce.bdstatic.com/doc/AIDP/wenxin/8_ea9d4f2.png) |![drawing](https://bce.bdstatic.com/doc/AIDP/wenxin/9_8defb0a.png) |\n",
    "| --- | --- |\n",
    "\n",
    "|  ![drawing](https://bce.bdstatic.com/doc/AIDP/wenxin/10_328c202.png)|![drawing](https://bce.bdstatic.com/doc/AIDP/wenxin/11_748702c.png)|\n",
    "| --- | --- |\n",
    "\n",
    "**古风**\n",
    "\n",
    "| ![drawing](https://bce.bdstatic.com/doc/AIDP/wenxin/12_85ba92e.png) |![drawing](https://bce.bdstatic.com/doc/AIDP/wenxin/13_cec7db5.png) |\n",
    "| --- | --- |\n",
    "\n",
    "|  ![drawing](https://bce.bdstatic.com/doc/AIDP/wenxin/14_3511a5d.png)|![drawing](https://bce.bdstatic.com/doc/AIDP/wenxin/15_2443b20.png)|\n",
    "| --- | --- |\n",
    "\n",
    "**精致面容**\n",
    "\n",
    "| ![drawing](https://bce.bdstatic.com/doc/AIDP/wenxin/16_c79ef20.png) |![drawing](https://bce.bdstatic.com/doc/AIDP/wenxin/17_9334d56.png) |\n",
    "| --- | --- |\n",
    "\n",
    "|  ![drawing](https://bce.bdstatic.com/doc/AIDP/wenxin/18_4ba96b0.png)|![drawing](https://bce.bdstatic.com/doc/AIDP/wenxin/19_e627e62.png)|\n",
    "| --- | --- |\n",
    "\n",
    "**穆夏 / 穆夏风格**\n",
    "\n",
    "| ![drawing](https://bce.bdstatic.com/doc/AIDP/wenxin/20_2cd8cfb.png) |![drawing](https://bce.bdstatic.com/doc/AIDP/wenxin/21_75b47a2.png) |\n",
    "| --- | --- |\n",
    "\n",
    "**机械感 / 机械**\n",
    "\n",
    "| ![drawing](https://bce.bdstatic.com/doc/AIDP/wenxin/22_c43e94f.png) |![drawing](https://bce.bdstatic.com/doc/AIDP/wenxin/23_3e85390.png) |\n",
    "| --- | --- |\n",
    "\n",
    "**宫崎骏动画**\n",
    "\n",
    "| ![drawing](https://bce.bdstatic.com/doc/AIDP/wenxin/24_02e9187.png) |![drawing](https://bce.bdstatic.com/doc/AIDP/wenxin/25_ecca869.png) |\n",
    "| --- | --- |\n",
    "\n",
    "**烟雾 / 烟雾缭绕**\n",
    "\n",
    "| ![drawing](https://bce.bdstatic.com/doc/AIDP/wenxin/26_d2bf84c.png) |![drawing](https://bce.bdstatic.com/doc/AIDP/wenxin/27_c482d21.png) |\n",
    "| --- | --- |\n",
    "\n",
    "**皮克斯动画**\n",
    "\n",
    "| ![drawing](https://bce.bdstatic.com/doc/AIDP/wenxin/28_b15c2c3.png) |![drawing](https://bce.bdstatic.com/doc/AIDP/wenxin/29_1a87854.png) |\n",
    "| --- | --- |\n",
    "\n",
    "**拟人化**\n",
    "\n",
    "| ![drawing](https://bce.bdstatic.com/doc/AIDP/wenxin/30_f55ea2d.png) |![drawing](https://bce.bdstatic.com/doc/AIDP/wenxin/31_bc12eaa.png) |\n",
    "| --- | --- |\n",
    "\n",
    "**剪纸叠加风格**\n",
    "\n",
    "| ![drawing](https://bce.bdstatic.com/doc/AIDP/wenxin/32_60f30a6.png) |![drawing](https://bce.bdstatic.com/doc/AIDP/wenxin/33_c4020cc.png) |\n",
    "| --- | --- |\n",
    "\n",
    "**色彩斑斓**\n",
    "\n",
    "| ![drawing](https://bce.bdstatic.com/doc/AIDP/wenxin/34_16c64b5.png) |![drawing](https://bce.bdstatic.com/doc/AIDP/wenxin/35_4b439ff.png) |\n",
    "| --- | --- |\n",
    "\n",
    "**城市印象 &amp; 圆形轮廓**\n",
    "\n",
    "| ![drawing](https://bce.bdstatic.com/doc/AIDP/wenxin/36_2ed177e.png) |![drawing](https://bce.bdstatic.com/doc/AIDP/wenxin/37_d00e2bc.png) |\n",
    "| --- | --- |\n",
    "\n",
    "**上半身立绘 / 人物立绘**\n",
    "\n",
    "| ![drawing](https://bce.bdstatic.com/doc/AIDP/wenxin/38_0ec9be4.png) |![drawing](https://bce.bdstatic.com/doc/AIDP/wenxin/39_e72f64a.png) |\n",
    "| --- | --- |\n",
    "\n",
    "**电影质感**\n",
    "\n",
    "| ![drawing](https://bce.bdstatic.com/doc/AIDP/wenxin/40_f90ee02.png) |![drawing](https://bce.bdstatic.com/doc/AIDP/wenxin/41_1d3da07.png) |\n",
    "| --- | --- |\n",
    "\n",
    "**扁平化设计 / 扁平化**\n",
    "\n",
    "| ![drawing](https://bce.bdstatic.com/doc/AIDP/wenxin/42_a6fe543.png) |![drawing](https://bce.bdstatic.com/doc/AIDP/wenxin/43_360f7d8.png) |\n",
    "| --- | --- |\n",
    "\n",
    "**logo设计 / 简约logo设计**\n",
    "\n",
    "| ![drawing](https://bce.bdstatic.com/doc/AIDP/wenxin/44_73b7e12.png) |![drawing](https://bce.bdstatic.com/doc/AIDP/wenxin/45_5d2b093.png) |\n",
    "| --- | --- |\n",
    "\n",
    "**细节清晰**\n",
    "\n",
    "| ![drawing](https://bce.bdstatic.com/doc/AIDP/wenxin/46_e9e50e1.png) |![drawing](https://bce.bdstatic.com/doc/AIDP/wenxin/47_396cba1.png) |\n",
    "| --- | --- |\n",
    "\n",
    "**毛发细致**\n",
    "\n",
    "| ![drawing](https://bce.bdstatic.com/doc/AIDP/wenxin/48_55f90be.png) |![drawing](https://bce.bdstatic.com/doc/AIDP/wenxin/49_4b86ed3.png) |\n",
    "| --- | --- |"
   ]
  },
  {
   "cell_type": "markdown",
   "id": "17c5f697",
   "metadata": {
    "id": "2-风格词参考"
   },
   "source": [
    "#### 2. 风格词参考\n",
    "\n",
    "复古未来主义风格 ->- 海滩兔风格 ->- 抽象技术风格 ->- 酸性精灵风格 ->- 古埃及风格 ->- 风帽风格 ->- 装饰艺术风格 ->- 极光风格 ->- 秋天风格 ->- 巴洛克风格 ->- 摩托车手风格 ->- 碎核风格 ->- 纸箱风格 ->- 未来主义风格 ->- 孟菲斯公司风格 ->- 立体主义风格 ->-赛博朋克风格 ->- 黑暗自然主义风格 ->- 表现主义风格 ->- 野兽派风格 ->- 鬼魂风格 ->- 嘻哈风格 ->- 嬉皮士风格 ->- 幻象之城风格 ->- 印象主义风格 ->- 卡瓦伊风格 ->- 美人鱼风格 ->- 极简主义风格 ->- 水井惠郎风格 ->- 苔藓风格 ->- 新浪潮风格 ->- 迷宫物语风格 ->- 仙女风格 ->- 粉彩朋克风格 ->- 照片写实风格 ->- 粉红公主风格 ->- 海盗风格 ->- 像素可爱风格 ->- 波普艺术风格 ->- 史前遗迹风格 ->- 迷幻风格 ->- 雨天风格 ->- 湿漉漉的风格 ->- 浮世绘风格 ->- 矢量心风格 ->- 维京人风格 ->- 女巫店风格 ->- 后印象主义 ->- 素人主义"
   ]
  },
  {
   "cell_type": "markdown",
   "id": "584c3ebd",
   "metadata": {
    "id": "3-艺术词参考"
   },
   "source": [
    "#### 3. 艺术词参考\n",
    "\n",
    "|                   艺术类型                   |                   艺术家                   |                   常用艺术风格                   |\n",
    "| --- | --- | --- |\n",
    "| <center>肖像画| \t<center>文森特·梵高| \t<center>印象主义|\n",
    "| <center>风景画\t| <center>尼古拉斯·罗伊里奇\t| <center>现实主义|\n",
    "| <center>风俗画\t| <center>皮埃尔-奥古斯特·雷诺阿| \t<center>浪漫主义|\n",
    "| <center>宗教绘画\t| <center>克劳德·莫内\t| <center>表现主义|\n",
    "| <center>抽象画| \t<center>彼得·孔查洛夫斯基\t| <center>后印象主义|\n",
    "| <center>都市风景画| \t<center>卡米尔·毕沙罗\t| <center>象征主义|\n",
    "| <center>素描与草图| \t<center>约翰·辛格·萨金特| \t<center>新艺术主义|\n",
    "| <center>静物| \t<center>伦勃朗| \t<center>巴洛克风格|\n",
    "| <center>裸体画| \t<center>马克·夏加尔| \t<center>抽象表现主义|\n",
    "| <center>插画| \t<center>巴勃罗·毕加索\t| <center>北欧文艺复兴|\n",
    "| | <center>古斯塔夫·多雷\t| <center>素人艺术，原始主义|\n",
    "| | <center>阿尔布雷特·丢勒\t| <center>立体主义|\n",
    "| | <center>鲍里斯·库斯妥基耶夫\t| <center>洛可可|\n",
    "| | <center>埃德加·德加| \t<center>色域绘画|\n",
    "| | |  <center>波普艺术|\n",
    "| | | <center>文艺复兴开端|\n",
    "| | | <center>文艺复兴全盛期| |\n",
    "|| |  <center>极简主义|\n",
    "| | | <center>矫饰主义，文艺复兴晚期|"
   ]
  },
  {
   "cell_type": "markdown",
   "id": "9c21dd96",
   "metadata": {
    "id": "4-摄影词参考"
   },
   "source": [
    "#### 4. 摄影词参考\n",
    "\n",
    "|<center>                  可以加入到Prompt 中的摄影词                  |                                                                        |\n",
    "| --- | --- |\n",
    "|<center>浅景深\t|<center>仰拍|\n",
    "|<center>负像\t|<center>动态模糊|\n",
    "|<center>微距\t|<center>高反差|\n",
    "|<center>双色版|\t<center>中心构图|\n",
    "|<center>角度\t|<center>逆光|\n",
    "|<center>三分法|\t<center>长曝光|\n",
    "|<center>抓拍\t|<center>禅宗摄影|\n",
    "|<center>软焦点|\t<center>抽象微距镜头|\n",
    "|<center>黑白|\t<center>暗色调|\n",
    "|<center>无镜反射|\t<center>长时间曝光|\n",
    "|<center>双色调|\t<center>框架，取景|\n",
    "|<center>颗粒图像||"
   ]
  },
  {
   "cell_type": "markdown",
   "id": "3581e753",
   "metadata": {
    "id": "技巧提示"
   },
   "source": [
    "### 技巧提示\n",
    "\n",
    "1. 【作图规则】Prompt构建是文本符合逻辑的组合，有序且丰富的描述可以不断提升画面效果\n",
    "2. 【新手入门】不知如何输入Prompt？点击示例，体验文生图的魅力，参考教程，逐步进阶~\n",
    "3. 【风格生成】试试添加 “国潮”、“国风”等，感受中国风的魅力\n",
    "4. 【风格生成】试试混合两种代表性的风格，例如“赛博朋克，扁平化设计”、”皮克斯动画，赛博朋克”\n",
    "5. 【人像生成】添加“仙鹤、月亮、楼阁、小屋、街道、玫瑰、机械”，画面会更饱满\n",
    "6. 【人像生成】添加“精致面容、唯美、cg感、细节清晰“等，人物刻画会更细致\n",
    "7. 【风格生成】添加“扁平化风格，logo”等，可以设计出各类图标等，例如 “猫猫头像，扁平化风格”\n",
    "8. 【风格生成】指定颜色，或添加“烟雾缭绕”、“火焰”、“烟尘”、“花瓣”，生成画面的氛围感更饱满\n",
    "9. 【创意生成】发挥想象力，例如：“中西混搭”、“泰迪熊唱京剧”、“米老鼠吃火锅”\n",
    "10. 【风格生成】“水彩”，“水墨”与古诗组合，画面意境会有提升~\n",
    "11. 【风格生成】想要日系头像和拟人化动物？试试关键词“日系手绘”、“治愈风”\n",
    "12. 【风格生成】添加“pixiv”，生成二次元或者动漫的画质更惊艳"
   ]
  },
  {
   "cell_type": "markdown",
   "id": "a75c3d0b",
   "metadata": {
    "id": "呼吁与准则"
   },
   "source": [
    "### 呼吁与准则\n",
    "\n",
    "利用AI技术生成图片的最终目的是要便捷地为人类创造美的作品，激发人的想象力和创作力。而技术在发展中，做不到十全十美，不能保证每次生成的图片都能够尽善尽美。因此呼吁所有用户，您想分享满意的AI图片时，请以正能量进行传播宣传！\n",
    "算法生成的图片难免会受到数据的影响，从而导致生成的图片是有数据偏见的。因此在分享AI生成图片到社交媒体之前，请谨慎评估当前的图片是不是含有：令人不适的、暴力的、色情的内容。如对以上的内容进行恶意传播，您将会承担相应的法律后果。\n",
    "\n",
    "<span id=\"related-work\">   </span>"
   ]
  },
  {
   "cell_type": "markdown",
   "id": "1105b67d",
   "metadata": {
    "id": "相关链接"
   },
   "source": [
    "### 相关链接\n",
    "\n",
    "美学相关的词汇： https://aesthetics.fandom.com/wiki/List_of_Aesthetics\n",
    "\n",
    "DALL-E 2 的 Prompt 技巧资料：https://docs.google.com/document/d/11WlzjBT0xRpQhP9tFMtxzd0q6ANIdHPUBkMV-YB043U/edit\n",
    "\n",
    "DiscoDiffusion Prompt 技巧资料：https://docs.google.com/document/d/1l8s7uS2dGqjztYSjPpzlmXLjl5PM3IGkRWI3IiCuK7g/edit"
   ]
  },
  {
   "cell_type": "markdown",
   "id": "eebd7e5b",
   "metadata": {
    "id": "五-服务部署"
   },
   "source": [
    "## 五、服务部署\n",
    "\n",
    "- PaddleHub Serving可以部署一个在线文图生成服务。\n",
    "\n",
    "- ### 第一步：启动PaddleHub Serving\n",
    "\n",
    "  - 运行启动命令：\n",
    "  - ```shell\n",
    "    $ hub serving start -m ernie_vilg\n",
    "    ```\n",
    "\n",
    "  - 这样就完成了一个文图生成的在线服务API的部署，默认端口号为8866。\n",
    "\n",
    "  - **NOTE:** 如使用GPU预测，则需要在启动服务之前，请设置CUDA\\_VISIBLE\\_DEVICES环境变量，否则不用设置。\n",
    "\n",
    "- ### 第二步：发送预测请求\n",
    "\n",
    "  - 配置好服务端，以下数行代码即可实现发送预测请求，获取预测结果。\n",
    "\n",
    "  - ```python\n",
    "    import requests\n",
    "    import json\n",
    "    import cv2\n",
    "    import base64\n",
    "    from io import BytesIO\n",
    "    from PIL import Image\n",
    "\n",
    "    # 发送HTTP请求\n",
    "    data = {'text_prompts': '巨大的白色城堡'}\n",
    "    headers = {\"Content-type\": \"application/json\"}\n",
    "    url = \"http://127.0.0.1:8866/predict/ernie_vilg\"\n",
    "    r = requests.post(url=url, headers=headers, data=json.dumps(data))\n",
    "\n",
    "    # 获取返回结果\n",
    "    for i, result in enumerate(r.json()[\"results\"]):\n",
    "      image = Image.open(BytesIO(base64.b64decode(result)))\n",
    "      image.save('result_{}.png'.format(i))\n",
    "\n",
    "- ### gradio app 支持\n",
    "  从paddlehub 2.3.1开始支持使用链接 http://127.0.0.1:8866/gradio/ernie_vilg 在浏览器中访问ernie_vilg的gradio app。"
   ]
  },
  {
   "cell_type": "markdown",
   "id": "3beec228",
   "metadata": {
    "id": "六-更新历史"
   },
   "source": [
    "## 六、更新历史\n",
    "\n",
    "* 1.0.0\n",
    "\n",
    "  初始发布\n",
    "\n",
    "* 1.1.0\n",
    "\n",
    "  增加分辨率参数以及所支持的风格\n",
    "\n",
    "* 1.2.0\n",
    "\n",
    "  移除分辨率参数，移除默认 AK 和 SK\n",
    "\n",
    "* 1.3.0\n",
    "  新增对gradio app的支持\n",
    "\n",
    "  ```shell\n",
    "  $ hub install ernie_vilg == 1.3.0\n",
    "  ```</center></center></center></center></center></center></center></center></center></center></center></center></center></center></center></center></center></center></center></center></center></center></center></center></center></center></center></center></center></center></center></center></center></center></center></center></center></center></center></center></center></center></center></center></center></center></center></center></center></center></center></center></center></center></center></center></center></center></center></center></center></center></center></center></center></center></center>"
   ]
  }
 ],
 "metadata": {
  "colab": {
   "name": "PaddleHub ERNIE-ViLG",
   "toc_visible": true
  },
  "kernelspec": {
   "display_name": "python3",
   "name": "python3"
  }
 },
 "nbformat": 4,
 "nbformat_minor": 5
}
