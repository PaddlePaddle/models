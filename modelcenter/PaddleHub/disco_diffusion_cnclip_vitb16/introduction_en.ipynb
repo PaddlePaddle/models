{
 "cells": [
  {
   "cell_type": "markdown",
   "id": "dc9d226f",
   "metadata": {
    "id": "disco_diffusion_cnclip_vitb16"
   },
   "source": [
    "# disco_diffusion_cnclip_vitb16\n",
    "\n",
    "|Module Name|disco_diffusion_cnclip_vitb16|\n",
    "| :--- | :---: |\n",
    "|Category|text to image|\n",
    "|Network|dd+cnclip ViTB16|\n",
    "|Dataset|-|\n",
    "|Fine-tuning supported or not|No|\n",
    "|Module Size|2.9GB|\n",
    "|Latest update date|2022-08-02|\n",
    "|Data indicators|-|"
   ]
  },
  {
   "cell_type": "markdown",
   "id": "1d004f3f",
   "metadata": {
    "id": "i-basic-information"
   },
   "source": [
    "## I.Basic Information"
   ]
  },
  {
   "cell_type": "markdown",
   "id": "42ca879f",
   "metadata": {
    "id": "application-effect-display"
   },
   "source": [
    "### Application Effect Display\n",
    "\n",
    "   - Prompt \"在宁静的风景中画一幅美丽的建筑画，由Arthur Adams在artstation上所作\"\n",
    "\n",
    "   - Output image\n",
    "   <p align=\"center\">\n",
    "     <img src=\"https://user-images.githubusercontent.com/22424850/184838000-566f0548-f0f5-4df6-a4af-16bb70220137.png\" width=\"80%\" hspace=\"10\"/>\n",
    "   <br/>\n",
    "\n",
    "   - Generating process\n",
    "   </p><p align=\"center\">\n",
    "     <img src=\"https://user-images.githubusercontent.com/22424850/184837520-f30f21e1-5310-4925-a8d2-946337795010.gif\" width=\"80%\" hspace=\"10\"/>\n",
    "   <br/>"
   ]
  },
  {
   "cell_type": "markdown",
   "id": "77d71a50",
   "metadata": {
    "id": "module-introduction"
   },
   "source": [
    "### Module Introduction\n",
    "\n",
    "disco_diffusion_cnclip_vitb16 is a text-to-image generation model that can generate images that match the semantics of the sentence you prompt. The model consists of two parts, one is the diffusion model, which is a generative model that reconstructs the original image from the noisy input. The other part is the multimodal pre-training model (CLIP), which can represent text and images in the same feature space, and text and images with similar semantics will be closer in this feature space. In the text image generation model, the diffusion model is responsible for generating the target image from the initial noise or the specified initial image, and CLIP is responsible for guiding the generated image to be as close as possible to the semantics of the input text. Diffusion model under the guidance of CLIP iteratively generates new images, eventually generating images of what the text describes. The CLIP model used in this module is ViTB16.\n",
    "\n",
    "For more details, please refer to [Diffusion Models Beat GANs on Image Synthesis](https://arxiv.org/abs/2105.05233) and [Learning Transferable Visual Models From Natural Language Supervision](https://arxiv.org/abs/2103.00020)"
   ]
  },
  {
   "cell_type": "markdown",
   "id": "fe2d3178",
   "metadata": {
    "id": "ii-installation"
   },
   "source": [
    "## II.Installation\n",
    "\n",
    "- ### 1.Environmental Dependence\n",
    "\n",
    "  - paddlepaddle >= 2.0.0\n",
    "\n",
    "  - paddlehub >= 2.2.0    | [How to install PaddleHub](../../../../docs/docs_en/get_start/installation.rst)\n",
    "\n",
    "- ### 2.Installation\n",
    "\n",
    "  - ```shell\n",
    "    $ hub install disco_diffusion_cnclip_vitb16\n",
    "    ```\n",
    "  - In case of any problems during installation, please refer to:[Windows_Quickstart](../../../../docs/docs_en/get_start/windows_quickstart.md) | [Linux_Quickstart](../../../../docs/docs_en/get_start/linux_quickstart.md) | [Mac_Quickstart](../../../../docs/docs_en/get_start/mac_quickstart.md)"
   ]
  },
  {
   "cell_type": "markdown",
   "id": "ae874978",
   "metadata": {
    "id": "iii-module-api-prediction"
   },
   "source": [
    "## III.Module API Prediction\n",
    "\n",
    "- ### 1.Command line Prediction\n",
    "\n",
    "  - ```shell\n",
    "    $ hub run disco_diffusion_cnclip_vitb16 --text_prompts \"孤舟蓑笠翁，独钓寒江雪。风格如齐白石所作。\" --output_dir disco_diffusion_cnclip_vitb16_out\n",
    "    ```\n",
    "\n",
    "- ### 2.Prediction Code Example\n",
    "\n",
    "  - ```python\n",
    "    import paddlehub as hub\n",
    "\n",
    "    module = hub.Module(name=\"disco_diffusion_cnclip_vitb16\")\n",
    "    text_prompts = [\"孤舟蓑笠翁，独钓寒江雪。\"]\n",
    "    # Output images will be saved in disco_diffusion_cnclip_vitb16_out directory.\n",
    "    # The returned da is a DocumentArray object, which contains all immediate and final results\n",
    "    # You can manipulate the DocumentArray object to do post-processing and save images\n",
    "    da = module.generate_image(text_prompts=text_prompts, artist='齐白石', output_dir='./disco_diffusion_cnclip_vitb16_out/')\n",
    "    # Save final result image to a file\n",
    "    da[0].save_uri_to_file('disco_diffusion_cnclip_vitb16_out-result.png')\n",
    "    # Show all immediate results\n",
    "    da[0].chunks.plot_image_sprites(skip_empty=True, show_index=True, keep_aspect_ratio=True)\n",
    "    # Save the generating process as a gif\n",
    "    da[0].chunks.save_gif('disco_diffusion_cnclip_vitb16_out-result.gif')\n",
    "    ```\n",
    "\n",
    "- ### 3.API\n",
    "\n",
    "  - ```python\n",
    "    def generate_image(\n",
    "            text_prompts,\n",
    "            style: Optional[str] = None,\n",
    "            artist: Optional[str] = None,\n",
    "            width_height: Optional[List[int]] = [1280, 768],\n",
    "            seed: Optional[int] = None,\n",
    "            output_dir: Optional[str] = 'disco_diffusion_cnclip_vitb16_out'):\n",
    "    ```\n",
    "\n",
    "    - Image generating api, which generates an image corresponding to your prompt.\n",
    "\n",
    "    - **Parameters**\n",
    "\n",
    "      - text_prompts(str): Prompt, used to describe your image content. You can construct a prompt conforms to the format \"content\" + \"artist/style\", such as \"孤舟蓑笠翁，独钓寒江雪。风格如齐白石所作\". For more details, you can refer to [website](https://docs.google.com/document/d/1XUT2G9LmkZataHFzmuOtRXnuWBfhvXDAo8DkS--8tec/edit#).\n",
    "      - style(Optional[str]): Image style, such as \"watercolor\" and \"Chinese painting\". If not provided, style is totally up to your prompt.\n",
    "      - artist(Optional[str]): Artist name, such as 齐白石,Greg Rutkowsk，image style is as whose works you choose. If not provided, style is totally up to your [prompt](https://weirdwonderfulai.art/resources/disco-diffusion-70-plus-artist-studies/).\n",
    "      - width_height(Optional[List[int]]): The width and height of output images, should be better multiples of 64. The larger size is, the longger computation time is.\n",
    "      - seed(Optional[int]): Random seed, different seeds result in different output images.\n",
    "      - output_dir(Optional[str]): Output directory, default is \"disco_diffusion_cnclip_vitb16_out\".\n",
    "\n",
    "    - **Return**\n",
    "      - ra(DocumentArray): DocumentArray object， including `n_batches` Documents，each document keeps all immediate results during generation, please refer to [DocumentArray tutorial](https://docarray.jina.ai/fundamentals/documentarray/index.html) for more details."
   ]
  },
  {
   "cell_type": "markdown",
   "id": "cf6c5370",
   "metadata": {
    "id": "iv-server-deployment"
   },
   "source": [
    "## IV.Server Deployment\n",
    "\n",
    "- PaddleHub Serving can deploy an online service of text-to-image.\n",
    "\n",
    "- ### Step 1: Start PaddleHub Serving\n",
    "\n",
    "  - Run the startup command：\n",
    "  - ```shell\n",
    "    $ hub serving start -m disco_diffusion_cnclip_vitb16\n",
    "    ```\n",
    "\n",
    "  - The servitization API is now deployed and the default port number is 8866.\n",
    "\n",
    "  - **NOTE:**  If GPU is used for prediction, set CUDA_VISIBLE_DEVICES environment variable before the service, otherwise it need not be set.\n",
    "\n",
    "- ### Step 2: Send a predictive request\n",
    "\n",
    "  - With a configured server, use the following lines of code to send the prediction request and obtain the result.\n",
    "\n",
    "  - ```python\n",
    "    import requests\n",
    "    import json\n",
    "    import cv2\n",
    "    import base64\n",
    "    from docarray import DocumentArray\n",
    "\n",
    "    # Send an HTTP request\n",
    "    data = {'text_prompts': '孤舟蓑笠翁，独钓寒江雪。风格如齐白石所作'}\n",
    "    headers = {\"Content-type\": \"application/json\"}\n",
    "    url = \"http://127.0.0.1:8866/predict/disco_diffusion_cnclip_vitb16\"\n",
    "    r = requests.post(url=url, headers=headers, data=json.dumps(data))\n",
    "\n",
    "    # Get results\n",
    "    da = DocumentArray.from_base64(r.json()[\"results\"])\n",
    "    # Save final result image to a file\n",
    "    da[0].save_uri_to_file('disco_diffusion_cnclip_vitb16_out-result.png')\n",
    "    # Save the generating process as a gif\n",
    "    da[0].chunks.save_gif('disco_diffusion_cnclip_vitb16_out-result.gif')"
   ]
  },
  {
   "cell_type": "markdown",
   "id": "60e03eda",
   "metadata": {
    "id": "v-release-note"
   },
   "source": [
    "## V.Release Note\n",
    "\n",
    "* 1.0.0\n",
    "\n",
    "  First release\n",
    "\n",
    "  ```shell\n",
    "  $ hub install disco_diffusion_cnclip_vitb16 == 1.0.0\n",
    "  ```</p>"
   ]
  }
 ],
 "metadata": {
  "colab": {
   "name": "disco_diffusion_cnclip_vitb16",
   "toc_visible": true
  },
  "kernelspec": {
   "display_name": "python3",
   "name": "python3"
  }
 },
 "nbformat": 4,
 "nbformat_minor": 5
}
