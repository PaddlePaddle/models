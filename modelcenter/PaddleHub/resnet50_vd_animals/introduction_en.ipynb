{
 "cells": [
  {
   "cell_type": "markdown",
   "id": "6c3d15b9",
   "metadata": {
    "id": "resnet50_vd_animals"
   },
   "source": [
    "# resnet50_vd_animals\n",
    "\n",
    "|Module Name|resnet50_vd_animals|\n",
    "| :--- | :---: |\n",
    "|Category |Image classification|\n",
    "|Network|ResNet50_vd|\n",
    "|Dataset|Baidu self-built dataset|\n",
    "|Fine-tuning supported or not|No|\n",
    "|Module Size|154MB|\n",
    "|Latest update date|2021-02-26|\n",
    "|Data indicators|-|"
   ]
  },
  {
   "cell_type": "markdown",
   "id": "84668585",
   "metadata": {
    "id": "i-basic-information"
   },
   "source": [
    "## I. Basic Information\n",
    "\n",
    "- ### Application Effect Display\n",
    "\n",
    "  - ResNet-vd is a variant of ResNet, which can be used for image classification and feature extraction. This module is trained by Baidu self-built animal data set and supports the classification and recognition of 7,978 animal species.\n",
    "  - For more information, please refer to [ResNet-vd](https://arxiv.org/pdf/1812.01187.pdf)"
   ]
  },
  {
   "cell_type": "markdown",
   "id": "e1f16422",
   "metadata": {
    "id": "ii-installation"
   },
   "source": [
    "## II. Installation\n",
    "\n",
    "- ### 1、Environmental Dependence\n",
    "\n",
    "    - paddlepaddle >= 2.0.0\n",
    "\n",
    "    - paddlehub >= 2.0.0\n",
    "\n",
    "- ### 2、Installation\n",
    "\n",
    "  - ```shell\n",
    "    $ hub install resnet50_vd_animals\n",
    "    ```\n",
    "  - In case of any problems during installation, please refer to:[Windows_Quickstart](../../../../docs/docs_en/get_start/windows_quickstart.md)\n",
    "    | [Linux_Quickstart](../../../../docs/docs_en/get_start/linux_quickstart.md) | [Mac_Quickstart](../../../../docs/docs_en/get_start/mac_quickstart.md)"
   ]
  },
  {
   "cell_type": "markdown",
   "id": "caeb4d69",
   "metadata": {
    "id": "iii-module-api-prediction"
   },
   "source": [
    "## III. Module API Prediction\n",
    "\n",
    "- ### 1、Command line Prediction\n",
    "\n",
    "  - ```shell\n",
    "    $ hub run resnet50_vd_animals --input_path \"/PATH/TO/IMAGE\"\n",
    "    ```\n",
    "  - If you want to call the Hub module through the command line, please refer to: [PaddleHub Command Line Instruction](../../../../docs/docs_en/tutorial/cmd_usage.rst)\n",
    "\n",
    "- ### 2、Prediction Code Example\n",
    "\n",
    "    - ```python\n",
    "      import paddlehub as hub\n",
    "      import cv2\n",
    "\n",
    "      classifier = hub.Module(name=\"resnet50_vd_animals\")\n",
    "\n",
    "      result = classifier.classification(images=[cv2.imread('/PATH/TO/IMAGE')])\n",
    "      # or\n",
    "      # result = classifier.classification(paths=['/PATH/TO/IMAGE'])\n",
    "      ```\n",
    "\n",
    "- ### 3、API\n",
    "\n",
    "    - ```python\n",
    "      def get_expected_image_width()\n",
    "      ```\n",
    "\n",
    "        - Returns the preprocessed image width, which is 224.\n",
    "\n",
    "    - ```python\n",
    "      def get_expected_image_height()\n",
    "      ```\n",
    "\n",
    "        - Returns the preprocessed image height, which is 224.\n",
    "\n",
    "    - ```python\n",
    "      def get_pretrained_images_mean()\n",
    "      ```\n",
    "\n",
    "        - Returns the mean value of the preprocessed image, which is \\[0.485, 0.456, 0.406\\].\n",
    "\n",
    "    - ```python\n",
    "      def get_pretrained_images_std()\n",
    "      ```\n",
    "\n",
    "        - Return the standard deviation of the preprocessed image, which is \\[0.229, 0.224, 0.225\\].\n",
    "\n",
    "    - ```python\n",
    "      def classification(images=None,\n",
    "                         paths=None,\n",
    "                         batch_size=1,\n",
    "                         use_gpu=False,\n",
    "                         top_k=1):\n",
    "      ```\n",
    "\n",
    "        - **Parameter**\n",
    "\n",
    "            * images (list\\[numpy.ndarray\\]): image data, ndarray.shape is in the format [H, W, C], BGR;\n",
    "            * paths (list\\[str\\]): image path;\n",
    "            * batch\\_size (int): batch size;\n",
    "            * use\\_gpu (bool): use GPU or not; **set the CUDA_VISIBLE_DEVICES environment variable first if you are using GPU**\n",
    "            * top\\_k (int): return the top k prediction results.\n",
    "\n",
    "        - **Return**\n",
    "\n",
    "            -   res (list\\[dict\\]): the list of classification results，key is the prediction label, value is the corresponding confidence.\n",
    "\n",
    "    - ```python\n",
    "      def save_inference_model(dirname,\n",
    "                               model_filename=None,\n",
    "                               params_filename=None,\n",
    "                               combined=True)\n",
    "      ```\n",
    "\n",
    "        - Save the model to the specified path.\n",
    "\n",
    "        - **Parameters**\n",
    "            * dirname: Save path.\n",
    "            * model\\_filename: model file name，defalt is \\_\\_model\\_\\_\n",
    "            * params\\_filename: parameter file name，defalt is \\_\\_params\\_\\_(Only takes effect when `combined` is True)\n",
    "            * combined: Whether to save the parameters to a unified file."
   ]
  },
  {
   "cell_type": "markdown",
   "id": "c7c4c8a7",
   "metadata": {
    "id": "iv-server-deployment"
   },
   "source": [
    "## IV. Server Deployment\n",
    "\n",
    "- PaddleHub Serving can deploy an online service of animal classification.\n",
    "\n",
    "- ### Step 1: Start PaddleHub Serving\n",
    "\n",
    "    - Run the startup command:\n",
    "\n",
    "        - ```shell\n",
    "          $ hub serving start -m resnet50_vd_animals\n",
    "          ```\n",
    "\n",
    "    - The servitization API is now deployed and the default port number is 8866.\n",
    "    - **NOTE:**  If GPU is used for prediction, set CUDA_VISIBLE_DEVICES environment variable before the service, otherwise it need not be set.\n",
    "\n",
    "- ### Step 2: Send a predictive request\n",
    "\n",
    "    - With a configured server, use the following lines of code to send the prediction request and obtain the result\n",
    "\n",
    "      - ```python\n",
    "        import requests\n",
    "        import json\n",
    "        import cv2\n",
    "        import base64\n",
    "\n",
    "        def cv2_to_base64(image):\n",
    "            data = cv2.imencode('.jpg', image)[1]\n",
    "            return base64.b64encode(data.tostring()).decode('utf8')\n",
    "\n",
    "        # Send an HTTP request\n",
    "        data = {'images':[cv2_to_base64(cv2.imread(\"/PATH/TO/IMAGE\"))]}\n",
    "        headers = {\"Content-type\": \"application/json\"}\n",
    "        url = \"http://127.0.0.1:8866/predict/resnet50_vd_animals\"\n",
    "        r = requests.post(url=url, headers=headers, data=json.dumps(data))\n",
    "\n",
    "        # print prediction results\n",
    "        print(r.json()[\"results\"])\n",
    "        ```"
   ]
  },
  {
   "cell_type": "markdown",
   "id": "c7b948dc",
   "metadata": {
    "id": "v-release-note"
   },
   "source": [
    "## V. Release Note\n",
    "\n",
    "- 1.0.0\n",
    "\n",
    "  First release\n",
    "\n",
    "* 1.1.0\n",
    "\n",
    "  Remove Fluid API\n",
    "\n",
    "  - ```shell\n",
    "    $ hub install resnet50_vd_animals==1.1.0\n",
    "    ```"
   ]
  }
 ],
 "metadata": {
  "colab": {
   "name": "resnet50_vd_animals",
   "toc_visible": true
  },
  "kernelspec": {
   "display_name": "python3",
   "name": "python3"
  }
 },
 "nbformat": 4,
 "nbformat_minor": 5
}
