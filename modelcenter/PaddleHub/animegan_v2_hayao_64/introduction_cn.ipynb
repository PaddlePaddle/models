{
 "cells": [
  {
   "cell_type": "markdown",
   "id": "17ab51e7",
   "metadata": {
    "id": "animegan_v2_hayao_64"
   },
   "source": [
    "# animegan_v2_hayao_64\n",
    "\n",
    "|模型名称|animegan_v2_hayao_64|\n",
    "| :--- | :---: |\n",
    "|类别|图像 - 图像生成|\n",
    "|网络|AnimeGAN|\n",
    "|数据集|The Wind Rises|\n",
    "|是否支持Fine-tuning|否|\n",
    "|模型大小|9.4MB|\n",
    "|最新更新日期|2021-07-30|\n",
    "|数据指标|-|"
   ]
  },
  {
   "cell_type": "markdown",
   "id": "299f130e",
   "metadata": {
    "id": "一-模型基本信息"
   },
   "source": [
    "## 一、模型基本信息\n",
    "\n",
    "- ### 应用效果展示\n",
    "  - 样例结果示例：\n",
    "    <p align=\"center\">\n",
    "    <img src=\"https://ai-studio-static-online.cdn.bcebos.com/bd002c4bb6a7427daf26988770bb18648b7d8d2bfd6746bfb9a429db4867727f\" width=\"450\" height=\"300\" hspace=\"10\"/>\n",
    "    <br/>\n",
    "    输入图像\n",
    "    <br/>\n",
    "    <img src=\"https://ai-studio-static-online.cdn.bcebos.com/49620341f1fe4f00af4d93c22694897a1ae578a235844a1db1bbb4bd37bf750b\" width=\"450\" height=\"300\" hspace=\"10\"/>\n",
    "    <br/>\n",
    "    输出图像\n",
    "     <br/>\n",
    "    </p>\n",
    "\n",
    "- ### 模型介绍\n",
    "\n",
    "  - AnimeGAN V2 图像风格转换模型, 模型可将输入的图像转换成宫崎骏动漫风格，模型权重转换自[AnimeGAN V2官方开源项目](https://github.com/TachibanaYoshino/AnimeGANv2)。"
   ]
  },
  {
   "cell_type": "markdown",
   "id": "24896e5b",
   "metadata": {
    "id": "二-安装"
   },
   "source": [
    "## 二、安装\n",
    "\n",
    "- ### 1、环境依赖\n",
    "\n",
    "  - paddlepaddle >= 1.8.0\n",
    "\n",
    "  - paddlehub >= 1.8.0  | [如何安装paddlehub](../../../../docs/docs_ch/get_start/installation.rst)\n",
    "\n",
    "- ### 2、安装\n",
    "\n",
    "  - ```shell\n",
    "    $ hub install animegan_v2_hayao_64\n",
    "    ```\n",
    "  - 如您安装时遇到问题，可参考：[零基础windows安装](../../../../docs/docs_ch/get_start/windows_quickstart.md)\n",
    " | [零基础Linux安装](../../../../docs/docs_ch/get_start/linux_quickstart.md) | [零基础MacOS安装](../../../../docs/docs_ch/get_start/mac_quickstart.md)"
   ]
  },
  {
   "cell_type": "markdown",
   "id": "1f5cf85b",
   "metadata": {
    "id": "三-模型api预测"
   },
   "source": [
    "## 三、模型API预测\n",
    "\n",
    "- ### 1、预测代码示例\n",
    "\n",
    "  - ```python\n",
    "    import paddlehub as hub\n",
    "    import cv2\n",
    "\n",
    "    model = hub.Module(name=\"animegan_v2_hayao_64\")\n",
    "    result = model.style_transfer(images=[cv2.imread('/PATH/TO/IMAGE')])\n",
    "    # or\n",
    "    # result = model.style_transfer(paths=['/PATH/TO/IMAGE'])\n",
    "    ```\n",
    "\n",
    "- ### 3、API\n",
    "\n",
    "  - ```python\n",
    "    def style_transfer(images=None,\n",
    "                       paths=None,\n",
    "                       output_dir='output',\n",
    "                       visualization=False,\n",
    "                       min_size=32,\n",
    "                       max_size=1024)\n",
    "    ```\n",
    "\n",
    "    - 风格转换API，将输入的图片转换为漫画风格。\n",
    "\n",
    "    - **参数**\n",
    "\n",
    "      - images (list\\[numpy.ndarray\\]): 图片数据，ndarray.shape 为 \\[H, W, C\\]；<br/>\n",
    "      - paths (list\\[str\\]): 图片的路径；<br/>\n",
    "      - output\\_dir (str): 图片的保存路径，默认设为 output；<br/>\n",
    "      - visualization (bool): 是否将识别结果保存为图片文件；<br/>\n",
    "      - min\\_size (int): 输入图片的短边最小尺寸，默认设为 32；<br/>\n",
    "      - max\\_size (int): 输入图片的短边最大尺寸，默认设为 1024。\n",
    "\n",
    "      **NOTE:** paths和images两个参数选择其一进行提供数据\n",
    "\n",
    "    - **返回**\n",
    "      - res (list\\[numpy.ndarray\\]): 输出图像数据，ndarray.shape 为 \\[H, W, C\\]"
   ]
  },
  {
   "cell_type": "markdown",
   "id": "3e33827f",
   "metadata": {
    "id": "四-服务部署"
   },
   "source": [
    "## 四、服务部署\n",
    "\n",
    "- PaddleHub Serving可以部署一个在线图像风格转换服务。\n",
    "\n",
    "- ### 第一步：启动PaddleHub Serving\n",
    "\n",
    "  - 运行启动命令：\n",
    "  - ```shell\n",
    "    $ hub serving start -m animegan_v2_hayao_64\n",
    "    ```\n",
    "\n",
    "  - 这样就完成了一个图像风格转换的在线服务API的部署，默认端口号为8866。\n",
    "\n",
    "  - **NOTE:** 如使用GPU预测，则需要在启动服务之前，请设置CUDA\\_VISIBLE\\_DEVICES环境变量，否则不用设置。\n",
    "\n",
    "- ### 第二步：发送预测请求\n",
    "\n",
    "  - 配置好服务端，以下数行代码即可实现发送预测请求，获取预测结果\n",
    "\n",
    "  - ```python\n",
    "    import requests\n",
    "    import json\n",
    "    import cv2\n",
    "    import base64\n",
    "\n",
    "    def cv2_to_base64(image):\n",
    "      data = cv2.imencode('.jpg', image)[1]\n",
    "      return base64.b64encode(data.tostring()).decode('utf8')\n",
    "\n",
    "    # 发送HTTP请求\n",
    "    data = {'images':[cv2_to_base64(cv2.imread(\"/PATH/TO/IMAGE\"))]}\n",
    "    headers = {\"Content-type\": \"application/json\"}\n",
    "    url = \"http://127.0.0.1:8866/predict/animegan_v2_hayao_64\"\n",
    "    r = requests.post(url=url, headers=headers, data=json.dumps(data))\n",
    "\n",
    "    # 打印预测结果\n",
    "    print(r.json()[\"results\"])\n",
    "    ```"
   ]
  },
  {
   "cell_type": "markdown",
   "id": "5a49e933",
   "metadata": {
    "id": "五-更新历史"
   },
   "source": [
    "## 五、更新历史\n",
    "\n",
    "* 1.0.0\n",
    "\n",
    "  初始发布\n",
    "\n",
    "* 1.1.0\n",
    "\n",
    "  移除 Fluid API\n",
    "\n",
    "  - ```shell\n",
    "    $ hub install animegan_v2_hayao_64==1.1.0\n",
    "    ```"
   ]
  }
 ],
 "metadata": {
  "colab": {
   "name": "animegan_v2_hayao_64",
   "toc_visible": true
  },
  "kernelspec": {
   "display_name": "python3",
   "name": "python3"
  }
 },
 "nbformat": 4,
 "nbformat_minor": 5
}
