{
 "cells": [
  {
   "cell_type": "markdown",
   "id": "8c67537f",
   "metadata": {
    "id": "pplcnet_x0_75_imagenet"
   },
   "source": [
    "# pplcnet_x0_75_imagenet\n",
    "\n",
    "|模型名称|pplcnet_x0_75_imagenet|\n",
    "| :--- | :---: |\n",
    "|类别|图像-图像分类|\n",
    "|网络|PPLCNet|\n",
    "|数据集|ImageNet-2012|\n",
    "|是否支持Fine-tuning|否|\n",
    "|模型大小|9 MB|\n",
    "|最新更新日期|2022-04-02|\n",
    "|数据指标|Acc|"
   ]
  },
  {
   "cell_type": "markdown",
   "id": "4008b037",
   "metadata": {
    "id": "一-模型基本信息"
   },
   "source": [
    "## 一、模型基本信息\n",
    "\n",
    "- ### 模型介绍\n",
    "\n",
    "  - PP-LCNet是百度针对Intel CPU 设备以及其加速库 MKLDNN 设计的特定骨干网络 ，比起其他的轻量级的 SOTA 模型，该骨干网络可以在不增加推理时间的情况下，进一步提升模型的性能，最终大幅度超越现有的 SOTA 模型。该模型为模型规模参数scale为x0.75下的PP-LCNet模型，关于模型结构的更多信息，可参考[论文](https://arxiv.org/pdf/2109.15099.pdf)。"
   ]
  },
  {
   "cell_type": "markdown",
   "id": "6670cf77",
   "metadata": {
    "id": "二-安装"
   },
   "source": [
    "## 二、安装\n",
    "\n",
    "- ### 1、环境依赖\n",
    "\n",
    "  - paddlepaddle >= 1.6.2\n",
    "\n",
    "  - paddlehub >= 1.6.0  | [如何安装paddlehub](../../../../docs/docs_ch/get_start/installation.rst)\n",
    "\n",
    "- ### 2、安装\n",
    "\n",
    "  - ```shell\n",
    "    $ hub install pplcnet_x0_75_imagenet\n",
    "    ```\n",
    "  - 如您安装时遇到问题，可参考：[零基础windows安装](../../../../docs/docs_ch/get_start/windows_quickstart.md)\n",
    " | [零基础Linux安装](../../../../docs/docs_ch/get_start/linux_quickstart.md) | [零基础MacOS安装](../../../../docs/docs_ch/get_start/mac_quickstart.md)"
   ]
  },
  {
   "cell_type": "markdown",
   "id": "1e2a0fa5",
   "metadata": {
    "id": "三-模型api预测"
   },
   "source": [
    "## 三、模型API预测\n",
    "\n",
    "- ### 1、命令行预测\n",
    "\n",
    "  - ```shell\n",
    "    $ hub run pplcnet_x0_75_imagenet --input_path \"/PATH/TO/IMAGE\"\n",
    "    ```\n",
    "  - 通过命令行方式实现分类模型的调用，更多请见 [PaddleHub命令行指令](../../../../docs/docs_ch/tutorial/cmd_usage.rst)\n",
    "\n",
    "- ### 2、预测代码示例\n",
    "\n",
    "  - ```python\n",
    "    import paddlehub as hub\n",
    "    import cv2\n",
    "\n",
    "    classifier = hub.Module(name=\"pplcnet_x0_75_imagenet\")\n",
    "    result = classifier.classification(images=[cv2.imread('/PATH/TO/IMAGE')])\n",
    "    # or\n",
    "    # result = classifier.classification(paths=['/PATH/TO/IMAGE'])\n",
    "    ```\n",
    "\n",
    "- ### 3、API\n",
    "\n",
    "  - ```python\n",
    "    def classification(images=None,\n",
    "                       paths=None,\n",
    "                       batch_size=1,\n",
    "                       use_gpu=False,\n",
    "                       top_k=1):\n",
    "    ```\n",
    "    - 分类接口API。\n",
    "    - **参数**\n",
    "\n",
    "      - images (list\\[numpy.ndarray\\]): 图片数据，每一个图片数据的shape 均为 \\[H, W, C\\]，颜色空间为 BGR； <br/>\n",
    "      - paths (list\\[str\\]): 图片的路径； <br/>\n",
    "      - batch\\_size (int): batch 的大小；<br/>\n",
    "      - use\\_gpu (bool): 是否使用 GPU；**若使用GPU，请先设置CUDA_VISIBLE_DEVICES环境变量** <br/>\n",
    "      - top\\_k (int): 返回预测结果的前 k 个。\n",
    "\n",
    "    - **返回**\n",
    "\n",
    "      - res (list\\[dict\\]): 分类结果，列表的每一个元素均为字典，其中 key 包括'class_ids'（种类索引）, 'scores'（置信度） 和 'label_names'（种类名称）"
   ]
  },
  {
   "cell_type": "markdown",
   "id": "ed4df081",
   "metadata": {
    "id": "四-服务部署"
   },
   "source": [
    "## 四、服务部署\n",
    "\n",
    "- PaddleHub Serving可以部署一个图像识别的在线服务。\n",
    "\n",
    "- ### 第一步：启动PaddleHub Serving\n",
    "\n",
    "  - 运行启动命令：\n",
    "  - ```shell\n",
    "    $ hub serving start -m pplcnet_x0_75_imagenet\n",
    "    ```\n",
    "\n",
    "  - 这样就完成了一个图像识别的在线服务的部署，默认端口号为8866。\n",
    "\n",
    "  - **NOTE:** 如使用GPU预测，则需要在启动服务之前，请设置CUDA\\_VISIBLE\\_DEVICES环境变量，否则不用设置。\n",
    "\n",
    "- ### 第二步：发送预测请求\n",
    "\n",
    "  - 配置好服务端，以下数行代码即可实现发送预测请求，获取预测结果\n",
    "\n",
    "  - ```python\n",
    "    import requests\n",
    "    import json\n",
    "    import cv2\n",
    "    import base64\n",
    "\n",
    "    def cv2_to_base64(image):\n",
    "        data = cv2.imencode('.jpg', image)[1]\n",
    "        return base64.b64encode(data.tostring()).decode('utf8')\n",
    "\n",
    "    # 发送HTTP请求\n",
    "    data = {'images':[cv2_to_base64(cv2.imread(\"/PATH/TO/IMAGE\"))]}\n",
    "    headers = {\"Content-type\": \"application/json\"\\}\n",
    "    url = \"http://127.0.0.1:8866/predict/pplcnet_x0_75_imagenet\"\n",
    "    r = requests.post(url=url, headers=headers, data=json.dumps(data))\n",
    "\n",
    "    # 打印预测结果\n",
    "    print(r.json()[\"results\"])\n",
    "    ```"
   ]
  },
  {
   "cell_type": "markdown",
   "id": "c891b285",
   "metadata": {
    "id": "五-更新历史"
   },
   "source": [
    "## 五、更新历史\n",
    "\n",
    "* 1.0.0\n",
    "\n",
    "  初始发布\n",
    "\n",
    "  - ```shell\n",
    "    $ hub install pplcnet_x0_75_imagenet==1.0.0\n",
    "    ```"
   ]
  }
 ],
 "metadata": {
  "colab": {
   "name": "pplcnet_x0_75_imagenet",
   "toc_visible": true
  },
  "kernelspec": {
   "display_name": "python3",
   "name": "python3"
  }
 },
 "nbformat": 4,
 "nbformat_minor": 5
}
