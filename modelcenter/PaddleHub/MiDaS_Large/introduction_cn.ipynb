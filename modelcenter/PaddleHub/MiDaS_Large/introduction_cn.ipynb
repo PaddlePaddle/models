{
 "cells": [
  {
   "cell_type": "markdown",
   "id": "66cda3d1",
   "metadata": {
    "id": "midas_large"
   },
   "source": [
    "# MiDaS_Large\n",
    "\n",
    "|模型名称|MiDaS_Large|\n",
    "| :--- | :---: |\n",
    "|类别|图像 - 深度估计|\n",
    "|网络|-|\n",
    "|数据集|3D Movies, WSVD, ReDWeb, MegaDepth|\n",
    "|是否支持Fine-tuning|否|\n",
    "|模型大小|399MB|\n",
    "|最新更新日期|2021-02-26|\n",
    "|数据指标|-|"
   ]
  },
  {
   "cell_type": "markdown",
   "id": "9b9a9795",
   "metadata": {
    "id": "一-模型基本信息"
   },
   "source": [
    "## 一、模型基本信息\n",
    "\n",
    "- ### 应用效果展示\n",
    "  - 样例结果示例：\n",
    "    <p align=\"center\">\n",
    "    <img src=\"https://img-blog.csdnimg.cn/20201227112600975.jpg\" width=\"70%\" hspace=\"10\"/> <br/>\n",
    "    </p>\n",
    "\n",
    "- ### 模型介绍\n",
    "\n",
    "  - MiDaS_Large是一个单目深度估计模型，模型可通过输入图像估计其中的深度信息。"
   ]
  },
  {
   "cell_type": "markdown",
   "id": "f487f70a",
   "metadata": {
    "id": "二-安装"
   },
   "source": [
    "## 二、安装\n",
    "\n",
    "- ### 1、环境依赖\n",
    "\n",
    "  - paddlepaddle >= 2.0.0\n",
    "\n",
    "  - paddlehub >= 2.0.0   | [如何安装paddlehub](../../../../docs/docs_ch/get_start/installation.rst)\n",
    "\n",
    "- ### 2、安装\n",
    "\n",
    "  - ```shell\n",
    "    $ hub install MiDaS_Large\n",
    "    ```\n",
    "  - 如您安装时遇到问题，可参考：[零基础windows安装](../../../../docs/docs_ch/get_start/windows_quickstart.md)\n",
    " | [零基础Linux安装](../../../../docs/docs_ch/get_start/linux_quickstart.md) | [零基础MacOS安装](../../../../docs/docs_ch/get_start/mac_quickstart.md)"
   ]
  },
  {
   "cell_type": "markdown",
   "id": "5062166d",
   "metadata": {
    "id": "三-模型api预测"
   },
   "source": [
    "## 三、模型API预测\n",
    "\n",
    "- ### 1、预测代码示例\n",
    "\n",
    "  - ```python\n",
    "    import paddlehub as hub\n",
    "    import cv2\n",
    "\n",
    "    model = hub.Module(name=\"MiDaS_Large\")\n",
    "    result = model.depth_estimation(images=[cv2.imread('/PATH/TO/IMAGE')])\n",
    "    # or\n",
    "    # result = model.depth_estimation(paths=['/PATH/TO/IMAGE'])\n",
    "    ```\n",
    "\n",
    "- ### 2、API\n",
    "\n",
    "  - ```python\n",
    "    def depth_estimation(images=None,\n",
    "                    paths=None,\n",
    "                    batch_size=1,\n",
    "                    output_dir='output',\n",
    "                    visualization=False):\n",
    "    ```\n",
    "\n",
    "    - 深度估计API。\n",
    "\n",
    "    - **参数**\n",
    "\n",
    "      - images (list\\[numpy.ndarray\\]): 图片数据，ndarray.shape 为 \\[H, W, C\\]；<br/>\n",
    "      - paths (list\\[str\\]): 图片的路径；<br/>\n",
    "      - batch_size (int) : batch 的大小；<br/>\n",
    "      - output\\_dir (str): 图片的保存路径，默认设为 output；<br/>\n",
    "      - visualization (bool) : 是否将结果保存为图片文件。\n",
    "\n",
    "      **NOTE:** paths和images两个参数选择其一进行提供数据\n",
    "\n",
    "    - **返回**\n",
    "      - res (list\\[numpy.ndarray\\]): 图像深度数据，ndarray.shape 为 \\[H, W\\]"
   ]
  },
  {
   "cell_type": "markdown",
   "id": "4b1c0acc",
   "metadata": {
    "id": "四-更新历史"
   },
   "source": [
    "## 四、更新历史\n",
    "\n",
    "* 1.0.0\n",
    "\n",
    "  初始发布\n",
    "\n",
    "  - ```shell\n",
    "    $ hub install MiDaS_Large==1.0.0\n",
    "    ```"
   ]
  }
 ],
 "metadata": {
  "colab": {
   "name": "MiDaS_Large",
   "toc_visible": true
  },
  "kernelspec": {
   "display_name": "python3",
   "name": "python3"
  }
 },
 "nbformat": 4,
 "nbformat_minor": 5
}
