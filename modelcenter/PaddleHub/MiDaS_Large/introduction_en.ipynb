{
 "cells": [
  {
   "cell_type": "markdown",
   "id": "cc87a7f7",
   "metadata": {
    "id": "midas_large"
   },
   "source": [
    "# MiDaS_Large\n",
    "\n",
    "|Module Name|MiDaS_Large|\n",
    "| :--- | :---: |\n",
    "|Category|depth estimation|\n",
    "|Network|-|\n",
    "|Dataset|3D Movies, WSVD, ReDWeb, MegaDepth|\n",
    "|Fine-tuning supported or not|No|\n",
    "|Module Size|399MB|\n",
    "|Latest update date|2021-02-26|\n",
    "|Data indicators|-|"
   ]
  },
  {
   "cell_type": "markdown",
   "id": "94959310",
   "metadata": {
    "id": "i-basic-information"
   },
   "source": [
    "## I.Basic Information\n",
    "\n",
    "- ### Application Effect Display\n",
    "  - Sample results：\n",
    "    <p align=\"center\">\n",
    "    <img src=\"https://img-blog.csdnimg.cn/20201227112600975.jpg\" width=\"70%\" hspace=\"10\"/> <br/>\n",
    "    </p>\n",
    "\n",
    "- ### Module Introduction\n",
    "\n",
    "  - MiDas_Large module is used for monocular depth estimation."
   ]
  },
  {
   "cell_type": "markdown",
   "id": "e3cf88fc",
   "metadata": {
    "id": "ii-installation"
   },
   "source": [
    "## II.Installation\n",
    "\n",
    "- ### 1、Environmental Dependence\n",
    "\n",
    "  - paddlepaddle >= 2.0.0\n",
    "\n",
    "  - paddlehub >= 2.0.0   | [How to install PaddleHub](../../../../docs/docs_en/get_start/installation.rst)\n",
    "\n",
    "- ### 2、Installation\n",
    "\n",
    "  - ```shell\n",
    "    $ hub install MiDaS_Large\n",
    "    ```\n",
    "  - In case of any problems during installation, please refer to: [Windows_Quickstart](../../../../docs/docs_en/get_start/windows_quickstart.md) | [Linux_Quickstart](../../../../docs/docs_en/get_start/linux_quickstart.md) | [Mac_Quickstart](../../../../docs/docs_en/get_start/mac_quickstart.md)"
   ]
  },
  {
   "cell_type": "markdown",
   "id": "8f01c374",
   "metadata": {
    "id": "iii-module-api-prediction"
   },
   "source": [
    "## III.Module API Prediction\n",
    "\n",
    "- ### 1、Prediction Code Example\n",
    "\n",
    "  - ```python\n",
    "    import paddlehub as hub\n",
    "    import cv2\n",
    "\n",
    "    model = hub.Module(name=\"MiDaS_Large\")\n",
    "    result = model.depth_estimation(images=[cv2.imread('/PATH/TO/IMAGE')])\n",
    "    # or\n",
    "    # result = model.depth_estimation(paths=['/PATH/TO/IMAGE'])\n",
    "    ```\n",
    "\n",
    "- ### 2、API\n",
    "\n",
    "  - ```python\n",
    "    def depth_estimation(images=None,\n",
    "                    paths=None,\n",
    "                    batch_size=1,\n",
    "                    output_dir='output',\n",
    "                    visualization=False):\n",
    "    ```\n",
    "\n",
    "    - depth estimation API.\n",
    "\n",
    "    - **Parameters**\n",
    "\n",
    "      - images (list\\[numpy.ndarray\\]): image data, ndarray.shape is in the format [H, W, C], BGR;\n",
    "      - paths (list[str]): image path;\n",
    "      - batch_size (int): the size of batch;\n",
    "      - output_dir (str): save path of images;\n",
    "      - visualization (bool): Whether to save the results as picture files;\n",
    "\n",
    "      **NOTE:** choose one parameter to provide data from paths and images\n",
    "\n",
    "    - **Return**\n",
    "      - res (list\\[numpy.ndarray\\]): depth data，ndarray.shape is  \\[H, W\\]"
   ]
  },
  {
   "cell_type": "markdown",
   "id": "d2b3d7a5",
   "metadata": {
    "id": "iv-release-note"
   },
   "source": [
    "## IV.Release Note\n",
    "\n",
    "* 1.0.0\n",
    "\n",
    "  First release\n",
    "\n",
    "  - ```shell\n",
    "    $ hub install MiDaS_Large==1.0.0\n",
    "    ```"
   ]
  }
 ],
 "metadata": {
  "colab": {
   "name": "MiDaS_Large",
   "toc_visible": true
  },
  "kernelspec": {
   "display_name": "python3",
   "name": "python3"
  }
 },
 "nbformat": 4,
 "nbformat_minor": 5
}
