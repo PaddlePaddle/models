{
 "cells": [
  {
   "cell_type": "markdown",
   "id": "d6967e31",
   "metadata": {
    "id": "disco_diffusion_clip_vitb32"
   },
   "source": [
    "# disco_diffusion_clip_vitb32\n",
    "\n",
    "|模型名称|disco_diffusion_clip_vitb32|\n",
    "| :--- | :---: |\n",
    "|类别|图像-文图生成|\n",
    "|网络|dd+clip ViTB32|\n",
    "|数据集|-|\n",
    "|是否支持Fine-tuning|否|\n",
    "|模型大小|3.1GB|\n",
    "|最新更新日期|2022-08-02|\n",
    "|数据指标|-|"
   ]
  },
  {
   "cell_type": "markdown",
   "id": "1166c293",
   "metadata": {
    "id": "一-模型基本信息"
   },
   "source": [
    "## 一、模型基本信息"
   ]
  },
  {
   "cell_type": "markdown",
   "id": "11391ab2",
   "metadata": {
    "id": "应用效果展示"
   },
   "source": [
    "### 应用效果展示\n",
    "\n",
    "  - 输入文本 \"A beautiful painting of a singular lighthouse, shining its light across a tumultuous sea of blood by greg rutkowski and thomas kinkade, Trending on artstation.\"\n",
    "\n",
    "  - 输出图像\n",
    "  <p align=\"center\">\n",
    "    <img src=\"https://user-images.githubusercontent.com/22424850/182298446-7feb530b-62cc-4e3f-a693-249ec8383daa.png\" width=\"80%\" hspace=\"10\"/>\n",
    "  <br/>\n",
    "\n",
    "  - 生成过程\n",
    "  </p><p align=\"center\">\n",
    "    <img src=\"https://user-images.githubusercontent.com/22424850/182298453-9a8a8336-66e6-4adb-a46f-7a0fa211b467.gif\" width=\"80%\" hspace=\"10\"/>\n",
    "  <br/>"
   ]
  },
  {
   "cell_type": "markdown",
   "id": "5a58c912",
   "metadata": {
    "id": "模型介绍"
   },
   "source": [
    "### 模型介绍\n",
    "\n",
    "disco_diffusion_clip_vitb32 是一个文图生成模型，可以通过输入一段文字来生成符合该句子语义的图像。该模型由两部分组成，一部分是扩散模型，是一种生成模型，可以从噪声输入中重建出原始图像。另一部分是多模态预训练模型（CLIP）, 可以将文本和图像表示在同一个特征空间，相近语义的文本和图像在该特征空间里距离会更相近。在该文图生成模型中，扩散模型负责从初始噪声或者指定初始图像中来生成目标图像，CLIP负责引导生成图像的语义和输入的文本的语义尽可能接近，随着扩散模型在CLIP的引导下不断的迭代生成新图像，最终能够生成文本所描述内容的图像。该模块中使用的CLIP模型结构为ViTB32。\n",
    "\n",
    "更多详情请参考论文：[Diffusion Models Beat GANs on Image Synthesis](https://arxiv.org/abs/2105.05233) 以及 [Learning Transferable Visual Models From Natural Language Supervision](https://arxiv.org/abs/2103.00020)"
   ]
  },
  {
   "cell_type": "markdown",
   "id": "344be896",
   "metadata": {
    "id": "二-安装"
   },
   "source": [
    "## 二、安装\n",
    "\n",
    "- ### 1、环境依赖\n",
    "\n",
    "  - paddlepaddle >= 2.0.0\n",
    "\n",
    "  - paddlehub >= 2.2.0    | [如何安装PaddleHub](../../../../docs/docs_ch/get_start/installation.rst)\n",
    "\n",
    "- ### 2、安装\n",
    "\n",
    "  - ```shell\n",
    "    $ hub install disco_diffusion_clip_vitb32\n",
    "    ```\n",
    "  - 如您安装时遇到问题，可参考：[零基础windows安装](../../../../docs/docs_ch/get_start/windows_quickstart.md)\n",
    " | [零基础Linux安装](../../../../docs/docs_ch/get_start/linux_quickstart.md) | [零基础MacOS安装](../../../../docs/docs_ch/get_start/mac_quickstart.md)"
   ]
  },
  {
   "cell_type": "markdown",
   "id": "9cb63f3b",
   "metadata": {
    "id": "三-模型api预测"
   },
   "source": [
    "## 三、模型API预测\n",
    "\n",
    "- ### 1、命令行预测\n",
    "\n",
    "  - ```shell\n",
    "    $ hub run disco_diffusion_clip_vitb32 --text_prompts \"A beautiful painting of a singular lighthouse, shining its light across a tumultuous sea of blood by greg rutkowski and thomas kinkade, Trending on artstation.\" --output_dir disco_diffusion_clip_vitb32_out\n",
    "    ```\n",
    "\n",
    "- ### 2、预测代码示例\n",
    "\n",
    "  - ```python\n",
    "    import paddlehub as hub\n",
    "\n",
    "    module = hub.Module(name=\"disco_diffusion_clip_vitb32\")\n",
    "    text_prompts = [\"A beautiful painting of a singular lighthouse, shining its light across a tumultuous sea of blood by greg rutkowski and thomas kinkade, Trending on artstation.\"]\n",
    "    # 生成图像, 默认会在disco_diffusion_clip_vitb32_out目录保存图像\n",
    "    # 返回的da是一个DocumentArray对象，保存了所有的结果，包括最终结果和迭代过程的中间结果\n",
    "    # 可以通过操作DocumentArray对象对生成的图像做后处理，保存或者分析\n",
    "    da = module.generate_image(text_prompts=text_prompts, output_dir='./disco_diffusion_clip_vitb32_out/')\n",
    "    # 手动将最终生成的图像保存到指定路径\n",
    "    da[0].save_uri_to_file('disco_diffusion_clip_vitb32_out-result.png')\n",
    "    # 展示所有的中间结果\n",
    "    da[0].chunks.plot_image_sprites(skip_empty=True, show_index=True, keep_aspect_ratio=True)\n",
    "    # 将整个生成过程保存为一个动态图gif\n",
    "    da[0].chunks.save_gif('disco_diffusion_clip_vitb32_out-result.gif')\n",
    "    ```\n",
    "\n",
    "- ### 3、API\n",
    "\n",
    "  - ```python\n",
    "    def generate_image(\n",
    "            text_prompts,\n",
    "            style: Optional[str] = None,\n",
    "            artist: Optional[str] = None,\n",
    "            width_height: Optional[List[int]] = [1280, 768],\n",
    "            seed: Optional[int] = None,\n",
    "            output_dir: Optional[str] = 'disco_diffusion_clip_vitb32_out'):\n",
    "    ```\n",
    "\n",
    "    - 文图生成API，生成文本描述内容的图像。\n",
    "\n",
    "    - **参数**\n",
    "\n",
    "      - text_prompts(str): 输入的语句，描述想要生成的图像的内容。通常比较有效的构造方式为 \"一段描述性的文字内容\" + \"指定艺术家的名字\"，如\"a beautiful painting of Chinese architecture, by krenz, sunny, super wide angle, artstation.\"。prompt的构造可以参考[网站](https://docs.google.com/document/d/1XUT2G9LmkZataHFzmuOtRXnuWBfhvXDAo8DkS--8tec/edit#)。\n",
    "      - style(Optional[str]): 指定绘画的风格，如'watercolor','Chinese painting'等。当不指定时，风格完全由您所填写的prompt决定。\n",
    "      - artist(Optional[str]): 指定特定的艺术家，如Greg Rutkowsk、krenz，将会生成所指定艺术家的绘画风格。当不指定时，风格完全由您所填写的prompt决定。各种艺术家的风格可以参考[网站](https://weirdwonderfulai.art/resources/disco-diffusion-70-plus-artist-studies/)。\n",
    "      - width_height(Optional[List[int]]): 指定最终输出图像的宽高，宽和高都需要是64的倍数，生成的图像越大，所需要的计算时间越长。\n",
    "      - seed(Optional[int]): 随机种子，由于输入默认是随机高斯噪声，设置不同的随机种子会由不同的初始输入，从而最终生成不同的结果，可以设置该参数来获得不同的输出图像。\n",
    "      - output_dir(Optional[str]): 保存输出图像的目录，默认为\"disco_diffusion_clip_vitb32_out\"。\n",
    "\n",
    "    - **返回**\n",
    "      - ra(DocumentArray): DocumentArray对象， 包含`n_batches`个Documents，其中每个Document都保存了迭代过程的所有中间结果。详细可参考[DocumentArray使用文档](https://docarray.jina.ai/fundamentals/documentarray/index.html)。"
   ]
  },
  {
   "cell_type": "markdown",
   "id": "c5016f0b",
   "metadata": {
    "id": "四-服务部署"
   },
   "source": [
    "## 四、服务部署\n",
    "\n",
    "- PaddleHub Serving可以部署一个在线文图生成服务。\n",
    "\n",
    "- ### 第一步：启动PaddleHub Serving\n",
    "\n",
    "  - 运行启动命令：\n",
    "  - ```shell\n",
    "    $ hub serving start -m disco_diffusion_clip_vitb32\n",
    "    ```\n",
    "\n",
    "  - 这样就完成了一个文图生成的在线服务API的部署，默认端口号为8866。\n",
    "\n",
    "  - **NOTE:** 如使用GPU预测，则需要在启动服务之前，请设置CUDA\\_VISIBLE\\_DEVICES环境变量，否则不用设置。\n",
    "\n",
    "- ### 第二步：发送预测请求\n",
    "\n",
    "  - 配置好服务端，以下数行代码即可实现发送预测请求，获取预测结果，返回的预测结果在反序列化后即是上述接口声明中说明的DocumentArray类型，返回后对结果的操作方式和使用generate_image接口完全相同。\n",
    "\n",
    "  - ```python\n",
    "    import requests\n",
    "    import json\n",
    "    import cv2\n",
    "    import base64\n",
    "    from docarray import DocumentArray\n",
    "\n",
    "    # 发送HTTP请求\n",
    "    data = {'text_prompts': 'in the morning light,Overlooking TOKYO city by greg rutkowski and thomas kinkade,Trending on artstation.'}\n",
    "    headers = {\"Content-type\": \"application/json\"}\n",
    "    url = \"http://127.0.0.1:8866/predict/disco_diffusion_clip_vitb32\"\n",
    "    r = requests.post(url=url, headers=headers, data=json.dumps(data))\n",
    "\n",
    "    # 获取返回结果\n",
    "    da = DocumentArray.from_base64(r.json()[\"results\"])\n",
    "    # 手动将最终生成的图像保存到指定路径\n",
    "    da[0].save_uri_to_file('disco_diffusion_clip_vitb32_out-result.png')\n",
    "    # 将生成过程保存为一个动态图gif\n",
    "    da[0].chunks.save_gif('disco_diffusion_clip_vitb32_out-result.gif')"
   ]
  },
  {
   "cell_type": "markdown",
   "id": "02e2d832",
   "metadata": {
    "id": "五-更新历史"
   },
   "source": [
    "## 五、更新历史\n",
    "\n",
    "* 1.0.0\n",
    "\n",
    "  初始发布\n",
    "\n",
    "  ```shell\n",
    "  $ hub install disco_diffusion_clip_vitb32 == 1.0.0\n",
    "  ```</p>"
   ]
  }
 ],
 "metadata": {
  "colab": {
   "name": "disco_diffusion_clip_vitb32",
   "toc_visible": true
  },
  "kernelspec": {
   "display_name": "python3",
   "name": "python3"
  }
 },
 "nbformat": 4,
 "nbformat_minor": 5
}
