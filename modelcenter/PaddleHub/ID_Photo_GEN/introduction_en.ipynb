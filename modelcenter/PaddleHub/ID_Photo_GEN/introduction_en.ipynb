{
 "cells": [
  {
   "cell_type": "markdown",
   "id": "6935ab30",
   "metadata": {
    "id": "id_photo_gen"
   },
   "source": [
    "# ID_Photo_GEN\n",
    "\n",
    "|Module Name |ID_Photo_GEN|\n",
    "| :--- | :---: |\n",
    "|Category|Image generation|\n",
    "|Network|HRNet_W18|\n",
    "|Dataset |-|\n",
    "|Fine-tuning supported or not |No|\n",
    "|Module Size|28KB|\n",
    "|Latest update date|2021-02-26|\n",
    "|Data indicators|-|"
   ]
  },
  {
   "cell_type": "markdown",
   "id": "70568d83",
   "metadata": {
    "id": "i-basic-information"
   },
   "source": [
    "## I. Basic Information\n",
    "\n",
    "- ### Application Effect Display\n",
    "  - Sample results:\n",
    "    <p align=\"center\">\n",
    "    <img src=\"https://img-blog.csdnimg.cn/20201224163307901.jpg\"/>\n",
    "    </p>\n",
    "\n",
    "- ### Module Introduction\n",
    "\n",
    "  - This model is based on face_landmark_localization and FCN_HRNet_W18_Face_Seg. It can generate ID photos with white, red and blue background"
   ]
  },
  {
   "cell_type": "markdown",
   "id": "d3e0fbbb",
   "metadata": {
    "id": "ii-installation"
   },
   "source": [
    "## II. Installation\n",
    "\n",
    "- ### 1、Environmental Dependence\n",
    "\n",
    "  - paddlepaddle >= 2.0.0\n",
    "\n",
    "  - paddlehub >= 2.0.0\n",
    "\n",
    "- ### 2、Installation\n",
    "\n",
    "  - ```shell\n",
    "    $ hub install ID_Photo_GEN\n",
    "    ```\n",
    "\n",
    "  - In case of any problems during installation, please refer to:[Windows_Quickstart](../../../../docs/docs_en/get_start/windows_quickstart.md)\n",
    "    | [Linux_Quickstart](../../../../docs/docs_en/get_start/linux_quickstart.md) | [Mac_Quickstart](../../../../docs/docs_en/get_start/mac_quickstart.md)"
   ]
  },
  {
   "cell_type": "markdown",
   "id": "40ef9610",
   "metadata": {
    "id": "iii-module-api-prediction"
   },
   "source": [
    "## III. Module API Prediction\n",
    "\n",
    "- ### 1、Prediction Code Example\n",
    "\n",
    "  - ```python\n",
    "    import cv2\n",
    "    import paddlehub as hub\n",
    "\n",
    "    model = hub.Module(name='ID_Photo_GEN')\n",
    "\n",
    "    result = model.Photo_GEN(\n",
    "    images=[cv2.imread('/PATH/TO/IMAGE')],\n",
    "    paths=None,\n",
    "    batch_size=1,\n",
    "    output_dir='output',\n",
    "    visualization=True,\n",
    "    use_gpu=False)\n",
    "    ```\n",
    "\n",
    "- ### 2、API\n",
    "\n",
    "  - ```python\n",
    "    def Photo_GEN(\n",
    "        images=None,\n",
    "        paths=None,\n",
    "        batch_size=1,\n",
    "        output_dir='output',\n",
    "        visualization=False,\n",
    "        use_gpu=False):\n",
    "    ```\n",
    "\n",
    "    - Prediction API, generating ID photos.\n",
    "\n",
    "    - **Parameter**\n",
    "        * images (list[np.ndarray]): Image data, ndarray.shape is in the format [H, W, C], BGR.\n",
    "        * paths (list[str]): Image path\n",
    "        * batch_size (int): Batch size\n",
    "        * output_dir (str): Save path of images, output by default.\n",
    "        * visualization (bool): Whether to save the recognition results as picture files.\n",
    "        * use_gpu (bool): Use GPU or not. **set the CUDA_VISIBLE_DEVICES environment variable first if you are using GPU**\n",
    "\n",
    "        **NOTE:** Choose one of `paths` and `images` to provide input data.\n",
    "\n",
    "    - **Return**\n",
    "\n",
    "      * results (list[dict{\"write\":np.ndarray,\"blue\":np.ndarray,\"red\":np.ndarray}]): The list of generation results."
   ]
  },
  {
   "cell_type": "markdown",
   "id": "ce07e16c",
   "metadata": {
    "id": "iv-release-note"
   },
   "source": [
    "## IV. Release Note\n",
    "\n",
    "- 1.0.0\n",
    "\n",
    "  First release"
   ]
  }
 ],
 "metadata": {
  "colab": {
   "name": "ID_Photo_GEN",
   "toc_visible": true
  },
  "kernelspec": {
   "display_name": "python3",
   "name": "python3"
  }
 },
 "nbformat": 4,
 "nbformat_minor": 5
}
