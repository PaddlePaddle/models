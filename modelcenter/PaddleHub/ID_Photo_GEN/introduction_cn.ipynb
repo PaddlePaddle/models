{
 "cells": [
  {
   "cell_type": "markdown",
   "id": "6b024f9c",
   "metadata": {
    "id": "id_photo_gen"
   },
   "source": [
    "# ID_Photo_GEN\n",
    "\n",
    "|模型名称|ID_Photo_GEN|\n",
    "| :--- | :---: |\n",
    "|类别|图像 - 图像生成|\n",
    "|网络|HRNet_W18|\n",
    "|数据集|-|\n",
    "|是否支持Fine-tuning|否|\n",
    "|模型大小|28KB|\n",
    "|最新更新日期|2021-02-26|\n",
    "|数据指标|-|"
   ]
  },
  {
   "cell_type": "markdown",
   "id": "67724c0e",
   "metadata": {
    "id": "一-模型基本信息"
   },
   "source": [
    "## 一、模型基本信息\n",
    "\n",
    "- ### 应用效果展示\n",
    "  - 样例结果示例：\n",
    "    <p align=\"center\">\n",
    "    <img src=\"https://img-blog.csdnimg.cn/20201224163307901.jpg\"/>\n",
    "    </p>\n",
    "\n",
    "- ### 模型介绍\n",
    "\n",
    "  - 基于face_landmark_localization和FCN_HRNet_W18_Face_Seg模型实现的证件照生成模型，一键生成白底、红底和蓝底的人像照片"
   ]
  },
  {
   "cell_type": "markdown",
   "id": "fd44db01",
   "metadata": {
    "id": "二-安装"
   },
   "source": [
    "## 二、安装\n",
    "\n",
    "- ### 1、环境依赖\n",
    "\n",
    "  - paddlepaddle >= 2.0.0\n",
    "\n",
    "  - paddlehub >= 2.0.0\n",
    "\n",
    "- ### 2、安装\n",
    "\n",
    "  - ```shell\n",
    "    $ hub install ID_Photo_GEN\n",
    "    ```\n",
    "  - 如您安装时遇到问题，可参考：[零基础windows安装](../../../../docs/docs_ch/get_start/windows_quickstart.md)\n",
    " | [零基础Linux安装](../../../../docs/docs_ch/get_start/linux_quickstart.md) | [零基础MacOS安装](../../../../docs/docs_ch/get_start/mac_quickstart.md)"
   ]
  },
  {
   "cell_type": "markdown",
   "id": "b062d4fd",
   "metadata": {
    "id": "三-模型api预测"
   },
   "source": [
    "## 三、模型API预测\n",
    "\n",
    "- ### 1、预测代码示例\n",
    "\n",
    "  - ```python\n",
    "    import cv2\n",
    "    import paddlehub as hub\n",
    "\n",
    "    model = hub.Module(name='ID_Photo_GEN')\n",
    "\n",
    "    result = model.Photo_GEN(\n",
    "    images=[cv2.imread('/PATH/TO/IMAGE')],\n",
    "    paths=None,\n",
    "    batch_size=1,\n",
    "    output_dir='output',\n",
    "    visualization=True,\n",
    "    use_gpu=False)\n",
    "    ```\n",
    "\n",
    "- ### 2、API\n",
    "\n",
    "  - ```python\n",
    "    def Photo_GEN(\n",
    "        images=None,\n",
    "        paths=None,\n",
    "        batch_size=1,\n",
    "        output_dir='output',\n",
    "        visualization=False,\n",
    "        use_gpu=False):\n",
    "    ```\n",
    "\n",
    "    - 证件照生成API\n",
    "\n",
    "    - **参数**\n",
    "        * images (list[np.ndarray]) : 输入图像数据列表（BGR）\n",
    "        * paths (list[str]) : 输入图像路径列表\n",
    "        * batch_size (int) : 数据批大小\n",
    "        * output_dir (str) : 可视化图像输出目录\n",
    "        * visualization (bool) : 是否可视化\n",
    "        * use_gpu (bool) : 是否使用 GPU 进行推理\n",
    "\n",
    "      **NOTE:** paths和images两个参数选择其一进行提供数据\n",
    "\n",
    "    - **返回**\n",
    "\n",
    "      * results (list[dict{\"write\":np.ndarray,\"blue\":np.ndarray,\"red\":np.ndarray}]): 输出图像数据列表"
   ]
  },
  {
   "cell_type": "markdown",
   "id": "41027b55",
   "metadata": {
    "id": "四-更新历史"
   },
   "source": [
    "## 四、更新历史\n",
    "\n",
    "* 1.0.0\n",
    "\n",
    "  初始发布"
   ]
  }
 ],
 "metadata": {
  "colab": {
   "name": "ID_Photo_GEN",
   "toc_visible": true
  },
  "kernelspec": {
   "display_name": "python3",
   "name": "python3"
  }
 },
 "nbformat": 4,
 "nbformat_minor": 5
}
