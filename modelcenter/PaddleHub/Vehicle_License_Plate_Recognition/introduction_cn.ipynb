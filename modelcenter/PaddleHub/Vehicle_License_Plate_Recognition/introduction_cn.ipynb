{
 "cells": [
  {
   "cell_type": "markdown",
   "id": "52b3fc80",
   "metadata": {
    "id": "vehicle_license_plate_recognition"
   },
   "source": [
    "# Vehicle_License_Plate_Recognition\n",
    "\n",
    "|模型名称|Vehicle_License_Plate_Recognition|\n",
    "| :--- | :---: |\n",
    "|类别|图像 - 文字识别|\n",
    "|网络|-|\n",
    "|数据集|CCPD|\n",
    "|是否支持Fine-tuning|否|\n",
    "|模型大小|111MB|\n",
    "|最新更新日期|2021-03-22|\n",
    "|数据指标|-|"
   ]
  },
  {
   "cell_type": "markdown",
   "id": "134c214d",
   "metadata": {
    "id": "一-模型基本信息"
   },
   "source": [
    "## 一、模型基本信息\n",
    "\n",
    "- ### 应用效果展示\n",
    "  - 样例结果示例：\n",
    "    <p align=\"center\">\n",
    "    <img src=\"https://ai-studio-static-online.cdn.bcebos.com/35a3dab32ac948549de41afba7b51a5770d3f872d60b437d891f359a5cef8052\" width=\"450\" height=\"300\" hspace=\"10\"/> <br/>\n",
    "    </p>\n",
    "\n",
    "- ### 模型介绍\n",
    "\n",
    "  - Vehicle_License_Plate_Recognition是一个基于CCPD数据集训练的车牌识别模型，能够检测出图像中车牌位置并识别其中的车牌文字信息。"
   ]
  },
  {
   "cell_type": "markdown",
   "id": "07d0c2c2",
   "metadata": {
    "id": "二-安装"
   },
   "source": [
    "## 二、安装\n",
    "\n",
    "- ### 1、环境依赖\n",
    "\n",
    "  - paddlepaddle >= 2.0.0\n",
    "\n",
    "  - paddlehub >= 2.0.4\n",
    "\n",
    "  - paddleocr >= 2.0.2\n",
    "\n",
    "- ### 2、安装\n",
    "\n",
    "  - ```shell\n",
    "    $ hub install Vehicle_License_Plate_Recognition\n",
    "    ```"
   ]
  },
  {
   "cell_type": "markdown",
   "id": "6e1f81eb",
   "metadata": {
    "id": "三-模型api预测"
   },
   "source": [
    "## 三、模型API预测\n",
    "\n",
    "- ### 1、预测代码示例\n",
    "\n",
    "  - ```python\n",
    "    import paddlehub as hub\n",
    "    import cv2\n",
    "\n",
    "    model = hub.Module(name=\"Vehicle_License_Plate_Recognition\")\n",
    "    result = model.plate_recognition(images=[cv2.imread('/PATH/TO/IMAGE')])\n",
    "    ```\n",
    "\n",
    "- ### 2、API\n",
    "\n",
    "  - ```python\n",
    "    def plate_recognition(images)\n",
    "    ```\n",
    "\n",
    "    - 车牌识别 API。\n",
    "\n",
    "    - **参数**\n",
    "\n",
    "      - images (list\\[numpy.ndarray\\]): 图片数据，ndarray.shape 为 \\[H, W, C\\]；<br/>\n",
    "\n",
    "    - **返回**\n",
    "      - results(list(dict{'license', 'bbox'})): 识别到的车牌信息列表，包含车牌的位置坐标和车牌号码"
   ]
  },
  {
   "cell_type": "markdown",
   "id": "ba82d863",
   "metadata": {
    "id": "四-服务部署"
   },
   "source": [
    "## 四、服务部署\n",
    "\n",
    "- PaddleHub Serving可以部署一个在线车牌识别服务。\n",
    "\n",
    "- ### 第一步：启动PaddleHub Serving\n",
    "\n",
    "  - 运行启动命令：\n",
    "  - ```shell\n",
    "    $ hub serving start -m Vehicle_License_Plate_Recognition\n",
    "    ```\n",
    "\n",
    "  - 这样就完成了一个车牌识别的在线服务API的部署，默认端口号为8866。\n",
    "\n",
    "  - **NOTE:** 如使用GPU预测，则需要在启动服务之前，请设置CUDA\\_VISIBLE\\_DEVICES环境变量，否则不用设置。\n",
    "\n",
    "- ### 第二步：发送预测请求\n",
    "\n",
    "  - 配置好服务端，以下数行代码即可实现发送预测请求，获取预测结果\n",
    "\n",
    "  - ```python\n",
    "    import requests\n",
    "    import json\n",
    "    import cv2\n",
    "    import base64\n",
    "\n",
    "    def cv2_to_base64(image):\n",
    "      data = cv2.imencode('.jpg', image)[1]\n",
    "      return base64.b64encode(data.tostring()).decode('utf8')\n",
    "\n",
    "    # 发送HTTP请求\n",
    "    data = {'images':[cv2_to_base64(cv2.imread(\"/PATH/TO/IMAGE\"))]}\n",
    "    headers = {\"Content-type\": \"application/json\"}\n",
    "    url = \"http://127.0.0.1:8866/predict/Vehicle_License_Plate_Recognition\"\n",
    "    r = requests.post(url=url, headers=headers, data=json.dumps(data))\n",
    "\n",
    "    # 打印预测结果\n",
    "    print(r.json()[\"results\"])\n",
    "    ```"
   ]
  },
  {
   "cell_type": "markdown",
   "id": "4efa7ae7",
   "metadata": {
    "id": "五-更新历史"
   },
   "source": [
    "## 五、更新历史\n",
    "\n",
    "* 1.0.0\n",
    "\n",
    "  初始发布\n",
    "\n",
    "  - ```shell\n",
    "    $ hub install Vehicle_License_Plate_Recognition==1.0.0\n",
    "    ```"
   ]
  }
 ],
 "metadata": {
  "colab": {
   "name": "Vehicle_License_Plate_Recognition",
   "toc_visible": true
  },
  "kernelspec": {
   "display_name": "python3",
   "name": "python3"
  }
 },
 "nbformat": 4,
 "nbformat_minor": 5
}
