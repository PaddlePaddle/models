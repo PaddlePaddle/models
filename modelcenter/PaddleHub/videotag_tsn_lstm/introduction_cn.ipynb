{
 "cells": [
  {
   "cell_type": "markdown",
   "id": "e6904998",
   "metadata": {
    "id": "videotag_tsn_lstm"
   },
   "source": [
    "# videotag_tsn_lstm\n",
    "\n",
    "|模型名称|videotag_tsn_lstm|\n",
    "| :--- | :---: |\n",
    "|类别|视频-视频分类|\n",
    "|网络|TSN + AttentionLSTM|\n",
    "|数据集|百度自建数据集|\n",
    "|是否支持Fine-tuning|否|\n",
    "|模型大小|409MB|\n",
    "|最新更新日期|2021-02-26|\n",
    "|数据指标|-|"
   ]
  },
  {
   "cell_type": "markdown",
   "id": "08ee9151",
   "metadata": {
    "id": "一-模型基本信息"
   },
   "source": [
    "## 一、模型基本信息\n",
    "\n",
    "- ### 模型介绍\n",
    "\n",
    "  - videotag_tsn_lstm是一个基于千万短视频预训练的视频分类模型，可直接预测短视频的中文标签。模型分为视频特征抽取和序列建模两个阶段，前者使用TSN网络提取视频特征，后者基于前者输出使用AttentionLSTM网络进行序列建模实现分类。模型基于百度实际短视频场景中的大规模数据训练得到，在实际业务中取得89.9%的Top-1精度，同时具有良好的泛化能力，适用于多种短视频中文标签分类场景。该PaddleHub Module可支持预测。\n",
    "\n",
    "<p align=\"center\">\n",
    "<img src=\"https://paddlehub.bj.bcebos.com/model/video/video_classifcation/VideoTag_TSN_AttentionLSTM.png\" width=\"450\" hspace=\"10\"/> <br/>\n",
    "</p>\n",
    "\n",
    "  - 具体网络结构可参考论文：[TSN](https://arxiv.org/abs/1608.00859) 和 [AttentionLSTM](https://arxiv.org/abs/1503.08909)。"
   ]
  },
  {
   "cell_type": "markdown",
   "id": "ac3c527c",
   "metadata": {
    "id": "二-安装"
   },
   "source": [
    "## 二、安装\n",
    "\n",
    "- ### 1、环境依赖\n",
    "\n",
    "  - paddlepaddle >= 1.7.2\n",
    "\n",
    "  - paddlehub >= 1.6.0    | [如何安装PaddleHub](../../../../docs/docs_ch/get_start/installation.rst)\n",
    "\n",
    "- ### 2、安装\n",
    "\n",
    "  - ```shell\n",
    "    $ hub install videotag_tsn_lstm\n",
    "    ```\n",
    "  - 如您安装时遇到问题，可参考：[零基础windows安装](../../../../docs/docs_ch/get_start/windows_quickstart.md)\n",
    " | [零基础Linux安装](../../../../docs/docs_ch/get_start/linux_quickstart.md) | [零基础MacOS安装](../../../../docs/docs_ch/get_start/mac_quickstart.md)"
   ]
  },
  {
   "cell_type": "markdown",
   "id": "1d14241e",
   "metadata": {
    "id": "三-模型api预测"
   },
   "source": [
    "## 三、模型API预测\n",
    "\n",
    "- ### 1、命令行预测\n",
    "\n",
    "  - ```shell\n",
    "    hub run videotag_tsn_lstm --input_path 1.mp4 --use_gpu False\n",
    "    ```\n",
    "\n",
    "  - 示例文件下载：\n",
    "    - [1.mp4](https://paddlehub.bj.bcebos.com/model/video/video_classifcation/1.mp4)\n",
    "    - [2.mp4](https://paddlehub.bj.bcebos.com/model/video/video_classifcation/2.mp4)\n",
    "\n",
    "  - 通过命令行方式实现文字识别模型的调用，更多请见 [PaddleHub命令行指令](../../../../docs/docs_ch/tutorial/cmd_usage.rst)\n",
    "\n",
    "- ### 2、预测代码示例\n",
    "\n",
    "  - ```python\n",
    "    import paddlehub as hub\n",
    "\n",
    "    videotag = hub.Module(name=\"videotag_tsn_lstm\")\n",
    "\n",
    "    # execute predict and print the result\n",
    "    results = videotag.classify(paths=[\"1.mp4\",\"2.mp4\"], use_gpu=False)  # 示例文件请在上方下载\n",
    "    print(results)\n",
    "\n",
    "    #[{'path': '1.mp4', 'prediction': {'训练': 0.9771281480789185, '蹲': 0.9389840960502625, '杠铃': 0.8554490804672241, '健身房': 0.8479971885681152}}, {'path': '2.mp4', 'prediction': {'舞蹈': 0.8504238724708557}}]\n",
    "\n",
    "    ```\n",
    "\n",
    "- ### 3、API\n",
    "\n",
    "  - ```python\n",
    "    def classify(paths,\n",
    "                 use_gpu=False,\n",
    "                 threshold=0.5,\n",
    "                 top_k=10)\n",
    "    ```\n",
    "\n",
    "    - 用于视频分类预测\n",
    "\n",
    "    - **参数**\n",
    "\n",
    "      - paths(list\\[str\\])：mp4文件路径\n",
    "      - use_gpu(bool)：是否使用GPU预测，默认为False\n",
    "      - threshold(float)：预测结果阈值，只有预测概率大于阈值的类别会被返回，默认为0.5\n",
    "      - top_k(int): 返回预测结果的前k个，默认为10\n",
    "\n",
    "    - **返回**\n",
    "\n",
    "      - results(list\\[dict\\]): result中的每个元素为对应输入的预测结果，预测单个mp4文件时仅有1个元素。每个预测结果为dict，包含mp4文件路径path及其分类概率。"
   ]
  },
  {
   "cell_type": "markdown",
   "id": "5d2b501c",
   "metadata": {
    "id": "五-更新历史"
   },
   "source": [
    "## 五、更新历史\n",
    "\n",
    "* 1.0.0\n",
    "\n",
    "  初始发布\n",
    "\n",
    "  - ```shell\n",
    "    $ hub install videotag_tsn_lstm==1.0.0\n",
    "    ```"
   ]
  }
 ],
 "metadata": {
  "colab": {
   "name": "videotag_tsn_lstm",
   "toc_visible": true
  },
  "kernelspec": {
   "display_name": "python3",
   "name": "python3"
  }
 },
 "nbformat": 4,
 "nbformat_minor": 5
}
