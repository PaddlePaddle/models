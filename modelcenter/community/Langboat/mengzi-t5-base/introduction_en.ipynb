{
 "cells": [
  {
   "cell_type": "markdown",
   "id": "8d1c9450",
   "metadata": {},
   "source": [
    "# Mengzi-T5 model (Chinese)\n",
    "Pretrained model on 300G Chinese corpus.\n",
    "\n",
    "[Mengzi: Towards Lightweight yet Ingenious Pre-trained Models for Chinese](https://arxiv.org/abs/2110.06696)\n",
    "\n",
    "## Usage\n"
   ]
  },
  {
   "cell_type": "code",
   "execution_count": null,
   "id": "53c18882",
   "metadata": {},
   "outputs": [],
   "source": [
    "import paddle\n",
    "from paddlenlp.transformers import AutoModel\n",
    "\n",
    "model = AutoModel.from_pretrained(\"Langboat/mengzi-t5-base\")\n",
    "input_ids = paddle.randint(100, 200, shape=[1, 20])\n",
    "print(model(input_ids))"
   ]
  },
  {
   "cell_type": "markdown",
   "id": "3404f7e4",
   "metadata": {},
   "source": [
    "> 此模型来源于：[https://huggingface.co/Langboat/mengzi-t5-base](https://huggingface.co/https://huggingface.co/Langboat/mengzi-t5-base)"
   ]
  }
 ],
 "metadata": {},
 "nbformat": 4,
 "nbformat_minor": 5
}
