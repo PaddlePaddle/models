{
 "cells": [
  {
   "cell_type": "markdown",
   "id": "0a289bcc",
   "metadata": {},
   "source": [
    "# Mengzi-T5 model (Chinese)\n",
    "Pretrained model on 300G Chinese corpus.\n",
    "\n",
    "[Mengzi: Towards Lightweight yet Ingenious Pre-trained Models for Chinese](https://arxiv.org/abs/2110.06696)\n",
    "\n",
    "## Usage\n"
   ]
  },
  {
   "cell_type": "code",
   "execution_count": null,
   "id": "5cbb2875",
   "metadata": {},
   "outputs": [],
   "source": [
    "import paddle\n",
    "from paddlenlp.transformers import AutoModel\n",
    "\n",
    "model = AutoModel.from_pretrained(\"Langboat/mengzi-t5-base\")\n",
    "input_ids = paddle.randint(100, 200, shape=[1, 20])\n",
    "print(model(input_ids))"
   ]
  },
  {
   "cell_type": "code",
   "execution_count": null,
   "id": "7e16b53b",
   "metadata": {},
   "outputs": [],
   "source": [
    "@misc{zhang2021mengzi,\n",
    "title={Mengzi: Towards Lightweight yet Ingenious Pre-trained Models for Chinese},\n",
    "author={Zhuosheng Zhang and Hanqing Zhang and Keming Chen and Yuhang Guo and Jingyun Hua and Yulong Wang and Ming Zhou},\n",
    "year={2021},\n",
    "eprint={2110.06696},\n",
    "archivePrefix={arXiv},\n",
    "primaryClass={cs.CL}\n",
    "}\n"
   ]
  },
  {
   "cell_type": "markdown",
   "id": "95ed4650",
   "metadata": {},
   "source": [
    "> 此模型来源于：[https://huggingface.co/Langboat/mengzi-t5-base](https://huggingface.co/https://huggingface.co/Langboat/mengzi-t5-base)"
   ]
  }
 ],
 "metadata": {},
 "nbformat": 4,
 "nbformat_minor": 5
}
