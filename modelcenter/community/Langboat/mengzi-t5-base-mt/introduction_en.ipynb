{
 "cells": [
  {
   "cell_type": "markdown",
   "id": "24c325ae",
   "metadata": {},
   "source": [
    "# Mengzi-T5-MT model\n",
    "This is a Multi-Task model trained on the multitask mixture of 27 datasets and 301 prompts, based on [Mengzi-T5-base](https://huggingface.co/Langboat/mengzi-t5-base).\n"
   ]
  },
  {
   "cell_type": "markdown",
   "id": "75b0f175",
   "metadata": {},
   "source": [
    "[Mengzi: Towards Lightweight yet Ingenious Pre-trained Models for Chinese](https://arxiv.org/abs/2110.06696)\n"
   ]
  },
  {
   "cell_type": "markdown",
   "id": "cd694613",
   "metadata": {},
   "source": [
    "## Usage\n"
   ]
  },
  {
   "cell_type": "code",
   "execution_count": null,
   "id": "d6b188b1",
   "metadata": {},
   "outputs": [],
   "source": [
    "!pip install --upgrade paddlenlp"
   ]
  },
  {
   "cell_type": "code",
   "execution_count": null,
   "id": "af9de391",
   "metadata": {},
   "outputs": [],
   "source": [
    "import paddle\n",
    "from paddlenlp.transformers import AutoModel\n",
    "\n",
    "model = AutoModel.from_pretrained(\"Langboat/mengzi-t5-base-mt\")\n",
    "input_ids = paddle.randint(100, 200, shape=[1, 20])\n",
    "print(model(input_ids))"
   ]
  },
  {
   "cell_type": "markdown",
   "id": "16ea2ff8",
   "metadata": {},
   "source": [
    "@misc{zhang2021mengzi,\n",
    "title={Mengzi: Towards Lightweight yet Ingenious Pre-trained Models for Chinese},\n",
    "author={Zhuosheng Zhang and Hanqing Zhang and Keming Chen and Yuhang Guo and Jingyun Hua and Yulong Wang and Ming Zhou},\n",
    "year={2021},\n",
    "eprint={2110.06696},\n",
    "archivePrefix={arXiv},\n",
    "primaryClass={cs.CL}\n",
    "}\n"
   ]
  },
  {
   "cell_type": "markdown",
   "id": "87b1d18d",
   "metadata": {},
   "source": [
    "> 此模型来源于：[https://huggingface.co/Langboat/mengzi-t5-base-mt](https://huggingface.co/https://huggingface.co/Langboat/mengzi-t5-base-mt)\n"
   ]
  }
 ],
 "metadata": {},
 "nbformat": 4,
 "nbformat_minor": 5
}
