{
 "cells": [
  {
   "cell_type": "markdown",
   "id": "bce46fad",
   "metadata": {},
   "source": []
  },
  {
   "cell_type": "code",
   "execution_count": null,
   "id": "03fc102f",
   "metadata": {},
   "outputs": [],
   "source": [
    "import paddle\n",
    "from paddlenlp.transformers import AutoModel\n",
    "\n",
    "model = AutoModel.from_pretrained(\"salesken/grammar_correction\")\n",
    "input_ids = paddle.randint(100, 200, shape=[1, 20])\n",
    "print(model(input_ids))"
   ]
  },
  {
   "cell_type": "markdown",
   "id": "2f454d2b",
   "metadata": {},
   "source": [
    "> 此模型来源于：[https://huggingface.co/salesken/grammar_correction](https://huggingface.co/https://huggingface.co/salesken/grammar_correction)"
   ]
  }
 ],
 "metadata": {},
 "nbformat": 4,
 "nbformat_minor": 5
}
