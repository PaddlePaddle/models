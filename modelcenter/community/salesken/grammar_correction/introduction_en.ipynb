{
 "cells": [
  {
   "cell_type": "markdown",
   "id": "a7a5d6f7",
   "metadata": {},
   "source": []
  },
  {
   "cell_type": "code",
   "execution_count": null,
   "id": "338e65d4",
   "metadata": {},
   "outputs": [],
   "source": [
    "import paddle\n",
    "from paddlenlp.transformers import AutoModel\n",
    "\n",
    "model = AutoModel.from_pretrained(\"salesken/grammar_correction\")\n",
    "input_ids = paddle.randint(100, 200, shape=[1, 20])\n",
    "print(model(input_ids))"
   ]
  },
  {
   "cell_type": "markdown",
   "id": "e5f6b22b",
   "metadata": {},
   "source": [
    "> 此模型来源于：[https://huggingface.co/salesken/grammar_correction](https://huggingface.co/https://huggingface.co/salesken/grammar_correction)"
   ]
  }
 ],
 "metadata": {},
 "nbformat": 4,
 "nbformat_minor": 5
}
