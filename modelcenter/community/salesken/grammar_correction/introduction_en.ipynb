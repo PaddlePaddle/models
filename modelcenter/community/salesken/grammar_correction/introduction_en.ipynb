{
 "cells": [
  {
   "cell_type": "code",
   "execution_count": null,
   "id": "132db501",
   "metadata": {},
   "outputs": [],
   "source": [
    "!pip install --upgrade paddlenlp"
   ]
  },
  {
   "cell_type": "code",
   "execution_count": null,
   "id": "f4602fff",
   "metadata": {},
   "outputs": [],
   "source": [
    "import paddle\n",
    "from paddlenlp.transformers import AutoModel\n",
    "\n",
    "model = AutoModel.from_pretrained(\"salesken/grammar_correction\")\n",
    "input_ids = paddle.randint(100, 200, shape=[1, 20])\n",
    "print(model(input_ids))"
   ]
  },
  {
   "cell_type": "markdown",
   "id": "adb8bab6",
   "metadata": {},
   "source": [
    "> 此模型来源于：[https://huggingface.co/salesken/grammar_correction](https://huggingface.co/https://huggingface.co/salesken/grammar_correction)\n"
   ]
  }
 ],
 "metadata": {},
 "nbformat": 4,
 "nbformat_minor": 5
}
