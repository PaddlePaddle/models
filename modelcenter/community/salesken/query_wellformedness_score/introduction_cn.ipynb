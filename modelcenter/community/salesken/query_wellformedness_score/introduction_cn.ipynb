{
 "cells": [
  {
   "cell_type": "markdown",
   "id": "71313f0e",
   "metadata": {},
   "source": [
    "This model evaluates the wellformedness (non-fragment, grammatically correct)  score of a sentence. Model is case-sensitive and penalises for incorrect case and grammar as well.\n",
    "\n",
    "['She is presenting a paper tomorrow','she is presenting a paper tomorrow','She present paper today']\n",
    "\n",
    "[[0.8917],[0.4270],[0.0134]]\n"
   ]
  },
  {
   "cell_type": "code",
   "execution_count": null,
   "id": "eb5e580c",
   "metadata": {},
   "outputs": [],
   "source": [
    "import paddle\n",
    "from paddlenlp.transformers import AutoModel\n",
    "\n",
    "model = AutoModel.from_pretrained(\"salesken/query_wellformedness_score\")\n",
    "input_ids = paddle.randint(100, 200, shape=[1, 20])\n",
    "print(model(input_ids))"
   ]
  },
  {
   "cell_type": "markdown",
   "id": "b81cb614",
   "metadata": {},
   "source": [
    "\n",
    "> 此模型来源于：[https://huggingface.co/salesken/query_wellformedness_score](https://huggingface.co/https://huggingface.co/salesken/query_wellformedness_score)"
   ]
  }
 ],
 "metadata": {},
 "nbformat": 4,
 "nbformat_minor": 5
}
