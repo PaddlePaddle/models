{
 "cells": [
  {
   "cell_type": "markdown",
   "id": "51878c1d",
   "metadata": {},
   "source": [
    "\n",
    "# GPT-2\n",
    "\n",
    "Test the whole generation capabilities here: https://transformer.huggingface.co/doc/gpt2-large\n",
    "\n",
    "Pretrained model on English language using a causal language modeling (CLM) objective. It was introduced in\n",
    "[this paper](https://d4mucfpksywv.cloudfront.net/better-language-models/language_models_are_unsupervised_multitask_learners.pdf)\n",
    "and first released at [this page](https://openai.com/blog/better-language-models/).\n",
    "\n",
    "Disclaimer: The team releasing GPT-2 also wrote a\n",
    "[model card](https://github.com/openai/gpt-2/blob/master/model_card.md) for their model. Content from this model card\n",
    "has been written by the Hugging Face team to complete the information they provided and give specific examples of bias.\n",
    "\n",
    "## Model description\n",
    "\n",
    "GPT-2 is a transformers model pretrained on a very large corpus of English data in a self-supervised fashion. This\n",
    "means it was pretrained on the raw texts only, with no humans labelling them in any way (which is why it can use lots\n",
    "of publicly available data) with an automatic process to generate inputs and labels from those texts. More precisely,\n",
    "it was trained to guess the next word in sentences.\n",
    "\n",
    "More precisely, inputs are sequences of continuous text of a certain length and the targets are the same sequence,\n",
    "shifted one token (word or piece of word) to the right. The model uses internally a mask-mechanism to make sure the\n",
    "predictions for the token `i` only uses the inputs from `1` to `i` but not the future tokens.\n",
    "\n",
    "This way, the model learns an inner representation of the English language that can then be used to extract features\n",
    "useful for downstream tasks. The model is best at what it was pretrained for however, which is generating texts from a\n",
    "prompt.\n",
    "\n",
    "## Intended uses & limitations\n",
    "\n",
    "You can use the raw model for text generation or fine-tune it to a downstream task. See the\n",
    "[model hub](https://huggingface.co/models?filter=gpt2) to look for fine-tuned versions on a task that interests you.\n",
    "\n",
    "### How to use\n",
    "\n",
    "You can use this model directly with a pipeline for text generation. Since the generation relies on some randomness, we\n",
    "set a seed for reproducibility:\n"
   ]
  },
  {
   "cell_type": "markdown",
   "id": "e23fe4d1",
   "metadata": {},
   "source": [
    "> 详细请看 [GPT in PaddleNLP](https://github.com/PaddlePaddle/PaddleNLP/blob/develop/model_zoo/gpt/README.md)"
   ]
  },
  {
   "cell_type": "code",
   "execution_count": null,
   "id": "76415fa3",
   "metadata": {},
   "outputs": [],
   "source": [
    "import paddle\n",
    "from paddlenlp.transformers import AutoModel\n",
    "\n",
    "model = AutoModel.from_pretrained(\"gpt2\")\n",
    "input_ids = paddle.randint(100, 200, shape=[1, 20])\n",
    "print(model(input_ids))"
   ]
  },
  {
   "cell_type": "markdown",
   "id": "76a12182",
   "metadata": {},
   "source": [
    "<a href=\"https://huggingface.co/exbert/?model=gpt2\">\n",
    "<img width=\"300px\" src=\"https://cdn-media.huggingface.co/exbert/button.png\">\n",
    "</a>\n",
    "> 此模型来源于：[https://huggingface.co/gpt2](https://huggingface.co/https://huggingface.co/gpt2)"
   ]
  }
 ],
 "metadata": {
  "language_info": {
   "name": "python"
  }
 },
 "nbformat": 4,
 "nbformat_minor": 5
}
