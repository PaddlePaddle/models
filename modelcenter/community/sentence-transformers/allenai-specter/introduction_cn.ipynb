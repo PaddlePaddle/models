{
 "cells": [
  {
   "cell_type": "code",
   "execution_count": null,
   "id": "51bae4c8",
   "metadata": {},
   "outputs": [],
   "source": [
    "import paddle\n",
    "from paddlenlp.transformers import AutoModel\n",
    "\n",
    "model = AutoModel.from_pretrained(\"sentence-transformers/allenai-specter\")\n",
    "input_ids = paddle.randint(100, 200, shape=[1, 20])\n",
    "print(model(input_ids))"
   ]
  },
  {
   "cell_type": "code",
   "execution_count": null,
   "id": "4ecc71bd",
   "metadata": {},
   "outputs": [],
   "source": [
    "SentenceTransformer(\n",
    "(0): Transformer({'max_seq_length': 512, 'do_lower_case': False}) with Transformer model: BertModel\n",
    "(1): Pooling({'word_embedding_dimension': 768, 'pooling_mode_cls_token': True, 'pooling_mode_mean_tokens': False, 'pooling_mode_max_tokens': False, 'pooling_mode_mean_sqrt_len_tokens': False})\n",
    ")\n"
   ]
  },
  {
   "cell_type": "markdown",
   "id": "181b4b89",
   "metadata": {},
   "source": [
    "## Citing & Authors\n",
    "\n",
    "See  [AllenAI SPECTER](https://github.com/allenai/specter)\n",
    "> 此模型来源于：[https://huggingface.co/sentence-transformers/allenai-specter](https://huggingface.co/https://huggingface.co/sentence-transformers/allenai-specter)"
   ]
  }
 ],
 "metadata": {},
 "nbformat": 4,
 "nbformat_minor": 5
}
