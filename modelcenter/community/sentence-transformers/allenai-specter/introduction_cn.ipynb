{
 "cells": [
  {
   "cell_type": "code",
   "execution_count": null,
   "id": "3a1f80cb",
   "metadata": {},
   "outputs": [],
   "source": [
    "import paddle\n",
    "from paddlenlp.transformers import AutoModel\n",
    "\n",
    "model = AutoModel.from_pretrained(\"sentence-transformers/allenai-specter\")\n",
    "input_ids = paddle.randint(100, 200, shape=[1, 20])\n",
    "print(model(input_ids))"
   ]
  },
  {
   "cell_type": "markdown",
   "id": "bdb568da",
   "metadata": {},
   "source": [
    "## Citing & Authors\n",
    "\n",
    "See  [AllenAI SPECTER](https://github.com/allenai/specter)\n",
    "> 此模型来源于：[https://huggingface.co/sentence-transformers/allenai-specter](https://huggingface.co/https://huggingface.co/sentence-transformers/allenai-specter)"
   ]
  }
 ],
 "metadata": {},
 "nbformat": 4,
 "nbformat_minor": 5
}
