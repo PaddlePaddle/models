{
 "cells": [
  {
   "cell_type": "code",
   "execution_count": null,
   "id": "25d4690b",
   "metadata": {},
   "outputs": [],
   "source": [
    "!pip install --upgrade paddlenlp"
   ]
  },
  {
   "cell_type": "code",
   "execution_count": null,
   "id": "bf1dde71",
   "metadata": {},
   "outputs": [],
   "source": [
    "import paddle\n",
    "from paddlenlp.transformers import AutoModel\n",
    "\n",
    "model = AutoModel.from_pretrained(\"sentence-transformers/allenai-specter\")\n",
    "input_ids = paddle.randint(100, 200, shape=[1, 20])\n",
    "print(model(input_ids))"
   ]
  },
  {
   "cell_type": "markdown",
   "id": "9957776c",
   "metadata": {},
   "source": [
    "SentenceTransformer(\n",
    "(0): Transformer({'max_seq_length': 512, 'do_lower_case': False}) with Transformer model: BertModel\n",
    "(1): Pooling({'word_embedding_dimension': 768, 'pooling_mode_cls_token': True, 'pooling_mode_mean_tokens': False, 'pooling_mode_max_tokens': False, 'pooling_mode_mean_sqrt_len_tokens': False})\n",
    ")\n"
   ]
  },
  {
   "cell_type": "markdown",
   "id": "92432c1e",
   "metadata": {},
   "source": [
    "## Citing & Authors\n"
   ]
  },
  {
   "cell_type": "markdown",
   "id": "c2f56ac4",
   "metadata": {},
   "source": [
    "See  [AllenAI SPECTER](https://github.com/allenai/specter)\n",
    "> 此模型来源于：[https://huggingface.co/sentence-transformers/allenai-specter](https://huggingface.co/https://huggingface.co/sentence-transformers/allenai-specter)\n"
   ]
  }
 ],
 "metadata": {},
 "nbformat": 4,
 "nbformat_minor": 5
}
