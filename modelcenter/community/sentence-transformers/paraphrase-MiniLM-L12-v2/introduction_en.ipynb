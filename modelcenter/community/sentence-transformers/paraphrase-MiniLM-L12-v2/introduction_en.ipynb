{
 "cells": [
  {
   "cell_type": "markdown",
   "id": "20c2239a",
   "metadata": {},
   "source": [
    "# sentence-transformers/paraphrase-MiniLM-L12-v2\n",
    "\n",
    "This is a [sentence-transformers](https://www.SBERT.net) model: It maps sentences & paragraphs to a 384 dimensional dense vector space and can be used for tasks like clustering or semantic search.\n",
    "\n",
    "\n",
    "\n",
    "## Usage (Sentence-Transformers)\n",
    "\n",
    "Using this model becomes easy when you have [sentence-transformers](https://www.SBERT.net) installed:\n"
   ]
  },
  {
   "cell_type": "code",
   "execution_count": null,
   "id": "11783b28",
   "metadata": {},
   "outputs": [],
   "source": [
    "import paddle\n",
    "from paddlenlp.transformers import AutoModel\n",
    "\n",
    "model = AutoModel.from_pretrained(\"sentence-transformers/paraphrase-MiniLM-L12-v2\")\n",
    "input_ids = paddle.randint(100, 200, shape=[1, 20])\n",
    "print(model(input_ids))"
   ]
  },
  {
   "cell_type": "markdown",
   "id": "6bba2619",
   "metadata": {},
   "source": [
    "> 此模型来源于：[https://huggingface.co/sentence-transformers/paraphrase-MiniLM-L12-v2](https://huggingface.co/https://huggingface.co/sentence-transformers/paraphrase-MiniLM-L12-v2)"
   ]
  }
 ],
 "metadata": {},
 "nbformat": 4,
 "nbformat_minor": 5
}
