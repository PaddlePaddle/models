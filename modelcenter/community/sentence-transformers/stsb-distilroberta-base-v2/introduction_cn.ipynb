{
 "cells": [
  {
   "cell_type": "markdown",
   "id": "496b36db",
   "metadata": {},
   "source": [
    "# sentence-transformers/stsb-distilroberta-base-v2\n"
   ]
  },
  {
   "cell_type": "markdown",
   "id": "12e36be0",
   "metadata": {},
   "source": [
    "This is a [sentence-transformers](https://www.SBERT.net) model: It maps sentences & paragraphs to a 768 dimensional dense vector space and can be used for tasks like clustering or semantic search.\n"
   ]
  },
  {
   "cell_type": "markdown",
   "id": "5477b8f2",
   "metadata": {},
   "source": [
    "## Usage (Sentence-Transformers)\n"
   ]
  },
  {
   "cell_type": "markdown",
   "id": "0d300731",
   "metadata": {},
   "source": [
    "Using this model becomes easy when you have [sentence-transformers](https://www.SBERT.net) installed:\n"
   ]
  },
  {
   "cell_type": "code",
   "execution_count": null,
   "id": "247b1a67",
   "metadata": {},
   "outputs": [],
   "source": [
    "!pip install --upgrade paddlenlp"
   ]
  },
  {
   "cell_type": "code",
   "execution_count": null,
   "id": "d6410882",
   "metadata": {},
   "outputs": [],
   "source": [
    "import paddle\n",
    "from paddlenlp.transformers import AutoModel\n",
    "\n",
    "model = AutoModel.from_pretrained(\"sentence-transformers/stsb-distilroberta-base-v2\")\n",
    "input_ids = paddle.randint(100, 200, shape=[1, 20])\n",
    "print(model(input_ids))"
   ]
  },
  {
   "cell_type": "markdown",
   "id": "006c0a7a",
   "metadata": {},
   "source": [
    "@inproceedings{reimers-2019-sentence-bert,\n",
    "title = \"Sentence-BERT: Sentence Embeddings using Siamese BERT-Networks\",\n",
    "author = \"Reimers, Nils and Gurevych, Iryna\",\n",
    "booktitle = \"Proceedings of the 2019 Conference on Empirical Methods in Natural Language Processing\",\n",
    "month = \"11\",\n",
    "year = \"2019\",\n",
    "publisher = \"Association for Computational Linguistics\",\n",
    "url = \"http://arxiv.org/abs/1908.10084\",\n",
    "}\n"
   ]
  },
  {
   "cell_type": "markdown",
   "id": "6fa66464",
   "metadata": {},
   "source": [
    "> 此模型来源于：[https://huggingface.co/sentence-transformers/stsb-distilroberta-base-v2](https://huggingface.co/https://huggingface.co/sentence-transformers/stsb-distilroberta-base-v2)\n"
   ]
  }
 ],
 "metadata": {},
 "nbformat": 4,
 "nbformat_minor": 5
}
