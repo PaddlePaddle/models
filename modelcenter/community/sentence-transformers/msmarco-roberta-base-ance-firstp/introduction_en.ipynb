{
 "cells": [
  {
   "cell_type": "markdown",
   "id": "8e2743a0",
   "metadata": {},
   "source": [
    "# sentence-transformers/msmarco-roberta-base-ance-firstp\n",
    "\n",
    "This is a port of the [ANCE FirstP Model](https://github.com/microsoft/ANCE/) to [sentence-transformers](https://www.SBERT.net) model: It maps sentences & paragraphs to a 768 dimensional dense vector space and can be used for tasks like clustering or semantic search.\n",
    "\n",
    "\n",
    "\n",
    "## Usage (Sentence-Transformers)\n",
    "\n",
    "Using this model becomes easy when you have [sentence-transformers](https://www.SBERT.net) installed:\n"
   ]
  },
  {
   "cell_type": "code",
   "execution_count": null,
   "id": "2a842f13",
   "metadata": {},
   "outputs": [],
   "source": [
    "import paddle\n",
    "from paddlenlp.transformers import AutoModel\n",
    "\n",
    "model = AutoModel.from_pretrained(\"sentence-transformers/msmarco-roberta-base-ance-firstp\")\n",
    "input_ids = paddle.randint(100, 200, shape=[1, 20])\n",
    "print(model(input_ids))"
   ]
  },
  {
   "cell_type": "markdown",
   "id": "7c190238",
   "metadata": {},
   "source": [
    "## Citing & Authors\n",
    "\n",
    "Have a look at: [ANCE Model](https://github.com/microsoft/ANCE/)\n",
    "> 此模型来源于：[https://huggingface.co/sentence-transformers/msmarco-roberta-base-ance-firstp](https://huggingface.co/https://huggingface.co/sentence-transformers/msmarco-roberta-base-ance-firstp)"
   ]
  }
 ],
 "metadata": {},
 "nbformat": 4,
 "nbformat_minor": 5
}
