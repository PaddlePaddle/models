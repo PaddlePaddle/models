{
 "cells": [
  {
   "cell_type": "markdown",
   "id": "cee54794",
   "metadata": {},
   "source": [
    "# sentence-transformers/msmarco-roberta-base-ance-firstp\n",
    "\n",
    "This is a port of the [ANCE FirstP Model](https://github.com/microsoft/ANCE/) to [sentence-transformers](https://www.SBERT.net) model: It maps sentences & paragraphs to a 768 dimensional dense vector space and can be used for tasks like clustering or semantic search.\n",
    "\n",
    "\n",
    "\n",
    "## Usage (Sentence-Transformers)\n",
    "\n",
    "Using this model becomes easy when you have [sentence-transformers](https://www.SBERT.net) installed:\n"
   ]
  },
  {
   "cell_type": "code",
   "execution_count": null,
   "id": "87a5dd7b",
   "metadata": {},
   "outputs": [],
   "source": [
    "import paddle\n",
    "from paddlenlp.transformers import AutoModel\n",
    "\n",
    "model = AutoModel.from_pretrained(\"sentence-transformers/msmarco-roberta-base-ance-firstp\")\n",
    "input_ids = paddle.randint(100, 200, shape=[1, 20])\n",
    "print(model(input_ids))"
   ]
  },
  {
   "cell_type": "code",
   "execution_count": null,
   "id": "48d3fb6c",
   "metadata": {},
   "outputs": [],
   "source": [
    "SentenceTransformer(\n",
    "(0): Transformer({'max_seq_length': 512, 'do_lower_case': True}) with Transformer model: RobertaModel\n",
    "(1): Pooling({'word_embedding_dimension': 768, 'pooling_mode_cls_token': True, 'pooling_mode_mean_tokens': False, 'pooling_mode_max_tokens': False, 'pooling_mode_mean_sqrt_len_tokens': False})\n",
    "(2): Dense({'in_features': 768, 'out_features': 768, 'bias': True, 'activation_function': 'torch.nn.modules.linear.Identity'})\n",
    "(3): LayerNorm(\n",
    "(norm): LayerNorm((768,), eps=1e-05, elementwise_affine=True)\n",
    ")\n",
    ")\n"
   ]
  },
  {
   "cell_type": "markdown",
   "id": "79243f1d",
   "metadata": {},
   "source": [
    "## Citing & Authors\n",
    "\n",
    "Have a look at: [ANCE Model](https://github.com/microsoft/ANCE/)\n",
    "> 此模型来源于：[https://huggingface.co/sentence-transformers/msmarco-roberta-base-ance-firstp](https://huggingface.co/https://huggingface.co/sentence-transformers/msmarco-roberta-base-ance-firstp)"
   ]
  }
 ],
 "metadata": {},
 "nbformat": 4,
 "nbformat_minor": 5
}
