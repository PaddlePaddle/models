{
 "cells": [
  {
   "cell_type": "markdown",
   "id": "4891875b",
   "metadata": {},
   "source": [
    "# sentence-transformers/paraphrase-distilroberta-base-v1\n"
   ]
  },
  {
   "cell_type": "markdown",
   "id": "1aa275d9",
   "metadata": {},
   "source": [
    "This is a [sentence-transformers](https://www.SBERT.net) model: It maps sentences & paragraphs to a 768 dimensional dense vector space and can be used for tasks like clustering or semantic search.\n"
   ]
  },
  {
   "cell_type": "markdown",
   "id": "55961cb8",
   "metadata": {},
   "source": [
    "## Usage (Sentence-Transformers)\n"
   ]
  },
  {
   "cell_type": "markdown",
   "id": "332e4bcf",
   "metadata": {},
   "source": [
    "Using this model becomes easy when you have [sentence-transformers](https://www.SBERT.net) installed:\n"
   ]
  },
  {
   "cell_type": "code",
   "execution_count": null,
   "id": "d3b87675",
   "metadata": {},
   "outputs": [],
   "source": [
    "!pip install --upgrade paddlenlp"
   ]
  },
  {
   "cell_type": "code",
   "execution_count": null,
   "id": "fcebe935",
   "metadata": {},
   "outputs": [],
   "source": [
    "import paddle\n",
    "from paddlenlp.transformers import AutoModel\n",
    "\n",
    "model = AutoModel.from_pretrained(\"sentence-transformers/paraphrase-distilroberta-base-v1\")\n",
    "input_ids = paddle.randint(100, 200, shape=[1, 20])\n",
    "print(model(input_ids))"
   ]
  },
  {
   "cell_type": "markdown",
   "id": "7c92cc46",
   "metadata": {},
   "source": [
    "@inproceedings{reimers-2019-sentence-bert,\n",
    "title = \"Sentence-BERT: Sentence Embeddings using Siamese BERT-Networks\",\n",
    "author = \"Reimers, Nils and Gurevych, Iryna\",\n",
    "booktitle = \"Proceedings of the 2019 Conference on Empirical Methods in Natural Language Processing\",\n",
    "month = \"11\",\n",
    "year = \"2019\",\n",
    "publisher = \"Association for Computational Linguistics\",\n",
    "url = \"http://arxiv.org/abs/1908.10084\",\n",
    "}\n"
   ]
  },
  {
   "cell_type": "markdown",
   "id": "b14f6c69",
   "metadata": {},
   "source": [
    "> 此模型来源于：[https://huggingface.co/sentence-transformers/paraphrase-distilroberta-base-v1](https://huggingface.co/https://huggingface.co/sentence-transformers/paraphrase-distilroberta-base-v1)\n"
   ]
  }
 ],
 "metadata": {},
 "nbformat": 4,
 "nbformat_minor": 5
}
