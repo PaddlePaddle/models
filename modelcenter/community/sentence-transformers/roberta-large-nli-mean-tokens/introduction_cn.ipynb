{
 "cells": [
  {
   "cell_type": "markdown",
   "id": "ccceea46",
   "metadata": {},
   "source": [
    "**⚠️ This model is deprecated. Please don't use it as it produces sentence embeddings of low quality. You can find recommended sentence embedding models here: [SBERT.net - Pretrained Models](https://www.sbert.net/docs/pretrained_models.html)**\n",
    "\n",
    "\n",
    "# sentence-transformers/roberta-large-nli-mean-tokens\n",
    "\n",
    "This is a [sentence-transformers](https://www.SBERT.net) model: It maps sentences & paragraphs to a 1024 dimensional dense vector space and can be used for tasks like clustering or semantic search.\n",
    "\n",
    "\n",
    "\n",
    "## Usage (Sentence-Transformers)\n",
    "\n",
    "Using this model becomes easy when you have [sentence-transformers](https://www.SBERT.net) installed:\n"
   ]
  },
  {
   "cell_type": "code",
   "execution_count": null,
   "id": "f715ed25",
   "metadata": {},
   "outputs": [],
   "source": [
    "import paddle\n",
    "from paddlenlp.transformers import AutoModel\n",
    "\n",
    "model = AutoModel.from_pretrained(\"sentence-transformers/roberta-large-nli-mean-tokens\")\n",
    "input_ids = paddle.randint(100, 200, shape=[1, 20])\n",
    "print(model(input_ids))"
   ]
  },
  {
   "cell_type": "markdown",
   "id": "8ee2c0e0",
   "metadata": {},
   "source": [
    "> 此模型来源于：[https://huggingface.co/sentence-transformers/roberta-large-nli-mean-tokens](https://huggingface.co/https://huggingface.co/sentence-transformers/roberta-large-nli-mean-tokens)"
   ]
  }
 ],
 "metadata": {},
 "nbformat": 4,
 "nbformat_minor": 5
}
