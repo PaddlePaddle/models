{
 "cells": [
  {
   "cell_type": "markdown",
   "id": "8856d241",
   "metadata": {},
   "source": [
    "# LaBSE\n",
    "This is a port of the [LaBSE](https://tfhub.dev/google/LaBSE/1) model to PyTorch. It can be used to map 109 languages to a shared vector space.\n"
   ]
  },
  {
   "cell_type": "markdown",
   "id": "244144f0",
   "metadata": {},
   "source": [
    "## Usage (Sentence-Transformers)\n"
   ]
  },
  {
   "cell_type": "markdown",
   "id": "702fea82",
   "metadata": {},
   "source": [
    "Using this model becomes easy when you have [sentence-transformers](https://www.SBERT.net) installed:\n"
   ]
  },
  {
   "cell_type": "code",
   "execution_count": null,
   "id": "1769ce18",
   "metadata": {},
   "outputs": [],
   "source": [
    "!pip install --upgrade paddlenlp"
   ]
  },
  {
   "cell_type": "code",
   "execution_count": null,
   "id": "010fd92c",
   "metadata": {},
   "outputs": [],
   "source": [
    "import paddle\n",
    "from paddlenlp.transformers import AutoModel\n",
    "\n",
    "model = AutoModel.from_pretrained(\"sentence-transformers/LaBSE\")\n",
    "input_ids = paddle.randint(100, 200, shape=[1, 20])\n",
    "print(model(input_ids))"
   ]
  },
  {
   "cell_type": "markdown",
   "id": "fccc9259",
   "metadata": {},
   "source": [
    "SentenceTransformer(\n",
    "(0): Transformer({'max_seq_length': 256, 'do_lower_case': False}) with Transformer model: BertModel\n",
    "(1): Pooling({'word_embedding_dimension': 768, 'pooling_mode_cls_token': True, 'pooling_mode_mean_tokens': False, 'pooling_mode_max_tokens': False, 'pooling_mode_mean_sqrt_len_tokens': False})\n",
    "(2): Dense({'in_features': 768, 'out_features': 768, 'bias': True, 'activation_function': 'torch.nn.modules.activation.Tanh'})\n",
    "(3): Normalize()\n",
    ")\n"
   ]
  },
  {
   "cell_type": "markdown",
   "id": "b07019f3",
   "metadata": {},
   "source": [
    "## Citing & Authors\n"
   ]
  },
  {
   "cell_type": "markdown",
   "id": "ec6eca9c",
   "metadata": {},
   "source": [
    "Have a look at [LaBSE](https://tfhub.dev/google/LaBSE/1) for the respective publication that describes LaBSE.\n"
   ]
  },
  {
   "cell_type": "markdown",
   "id": "7029bda0",
   "metadata": {},
   "source": [
    "> 此模型来源于：[https://huggingface.co/sentence-transformers/LaBSE](https://huggingface.co/https://huggingface.co/sentence-transformers/LaBSE)\n"
   ]
  }
 ],
 "metadata": {},
 "nbformat": 4,
 "nbformat_minor": 5
}
