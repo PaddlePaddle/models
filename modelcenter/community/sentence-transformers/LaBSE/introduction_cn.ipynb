{
 "cells": [
  {
   "cell_type": "markdown",
   "id": "8bfa93b2",
   "metadata": {},
   "source": [
    "# LaBSE\n",
    "This is a port of the [LaBSE](https://tfhub.dev/google/LaBSE/1) model to PyTorch. It can be used to map 109 languages to a shared vector space.\n",
    "\n",
    "\n",
    "## Usage (Sentence-Transformers)\n",
    "\n",
    "Using this model becomes easy when you have [sentence-transformers](https://www.SBERT.net) installed:\n"
   ]
  },
  {
   "cell_type": "code",
   "execution_count": null,
   "id": "bee9bc09",
   "metadata": {},
   "outputs": [],
   "source": [
    "import paddle\n",
    "from paddlenlp.transformers import AutoModel\n",
    "\n",
    "model = AutoModel.from_pretrained(\"sentence-transformers/LaBSE\")\n",
    "input_ids = paddle.randint(100, 200, shape=[1, 20])\n",
    "print(model(input_ids))"
   ]
  },
  {
   "cell_type": "markdown",
   "id": "c9a4e1c0",
   "metadata": {},
   "source": [
    "## Citing & Authors\n",
    "\n",
    "Have a look at [LaBSE](https://tfhub.dev/google/LaBSE/1) for the respective publication that describes LaBSE.\n",
    "\n",
    "> 此模型来源于：[https://huggingface.co/sentence-transformers/LaBSE](https://huggingface.co/https://huggingface.co/sentence-transformers/LaBSE)"
   ]
  }
 ],
 "metadata": {},
 "nbformat": 4,
 "nbformat_minor": 5
}
