{
 "cells": [
  {
   "cell_type": "markdown",
   "id": "0c1a4add",
   "metadata": {},
   "source": [
    "# RoBERTa large model\n"
   ]
  },
  {
   "cell_type": "markdown",
   "id": "ea183032",
   "metadata": {},
   "source": [
    "Pretrained model on English language using a masked language modeling (MLM) objective. It was introduced in\n",
    "[this paper](https://arxiv.org/abs/1907.11692) and first released in\n",
    "[this repository](https://github.com/pytorch/fairseq/tree/master/examples/roberta). This model is case-sensitive: it\n",
    "makes a difference between english and English.\n"
   ]
  },
  {
   "cell_type": "markdown",
   "id": "5a1cc0dd",
   "metadata": {},
   "source": [
    "Disclaimer: The team releasing RoBERTa did not write a model card for this model so this model card has been written by\n",
    "the Hugging Face team.\n"
   ]
  },
  {
   "cell_type": "markdown",
   "id": "5c8b2278",
   "metadata": {},
   "source": [
    "## Model description\n"
   ]
  },
  {
   "cell_type": "markdown",
   "id": "ad289025",
   "metadata": {},
   "source": [
    "RoBERTa is a transformers model pretrained on a large corpus of English data in a self-supervised fashion. This means\n",
    "it was pretrained on the raw texts only, with no humans labelling them in any way (which is why it can use lots of\n",
    "publicly available data) with an automatic process to generate inputs and labels from those texts.\n"
   ]
  },
  {
   "cell_type": "markdown",
   "id": "d94f91d0",
   "metadata": {},
   "source": [
    "More precisely, it was pretrained with the Masked language modeling (MLM) objective. Taking a sentence, the model\n",
    "randomly masks 15% of the words in the input then run the entire masked sentence through the model and has to predict\n",
    "the masked words. This is different from traditional recurrent neural networks (RNNs) that usually see the words one\n",
    "after the other, or from autoregressive models like GPT which internally mask the future tokens. It allows the model to\n",
    "learn a bidirectional representation of the sentence.\n"
   ]
  },
  {
   "cell_type": "markdown",
   "id": "2a1ccb06",
   "metadata": {},
   "source": [
    "This way, the model learns an inner representation of the English language that can then be used to extract features\n",
    "useful for downstream tasks: if you have a dataset of labeled sentences for instance, you can train a standard\n",
    "classifier using the features produced by the BERT model as inputs.\n"
   ]
  },
  {
   "cell_type": "markdown",
   "id": "ecae3ae4",
   "metadata": {},
   "source": [
    "## Intended uses & limitations\n"
   ]
  },
  {
   "cell_type": "markdown",
   "id": "50554d1e",
   "metadata": {},
   "source": [
    "You can use the raw model for masked language modeling, but it's mostly intended to be fine-tuned on a downstream task.\n",
    "See the [model hub](https://huggingface.co/models?filter=roberta) to look for fine-tuned versions on a task that\n",
    "interests you.\n"
   ]
  },
  {
   "cell_type": "markdown",
   "id": "81304d7b",
   "metadata": {},
   "source": [
    "Note that this model is primarily aimed at being fine-tuned on tasks that use the whole sentence (potentially masked)\n",
    "to make decisions, such as sequence classification, token classification or question answering. For tasks such as text\n",
    "generation you should look at model like GPT2.\n"
   ]
  },
  {
   "cell_type": "markdown",
   "id": "dd9cbb9f",
   "metadata": {},
   "source": [
    "### How to use\n"
   ]
  },
  {
   "cell_type": "markdown",
   "id": "f6cc6876",
   "metadata": {},
   "source": [
    "You can use this model directly with a pipeline for masked language modeling:\n"
   ]
  },
  {
   "cell_type": "code",
   "execution_count": null,
   "id": "f78d90e7",
   "metadata": {},
   "outputs": [],
   "source": [
    "!pip install --upgrade paddlenlp"
   ]
  },
  {
   "cell_type": "code",
   "execution_count": null,
   "id": "4b12e0e7",
   "metadata": {},
   "outputs": [],
   "source": [
    "import paddle\n",
    "from paddlenlp.transformers import AutoModel\n",
    "\n",
    "model = AutoModel.from_pretrained(\"roberta-large\")\n",
    "input_ids = paddle.randint(100, 200, shape=[1, 20])\n",
    "print(model(input_ids))"
   ]
  },
  {
   "cell_type": "markdown",
   "id": "8c49a67b",
   "metadata": {},
   "source": [
    "@article{DBLP:journals/corr/abs-1907-11692,\n",
    "author    = {Yinhan Liu and\n",
    "Myle Ott and\n",
    "Naman Goyal and\n",
    "Jingfei Du and\n",
    "Mandar Joshi and\n",
    "Danqi Chen and\n",
    "Omer Levy and\n",
    "Mike Lewis and\n",
    "Luke Zettlemoyer and\n",
    "Veselin Stoyanov},\n",
    "title     = {RoBERTa: {A} Robustly Optimized {BERT} Pretraining Approach},\n",
    "journal   = {CoRR},\n",
    "volume    = {abs/1907.11692},\n",
    "year      = {2019},\n",
    "url       = {http://arxiv.org/abs/1907.11692},\n",
    "archivePrefix = {arXiv},\n",
    "eprint    = {1907.11692},\n",
    "timestamp = {Thu, 01 Aug 2019 08:59:33 +0200},\n",
    "biburl    = {https://dblp.org/rec/journals/corr/abs-1907-11692.bib},\n",
    "bibsource = {dblp computer science bibliography, https://dblp.org}\n",
    "}\n"
   ]
  },
  {
   "cell_type": "markdown",
   "id": "5b06530e",
   "metadata": {},
   "source": [
    "<a href=\"https://huggingface.co/exbert/?model=roberta-base\">\n",
    "<img width=\"300px\" src=\"https://cdn-media.huggingface.co/exbert/button.png\">\n",
    "</a>\n",
    "> 此模型来源于：[https://huggingface.co/roberta-large](https://huggingface.co/https://huggingface.co/roberta-large)\n"
   ]
  }
 ],
 "metadata": {},
 "nbformat": 4,
 "nbformat_minor": 5
}
