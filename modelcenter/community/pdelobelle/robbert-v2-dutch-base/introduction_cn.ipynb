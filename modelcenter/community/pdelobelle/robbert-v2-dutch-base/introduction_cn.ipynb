{
 "cells": [
  {
   "cell_type": "code",
   "execution_count": null,
   "id": "2bf60196",
   "metadata": {},
   "outputs": [],
   "source": [
    "!pip install --upgrade paddlenlp"
   ]
  },
  {
   "cell_type": "code",
   "execution_count": null,
   "id": "351b1c40",
   "metadata": {},
   "outputs": [],
   "source": [
    "import paddle\n",
    "from paddlenlp.transformers import AutoModel\n",
    "\n",
    "model = AutoModel.from_pretrained(\"pdelobelle/robbert-v2-dutch-base\")\n",
    "input_ids = paddle.randint(100, 200, shape=[1, 20])\n",
    "print(model(input_ids))"
   ]
  },
  {
   "cell_type": "markdown",
   "id": "fc0b8252",
   "metadata": {},
   "source": [
    "@inproceedings{delobelle2020robbert,\n",
    "title = \"{R}ob{BERT}: a {D}utch {R}o{BERT}a-based {L}anguage {M}odel\",\n",
    "author = \"Delobelle, Pieter  and\n",
    "Winters, Thomas  and\n",
    "Berendt, Bettina\",\n",
    "booktitle = \"Findings of the Association for Computational Linguistics: EMNLP 2020\",\n",
    "month = nov,\n",
    "year = \"2020\",\n",
    "address = \"Online\",\n",
    "publisher = \"Association for Computational Linguistics\",\n",
    "url = \"https://www.aclweb.org/anthology/2020.findings-emnlp.292\",\n",
    "doi = \"10.18653/v1/2020.findings-emnlp.292\",\n",
    "pages = \"3255--3265\"\n",
    "}\n"
   ]
  },
  {
   "cell_type": "markdown",
   "id": "31f62f1b",
   "metadata": {},
   "source": [
    "> 此模型来源于：[https://huggingface.co/pdelobelle/robbert-v2-dutch-base](https://huggingface.co/https://huggingface.co/pdelobelle/robbert-v2-dutch-base)\n"
   ]
  }
 ],
 "metadata": {},
 "nbformat": 4,
 "nbformat_minor": 5
}
