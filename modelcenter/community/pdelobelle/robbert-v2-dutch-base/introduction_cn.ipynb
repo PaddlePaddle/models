{
 "cells": [
  {
   "cell_type": "code",
   "execution_count": null,
   "id": "e2d014be",
   "metadata": {},
   "outputs": [],
   "source": [
    "import paddle\n",
    "from paddlenlp.transformers import AutoModel\n",
    "\n",
    "model = AutoModel.from_pretrained(\"pdelobelle/robbert-v2-dutch-base\")\n",
    "input_ids = paddle.randint(100, 200, shape=[1, 20])\n",
    "print(model(input_ids))"
   ]
  },
  {
   "cell_type": "markdown",
   "id": "c03c8052",
   "metadata": {},
   "source": [
    "> 此模型来源于：[https://huggingface.co/pdelobelle/robbert-v2-dutch-base](https://huggingface.co/https://huggingface.co/pdelobelle/robbert-v2-dutch-base)"
   ]
  }
 ],
 "metadata": {},
 "nbformat": 4,
 "nbformat_minor": 5
}
