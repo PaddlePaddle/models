{
 "cells": [
  {
   "cell_type": "markdown",
   "id": "d5c0d072",
   "metadata": {},
   "source": [
    "# bert-base-romanian-cased-v1\n"
   ]
  },
  {
   "cell_type": "markdown",
   "id": "50b374e4",
   "metadata": {},
   "source": [
    "The BERT **base**, **cased** model for Romanian, trained on a 15GB corpus, version ![v1.0](https://img.shields.io/badge/v1.0-21%20Apr%202020-ff6666)\n"
   ]
  },
  {
   "cell_type": "markdown",
   "id": "48c22872",
   "metadata": {},
   "source": [
    "### How to use\n"
   ]
  },
  {
   "cell_type": "code",
   "execution_count": null,
   "id": "6eb18f6d",
   "metadata": {},
   "outputs": [],
   "source": [
    "!pip install --upgrade paddlenlp"
   ]
  },
  {
   "cell_type": "code",
   "execution_count": null,
   "id": "8a94a27d",
   "metadata": {},
   "outputs": [],
   "source": [
    "import paddle\n",
    "from paddlenlp.transformers import AutoModel\n",
    "\n",
    "model = AutoModel.from_pretrained(\"dumitrescustefan/bert-base-romanian-cased-v1\")\n",
    "input_ids = paddle.randint(100, 200, shape=[1, 20])\n",
    "print(model(input_ids))"
   ]
  },
  {
   "cell_type": "markdown",
   "id": "002254d6",
   "metadata": {},
   "source": [
    "@inproceedings{dumitrescu-etal-2020-birth,\n",
    "title = \"The birth of {R}omanian {BERT}\",\n",
    "author = \"Dumitrescu, Stefan  and\n",
    "Avram, Andrei-Marius  and\n",
    "Pyysalo, Sampo\",\n",
    "booktitle = \"Findings of the Association for Computational Linguistics: EMNLP 2020\",\n",
    "month = nov,\n",
    "year = \"2020\",\n",
    "address = \"Online\",\n",
    "publisher = \"Association for Computational Linguistics\",\n",
    "url = \"https://aclanthology.org/2020.findings-emnlp.387\",\n",
    "doi = \"10.18653/v1/2020.findings-emnlp.387\",\n",
    "pages = \"4324--4328\",\n",
    "}\n"
   ]
  },
  {
   "cell_type": "markdown",
   "id": "0bc6c86f",
   "metadata": {},
   "source": [
    "#### Acknowledgements\n"
   ]
  },
  {
   "cell_type": "markdown",
   "id": "77f214ca",
   "metadata": {},
   "source": [
    "- We'd like to thank [Sampo Pyysalo](https://github.com/spyysalo) from TurkuNLP for helping us out with the compute needed to pretrain the v1.0 BERT models. He's awesome!\n",
    "> 此模型来源于：[https://huggingface.co/dumitrescustefan/bert-base-romanian-cased-v1](https://huggingface.co/https://huggingface.co/dumitrescustefan/bert-base-romanian-cased-v1)\n"
   ]
  }
 ],
 "metadata": {},
 "nbformat": 4,
 "nbformat_minor": 5
}
