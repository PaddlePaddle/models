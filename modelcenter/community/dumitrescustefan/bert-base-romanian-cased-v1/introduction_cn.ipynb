{
 "cells": [
  {
   "cell_type": "markdown",
   "id": "e636f22d",
   "metadata": {},
   "source": [
    "# bert-base-romanian-cased-v1\n",
    "\n",
    "The BERT **base**, **cased** model for Romanian, trained on a 15GB corpus, version ![v1.0](https://img.shields.io/badge/v1.0-21%20Apr%202020-ff6666)\n",
    "\n",
    "### How to use\n"
   ]
  },
  {
   "cell_type": "code",
   "execution_count": null,
   "id": "34029381",
   "metadata": {},
   "outputs": [],
   "source": [
    "import paddle\n",
    "from paddlenlp.transformers import AutoModel\n",
    "\n",
    "model = AutoModel.from_pretrained(\"dumitrescustefan/bert-base-romanian-cased-v1\")\n",
    "input_ids = paddle.randint(100, 200, shape=[1, 20])\n",
    "print(model(input_ids))"
   ]
  },
  {
   "cell_type": "markdown",
   "id": "f6983a46",
   "metadata": {},
   "source": [
    "#### Acknowledgements\n",
    "\n",
    "- We'd like to thank [Sampo Pyysalo](https://github.com/spyysalo) from TurkuNLP for helping us out with the compute needed to pretrain the v1.0 BERT models. He's awesome!\n",
    "> 此模型来源于：[https://huggingface.co/dumitrescustefan/bert-base-romanian-cased-v1](https://huggingface.co/https://huggingface.co/dumitrescustefan/bert-base-romanian-cased-v1)"
   ]
  }
 ],
 "metadata": {},
 "nbformat": 4,
 "nbformat_minor": 5
}
