{
 "cells": [
  {
   "cell_type": "markdown",
   "id": "6d41d870",
   "metadata": {},
   "source": [
    "# NER to find Gene & Gene products\n",
    "> The model was trained on ncbi-disease, BC5CDR dataset, pretrained on this [pubmed-pretrained roberta model](/raynardj/roberta-pubmed)\n",
    "All the labels, the possible token classes.\n"
   ]
  },
  {
   "cell_type": "code",
   "execution_count": null,
   "id": "40abf774",
   "metadata": {},
   "outputs": [],
   "source": [
    "import paddle\n",
    "from paddlenlp.transformers import AutoModel\n",
    "\n",
    "model = AutoModel.from_pretrained(\"raynardj/ner-disease-ncbi-bionlp-bc5cdr-pubmed\")\n",
    "input_ids = paddle.randint(100, 200, shape=[1, 20])\n",
    "print(model(input_ids))"
   ]
  },
  {
   "cell_type": "markdown",
   "id": "eddfa36d",
   "metadata": {},
   "source": [
    "> check our NER model on\n",
    "* [gene and gene products](/raynardj/ner-gene-dna-rna-jnlpba-pubmed)\n",
    "* [chemical substance](/raynardj/ner-chemical-bionlp-bc5cdr-pubmed).\n",
    "* [disease](/raynardj/ner-disease-ncbi-bionlp-bc5cdr-pubmed)\n",
    "> 此模型来源于：[https://huggingface.co/raynardj/ner-disease-ncbi-bionlp-bc5cdr-pubmed](https://huggingface.co/https://huggingface.co/raynardj/ner-disease-ncbi-bionlp-bc5cdr-pubmed)"
   ]
  }
 ],
 "metadata": {},
 "nbformat": 4,
 "nbformat_minor": 5
}
