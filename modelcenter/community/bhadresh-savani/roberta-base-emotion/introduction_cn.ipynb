{
 "cells": [
  {
   "cell_type": "markdown",
   "id": "de51bb55",
   "metadata": {},
   "source": [
    "# robert-base-emotion\n"
   ]
  },
  {
   "cell_type": "markdown",
   "id": "4a665903",
   "metadata": {},
   "source": [
    "## Model description:\n",
    "[roberta](https://arxiv.org/abs/1907.11692) is Bert with better hyperparameter choices so they said it's Robustly optimized Bert during pretraining.\n"
   ]
  },
  {
   "cell_type": "markdown",
   "id": "bef7b566",
   "metadata": {},
   "source": [
    "[roberta-base](https://huggingface.co/roberta-base) finetuned on the emotion dataset using HuggingFace Trainer with below Hyperparameters\n"
   ]
  },
  {
   "cell_type": "code",
   "execution_count": null,
   "id": "70e44804",
   "metadata": {},
   "outputs": [],
   "source": [
    "!pip install --upgrade paddlenlp"
   ]
  },
  {
   "cell_type": "code",
   "execution_count": null,
   "id": "b1289a95",
   "metadata": {},
   "outputs": [],
   "source": [
    "import paddle\n",
    "from paddlenlp.transformers import AutoModel\n",
    "\n",
    "model = AutoModel.from_pretrained(\"bhadresh-savani/roberta-base-emotion\")\n",
    "input_ids = paddle.randint(100, 200, shape=[1, 20])\n",
    "print(model(input_ids))"
   ]
  },
  {
   "cell_type": "markdown",
   "id": "9838fbcb",
   "metadata": {},
   "source": [
    "{\n",
    "'test_accuracy': 0.9395,\n",
    "'test_f1': 0.9397328860104454,\n",
    "'test_loss': 0.14367154240608215,\n",
    "'test_runtime': 10.2229,\n",
    "'test_samples_per_second': 195.639,\n",
    "'test_steps_per_second': 3.13\n",
    "}\n"
   ]
  },
  {
   "cell_type": "markdown",
   "id": "3a21a4ef",
   "metadata": {},
   "source": [
    "## Reference:\n",
    "* [Natural Language Processing with Transformer By Lewis Tunstall, Leandro von Werra, Thomas Wolf](https://learning.oreilly.com/library/view/natural-language-processing/9781098103231/)\n",
    "> 此模型来源于：[https://huggingface.co/bhadresh-savani/roberta-base-emotion](https://huggingface.co/https://huggingface.co/bhadresh-savani/roberta-base-emotion)\n"
   ]
  }
 ],
 "metadata": {},
 "nbformat": 4,
 "nbformat_minor": 5
}
