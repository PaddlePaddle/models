{
 "cells": [
  {
   "cell_type": "markdown",
   "id": "d9bdd71a",
   "metadata": {},
   "source": [
    "# robert-base-emotion\n",
    "\n",
    "## Model description:\n",
    "[roberta](https://arxiv.org/abs/1907.11692) is Bert with better hyperparameter choices so they said it's Robustly optimized Bert during pretraining.\n",
    "\n",
    "[roberta-base](https://huggingface.co/roberta-base) finetuned on the emotion dataset using HuggingFace Trainer with below Hyperparameters\n"
   ]
  },
  {
   "cell_type": "code",
   "execution_count": null,
   "id": "f9095c61",
   "metadata": {},
   "outputs": [],
   "source": [
    "import paddle\n",
    "from paddlenlp.transformers import AutoModel\n",
    "\n",
    "model = AutoModel.from_pretrained(\"bhadresh-savani/roberta-base-emotion\")\n",
    "input_ids = paddle.randint(100, 200, shape=[1, 20])\n",
    "print(model(input_ids))"
   ]
  },
  {
   "cell_type": "markdown",
   "id": "c1091f37",
   "metadata": {},
   "source": [
    "## Reference:\n",
    "* [Natural Language Processing with Transformer By Lewis Tunstall, Leandro von Werra, Thomas Wolf](https://learning.oreilly.com/library/view/natural-language-processing/9781098103231/)\n",
    "> 此模型来源于：[https://huggingface.co/bhadresh-savani/roberta-base-emotion](https://huggingface.co/https://huggingface.co/bhadresh-savani/roberta-base-emotion)"
   ]
  }
 ],
 "metadata": {},
 "nbformat": 4,
 "nbformat_minor": 5
}
