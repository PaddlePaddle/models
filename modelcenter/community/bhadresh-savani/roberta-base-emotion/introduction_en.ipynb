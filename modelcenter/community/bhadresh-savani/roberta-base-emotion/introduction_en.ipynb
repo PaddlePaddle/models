{
 "cells": [
  {
   "cell_type": "markdown",
   "id": "72dbef32",
   "metadata": {},
   "source": [
    "# robert-base-emotion\n"
   ]
  },
  {
   "cell_type": "markdown",
   "id": "31cb7ddc",
   "metadata": {},
   "source": [
    "## Model description:\n",
    "[roberta](https://arxiv.org/abs/1907.11692) is Bert with better hyperparameter choices so they said it's Robustly optimized Bert during pretraining.\n"
   ]
  },
  {
   "cell_type": "markdown",
   "id": "891f3c68",
   "metadata": {},
   "source": [
    "\n",
    "[roberta-base](https://huggingface.co/roberta-base) finetuned on the emotion dataset using HuggingFace Trainer with below Hyperparameters\n"
   ]
  },
  {
   "cell_type": "markdown",
   "id": "dbfb3bdb",
   "metadata": {},
   "source": [
    "## How to use"
   ]
  },
  {
   "cell_type": "code",
   "execution_count": null,
   "id": "9f198293",
   "metadata": {},
   "outputs": [],
   "source": [
    "!pip install --upgrade paddlenlp"
   ]
  },
  {
   "cell_type": "code",
   "execution_count": null,
   "id": "461c85a5",
   "metadata": {},
   "outputs": [],
   "source": [
    "import paddle\n",
    "from paddlenlp.transformers import AutoModel\n",
    "\n",
    "model = AutoModel.from_pretrained(\"bhadresh-savani/roberta-base-emotion\")\n",
    "input_ids = paddle.randint(100, 200, shape=[1, 20])\n",
    "print(model(input_ids))"
   ]
  },
  {
   "cell_type": "markdown",
   "id": "dd71795f",
   "metadata": {},
   "source": [
    "## Reference:\n",
    "* [Natural Language Processing with Transformer By Lewis Tunstall, Leandro von Werra, Thomas Wolf](https://learning.oreilly.com/library/view/natural-language-processing/9781098103231/)\n"
   ]
  },
  {
   "cell_type": "markdown",
   "id": "cdd44322",
   "metadata": {},
   "source": [
    "> The introduciton and weight file of this model are from [https://huggingface.co/bhadresh-savani/roberta-base-emotion](https://huggingface.co/bhadresh-savani/roberta-base-emotion), and we convert them to paddle related files."
   ]
  }
 ],
 "metadata": {
  "kernelspec": {
   "display_name": "Python 3 (ipykernel)",
   "language": "python",
   "name": "python3"
  },
  "language_info": {
   "codemirror_mode": {
    "name": "ipython",
    "version": 3
   },
   "file_extension": ".py",
   "mimetype": "text/x-python",
   "name": "python",
   "nbconvert_exporter": "python",
   "pygments_lexer": "ipython3",
   "version": "3.8.13"
  }
 },
 "nbformat": 4,
 "nbformat_minor": 5
}
