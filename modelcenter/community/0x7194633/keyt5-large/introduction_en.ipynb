{
 "cells": [
  {
   "cell_type": "markdown",
   "id": "d2ac7ce2",
   "metadata": {},
   "source": [
    "## keyT5. Large version\n",
    "[![0x7o - text2keywords](https://img.shields.io/static/v1?label=0x7o&message=text2keywords&color=blue&logo=github)](https://github.com/0x7o/text2keywords \"Go to GitHub repo\")\n",
    "[![stars - text2keywords](https://img.shields.io/github/stars/0x7o/text2keywords?style=social)](https://github.com/0x7o/text2keywords)\n",
    "[![forks - text2keywords](https://img.shields.io/github/forks/0x7o/text2keywords?style=social)](https://github.com/0x7o/text2keywords)\n"
   ]
  },
  {
   "cell_type": "markdown",
   "id": "1f38e8ac",
   "metadata": {},
   "source": [
    "Supported languages: ru\n"
   ]
  },
  {
   "cell_type": "markdown",
   "id": "242a31f9",
   "metadata": {},
   "source": [
    "Github - [text2keywords](https://github.com/0x7o/text2keywords)\n"
   ]
  },
  {
   "cell_type": "markdown",
   "id": "04eff181",
   "metadata": {},
   "source": [
    "[Pretraining Large version](https://huggingface.co/0x7194633/keyt5-large)\n",
    "|\n",
    "[Pretraining Base version](https://huggingface.co/0x7194633/keyt5-base)\n"
   ]
  },
  {
   "cell_type": "markdown",
   "id": "9dc9f045",
   "metadata": {},
   "source": [
    "# Usage\n",
    "Example usage (the code returns a list with keywords. duplicates are possible):\n"
   ]
  },
  {
   "cell_type": "markdown",
   "id": "5669bd3a",
   "metadata": {},
   "source": []
  },
  {
   "cell_type": "code",
   "execution_count": null,
   "id": "77222ee5",
   "metadata": {},
   "outputs": [],
   "source": [
    "!pip install --upgrade paddlenlp"
   ]
  },
  {
   "cell_type": "code",
   "execution_count": null,
   "id": "f4e3e4b1",
   "metadata": {},
   "outputs": [],
   "source": [
    "import paddle\n",
    "from paddlenlp.transformers import AutoModel\n",
    "\n",
    "model = AutoModel.from_pretrained(\"0x7194633/keyt5-large\")\n",
    "input_ids = paddle.randint(100, 200, shape=[1, 20])\n",
    "print(model(input_ids))"
   ]
  },
  {
   "cell_type": "markdown",
   "id": "07e10d30",
   "metadata": {},
   "source": [
    "# Training\n",
    "Go to the training notebook and learn more about it:\n"
   ]
  },
  {
   "cell_type": "markdown",
   "id": "0ef58907",
   "metadata": {},
   "source": []
  },
  {
   "cell_type": "markdown",
   "id": "01ae51b4",
   "metadata": {},
   "source": [
    "> 此模型来源于：[https://huggingface.co/0x7194633/keyt5-large](https://huggingface.co/https://huggingface.co/0x7194633/keyt5-large)\n"
   ]
  }
 ],
 "metadata": {},
 "nbformat": 4,
 "nbformat_minor": 5
}
