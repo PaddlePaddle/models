{
 "cells": [
  {
   "cell_type": "markdown",
   "id": "44998307",
   "metadata": {},
   "source": [
    "# German GPT-2 model\n",
    "\n",
    "**Note**: This model was de-anonymized and now lives at:\n",
    "\n",
    "https://huggingface.co/dbmdz/german-gpt2\n",
    "\n",
    "Please use the new model name instead!\n",
    "> 此模型来源于：[https://huggingface.co/anonymous-german-nlp/german-gpt2](https://huggingface.co/https://huggingface.co/anonymous-german-nlp/german-gpt2)"
   ]
  }
 ],
 "metadata": {},
 "nbformat": 4,
 "nbformat_minor": 5
}
