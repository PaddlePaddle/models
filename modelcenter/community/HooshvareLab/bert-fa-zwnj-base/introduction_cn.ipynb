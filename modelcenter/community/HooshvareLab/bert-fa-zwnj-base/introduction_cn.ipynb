{
 "cells": [
  {
   "cell_type": "markdown",
   "id": "b6d76059",
   "metadata": {},
   "source": [
    "# ParsBERT (v3.0)\n",
    "A Transformer-based Model for Persian Language Understanding\n",
    "\n",
    "The new version of BERT v3.0 for Persian is available today and can tackle the zero-width non-joiner character for Persian writing. Also, the model was trained on new multi-types corpora with a new set of vocabulary.\n",
    "\n",
    "\n",
    "## Introduction\n",
    "\n",
    "ParsBERT is a monolingual language model based on Google’s BERT architecture. This model is pre-trained on large Persian corpora with various writing styles from numerous subjects (e.g., scientific, novels, news).\n",
    "\n",
    "Paper presenting ParsBERT: [arXiv:2005.12515](https://arxiv.org/abs/2005.12515)\n",
    "\n",
    "### BibTeX entry and citation info\n",
    "\n",
    "Please cite in publications as the following:\n"
   ]
  },
  {
   "cell_type": "code",
   "execution_count": null,
   "id": "e2e60db5",
   "metadata": {},
   "outputs": [],
   "source": [
    "@article{ParsBERT,\n",
    "title={ParsBERT: Transformer-based Model for Persian Language Understanding},\n",
    "author={Mehrdad Farahani, Mohammad Gharachorloo, Marzieh Farahani, Mohammad Manthouri},\n",
    "journal={ArXiv},\n",
    "year={2020},\n",
    "volume={abs/2005.12515}\n",
    "}\n"
   ]
  },
  {
   "cell_type": "markdown",
   "id": "7d401aa6",
   "metadata": {},
   "source": [
    "## Questions?\n",
    "Post a Github issue on the [ParsBERT Issues](https://github.com/hooshvare/parsbert/issues) repo.\n",
    "> 此模型来源于：[https://huggingface.co/HooshvareLab/bert-fa-zwnj-base](https://huggingface.co/https://huggingface.co/HooshvareLab/bert-fa-zwnj-base)"
   ]
  }
 ],
 "metadata": {},
 "nbformat": 4,
 "nbformat_minor": 5
}
