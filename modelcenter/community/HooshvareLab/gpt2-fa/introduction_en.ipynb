{
 "cells": [
  {
   "cell_type": "markdown",
   "id": "219b8415",
   "metadata": {},
   "source": [
    "# ParsGPT2\n",
    "\n",
    "\n",
    "### BibTeX entry and citation info\n",
    "\n",
    "Please cite in publications as the following:\n"
   ]
  },
  {
   "cell_type": "code",
   "execution_count": null,
   "id": "48e4caea",
   "metadata": {},
   "outputs": [],
   "source": [
    "@misc{ParsGPT2,\n",
    "author = {Hooshvare Team},\n",
    "title = {ParsGPT2 the Persian version of GPT2},\n",
    "year = {2021},\n",
    "publisher = {GitHub},\n",
    "journal = {GitHub repository},\n",
    "howpublished = {\\url{https://github.com/hooshvare/parsgpt}},\n",
    "}\n"
   ]
  },
  {
   "cell_type": "markdown",
   "id": "ac5d9ab3",
   "metadata": {},
   "source": [
    "## Questions?\n",
    "Post a Github issue on the [ParsGPT2 Issues](https://github.com/hooshvare/parsgpt/issues) repo.\n",
    "> 此模型来源于：[https://huggingface.co/HooshvareLab/gpt2-fa](https://huggingface.co/https://huggingface.co/HooshvareLab/gpt2-fa)"
   ]
  }
 ],
 "metadata": {},
 "nbformat": 4,
 "nbformat_minor": 5
}
