{
 "cells": [
  {
   "cell_type": "markdown",
   "id": "fd264e1c",
   "metadata": {},
   "source": [
    "\n",
    "# Roberta\n",
    "This model can tackle the zero-width non-joiner character for Persian writing. Also, the model was trained on new multi-types corpora with a new set of vocabulary.\n",
    "\n",
    "\n",
    "## Questions?\n",
    "Post a Github issue on the [ParsRoBERTa Issues](https://github.com/hooshvare/roberta/issues) repo.\n",
    "> 此模型来源于：[https://huggingface.co/HooshvareLab/roberta-fa-zwnj-base](https://huggingface.co/https://huggingface.co/HooshvareLab/roberta-fa-zwnj-base)"
   ]
  }
 ],
 "metadata": {},
 "nbformat": 4,
 "nbformat_minor": 5
}
