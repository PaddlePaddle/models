{
 "cells": [
  {
   "cell_type": "markdown",
   "id": "e6daf699",
   "metadata": {},
   "source": [
    "# ParsBERT (v2.0)\n",
    "A Transformer-based Model for Persian Language Understanding\n",
    "\n",
    "We reconstructed the vocabulary and fine-tuned the ParsBERT v1.1 on the new Persian corpora in order to provide some functionalities for using ParsBERT in other scopes!\n",
    "Please follow the [ParsBERT](https://github.com/hooshvare/parsbert) repo for the latest information about previous and current models.\n",
    "\n",
    "\n",
    "## Persian Sentiment [Digikala, SnappFood, DeepSentiPers]\n",
    "\n",
    "It aims to classify text, such as comments, based on their emotional bias. We tested three well-known datasets for this task: `Digikala` user comments, `SnappFood` user comments, and `DeepSentiPers` in two binary-form and multi-form types.\n",
    "\n",
    "\n",
    "\n",
    "### SnappFood\n",
    "\n",
    "[Snappfood](https://snappfood.ir/) (an online food delivery company) user comments containing 70,000 comments with two labels (i.e. polarity classification):\n",
    "\n",
    "1. Happy\n",
    "2. Sad\n",
    "\n",
    "|   Label  |   #   |\n",
    "|:--------:|:-----:|\n",
    "| Negative | 35000 |\n",
    "| Positive | 35000 |\n",
    "\n",
    "**Download**\n",
    "You can download the dataset from [here](https://drive.google.com/uc?id=15J4zPN1BD7Q_ZIQ39VeFquwSoW8qTxgu)\n",
    "\n",
    "## Results\n",
    "\n",
    "The following table summarizes the F1 score obtained by ParsBERT as compared to other models and architectures.\n",
    "\n",
    "|          Dataset         | ParsBERT v2 | ParsBERT v1 | mBERT | DeepSentiPers |\n",
    "|:------------------------:|:-----------:|:-----------:|:-----:|:-------------:|\n",
    "|  SnappFood User Comments |    87.98    |    88.12*   | 87.87 |       -       |\n",
    "\n",
    "\n",
    "## How to use :hugs:\n",
    "\n",
    "| Task                | Notebook                                                                                                                                                                                          |\n",
    "|---------------------|---------------------------------------------------------------------------------------------------------------------------------------------------------------------------------------------------|\n",
    "| Sentiment Analysis | [![Open In Colab](https://colab.research.google.com/assets/colab-badge.svg)](https://colab.research.google.com/github/hooshvare/parsbert/blob/master/notebooks/Taaghche_Sentiment_Analysis.ipynb) |\n",
    "\n",
    "\n",
    "### BibTeX entry and citation info\n",
    "\n",
    "Please cite in publications as the following:\n"
   ]
  },
  {
   "cell_type": "code",
   "execution_count": null,
   "id": "d9a5c153",
   "metadata": {},
   "outputs": [],
   "source": [
    "@article{ParsBERT,\n",
    "title={ParsBERT: Transformer-based Model for Persian Language Understanding},\n",
    "author={Mehrdad Farahani, Mohammad Gharachorloo, Marzieh Farahani, Mohammad Manthouri},\n",
    "journal={ArXiv},\n",
    "year={2020},\n",
    "volume={abs/2005.12515}\n",
    "}\n"
   ]
  },
  {
   "cell_type": "markdown",
   "id": "f974e6d6",
   "metadata": {},
   "source": [
    "## Questions?\n",
    "Post a Github issue on the [ParsBERT Issues](https://github.com/hooshvare/parsbert/issues) repo.\n",
    "> 此模型来源于：[https://huggingface.co/HooshvareLab/bert-fa-base-uncased-sentiment-snappfood](https://huggingface.co/https://huggingface.co/HooshvareLab/bert-fa-base-uncased-sentiment-snappfood)"
   ]
  }
 ],
 "metadata": {},
 "nbformat": 4,
 "nbformat_minor": 5
}
