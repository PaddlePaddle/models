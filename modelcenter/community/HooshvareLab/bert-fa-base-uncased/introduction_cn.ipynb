{
 "cells": [
  {
   "cell_type": "markdown",
   "id": "00e75347",
   "metadata": {},
   "source": [
    "# ParsBERT (v2.0)\n",
    "A Transformer-based Model for Persian Language Understanding\n"
   ]
  },
  {
   "cell_type": "markdown",
   "id": "336388e4",
   "metadata": {},
   "source": [
    "We reconstructed the vocabulary and fine-tuned the ParsBERT v1.1 on the new Persian corpora in order to provide some functionalities for using ParsBERT in other scopes!\n",
    "Please follow the [ParsBERT](https://github.com/hooshvare/parsbert) repo for the latest information about previous and current models.\n"
   ]
  },
  {
   "cell_type": "markdown",
   "id": "39c02df2",
   "metadata": {},
   "source": [
    "## Introduction\n"
   ]
  },
  {
   "cell_type": "markdown",
   "id": "a79e23c3",
   "metadata": {},
   "source": [
    "ParsBERT is a monolingual language model based on Google’s BERT architecture. This model is pre-trained on large Persian corpora with various writing styles from numerous subjects (e.g., scientific, novels, news) with more than `3.9M` documents, `73M` sentences, and `1.3B` words.\n"
   ]
  },
  {
   "cell_type": "markdown",
   "id": "eaa7071d",
   "metadata": {},
   "source": [
    "Paper presenting ParsBERT: [arXiv:2005.12515](https://arxiv.org/abs/2005.12515)\n"
   ]
  },
  {
   "cell_type": "markdown",
   "id": "e4370f34",
   "metadata": {},
   "source": [
    "## Intended uses & limitations\n"
   ]
  },
  {
   "cell_type": "markdown",
   "id": "25b31fb9",
   "metadata": {},
   "source": [
    "You can use the raw model for either masked language modeling or next sentence prediction, but it's mostly intended to\n",
    "be fine-tuned on a downstream task. See the [model hub](https://huggingface.co/models?search=bert-fa) to look for\n",
    "fine-tuned versions on a task that interests you.\n"
   ]
  },
  {
   "cell_type": "markdown",
   "id": "1536aef7",
   "metadata": {},
   "source": [
    "### How to use\n"
   ]
  },
  {
   "cell_type": "markdown",
   "id": "efff8fc7",
   "metadata": {},
   "source": [
    "#### TensorFlow 2.0\n"
   ]
  },
  {
   "cell_type": "code",
   "execution_count": null,
   "id": "d68d92b5",
   "metadata": {},
   "outputs": [],
   "source": [
    "!pip install --upgrade paddlenlp"
   ]
  },
  {
   "cell_type": "code",
   "execution_count": null,
   "id": "56be3549",
   "metadata": {},
   "outputs": [],
   "source": [
    "import paddle\n",
    "from paddlenlp.transformers import AutoModel\n",
    "\n",
    "model = AutoModel.from_pretrained(\"HooshvareLab/bert-fa-base-uncased\")\n",
    "input_ids = paddle.randint(100, 200, shape=[1, 20])\n",
    "print(model(input_ids))"
   ]
  },
  {
   "cell_type": "markdown",
   "id": "e51062ba",
   "metadata": {},
   "source": [
    "@article{ParsBERT,\n",
    "title={ParsBERT: Transformer-based Model for Persian Language Understanding},\n",
    "author={Mehrdad Farahani, Mohammad Gharachorloo, Marzieh Farahani, Mohammad Manthouri},\n",
    "journal={ArXiv},\n",
    "year={2020},\n",
    "volume={abs/2005.12515}\n",
    "}\n"
   ]
  },
  {
   "cell_type": "markdown",
   "id": "72eea303",
   "metadata": {},
   "source": [
    "## Questions?\n",
    "Post a Github issue on the [ParsBERT Issues](https://github.com/hooshvare/parsbert/issues) repo.\n",
    "> 此模型来源于：[https://huggingface.co/HooshvareLab/bert-fa-base-uncased](https://huggingface.co/https://huggingface.co/HooshvareLab/bert-fa-base-uncased)\n"
   ]
  }
 ],
 "metadata": {},
 "nbformat": 4,
 "nbformat_minor": 5
}
