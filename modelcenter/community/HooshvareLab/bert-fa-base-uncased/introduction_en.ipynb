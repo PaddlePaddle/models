{
 "cells": [
  {
   "cell_type": "markdown",
   "id": "6536b165",
   "metadata": {},
   "source": [
    "# ParsBERT (v2.0)\n",
    "A Transformer-based Model for Persian Language Understanding\n"
   ]
  },
  {
   "cell_type": "markdown",
   "id": "3d80d524",
   "metadata": {},
   "source": [
    "We reconstructed the vocabulary and fine-tuned the ParsBERT v1.1 on the new Persian corpora in order to provide some functionalities for using ParsBERT in other scopes!\n",
    "Please follow the [ParsBERT](https://github.com/hooshvare/parsbert) repo for the latest information about previous and current models.\n"
   ]
  },
  {
   "cell_type": "markdown",
   "id": "03f93b82",
   "metadata": {},
   "source": [
    "## Introduction\n"
   ]
  },
  {
   "cell_type": "markdown",
   "id": "b04617fe",
   "metadata": {},
   "source": [
    "ParsBERT is a monolingual language model based on Google’s BERT architecture. This model is pre-trained on large Persian corpora with various writing styles from numerous subjects (e.g., scientific, novels, news) with more than `3.9M` documents, `73M` sentences, and `1.3B` words.\n"
   ]
  },
  {
   "cell_type": "markdown",
   "id": "b06d4fb8",
   "metadata": {},
   "source": [
    "Paper presenting ParsBERT: [arXiv:2005.12515](https://arxiv.org/abs/2005.12515)\n"
   ]
  },
  {
   "cell_type": "markdown",
   "id": "29620cf3",
   "metadata": {},
   "source": [
    "## Intended uses & limitations\n"
   ]
  },
  {
   "cell_type": "markdown",
   "id": "786c8d15",
   "metadata": {},
   "source": [
    "You can use the raw model for either masked language modeling or next sentence prediction, but it's mostly intended to\n",
    "be fine-tuned on a downstream task. See the [model hub](https://huggingface.co/models?search=bert-fa) to look for\n",
    "fine-tuned versions on a task that interests you.\n"
   ]
  },
  {
   "cell_type": "markdown",
   "id": "382dfa13",
   "metadata": {},
   "source": [
    "### How to use\n"
   ]
  },
  {
   "cell_type": "markdown",
   "id": "7052ee3c",
   "metadata": {},
   "source": [
    "#### TensorFlow 2.0\n"
   ]
  },
  {
   "cell_type": "code",
   "execution_count": null,
   "id": "5685e656",
   "metadata": {},
   "outputs": [],
   "source": [
    "!pip install --upgrade paddlenlp"
   ]
  },
  {
   "cell_type": "code",
   "execution_count": null,
   "id": "a95cc402",
   "metadata": {},
   "outputs": [],
   "source": [
    "import paddle\n",
    "from paddlenlp.transformers import AutoModel\n",
    "\n",
    "model = AutoModel.from_pretrained(\"HooshvareLab/bert-fa-base-uncased\")\n",
    "input_ids = paddle.randint(100, 200, shape=[1, 20])\n",
    "print(model(input_ids))"
   ]
  },
  {
   "cell_type": "markdown",
   "id": "54122fe1",
   "metadata": {},
   "source": [
    "@article{ParsBERT,\n",
    "title={ParsBERT: Transformer-based Model for Persian Language Understanding},\n",
    "author={Mehrdad Farahani, Mohammad Gharachorloo, Marzieh Farahani, Mohammad Manthouri},\n",
    "journal={ArXiv},\n",
    "year={2020},\n",
    "volume={abs/2005.12515}\n",
    "}\n"
   ]
  },
  {
   "cell_type": "markdown",
   "id": "555b094f",
   "metadata": {},
   "source": [
    "## Questions?\n",
    "Post a Github issue on the [ParsBERT Issues](https://github.com/hooshvare/parsbert/issues) repo.\n",
    "> 此模型来源于：[https://huggingface.co/HooshvareLab/bert-fa-base-uncased](https://huggingface.co/https://huggingface.co/HooshvareLab/bert-fa-base-uncased)\n"
   ]
  }
 ],
 "metadata": {},
 "nbformat": 4,
 "nbformat_minor": 5
}
