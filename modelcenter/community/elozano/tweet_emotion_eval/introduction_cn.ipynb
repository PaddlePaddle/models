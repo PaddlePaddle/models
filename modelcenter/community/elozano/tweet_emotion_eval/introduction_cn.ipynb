{
 "cells": [
  {
   "cell_type": "markdown",
   "id": "cccfb85c",
   "metadata": {},
   "source": [
    "> 此模型来源于：[https://huggingface.co/elozano/tweet_emotion_eval](https://huggingface.co/https://huggingface.co/elozano/tweet_emotion_eval)"
   ]
  }
 ],
 "metadata": {},
 "nbformat": 4,
 "nbformat_minor": 5
}
