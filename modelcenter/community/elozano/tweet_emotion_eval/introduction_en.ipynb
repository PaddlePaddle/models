{
 "cells": [
  {
   "cell_type": "markdown",
   "id": "a9496cd1",
   "metadata": {},
   "source": [
    "> 此模型来源于：[https://huggingface.co/elozano/tweet_emotion_eval](https://huggingface.co/https://huggingface.co/elozano/tweet_emotion_eval)"
   ]
  }
 ],
 "metadata": {},
 "nbformat": 4,
 "nbformat_minor": 5
}
