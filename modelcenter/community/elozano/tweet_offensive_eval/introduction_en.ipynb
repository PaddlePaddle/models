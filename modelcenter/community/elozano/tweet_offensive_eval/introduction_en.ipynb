{
 "cells": [
  {
   "cell_type": "markdown",
   "id": "ccd1124f",
   "metadata": {},
   "source": [
    "> 此模型来源于：[https://huggingface.co/elozano/tweet_offensive_eval](https://huggingface.co/https://huggingface.co/elozano/tweet_offensive_eval)"
   ]
  }
 ],
 "metadata": {},
 "nbformat": 4,
 "nbformat_minor": 5
}
