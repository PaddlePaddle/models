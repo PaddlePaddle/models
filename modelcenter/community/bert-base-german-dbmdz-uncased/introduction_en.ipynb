{
 "cells": [
  {
   "cell_type": "markdown",
   "id": "1c737a6c",
   "metadata": {},
   "source": [
    "This model is the same as [dbmdz/bert-base-german-uncased](https://huggingface.co/dbmdz/bert-base-german-uncased). See the [dbmdz/bert-base-german-cased model card](https://huggingface.co/dbmdz/bert-base-german-uncased) for details on the model.\n",
    "> 此模型来源于：[https://huggingface.co/bert-base-german-dbmdz-uncased](https://huggingface.co/https://huggingface.co/bert-base-german-dbmdz-uncased)"
   ]
  },
  {
   "cell_type": "markdown",
   "id": "d66ed2b8",
   "metadata": {},
   "source": [
    "> you can get more details from [Bert in PaddleNLP](ttps://github.com/PaddlePaddle/PaddleNLP/blob/develop/model_zoo/bert/README.md)。"
   ]
  }
 ],
 "metadata": {
  "language_info": {
   "name": "python"
  }
 },
 "nbformat": 4,
 "nbformat_minor": 5
}
