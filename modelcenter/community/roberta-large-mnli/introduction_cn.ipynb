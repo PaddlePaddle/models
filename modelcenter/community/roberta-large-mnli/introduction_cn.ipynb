{
 "cells": [
  {
   "cell_type": "markdown",
   "id": "a476dd2f",
   "metadata": {},
   "source": [
    "# roberta-large-mnli\n"
   ]
  },
  {
   "cell_type": "markdown",
   "id": "b293c714",
   "metadata": {},
   "source": [
    "## Table of Contents\n",
    "- [Model Details](#model-details)\n",
    "- [How To Get Started With the Model](#how-to-get-started-with-the-model)\n",
    "- [Uses](#uses)\n",
    "- [Risks, Limitations and Biases](#risks-limitations-and-biases)\n",
    "- [Training](#training)\n",
    "- [Evaluation](#evaluation-results)\n",
    "- [Environmental Impact](#environmental-impact)\n",
    "- [Technical Specifications](#technical-specifications)\n",
    "- [Citation Information](#citation-information)\n",
    "- [Model Card Authors](#model-card-author)\n"
   ]
  },
  {
   "cell_type": "markdown",
   "id": "b8cd0820",
   "metadata": {},
   "source": [
    "## Model Details\n"
   ]
  },
  {
   "cell_type": "markdown",
   "id": "016cbe28",
   "metadata": {},
   "source": [
    "**Model Description:** roberta-large-mnli is the [RoBERTa large model](https://huggingface.co/roberta-large) fine-tuned on the [Multi-Genre Natural Language Inference (MNLI)](https://huggingface.co/datasets/multi_nli) corpus. The model is a pretrained model on English language text using a masked language modeling (MLM) objective.\n"
   ]
  },
  {
   "cell_type": "markdown",
   "id": "7b6dd16a",
   "metadata": {},
   "source": [
    "- **Developed by:** See [GitHub Repo](https://github.com/facebookresearch/fairseq/tree/main/examples/roberta) for model developers\n",
    "- **Model Type:** Transformer-based language model\n",
    "- **Language(s):** English\n",
    "- **License:** MIT\n",
    "- **Parent Model:** This model is a fine-tuned version of the RoBERTa large model. Users should see the [RoBERTa large model card](https://huggingface.co/roberta-large) for relevant information.\n",
    "- **Resources for more information:**\n",
    "- [Research Paper](https://arxiv.org/abs/1907.11692)\n",
    "- [GitHub Repo](https://github.com/facebookresearch/fairseq/tree/main/examples/roberta)\n"
   ]
  },
  {
   "cell_type": "markdown",
   "id": "d421cb80",
   "metadata": {},
   "source": [
    "## How to Get Started with the Model\n"
   ]
  },
  {
   "cell_type": "markdown",
   "id": "0f368fea",
   "metadata": {},
   "source": [
    "Use the code below to get started with the model. The model can be loaded with the zero-shot-classification pipeline like so:\n"
   ]
  },
  {
   "cell_type": "code",
   "execution_count": null,
   "id": "85ca7d24",
   "metadata": {},
   "outputs": [],
   "source": [
    "!pip install --upgrade paddlenlp"
   ]
  },
  {
   "cell_type": "code",
   "execution_count": null,
   "id": "a12a7d98",
   "metadata": {},
   "outputs": [],
   "source": [
    "import paddle\n",
    "from paddlenlp.transformers import AutoModel\n",
    "\n",
    "model = AutoModel.from_pretrained(\"roberta-large-mnli\")\n",
    "input_ids = paddle.randint(100, 200, shape=[1, 20])\n",
    "print(model(input_ids))"
   ]
  },
  {
   "cell_type": "markdown",
   "id": "105eff22",
   "metadata": {},
   "source": [
    "@article{liu2019roberta,\n",
    "title = {RoBERTa: A Robustly Optimized BERT Pretraining Approach},\n",
    "author = {Yinhan Liu and Myle Ott and Naman Goyal and Jingfei Du and\n",
    "Mandar Joshi and Danqi Chen and Omer Levy and Mike Lewis and\n",
    "Luke Zettlemoyer and Veselin Stoyanov},\n",
    "journal={arXiv preprint arXiv:1907.11692},\n",
    "year = {2019},\n",
    "}\n"
   ]
  },
  {
   "cell_type": "markdown",
   "id": "f5dc7f63",
   "metadata": {},
   "source": [
    "> 此模型来源于：[https://huggingface.co/roberta-large-mnli](https://huggingface.co/https://huggingface.co/roberta-large-mnli)\n"
   ]
  }
 ],
 "metadata": {},
 "nbformat": 4,
 "nbformat_minor": 5
}
