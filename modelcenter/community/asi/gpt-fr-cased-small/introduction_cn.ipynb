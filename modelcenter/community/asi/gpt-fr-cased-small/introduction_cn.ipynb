{
 "cells": [
  {
   "cell_type": "markdown",
   "id": "e365a355",
   "metadata": {},
   "source": [
    "<img src=\"https://raw.githubusercontent.com/AntoineSimoulin/gpt-fr/main/imgs/logo.png\" width=\"200\">\n",
    "\n",
    "## Model description\n",
    "\n",
    "**GPT-fr** 🇫🇷 is a GPT model for French developped by [Quantmetry](https://www.quantmetry.com/) and the [Laboratoire de Linguistique Formelle (LLF)](http://www.llf.cnrs.fr/en). We train the model on a very large and heterogeneous French corpus. We release the weights for the following configurations:\n",
    "\n",
    "| Model name | Number of layers | Attention Heads | Embedding Dimension | Total Parameters |\n",
    "| :------:       |   :---: | :---: | :---: | :---: |\n",
    "| `gpt-fr-cased-small` | 12    | 12    | 768   | 124 M |\n",
    "| `gpt-fr-cased-base` | 24    | 14    | 1,792   | 1,017 B |\n",
    "\n",
    "## Intended uses & limitations\n",
    "\n",
    "The model can be leveraged for language generation tasks. Besides, many tasks may be formatted such that the output is directly generated in natural language. Such configuration may be used for tasks such as automatic summary or question answering. We do hope our model might be used for both academic and industrial applications.\n",
    "\n",
    "#### How to use\n",
    "\n",
    "The model might be used through the astonishing 🤗 `Transformers` librairie:\n"
   ]
  },
  {
   "cell_type": "code",
   "execution_count": null,
   "id": "49708daf",
   "metadata": {},
   "outputs": [],
   "source": [
    "import paddle\n",
    "from paddlenlp.transformers import AutoModel\n",
    "\n",
    "model = AutoModel.from_pretrained(\"asi/gpt-fr-cased-small\")\n",
    "input_ids = paddle.randint(100, 200, shape=[1, 20])\n",
    "print(model(input_ids))"
   ]
  },
  {
   "cell_type": "markdown",
   "id": "1dda3e02",
   "metadata": {},
   "source": [
    "### References\n",
    "\n",
    "><div name=\"tiedemann-2012\">Jörg Tiedemann: Parallel Data, Tools and Interfaces in OPUS. LREC 2012: 2214-2218</div>\n",
    "> 此模型来源于：[https://huggingface.co/asi/gpt-fr-cased-small](https://huggingface.co/https://huggingface.co/asi/gpt-fr-cased-small)"
   ]
  }
 ],
 "metadata": {},
 "nbformat": 4,
 "nbformat_minor": 5
}
