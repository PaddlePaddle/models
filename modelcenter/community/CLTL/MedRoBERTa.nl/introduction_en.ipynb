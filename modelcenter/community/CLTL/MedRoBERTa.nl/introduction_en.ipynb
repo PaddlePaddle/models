{
 "cells": [
  {
   "cell_type": "markdown",
   "id": "4cd3732c",
   "metadata": {},
   "source": [
    "# MedRoBERTa.nl\n",
    "\n",
    "## Description\n",
    "This model is a RoBERTa-based model pre-trained from scratch on Dutch hospital notes sourced from Electronic Health Records. The model is not fine-tuned. All code used for the creation of MedRoBERTa.nl can be found at https://github.com/cltl-students/verkijk_stella_rma_thesis_dutch_medical_language_model.\n",
    "\n",
    "## Intended use\n",
    "The model can be fine-tuned on any type of task. Since it is a domain-specific model trained on medical data, it is meant to be used on medical NLP tasks for Dutch.\n",
    "\n",
    "## Data\n",
    "The model was trained on nearly 10 million hospital notes from the Amsterdam University Medical Centres. The training data was anonymized before starting the pre-training procedure.\n",
    "\n",
    "## Privacy\n",
    "By anonymizing the training data we made sure the model did not learn any representative associations linked to names. Apart from the training data, the model's vocabulary was also anonymized. This ensures that the model can not predict any names in the generative fill-mask task.\n",
    "\n",
    "## Authors\n",
    "Stella Verkijk, Piek Vossen\n",
    "\n",
    "## Reference\n",
    "Paper: Verkijk, S. & Vossen, P. (2022) MedRoBERTa.nl: A Language Model for Dutch Electroniz Health Records. Computational Linguistics in the Netherlands Journal, 11.\n",
    "> The introduciton and weight file of this model are from [https://huggingface.co/CLTL/MedRoBERTa.nl](https://huggingface.co/CLTL/MedRoBERTa.nl), and we convert them to paddle related files."
   ]
  },
  {
   "cell_type": "markdown",
   "id": "bb9f0a44",
   "metadata": {},
   "source": [
    "## How to Use"
   ]
  },
  {
   "cell_type": "code",
   "execution_count": null,
   "id": "14785a58",
   "metadata": {},
   "outputs": [],
   "source": [
    "!pip install --upgrade paddlenlp"
   ]
  },
  {
   "cell_type": "code",
   "execution_count": null,
   "id": "24156568",
   "metadata": {},
   "outputs": [],
   "source": [
    "import paddle\n",
    "from paddlenlp.transformers import AutoModel\n",
    "\n",
    "model = AutoModel.from_pretrained(\"CLTL/MedRoBERTa.nl\")\n",
    "input_ids = paddle.randint(100, 200, shape=[1, 20])\n",
    "print(model(input_ids))"
   ]
  }
 ],
 "metadata": {},
 "nbformat": 4,
 "nbformat_minor": 5
}
