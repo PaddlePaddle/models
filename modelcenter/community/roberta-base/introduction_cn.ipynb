{
 "cells": [
  {
   "cell_type": "markdown",
   "id": "5acee4ed",
   "metadata": {},
   "source": [
    "# RoBERTa base model\n",
    "\n",
    "Pretrained model on English language using a masked language modeling (MLM) objective. It was introduced in\n",
    "[this paper](https://arxiv.org/abs/1907.11692) and first released in\n",
    "[this repository](https://github.com/pytorch/fairseq/tree/master/examples/roberta). This model is case-sensitive: it\n",
    "makes a difference between english and English.\n",
    "\n",
    "Disclaimer: The team releasing RoBERTa did not write a model card for this model so this model card has been written by\n",
    "the Hugging Face team.\n",
    "\n",
    "## Model description\n",
    "\n",
    "RoBERTa is a transformers model pretrained on a large corpus of English data in a self-supervised fashion. This means\n",
    "it was pretrained on the raw texts only, with no humans labelling them in any way (which is why it can use lots of\n",
    "publicly available data) with an automatic process to generate inputs and labels from those texts.\n",
    "\n",
    "More precisely, it was pretrained with the Masked language modeling (MLM) objective. Taking a sentence, the model\n",
    "randomly masks 15% of the words in the input then run the entire masked sentence through the model and has to predict\n",
    "the masked words. This is different from traditional recurrent neural networks (RNNs) that usually see the words one\n",
    "after the other, or from autoregressive models like GPT which internally mask the future tokens. It allows the model to\n",
    "learn a bidirectional representation of the sentence.\n",
    "\n",
    "This way, the model learns an inner representation of the English language that can then be used to extract features\n",
    "useful for downstream tasks: if you have a dataset of labeled sentences for instance, you can train a standard\n",
    "classifier using the features produced by the BERT model as inputs.\n",
    "\n",
    "## Intended uses & limitations\n",
    "\n",
    "You can use the raw model for masked language modeling, but it's mostly intended to be fine-tuned on a downstream task.\n",
    "See the [model hub](https://huggingface.co/models?filter=roberta) to look for fine-tuned versions on a task that\n",
    "interests you.\n",
    "\n",
    "Note that this model is primarily aimed at being fine-tuned on tasks that use the whole sentence (potentially masked)\n",
    "to make decisions, such as sequence classification, token classification or question answering. For tasks such as text\n",
    "generation you should look at model like GPT2.\n",
    "\n",
    "### How to use\n",
    "\n",
    "You can use this model directly with a pipeline for masked language modeling:\n"
   ]
  },
  {
   "cell_type": "code",
   "execution_count": null,
   "id": "ee668878",
   "metadata": {},
   "outputs": [],
   "source": [
    "import paddle\n",
    "from paddlenlp.transformers import AutoModel\n",
    "\n",
    "model = AutoModel.from_pretrained(\"roberta-base\")\n",
    "input_ids = paddle.randint(100, 200, shape=[1, 20])\n",
    "print(model(input_ids))"
   ]
  },
  {
   "cell_type": "markdown",
   "id": "c0f66281",
   "metadata": {},
   "source": [
    "<a href=\"https://huggingface.co/exbert/?model=roberta-base\">\n",
    "<img width=\"300px\" src=\"https://cdn-media.huggingface.co/exbert/button.png\">\n",
    "</a>\n",
    "> 此模型来源于：[https://huggingface.co/roberta-base](https://huggingface.co/https://huggingface.co/roberta-base)"
   ]
  }
 ],
 "metadata": {
  "language_info": {
   "name": "python"
  }
 },
 "nbformat": 4,
 "nbformat_minor": 5
}
