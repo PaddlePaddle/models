{
 "cells": [
  {
   "cell_type": "markdown",
   "id": "c3137a69",
   "metadata": {},
   "source": [
    "# Cross-Encoder for Quora Duplicate Questions Detection\n",
    "This model was trained using [SentenceTransformers](https://sbert.net) [Cross-Encoder](https://www.sbert.net/examples/applications/cross-encoder/README.html) class.\n"
   ]
  },
  {
   "cell_type": "markdown",
   "id": "5406455e",
   "metadata": {},
   "source": [
    "## Training Data\n",
    "This model was trained on the [STS benchmark dataset](http://ixa2.si.ehu.eus/stswiki/index.php/STSbenchmark). The model will predict a score between 0 and 1 how for the semantic similarity of two sentences.\n"
   ]
  },
  {
   "cell_type": "markdown",
   "id": "565af020",
   "metadata": {},
   "source": [
    "## Usage and Performance\n"
   ]
  },
  {
   "cell_type": "markdown",
   "id": "bd866838",
   "metadata": {},
   "source": [
    "Pre-trained models can be used like this:\n"
   ]
  },
  {
   "cell_type": "code",
   "execution_count": null,
   "id": "07301a77",
   "metadata": {},
   "outputs": [],
   "source": [
    "!pip install --upgrade paddlenlp"
   ]
  },
  {
   "cell_type": "code",
   "execution_count": null,
   "id": "0b756d3a",
   "metadata": {},
   "outputs": [],
   "source": [
    "import paddle\n",
    "from paddlenlp.transformers import AutoModel\n",
    "\n",
    "model = AutoModel.from_pretrained(\"cross-encoder/stsb-roberta-base\")\n",
    "input_ids = paddle.randint(100, 200, shape=[1, 20])\n",
    "print(model(input_ids))"
   ]
  },
  {
   "cell_type": "markdown",
   "id": "6ba822d5",
   "metadata": {},
   "source": [
    "> The model introduction and model weights originate from [https://huggingface.co/cross-encoder/stsb-roberta-base](https://huggingface.co/cross-encoder/stsb-roberta-base) and were converted to PaddlePaddle format for ease of use in PaddleNLP.\n"
   ]
  }
 ],
 "metadata": {
  "kernelspec": {
   "display_name": "Python 3 (ipykernel)",
   "language": "python",
   "name": "python3"
  },
  "language_info": {
   "codemirror_mode": {
    "name": "ipython",
    "version": 3
   },
   "file_extension": ".py",
   "mimetype": "text/x-python",
   "name": "python",
   "nbconvert_exporter": "python",
   "pygments_lexer": "ipython3",
   "version": "3.7.13"
  }
 },
 "nbformat": 4,
 "nbformat_minor": 5
}
