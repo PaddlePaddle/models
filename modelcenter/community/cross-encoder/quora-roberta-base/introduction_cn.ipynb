{
 "cells": [
  {
   "cell_type": "markdown",
   "id": "816fa066",
   "metadata": {},
   "source": [
    "# Cross-Encoder for Quora Duplicate Questions Detection\n",
    "This model was trained using [SentenceTransformers](https://sbert.net) [Cross-Encoder](https://www.sbert.net/examples/applications/cross-encoder/README.html) class.\n"
   ]
  },
  {
   "cell_type": "markdown",
   "id": "d216feb9",
   "metadata": {},
   "source": [
    "## Training Data\n",
    "This model was trained on the [Quora Duplicate Questions](https://www.quora.com/q/quoradata/First-Quora-Dataset-Release-Question-Pairs) dataset. The model will predict a score between 0 and 1 how likely the two given questions are duplicates.\n"
   ]
  },
  {
   "cell_type": "markdown",
   "id": "a4f5a530",
   "metadata": {},
   "source": [
    "Note: The model is not suitable to estimate the similarity of questions, e.g. the two questions \"How to learn Java\" and \"How to learn Python\" will result in a rahter low score, as these are not duplicates.\n"
   ]
  },
  {
   "cell_type": "markdown",
   "id": "84367d6f",
   "metadata": {},
   "source": [
    "## Usage and Performance\n"
   ]
  },
  {
   "cell_type": "markdown",
   "id": "b21f4712",
   "metadata": {},
   "source": [
    "Pre-trained models can be used like this:\n"
   ]
  },
  {
   "cell_type": "code",
   "execution_count": null,
   "id": "107c39ff",
   "metadata": {},
   "outputs": [],
   "source": [
    "!pip install --upgrade paddlenlp"
   ]
  },
  {
   "cell_type": "code",
   "execution_count": null,
   "id": "87cad150",
   "metadata": {},
   "outputs": [],
   "source": [
    "import paddle\n",
    "from paddlenlp.transformers import AutoModel\n",
    "\n",
    "model = AutoModel.from_pretrained(\"cross-encoder/quora-roberta-base\")\n",
    "input_ids = paddle.randint(100, 200, shape=[1, 20])\n",
    "print(model(input_ids))"
   ]
  },
  {
   "cell_type": "markdown",
   "id": "359553ee",
   "metadata": {},
   "source": [
    "You can use this model also without sentence_transformers and by just using Transformers ``AutoModel`` class\n",
    "> 此模型来源于：[https://huggingface.co/cross-encoder/quora-roberta-base](https://huggingface.co/https://huggingface.co/cross-encoder/quora-roberta-base)\n"
   ]
  }
 ],
 "metadata": {},
 "nbformat": 4,
 "nbformat_minor": 5
}
