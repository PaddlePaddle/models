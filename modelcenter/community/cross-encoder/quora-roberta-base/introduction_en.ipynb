{
 "cells": [
  {
   "cell_type": "markdown",
   "id": "74b2ba5f",
   "metadata": {},
   "source": [
    "# Cross-Encoder for Quora Duplicate Questions Detection\n",
    "This model was trained using [SentenceTransformers](https://sbert.net) [Cross-Encoder](https://www.sbert.net/examples/applications/cross-encoder/README.html) class.\n"
   ]
  },
  {
   "cell_type": "markdown",
   "id": "36bf7390",
   "metadata": {},
   "source": [
    "## Training Data\n",
    "This model was trained on the [Quora Duplicate Questions](https://www.quora.com/q/quoradata/First-Quora-Dataset-Release-Question-Pairs) dataset. The model will predict a score between 0 and 1 how likely the two given questions are duplicates.\n"
   ]
  },
  {
   "cell_type": "markdown",
   "id": "5aa29571",
   "metadata": {},
   "source": [
    "Note: The model is not suitable to estimate the similarity of questions, e.g. the two questions \"How to learn Java\" and \"How to learn Python\" will result in a rahter low score, as these are not duplicates.\n"
   ]
  },
  {
   "cell_type": "markdown",
   "id": "1fe76310",
   "metadata": {},
   "source": [
    "## Usage and Performance\n"
   ]
  },
  {
   "cell_type": "markdown",
   "id": "e7067bef",
   "metadata": {},
   "source": [
    "Pre-trained models can be used like this:\n"
   ]
  },
  {
   "cell_type": "code",
   "execution_count": null,
   "id": "a9ea7b3d",
   "metadata": {},
   "outputs": [],
   "source": [
    "!pip install --upgrade paddlenlp"
   ]
  },
  {
   "cell_type": "code",
   "execution_count": null,
   "id": "b30bfcd4",
   "metadata": {},
   "outputs": [],
   "source": [
    "import paddle\n",
    "from paddlenlp.transformers import AutoModel\n",
    "\n",
    "model = AutoModel.from_pretrained(\"cross-encoder/quora-roberta-base\")\n",
    "input_ids = paddle.randint(100, 200, shape=[1, 20])\n",
    "print(model(input_ids))"
   ]
  },
  {
   "cell_type": "markdown",
   "id": "ecb795de",
   "metadata": {},
   "source": [
    "You can use this model also without sentence_transformers and by just using ``AutoModel`` class\n",
    "> The introduciton and weight file of this model are from [https://huggingface.co/cross-encoder/quora-roberta-base](https://huggingface.co/cross-encoder/quora-roberta-base), and we convert them to paddle related files.\n"
   ]
  }
 ],
 "metadata": {},
 "nbformat": 4,
 "nbformat_minor": 5
}
