{
 "cells": [
  {
   "cell_type": "markdown",
   "id": "43019b90",
   "metadata": {},
   "source": [
    "# Cross-Encoder for Natural Language Inference\n",
    "This model was trained using [SentenceTransformers](https://sbert.net) [Cross-Encoder](https://www.sbert.net/examples/applications/cross-encoder/README.html) class.\n"
   ]
  },
  {
   "cell_type": "markdown",
   "id": "5c4229b4",
   "metadata": {},
   "source": [
    "## Training Data\n",
    "The model was trained on the [SNLI](https://nlp.stanford.edu/projects/snli/) and [MultiNLI](https://cims.nyu.edu/~sbowman/multinli/) datasets. For a given sentence pair, it will output three scores corresponding to the labels: contradiction, entailment, neutral.\n"
   ]
  },
  {
   "cell_type": "markdown",
   "id": "e8973461",
   "metadata": {},
   "source": [
    "## Performance\n",
    "For evaluation results, see [SBERT.net - Pretrained Cross-Encoder](https://www.sbert.net/docs/pretrained_cross-encoders.html#nli).\n"
   ]
  },
  {
   "cell_type": "markdown",
   "id": "9d04ecc7",
   "metadata": {},
   "source": [
    "## Usage\n"
   ]
  },
  {
   "cell_type": "markdown",
   "id": "5f1335eb",
   "metadata": {},
   "source": [
    "Pre-trained models can be used like this:\n"
   ]
  },
  {
   "cell_type": "code",
   "execution_count": null,
   "id": "a92b547b",
   "metadata": {},
   "outputs": [],
   "source": [
    "!pip install --upgrade paddlenlp"
   ]
  },
  {
   "cell_type": "code",
   "execution_count": null,
   "id": "fd3cbbe0",
   "metadata": {},
   "outputs": [],
   "source": [
    "import paddle\n",
    "from paddlenlp.transformers import AutoModel\n",
    "\n",
    "model = AutoModel.from_pretrained(\"cross-encoder/nli-roberta-base\")\n",
    "input_ids = paddle.randint(100, 200, shape=[1, 20])\n",
    "print(model(input_ids))"
   ]
  },
  {
   "cell_type": "markdown",
   "id": "9158d820",
   "metadata": {},
   "source": [
    "from transformers import pipeline\n"
   ]
  },
  {
   "cell_type": "markdown",
   "id": "44edcdcf",
   "metadata": {},
   "source": [
    "classifier = pipeline(\"zero-shot-classification\", model='cross-encoder/nli-roberta-base')\n"
   ]
  },
  {
   "cell_type": "markdown",
   "id": "490f0a16",
   "metadata": {},
   "source": [
    "sent = \"Apple just announced the newest iPhone X\"\n",
    "candidate_labels = [\"technology\", \"sports\", \"politics\"]\n",
    "res = classifier(sent, candidate_labels)\n",
    "print(res)\n"
   ]
  },
  {
   "cell_type": "markdown",
   "id": "0f0a039a",
   "metadata": {},
   "source": [
    "> 此模型来源于：[https://huggingface.co/cross-encoder/nli-roberta-base](https://huggingface.co/https://huggingface.co/cross-encoder/nli-roberta-base)\n"
   ]
  }
 ],
 "metadata": {},
 "nbformat": 4,
 "nbformat_minor": 5
}
