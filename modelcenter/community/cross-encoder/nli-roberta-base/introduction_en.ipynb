{
 "cells": [
  {
   "cell_type": "markdown",
   "id": "3a5eaec8",
   "metadata": {},
   "source": [
    "# Cross-Encoder for Natural Language Inference\n",
    "This model was trained using [SentenceTransformers](https://sbert.net) [Cross-Encoder](https://www.sbert.net/examples/applications/cross-encoder/README.html) class.\n",
    "\n",
    "## Training Data\n",
    "The model was trained on the [SNLI](https://nlp.stanford.edu/projects/snli/) and [MultiNLI](https://cims.nyu.edu/~sbowman/multinli/) datasets. For a given sentence pair, it will output three scores corresponding to the labels: contradiction, entailment, neutral.\n",
    "\n",
    "## Performance\n",
    "For evaluation results, see [SBERT.net - Pretrained Cross-Encoder](https://www.sbert.net/docs/pretrained_cross-encoders.html#nli).\n",
    "\n",
    "## Usage\n",
    "\n",
    "Pre-trained models can be used like this:\n"
   ]
  },
  {
   "cell_type": "code",
   "execution_count": null,
   "id": "219b99c6",
   "metadata": {},
   "outputs": [],
   "source": [
    "import paddle\n",
    "from paddlenlp.transformers import AutoModel\n",
    "\n",
    "model = AutoModel.from_pretrained(\"cross-encoder/nli-roberta-base\")\n",
    "input_ids = paddle.randint(100, 200, shape=[1, 20])\n",
    "print(model(input_ids))"
   ]
  },
  {
   "cell_type": "code",
   "execution_count": null,
   "id": "37fb34e9",
   "metadata": {},
   "outputs": [],
   "source": [
    "from transformers import pipeline\n",
    "\n",
    "classifier = pipeline(\"zero-shot-classification\", model='cross-encoder/nli-roberta-base')\n",
    "\n",
    "sent = \"Apple just announced the newest iPhone X\"\n",
    "candidate_labels = [\"technology\", \"sports\", \"politics\"]\n",
    "res = classifier(sent, candidate_labels)\n",
    "print(res)\n"
   ]
  },
  {
   "cell_type": "markdown",
   "id": "9a34c7c6",
   "metadata": {},
   "source": [
    "> 此模型来源于：[https://huggingface.co/cross-encoder/nli-roberta-base](https://huggingface.co/https://huggingface.co/cross-encoder/nli-roberta-base)"
   ]
  }
 ],
 "metadata": {},
 "nbformat": 4,
 "nbformat_minor": 5
}
