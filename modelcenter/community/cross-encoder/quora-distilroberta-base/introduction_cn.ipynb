{
 "cells": [
  {
   "cell_type": "markdown",
   "id": "19a8ef58",
   "metadata": {},
   "source": [
    "# Cross-Encoder for Quora Duplicate Questions Detection\n",
    "This model was trained using [SentenceTransformers](https://sbert.net) [Cross-Encoder](https://www.sbert.net/examples/applications/cross-encoder/README.html) class.\n"
   ]
  },
  {
   "cell_type": "markdown",
   "id": "055b20ef",
   "metadata": {},
   "source": [
    "## Training Data\n",
    "This model was trained on the [Quora Duplicate Questions](https://www.quora.com/q/quoradata/First-Quora-Dataset-Release-Question-Pairs) dataset. The model will predict a score between 0 and 1 how likely the two given questions are duplicates.\n"
   ]
  },
  {
   "cell_type": "markdown",
   "id": "d4554c68",
   "metadata": {},
   "source": [
    "Note: The model is not suitable to estimate the similarity of questions, e.g. the two questions \"How to learn Java\" and \"How to learn Python\" will result in a rahter low score, as these are not duplicates.\n"
   ]
  },
  {
   "cell_type": "markdown",
   "id": "8627571e",
   "metadata": {},
   "source": [
    "## Usage and Performance\n"
   ]
  },
  {
   "cell_type": "markdown",
   "id": "3ef4b834",
   "metadata": {},
   "source": [
    "Pre-trained models can be used like this:\n"
   ]
  },
  {
   "cell_type": "code",
   "execution_count": null,
   "id": "0ba16d29",
   "metadata": {},
   "outputs": [],
   "source": [
    "!pip install --upgrade paddlenlp"
   ]
  },
  {
   "cell_type": "code",
   "execution_count": null,
   "id": "412893e9",
   "metadata": {},
   "outputs": [],
   "source": [
    "import paddle\n",
    "from paddlenlp.transformers import AutoModel\n",
    "\n",
    "model = AutoModel.from_pretrained(\"cross-encoder/quora-distilroberta-base\")\n",
    "input_ids = paddle.randint(100, 200, shape=[1, 20])\n",
    "print(model(input_ids))"
   ]
  },
  {
   "cell_type": "markdown",
   "id": "72a26ef6",
   "metadata": {},
   "source": [
    "You can use this model also without sentence_transformers and by just using Transformers ``AutoModel`` class\n",
    "> 此模型来源于：[https://huggingface.co/cross-encoder/quora-distilroberta-base](https://huggingface.co/https://huggingface.co/cross-encoder/quora-distilroberta-base)\n"
   ]
  }
 ],
 "metadata": {},
 "nbformat": 4,
 "nbformat_minor": 5
}
