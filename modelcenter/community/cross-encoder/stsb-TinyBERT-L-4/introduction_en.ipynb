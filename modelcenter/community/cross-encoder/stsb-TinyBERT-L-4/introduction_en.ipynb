{
 "cells": [
  {
   "cell_type": "markdown",
   "id": "3939f74e",
   "metadata": {},
   "source": [
    "# Cross-Encoder for Quora Duplicate Questions Detection\n",
    "This model was trained using [SentenceTransformers](https://sbert.net) [Cross-Encoder](https://www.sbert.net/examples/applications/cross-encoder/README.html) class.\n"
   ]
  },
  {
   "cell_type": "markdown",
   "id": "8da8a7f9",
   "metadata": {},
   "source": [
    "## Training Data\n",
    "This model was trained on the [STS benchmark dataset](http://ixa2.si.ehu.eus/stswiki/index.php/STSbenchmark). The model will predict a score between 0 and 1 how for the semantic similarity of two sentences.\n"
   ]
  },
  {
   "cell_type": "markdown",
   "id": "b219c944",
   "metadata": {},
   "source": [
    "## Usage and Performance\n"
   ]
  },
  {
   "cell_type": "markdown",
   "id": "216f74e9",
   "metadata": {},
   "source": [
    "Pre-trained models can be used like this:\n"
   ]
  },
  {
   "cell_type": "code",
   "execution_count": null,
   "id": "ff076f12",
   "metadata": {},
   "outputs": [],
   "source": [
    "!pip install --upgrade paddlenlp"
   ]
  },
  {
   "cell_type": "code",
   "execution_count": null,
   "id": "7fe5a5a0",
   "metadata": {},
   "outputs": [],
   "source": [
    "import paddle\n",
    "from paddlenlp.transformers import AutoModel\n",
    "\n",
    "model = AutoModel.from_pretrained(\"cross-encoder/stsb-TinyBERT-L-4\")\n",
    "input_ids = paddle.randint(100, 200, shape=[1, 20])\n",
    "print(model(input_ids))"
   ]
  },
  {
   "cell_type": "markdown",
   "id": "28cee45a",
   "metadata": {},
   "source": [
    "The model will predict scores for the pairs `('Sentence 1', 'Sentence 2')` and `('Sentence 3', 'Sentence 4')`.\n"
   ]
  },
  {
   "cell_type": "markdown",
   "id": "97d8e018",
   "metadata": {},
   "source": [
    "You can use this model also without sentence_transformers and by just using Transformers ``AutoModel`` class\n",
    "> 此模型来源于：[https://huggingface.co/cross-encoder/stsb-TinyBERT-L-4](https://huggingface.co/https://huggingface.co/cross-encoder/stsb-TinyBERT-L-4)\n"
   ]
  }
 ],
 "metadata": {},
 "nbformat": 4,
 "nbformat_minor": 5
}
