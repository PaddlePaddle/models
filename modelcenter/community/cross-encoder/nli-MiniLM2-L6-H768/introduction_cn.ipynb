{
 "cells": [
  {
   "cell_type": "markdown",
   "id": "f9723294",
   "metadata": {},
   "source": [
    "# Cross-Encoder for Natural Language Inference\n",
    "This model was trained using [SentenceTransformers](https://sbert.net) [Cross-Encoder](https://www.sbert.net/examples/applications/cross-encoder/README.html) class.\n"
   ]
  },
  {
   "cell_type": "markdown",
   "id": "f3283954",
   "metadata": {},
   "source": [
    "## Training Data\n",
    "The model was trained on the [SNLI](https://nlp.stanford.edu/projects/snli/) and [MultiNLI](https://cims.nyu.edu/~sbowman/multinli/) datasets. For a given sentence pair, it will output three scores corresponding to the labels: contradiction, entailment, neutral.\n"
   ]
  },
  {
   "cell_type": "markdown",
   "id": "4401ed9e",
   "metadata": {},
   "source": [
    "## Performance\n",
    "For evaluation results, see [SBERT.net - Pretrained Cross-Encoder](https://www.sbert.net/docs/pretrained_cross-encoders.html#nli).\n"
   ]
  },
  {
   "cell_type": "markdown",
   "id": "c933ca06",
   "metadata": {},
   "source": [
    "## Usage\n"
   ]
  },
  {
   "cell_type": "markdown",
   "id": "e9c50120",
   "metadata": {},
   "source": [
    "Pre-trained models can be used like this:\n"
   ]
  },
  {
   "cell_type": "code",
   "execution_count": null,
   "id": "ce317e28",
   "metadata": {},
   "outputs": [],
   "source": [
    "!pip install --upgrade paddlenlp"
   ]
  },
  {
   "cell_type": "code",
   "execution_count": null,
   "id": "75f8bfcf",
   "metadata": {},
   "outputs": [],
   "source": [
    "import paddle\n",
    "from paddlenlp.transformers import AutoModel\n",
    "\n",
    "model = AutoModel.from_pretrained(\"cross-encoder/nli-MiniLM2-L6-H768\")\n",
    "input_ids = paddle.randint(100, 200, shape=[1, 20])\n",
    "print(model(input_ids))"
   ]
  },
  {
   "cell_type": "markdown",
   "id": "32a53b69",
   "metadata": {},
   "source": [
    "from transformers import pipeline\n"
   ]
  },
  {
   "cell_type": "markdown",
   "id": "c2e9e56f",
   "metadata": {},
   "source": [
    "classifier = pipeline(\"zero-shot-classification\", model='cross-encoder/nli-MiniLM2-L6-H768')\n"
   ]
  },
  {
   "cell_type": "markdown",
   "id": "1a95ae89",
   "metadata": {},
   "source": [
    "sent = \"Apple just announced the newest iPhone X\"\n",
    "candidate_labels = [\"technology\", \"sports\", \"politics\"]\n",
    "res = classifier(sent, candidate_labels)\n",
    "print(res)\n"
   ]
  },
  {
   "cell_type": "markdown",
   "id": "bb4e25b4",
   "metadata": {},
   "source": [
    "> 此模型来源于：[https://huggingface.co/cross-encoder/nli-MiniLM2-L6-H768](https://huggingface.co/https://huggingface.co/cross-encoder/nli-MiniLM2-L6-H768)\n"
   ]
  }
 ],
 "metadata": {},
 "nbformat": 4,
 "nbformat_minor": 5
}
