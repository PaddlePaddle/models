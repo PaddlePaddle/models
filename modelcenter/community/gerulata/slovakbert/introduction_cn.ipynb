{
 "cells": [
  {
   "cell_type": "markdown",
   "id": "4f9d078c",
   "metadata": {},
   "source": [
    "# SlovakBERT (base-sized model)\n",
    "SlovakBERT pretrained model on Slovak language using a masked language modeling (MLM) objective. This model is case-sensitive: it makes a difference between slovensko and Slovensko.\n"
   ]
  },
  {
   "cell_type": "markdown",
   "id": "1a6995d0",
   "metadata": {},
   "source": [
    "## Intended uses & limitations\n",
    "You can use the raw model for masked language modeling, but it's mostly intended to be fine-tuned on a downstream task.\n",
    "**IMPORTANT**: The model was not trained on the “ and ” (direct quote) character -> so before tokenizing the text, it is advised to replace all “ and ” (direct quote marks) with a single \"(double quote marks).\n"
   ]
  },
  {
   "cell_type": "markdown",
   "id": "922a06ab",
   "metadata": {},
   "source": [
    "### How to use\n",
    "You can use this model directly with a pipeline for masked language modeling:\n"
   ]
  },
  {
   "cell_type": "code",
   "execution_count": null,
   "id": "9675204e",
   "metadata": {},
   "outputs": [],
   "source": [
    "!pip install --upgrade paddlenlp"
   ]
  },
  {
   "cell_type": "code",
   "execution_count": null,
   "id": "1bb81d36",
   "metadata": {},
   "outputs": [],
   "source": [
    "import paddle\n",
    "from paddlenlp.transformers import AutoModel\n",
    "\n",
    "model = AutoModel.from_pretrained(\"gerulata/slovakbert\")\n",
    "input_ids = paddle.randint(100, 200, shape=[1, 20])\n",
    "print(model(input_ids))"
   ]
  },
  {
   "cell_type": "markdown",
   "id": "6f41b607",
   "metadata": {},
   "source": [
    "@misc{pikuliak2021slovakbert,\n",
    "title={SlovakBERT: Slovak Masked Language Model},\n",
    "author={Matúš Pikuliak and Štefan Grivalský and Martin Konôpka and Miroslav Blšták and Martin Tamajka and Viktor Bachratý and Marián Šimko and Pavol Balážik and Michal Trnka and Filip Uhlárik},\n",
    "year={2021},\n",
    "eprint={2109.15254},\n",
    "archivePrefix={arXiv},\n",
    "primaryClass={cs.CL}\n",
    "}\n"
   ]
  },
  {
   "cell_type": "markdown",
   "id": "3076f8a2",
   "metadata": {},
   "source": [
    "> 此模型来源于：[https://huggingface.co/gerulata/slovakbert](https://huggingface.co/https://huggingface.co/gerulata/slovakbert)\n"
   ]
  }
 ],
 "metadata": {},
 "nbformat": 4,
 "nbformat_minor": 5
}
