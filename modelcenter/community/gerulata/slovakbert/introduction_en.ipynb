{
 "cells": [
  {
   "cell_type": "markdown",
   "id": "54867ad3",
   "metadata": {},
   "source": [
    "# SlovakBERT (base-sized model)\n",
    "SlovakBERT pretrained model on Slovak language using a masked language modeling (MLM) objective. This model is case-sensitive: it makes a difference between slovensko and Slovensko.\n",
    "\n",
    "## Intended uses & limitations\n",
    "You can use the raw model for masked language modeling, but it's mostly intended to be fine-tuned on a downstream task.\n",
    "**IMPORTANT**: The model was not trained on the “ and ” (direct quote) character -> so before tokenizing the text, it is advised to replace all “ and ” (direct quote marks) with a single \"(double quote marks).\n",
    "\n",
    "### How to use\n",
    "You can use this model directly with a pipeline for masked language modeling:\n"
   ]
  },
  {
   "cell_type": "code",
   "execution_count": null,
   "id": "718455a1",
   "metadata": {},
   "outputs": [],
   "source": [
    "import paddle\n",
    "from paddlenlp.transformers import AutoModel\n",
    "\n",
    "model = AutoModel.from_pretrained(\"gerulata/slovakbert\")\n",
    "input_ids = paddle.randint(100, 200, shape=[1, 20])\n",
    "print(model(input_ids))"
   ]
  },
  {
   "cell_type": "markdown",
   "id": "137b2a70",
   "metadata": {},
   "source": [
    "> 此模型来源于：[https://huggingface.co/gerulata/slovakbert](https://huggingface.co/https://huggingface.co/gerulata/slovakbert)"
   ]
  }
 ],
 "metadata": {},
 "nbformat": 4,
 "nbformat_minor": 5
}
