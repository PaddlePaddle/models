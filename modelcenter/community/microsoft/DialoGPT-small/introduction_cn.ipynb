{
 "cells": [
  {
   "cell_type": "markdown",
   "id": "6fdf35ae",
   "metadata": {},
   "source": [
    "## A State-of-the-Art Large-scale Pretrained Response generation model (DialoGPT)\n"
   ]
  },
  {
   "cell_type": "markdown",
   "id": "127e1e13",
   "metadata": {},
   "source": [
    "DialoGPT is a SOTA large-scale pretrained dialogue response generation model for multiturn conversations.\n",
    "The [human evaluation results](https://github.com/dreasysnail/Dialogpt_dev#human-evaluation) indicate that the response generated from DialoGPT is comparable to human response quality under a single-turn conversation Turing test.\n",
    "The model is trained on 147M multi-turn dialogue from Reddit discussion thread.\n"
   ]
  },
  {
   "cell_type": "markdown",
   "id": "c37ffcc3",
   "metadata": {},
   "source": [
    "* Multi-turn generation examples from an interactive environment:\n"
   ]
  },
  {
   "cell_type": "markdown",
   "id": "af7bb88d",
   "metadata": {},
   "source": [
    "|Role | Response |\n",
    "|---------|--------|\n",
    "|User | Does money buy happiness? |\n",
    "| Bot |  Depends how much money you spend on it .|\n",
    "|User | What is the best way to buy happiness ? |\n",
    "| Bot | You just have to be a millionaire by your early 20s, then you can be happy . |\n",
    "|User |This is so difficult ! |\n",
    "| Bot | You have no idea how hard it is to be a millionaire and happy . There is a reason the rich have a lot of money |\n"
   ]
  },
  {
   "cell_type": "markdown",
   "id": "0962b5e1",
   "metadata": {},
   "source": [
    "Please find the information about preprocessing, training and full details of the DialoGPT in the [original DialoGPT repository](https://github.com/microsoft/DialoGPT)\n"
   ]
  },
  {
   "cell_type": "markdown",
   "id": "d0be8cd0",
   "metadata": {},
   "source": [
    "ArXiv paper: [https://arxiv.org/abs/1911.00536](https://arxiv.org/abs/1911.00536)\n"
   ]
  },
  {
   "cell_type": "markdown",
   "id": "e3c634e4",
   "metadata": {},
   "source": [
    "### How to use\n"
   ]
  },
  {
   "cell_type": "markdown",
   "id": "fbf9fae7",
   "metadata": {},
   "source": [
    "Now we are ready to try out how the model works as a chatting partner!\n"
   ]
  },
  {
   "cell_type": "code",
   "execution_count": null,
   "id": "255a9ad7",
   "metadata": {},
   "outputs": [],
   "source": [
    "!pip install --upgrade paddlenlp"
   ]
  },
  {
   "cell_type": "code",
   "execution_count": null,
   "id": "3e031ec2",
   "metadata": {},
   "outputs": [],
   "source": [
    "import paddle\n",
    "from paddlenlp.transformers import AutoModel\n",
    "\n",
    "model = AutoModel.from_pretrained(\"microsoft/DialoGPT-small\")\n",
    "input_ids = paddle.randint(100, 200, shape=[1, 20])\n",
    "print(model(input_ids))"
   ]
  },
  {
   "cell_type": "markdown",
   "id": "efa8ca03",
   "metadata": {},
   "source": [
    "> 此模型来源于：[https://huggingface.co/microsoft/DialoGPT-small](https://huggingface.co/https://huggingface.co/microsoft/DialoGPT-small)\n"
   ]
  }
 ],
 "metadata": {},
 "nbformat": 4,
 "nbformat_minor": 5
}
