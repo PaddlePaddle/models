{
 "cells": [
  {
   "cell_type": "markdown",
   "id": "34fbffec",
   "metadata": {},
   "source": [
    "## A State-of-the-Art Large-scale Pretrained Response generation model (DialoGPT)\n"
   ]
  },
  {
   "cell_type": "markdown",
   "id": "37d929db",
   "metadata": {},
   "source": [
    "DialoGPT is a SOTA large-scale pretrained dialogue response generation model for multiturn conversations.\n",
    "The [human evaluation results](https://github.com/dreasysnail/Dialogpt_dev#human-evaluation) indicate that the response generated from DialoGPT is comparable to human response quality under a single-turn conversation Turing test.\n",
    "The model is trained on 147M multi-turn dialogue from Reddit discussion thread.\n"
   ]
  },
  {
   "cell_type": "markdown",
   "id": "2b91095f",
   "metadata": {},
   "source": [
    "* Multi-turn generation examples from an interactive environment:\n"
   ]
  },
  {
   "cell_type": "markdown",
   "id": "28b7d6ee",
   "metadata": {},
   "source": [
    "|Role | Response |\n",
    "|---------|--------|\n",
    "|User | Does money buy happiness? |\n",
    "| Bot |  Depends how much money you spend on it .|\n",
    "|User | What is the best way to buy happiness ? |\n",
    "| Bot | You just have to be a millionaire by your early 20s, then you can be happy . |\n",
    "|User |This is so difficult ! |\n",
    "| Bot | You have no idea how hard it is to be a millionaire and happy . There is a reason the rich have a lot of money |\n"
   ]
  },
  {
   "cell_type": "markdown",
   "id": "3f3ebeed",
   "metadata": {},
   "source": [
    "Please find the information about preprocessing, training and full details of the DialoGPT in the [original DialoGPT repository](https://github.com/microsoft/DialoGPT)\n"
   ]
  },
  {
   "cell_type": "markdown",
   "id": "9ae9accb",
   "metadata": {},
   "source": [
    "ArXiv paper: [https://arxiv.org/abs/1911.00536](https://arxiv.org/abs/1911.00536)\n"
   ]
  },
  {
   "cell_type": "markdown",
   "id": "20b262f4",
   "metadata": {},
   "source": [
    "### How to use\n"
   ]
  },
  {
   "cell_type": "markdown",
   "id": "32923f9d",
   "metadata": {},
   "source": [
    "Now we are ready to try out how the model works as a chatting partner!\n"
   ]
  },
  {
   "cell_type": "code",
   "execution_count": null,
   "id": "e0aff167",
   "metadata": {},
   "outputs": [],
   "source": [
    "!pip install --upgrade paddlenlp"
   ]
  },
  {
   "cell_type": "code",
   "execution_count": null,
   "id": "c9efb7aa",
   "metadata": {},
   "outputs": [],
   "source": [
    "import paddle\n",
    "from paddlenlp.transformers import AutoModel\n",
    "\n",
    "model = AutoModel.from_pretrained(\"microsoft/DialoGPT-medium\")\n",
    "input_ids = paddle.randint(100, 200, shape=[1, 20])\n",
    "print(model(input_ids))"
   ]
  },
  {
   "cell_type": "markdown",
   "id": "da0e861d",
   "metadata": {},
   "source": [
    "> 此模型来源于：[https://huggingface.co/microsoft/DialoGPT-medium](https://huggingface.co/https://huggingface.co/microsoft/DialoGPT-medium)\n"
   ]
  }
 ],
 "metadata": {},
 "nbformat": 4,
 "nbformat_minor": 5
}
