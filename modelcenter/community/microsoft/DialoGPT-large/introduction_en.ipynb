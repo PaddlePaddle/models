{
 "cells": [
  {
   "cell_type": "markdown",
   "id": "fd92b1f8",
   "metadata": {},
   "source": [
    "## A State-of-the-Art Large-scale Pretrained Response generation model (DialoGPT)\n"
   ]
  },
  {
   "cell_type": "markdown",
   "id": "babe82f4",
   "metadata": {},
   "source": [
    "DialoGPT is a SOTA large-scale pretrained dialogue response generation model for multiturn conversations.\n",
    "The [human evaluation results](https://github.com/dreasysnail/Dialogpt_dev#human-evaluation) indicate that the response generated from DialoGPT is comparable to human response quality under a single-turn conversation Turing test.\n",
    "The model is trained on 147M multi-turn dialogue from Reddit discussion thread.\n"
   ]
  },
  {
   "cell_type": "markdown",
   "id": "1736057f",
   "metadata": {},
   "source": [
    "* Multi-turn generation examples from an interactive environment:\n"
   ]
  },
  {
   "cell_type": "markdown",
   "id": "06f53e8a",
   "metadata": {},
   "source": [
    "|Role | Response |\n",
    "|---------|--------|\n",
    "|User | Does money buy happiness? |\n",
    "| Bot |  Depends how much money you spend on it .|\n",
    "|User | What is the best way to buy happiness ? |\n",
    "| Bot | You just have to be a millionaire by your early 20s, then you can be happy . |\n",
    "|User |This is so difficult ! |\n",
    "| Bot | You have no idea how hard it is to be a millionaire and happy . There is a reason the rich have a lot of money |\n"
   ]
  },
  {
   "cell_type": "markdown",
   "id": "d6a2e90a",
   "metadata": {},
   "source": [
    "Please find the information about preprocessing, training and full details of the DialoGPT in the [original DialoGPT repository](https://github.com/microsoft/DialoGPT)\n"
   ]
  },
  {
   "cell_type": "markdown",
   "id": "9ae5abf6",
   "metadata": {},
   "source": [
    "ArXiv paper: [https://arxiv.org/abs/1911.00536](https://arxiv.org/abs/1911.00536)\n"
   ]
  },
  {
   "cell_type": "markdown",
   "id": "877e177f",
   "metadata": {},
   "source": [
    "### How to use\n"
   ]
  },
  {
   "cell_type": "markdown",
   "id": "c3d49c1a",
   "metadata": {},
   "source": [
    "Now we are ready to try out how the model works as a chatting partner!\n"
   ]
  },
  {
   "cell_type": "code",
   "execution_count": null,
   "id": "ad98d07f",
   "metadata": {},
   "outputs": [],
   "source": [
    "!pip install --upgrade paddlenlp"
   ]
  },
  {
   "cell_type": "code",
   "execution_count": null,
   "id": "e130f804",
   "metadata": {},
   "outputs": [],
   "source": [
    "import paddle\n",
    "from paddlenlp.transformers import AutoModel\n",
    "\n",
    "model = AutoModel.from_pretrained(\"microsoft/DialoGPT-large\")\n",
    "input_ids = paddle.randint(100, 200, shape=[1, 20])\n",
    "print(model(input_ids))"
   ]
  },
  {
   "cell_type": "markdown",
   "id": "ad39a500",
   "metadata": {},
   "source": [
    "> 此模型来源于：[https://huggingface.co/microsoft/DialoGPT-large](https://huggingface.co/https://huggingface.co/microsoft/DialoGPT-large)\n"
   ]
  }
 ],
 "metadata": {},
 "nbformat": 4,
 "nbformat_minor": 5
}
