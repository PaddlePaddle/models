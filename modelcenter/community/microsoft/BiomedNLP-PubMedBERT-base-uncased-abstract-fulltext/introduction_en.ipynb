{
 "cells": [
  {
   "cell_type": "markdown",
   "id": "eb04f634",
   "metadata": {},
   "source": [
    "## PubMedBERT (abstracts + full text)\n",
    "\n",
    "Pretraining large neural language models, such as BERT, has led to impressive gains on many natural language processing (NLP) tasks. However, most pretraining efforts focus on general domain corpora, such as newswire and Web. A prevailing assumption is that even domain-specific pretraining can benefit by starting from general-domain language models. [Recent work](https://arxiv.org/abs/2007.15779) shows that for domains with abundant unlabeled text, such as biomedicine, pretraining language models from scratch results in substantial gains over continual pretraining of general-domain language models.\n",
    "\n",
    "PubMedBERT is pretrained from scratch using _abstracts_ from [PubMed](https://pubmed.ncbi.nlm.nih.gov/) and _full-text_ articles from [PubMedCentral](https://www.ncbi.nlm.nih.gov/pmc/). This model achieves state-of-the-art performance on many biomedical NLP tasks, and currently holds the top score on the [Biomedical Language Understanding and Reasoning Benchmark](https://aka.ms/BLURB).\n",
    "\n",
    "## Citation\n",
    "\n",
    "If you find PubMedBERT useful in your research, please cite the following paper:\n"
   ]
  },
  {
   "cell_type": "code",
   "execution_count": null,
   "id": "75384cf3",
   "metadata": {},
   "outputs": [],
   "source": [
    "@misc{pubmedbert,\n",
    "author = {Yu Gu and Robert Tinn and Hao Cheng and Michael Lucas and Naoto Usuyama and Xiaodong Liu and Tristan Naumann and Jianfeng Gao and Hoifung Poon},\n",
    "title = {Domain-Specific Language Model Pretraining for Biomedical Natural Language Processing},\n",
    "year = {2020},\n",
    "eprint = {arXiv:2007.15779},\n",
    "}\n"
   ]
  },
  {
   "cell_type": "markdown",
   "id": "6457ecf0",
   "metadata": {},
   "source": [
    "<a href=\"https://huggingface.co/exbert/?model=microsoft/BiomedNLP-PubMedBERT-base-uncased-abstract-fulltext&modelKind=bidirectional&sentence=Gefitinib%20is%20an%20EGFR%20tyrosine%20kinase%20inhibitor,%20which%20is%20often%20used%20for%20breast%20cancer%20and%20NSCLC%20treatment.&layer=3&heads=..0,1,2,3,4,5,6,7,8,9,10,11&threshold=0.7&tokenInd=17&tokenSide=right&maskInds=..&hideClsSep=true\">\n",
    "<img width=\"300px\" src=\"https://cdn-media.huggingface.co/exbert/button.png\">\n",
    "</a>\n",
    "> 此模型来源于：[https://huggingface.co/microsoft/BiomedNLP-PubMedBERT-base-uncased-abstract-fulltext](https://huggingface.co/https://huggingface.co/microsoft/BiomedNLP-PubMedBERT-base-uncased-abstract-fulltext)"
   ]
  }
 ],
 "metadata": {},
 "nbformat": 4,
 "nbformat_minor": 5
}
