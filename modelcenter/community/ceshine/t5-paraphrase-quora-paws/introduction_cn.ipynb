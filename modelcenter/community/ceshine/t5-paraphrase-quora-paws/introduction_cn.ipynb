{
 "cells": [
  {
   "cell_type": "markdown",
   "id": "b3bef40b",
   "metadata": {},
   "source": [
    "# T5-base Parapharasing model fine-tuned on PAWS and Quora\n",
    "\n",
    "More details in [ceshine/finetuning-t5 Github repo](https://github.com/ceshine/finetuning-t5/tree/master/paraphrase)\n",
    "> 此模型来源于：[https://huggingface.co/ceshine/t5-paraphrase-quora-paws](https://huggingface.co/https://huggingface.co/ceshine/t5-paraphrase-quora-paws)"
   ]
  }
 ],
 "metadata": {},
 "nbformat": 4,
 "nbformat_minor": 5
}
