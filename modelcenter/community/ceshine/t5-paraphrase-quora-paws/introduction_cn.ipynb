{
 "cells": [
  {
   "cell_type": "markdown",
   "id": "79258824",
   "metadata": {},
   "source": [
    "# T5-base Parapharasing model fine-tuned on PAWS and Quora\n",
    "\n",
    "More details in [ceshine/finetuning-t5 Github repo](https://github.com/ceshine/finetuning-t5/tree/master/paraphrase)"
   ]
  },
  {
   "cell_type": "markdown",
   "id": "c2751180",
   "metadata": {},
   "source": [
    "## How to Use"
   ]
  },
  {
   "cell_type": "code",
   "execution_count": null,
   "id": "e211d5bb",
   "metadata": {},
   "outputs": [],
   "source": [
    "!pip install --upgrade paddlenlp"
   ]
  },
  {
   "cell_type": "code",
   "execution_count": null,
   "id": "cf625ede",
   "metadata": {},
   "outputs": [],
   "source": [
    "import paddle\n",
    "from paddlenlp.transformers import AutoModel\n",
    "\n",
    "model = AutoModel.from_pretrained(\"ceshine/t5-paraphrase-quora-paws\")\n",
    "input_ids = paddle.randint(100, 200, shape=[1, 20])\n",
    "print(model(input_ids))"
   ]
  },
  {
   "cell_type": "markdown",
   "id": "3d2ae87b",
   "metadata": {},
   "source": [
    "模型来源于：[https://huggingface.co/ceshine/t5-paraphrase-quora-paws](https://huggingface.co/ceshine/t5-paraphrase-quora-paws)"
   ]
  }
 ],
 "metadata": {
  "kernelspec": {
   "display_name": "Python 3 (ipykernel)",
   "language": "python",
   "name": "python3"
  },
  "language_info": {
   "codemirror_mode": {
    "name": "ipython",
    "version": 3
   },
   "file_extension": ".py",
   "mimetype": "text/x-python",
   "name": "python",
   "nbconvert_exporter": "python",
   "pygments_lexer": "ipython3",
   "version": "3.8.13"
  }
 },
 "nbformat": 4,
 "nbformat_minor": 5
}
