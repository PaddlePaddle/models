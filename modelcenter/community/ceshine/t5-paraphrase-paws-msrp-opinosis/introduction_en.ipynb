{
 "cells": [
  {
   "cell_type": "markdown",
   "id": "bf1186c9",
   "metadata": {},
   "source": [
    "# T5-base Parapharasing model fine-tuned on PAWS, MSRP, and Opinosis\n",
    "\n",
    "More details in [ceshine/finetuning-t5 Github repo](https://github.com/ceshine/finetuning-t5/tree/master/paraphrase)\n",
    "> 此模型来源于：[https://huggingface.co/ceshine/t5-paraphrase-paws-msrp-opinosis](https://huggingface.co/https://huggingface.co/ceshine/t5-paraphrase-paws-msrp-opinosis)"
   ]
  }
 ],
 "metadata": {},
 "nbformat": 4,
 "nbformat_minor": 5
}
