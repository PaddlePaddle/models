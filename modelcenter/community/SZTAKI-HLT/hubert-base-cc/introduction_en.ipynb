{
 "cells": [
  {
   "cell_type": "markdown",
   "id": "f2b5185b",
   "metadata": {},
   "source": [
    "# huBERT base model (cased)\n"
   ]
  },
  {
   "cell_type": "markdown",
   "id": "b618f8cc",
   "metadata": {},
   "source": [
    "## Model description\n"
   ]
  },
  {
   "cell_type": "markdown",
   "id": "b763a462",
   "metadata": {},
   "source": [
    "Cased BERT model for Hungarian, trained on the (filtered, deduplicated) Hungarian subset of the Common Crawl and a snapshot of the Hungarian Wikipedia.\n"
   ]
  },
  {
   "cell_type": "markdown",
   "id": "07a17017",
   "metadata": {},
   "source": [
    "## Intended uses & limitations\n"
   ]
  },
  {
   "cell_type": "markdown",
   "id": "a0e9c73a",
   "metadata": {},
   "source": [
    "The model can be used as any other (cased) BERT model. It has been tested on the chunking and\n",
    "named entity recognition tasks and set a new state-of-the-art on the former.\n"
   ]
  },
  {
   "cell_type": "markdown",
   "id": "f4f80d48",
   "metadata": {},
   "source": [
    "## Training\n"
   ]
  },
  {
   "cell_type": "markdown",
   "id": "7efe9ef1",
   "metadata": {},
   "source": [
    "Details of the training data and procedure can be found in the PhD thesis linked below. (With the caveat that it only contains preliminary results\n",
    "based on the Wikipedia subcorpus. Evaluation of the full model will appear in a future paper.)\n"
   ]
  },
  {
   "cell_type": "markdown",
   "id": "657d7679",
   "metadata": {},
   "source": [
    "## Eval results\n"
   ]
  },
  {
   "cell_type": "markdown",
   "id": "a461f27d",
   "metadata": {},
   "source": [
    "When fine-tuned (via `BertForTokenClassification`) on chunking and NER, the model outperforms multilingual BERT, achieves state-of-the-art results on\n",
    "both tasks. The exact scores are\n"
   ]
  },
  {
   "cell_type": "markdown",
   "id": "fc0c8919",
   "metadata": {},
   "source": [
    "| NER | Minimal NP | Maximal NP |\n",
    "|-----|------------|------------|\n",
    "| **97.62%** | **97.14%** | **96.97%** |\n"
   ]
  },
  {
   "cell_type": "markdown",
   "id": "a9497966",
   "metadata": {},
   "source": [
    "### BibTeX entry and citation info\n"
   ]
  },
  {
   "cell_type": "markdown",
   "id": "4be985dc",
   "metadata": {},
   "source": [
    "If you use the model, please cite the following papers:\n"
   ]
  },
  {
   "cell_type": "markdown",
   "id": "0a10ac66",
   "metadata": {},
   "source": [
    "[Nemeskey, Dávid Márk (2020). \"Natural Language Processing Methods for Language Modeling.\" PhD Thesis. Eötvös Loránd University.](https://hlt.bme.hu/en/publ/nemeskey_2020)\n"
   ]
  },
  {
   "cell_type": "markdown",
   "id": "3026a2fb",
   "metadata": {},
   "source": [
    "Bibtex:\n"
   ]
  },
  {
   "cell_type": "code",
   "execution_count": null,
   "id": "0356a3eb",
   "metadata": {},
   "outputs": [],
   "source": [
    "!pip install --upgrade paddlenlp"
   ]
  },
  {
   "cell_type": "code",
   "execution_count": null,
   "id": "d1648359",
   "metadata": {},
   "outputs": [],
   "source": [
    "import paddle\n",
    "from paddlenlp.transformers import AutoModel\n",
    "\n",
    "model = AutoModel.from_pretrained(\"SZTAKI-HLT/hubert-base-cc\")\n",
    "input_ids = paddle.randint(100, 200, shape=[1, 20])\n",
    "print(model(input_ids))"
   ]
  },
  {
   "cell_type": "markdown",
   "id": "87a8a3d1",
   "metadata": {},
   "source": [
    "@InProceedings{ Nemeskey:2021a,\n",
    "author = {Nemeskey, Dávid Márk},\n",
    "title = {Introducing \\texttt{huBERT}},\n",
    "booktitle = {{XVII}.\\ Magyar Sz{\\'a}m{\\'i}t{\\'o}g{\\'e}pes Nyelv{\\'e}szeti Konferencia ({MSZNY}2021)},\n",
    "year = 2021,\n",
    "pages = {TBA},\n",
    "address = {Szeged},\n",
    "}\n"
   ]
  },
  {
   "cell_type": "markdown",
   "id": "f8de2601",
   "metadata": {},
   "source": [
    "> 此模型来源于：[https://huggingface.co/SZTAKI-HLT/hubert-base-cc](https://huggingface.co/https://huggingface.co/SZTAKI-HLT/hubert-base-cc)\n"
   ]
  }
 ],
 "metadata": {},
 "nbformat": 4,
 "nbformat_minor": 5
}
