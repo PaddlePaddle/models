{
 "cells": [
  {
   "cell_type": "markdown",
   "id": "c858ab2e",
   "metadata": {},
   "source": [
    "# huBERT base model (cased)\n",
    "\n",
    "## Model description\n",
    "\n",
    "Cased BERT model for Hungarian, trained on the (filtered, deduplicated) Hungarian subset of the Common Crawl and a snapshot of the Hungarian Wikipedia.\n",
    "\n",
    "## Intended uses & limitations\n",
    "\n",
    "The model can be used as any other (cased) BERT model. It has been tested on the chunking and\n",
    "named entity recognition tasks and set a new state-of-the-art on the former.\n",
    "\n",
    "## Training\n",
    "\n",
    "Details of the training data and procedure can be found in the PhD thesis linked below. (With the caveat that it only contains preliminary results\n",
    "based on the Wikipedia subcorpus. Evaluation of the full model will appear in a future paper.)\n",
    "\n",
    "## Eval results\n",
    "\n",
    "When fine-tuned (via `BertForTokenClassification`) on chunking and NER, the model outperforms multilingual BERT, achieves state-of-the-art results on\n",
    "both tasks. The exact scores are\n",
    "\n",
    "| NER | Minimal NP | Maximal NP |\n",
    "|-----|------------|------------|\n",
    "| **97.62%** | **97.14%** | **96.97%** |\n",
    "\n",
    "### BibTeX entry and citation info\n",
    "\n",
    "If you use the model, please cite the following papers:\n",
    "\n",
    "[Nemeskey, Dávid Márk (2020). \"Natural Language Processing Methods for Language Modeling.\" PhD Thesis. Eötvös Loránd University.](https://hlt.bme.hu/en/publ/nemeskey_2020)\n",
    "\n",
    "Bibtex:\n"
   ]
  },
  {
   "cell_type": "code",
   "execution_count": null,
   "id": "552f3df9",
   "metadata": {},
   "outputs": [],
   "source": [
    "import paddle\n",
    "from paddlenlp.transformers import AutoModel\n",
    "\n",
    "model = AutoModel.from_pretrained(\"SZTAKI-HLT/hubert-base-cc\")\n",
    "input_ids = paddle.randint(100, 200, shape=[1, 20])\n",
    "print(model(input_ids))"
   ]
  },
  {
   "cell_type": "code",
   "execution_count": null,
   "id": "d775c2d5",
   "metadata": {},
   "outputs": [],
   "source": [
    "@InProceedings{ Nemeskey:2021a,\n",
    "author = {Nemeskey, Dávid Márk},\n",
    "title = {Introducing \\texttt{huBERT}},\n",
    "booktitle = {{XVII}.\\ Magyar Sz{\\'a}m{\\'i}t{\\'o}g{\\'e}pes Nyelv{\\'e}szeti Konferencia ({MSZNY}2021)},\n",
    "year = 2021,\n",
    "pages = {TBA},\n",
    "address = {Szeged},\n",
    "}\n"
   ]
  },
  {
   "cell_type": "markdown",
   "id": "bb5cd4f8",
   "metadata": {},
   "source": [
    "> 此模型来源于：[https://huggingface.co/SZTAKI-HLT/hubert-base-cc](https://huggingface.co/https://huggingface.co/SZTAKI-HLT/hubert-base-cc)"
   ]
  }
 ],
 "metadata": {},
 "nbformat": 4,
 "nbformat_minor": 5
}
