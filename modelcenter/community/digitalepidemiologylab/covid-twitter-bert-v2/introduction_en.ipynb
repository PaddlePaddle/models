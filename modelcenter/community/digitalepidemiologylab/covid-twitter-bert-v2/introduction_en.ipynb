{
 "cells": [
  {
   "cell_type": "markdown",
   "id": "d6349570",
   "metadata": {},
   "source": [
    "# COVID-Twitter-BERT v2\n",
    "\n",
    "## Model description\n",
    "\n",
    "BERT-large-uncased model, pretrained on a corpus of messages from Twitter about COVID-19. This model is identical to [covid-twitter-bert](https://huggingface.co/digitalepidemiologylab/covid-twitter-bert) - but trained on more data, resulting in higher downstream performance.\n",
    "\n",
    "Find more info on our [GitHub page](https://github.com/digitalepidemiologylab/covid-twitter-bert).\n",
    "\n",
    "\n",
    "## Intended uses & limitations\n",
    "\n",
    "The model can e.g. be used in the `fill-mask` task (see below). You can also use the model without the MLM/NSP heads and train a classifier with it.\n",
    "\n",
    "#### How to use\n"
   ]
  },
  {
   "cell_type": "code",
   "execution_count": null,
   "id": "ea96f911",
   "metadata": {},
   "outputs": [],
   "source": [
    "import paddle\n",
    "from paddlenlp.transformers import AutoModel\n",
    "\n",
    "model = AutoModel.from_pretrained(\"digitalepidemiologylab/covid-twitter-bert-v2\")\n",
    "input_ids = paddle.randint(100, 200, shape=[1, 20])\n",
    "print(model(input_ids))"
   ]
  },
  {
   "cell_type": "markdown",
   "id": "6e4a154c",
   "metadata": {},
   "source": [
    "> 此模型来源于：[https://huggingface.co/digitalepidemiologylab/covid-twitter-bert-v2](https://huggingface.co/https://huggingface.co/digitalepidemiologylab/covid-twitter-bert-v2)"
   ]
  }
 ],
 "metadata": {},
 "nbformat": 4,
 "nbformat_minor": 5
}
