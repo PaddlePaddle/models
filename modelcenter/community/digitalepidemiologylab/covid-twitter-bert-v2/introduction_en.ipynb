{
 "cells": [
  {
   "cell_type": "markdown",
   "id": "d160df54",
   "metadata": {},
   "source": [
    "# COVID-Twitter-BERT v2\n"
   ]
  },
  {
   "cell_type": "markdown",
   "id": "44b0b3ad",
   "metadata": {},
   "source": [
    "## Model description\n"
   ]
  },
  {
   "cell_type": "markdown",
   "id": "4902047d",
   "metadata": {},
   "source": [
    "BERT-large-uncased model, pretrained on a corpus of messages from Twitter about COVID-19. This model is identical to [covid-twitter-bert](https://huggingface.co/digitalepidemiologylab/covid-twitter-bert) - but trained on more data, resulting in higher downstream performance.\n"
   ]
  },
  {
   "cell_type": "markdown",
   "id": "883a84b5",
   "metadata": {},
   "source": [
    "Find more info on our [GitHub page](https://github.com/digitalepidemiologylab/covid-twitter-bert).\n"
   ]
  },
  {
   "cell_type": "markdown",
   "id": "a6b0d38d",
   "metadata": {},
   "source": [
    "## Intended uses & limitations\n"
   ]
  },
  {
   "cell_type": "markdown",
   "id": "91ec0ccb",
   "metadata": {},
   "source": [
    "The model can e.g. be used in the `fill-mask` task (see below). You can also use the model without the MLM/NSP heads and train a classifier with it.\n"
   ]
  },
  {
   "cell_type": "markdown",
   "id": "62756533",
   "metadata": {},
   "source": [
    "#### How to use\n"
   ]
  },
  {
   "cell_type": "code",
   "execution_count": null,
   "id": "662c73a2",
   "metadata": {},
   "outputs": [],
   "source": [
    "!pip install --upgrade paddlenlp"
   ]
  },
  {
   "cell_type": "code",
   "execution_count": null,
   "id": "cfac55c1",
   "metadata": {},
   "outputs": [],
   "source": [
    "import paddle\n",
    "from paddlenlp.transformers import AutoModel\n",
    "\n",
    "model = AutoModel.from_pretrained(\"digitalepidemiologylab/covid-twitter-bert-v2\")\n",
    "input_ids = paddle.randint(100, 200, shape=[1, 20])\n",
    "print(model(input_ids))"
   ]
  },
  {
   "cell_type": "markdown",
   "id": "1e9266a1",
   "metadata": {},
   "source": [
    "COVID-Twitter-BERT: A Natural Language Processing Model to Analyse COVID-19 Content on Twitter.\n",
    "arXiv preprint arXiv:2005.07503 (2020).\n"
   ]
  },
  {
   "cell_type": "markdown",
   "id": "06cda5e9",
   "metadata": {},
   "source": [
    "> 此模型来源于：[https://huggingface.co/digitalepidemiologylab/covid-twitter-bert-v2](https://huggingface.co/https://huggingface.co/digitalepidemiologylab/covid-twitter-bert-v2)\n"
   ]
  }
 ],
 "metadata": {},
 "nbformat": 4,
 "nbformat_minor": 5
}
