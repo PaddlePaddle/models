{
 "cells": [
  {
   "cell_type": "markdown",
   "id": "497896a7",
   "metadata": {},
   "source": [
    "# Portuguese BERT large cased QA (Question Answering), finetuned on SQUAD v1.1\n"
   ]
  },
  {
   "cell_type": "markdown",
   "id": "c11a1249",
   "metadata": {},
   "source": [
    "![Exemple of what can do the Portuguese BERT large cased QA (Question Answering), finetuned on SQUAD v1.1](https://miro.medium.com/max/5256/1*QxyeAjT2V1OfE2B6nEcs3w.png)\n"
   ]
  },
  {
   "cell_type": "markdown",
   "id": "87579cc4",
   "metadata": {},
   "source": [
    "## Introduction\n"
   ]
  },
  {
   "cell_type": "markdown",
   "id": "2c051229",
   "metadata": {},
   "source": [
    "The model was trained on the dataset SQUAD v1.1 in portuguese from the [Deep Learning Brasil group](http://www.deeplearningbrasil.com.br/).\n"
   ]
  },
  {
   "cell_type": "markdown",
   "id": "25cf262b",
   "metadata": {},
   "source": [
    "The language model used is the [BERTimbau Large](https://huggingface.co/neuralmind/bert-large-portuguese-cased) (aka \"bert-large-portuguese-cased\") from [Neuralmind.ai](https://neuralmind.ai/): BERTimbau is a pretrained BERT model for Brazilian Portuguese that achieves state-of-the-art performances on three downstream NLP tasks: Named Entity Recognition, Sentence Textual Similarity and Recognizing Textual Entailment. It is available in two sizes: Base and Large.\n"
   ]
  },
  {
   "cell_type": "markdown",
   "id": "f202a3ae",
   "metadata": {},
   "source": [
    "## Informations on the method used\n"
   ]
  },
  {
   "cell_type": "markdown",
   "id": "5809af7e",
   "metadata": {},
   "source": [
    "All the informations are in the blog post : [NLP | Como treinar um modelo de Question Answering em qualquer linguagem baseado no BERT large, melhorando o desempenho do modelo utilizando o BERT base? (estudo de caso em português)](https://medium.com/@pierre_guillou/nlp-como-treinar-um-modelo-de-question-answering-em-qualquer-linguagem-baseado-no-bert-large-1c899262dd96)\n"
   ]
  },
  {
   "cell_type": "markdown",
   "id": "0255c52d",
   "metadata": {},
   "source": [
    "## Notebook in GitHub\n"
   ]
  },
  {
   "cell_type": "markdown",
   "id": "19e9bc9e",
   "metadata": {},
   "source": [
    "[question_answering_BERT_large_cased_squad_v11_pt.ipynb](https://github.com/piegu/language-models/blob/master/question_answering_BERT_large_cased_squad_v11_pt.ipynb) ([nbviewer version](https://nbviewer.jupyter.org/github/piegu/language-models/blob/master/question_answering_BERT_large_cased_squad_v11_pt.ipynb))\n"
   ]
  },
  {
   "cell_type": "markdown",
   "id": "6f6c1603",
   "metadata": {},
   "source": [
    "## Performance\n"
   ]
  },
  {
   "cell_type": "markdown",
   "id": "893b5dfe",
   "metadata": {},
   "source": [
    "The results obtained are the following:\n"
   ]
  },
  {
   "cell_type": "code",
   "execution_count": null,
   "id": "d8ca9d82",
   "metadata": {},
   "outputs": [],
   "source": [
    "!pip install --upgrade paddlenlp"
   ]
  },
  {
   "cell_type": "code",
   "execution_count": null,
   "id": "4e2d0031",
   "metadata": {},
   "outputs": [],
   "source": [
    "import paddle\n",
    "from paddlenlp.transformers import AutoModel\n",
    "\n",
    "model = AutoModel.from_pretrained(\"pierreguillou/bert-large-cased-squad-v1.1-portuguese\")\n",
    "input_ids = paddle.randint(100, 200, shape=[1, 20])\n",
    "print(model(input_ids))"
   ]
  },
  {
   "cell_type": "markdown",
   "id": "56260383",
   "metadata": {},
   "source": [
    "@inproceedings{pierreguillou2021bertlargecasedsquadv11portuguese,\n",
    "title={Portuguese BERT large cased QA (Question Answering), finetuned on SQUAD v1.1},\n",
    "author={Pierre Guillou},\n",
    "year={2021}\n",
    "}\n"
   ]
  },
  {
   "cell_type": "markdown",
   "id": "827a9f1c",
   "metadata": {},
   "source": [
    "> 此模型来源于：[https://huggingface.co/pierreguillou/bert-large-cased-squad-v1.1-portuguese](https://huggingface.co/https://huggingface.co/pierreguillou/bert-large-cased-squad-v1.1-portuguese)\n"
   ]
  }
 ],
 "metadata": {},
 "nbformat": 4,
 "nbformat_minor": 5
}
