{
 "cells": [
  {
   "cell_type": "markdown",
   "id": "1a93429b",
   "metadata": {},
   "source": [
    "# LASSL roberta-ko-small\n",
    "## How to use\n"
   ]
  },
  {
   "cell_type": "code",
   "execution_count": null,
   "id": "ac03fe6d",
   "metadata": {},
   "outputs": [],
   "source": [
    "import paddle\n",
    "from paddlenlp.transformers import AutoModel\n",
    "\n",
    "model = AutoModel.from_pretrained(\"lassl/roberta-ko-small\")\n",
    "input_ids = paddle.randint(100, 200, shape=[1, 20])\n",
    "print(model(input_ids))"
   ]
  },
  {
   "cell_type": "markdown",
   "id": "8e384d67",
   "metadata": {},
   "source": [
    "\n",
    "\n",
    "> 此模型来源于：[https://huggingface.co/lassl/roberta-ko-small](https://huggingface.co/https://huggingface.co/lassl/roberta-ko-small)"
   ]
  }
 ],
 "metadata": {},
 "nbformat": 4,
 "nbformat_minor": 5
}
