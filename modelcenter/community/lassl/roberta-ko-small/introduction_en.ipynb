{
 "cells": [
  {
   "cell_type": "markdown",
   "id": "5d213095",
   "metadata": {},
   "source": [
    "# LASSL roberta-ko-small\n",
    "## How to use\n"
   ]
  },
  {
   "cell_type": "code",
   "execution_count": null,
   "id": "800d5320",
   "metadata": {},
   "outputs": [],
   "source": [
    "import paddle\n",
    "from paddlenlp.transformers import AutoModel\n",
    "\n",
    "model = AutoModel.from_pretrained(\"lassl/roberta-ko-small\")\n",
    "input_ids = paddle.randint(100, 200, shape=[1, 20])\n",
    "print(model(input_ids))"
   ]
  },
  {
   "cell_type": "markdown",
   "id": "0e02d050",
   "metadata": {},
   "source": [
    "\n",
    "\n",
    "> 此模型来源于：[https://huggingface.co/lassl/roberta-ko-small](https://huggingface.co/https://huggingface.co/lassl/roberta-ko-small)"
   ]
  }
 ],
 "metadata": {},
 "nbformat": 4,
 "nbformat_minor": 5
}
