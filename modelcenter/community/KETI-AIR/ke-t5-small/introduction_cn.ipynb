{
 "cells": [
  {
   "cell_type": "markdown",
   "id": "415147f7",
   "metadata": {},
   "source": [
    "# ke-t5 base\n",
    "\n",
    "Pretrained T5 Model on Korean and English. See [Github](https://github.com/AIRC-KETI/ke-t5) and [Paper](https://aclanthology.org/2021.findings-emnlp.33/) [Korean paper](https://koreascience.kr/article/CFKO202130060717834.pdf) for more details.\n",
    "\n",
    "## How to use\n"
   ]
  },
  {
   "cell_type": "code",
   "execution_count": null,
   "id": "703d9510",
   "metadata": {},
   "outputs": [],
   "source": [
    "import paddle\n",
    "from paddlenlp.transformers import AutoModel\n",
    "\n",
    "model = AutoModel.from_pretrained(\"KETI-AIR/ke-t5-small\")\n",
    "input_ids = paddle.randint(100, 200, shape=[1, 20])\n",
    "print(model(input_ids))"
   ]
  },
  {
   "cell_type": "markdown",
   "id": "c163f498",
   "metadata": {},
   "source": [
    "> 此模型来源于：[https://huggingface.co/KETI-AIR/ke-t5-small](https://huggingface.co/https://huggingface.co/KETI-AIR/ke-t5-small)"
   ]
  }
 ],
 "metadata": {},
 "nbformat": 4,
 "nbformat_minor": 5
}
