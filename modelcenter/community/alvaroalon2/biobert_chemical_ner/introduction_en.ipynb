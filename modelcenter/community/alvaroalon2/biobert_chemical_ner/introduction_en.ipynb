{
 "cells": [
  {
   "cell_type": "markdown",
   "id": "f769316b",
   "metadata": {},
   "source": [
    "BioBERT model fine-tuned in NER task with BC5CDR-chemicals and BC4CHEMD corpus.\n",
    "\n",
    "This was fine-tuned in order to use it in a BioNER/BioNEN system which is available at: https://github.com/librairy/bio-ner\n",
    "> 此模型来源于：[https://huggingface.co/alvaroalon2/biobert_chemical_ner](https://huggingface.co/alvaroalon2/biobert_chemical_ner)"
   ]
  },
  {
   "cell_type": "markdown",
   "id": "3a77ed26",
   "metadata": {},
   "source": [
    "## How to Use"
   ]
  },
  {
   "cell_type": "code",
   "execution_count": null,
   "id": "202a3ef9",
   "metadata": {},
   "outputs": [],
   "source": [
    "!pip install --upgrade paddlenlp"
   ]
  },
  {
   "cell_type": "code",
   "execution_count": null,
   "id": "fc11d032",
   "metadata": {},
   "outputs": [],
   "source": [
    "import paddle\n",
    "from paddlenlp.transformers import AutoModel\n",
    "\n",
    "model = AutoModel.from_pretrained(\"alvaroalon2/biobert_chemical_ner\")\n",
    "input_ids = paddle.randint(100, 200, shape=[1, 20])\n",
    "print(model(input_ids))"
   ]
  }
 ],
 "metadata": {},
 "nbformat": 4,
 "nbformat_minor": 5
}
