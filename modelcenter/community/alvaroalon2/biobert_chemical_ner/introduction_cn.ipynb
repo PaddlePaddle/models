{
 "cells": [
  {
   "cell_type": "markdown",
   "id": "c3b4d495",
   "metadata": {},
   "source": [
    "BioBERT model fine-tuned in NER task with BC5CDR-chemicals and BC4CHEMD corpus.\n",
    "\n",
    "This was fine-tuned in order to use it in a BioNER/BioNEN system which is available at: https://github.com/librairy/bio-ner\n",
    "> 此模型来源于：[https://huggingface.co/alvaroalon2/biobert_chemical_ner](https://huggingface.co/https://huggingface.co/alvaroalon2/biobert_chemical_ner)"
   ]
  }
 ],
 "metadata": {},
 "nbformat": 4,
 "nbformat_minor": 5
}
