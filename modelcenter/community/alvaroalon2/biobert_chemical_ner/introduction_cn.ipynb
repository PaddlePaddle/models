{
 "cells": [
  {
   "cell_type": "markdown",
   "id": "0b8f2339",
   "metadata": {},
   "source": [
    "BioBERT model fine-tuned in NER task with BC5CDR-chemicals and BC4CHEMD corpus.\n",
    "\n",
    "This was fine-tuned in order to use it in a BioNER/BioNEN system which is available at: https://github.com/librairy/bio-ner\n",
    "> this model is from：[https://huggingface.co/alvaroalon2/biobert_chemical_ner](https://huggingface.co/alvaroalon2/biobert_chemical_ner)"
   ]
  },
  {
   "cell_type": "markdown",
   "id": "934c3f34",
   "metadata": {},
   "source": [
    "## How to Use"
   ]
  },
  {
   "cell_type": "code",
   "execution_count": null,
   "id": "a8516341",
   "metadata": {},
   "outputs": [],
   "source": [
    "!pip install --upgrade paddlenlp"
   ]
  },
  {
   "cell_type": "code",
   "execution_count": null,
   "id": "70114f31",
   "metadata": {},
   "outputs": [],
   "source": [
    "import paddle\n",
    "from paddlenlp.transformers import AutoModel\n",
    "\n",
    "model = AutoModel.from_pretrained(\"alvaroalon2/biobert_chemical_ner\")\n",
    "input_ids = paddle.randint(100, 200, shape=[1, 20])\n",
    "print(model(input_ids))"
   ]
  }
 ],
 "metadata": {},
 "nbformat": 4,
 "nbformat_minor": 5
}
