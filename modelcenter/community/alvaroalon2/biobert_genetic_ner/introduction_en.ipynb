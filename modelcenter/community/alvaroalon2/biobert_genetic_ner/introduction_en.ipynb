{
 "cells": [
  {
   "cell_type": "markdown",
   "id": "eeb5731b",
   "metadata": {},
   "source": [
    "BioBERT model fine-tuned in NER task with JNLPBA and BC2GM corpus for genetic class entities.\n",
    "\n",
    "This was fine-tuned in order to use it in a BioNER/BioNEN system which is available at: https://github.com/librairy/bio-ner\n",
    "> 此模型来源于：[https://huggingface.co/alvaroalon2/biobert_genetic_ner](https://huggingface.co/alvaroalon2/biobert_genetic_ner)"
   ]
  },
  {
   "cell_type": "markdown",
   "id": "3501c0f5",
   "metadata": {},
   "source": [
    "## How to Use"
   ]
  },
  {
   "cell_type": "code",
   "execution_count": null,
   "id": "da1caa55",
   "metadata": {},
   "outputs": [],
   "source": [
    "!pip install --upgrade paddlenlp"
   ]
  },
  {
   "cell_type": "code",
   "execution_count": null,
   "id": "a8a173da",
   "metadata": {},
   "outputs": [],
   "source": [
    "import paddle\n",
    "from paddlenlp.transformers import AutoModel\n",
    "\n",
    "model = AutoModel.from_pretrained(\"alvaroalon2/biobert_genetic_ner\")\n",
    "input_ids = paddle.randint(100, 200, shape=[1, 20])\n",
    "print(model(input_ids))"
   ]
  }
 ],
 "metadata": {},
 "nbformat": 4,
 "nbformat_minor": 5
}
