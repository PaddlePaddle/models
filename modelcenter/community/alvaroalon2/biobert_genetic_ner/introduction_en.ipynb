{
 "cells": [
  {
   "cell_type": "markdown",
   "id": "52ddd010",
   "metadata": {},
   "source": [
    "BioBERT model fine-tuned in NER task with JNLPBA and BC2GM corpus for genetic class entities.\n",
    "\n",
    "This was fine-tuned in order to use it in a BioNER/BioNEN system which is available at: https://github.com/librairy/bio-ner\n",
    "> 此模型来源于：[https://huggingface.co/alvaroalon2/biobert_genetic_ner](https://huggingface.co/https://huggingface.co/alvaroalon2/biobert_genetic_ner)"
   ]
  }
 ],
 "metadata": {},
 "nbformat": 4,
 "nbformat_minor": 5
}
