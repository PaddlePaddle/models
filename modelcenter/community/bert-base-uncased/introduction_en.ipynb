{
 "cells": [
  {
   "cell_type": "markdown",
   "id": "8e4a2cf3",
   "metadata": {},
   "source": [
    "# BERT base model (uncased)\n",
    "\n",
    "Pretrained model on English language using a masked language modeling (MLM) objective. It was introduced in\n",
    "[this paper](https://arxiv.org/abs/1810.04805) and first released in\n",
    "[this repository](https://github.com/google-research/bert). This model is uncased: it does not make a difference\n",
    "between english and English.\n",
    "\n",
    "Disclaimer: The team releasing BERT did not write a model card for this model so this model card has been written by\n",
    "the Hugging Face team.\n",
    "\n",
    "## Model description\n",
    "\n",
    "BERT is a transformers model pretrained on a large corpus of English data in a self-supervised fashion. This means it\n",
    "was pretrained on the raw texts only, with no humans labeling them in any way (which is why it can use lots of\n",
    "publicly available data) with an automatic process to generate inputs and labels from those texts. More precisely, it\n",
    "was pretrained with two objectives:\n",
    "\n",
    "- Masked language modeling (MLM): taking a sentence, the model randomly masks 15% of the words in the input then run\n",
    "the entire masked sentence through the model and has to predict the masked words. This is different from traditional\n",
    "recurrent neural networks (RNNs) that usually see the words one after the other, or from autoregressive models like\n",
    "GPT which internally masks the future tokens. It allows the model to learn a bidirectional representation of the\n",
    "sentence.\n",
    "- Next sentence prediction (NSP): the models concatenates two masked sentences as inputs during pretraining. Sometimes\n",
    "they correspond to sentences that were next to each other in the original text, sometimes not. The model then has to\n",
    "predict if the two sentences were following each other or not.\n",
    "\n",
    "This way, the model learns an inner representation of the English language that can then be used to extract features\n",
    "useful for downstream tasks: if you have a dataset of labeled sentences, for instance, you can train a standard\n",
    "classifier using the features produced by the BERT model as inputs.\n",
    "\n",
    "## Model variations\n",
    "\n",
    "BERT has originally been released in base and large variations, for cased and uncased input text. The uncased models also strips out an accent markers.\n",
    "Chinese and multilingual uncased and cased versions followed shortly after.\n",
    "Modified preprocessing with whole word masking has replaced subpiece masking in a following work, with the release of two models.\n",
    "Other 24 smaller models are released afterward.\n",
    "\n",
    "The detailed release history can be found on the [google-research/bert readme](https://github.com/google-research/bert/blob/master/README.md) on github.\n",
    "\n",
    "| Model | #params | Language |\n",
    "|------------------------|--------------------------------|-------|\n",
    "| [`bert-base-uncased`](https://huggingface.co/bert-base-uncased) | 110M   | English |\n",
    "| [`bert-large-uncased`](https://huggingface.co/bert-large-uncased)              | 340M    | English | sub\n",
    "| [`bert-base-cased`](https://huggingface.co/bert-base-cased)        | 110M    | English |\n",
    "| [`bert-large-cased`](https://huggingface.co/bert-large-cased) | 340M    |  English |\n",
    "| [`bert-base-chinese`](https://huggingface.co/bert-base-chinese) | 110M    | Chinese |\n",
    "| [`bert-base-multilingual-cased`](https://huggingface.co/bert-base-multilingual-cased) | 110M | Multiple |\n",
    "| [`bert-large-uncased-whole-word-masking`](https://huggingface.co/bert-large-uncased-whole-word-masking) | 340M | English |\n",
    "| [`bert-large-cased-whole-word-masking`](https://huggingface.co/bert-large-cased-whole-word-masking) | 340M | English |\n",
    "\n",
    "## Intended uses & limitations\n",
    "\n",
    "You can use the raw model for either masked language modeling or next sentence prediction, but it's mostly intended to\n",
    "be fine-tuned on a downstream task. See the [model hub](https://huggingface.co/models?filter=bert) to look for\n",
    "fine-tuned versions of a task that interests you.\n",
    "\n",
    "Note that this model is primarily aimed at being fine-tuned on tasks that use the whole sentence (potentially masked)\n",
    "to make decisions, such as sequence classification, token classification or question answering. For tasks such as text\n",
    "generation you should look at model like GPT2.\n",
    "\n",
    "### How to use\n",
    "\n",
    "You can use this model directly with a pipeline for masked language modeling:\n"
   ]
  },
  {
   "cell_type": "markdown",
   "id": "99625afc",
   "metadata": {},
   "source": [
    "> you can get more details from [Bert in PaddleNLP](ttps://github.com/PaddlePaddle/PaddleNLP/blob/develop/model_zoo/bert/README.md)。"
   ]
  },
  {
   "cell_type": "code",
   "execution_count": null,
   "id": "c7064673",
   "metadata": {},
   "outputs": [],
   "source": [
    "import paddle\n",
    "from paddlenlp.transformers import AutoModel\n",
    "\n",
    "model = AutoModel.from_pretrained(\"bert-base-uncased\")\n",
    "input_ids = paddle.randint(100, 200, shape=[1, 20])\n",
    "print(model(input_ids))"
   ]
  },
  {
   "cell_type": "markdown",
   "id": "2ffc288a",
   "metadata": {},
   "source": [
    "<a href=\"https://huggingface.co/exbert/?model=bert-base-uncased\">\n",
    "<img width=\"300px\" src=\"https://cdn-media.huggingface.co/exbert/button.png\">\n",
    "</a>\n",
    "> 此模型来源于：[https://huggingface.co/bert-base-uncased](https://huggingface.co/https://huggingface.co/bert-base-uncased)"
   ]
  }
 ],
 "metadata": {
  "language_info": {
   "name": "python"
  }
 },
 "nbformat": 4,
 "nbformat_minor": 5
}
