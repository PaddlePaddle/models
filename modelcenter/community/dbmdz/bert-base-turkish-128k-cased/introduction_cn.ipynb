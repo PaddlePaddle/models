{
 "cells": [
  {
   "cell_type": "markdown",
   "id": "bda1db47",
   "metadata": {},
   "source": [
    "# 🤗 + 📚 dbmdz Turkish BERT model\n"
   ]
  },
  {
   "cell_type": "markdown",
   "id": "ba254a15",
   "metadata": {},
   "source": [
    "In this repository the MDZ Digital Library team (dbmdz) at the Bavarian State\n",
    "Library open sources a cased model for Turkish 🎉\n"
   ]
  },
  {
   "cell_type": "markdown",
   "id": "bf2818ba",
   "metadata": {},
   "source": [
    "# 🇹🇷 BERTurk\n"
   ]
  },
  {
   "cell_type": "markdown",
   "id": "788f7baa",
   "metadata": {},
   "source": [
    "BERTurk is a community-driven cased BERT model for Turkish.\n"
   ]
  },
  {
   "cell_type": "markdown",
   "id": "5e051a7d",
   "metadata": {},
   "source": [
    "Some datasets used for pretraining and evaluation are contributed from the\n",
    "awesome Turkish NLP community, as well as the decision for the model name: BERTurk.\n"
   ]
  },
  {
   "cell_type": "markdown",
   "id": "1edbcf52",
   "metadata": {},
   "source": [
    "## Stats\n"
   ]
  },
  {
   "cell_type": "markdown",
   "id": "5b7c3ff4",
   "metadata": {},
   "source": [
    "The current version of the model is trained on a filtered and sentence\n",
    "segmented version of the Turkish [OSCAR corpus](https://traces1.inria.fr/oscar/),\n",
    "a recent Wikipedia dump, various [OPUS corpora](http://opus.nlpl.eu/) and a\n",
    "special corpus provided by [Kemal Oflazer](http://www.andrew.cmu.edu/user/ko/).\n"
   ]
  },
  {
   "cell_type": "markdown",
   "id": "9413f21a",
   "metadata": {},
   "source": [
    "The final training corpus has a size of 35GB and 44,04,976,662 tokens.\n"
   ]
  },
  {
   "cell_type": "markdown",
   "id": "8e910cf4",
   "metadata": {},
   "source": [
    "Thanks to Google's TensorFlow Research Cloud (TFRC) we could train a cased model\n",
    "on a TPU v3-8 for 2M steps.\n"
   ]
  },
  {
   "cell_type": "markdown",
   "id": "25593952",
   "metadata": {},
   "source": [
    "For this model we use a vocab size of 128k.\n"
   ]
  },
  {
   "cell_type": "markdown",
   "id": "004dcee3",
   "metadata": {},
   "source": [
    "## Model weights\n"
   ]
  },
  {
   "cell_type": "markdown",
   "id": "4caa89ab",
   "metadata": {},
   "source": [
    "Currently only PyTorch-[Transformers](https://github.com/huggingface/transformers)\n",
    "compatible weights are available. If you need access to TensorFlow checkpoints,\n",
    "please raise an issue!\n"
   ]
  },
  {
   "cell_type": "markdown",
   "id": "4b153361",
   "metadata": {},
   "source": [
    "| Model                                | Downloads\n",
    "| ------------------------------------ | ---------------------------------------------------------------------------------------------------------------\n",
    "| `dbmdz/bert-base-turkish-128k-cased` | [`config.json`](https://cdn.huggingface.co/dbmdz/bert-base-turkish-128k-cased/config.json) • [`pytorch_model.bin`](https://cdn.huggingface.co/dbmdz/bert-base-turkish-128k-cased/pytorch_model.bin) • [`vocab.txt`](https://cdn.huggingface.co/dbmdz/bert-base-turkish-128k-cased/vocab.txt)\n"
   ]
  },
  {
   "cell_type": "markdown",
   "id": "962cf00d",
   "metadata": {},
   "source": [
    "## Usage\n"
   ]
  },
  {
   "cell_type": "code",
   "execution_count": null,
   "id": "d4a4e8e3",
   "metadata": {},
   "outputs": [],
   "source": [
    "!pip install --upgrade paddlenlp"
   ]
  },
  {
   "cell_type": "code",
   "execution_count": null,
   "id": "7157d7da",
   "metadata": {},
   "outputs": [],
   "source": [
    "import paddle\n",
    "from paddlenlp.transformers import AutoModel\n",
    "\n",
    "model = AutoModel.from_pretrained(\"dbmdz/bert-base-turkish-128k-cased\")\n",
    "input_ids = paddle.randint(100, 200, shape=[1, 20])\n",
    "print(model(input_ids))"
   ]
  },
  {
   "cell_type": "markdown",
   "id": "e7d38137",
   "metadata": {},
   "source": [
    "## Results\n"
   ]
  },
  {
   "cell_type": "markdown",
   "id": "e5030012",
   "metadata": {},
   "source": [
    "For results on PoS tagging or NER tasks, please refer to\n",
    "[this repository](https://github.com/stefan-it/turkish-bert).\n"
   ]
  },
  {
   "cell_type": "markdown",
   "id": "1ed1c7aa",
   "metadata": {},
   "source": [
    "# Contact (Bugs, Feedback, Contribution and more)\n"
   ]
  },
  {
   "cell_type": "markdown",
   "id": "31ba1b63",
   "metadata": {},
   "source": [
    "For questions about our BERT models just open an issue\n",
    "[here](https://github.com/dbmdz/berts/issues/new) 🤗\n"
   ]
  },
  {
   "cell_type": "markdown",
   "id": "e47155ee",
   "metadata": {},
   "source": [
    "# Acknowledgments\n"
   ]
  },
  {
   "cell_type": "markdown",
   "id": "c22b9ccc",
   "metadata": {},
   "source": [
    "Thanks to [Kemal Oflazer](http://www.andrew.cmu.edu/user/ko/) for providing us\n",
    "additional large corpora for Turkish. Many thanks to Reyyan Yeniterzi for providing\n",
    "us the Turkish NER dataset for evaluation.\n"
   ]
  },
  {
   "cell_type": "markdown",
   "id": "b6c12ad5",
   "metadata": {},
   "source": [
    "Research supported with Cloud TPUs from Google's TensorFlow Research Cloud (TFRC).\n",
    "Thanks for providing access to the TFRC ❤️\n"
   ]
  },
  {
   "cell_type": "markdown",
   "id": "081638b2",
   "metadata": {},
   "source": [
    "Thanks to the generous support from the [Hugging Face](https://huggingface.co/) team,\n",
    "it is possible to download both cased and uncased models from their S3 storage 🤗\n",
    "> 此模型来源于：[https://huggingface.co/dbmdz/bert-base-turkish-128k-cased](https://huggingface.co/dbmdz/bert-base-turkish-128k-cased)\n"
   ]
  }
 ],
 "metadata": {
  "kernelspec": {
   "display_name": "Python 3 (ipykernel)",
   "language": "python",
   "name": "python3"
  },
  "language_info": {
   "codemirror_mode": {
    "name": "ipython",
    "version": 3
   },
   "file_extension": ".py",
   "mimetype": "text/x-python",
   "name": "python",
   "nbconvert_exporter": "python",
   "pygments_lexer": "ipython3",
   "version": "3.8.13"
  }
 },
 "nbformat": 4,
 "nbformat_minor": 5
}
