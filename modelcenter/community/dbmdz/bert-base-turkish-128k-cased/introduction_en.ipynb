{
 "cells": [
  {
   "cell_type": "markdown",
   "id": "058a1073",
   "metadata": {},
   "source": [
    "# 🤗 + 📚 dbmdz Turkish BERT model\n"
   ]
  },
  {
   "cell_type": "markdown",
   "id": "20bb4684",
   "metadata": {},
   "source": [
    "In this repository the MDZ Digital Library team (dbmdz) at the Bavarian State\n",
    "Library open sources a cased model for Turkish 🎉\n"
   ]
  },
  {
   "cell_type": "markdown",
   "id": "a3c38978",
   "metadata": {},
   "source": [
    "# 🇹🇷 BERTurk\n"
   ]
  },
  {
   "cell_type": "markdown",
   "id": "31564599",
   "metadata": {},
   "source": [
    "BERTurk is a community-driven cased BERT model for Turkish.\n"
   ]
  },
  {
   "cell_type": "markdown",
   "id": "503aaaf1",
   "metadata": {},
   "source": [
    "Some datasets used for pretraining and evaluation are contributed from the\n",
    "awesome Turkish NLP community, as well as the decision for the model name: BERTurk.\n"
   ]
  },
  {
   "cell_type": "markdown",
   "id": "8586a841",
   "metadata": {},
   "source": [
    "## Stats\n"
   ]
  },
  {
   "cell_type": "markdown",
   "id": "defbc725",
   "metadata": {},
   "source": [
    "The current version of the model is trained on a filtered and sentence\n",
    "segmented version of the Turkish [OSCAR corpus](https://traces1.inria.fr/oscar/),\n",
    "a recent Wikipedia dump, various [OPUS corpora](http://opus.nlpl.eu/) and a\n",
    "special corpus provided by [Kemal Oflazer](http://www.andrew.cmu.edu/user/ko/).\n"
   ]
  },
  {
   "cell_type": "markdown",
   "id": "feffee36",
   "metadata": {},
   "source": [
    "The final training corpus has a size of 35GB and 44,04,976,662 tokens.\n"
   ]
  },
  {
   "cell_type": "markdown",
   "id": "36a4afd6",
   "metadata": {},
   "source": [
    "Thanks to Google's TensorFlow Research Cloud (TFRC) we could train a cased model\n",
    "on a TPU v3-8 for 2M steps.\n"
   ]
  },
  {
   "cell_type": "markdown",
   "id": "6bb5ab1e",
   "metadata": {},
   "source": [
    "For this model we use a vocab size of 128k.\n"
   ]
  },
  {
   "cell_type": "markdown",
   "id": "a7c09fe6",
   "metadata": {},
   "source": [
    "## Model weights\n"
   ]
  },
  {
   "cell_type": "markdown",
   "id": "ceb57a3b",
   "metadata": {},
   "source": [
    "Currently only PyTorch-[Transformers](https://github.com/huggingface/transformers)\n",
    "compatible weights are available. If you need access to TensorFlow checkpoints,\n",
    "please raise an issue!\n"
   ]
  },
  {
   "cell_type": "markdown",
   "id": "32dc6133",
   "metadata": {},
   "source": [
    "| Model                                | Downloads\n",
    "| ------------------------------------ | ---------------------------------------------------------------------------------------------------------------\n",
    "| `dbmdz/bert-base-turkish-128k-cased` | [`config.json`](https://cdn.huggingface.co/dbmdz/bert-base-turkish-128k-cased/config.json) • [`pytorch_model.bin`](https://cdn.huggingface.co/dbmdz/bert-base-turkish-128k-cased/pytorch_model.bin) • [`vocab.txt`](https://cdn.huggingface.co/dbmdz/bert-base-turkish-128k-cased/vocab.txt)\n"
   ]
  },
  {
   "cell_type": "markdown",
   "id": "59a03507",
   "metadata": {},
   "source": [
    "## Usage\n"
   ]
  },
  {
   "cell_type": "markdown",
   "id": "763169a6",
   "metadata": {},
   "source": [
    "With Transformers >= 2.3 our BERTurk cased model can be loaded like:\n"
   ]
  },
  {
   "cell_type": "code",
   "execution_count": null,
   "id": "b38e345e",
   "metadata": {},
   "outputs": [],
   "source": [
    "!pip install --upgrade paddlenlp"
   ]
  },
  {
   "cell_type": "code",
   "execution_count": null,
   "id": "73475bee",
   "metadata": {},
   "outputs": [],
   "source": [
    "import paddle\n",
    "from paddlenlp.transformers import AutoModel\n",
    "\n",
    "model = AutoModel.from_pretrained(\"dbmdz/bert-base-turkish-128k-cased\")\n",
    "input_ids = paddle.randint(100, 200, shape=[1, 20])\n",
    "print(model(input_ids))"
   ]
  },
  {
   "cell_type": "markdown",
   "id": "10187156",
   "metadata": {},
   "source": [
    "## Results\n"
   ]
  },
  {
   "cell_type": "markdown",
   "id": "30bae92e",
   "metadata": {},
   "source": [
    "For results on PoS tagging or NER tasks, please refer to\n",
    "[this repository](https://github.com/stefan-it/turkish-bert).\n"
   ]
  },
  {
   "cell_type": "markdown",
   "id": "f99a944c",
   "metadata": {},
   "source": [
    "# Huggingface model hub\n"
   ]
  },
  {
   "cell_type": "markdown",
   "id": "e325e311",
   "metadata": {},
   "source": [
    "All models are available on the [Huggingface model hub](https://huggingface.co/dbmdz).\n"
   ]
  },
  {
   "cell_type": "markdown",
   "id": "5c636817",
   "metadata": {},
   "source": [
    "# Contact (Bugs, Feedback, Contribution and more)\n"
   ]
  },
  {
   "cell_type": "markdown",
   "id": "45628d10",
   "metadata": {},
   "source": [
    "For questions about our BERT models just open an issue\n",
    "[here](https://github.com/dbmdz/berts/issues/new) 🤗\n"
   ]
  },
  {
   "cell_type": "markdown",
   "id": "aca4d2a7",
   "metadata": {},
   "source": [
    "# Acknowledgments\n"
   ]
  },
  {
   "cell_type": "markdown",
   "id": "113b6a10",
   "metadata": {},
   "source": [
    "Thanks to [Kemal Oflazer](http://www.andrew.cmu.edu/user/ko/) for providing us\n",
    "additional large corpora for Turkish. Many thanks to Reyyan Yeniterzi for providing\n",
    "us the Turkish NER dataset for evaluation.\n"
   ]
  },
  {
   "cell_type": "markdown",
   "id": "64de0896",
   "metadata": {},
   "source": [
    "Research supported with Cloud TPUs from Google's TensorFlow Research Cloud (TFRC).\n",
    "Thanks for providing access to the TFRC ❤️\n"
   ]
  },
  {
   "cell_type": "markdown",
   "id": "46071b25",
   "metadata": {},
   "source": [
    "Thanks to the generous support from the [Hugging Face](https://huggingface.co/) team,\n",
    "it is possible to download both cased and uncased models from their S3 storage 🤗\n",
    "> 此模型来源于：[https://huggingface.co/dbmdz/bert-base-turkish-128k-cased](https://huggingface.co/https://huggingface.co/dbmdz/bert-base-turkish-128k-cased)\n"
   ]
  }
 ],
 "metadata": {},
 "nbformat": 4,
 "nbformat_minor": 5
}
