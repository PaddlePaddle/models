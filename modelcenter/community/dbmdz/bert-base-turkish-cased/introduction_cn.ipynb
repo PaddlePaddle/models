{
 "cells": [
  {
   "cell_type": "markdown",
   "id": "5292d938",
   "metadata": {},
   "source": [
    "# 🤗 + 📚 dbmdz Turkish BERT model\n"
   ]
  },
  {
   "cell_type": "markdown",
   "id": "ac7e822b",
   "metadata": {},
   "source": [
    "In this repository the MDZ Digital Library team (dbmdz) at the Bavarian State\n",
    "Library open sources a cased model for Turkish 🎉\n"
   ]
  },
  {
   "cell_type": "markdown",
   "id": "484ceb9d",
   "metadata": {},
   "source": [
    "# 🇹🇷 BERTurk\n"
   ]
  },
  {
   "cell_type": "markdown",
   "id": "020c3cdd",
   "metadata": {},
   "source": [
    "BERTurk is a community-driven cased BERT model for Turkish.\n"
   ]
  },
  {
   "cell_type": "markdown",
   "id": "35cf95af",
   "metadata": {},
   "source": [
    "Some datasets used for pretraining and evaluation are contributed from the\n",
    "awesome Turkish NLP community, as well as the decision for the model name: BERTurk.\n"
   ]
  },
  {
   "cell_type": "markdown",
   "id": "c04edb14",
   "metadata": {},
   "source": [
    "## Stats\n"
   ]
  },
  {
   "cell_type": "markdown",
   "id": "40bcfb55",
   "metadata": {},
   "source": [
    "The current version of the model is trained on a filtered and sentence\n",
    "segmented version of the Turkish [OSCAR corpus](https://traces1.inria.fr/oscar/),\n",
    "a recent Wikipedia dump, various [OPUS corpora](http://opus.nlpl.eu/) and a\n",
    "special corpus provided by [Kemal Oflazer](http://www.andrew.cmu.edu/user/ko/).\n"
   ]
  },
  {
   "cell_type": "markdown",
   "id": "5358190d",
   "metadata": {},
   "source": [
    "The final training corpus has a size of 35GB and 44,04,976,662 tokens.\n"
   ]
  },
  {
   "cell_type": "markdown",
   "id": "15caee1e",
   "metadata": {},
   "source": [
    "Thanks to Google's TensorFlow Research Cloud (TFRC) we could train a cased model\n",
    "on a TPU v3-8 for 2M steps.\n"
   ]
  },
  {
   "cell_type": "markdown",
   "id": "a65bd6f2",
   "metadata": {},
   "source": [
    "## Model weights\n"
   ]
  },
  {
   "cell_type": "markdown",
   "id": "9520703e",
   "metadata": {},
   "source": [
    "Currently only PyTorch-[Transformers](https://github.com/huggingface/transformers)\n",
    "compatible weights are available. If you need access to TensorFlow checkpoints,\n",
    "please raise an issue!\n"
   ]
  },
  {
   "cell_type": "markdown",
   "id": "f5c17b04",
   "metadata": {},
   "source": [
    "| Model                             | Downloads\n",
    "| --------------------------------- | ---------------------------------------------------------------------------------------------------------------\n",
    "| `dbmdz/bert-base-turkish-cased`   | [`config.json`](https://cdn.huggingface.co/dbmdz/bert-base-turkish-cased/config.json) • [`pytorch_model.bin`](https://cdn.huggingface.co/dbmdz/bert-base-turkish-cased/pytorch_model.bin) • [`vocab.txt`](https://cdn.huggingface.co/dbmdz/bert-base-turkish-cased/vocab.txt)\n"
   ]
  },
  {
   "cell_type": "markdown",
   "id": "8a1a0cea",
   "metadata": {},
   "source": [
    "## Usage\n"
   ]
  },
  {
   "cell_type": "markdown",
   "id": "512cabc9",
   "metadata": {},
   "source": [
    "With Transformers >= 2.3 our BERTurk cased model can be loaded like:\n"
   ]
  },
  {
   "cell_type": "code",
   "execution_count": null,
   "id": "562ab706",
   "metadata": {},
   "outputs": [],
   "source": [
    "!pip install --upgrade paddlenlp"
   ]
  },
  {
   "cell_type": "code",
   "execution_count": null,
   "id": "e01ca2d1",
   "metadata": {},
   "outputs": [],
   "source": [
    "import paddle\n",
    "from paddlenlp.transformers import AutoModel\n",
    "\n",
    "model = AutoModel.from_pretrained(\"dbmdz/bert-base-turkish-cased\")\n",
    "input_ids = paddle.randint(100, 200, shape=[1, 20])\n",
    "print(model(input_ids))"
   ]
  },
  {
   "cell_type": "markdown",
   "id": "11c9d3d0",
   "metadata": {},
   "source": [
    "## Results\n"
   ]
  },
  {
   "cell_type": "markdown",
   "id": "c753390a",
   "metadata": {},
   "source": [
    "For results on PoS tagging or NER tasks, please refer to\n",
    "[this repository](https://github.com/stefan-it/turkish-bert).\n"
   ]
  },
  {
   "cell_type": "markdown",
   "id": "ca51956c",
   "metadata": {},
   "source": [
    "# Huggingface model hub\n"
   ]
  },
  {
   "cell_type": "markdown",
   "id": "6fdab978",
   "metadata": {},
   "source": [
    "All models are available on the [Huggingface model hub](https://huggingface.co/dbmdz).\n"
   ]
  },
  {
   "cell_type": "markdown",
   "id": "bedfeae8",
   "metadata": {},
   "source": [
    "# Contact (Bugs, Feedback, Contribution and more)\n"
   ]
  },
  {
   "cell_type": "markdown",
   "id": "e08d6f54",
   "metadata": {},
   "source": [
    "For questions about our BERT models just open an issue\n",
    "[here](https://github.com/dbmdz/berts/issues/new) 🤗\n"
   ]
  },
  {
   "cell_type": "markdown",
   "id": "dbc32e07",
   "metadata": {},
   "source": [
    "# Acknowledgments\n"
   ]
  },
  {
   "cell_type": "markdown",
   "id": "7bae3178",
   "metadata": {},
   "source": [
    "Thanks to [Kemal Oflazer](http://www.andrew.cmu.edu/user/ko/) for providing us\n",
    "additional large corpora for Turkish. Many thanks to Reyyan Yeniterzi for providing\n",
    "us the Turkish NER dataset for evaluation.\n"
   ]
  },
  {
   "cell_type": "markdown",
   "id": "3e8f5d33",
   "metadata": {},
   "source": [
    "Research supported with Cloud TPUs from Google's TensorFlow Research Cloud (TFRC).\n",
    "Thanks for providing access to the TFRC ❤️\n"
   ]
  },
  {
   "cell_type": "markdown",
   "id": "9caa57ee",
   "metadata": {},
   "source": [
    "Thanks to the generous support from the [Hugging Face](https://huggingface.co/) team,\n",
    "it is possible to download both cased and uncased models from their S3 storage 🤗\n",
    "> 此模型来源于：[https://huggingface.co/dbmdz/bert-base-turkish-cased](https://huggingface.co/https://huggingface.co/dbmdz/bert-base-turkish-cased)\n"
   ]
  }
 ],
 "metadata": {},
 "nbformat": 4,
 "nbformat_minor": 5
}
