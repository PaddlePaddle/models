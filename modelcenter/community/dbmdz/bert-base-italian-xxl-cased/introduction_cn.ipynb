{
 "cells": [
  {
   "cell_type": "markdown",
   "id": "b26a0fff",
   "metadata": {},
   "source": [
    "# 🤗 + 📚 dbmdz BERT and ELECTRA models\n"
   ]
  },
  {
   "cell_type": "markdown",
   "id": "9f5a14ee",
   "metadata": {},
   "source": [
    "In this repository the MDZ Digital Library team (dbmdz) at the Bavarian State\n",
    "Library open sources Italian BERT and ELECTRA models 🎉\n"
   ]
  },
  {
   "cell_type": "markdown",
   "id": "d8c1fd32",
   "metadata": {},
   "source": [
    "# Italian BERT\n"
   ]
  },
  {
   "cell_type": "markdown",
   "id": "e1741553",
   "metadata": {},
   "source": [
    "The source data for the Italian BERT model consists of a recent Wikipedia dump and\n",
    "various texts from the [OPUS corpora](http://opus.nlpl.eu/) collection. The final\n",
    "training corpus has a size of 13GB and 2,050,057,573 tokens.\n"
   ]
  },
  {
   "cell_type": "markdown",
   "id": "42e7ece2",
   "metadata": {},
   "source": [
    "For sentence splitting, we use NLTK (faster compared to spacy).\n",
    "Our cased and uncased models are training with an initial sequence length of 512\n",
    "subwords for ~2-3M steps.\n"
   ]
  },
  {
   "cell_type": "markdown",
   "id": "01a8ed9c",
   "metadata": {},
   "source": [
    "For the XXL Italian models, we use the same training data from OPUS and extend\n",
    "it with data from the Italian part of the [OSCAR corpus](https://traces1.inria.fr/oscar/).\n",
    "Thus, the final training corpus has a size of 81GB and 13,138,379,147 tokens.\n"
   ]
  },
  {
   "cell_type": "markdown",
   "id": "c04d52de",
   "metadata": {},
   "source": [
    "Note: Unfortunately, a wrong vocab size was used when training the XXL models.\n",
    "This explains the mismatch of the \"real\" vocab size of 31102, compared to the\n",
    "vocab size specified in `config.json`. However, the model is working and all\n",
    "evaluations were done under those circumstances.\n",
    "See [this issue](https://github.com/dbmdz/berts/issues/7) for more information.\n"
   ]
  },
  {
   "cell_type": "markdown",
   "id": "f1eed1b9",
   "metadata": {},
   "source": [
    "The Italian ELECTRA model was trained on the \"XXL\" corpus for 1M steps in total using a batch\n",
    "size of 128. We pretty much following the ELECTRA training procedure as used for\n",
    "[BERTurk](https://github.com/stefan-it/turkish-bert/tree/master/electra).\n"
   ]
  },
  {
   "cell_type": "markdown",
   "id": "aa06f979",
   "metadata": {},
   "source": [
    "## Model weights\n"
   ]
  },
  {
   "cell_type": "markdown",
   "id": "16a95e0d",
   "metadata": {},
   "source": [
    "Currently only PyTorch-[Transformers](https://github.com/huggingface/transformers)\n",
    "compatible weights are available. If you need access to TensorFlow checkpoints,\n",
    "please raise an issue!\n"
   ]
  },
  {
   "cell_type": "markdown",
   "id": "1bd3738a",
   "metadata": {},
   "source": [
    "| Model                                                | Downloads\n",
    "| ---------------------------------------------------- | ---------------------------------------------------------------------------------------------------------------\n",
    "| `dbmdz/bert-base-italian-cased`                      | [`config.json`](https://cdn.huggingface.co/dbmdz/bert-base-italian-cased/config.json)                                               • [`pytorch_model.bin`](https://cdn.huggingface.co/dbmdz/bert-base-italian-cased/pytorch_model.bin)                      • [`vocab.txt`](https://cdn.huggingface.co/dbmdz/bert-base-italian-cased/vocab.txt)\n",
    "| `dbmdz/bert-base-italian-uncased`                    | [`config.json`](https://cdn.huggingface.co/dbmdz/bert-base-italian-uncased/config.json)                                             • [`pytorch_model.bin`](https://cdn.huggingface.co/dbmdz/bert-base-italian-uncased/pytorch_model.bin)                    • [`vocab.txt`](https://cdn.huggingface.co/dbmdz/bert-base-italian-uncased/vocab.txt)\n",
    "| `dbmdz/bert-base-italian-xxl-cased`                  | [`config.json`](https://cdn.huggingface.co/dbmdz/bert-base-italian-xxl-cased/config.json)                                           • [`pytorch_model.bin`](https://cdn.huggingface.co/dbmdz/bert-base-italian-xxl-cased/pytorch_model.bin)                  • [`vocab.txt`](https://cdn.huggingface.co/dbmdz/bert-base-italian-xxl-cased/vocab.txt)\n",
    "| `dbmdz/bert-base-italian-xxl-uncased`                | [`config.json`](https://cdn.huggingface.co/dbmdz/bert-base-italian-xxl-uncased/config.json)                                         • [`pytorch_model.bin`](https://cdn.huggingface.co/dbmdz/bert-base-italian-xxl-uncased/pytorch_model.bin)                • [`vocab.txt`](https://cdn.huggingface.co/dbmdz/bert-base-italian-xxl-uncased/vocab.txt)\n",
    "| `dbmdz/electra-base-italian-xxl-cased-discriminator` | [`config.json`](https://s3.amazonaws.com/models.huggingface.co/bert/dbmdz/electra-base-italian-xxl-cased-discriminator/config.json) • [`pytorch_model.bin`](https://cdn.huggingface.co/dbmdz/electra-base-italian-xxl-cased-discriminator/pytorch_model.bin) • [`vocab.txt`](https://cdn.huggingface.co/dbmdz/electra-base-italian-xxl-cased-discriminator/vocab.txt)\n",
    "| `dbmdz/electra-base-italian-xxl-cased-generator`     | [`config.json`](https://s3.amazonaws.com/models.huggingface.co/bert/dbmdz/electra-base-italian-xxl-cased-generator/config.json)     • [`pytorch_model.bin`](https://cdn.huggingface.co/dbmdz/electra-base-italian-xxl-cased-generator/pytorch_model.bin)     • [`vocab.txt`](https://cdn.huggingface.co/dbmdz/electra-base-italian-xxl-cased-generator/vocab.txt)\n"
   ]
  },
  {
   "cell_type": "markdown",
   "id": "60e5664c",
   "metadata": {},
   "source": [
    "## Results\n"
   ]
  },
  {
   "cell_type": "markdown",
   "id": "52b9f424",
   "metadata": {},
   "source": [
    "For results on downstream tasks like NER or PoS tagging, please refer to\n",
    "[this repository](https://github.com/stefan-it/italian-bertelectra).\n"
   ]
  },
  {
   "cell_type": "markdown",
   "id": "9456ddff",
   "metadata": {},
   "source": [
    "## Usage\n"
   ]
  },
  {
   "cell_type": "markdown",
   "id": "909ed6ca",
   "metadata": {},
   "source": [
    "With Transformers >= 2.3 our Italian BERT models can be loaded like:\n"
   ]
  },
  {
   "cell_type": "code",
   "execution_count": null,
   "id": "4898164a",
   "metadata": {},
   "outputs": [],
   "source": [
    "!pip install --upgrade paddlenlp"
   ]
  },
  {
   "cell_type": "code",
   "execution_count": null,
   "id": "5570e7a1",
   "metadata": {},
   "outputs": [],
   "source": [
    "import paddle\n",
    "from paddlenlp.transformers import AutoModel\n",
    "\n",
    "model = AutoModel.from_pretrained(\"dbmdz/bert-base-italian-xxl-cased\")\n",
    "input_ids = paddle.randint(100, 200, shape=[1, 20])\n",
    "print(model(input_ids))"
   ]
  },
  {
   "cell_type": "markdown",
   "id": "2989140a",
   "metadata": {},
   "source": [
    "from transformers import AutoModel, AutoTokenizer\n"
   ]
  },
  {
   "cell_type": "markdown",
   "id": "014d4468",
   "metadata": {},
   "source": [
    "model_name = \"dbmdz/electra-base-italian-xxl-cased-discriminator\"\n"
   ]
  },
  {
   "cell_type": "markdown",
   "id": "69118eee",
   "metadata": {},
   "source": [
    "tokenizer = AutoTokenizer.from_pretrained(model_name)\n"
   ]
  },
  {
   "cell_type": "markdown",
   "id": "fbcb673b",
   "metadata": {},
   "source": [
    "model = AutoModelWithLMHead.from_pretrained(model_name)\n"
   ]
  },
  {
   "cell_type": "markdown",
   "id": "0d4d76a6",
   "metadata": {},
   "source": [
    "# Huggingface model hub\n"
   ]
  },
  {
   "cell_type": "markdown",
   "id": "7b0e8c18",
   "metadata": {},
   "source": [
    "All models are available on the [Huggingface model hub](https://huggingface.co/dbmdz).\n"
   ]
  },
  {
   "cell_type": "markdown",
   "id": "b5189378",
   "metadata": {},
   "source": [
    "# Contact (Bugs, Feedback, Contribution and more)\n"
   ]
  },
  {
   "cell_type": "markdown",
   "id": "a03abdfe",
   "metadata": {},
   "source": [
    "For questions about our BERT/ELECTRA models just open an issue\n",
    "[here](https://github.com/dbmdz/berts/issues/new) 🤗\n"
   ]
  },
  {
   "cell_type": "markdown",
   "id": "4bfc33b8",
   "metadata": {},
   "source": [
    "# Acknowledgments\n"
   ]
  },
  {
   "cell_type": "markdown",
   "id": "24fd4ce1",
   "metadata": {},
   "source": [
    "Research supported with Cloud TPUs from Google's TensorFlow Research Cloud (TFRC).\n",
    "Thanks for providing access to the TFRC ❤️\n"
   ]
  },
  {
   "cell_type": "markdown",
   "id": "7d455be0",
   "metadata": {},
   "source": [
    "Thanks to the generous support from the [Hugging Face](https://huggingface.co/) team,\n",
    "it is possible to download both cased and uncased models from their S3 storage 🤗\n",
    "> 此模型来源于：[https://huggingface.co/dbmdz/bert-base-italian-xxl-cased](https://huggingface.co/https://huggingface.co/dbmdz/bert-base-italian-xxl-cased)\n"
   ]
  }
 ],
 "metadata": {},
 "nbformat": 4,
 "nbformat_minor": 5
}
