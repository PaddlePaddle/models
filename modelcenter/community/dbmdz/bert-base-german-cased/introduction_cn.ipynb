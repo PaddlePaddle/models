{
 "cells": [
  {
   "cell_type": "code",
   "execution_count": null,
   "id": "50c89cd3",
   "metadata": {},
   "outputs": [],
   "source": [
    "!pip install --upgrade paddlenlp"
   ]
  },
  {
   "cell_type": "code",
   "execution_count": null,
   "id": "56576f9b",
   "metadata": {},
   "outputs": [],
   "source": [
    "import paddle\n",
    "from paddlenlp.transformers import AutoModel\n",
    "\n",
    "model = AutoModel.from_pretrained(\"dbmdz/bert-base-german-cased\")\n",
    "input_ids = paddle.randint(100, 200, shape=[1, 20])\n",
    "print(model(input_ids))"
   ]
  },
  {
   "cell_type": "markdown",
   "id": "11e8e182",
   "metadata": {},
   "source": [
    "## Results\n"
   ]
  },
  {
   "cell_type": "markdown",
   "id": "03a38c25",
   "metadata": {},
   "source": [
    "For results on downstream tasks like NER or PoS tagging, please refer to\n",
    "[this repository](https://github.com/stefan-it/fine-tuned-berts-seq).\n"
   ]
  },
  {
   "cell_type": "markdown",
   "id": "76dd5d59",
   "metadata": {},
   "source": [
    "# Huggingface model hub\n"
   ]
  },
  {
   "cell_type": "markdown",
   "id": "135bd2f9",
   "metadata": {},
   "source": [
    "All models are available on the [Huggingface model hub](https://huggingface.co/dbmdz).\n"
   ]
  },
  {
   "cell_type": "markdown",
   "id": "5237c24a",
   "metadata": {},
   "source": [
    "# Contact (Bugs, Feedback, Contribution and more)\n"
   ]
  },
  {
   "cell_type": "markdown",
   "id": "b0a55315",
   "metadata": {},
   "source": [
    "For questions about our BERT models just open an issue\n",
    "[here](https://github.com/dbmdz/berts/issues/new) 🤗\n"
   ]
  },
  {
   "cell_type": "markdown",
   "id": "343e16be",
   "metadata": {},
   "source": [
    "# Acknowledgments\n"
   ]
  },
  {
   "cell_type": "markdown",
   "id": "02fa6900",
   "metadata": {},
   "source": [
    "Research supported with Cloud TPUs from Google's TensorFlow Research Cloud (TFRC).\n",
    "Thanks for providing access to the TFRC ❤️\n"
   ]
  },
  {
   "cell_type": "markdown",
   "id": "5acfdd3e",
   "metadata": {},
   "source": [
    "Thanks to the generous support from the [Hugging Face](https://huggingface.co/) team,\n",
    "it is possible to download both cased and uncased models from their S3 storage 🤗\n",
    "> 此模型来源于：[https://huggingface.co/dbmdz/bert-base-german-cased](https://huggingface.co/https://huggingface.co/dbmdz/bert-base-german-cased)\n"
   ]
  }
 ],
 "metadata": {},
 "nbformat": 4,
 "nbformat_minor": 5
}
