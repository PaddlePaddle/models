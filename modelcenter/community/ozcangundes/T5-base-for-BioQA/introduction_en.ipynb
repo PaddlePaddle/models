{
 "cells": [
  {
   "cell_type": "markdown",
   "id": "916b51cb",
   "metadata": {},
   "source": [
    "# T5-base model fine-tuned on BioASQ for Biological Question Answering 👩‍⚕️👨‍⚕️\n",
    "[Google's T5-base](https://huggingface.co/t5-base) fine-tuned on [BioASQ](https://github.com/dmis-lab/biobert) (secondary task) for **Q&A** downstream task.\n",
    "\n",
    "## Details of T5\n",
    "[Google's T5](https://ai.googleblog.com/2020/02/exploring-transfer-learning-with-t5.html)\n",
    "\n",
    "Pretraining Dataset: [C4](https://huggingface.co/datasets/c4)\n",
    "\n",
    "Paper: [Exploring the Limits of Transfer Learning with a Unified Text-to-Text Transformer](https://arxiv.org/pdf/1910.10683.pdf)\n",
    "\n",
    "Authors: *Colin Raffel, Noam Shazeer, Adam Roberts, Katherine Lee, Sharan Narang, Michael Matena, Yanqi Zhou, Wei Li, Peter J. Liu*\n",
    "\n",
    "## Dependencies\n",
    "\n",
    "transformers == 4.3.3\n",
    "\n",
    "sentencepiece >= 0.1.94\n",
    "\n",
    "## Usage 🚀\n"
   ]
  },
  {
   "cell_type": "code",
   "execution_count": null,
   "id": "87bd98df",
   "metadata": {},
   "outputs": [],
   "source": [
    "import paddle\n",
    "from paddlenlp.transformers import AutoModel\n",
    "\n",
    "model = AutoModel.from_pretrained(\"ozcangundes/T5-base-for-BioQA\")\n",
    "input_ids = paddle.randint(100, 200, shape=[1, 20])\n",
    "print(model(input_ids))"
   ]
  },
  {
   "cell_type": "markdown",
   "id": "1477e11a",
   "metadata": {},
   "source": [
    "> dermatitis herpetiformis\n",
    "\n",
    "Created by Özcan Gündeş ✌️\n",
    "\n",
    "Twitter: <a href=\"https://twitter.com/ozcangundes\" target=\"blank\"><img align=\"center\" src=\"https://cdn.jsdelivr.net/npm/simple-icons@3.0.1/icons/twitter.svg\" alt=\"ozcangundes\" height=\"30\" width=\"30\" /></a>\n",
    "Linkedin: <a href=\"https://www.linkedin.com/in/%C3%B6zcan-g%C3%BCnde%C5%9F-7693055b/\" target=\"blank\"><img align=\"center\" src=\"https://cdn.jsdelivr.net/npm/simple-icons@3.0.1/icons/linkedin.svg\" alt=\"13198517\" height=\"30\" width=\"30\" /></a>\n",
    "Medium: <a href=\"https://medium.com/@ozcangundes\" target=\"blank\"><img align=\"center\" src=\"https://cdn.jsdelivr.net/npm/simple-icons@3.0.1/icons/medium.svg\" alt=\"@ozcangundes\" height=\"30\" width=\"30\" /></a>\n",
    "Github: <a href=\"https://github.com/ozcangundes\" target=\"blank\"><img align=\"center\" src=\"https://cdn.jsdelivr.net/npm/simple-icons@3.0.1/icons/github.svg\" alt=\"@ozcangundes\" height=\"30\" width=\"30\" /></a>\n",
    "> 此模型来源于：[https://huggingface.co/ozcangundes/T5-base-for-BioQA](https://huggingface.co/https://huggingface.co/ozcangundes/T5-base-for-BioQA)"
   ]
  }
 ],
 "metadata": {},
 "nbformat": 4,
 "nbformat_minor": 5
}
