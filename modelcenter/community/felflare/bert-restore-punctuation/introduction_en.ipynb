{
 "cells": [
  {
   "cell_type": "markdown",
   "id": "fec50dd0",
   "metadata": {},
   "source": [
    "# ✨ bert-restore-punctuation\n",
    "[![forthebadge](https://forthebadge.com/images/badges/gluten-free.svg)]()\n"
   ]
  },
  {
   "cell_type": "markdown",
   "id": "46c08a82",
   "metadata": {},
   "source": [
    "This a bert-base-uncased model finetuned for punctuation restoration on [Yelp Reviews](https://www.tensorflow.org/datasets/catalog/yelp_polarity_reviews).\n"
   ]
  },
  {
   "cell_type": "markdown",
   "id": "d15ec28d",
   "metadata": {},
   "source": [
    "The model predicts the punctuation and upper-casing of plain, lower-cased text. An example use case can be ASR output. Or other cases when text has lost punctuation.\n"
   ]
  },
  {
   "cell_type": "markdown",
   "id": "451d8ee9",
   "metadata": {},
   "source": [
    "This model is intended for direct use as a punctuation restoration model for the general English language. Alternatively, you can use this for further fine-tuning on domain-specific texts for punctuation restoration tasks.\n"
   ]
  },
  {
   "cell_type": "markdown",
   "id": "268c50a5",
   "metadata": {},
   "source": [
    "Model restores the following punctuations -- **[! ? . , - : ; ' ]**\n"
   ]
  },
  {
   "cell_type": "markdown",
   "id": "176ffa48",
   "metadata": {},
   "source": [
    "The model also restores the upper-casing of words.\n"
   ]
  },
  {
   "cell_type": "markdown",
   "id": "a2cda42a",
   "metadata": {},
   "source": [
    "-----------------------------------------------\n",
    "## 🚋 Usage\n",
    "**Below is a quick way to get up and running with the model.**\n",
    "1. First, install the package.\n"
   ]
  },
  {
   "cell_type": "code",
   "execution_count": null,
   "id": "bc072d79",
   "metadata": {},
   "outputs": [],
   "source": [
    "!pip install --upgrade paddlenlp"
   ]
  },
  {
   "cell_type": "code",
   "execution_count": null,
   "id": "ce84160f",
   "metadata": {},
   "outputs": [],
   "source": [
    "import paddle\n",
    "from paddlenlp.transformers import AutoModel\n",
    "\n",
    "model = AutoModel.from_pretrained(\"felflare/bert-restore-punctuation\")\n",
    "input_ids = paddle.randint(100, 200, shape=[1, 20])\n",
    "print(model(input_ids))"
   ]
  },
  {
   "cell_type": "markdown",
   "id": "49f30532",
   "metadata": {},
   "source": [
    "**This model works on arbitrarily large text in English language and uses GPU if available.**\n"
   ]
  },
  {
   "cell_type": "markdown",
   "id": "d8c1f91f",
   "metadata": {},
   "source": [
    "-----------------------------------------------\n",
    "## 📡 Training data\n"
   ]
  },
  {
   "cell_type": "markdown",
   "id": "b59a38c8",
   "metadata": {},
   "source": [
    "Here is the number of product reviews we used for finetuning the model:\n"
   ]
  },
  {
   "cell_type": "markdown",
   "id": "67ce24a8",
   "metadata": {},
   "source": [
    "| Language | Number of text samples|\n",
    "| -------- | ----------------- |\n",
    "| English  | 560,000           |\n"
   ]
  },
  {
   "cell_type": "markdown",
   "id": "2b4dc452",
   "metadata": {},
   "source": [
    "We found the best convergence around _**3 epochs**_, which is what presented here and available via a download.\n"
   ]
  },
  {
   "cell_type": "markdown",
   "id": "71172934",
   "metadata": {},
   "source": [
    "-----------------------------------------------\n",
    "## 🎯 Accuracy\n",
    "The fine-tuned model obtained the following accuracy on 45,990 held-out text samples:\n"
   ]
  },
  {
   "cell_type": "markdown",
   "id": "763750d6",
   "metadata": {},
   "source": [
    "| Accuracy | Overall F1 | Eval Support |\n",
    "| -------- | ---------------------- | ------------------- |\n",
    "| 91%  | 90%                 | 45,990\n"
   ]
  },
  {
   "cell_type": "markdown",
   "id": "ee33df27",
   "metadata": {},
   "source": [
    "Below is a breakdown of the performance of the model by each label:\n"
   ]
  },
  {
   "cell_type": "markdown",
   "id": "72136d5d",
   "metadata": {},
   "source": [
    "|  label    |   precision  |  recall | f1-score  | support|\n",
    "| --------- | -------------|-------- | ----------|--------|\n",
    "|     **!**    |   0.45       | 0.17    |  0.24     |  424\n",
    "|     **!+Upper**    |   0.43       | 0.34    |  0.38     |   98\n",
    "|     **'**    |   0.60       | 0.27    |  0.37     |   11\n",
    "|    **,**    |   0.59       | 0.51    |  0.55     | 1522\n",
    "|     **,+Upper**    |   0.52       | 0.50    |  0.51     |  239\n",
    "|     **-**    |   0.00       | 0.00    |  0.00     |   18\n",
    "|     **.**    |   0.69       | 0.84    |  0.75     | 2488\n",
    "|     **.+Upper**    |   0.65       | 0.52    |  0.57     |  274\n",
    "|     **:**    |   0.52       | 0.31    |  0.39     |   39\n",
    "|     **:+Upper**    |   0.36       | 0.62    |  0.45     |   16\n",
    "|     **;**    |   0.00       | 0.00    |  0.00     |   17\n",
    "|     **?**    |   0.54       | 0.48    |  0.51     |   46\n",
    "|     **?+Upper**    |   0.40       | 0.50    |  0.44     |    4\n",
    "|     **none**    |   0.96       | 0.96    |  0.96     |35352\n",
    "|     **Upper**    |   0.84       | 0.82    |  0.83     | 5442\n"
   ]
  },
  {
   "cell_type": "markdown",
   "id": "4cd026cc",
   "metadata": {},
   "source": [
    "-----------------------------------------------\n",
    "## ☕ Contact\n",
    "Contact [Daulet Nurmanbetov](daulet.nurmanbetov@gmail.com) for questions, feedback and/or requests for similar models.\n"
   ]
  },
  {
   "cell_type": "markdown",
   "id": "8e5bb645",
   "metadata": {},
   "source": [
    "-----------------------------------------------\n",
    "> 此模型来源于：[https://huggingface.co/felflare/bert-restore-punctuation](https://huggingface.co/https://huggingface.co/felflare/bert-restore-punctuation)\n"
   ]
  }
 ],
 "metadata": {},
 "nbformat": 4,
 "nbformat_minor": 5
}
