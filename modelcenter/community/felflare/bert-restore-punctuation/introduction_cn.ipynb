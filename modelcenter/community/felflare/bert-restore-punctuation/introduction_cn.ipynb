{
 "cells": [
  {
   "cell_type": "markdown",
   "id": "d2f10854",
   "metadata": {},
   "source": [
    "# ✨ bert-restore-punctuation\n",
    "[![forthebadge](https://forthebadge.com/images/badges/gluten-free.svg)]()\n"
   ]
  },
  {
   "cell_type": "markdown",
   "id": "64583e84",
   "metadata": {},
   "source": [
    "This a bert-base-uncased model finetuned for punctuation restoration on [Yelp Reviews](https://www.tensorflow.org/datasets/catalog/yelp_polarity_reviews).\n"
   ]
  },
  {
   "cell_type": "markdown",
   "id": "bc9b95a5",
   "metadata": {},
   "source": [
    "The model predicts the punctuation and upper-casing of plain, lower-cased text. An example use case can be ASR output. Or other cases when text has lost punctuation.\n"
   ]
  },
  {
   "cell_type": "markdown",
   "id": "3bfdaeab",
   "metadata": {},
   "source": [
    "This model is intended for direct use as a punctuation restoration model for the general English language. Alternatively, you can use this for further fine-tuning on domain-specific texts for punctuation restoration tasks.\n"
   ]
  },
  {
   "cell_type": "markdown",
   "id": "9f32f7be",
   "metadata": {},
   "source": [
    "Model restores the following punctuations -- **[! ? . , - : ; ' ]**\n"
   ]
  },
  {
   "cell_type": "markdown",
   "id": "d38ca248",
   "metadata": {},
   "source": [
    "The model also restores the upper-casing of words.\n"
   ]
  },
  {
   "cell_type": "markdown",
   "id": "6961748c",
   "metadata": {},
   "source": [
    "-----------------------------------------------\n",
    "## 🚋 Usage\n",
    "**Below is a quick way to get up and running with the model.**\n",
    "1. First, install the package.\n"
   ]
  },
  {
   "cell_type": "code",
   "execution_count": null,
   "id": "5ce1fcea",
   "metadata": {},
   "outputs": [],
   "source": [
    "!pip install --upgrade paddlenlp"
   ]
  },
  {
   "cell_type": "code",
   "execution_count": null,
   "id": "95fce499",
   "metadata": {},
   "outputs": [],
   "source": [
    "import paddle\n",
    "from paddlenlp.transformers import AutoModel\n",
    "\n",
    "model = AutoModel.from_pretrained(\"felflare/bert-restore-punctuation\")\n",
    "input_ids = paddle.randint(100, 200, shape=[1, 20])\n",
    "print(model(input_ids))"
   ]
  },
  {
   "cell_type": "markdown",
   "id": "0175e6d6",
   "metadata": {},
   "source": [
    "**This model works on arbitrarily large text in English language and uses GPU if available.**\n"
   ]
  },
  {
   "cell_type": "markdown",
   "id": "66f0c973",
   "metadata": {},
   "source": [
    "-----------------------------------------------\n",
    "## 📡 Training data\n"
   ]
  },
  {
   "cell_type": "markdown",
   "id": "e1f5c3b6",
   "metadata": {},
   "source": [
    "Here is the number of product reviews we used for finetuning the model:\n"
   ]
  },
  {
   "cell_type": "markdown",
   "id": "050e5239",
   "metadata": {},
   "source": [
    "| Language | Number of text samples|\n",
    "| -------- | ----------------- |\n",
    "| English  | 560,000           |\n"
   ]
  },
  {
   "cell_type": "markdown",
   "id": "ff02a7b4",
   "metadata": {},
   "source": [
    "We found the best convergence around _**3 epochs**_, which is what presented here and available via a download.\n"
   ]
  },
  {
   "cell_type": "markdown",
   "id": "5e59eb4f",
   "metadata": {},
   "source": [
    "-----------------------------------------------\n",
    "## 🎯 Accuracy\n",
    "The fine-tuned model obtained the following accuracy on 45,990 held-out text samples:\n"
   ]
  },
  {
   "cell_type": "markdown",
   "id": "a56ffb2b",
   "metadata": {},
   "source": [
    "| Accuracy | Overall F1 | Eval Support |\n",
    "| -------- | ---------------------- | ------------------- |\n",
    "| 91%  | 90%                 | 45,990\n"
   ]
  },
  {
   "cell_type": "markdown",
   "id": "34e412e3",
   "metadata": {},
   "source": [
    "Below is a breakdown of the performance of the model by each label:\n"
   ]
  },
  {
   "cell_type": "markdown",
   "id": "6aeb28f4",
   "metadata": {},
   "source": [
    "|  label    |   precision  |  recall | f1-score  | support|\n",
    "| --------- | -------------|-------- | ----------|--------|\n",
    "|     **!**    |   0.45       | 0.17    |  0.24     |  424\n",
    "|     **!+Upper**    |   0.43       | 0.34    |  0.38     |   98\n",
    "|     **'**    |   0.60       | 0.27    |  0.37     |   11\n",
    "|    **,**    |   0.59       | 0.51    |  0.55     | 1522\n",
    "|     **,+Upper**    |   0.52       | 0.50    |  0.51     |  239\n",
    "|     **-**    |   0.00       | 0.00    |  0.00     |   18\n",
    "|     **.**    |   0.69       | 0.84    |  0.75     | 2488\n",
    "|     **.+Upper**    |   0.65       | 0.52    |  0.57     |  274\n",
    "|     **:**    |   0.52       | 0.31    |  0.39     |   39\n",
    "|     **:+Upper**    |   0.36       | 0.62    |  0.45     |   16\n",
    "|     **;**    |   0.00       | 0.00    |  0.00     |   17\n",
    "|     **?**    |   0.54       | 0.48    |  0.51     |   46\n",
    "|     **?+Upper**    |   0.40       | 0.50    |  0.44     |    4\n",
    "|     **none**    |   0.96       | 0.96    |  0.96     |35352\n",
    "|     **Upper**    |   0.84       | 0.82    |  0.83     | 5442\n"
   ]
  },
  {
   "cell_type": "markdown",
   "id": "8d1d0db1",
   "metadata": {},
   "source": [
    "-----------------------------------------------\n",
    "## ☕ Contact\n",
    "Contact [Daulet Nurmanbetov](daulet.nurmanbetov@gmail.com) for questions, feedback and/or requests for similar models.\n"
   ]
  },
  {
   "cell_type": "markdown",
   "id": "9dc2022b",
   "metadata": {},
   "source": [
    "-----------------------------------------------\n",
    "> 此模型来源于：[https://huggingface.co/felflare/bert-restore-punctuation](https://huggingface.co/https://huggingface.co/felflare/bert-restore-punctuation)\n"
   ]
  }
 ],
 "metadata": {},
 "nbformat": 4,
 "nbformat_minor": 5
}
