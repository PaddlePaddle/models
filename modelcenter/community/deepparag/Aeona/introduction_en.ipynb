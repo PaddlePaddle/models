{
 "cells": [
  {
   "cell_type": "markdown",
   "id": "f8079990",
   "metadata": {},
   "source": [
    "# Aeona | Chatbot\n"
   ]
  },
  {
   "cell_type": "markdown",
   "id": "6a69f81a",
   "metadata": {},
   "source": [
    "An generative AI made using [microsoft/DialoGPT-small](https://huggingface.co/microsoft/DialoGPT-small).\n"
   ]
  },
  {
   "cell_type": "markdown",
   "id": "a65479b8",
   "metadata": {},
   "source": [
    "Recommended to use along with an [AIML Chatbot](https://github.com/deepsarda/Aeona-Aiml) to reduce load, get better replies, add name and personality to your bot.\n",
    "Using an AIML Chatbot will allow you to hardcode some replies also.\n"
   ]
  },
  {
   "cell_type": "markdown",
   "id": "ea390590",
   "metadata": {},
   "source": [
    "## Evaluation\n",
    "Below is a comparison of Aeona vs. other baselines on the mixed dataset given above using automatic evaluation metrics.\n"
   ]
  },
  {
   "cell_type": "markdown",
   "id": "5b64325a",
   "metadata": {},
   "source": [
    "| Model | Perplexity |\n",
    "|---|---|\n",
    "| Seq2seq Baseline [3] | 29.8 |\n",
    "| Wolf et al. [5] | 16.3 |\n",
    "| GPT-2 baseline | 99.5 |\n",
    "| DialoGPT baseline | 56.6 |\n",
    "| DialoGPT finetuned | 11.4 |\n",
    "| PersonaGPT | 10.2 |\n",
    "| **Aeona** | **7.9** |\n"
   ]
  },
  {
   "cell_type": "markdown",
   "id": "bf7f0d0e",
   "metadata": {},
   "source": [
    "## Usage\n"
   ]
  },
  {
   "cell_type": "code",
   "execution_count": null,
   "id": "16b58290",
   "metadata": {},
   "outputs": [],
   "source": [
    "!pip install --upgrade paddlenlp"
   ]
  },
  {
   "cell_type": "code",
   "execution_count": null,
   "id": "cf18c96e",
   "metadata": {},
   "outputs": [],
   "source": [
    "import paddle\n",
    "from paddlenlp.transformers import AutoModel\n",
    "\n",
    "model = AutoModel.from_pretrained(\"deepparag/Aeona\")\n",
    "input_ids = paddle.randint(100, 200, shape=[1, 20])\n",
    "print(model(input_ids))"
   ]
  },
  {
   "cell_type": "markdown",
   "id": "fae16f6e",
   "metadata": {},
   "source": [
    "> The model introduction and model weights originate from [https://huggingface.co/deepparag/Aeona](https://huggingface.co/deepparag/Aeona) and were converted to PaddlePaddle format for ease of use in PaddleNLP.\n"
   ]
  }
 ],
 "metadata": {
  "kernelspec": {
   "display_name": "Python 3 (ipykernel)",
   "language": "python",
   "name": "python3"
  },
  "language_info": {
   "codemirror_mode": {
    "name": "ipython",
    "version": 3
   },
   "file_extension": ".py",
   "mimetype": "text/x-python",
   "name": "python",
   "nbconvert_exporter": "python",
   "pygments_lexer": "ipython3",
   "version": "3.7.13"
  }
 },
 "nbformat": 4,
 "nbformat_minor": 5
}
