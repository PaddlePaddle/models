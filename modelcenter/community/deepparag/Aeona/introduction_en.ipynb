{
 "cells": [
  {
   "cell_type": "markdown",
   "id": "f8079990",
   "metadata": {},
   "source": [
    "# Aeona | Chatbot\n"
   ]
  },
  {
   "cell_type": "markdown",
   "id": "6a69f81a",
   "metadata": {},
   "source": [
    "An generative AI made using [microsoft/DialoGPT-small](https://huggingface.co/microsoft/DialoGPT-small).\n"
   ]
  },
  {
   "cell_type": "markdown",
   "id": "a65479b8",
   "metadata": {},
   "source": [
    "Recommended to use along with an [AIML Chatbot](https://github.com/deepsarda/Aeona-Aiml) to reduce load, get better replies, add name and personality to your bot.\n",
    "Using an AIML Chatbot will allow you to hardcode some replies also.\n"
   ]
  },
  {
   "cell_type": "markdown",
   "id": "8f810ac0",
   "metadata": {},
   "source": [
    "# AEONA\n",
    "Aeona is an chatbot which hope's to be able to talk with humans as if its an friend!\n",
    "It's main target platform is discord.\n",
    "You can invite the bot [here](https://aeona.xyz).\n"
   ]
  },
  {
   "cell_type": "markdown",
   "id": "c797b4ec",
   "metadata": {},
   "source": [
    "To learn more about this project and chat with the ai, you can use this [website](https://aeona.xyx/).\n"
   ]
  },
  {
   "cell_type": "markdown",
   "id": "bc493e6f",
   "metadata": {},
   "source": [
    "Aeona works why using context of the previous messages and guessing the personality of the human who is talking with it and adapting its own personality to better talk with the user.\n"
   ]
  },
  {
   "cell_type": "markdown",
   "id": "c57da733",
   "metadata": {},
   "source": [
    "# Participate and Help the AI improve or just hang out at [hugging face discussions](https://huggingface.co/deepparag/Aeona/discussions)\n"
   ]
  },
  {
   "cell_type": "markdown",
   "id": "999ce2f4",
   "metadata": {},
   "source": [
    "## Goals\n",
    "The goal is to create an AI which will work with AIML in order to create the most human like AI.\n"
   ]
  },
  {
   "cell_type": "markdown",
   "id": "e3ec4fa6",
   "metadata": {},
   "source": [
    "#### Why not an AI on its own?\n",
    "For AI it is not possible (realistically) to learn about the user and store data on them, when compared to an AIML which can even execute code!\n",
    "The goal of the AI is to generate responses where the AIML fails.\n"
   ]
  },
  {
   "cell_type": "markdown",
   "id": "db07e980",
   "metadata": {},
   "source": [
    "Hence the goals becomes to make an AI which has a wide variety of knowledge, yet be as small as possible!\n",
    "So we use 3 dataset:-\n",
    "1. [Movielines](https://www.kaggle.com/Cornell-University/movie-dialog-corpus) The movie lines promote longer and more thought out responses but it can be very random. About 200k lines!\n",
    "2. [Discord Messages](https://www.kaggle.com/jef1056/discord-data) The messages are on a wide variety of topics filtered and removed spam which makes the AI highly random but gives it a very random response to every days questions! about 120 million messages!\n",
    "3. Custom dataset scrapped from my messages, These messages are very narrow teaching this dataset and sending a random reply will make the AI say sorry loads of time!\n"
   ]
  },
  {
   "cell_type": "markdown",
   "id": "0d6f231e",
   "metadata": {},
   "source": [
    "## Training\n",
    "The Discord Messages Dataset simply dwarfs the other datasets, Hence the data sets are repeated.\n",
    "This leads to them covering each others issues!\n"
   ]
  },
  {
   "cell_type": "markdown",
   "id": "ab3e75f5",
   "metadata": {},
   "source": [
    "The AI has a context of 6 messages which means it will reply until the 4th message from user.\n",
    "[Example](https://huggingface.co/deepparag/Aeona-Beta/discussions/1)\n"
   ]
  },
  {
   "cell_type": "markdown",
   "id": "b95b534d",
   "metadata": {},
   "source": [
    "## Tips for Hugging Face interference\n",
    "I recommend send the user input,\n",
    "previous 3 AI and human responses.\n"
   ]
  },
  {
   "cell_type": "markdown",
   "id": "ea390590",
   "metadata": {},
   "source": [
    "Using more context than this will lead to useless responses but using less is alright but the responses may be random.\n",
    "## Evaluation\n",
    "Below is a comparison of Aeona vs. other baselines on the mixed dataset given above using automatic evaluation metrics.\n"
   ]
  },
  {
   "cell_type": "markdown",
   "id": "5b64325a",
   "metadata": {},
   "source": [
    "| Model | Perplexity |\n",
    "|---|---|\n",
    "| Seq2seq Baseline [3] | 29.8 |\n",
    "| Wolf et al. [5] | 16.3 |\n",
    "| GPT-2 baseline | 99.5 |\n",
    "| DialoGPT baseline | 56.6 |\n",
    "| DialoGPT finetuned | 11.4 |\n",
    "| PersonaGPT | 10.2 |\n",
    "| **Aeona** | **7.9** |\n"
   ]
  },
  {
   "cell_type": "markdown",
   "id": "bf7f0d0e",
   "metadata": {},
   "source": [
    "## Usage\n"
   ]
  },
  {
   "cell_type": "code",
   "execution_count": null,
   "id": "16b58290",
   "metadata": {},
   "outputs": [],
   "source": [
    "!pip install --upgrade paddlenlp"
   ]
  },
  {
   "cell_type": "code",
   "execution_count": null,
   "id": "cf18c96e",
   "metadata": {},
   "outputs": [],
   "source": [
    "import paddle\n",
    "from paddlenlp.transformers import AutoModel\n",
    "\n",
    "model = AutoModel.from_pretrained(\"deepparag/Aeona\")\n",
    "input_ids = paddle.randint(100, 200, shape=[1, 20])\n",
    "print(model(input_ids))"
   ]
  },
  {
   "cell_type": "markdown",
   "id": "fae16f6e",
   "metadata": {},
   "source": [
    "> The introduciton and weight file of this model are from [https://huggingface.co/deepparag/Aeona](https://huggingface.co/deepparag/Aeona), and we convert them to paddle related files.\n"
   ]
  }
 ],
 "metadata": {
  "kernelspec": {
   "display_name": "Python 3 (ipykernel)",
   "language": "python",
   "name": "python3"
  },
  "language_info": {
   "codemirror_mode": {
    "name": "ipython",
    "version": 3
   },
   "file_extension": ".py",
   "mimetype": "text/x-python",
   "name": "python",
   "nbconvert_exporter": "python",
   "pygments_lexer": "ipython3",
   "version": "3.8.13"
  }
 },
 "nbformat": 4,
 "nbformat_minor": 5
}
