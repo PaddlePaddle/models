{
 "cells": [
  {
   "cell_type": "markdown",
   "id": "9d9bb2aa",
   "metadata": {},
   "source": [
    "# Aeona | Chatbot\n"
   ]
  },
  {
   "cell_type": "markdown",
   "id": "7361d804",
   "metadata": {},
   "source": [
    "An generative AI made using [microsoft/DialoGPT-small](https://huggingface.co/microsoft/DialoGPT-small).\n"
   ]
  },
  {
   "cell_type": "markdown",
   "id": "008bcb8d",
   "metadata": {},
   "source": [
    "Recommended to use along with an [AIML Chatbot](https://github.com/deepsarda/Aeona-Aiml) to reduce load, get better replies, add name and personality to your bot.\n",
    "Using an AIML Chatbot will allow you to hardcode some replies also.\n"
   ]
  },
  {
   "cell_type": "markdown",
   "id": "b4bfb9cd",
   "metadata": {},
   "source": [
    "## Evaluation\n",
    "Below is a comparison of Aeona vs. other baselines on the mixed dataset given above using automatic evaluation metrics.\n"
   ]
  },
  {
   "cell_type": "markdown",
   "id": "4d478ffa",
   "metadata": {},
   "source": [
    "| Model | Perplexity |\n",
    "|---|---|\n",
    "| Seq2seq Baseline [3] | 29.8 |\n",
    "| Wolf et al. [5] | 16.3 |\n",
    "| GPT-2 baseline | 99.5 |\n",
    "| DialoGPT baseline | 56.6 |\n",
    "| DialoGPT finetuned | 11.4 |\n",
    "| PersonaGPT | 10.2 |\n",
    "| **Aeona** | **7.9** |\n"
   ]
  },
  {
   "cell_type": "markdown",
   "id": "ebb927ce",
   "metadata": {},
   "source": [
    "## Usage\n"
   ]
  },
  {
   "cell_type": "code",
   "execution_count": null,
   "id": "ea2a9d8e",
   "metadata": {},
   "outputs": [],
   "source": [
    "!pip install --upgrade paddlenlp"
   ]
  },
  {
   "cell_type": "code",
   "execution_count": null,
   "id": "dc15795c",
   "metadata": {},
   "outputs": [],
   "source": [
    "import paddle\n",
    "from paddlenlp.transformers import AutoModel\n",
    "\n",
    "model = AutoModel.from_pretrained(\"deepparag/Aeona\")\n",
    "input_ids = paddle.randint(100, 200, shape=[1, 20])\n",
    "print(model(input_ids))"
   ]
  },
  {
   "cell_type": "markdown",
   "id": "074bd20d",
   "metadata": {},
   "source": [
    "> 此模型介绍及权重来源于[https://huggingface.co/deepparag/Aeona](https://huggingface.co/deepparag/Aeona)，并转换为飞桨模型格式。\n"
   ]
  }
 ],
 "metadata": {
  "kernelspec": {
   "display_name": "Python 3 (ipykernel)",
   "language": "python",
   "name": "python3"
  },
  "language_info": {
   "codemirror_mode": {
    "name": "ipython",
    "version": 3
   },
   "file_extension": ".py",
   "mimetype": "text/x-python",
   "name": "python",
   "nbconvert_exporter": "python",
   "pygments_lexer": "ipython3",
   "version": "3.7.13"
  }
 },
 "nbformat": 4,
 "nbformat_minor": 5
}
