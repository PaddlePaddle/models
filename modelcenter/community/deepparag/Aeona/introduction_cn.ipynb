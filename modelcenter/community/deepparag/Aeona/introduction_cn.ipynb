{
 "cells": [
  {
   "cell_type": "markdown",
   "id": "5ee01a25",
   "metadata": {},
   "source": [
    "# Aeona | Chatbot\n",
    "![Aeona Banner](https://github.com/deepsarda/Aeona/blob/master/dashboard/static/banner.png?raw=true)\n"
   ]
  },
  {
   "cell_type": "markdown",
   "id": "29928846",
   "metadata": {},
   "source": [
    "An generative AI made using [microsoft/DialoGPT-small](https://huggingface.co/microsoft/DialoGPT-small).\n"
   ]
  },
  {
   "cell_type": "markdown",
   "id": "1f82447d",
   "metadata": {},
   "source": [
    "Recommended to use along with an [AIML Chatbot](https://github.com/deepsarda/Aeona-Aiml) to reduce load, get better replies, add name and personality to your bot.\n",
    "Using an AIML Chatbot will allow you to hardcode some replies also.\n"
   ]
  },
  {
   "cell_type": "markdown",
   "id": "c398ff66",
   "metadata": {},
   "source": [
    "# AEONA\n",
    "Aeona is an chatbot which hope's to be able to talk with humans as if its an friend!\n",
    "It's main target platform is discord.\n",
    "You can invite the bot [here](https://aeona.xyz).\n"
   ]
  },
  {
   "cell_type": "markdown",
   "id": "1afee853",
   "metadata": {},
   "source": [
    "To learn more about this project and chat with the ai, you can use this [website](https://aeona.xyx/).\n"
   ]
  },
  {
   "cell_type": "markdown",
   "id": "ffd2cf09",
   "metadata": {},
   "source": [
    "Aeona works why using context of the previous messages and guessing the personality of the human who is talking with it and adapting its own personality to better talk with the user.\n"
   ]
  },
  {
   "cell_type": "markdown",
   "id": "545f4b80",
   "metadata": {},
   "source": [
    "# Participate and Help the AI improve or just hang out at [hugging face discussions](https://huggingface.co/deepparag/Aeona/discussions)\n"
   ]
  },
  {
   "cell_type": "markdown",
   "id": "94d33686",
   "metadata": {},
   "source": [
    "## Goals\n",
    "The goal is to create an AI which will work with AIML in order to create the most human like AI.\n"
   ]
  },
  {
   "cell_type": "markdown",
   "id": "e3662196",
   "metadata": {},
   "source": [
    "#### Why not an AI on its own?\n",
    "For AI it is not possible (realistically) to learn about the user and store data on them, when compared to an AIML which can even execute code!\n",
    "The goal of the AI is to generate responses where the AIML fails.\n"
   ]
  },
  {
   "cell_type": "markdown",
   "id": "85fa020a",
   "metadata": {},
   "source": [
    "Hence the goals becomes to make an AI which has a wide variety of knowledge, yet be as small as possible!\n",
    "So we use 3 dataset:-\n",
    "1. [Movielines](https://www.kaggle.com/Cornell-University/movie-dialog-corpus) The movie lines promote longer and more thought out responses but it can be very random. About 200k lines!\n",
    "2. [Discord Messages](https://www.kaggle.com/jef1056/discord-data) The messages are on a wide variety of topics filtered and removed spam which makes the AI highly random but gives it a very random response to every days questions! about 120 million messages!\n",
    "3. Custom dataset scrapped from my messages, These messages are very narrow teaching this dataset and sending a random reply will make the AI say sorry loads of time!\n"
   ]
  },
  {
   "cell_type": "markdown",
   "id": "a44d6e3c",
   "metadata": {},
   "source": [
    "## Training\n",
    "The Discord Messages Dataset simply dwarfs the other datasets, Hence the data sets are repeated.\n",
    "This leads to them covering each others issues!\n"
   ]
  },
  {
   "cell_type": "markdown",
   "id": "d17cf366",
   "metadata": {},
   "source": [
    "The AI has a context of 6 messages which means it will reply until the 4th message from user.\n",
    "[Example](https://huggingface.co/deepparag/Aeona-Beta/discussions/1)\n"
   ]
  },
  {
   "cell_type": "markdown",
   "id": "d078f8c8",
   "metadata": {},
   "source": [
    "## Tips for Hugging Face interference\n",
    "I recommend send the user input,\n",
    "previous 3 AI and human responses.\n"
   ]
  },
  {
   "cell_type": "markdown",
   "id": "a6694bf1",
   "metadata": {},
   "source": [
    "Using more context than this will lead to useless responses but using less is alright but the responses may be random.\n",
    "## Evaluation\n",
    "Below is a comparison of Aeona vs. other baselines on the mixed dataset given above using automatic evaluation metrics.\n"
   ]
  },
  {
   "cell_type": "markdown",
   "id": "d5bc9cc8",
   "metadata": {},
   "source": [
    "| Model | Perplexity |\n",
    "|---|---|\n",
    "| Seq2seq Baseline [3] | 29.8 |\n",
    "| Wolf et al. [5] | 16.3 |\n",
    "| GPT-2 baseline | 99.5 |\n",
    "| DialoGPT baseline | 56.6 |\n",
    "| DialoGPT finetuned | 11.4 |\n",
    "| PersonaGPT | 10.2 |\n",
    "| **Aeona** | **7.9** |\n"
   ]
  },
  {
   "cell_type": "markdown",
   "id": "788f30bb",
   "metadata": {},
   "source": [
    "## Usage\n"
   ]
  },
  {
   "cell_type": "markdown",
   "id": "2dbd29f5",
   "metadata": {},
   "source": [
    "Example:\n"
   ]
  },
  {
   "cell_type": "code",
   "execution_count": null,
   "id": "36fd2487",
   "metadata": {},
   "outputs": [],
   "source": [
    "!pip install --upgrade paddlenlp"
   ]
  },
  {
   "cell_type": "code",
   "execution_count": null,
   "id": "59856b8b",
   "metadata": {},
   "outputs": [],
   "source": [
    "import paddle\n",
    "from paddlenlp.transformers import AutoModel\n",
    "\n",
    "model = AutoModel.from_pretrained(\"deepparag/Aeona\")\n",
    "input_ids = paddle.randint(100, 200, shape=[1, 20])\n",
    "print(model(input_ids))"
   ]
  },
  {
   "cell_type": "markdown",
   "id": "482884cf",
   "metadata": {},
   "source": [
    "> 此模型来源于：[https://huggingface.co/deepparag/Aeona](https://huggingface.co/https://huggingface.co/deepparag/Aeona)\n"
   ]
  }
 ],
 "metadata": {},
 "nbformat": 4,
 "nbformat_minor": 5
}
