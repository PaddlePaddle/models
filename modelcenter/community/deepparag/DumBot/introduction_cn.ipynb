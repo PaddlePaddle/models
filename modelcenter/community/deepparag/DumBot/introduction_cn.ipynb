{
 "cells": [
  {
   "cell_type": "markdown",
   "id": "4472dbad",
   "metadata": {},
   "source": [
    "# THIS AI IS OUTDATED. See [Aeona](https://huggingface.co/deepparag/Aeona)\n",
    "An generative AI made using [microsoft/DialoGPT-small](https://huggingface.co/microsoft/DialoGPT-small).\n",
    "\n",
    "Trained on:\n",
    "\n",
    "https://www.kaggle.com/Cornell-University/movie-dialog-corpus\n",
    "\n",
    "https://www.kaggle.com/jef1056/discord-data\n",
    "\n",
    "\n",
    "\n",
    "[Live Demo](https://dumbot-331213.uc.r.appspot.com/)\n",
    "\n",
    "Example:\n"
   ]
  },
  {
   "cell_type": "code",
   "execution_count": null,
   "id": "ea0788fe",
   "metadata": {},
   "outputs": [],
   "source": [
    "import paddle\n",
    "from paddlenlp.transformers import AutoModel\n",
    "\n",
    "model = AutoModel.from_pretrained(\"deepparag/DumBot\")\n",
    "input_ids = paddle.randint(100, 200, shape=[1, 20])\n",
    "print(model(input_ids))"
   ]
  },
  {
   "cell_type": "markdown",
   "id": "cbbe4a31",
   "metadata": {},
   "source": [
    "> 此模型来源于：[https://huggingface.co/deepparag/DumBot](https://huggingface.co/https://huggingface.co/deepparag/DumBot)"
   ]
  }
 ],
 "metadata": {},
 "nbformat": 4,
 "nbformat_minor": 5
}
