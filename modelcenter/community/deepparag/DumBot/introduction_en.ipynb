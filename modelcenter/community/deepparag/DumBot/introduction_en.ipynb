{
 "cells": [
  {
   "cell_type": "markdown",
   "id": "27b2f660",
   "metadata": {},
   "source": [
    "# THIS AI IS OUTDATED. See [Aeona](https://huggingface.co/deepparag/Aeona)\n",
    "An generative AI made using [microsoft/DialoGPT-small](https://huggingface.co/microsoft/DialoGPT-small).\n"
   ]
  },
  {
   "cell_type": "markdown",
   "id": "5b676b4b",
   "metadata": {},
   "source": [
    "Trained on:\n"
   ]
  },
  {
   "cell_type": "markdown",
   "id": "d01e8561",
   "metadata": {},
   "source": [
    "https://www.kaggle.com/Cornell-University/movie-dialog-corpus\n"
   ]
  },
  {
   "cell_type": "markdown",
   "id": "68ab7f3b",
   "metadata": {},
   "source": [
    "https://www.kaggle.com/jef1056/discord-data\n"
   ]
  },
  {
   "cell_type": "markdown",
   "id": "ba8bcdff",
   "metadata": {},
   "source": [
    "[Live Demo](https://dumbot-331213.uc.r.appspot.com/)\n"
   ]
  },
  {
   "cell_type": "markdown",
   "id": "6b17ff8d",
   "metadata": {},
   "source": [
    "Example:\n"
   ]
  },
  {
   "cell_type": "code",
   "execution_count": null,
   "id": "44504fa1",
   "metadata": {},
   "outputs": [],
   "source": [
    "!pip install --upgrade paddlenlp"
   ]
  },
  {
   "cell_type": "code",
   "execution_count": null,
   "id": "7ba296a0",
   "metadata": {},
   "outputs": [],
   "source": [
    "import paddle\n",
    "from paddlenlp.transformers import AutoModel\n",
    "\n",
    "model = AutoModel.from_pretrained(\"deepparag/DumBot\")\n",
    "input_ids = paddle.randint(100, 200, shape=[1, 20])\n",
    "print(model(input_ids))"
   ]
  },
  {
   "cell_type": "markdown",
   "id": "2193389f",
   "metadata": {},
   "source": [
    "> 此模型来源于：[https://huggingface.co/deepparag/DumBot](https://huggingface.co/https://huggingface.co/deepparag/DumBot)\n"
   ]
  }
 ],
 "metadata": {},
 "nbformat": 4,
 "nbformat_minor": 5
}
