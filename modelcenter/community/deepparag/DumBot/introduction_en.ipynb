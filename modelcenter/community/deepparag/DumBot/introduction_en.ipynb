{
 "cells": [
  {
   "cell_type": "markdown",
   "id": "abddbd98",
   "metadata": {},
   "source": [
    "# THIS AI IS OUTDATED. See [Aeona](https://huggingface.co/deepparag/Aeona)\n",
    "An generative AI made using [microsoft/DialoGPT-small](https://huggingface.co/microsoft/DialoGPT-small).\n"
   ]
  },
  {
   "cell_type": "markdown",
   "id": "5a6efdc5",
   "metadata": {},
   "source": [
    "Trained on:\n"
   ]
  },
  {
   "cell_type": "markdown",
   "id": "d03bb843",
   "metadata": {},
   "source": [
    "https://www.kaggle.com/Cornell-University/movie-dialog-corpus\n"
   ]
  },
  {
   "cell_type": "markdown",
   "id": "dceefba0",
   "metadata": {},
   "source": [
    "https://www.kaggle.com/jef1056/discord-data\n"
   ]
  },
  {
   "cell_type": "markdown",
   "id": "fbaf0704",
   "metadata": {},
   "source": [
    "[Live Demo](https://dumbot-331213.uc.r.appspot.com/)\n"
   ]
  },
  {
   "cell_type": "markdown",
   "id": "b234f141",
   "metadata": {},
   "source": [
    "## How to use"
   ]
  },
  {
   "cell_type": "code",
   "execution_count": null,
   "id": "56628bcf",
   "metadata": {},
   "outputs": [],
   "source": [
    "!pip install --upgrade paddlenlp"
   ]
  },
  {
   "cell_type": "code",
   "execution_count": null,
   "id": "0778e111",
   "metadata": {},
   "outputs": [],
   "source": [
    "import paddle\n",
    "from paddlenlp.transformers import AutoModel\n",
    "\n",
    "model = AutoModel.from_pretrained(\"deepparag/DumBot\")\n",
    "input_ids = paddle.randint(100, 200, shape=[1, 20])\n",
    "print(model(input_ids))"
   ]
  },
  {
   "cell_type": "markdown",
   "id": "4b501053",
   "metadata": {},
   "source": [
    "> The introduciton and weight file of this model are from [https://huggingface.co/deepparag/DumBot](https://huggingface.co/deepparag/DumBot), and we convert them to paddle related files.\n"
   ]
  }
 ],
 "metadata": {
  "kernelspec": {
   "display_name": "Python 3 (ipykernel)",
   "language": "python",
   "name": "python3"
  },
  "language_info": {
   "codemirror_mode": {
    "name": "ipython",
    "version": 3
   },
   "file_extension": ".py",
   "mimetype": "text/x-python",
   "name": "python",
   "nbconvert_exporter": "python",
   "pygments_lexer": "ipython3",
   "version": "3.8.13"
  }
 },
 "nbformat": 4,
 "nbformat_minor": 5
}
