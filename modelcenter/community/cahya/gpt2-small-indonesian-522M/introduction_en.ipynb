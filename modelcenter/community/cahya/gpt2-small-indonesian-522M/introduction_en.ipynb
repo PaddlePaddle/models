{
 "cells": [
  {
   "cell_type": "markdown",
   "id": "54f37505",
   "metadata": {},
   "source": [
    "# Indonesian GPT2 small model\n",
    "\n",
    "## Model description\n",
    "It is GPT2-small model pre-trained with indonesian Wikipedia using a causal language modeling (CLM) objective. This\n",
    "model is uncased: it does not make a difference between indonesia and Indonesia.\n",
    "\n",
    "This is one of several other language models that have been pre-trained with indonesian datasets. More detail about\n",
    "its usage on downstream tasks (text classification, text generation, etc) is available at [Transformer based Indonesian Language Models](https://github.com/cahya-wirawan/indonesian-language-models/tree/master/Transformers)\n",
    "\n",
    "## Intended uses & limitations\n",
    "\n",
    "### How to use\n",
    "You can use this model directly with a pipeline for text generation. Since the generation relies on some randomness,\n",
    "we set a seed for reproducibility:\n"
   ]
  },
  {
   "cell_type": "code",
   "execution_count": null,
   "id": "2f50745b",
   "metadata": {},
   "outputs": [],
   "source": [
    "import paddle\n",
    "from paddlenlp.transformers import AutoModel\n",
    "\n",
    "model = AutoModel.from_pretrained(\"cahya/gpt2-small-indonesian-522M\")\n",
    "input_ids = paddle.randint(100, 200, shape=[1, 20])\n",
    "print(model(input_ids))"
   ]
  },
  {
   "cell_type": "markdown",
   "id": "136aaba1",
   "metadata": {},
   "source": [
    "## Training data\n",
    "\n",
    "This model was pre-trained with 522MB of indonesian Wikipedia.\n",
    "The texts are tokenized using a byte-level version of Byte Pair Encoding (BPE) (for unicode characters) and\n",
    "a vocabulary size of 52,000. The inputs are sequences of 128 consecutive tokens.\n",
    "> 此模型来源于：[https://huggingface.co/cahya/gpt2-small-indonesian-522M](https://huggingface.co/https://huggingface.co/cahya/gpt2-small-indonesian-522M)"
   ]
  }
 ],
 "metadata": {},
 "nbformat": 4,
 "nbformat_minor": 5
}
