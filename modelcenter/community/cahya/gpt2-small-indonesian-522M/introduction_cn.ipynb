{
 "cells": [
  {
   "cell_type": "markdown",
   "id": "22efd8a7",
   "metadata": {},
   "source": [
    "# Indonesian GPT2 small model\n"
   ]
  },
  {
   "cell_type": "markdown",
   "id": "d72d0da8",
   "metadata": {},
   "source": [
    "## Model description\n",
    "It is GPT2-small model pre-trained with indonesian Wikipedia using a causal language modeling (CLM) objective. This\n",
    "model is uncased: it does not make a difference between indonesia and Indonesia.\n"
   ]
  },
  {
   "cell_type": "markdown",
   "id": "f5ad692e",
   "metadata": {},
   "source": [
    "This is one of several other language models that have been pre-trained with indonesian datasets. More detail about\n",
    "its usage on downstream tasks (text classification, text generation, etc) is available at [Transformer based Indonesian Language Models](https://github.com/cahya-wirawan/indonesian-language-models/tree/master/Transformers)\n"
   ]
  },
  {
   "cell_type": "markdown",
   "id": "ea2bae45",
   "metadata": {},
   "source": [
    "## Intended uses & limitations\n"
   ]
  },
  {
   "cell_type": "markdown",
   "id": "ac05c0df",
   "metadata": {},
   "source": [
    "### How to use\n",
    "You can use this model directly with a pipeline for text generation. Since the generation relies on some randomness,\n",
    "we set a seed for reproducibility:\n"
   ]
  },
  {
   "cell_type": "code",
   "execution_count": null,
   "id": "898cd2cd",
   "metadata": {},
   "outputs": [],
   "source": [
    "!pip install --upgrade paddlenlp"
   ]
  },
  {
   "cell_type": "code",
   "execution_count": null,
   "id": "9c3d3a91",
   "metadata": {},
   "outputs": [],
   "source": [
    "import paddle\n",
    "from paddlenlp.transformers import AutoModel\n",
    "\n",
    "model = AutoModel.from_pretrained(\"cahya/gpt2-small-indonesian-522M\")\n",
    "input_ids = paddle.randint(100, 200, shape=[1, 20])\n",
    "print(model(input_ids))"
   ]
  },
  {
   "cell_type": "markdown",
   "id": "d9daf05a",
   "metadata": {},
   "source": [
    "from transformers import GPT2Tokenizer, TFGPT2Model\n"
   ]
  },
  {
   "cell_type": "markdown",
   "id": "c629e20e",
   "metadata": {},
   "source": [
    "model_name='cahya/gpt2-small-indonesian-522M'\n",
    "tokenizer = GPT2Tokenizer.from_pretrained(model_name)\n",
    "model = TFGPT2Model.from_pretrained(model_name)\n",
    "text = \"Silakan diganti dengan text apa saja.\"\n",
    "encoded_input = tokenizer(text, return_tensors='tf')\n",
    "output = model(encoded_input)\n"
   ]
  },
  {
   "cell_type": "markdown",
   "id": "0f560905",
   "metadata": {},
   "source": [
    "## Training data\n"
   ]
  },
  {
   "cell_type": "markdown",
   "id": "76537b97",
   "metadata": {},
   "source": [
    "This model was pre-trained with 522MB of indonesian Wikipedia.\n",
    "The texts are tokenized using a byte-level version of Byte Pair Encoding (BPE) (for unicode characters) and\n",
    "a vocabulary size of 52,000. The inputs are sequences of 128 consecutive tokens.\n",
    "> 此模型来源于：[https://huggingface.co/cahya/gpt2-small-indonesian-522M](https://huggingface.co/https://huggingface.co/cahya/gpt2-small-indonesian-522M)\n"
   ]
  }
 ],
 "metadata": {},
 "nbformat": 4,
 "nbformat_minor": 5
}
