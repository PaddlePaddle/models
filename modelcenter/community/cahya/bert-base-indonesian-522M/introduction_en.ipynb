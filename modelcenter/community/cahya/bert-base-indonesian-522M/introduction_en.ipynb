{
 "cells": [
  {
   "cell_type": "markdown",
   "id": "39c5c12d",
   "metadata": {},
   "source": [
    "# Indonesian BERT base model (uncased)\n"
   ]
  },
  {
   "cell_type": "markdown",
   "id": "a6ce37e8",
   "metadata": {},
   "source": [
    "## Model description\n",
    "It is BERT-base model pre-trained with indonesian Wikipedia using a masked language modeling (MLM) objective. This\n",
    "model is uncased: it does not make a difference between indonesia and Indonesia.\n"
   ]
  },
  {
   "cell_type": "markdown",
   "id": "0ff3fe52",
   "metadata": {},
   "source": [
    "This is one of several other language models that have been pre-trained with indonesian datasets. More detail about\n",
    "its usage on downstream tasks (text classification, text generation, etc) is available at [Transformer based Indonesian Language Models](https://github.com/cahya-wirawan/indonesian-language-models/tree/master/Transformers)\n"
   ]
  },
  {
   "cell_type": "markdown",
   "id": "3a423afb",
   "metadata": {},
   "source": [
    "## How to use\n"
   ]
  },
  {
   "cell_type": "code",
   "execution_count": null,
   "id": "388e9ca2",
   "metadata": {},
   "outputs": [],
   "source": [
    "!pip install --upgrade paddlenlp"
   ]
  },
  {
   "cell_type": "code",
   "execution_count": null,
   "id": "59f18982",
   "metadata": {},
   "outputs": [],
   "source": [
    "import paddle\n",
    "from paddlenlp.transformers import AutoModel\n",
    "\n",
    "model = AutoModel.from_pretrained(\"cahya/bert-base-indonesian-522M\")\n",
    "input_ids = paddle.randint(100, 200, shape=[1, 20])\n",
    "print(model(input_ids))"
   ]
  },
  {
   "cell_type": "markdown",
   "id": "0ed08452",
   "metadata": {},
   "source": [
    "## Training data\n"
   ]
  },
  {
   "cell_type": "markdown",
   "id": "db76f6dd",
   "metadata": {},
   "source": [
    "This model was pre-trained with 522MB of indonesian Wikipedia.\n",
    "The texts are lowercased and tokenized using WordPiece and a vocabulary size of 32,000. The inputs of the model are\n",
    "then of the form:\n"
   ]
  },
  {
   "cell_type": "markdown",
   "id": "e064ff0e",
   "metadata": {},
   "source": [
    "```[CLS] Sentence A [SEP] Sentence B [SEP]```\n",
    "> 此模型来源于：[https://huggingface.co/cahya/bert-base-indonesian-522M](https://huggingface.co/cahya/bert-base-indonesian-522M)\n"
   ]
  }
 ],
 "metadata": {
  "kernelspec": {
   "display_name": "Python 3 (ipykernel)",
   "language": "python",
   "name": "python3"
  },
  "language_info": {
   "codemirror_mode": {
    "name": "ipython",
    "version": 3
   },
   "file_extension": ".py",
   "mimetype": "text/x-python",
   "name": "python",
   "nbconvert_exporter": "python",
   "pygments_lexer": "ipython3",
   "version": "3.8.13"
  }
 },
 "nbformat": 4,
 "nbformat_minor": 5
}
