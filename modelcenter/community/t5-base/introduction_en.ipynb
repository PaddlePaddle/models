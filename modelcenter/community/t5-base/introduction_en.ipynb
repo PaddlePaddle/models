{
 "cells": [
  {
   "cell_type": "markdown",
   "id": "44b9fe1e",
   "metadata": {},
   "source": [
    "# Model Card for T5 Base\n"
   ]
  },
  {
   "cell_type": "markdown",
   "id": "55735cc8",
   "metadata": {},
   "source": [
    "![model image](https://camo.githubusercontent.com/623b4dea0b653f2ad3f36c71ebfe749a677ac0a1/68747470733a2f2f6d69726f2e6d656469756d2e636f6d2f6d61782f343030362f312a44304a31674e51663876727255704b657944387750412e706e67)\n"
   ]
  },
  {
   "cell_type": "markdown",
   "id": "46f839c1",
   "metadata": {},
   "source": [
    "#  Table of Contents\n"
   ]
  },
  {
   "cell_type": "markdown",
   "id": "8dc43bc4",
   "metadata": {},
   "source": [
    "1. [Model Details](#model-details)\n",
    "2. [Uses](#uses)\n",
    "3. [Bias, Risks, and Limitations](#bias-risks-and-limitations)\n",
    "4. [Training Details](#training-details)\n",
    "5. [Evaluation](#evaluation)\n",
    "6. [Environmental Impact](#environmental-impact)\n",
    "7. [Citation](#citation)\n",
    "8. [Model Card Authors](#model-card-authors)\n",
    "9. [How To Get Started With the Model](#how-to-get-started-with-the-model)\n"
   ]
  },
  {
   "cell_type": "markdown",
   "id": "b7ca0f7e",
   "metadata": {},
   "source": [
    "# Model Details\n"
   ]
  },
  {
   "cell_type": "markdown",
   "id": "11536b65",
   "metadata": {},
   "source": [
    "## Model Description\n"
   ]
  },
  {
   "cell_type": "markdown",
   "id": "a62f5a49",
   "metadata": {},
   "source": [
    "The developers of the Text-To-Text Transfer Transformer (T5) [write](https://ai.googleblog.com/2020/02/exploring-transfer-learning-with-t5.html):\n"
   ]
  },
  {
   "cell_type": "markdown",
   "id": "4a9736b9",
   "metadata": {},
   "source": [
    "> With T5, we propose reframing all NLP tasks into a unified text-to-text-format where the input and output are always text strings, in contrast to BERT-style models that can only output either a class label or a span of the input. Our text-to-text framework allows us to use the same model, loss function, and hyperparameters on any NLP task.\n"
   ]
  },
  {
   "cell_type": "markdown",
   "id": "bbb7a38d",
   "metadata": {},
   "source": [
    "T5-Base is the checkpoint with 220 million parameters.\n"
   ]
  },
  {
   "cell_type": "markdown",
   "id": "c881f713",
   "metadata": {},
   "source": [
    "- **Developed by:** Colin Raffel, Noam Shazeer, Adam Roberts, Katherine Lee, Sharan Narang, Michael Matena, Yanqi Zhou, Wei Li, Peter J. Liu. See [associated paper](https://jmlr.org/papers/volume21/20-074/20-074.pdf) and [GitHub repo](https://github.com/google-research/text-to-text-transfer-transformer#released-model-checkpoints)\n",
    "- **Model type:** Language model\n",
    "- **Language(s) (NLP):** English, French, Romanian, German\n",
    "- **License:** Apache 2.0\n",
    "- **Related Models:** [All T5 Checkpoints](https://huggingface.co/models?search=t5)\n",
    "- **Resources for more information:**\n",
    "- [Research paper](https://jmlr.org/papers/volume21/20-074/20-074.pdf)\n",
    "- [Google's T5 Blog Post](https://ai.googleblog.com/2020/02/exploring-transfer-learning-with-t5.html)\n",
    "- [GitHub Repo](https://github.com/google-research/text-to-text-transfer-transformer)\n",
    "- [Hugging Face T5 Docs](https://huggingface.co/docs/transformers/model_doc/t5)\n"
   ]
  },
  {
   "cell_type": "markdown",
   "id": "0c462077",
   "metadata": {},
   "source": [
    "# Uses\n"
   ]
  },
  {
   "cell_type": "markdown",
   "id": "3b10a0f6",
   "metadata": {},
   "source": [
    "## Direct Use and Downstream Use\n"
   ]
  },
  {
   "cell_type": "markdown",
   "id": "c81cb81b",
   "metadata": {},
   "source": [
    "The developers write in a [blog post](https://ai.googleblog.com/2020/02/exploring-transfer-learning-with-t5.html) that the model:\n"
   ]
  },
  {
   "cell_type": "markdown",
   "id": "9f1eaf28",
   "metadata": {},
   "source": [
    "> Our text-to-text framework allows us to use the same model, loss function, and hyperparameters on any NLP task, including machine translation, document summarization, question answering, and classification tasks (e.g., sentiment analysis). We can even apply T5 to regression tasks by training it to predict the string representation of a number instead of the number itself.\n"
   ]
  },
  {
   "cell_type": "markdown",
   "id": "a40b5d8b",
   "metadata": {},
   "source": [
    "See the [blog post](https://ai.googleblog.com/2020/02/exploring-transfer-learning-with-t5.html) and [research paper](https://jmlr.org/papers/volume21/20-074/20-074.pdf) for further details.\n"
   ]
  },
  {
   "cell_type": "markdown",
   "id": "75e280e0",
   "metadata": {},
   "source": [
    "## Out-of-Scope Use\n"
   ]
  },
  {
   "cell_type": "markdown",
   "id": "712730c2",
   "metadata": {},
   "source": [
    "More information needed.\n"
   ]
  },
  {
   "cell_type": "markdown",
   "id": "f28f68ba",
   "metadata": {},
   "source": [
    "# Bias, Risks, and Limitations\n"
   ]
  },
  {
   "cell_type": "markdown",
   "id": "df9a4bd1",
   "metadata": {},
   "source": [
    "More information needed.\n"
   ]
  },
  {
   "cell_type": "markdown",
   "id": "1ea65486",
   "metadata": {},
   "source": [
    "## Recommendations\n"
   ]
  },
  {
   "cell_type": "markdown",
   "id": "fbc00347",
   "metadata": {},
   "source": [
    "More information needed.\n"
   ]
  },
  {
   "cell_type": "markdown",
   "id": "5797ecbb",
   "metadata": {},
   "source": [
    "# Training Details\n"
   ]
  },
  {
   "cell_type": "markdown",
   "id": "0ef7e749",
   "metadata": {},
   "source": [
    "## Training Data\n"
   ]
  },
  {
   "cell_type": "markdown",
   "id": "8fcc3fb8",
   "metadata": {},
   "source": [
    "The model is pre-trained on the [Colossal Clean Crawled Corpus (C4)](https://www.tensorflow.org/datasets/catalog/c4), which was developed and released in the context of the same [research paper](https://jmlr.org/papers/volume21/20-074/20-074.pdf) as T5.\n"
   ]
  },
  {
   "cell_type": "markdown",
   "id": "f2a59214",
   "metadata": {},
   "source": [
    "The model was pre-trained on a on a **multi-task mixture of unsupervised (1.) and supervised tasks (2.)**.\n",
    "Thereby, the following datasets were being used for (1.) and (2.):\n"
   ]
  },
  {
   "cell_type": "markdown",
   "id": "ad490df5",
   "metadata": {},
   "source": [
    "1. **Datasets used for Unsupervised denoising objective**:\n"
   ]
  },
  {
   "cell_type": "markdown",
   "id": "fe1b288e",
   "metadata": {},
   "source": [
    "- [C4](https://huggingface.co/datasets/c4)\n",
    "- [Wiki-DPR](https://huggingface.co/datasets/wiki_dpr)\n"
   ]
  },
  {
   "cell_type": "markdown",
   "id": "94b539b9",
   "metadata": {},
   "source": [
    "2. **Datasets used for Supervised text-to-text language modeling objective**\n"
   ]
  },
  {
   "cell_type": "markdown",
   "id": "0b183e53",
   "metadata": {},
   "source": [
    "- Sentence acceptability judgment\n",
    "- CoLA [Warstadt et al., 2018](https://arxiv.org/abs/1805.12471)\n",
    "- Sentiment analysis\n",
    "- SST-2 [Socher et al., 2013](https://nlp.stanford.edu/~socherr/EMNLP2013_RNTN.pdf)\n",
    "- Paraphrasing/sentence similarity\n",
    "- MRPC [Dolan and Brockett, 2005](https://aclanthology.org/I05-5002)\n",
    "- STS-B [Ceret al., 2017](https://arxiv.org/abs/1708.00055)\n",
    "- QQP [Iyer et al., 2017](https://quoradata.quora.com/First-Quora-Dataset-Release-Question-Pairs)\n",
    "- Natural language inference\n",
    "- MNLI [Williams et al., 2017](https://arxiv.org/abs/1704.05426)\n",
    "- QNLI [Rajpurkar et al.,2016](https://arxiv.org/abs/1606.05250)\n",
    "- RTE [Dagan et al., 2005](https://link.springer.com/chapter/10.1007/11736790_9)\n",
    "- CB [De Marneff et al., 2019](https://semanticsarchive.net/Archive/Tg3ZGI2M/Marneffe.pdf)\n",
    "- Sentence completion\n",
    "- COPA [Roemmele et al., 2011](https://www.researchgate.net/publication/221251392_Choice_of_Plausible_Alternatives_An_Evaluation_of_Commonsense_Causal_Reasoning)\n",
    "- Word sense disambiguation\n",
    "- WIC [Pilehvar and Camacho-Collados, 2018](https://arxiv.org/abs/1808.09121)\n",
    "- Question answering\n",
    "- MultiRC [Khashabi et al., 2018](https://aclanthology.org/N18-1023)\n",
    "- ReCoRD [Zhang et al., 2018](https://arxiv.org/abs/1810.12885)\n",
    "- BoolQ [Clark et al., 2019](https://arxiv.org/abs/1905.10044)\n"
   ]
  },
  {
   "cell_type": "markdown",
   "id": "ea40691b",
   "metadata": {},
   "source": [
    "## Training Procedure\n"
   ]
  },
  {
   "cell_type": "markdown",
   "id": "23c0b169",
   "metadata": {},
   "source": [
    "In their [abstract](https://jmlr.org/papers/volume21/20-074/20-074.pdf), the model developers write:\n"
   ]
  },
  {
   "cell_type": "markdown",
   "id": "9420e0a3",
   "metadata": {},
   "source": [
    "> In this paper, we explore the landscape of transfer learning techniques for NLP by introducing a unified framework that converts every language problem into a text-to-text format. Our systematic study compares pre-training objectives, architectures, unlabeled datasets, transfer approaches, and other factors on dozens of language understanding tasks.\n"
   ]
  },
  {
   "cell_type": "markdown",
   "id": "bb5c59c1",
   "metadata": {},
   "source": [
    "The framework introduced, the T5 framework, involves a training procedure that brings together the approaches studied in the paper. See the [research paper](https://jmlr.org/papers/volume21/20-074/20-074.pdf) for further details.\n"
   ]
  },
  {
   "cell_type": "markdown",
   "id": "33e600a5",
   "metadata": {},
   "source": [
    "# Evaluation\n"
   ]
  },
  {
   "cell_type": "markdown",
   "id": "a602968d",
   "metadata": {},
   "source": [
    "## Testing Data, Factors & Metrics\n"
   ]
  },
  {
   "cell_type": "markdown",
   "id": "0b67d3c6",
   "metadata": {},
   "source": [
    "The developers evaluated the model on 24 tasks, see the [research paper](https://jmlr.org/papers/volume21/20-074/20-074.pdf) for full details.\n"
   ]
  },
  {
   "cell_type": "markdown",
   "id": "5cdc93fe",
   "metadata": {},
   "source": [
    "## Results\n"
   ]
  },
  {
   "cell_type": "markdown",
   "id": "2d728f67",
   "metadata": {},
   "source": [
    "For full results for T5-Base, see the [research paper](https://jmlr.org/papers/volume21/20-074/20-074.pdf), Table 14.\n"
   ]
  },
  {
   "cell_type": "markdown",
   "id": "c4e23808",
   "metadata": {},
   "source": [
    "# Environmental Impact\n"
   ]
  },
  {
   "cell_type": "markdown",
   "id": "a67cd389",
   "metadata": {},
   "source": [
    "Carbon emissions can be estimated using the [Machine Learning Impact calculator](https://mlco2.github.io/impact#compute) presented in [Lacoste et al. (2019)](https://arxiv.org/abs/1910.09700).\n"
   ]
  },
  {
   "cell_type": "markdown",
   "id": "9a9c34cc",
   "metadata": {},
   "source": [
    "- **Hardware Type:** Google Cloud TPU Pods\n",
    "- **Hours used:** More information needed\n",
    "- **Cloud Provider:** GCP\n",
    "- **Compute Region:** More information needed\n",
    "- **Carbon Emitted:** More information needed\n"
   ]
  },
  {
   "cell_type": "markdown",
   "id": "c6dd29b8",
   "metadata": {},
   "source": [
    "# Citation\n"
   ]
  },
  {
   "cell_type": "markdown",
   "id": "bbbfcae6",
   "metadata": {},
   "source": [
    "**BibTeX:**\n"
   ]
  },
  {
   "cell_type": "code",
   "execution_count": null,
   "id": "014f657b",
   "metadata": {},
   "outputs": [],
   "source": [
    "!pip install --upgrade paddlenlp"
   ]
  },
  {
   "cell_type": "code",
   "execution_count": null,
   "id": "511c0703",
   "metadata": {},
   "outputs": [],
   "source": [
    "import paddle\n",
    "from paddlenlp.transformers import AutoModel\n",
    "\n",
    "model = AutoModel.from_pretrained(\"t5-base\")\n",
    "input_ids = paddle.randint(100, 200, shape=[1, 20])\n",
    "print(model(input_ids))"
   ]
  },
  {
   "cell_type": "markdown",
   "id": "d9b1a5f3",
   "metadata": {},
   "source": [
    "</details>\n",
    "> 此模型来源于：[https://huggingface.co/t5-base](https://huggingface.co/https://huggingface.co/t5-base)\n"
   ]
  }
 ],
 "metadata": {},
 "nbformat": 4,
 "nbformat_minor": 5
}
