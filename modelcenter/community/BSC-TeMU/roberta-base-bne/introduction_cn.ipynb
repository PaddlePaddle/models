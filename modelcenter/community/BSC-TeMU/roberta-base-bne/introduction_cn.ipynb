{
 "cells": [
  {
   "cell_type": "markdown",
   "id": "95730ff1",
   "metadata": {},
   "source": [
    "**⚠️NOTICE⚠️: THIS MODEL HAS BEEN MOVED TO THE FOLLOWING URL AND WILL SOON BE REMOVED:** https://huggingface.co/PlanTL-GOB-ES/roberta-base-bne\n",
    "\n",
    "# RoBERTa base trained with data from National Library of Spain (BNE)\n",
    "\n",
    "## Model Description\n",
    "RoBERTa-base-bne is a transformer-based masked language model for the Spanish language. It is based on the [RoBERTa](https://arxiv.org/abs/1907.11692) base model and has been pre-trained using the largest Spanish corpus known to date, with a total of 570GB of clean and deduplicated text processed for this work, compiled from the web crawlings performed by the  [National Library of Spain (Biblioteca Nacional de España)](http://www.bne.es/en/Inicio/index.html) from 2009 to 2019.\n",
    "\n",
    "## Training corpora and preprocessing\n",
    "The [National Library of Spain (Biblioteca Nacional de España)](http://www.bne.es/en/Inicio/index.html) crawls all .es domains once a year. The training corpus consists of 59TB of WARC files from these crawls, carried out from 2009 to 2019.\n",
    "\n",
    "To obtain a high-quality training corpus, the corpus has been preprocessed with a pipeline of operations, including among the others, sentence splitting, language detection, filtering of bad-formed sentences and deduplication of repetitive contents. During the process document boundaries are kept. This resulted into 2TB of Spanish clean corpus. Further global deduplication among the corpus is applied, resulting into 570GB of text.\n",
    "\n",
    "Some of the statistics of the corpus:\n",
    "\n",
    "| Corpora | Number of documents | Number of tokens | Size (GB) |\n",
    "|---------|---------------------|------------------|-----------|\n",
    "| BNE     |         201,080,084 |  135,733,450,668 |     570GB |\n",
    "\n",
    "## Tokenization and pre-training\n",
    "The training corpus has been tokenized using a byte version of Byte-Pair Encoding (BPE) used in the original [RoBERTA](https://arxiv.org/abs/1907.11692) model with a vocabulary size of 50,262 tokens. The RoBERTa-base-bne pre-training consists of a masked language model training that follows the approach employed for the RoBERTa base. The training lasted a total of 48 hours with 16 computing nodes each one with 4 NVIDIA V100 GPUs of 16GB VRAM.\n",
    "\n",
    "## Evaluation and results\n",
    "For evaluation details visit our [GitHub repository](https://github.com/PlanTL-SANIDAD/lm-spanish).\n",
    "\n",
    "## Citing\n",
    "Check out our paper for all the details: https://arxiv.org/abs/2107.07253\n"
   ]
  },
  {
   "cell_type": "code",
   "execution_count": null,
   "id": "39409fc8",
   "metadata": {},
   "outputs": [],
   "source": [
    "@misc{gutierrezfandino2021spanish,\n",
    "title={Spanish Language Models},\n",
    "author={Asier Gutiérrez-Fandiño and Jordi Armengol-Estapé and Marc Pàmies and Joan Llop-Palao and Joaquín Silveira-Ocampo and Casimiro Pio Carrino and Aitor Gonzalez-Agirre and Carme Armentano-Oller and Carlos Rodriguez-Penagos and Marta Villegas},\n",
    "year={2021},\n",
    "eprint={2107.07253},\n",
    "archivePrefix={arXiv},\n",
    "primaryClass={cs.CL}\n",
    "}\n"
   ]
  },
  {
   "cell_type": "markdown",
   "id": "0b0dce14",
   "metadata": {},
   "source": [
    "> 此模型来源于：[https://huggingface.co/BSC-TeMU/roberta-base-bne](https://huggingface.co/https://huggingface.co/BSC-TeMU/roberta-base-bne)"
   ]
  }
 ],
 "metadata": {},
 "nbformat": 4,
 "nbformat_minor": 5
}
