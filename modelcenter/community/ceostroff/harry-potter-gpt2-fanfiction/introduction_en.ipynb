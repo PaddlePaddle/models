{
 "cells": [
  {
   "cell_type": "markdown",
   "id": "54028e2e",
   "metadata": {},
   "source": [
    "# Harry Potter Fanfiction Generator\n",
    "\n",
    "This is a pre-trained GPT-2 generative text model that allows you to generate your own Harry Potter fanfiction, trained off of the top 100 rated fanficition stories. We intend for this to be used for individual fun and experimentation and not as a commercial product.\n",
    "> 此模型来源于：[https://huggingface.co/ceostroff/harry-potter-gpt2-fanfiction](https://huggingface.co/https://huggingface.co/ceostroff/harry-potter-gpt2-fanfiction)"
   ]
  }
 ],
 "metadata": {},
 "nbformat": 4,
 "nbformat_minor": 5
}
