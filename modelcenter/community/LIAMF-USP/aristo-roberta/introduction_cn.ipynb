{
 "cells": [
  {
   "cell_type": "markdown",
   "id": "74876b86",
   "metadata": {},
   "source": [
    "# Roberta Large Fine Tuned on RACE\n"
   ]
  },
  {
   "cell_type": "markdown",
   "id": "dec74266",
   "metadata": {},
   "source": [
    "## Model description\n"
   ]
  },
  {
   "cell_type": "markdown",
   "id": "1d44b8d9",
   "metadata": {},
   "source": [
    "This model follows the implementation by Allen AI team about [Aristo Roberta V7 Model](https://leaderboard.allenai.org/arc/submission/blcotvl7rrltlue6bsv0) given in [ARC Challenge](https://leaderboard.allenai.org/arc/submissions/public)\n"
   ]
  },
  {
   "cell_type": "markdown",
   "id": "2991fdc5",
   "metadata": {},
   "source": [
    "#### How to use\n"
   ]
  },
  {
   "cell_type": "code",
   "execution_count": null,
   "id": "86923bd4",
   "metadata": {},
   "outputs": [],
   "source": [
    "!pip install --upgrade paddlenlp"
   ]
  },
  {
   "cell_type": "code",
   "execution_count": null,
   "id": "86dc4702",
   "metadata": {},
   "outputs": [],
   "source": [
    "import paddle\n",
    "from paddlenlp.transformers import AutoModel\n",
    "\n",
    "model = AutoModel.from_pretrained(\"LIAMF-USP/aristo-roberta\")\n",
    "input_ids = paddle.randint(100, 200, shape=[1, 20])\n",
    "print(model(input_ids))"
   ]
  },
  {
   "cell_type": "markdown",
   "id": "0a2f431c",
   "metadata": {},
   "source": [
    "## Training data\n"
   ]
  },
  {
   "cell_type": "markdown",
   "id": "14eab94e",
   "metadata": {},
   "source": [
    "the Training data was the same as proposed [here](https://leaderboard.allenai.org/arc/submission/blcotvl7rrltlue6bsv0)\n"
   ]
  },
  {
   "cell_type": "markdown",
   "id": "248a3da7",
   "metadata": {},
   "source": [
    "The only diferrence was the hypeparameters of RACE fine tuned model, which were reported [here](https://huggingface.co/LIAMF-USP/roberta-large-finetuned-race#eval-results)\n"
   ]
  },
  {
   "cell_type": "markdown",
   "id": "dd720c95",
   "metadata": {},
   "source": [
    "## Training procedure\n"
   ]
  },
  {
   "cell_type": "markdown",
   "id": "fdf33bd0",
   "metadata": {},
   "source": [
    "It was necessary to preprocess the data with a method that is exemplified for a single instance in the _How to use_ section. The used hyperparameters were the following:\n"
   ]
  },
  {
   "cell_type": "markdown",
   "id": "59a17438",
   "metadata": {},
   "source": [
    "| Hyperparameter | Value |\n",
    "|:----:|:----:|\n",
    "| adam_beta1                  | 0.9      |\n",
    "| adam_beta2                  | 0.98     |\n",
    "| adam_epsilon                | 1.000e-8 |\n",
    "| eval_batch_size             | 16       |\n",
    "| train_batch_size            | 4        |\n",
    "| fp16                        | True     |\n",
    "| gradient_accumulation_steps | 4       |\n",
    "| learning_rate               | 0.00001  |\n",
    "| warmup_steps                | 0.06     |\n",
    "| max_length                  | 256      |\n",
    "| epochs                  |   4      |\n"
   ]
  },
  {
   "cell_type": "markdown",
   "id": "9a3ad067",
   "metadata": {},
   "source": [
    "The other parameters were the default ones from [Trainer](https://huggingface.co/transformers/main_classes/trainer.html) and [Trainer Arguments](https://huggingface.co/transformers/main_classes/trainer.html#trainingarguments)\n"
   ]
  },
  {
   "cell_type": "markdown",
   "id": "2d447595",
   "metadata": {},
   "source": [
    "## Eval results:\n",
    "| Dataset Acc | Challenge Test |\n",
    "|:----:|:----:|\n",
    "|      | 65.358 |\n"
   ]
  },
  {
   "cell_type": "markdown",
   "id": "5693bb48",
   "metadata": {},
   "source": [
    "**The model was trained with a TITAN RTX**\n",
    "> 此模型来源于：[https://huggingface.co/LIAMF-USP/aristo-roberta](https://huggingface.co/https://huggingface.co/LIAMF-USP/aristo-roberta)\n"
   ]
  }
 ],
 "metadata": {},
 "nbformat": 4,
 "nbformat_minor": 5
}
