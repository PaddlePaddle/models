{
 "cells": [
  {
   "cell_type": "markdown",
   "id": "fc34d129",
   "metadata": {},
   "source": [
    "# IndoBERT Base Model (phase1 - uncased)\n",
    "\n",
    "[IndoBERT](https://arxiv.org/abs/2009.05387) is a state-of-the-art language model for Indonesian based on the BERT model. The pretrained model is trained using a masked language modeling (MLM) objective and next sentence prediction (NSP) objective.\n",
    "\n",
    "## All Pre-trained Models\n",
    "\n",
    "| Model                          | #params                        | Arch. | Training data                     |\n",
    "|--------------------------------|--------------------------------|-------|-----------------------------------|\n",
    "| `indobenchmark/indobert-base-p1` | 124.5M   | Base  | Indo4B (23.43 GB of text)            |\n",
    "| `indobenchmark/indobert-base-p2` | 124.5M   | Base  | Indo4B (23.43 GB of text)            |\n",
    "| `indobenchmark/indobert-large-p1` | 335.2M   | Large  | Indo4B (23.43 GB of text)            |\n",
    "| `indobenchmark/indobert-large-p2` | 335.2M   | Large  | Indo4B (23.43 GB of text)            |\n",
    "| `indobenchmark/indobert-lite-base-p1` | 11.7M   | Base  | Indo4B (23.43 GB of text)            |\n",
    "| `indobenchmark/indobert-lite-base-p2` | 11.7M   | Base  | Indo4B (23.43 GB of text)            |\n",
    "| `indobenchmark/indobert-lite-large-p1` | 17.7M   | Large  | Indo4B (23.43 GB of text)            |\n",
    "| `indobenchmark/indobert-lite-large-p2` | 17.7M   | Large  | Indo4B (23.43 GB of text)            |\n",
    "\n",
    "## How to use\n",
    "\n",
    "### Load model and tokenizer\n"
   ]
  },
  {
   "cell_type": "code",
   "execution_count": null,
   "id": "dd57baeb",
   "metadata": {},
   "outputs": [],
   "source": [
    "import paddle\n",
    "from paddlenlp.transformers import AutoModel\n",
    "\n",
    "model = AutoModel.from_pretrained(\"indobenchmark/indobert-base-p1\")\n",
    "input_ids = paddle.randint(100, 200, shape=[1, 20])\n",
    "print(model(input_ids))"
   ]
  },
  {
   "cell_type": "code",
   "execution_count": null,
   "id": "38887e4d",
   "metadata": {},
   "outputs": [],
   "source": [
    "@inproceedings{wilie2020indonlu,\n",
    "title={IndoNLU: Benchmark and Resources for Evaluating Indonesian Natural Language Understanding},\n",
    "author={Bryan Wilie and Karissa Vincentio and Genta Indra Winata and Samuel Cahyawijaya and X. Li and Zhi Yuan Lim and S. Soleman and R. Mahendra and Pascale Fung and Syafri Bahar and A. Purwarianti},\n",
    "booktitle={Proceedings of the 1st Conference of the Asia-Pacific Chapter of the Association for Computational Linguistics and the 10th International Joint Conference on Natural Language Processing},\n",
    "year={2020}\n",
    "}\n"
   ]
  },
  {
   "cell_type": "markdown",
   "id": "f9bce511",
   "metadata": {},
   "source": [
    "> 此模型来源于：[https://huggingface.co/indobenchmark/indobert-base-p1](https://huggingface.co/https://huggingface.co/indobenchmark/indobert-base-p1)"
   ]
  }
 ],
 "metadata": {},
 "nbformat": 4,
 "nbformat_minor": 5
}
