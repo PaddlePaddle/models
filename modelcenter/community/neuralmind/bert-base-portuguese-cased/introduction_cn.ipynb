{
 "cells": [
  {
   "cell_type": "markdown",
   "id": "6977c131",
   "metadata": {},
   "source": [
    "# BERTimbau Base (aka \"bert-base-portuguese-cased\")\n",
    "\n",
    "![Bert holding a berimbau](https://imgur.com/JZ7Hynh.jpg)\n",
    "\n",
    "## Introduction\n",
    "\n",
    "BERTimbau Base is a pretrained BERT model for Brazilian Portuguese that achieves state-of-the-art performances on three downstream NLP tasks: Named Entity Recognition, Sentence Textual Similarity and Recognizing Textual Entailment. It is available in two sizes: Base and Large.\n",
    "\n",
    "For further information or requests, please go to [BERTimbau repository](https://github.com/neuralmind-ai/portuguese-bert/).\n",
    "\n",
    "## Available models\n",
    "\n",
    "| Model                                    | Arch.      | #Layers | #Params |\n",
    "| ---------------------------------------- | ---------- | ------- | ------- |\n",
    "| `neuralmind/bert-base-portuguese-cased`  | BERT-Base  | 12      | 110M    |\n",
    "| `neuralmind/bert-large-portuguese-cased` | BERT-Large | 24      | 335M    |\n",
    "\n",
    "## Usage\n"
   ]
  },
  {
   "cell_type": "code",
   "execution_count": null,
   "id": "bd9f82d8",
   "metadata": {},
   "outputs": [],
   "source": [
    "import paddle\n",
    "from paddlenlp.transformers import AutoModel\n",
    "\n",
    "model = AutoModel.from_pretrained(\"neuralmind/bert-base-portuguese-cased\")\n",
    "input_ids = paddle.randint(100, 200, shape=[1, 20])\n",
    "print(model(input_ids))"
   ]
  },
  {
   "cell_type": "code",
   "execution_count": null,
   "id": "1cee5eae",
   "metadata": {},
   "outputs": [],
   "source": [
    "@inproceedings{souza2020bertimbau,\n",
    "author    = {F{\\'a}bio Souza and\n",
    "Rodrigo Nogueira and\n",
    "Roberto Lotufo},\n",
    "title     = {{BERT}imbau: pretrained {BERT} models for {B}razilian {P}ortuguese},\n",
    "booktitle = {9th Brazilian Conference on Intelligent Systems, {BRACIS}, Rio Grande do Sul, Brazil, October 20-23 (to appear)},\n",
    "year      = {2020}\n",
    "}\n"
   ]
  },
  {
   "cell_type": "markdown",
   "id": "2e7b3879",
   "metadata": {},
   "source": [
    "> 此模型来源于：[https://huggingface.co/neuralmind/bert-base-portuguese-cased](https://huggingface.co/https://huggingface.co/neuralmind/bert-base-portuguese-cased)"
   ]
  }
 ],
 "metadata": {},
 "nbformat": 4,
 "nbformat_minor": 5
}
