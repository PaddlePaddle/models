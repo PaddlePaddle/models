{
 "cells": [
  {
   "cell_type": "markdown",
   "id": "505b2c1f",
   "metadata": {},
   "source": [
    "# BERTimbau Base (aka \"bert-base-portuguese-cased\")\n"
   ]
  },
  {
   "cell_type": "markdown",
   "id": "f158820c",
   "metadata": {},
   "source": [
    "![Bert holding a berimbau](https://imgur.com/JZ7Hynh.jpg)\n"
   ]
  },
  {
   "cell_type": "markdown",
   "id": "a53b0a06",
   "metadata": {},
   "source": [
    "## Introduction\n"
   ]
  },
  {
   "cell_type": "markdown",
   "id": "33e59eaa",
   "metadata": {},
   "source": [
    "BERTimbau Base is a pretrained BERT model for Brazilian Portuguese that achieves state-of-the-art performances on three downstream NLP tasks: Named Entity Recognition, Sentence Textual Similarity and Recognizing Textual Entailment. It is available in two sizes: Base and Large.\n"
   ]
  },
  {
   "cell_type": "markdown",
   "id": "5fc82d9e",
   "metadata": {},
   "source": [
    "For further information or requests, please go to [BERTimbau repository](https://github.com/neuralmind-ai/portuguese-bert/).\n"
   ]
  },
  {
   "cell_type": "markdown",
   "id": "bd97537d",
   "metadata": {},
   "source": [
    "## Available models\n"
   ]
  },
  {
   "cell_type": "markdown",
   "id": "e57dca76",
   "metadata": {},
   "source": [
    "| Model                                    | Arch.      | #Layers | #Params |\n",
    "| ---------------------------------------- | ---------- | ------- | ------- |\n",
    "| `neuralmind/bert-base-portuguese-cased`  | BERT-Base  | 12      | 110M    |\n",
    "| `neuralmind/bert-large-portuguese-cased` | BERT-Large | 24      | 335M    |\n"
   ]
  },
  {
   "cell_type": "markdown",
   "id": "2b48c283",
   "metadata": {},
   "source": [
    "## Usage\n"
   ]
  },
  {
   "cell_type": "code",
   "execution_count": null,
   "id": "b700c348",
   "metadata": {},
   "outputs": [],
   "source": [
    "!pip install --upgrade paddlenlp"
   ]
  },
  {
   "cell_type": "code",
   "execution_count": null,
   "id": "824c719b",
   "metadata": {},
   "outputs": [],
   "source": [
    "import paddle\n",
    "from paddlenlp.transformers import AutoModel\n",
    "\n",
    "model = AutoModel.from_pretrained(\"neuralmind/bert-base-portuguese-cased\")\n",
    "input_ids = paddle.randint(100, 200, shape=[1, 20])\n",
    "print(model(input_ids))"
   ]
  },
  {
   "cell_type": "markdown",
   "id": "016dc43b",
   "metadata": {},
   "source": [
    "@inproceedings{souza2020bertimbau,\n",
    "author    = {F{\\'a}bio Souza and\n",
    "Rodrigo Nogueira and\n",
    "Roberto Lotufo},\n",
    "title     = {{BERT}imbau: pretrained {BERT} models for {B}razilian {P}ortuguese},\n",
    "booktitle = {9th Brazilian Conference on Intelligent Systems, {BRACIS}, Rio Grande do Sul, Brazil, October 20-23 (to appear)},\n",
    "year      = {2020}\n",
    "}\n"
   ]
  },
  {
   "cell_type": "markdown",
   "id": "e6ffb314",
   "metadata": {},
   "source": [
    "> 此模型来源于：[https://huggingface.co/neuralmind/bert-base-portuguese-cased](https://huggingface.co/https://huggingface.co/neuralmind/bert-base-portuguese-cased)\n"
   ]
  }
 ],
 "metadata": {},
 "nbformat": 4,
 "nbformat_minor": 5
}
