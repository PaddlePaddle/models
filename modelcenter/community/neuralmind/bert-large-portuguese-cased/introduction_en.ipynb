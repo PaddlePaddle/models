{
 "cells": [
  {
   "cell_type": "markdown",
   "id": "f95383f5",
   "metadata": {},
   "source": [
    "# BERTimbau Large (aka \"bert-large-portuguese-cased\")\n"
   ]
  },
  {
   "cell_type": "markdown",
   "id": "838eefc5",
   "metadata": {},
   "source": [
    "![Bert holding a berimbau](https://imgur.com/JZ7Hynh.jpg)\n"
   ]
  },
  {
   "cell_type": "markdown",
   "id": "35f53e56",
   "metadata": {},
   "source": [
    "## Introduction\n"
   ]
  },
  {
   "cell_type": "markdown",
   "id": "8f20ae13",
   "metadata": {},
   "source": [
    "BERTimbau Large is a pretrained BERT model for Brazilian Portuguese that achieves state-of-the-art performances on three downstream NLP tasks: Named Entity Recognition, Sentence Textual Similarity and Recognizing Textual Entailment. It is available in two sizes: Base and Large.\n"
   ]
  },
  {
   "cell_type": "markdown",
   "id": "1b39d1b4",
   "metadata": {},
   "source": [
    "For further information or requests, please go to [BERTimbau repository](https://github.com/neuralmind-ai/portuguese-bert/).\n"
   ]
  },
  {
   "cell_type": "markdown",
   "id": "13338574",
   "metadata": {},
   "source": [
    "## Available models\n"
   ]
  },
  {
   "cell_type": "markdown",
   "id": "afe3f55a",
   "metadata": {},
   "source": [
    "| Model                                    | Arch.      | #Layers | #Params |\n",
    "| ---------------------------------------- | ---------- | ------- | ------- |\n",
    "| `neuralmind/bert-base-portuguese-cased`  | BERT-Base  | 12      | 110M    |\n",
    "| `neuralmind/bert-large-portuguese-cased` | BERT-Large | 24      | 335M    |\n"
   ]
  },
  {
   "cell_type": "markdown",
   "id": "72c886a5",
   "metadata": {},
   "source": [
    "## Usage\n"
   ]
  },
  {
   "cell_type": "code",
   "execution_count": null,
   "id": "a0639255",
   "metadata": {},
   "outputs": [],
   "source": [
    "!pip install --upgrade paddlenlp"
   ]
  },
  {
   "cell_type": "code",
   "execution_count": null,
   "id": "d595ee05",
   "metadata": {},
   "outputs": [],
   "source": [
    "import paddle\n",
    "from paddlenlp.transformers import AutoModel\n",
    "\n",
    "model = AutoModel.from_pretrained(\"neuralmind/bert-large-portuguese-cased\")\n",
    "input_ids = paddle.randint(100, 200, shape=[1, 20])\n",
    "print(model(input_ids))"
   ]
  },
  {
   "cell_type": "markdown",
   "id": "e480ef81",
   "metadata": {},
   "source": [
    "@inproceedings{souza2020bertimbau,\n",
    "author    = {F{\\'a}bio Souza and\n",
    "Rodrigo Nogueira and\n",
    "Roberto Lotufo},\n",
    "title     = {{BERT}imbau: pretrained {BERT} models for {B}razilian {P}ortuguese},\n",
    "booktitle = {9th Brazilian Conference on Intelligent Systems, {BRACIS}, Rio Grande do Sul, Brazil, October 20-23 (to appear)},\n",
    "year      = {2020}\n",
    "}\n"
   ]
  },
  {
   "cell_type": "markdown",
   "id": "cfd1007f",
   "metadata": {},
   "source": [
    "> 此模型来源于：[https://huggingface.co/neuralmind/bert-large-portuguese-cased](https://huggingface.co/https://huggingface.co/neuralmind/bert-large-portuguese-cased)\n"
   ]
  }
 ],
 "metadata": {},
 "nbformat": 4,
 "nbformat_minor": 5
}
