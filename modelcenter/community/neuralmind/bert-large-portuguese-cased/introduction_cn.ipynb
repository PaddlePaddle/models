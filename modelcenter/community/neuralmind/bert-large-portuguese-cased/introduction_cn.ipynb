{
 "cells": [
  {
   "cell_type": "markdown",
   "id": "8319579f",
   "metadata": {},
   "source": [
    "# BERTimbau Large (aka \"bert-large-portuguese-cased\")\n"
   ]
  },
  {
   "cell_type": "markdown",
   "id": "279fc269",
   "metadata": {},
   "source": [
    "![Bert holding a berimbau](https://imgur.com/JZ7Hynh.jpg)\n"
   ]
  },
  {
   "cell_type": "markdown",
   "id": "e9f5d0cd",
   "metadata": {},
   "source": [
    "## Introduction\n"
   ]
  },
  {
   "cell_type": "markdown",
   "id": "4dc0e47e",
   "metadata": {},
   "source": [
    "BERTimbau Large is a pretrained BERT model for Brazilian Portuguese that achieves state-of-the-art performances on three downstream NLP tasks: Named Entity Recognition, Sentence Textual Similarity and Recognizing Textual Entailment. It is available in two sizes: Base and Large.\n"
   ]
  },
  {
   "cell_type": "markdown",
   "id": "ff789281",
   "metadata": {},
   "source": [
    "For further information or requests, please go to [BERTimbau repository](https://github.com/neuralmind-ai/portuguese-bert/).\n"
   ]
  },
  {
   "cell_type": "markdown",
   "id": "f15dca27",
   "metadata": {},
   "source": [
    "## Available models\n"
   ]
  },
  {
   "cell_type": "markdown",
   "id": "967e50e3",
   "metadata": {},
   "source": [
    "| Model                                    | Arch.      | #Layers | #Params |\n",
    "| ---------------------------------------- | ---------- | ------- | ------- |\n",
    "| `neuralmind/bert-base-portuguese-cased`  | BERT-Base  | 12      | 110M    |\n",
    "| `neuralmind/bert-large-portuguese-cased` | BERT-Large | 24      | 335M    |\n"
   ]
  },
  {
   "cell_type": "markdown",
   "id": "5ddeaa04",
   "metadata": {},
   "source": [
    "## Usage\n"
   ]
  },
  {
   "cell_type": "code",
   "execution_count": null,
   "id": "5d96ba3f",
   "metadata": {},
   "outputs": [],
   "source": [
    "!pip install --upgrade paddlenlp"
   ]
  },
  {
   "cell_type": "code",
   "execution_count": null,
   "id": "d31c64b1",
   "metadata": {},
   "outputs": [],
   "source": [
    "import paddle\n",
    "from paddlenlp.transformers import AutoModel\n",
    "\n",
    "model = AutoModel.from_pretrained(\"neuralmind/bert-large-portuguese-cased\")\n",
    "input_ids = paddle.randint(100, 200, shape=[1, 20])\n",
    "print(model(input_ids))"
   ]
  },
  {
   "cell_type": "markdown",
   "id": "cae0c8e2",
   "metadata": {},
   "source": [
    "@inproceedings{souza2020bertimbau,\n",
    "author    = {F{\\'a}bio Souza and\n",
    "Rodrigo Nogueira and\n",
    "Roberto Lotufo},\n",
    "title     = {{BERT}imbau: pretrained {BERT} models for {B}razilian {P}ortuguese},\n",
    "booktitle = {9th Brazilian Conference on Intelligent Systems, {BRACIS}, Rio Grande do Sul, Brazil, October 20-23 (to appear)},\n",
    "year      = {2020}\n",
    "}\n"
   ]
  },
  {
   "cell_type": "markdown",
   "id": "63e958c9",
   "metadata": {},
   "source": [
    "> 此模型来源于：[https://huggingface.co/neuralmind/bert-large-portuguese-cased](https://huggingface.co/https://huggingface.co/neuralmind/bert-large-portuguese-cased)\n"
   ]
  }
 ],
 "metadata": {},
 "nbformat": 4,
 "nbformat_minor": 5
}
