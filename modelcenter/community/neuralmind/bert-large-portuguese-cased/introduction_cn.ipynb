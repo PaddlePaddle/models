{
 "cells": [
  {
   "cell_type": "markdown",
   "id": "930b2189",
   "metadata": {},
   "source": [
    "# BERTimbau Large (aka \"bert-large-portuguese-cased\")\n",
    "\n",
    "![Bert holding a berimbau](https://imgur.com/JZ7Hynh.jpg)\n",
    "\n",
    "## Introduction\n",
    "\n",
    "BERTimbau Large is a pretrained BERT model for Brazilian Portuguese that achieves state-of-the-art performances on three downstream NLP tasks: Named Entity Recognition, Sentence Textual Similarity and Recognizing Textual Entailment. It is available in two sizes: Base and Large.\n",
    "\n",
    "For further information or requests, please go to [BERTimbau repository](https://github.com/neuralmind-ai/portuguese-bert/).\n",
    "\n",
    "## Available models\n",
    "\n",
    "| Model                                    | Arch.      | #Layers | #Params |\n",
    "| ---------------------------------------- | ---------- | ------- | ------- |\n",
    "| `neuralmind/bert-base-portuguese-cased`  | BERT-Base  | 12      | 110M    |\n",
    "| `neuralmind/bert-large-portuguese-cased` | BERT-Large | 24      | 335M    |\n",
    "\n",
    "## Usage\n"
   ]
  },
  {
   "cell_type": "code",
   "execution_count": null,
   "id": "0a547218",
   "metadata": {},
   "outputs": [],
   "source": [
    "import paddle\n",
    "from paddlenlp.transformers import AutoModel\n",
    "\n",
    "model = AutoModel.from_pretrained(\"neuralmind/bert-large-portuguese-cased\")\n",
    "input_ids = paddle.randint(100, 200, shape=[1, 20])\n",
    "print(model(input_ids))"
   ]
  },
  {
   "cell_type": "markdown",
   "id": "9aa10443",
   "metadata": {},
   "source": [
    "> 此模型来源于：[https://huggingface.co/neuralmind/bert-large-portuguese-cased](https://huggingface.co/https://huggingface.co/neuralmind/bert-large-portuguese-cased)"
   ]
  }
 ],
 "metadata": {},
 "nbformat": 4,
 "nbformat_minor": 5
}
