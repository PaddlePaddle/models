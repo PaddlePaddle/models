{
 "cells": [
  {
   "cell_type": "markdown",
   "id": "ee5ae6b2",
   "metadata": {},
   "source": [
    "# CodeParrot 🦜 (small)\n",
    "\n",
    "CodeParrot 🦜 is a GPT-2 model (110M parameters) trained to generate Python code.\n",
    "\n",
    "## Usage\n",
    "\n",
    "You can load the CodeParrot model and tokenizer directly in `transformers`:\n"
   ]
  },
  {
   "cell_type": "code",
   "execution_count": null,
   "id": "ec7bcc98",
   "metadata": {},
   "outputs": [],
   "source": [
    "import paddle\n",
    "from paddlenlp.transformers import AutoModel\n",
    "\n",
    "model = AutoModel.from_pretrained(\"lvwerra/codeparrot-small\")\n",
    "input_ids = paddle.randint(100, 200, shape=[1, 20])\n",
    "print(model(input_ids))"
   ]
  },
  {
   "cell_type": "markdown",
   "id": "50aee8b7",
   "metadata": {},
   "source": [
    "## Training\n",
    "\n",
    "The model was trained on the cleaned [CodeParrot 🦜 dataset](https://huggingface.co/datasets/codeparrot/codeparrot-clean) with the following settings:\n",
    "\n",
    "|Config|Value|\n",
    "|-------|-----|\n",
    "|Batch size| 192 |\n",
    "|Context size| 1024 |\n",
    "|Training steps| 150'000|\n",
    "|Gradient accumulation| 1|\n",
    "|Gradient checkpointing| False|\n",
    "|Learning rate| 5e-4 |\n",
    "|Weight decay | 0.1 |\n",
    "|Warmup steps| 2000 |\n",
    "|Schedule| Cosine |\n",
    "\n",
    "The training was executed on 16 x A100 (40GB) GPUs. This setting amounts to roughly 29 billion tokens.\n",
    "\n",
    "## Performance\n",
    "\n",
    "We evaluated the model on OpenAI's [HumanEval](https://huggingface.co/datasets/openai_humaneval) benchmark which consists of programming challenges:\n",
    "\n",
    "| Metric | Value |\n",
    "|-------|-----|\n",
    "|pass@1 | 3.80% |\n",
    "|pass@10 | 6.57%\t |\n",
    "|pass@100 | 12.78% |\n",
    "\n",
    "The [pass@k metric](https://huggingface.co/metrics/code_eval) tells the probability that at least one out of k generations passes the tests.\n",
    "\n",
    "## Resources\n",
    "\n",
    "- Dataset: [full](https://huggingface.co/datasets/codeparrot/codeparrot-clean), [train](https://huggingface.co/datasets/codeparrot/codeparrot-clean-train), [valid](https://huggingface.co/datasets/codeparrot/codeparrot-clean-valid)\n",
    "- Code: [repository](https://github.com/huggingface/transformers/tree/master/examples/research_projects/codeparrot)\n",
    "- Spaces: [generation](), [highlighting]()\n",
    "> 此模型来源于：[https://huggingface.co/lvwerra/codeparrot-small](https://huggingface.co/https://huggingface.co/lvwerra/codeparrot-small)"
   ]
  }
 ],
 "metadata": {},
 "nbformat": 4,
 "nbformat_minor": 5
}
