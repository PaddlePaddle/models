{
 "cells": [
  {
   "cell_type": "markdown",
   "id": "357edd60",
   "metadata": {},
   "source": [
    "# Belgian GPT-2 🇧🇪\n",
    "\n",
    "**A GPT-2 model pre-trained on a very large and heterogeneous French corpus (~60Gb).**\n",
    "\n",
    "## Usage\n",
    "\n",
    "You can use BelGPT-2 with [🤗 transformers](https://github.com/huggingface/transformers):\n"
   ]
  },
  {
   "cell_type": "code",
   "execution_count": null,
   "id": "240d5369",
   "metadata": {},
   "outputs": [],
   "source": [
    "import paddle\n",
    "from paddlenlp.transformers import AutoModel\n",
    "\n",
    "model = AutoModel.from_pretrained(\"antoiloui/belgpt2\")\n",
    "input_ids = paddle.randint(100, 200, shape=[1, 20])\n",
    "print(model(input_ids))"
   ]
  },
  {
   "cell_type": "markdown",
   "id": "0cdee1ee",
   "metadata": {},
   "source": [
    "> 此模型来源于：[https://huggingface.co/antoiloui/belgpt2](https://huggingface.co/https://huggingface.co/antoiloui/belgpt2)"
   ]
  }
 ],
 "metadata": {},
 "nbformat": 4,
 "nbformat_minor": 5
}
