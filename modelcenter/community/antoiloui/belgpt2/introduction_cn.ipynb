{
 "cells": [
  {
   "cell_type": "markdown",
   "id": "2faf2312",
   "metadata": {},
   "source": [
    "# Belgian GPT-2 🇧🇪\n",
    "\n",
    "**A GPT-2 model pre-trained on a very large and heterogeneous French corpus (~60Gb).**\n",
    "\n",
    "## Usage\n",
    "\n",
    "You can use BelGPT-2 with [🤗 transformers](https://github.com/huggingface/transformers):\n"
   ]
  },
  {
   "cell_type": "code",
   "execution_count": null,
   "id": "e744aa95",
   "metadata": {},
   "outputs": [],
   "source": [
    "import paddle\n",
    "from paddlenlp.transformers import AutoModel\n",
    "\n",
    "model = AutoModel.from_pretrained(\"antoiloui/belgpt2\")\n",
    "input_ids = paddle.randint(100, 200, shape=[1, 20])\n",
    "print(model(input_ids))"
   ]
  },
  {
   "cell_type": "code",
   "execution_count": null,
   "id": "1275851d",
   "metadata": {},
   "outputs": [],
   "source": [
    "@misc{louis2020belgpt2,\n",
    "author = {Louis, Antoine},\n",
    "title = {{BelGPT-2: a GPT-2 model pre-trained on French corpora.}},\n",
    "year = {2020},\n",
    "howpublished = {\\url{https://github.com/antoiloui/belgpt2}},\n",
    "}\n"
   ]
  },
  {
   "cell_type": "markdown",
   "id": "87ae810e",
   "metadata": {},
   "source": [
    "> 此模型来源于：[https://huggingface.co/antoiloui/belgpt2](https://huggingface.co/https://huggingface.co/antoiloui/belgpt2)"
   ]
  }
 ],
 "metadata": {},
 "nbformat": 4,
 "nbformat_minor": 5
}
