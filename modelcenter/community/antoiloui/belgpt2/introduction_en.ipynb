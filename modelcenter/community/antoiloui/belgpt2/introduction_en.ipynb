{
 "cells": [
  {
   "cell_type": "markdown",
   "id": "54d338fb",
   "metadata": {},
   "source": [
    "# Belgian GPT-2 🇧🇪\n"
   ]
  },
  {
   "cell_type": "markdown",
   "id": "0f1e2f3d",
   "metadata": {},
   "source": [
    "**A GPT-2 model pre-trained on a very large and heterogeneous French corpus (~60Gb).**\n"
   ]
  },
  {
   "cell_type": "markdown",
   "id": "072f3bc8",
   "metadata": {},
   "source": [
    "## Usage\n"
   ]
  },
  {
   "cell_type": "markdown",
   "id": "68521ea7",
   "metadata": {},
   "source": [
    "You can use BelGPT-2 with [🤗 transformers](https://github.com/huggingface/transformers):\n"
   ]
  },
  {
   "cell_type": "code",
   "execution_count": null,
   "id": "b90ff7b2",
   "metadata": {},
   "outputs": [],
   "source": [
    "!pip install --upgrade paddlenlp"
   ]
  },
  {
   "cell_type": "code",
   "execution_count": null,
   "id": "088717fb",
   "metadata": {},
   "outputs": [],
   "source": [
    "import paddle\n",
    "from paddlenlp.transformers import AutoModel\n",
    "\n",
    "model = AutoModel.from_pretrained(\"antoiloui/belgpt2\")\n",
    "input_ids = paddle.randint(100, 200, shape=[1, 20])\n",
    "print(model(input_ids))"
   ]
  },
  {
   "cell_type": "markdown",
   "id": "cd79611a",
   "metadata": {},
   "source": [
    "@misc{louis2020belgpt2,\n",
    "author = {Louis, Antoine},\n",
    "title = {{BelGPT-2: a GPT-2 model pre-trained on French corpora.}},\n",
    "year = {2020},\n",
    "howpublished = {\\url{https://github.com/antoiloui/belgpt2}},\n",
    "}\n"
   ]
  },
  {
   "cell_type": "markdown",
   "id": "8e675984",
   "metadata": {},
   "source": [
    "> 此模型来源于：[https://huggingface.co/antoiloui/belgpt2](https://huggingface.co/https://huggingface.co/antoiloui/belgpt2)\n"
   ]
  }
 ],
 "metadata": {},
 "nbformat": 4,
 "nbformat_minor": 5
}
