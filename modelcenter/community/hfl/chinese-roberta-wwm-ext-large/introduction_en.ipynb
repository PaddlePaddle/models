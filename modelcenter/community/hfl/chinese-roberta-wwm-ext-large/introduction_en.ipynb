{
 "cells": [
  {
   "cell_type": "markdown",
   "id": "6292fa66",
   "metadata": {},
   "source": [
    "# Please use 'Bert' related functions to load this model!\n"
   ]
  },
  {
   "cell_type": "markdown",
   "id": "e5fff20b",
   "metadata": {},
   "source": [
    "## Chinese BERT with Whole Word Masking\n",
    "For further accelerating Chinese natural language processing, we provide **Chinese pre-trained BERT with Whole Word Masking**.\n"
   ]
  },
  {
   "cell_type": "markdown",
   "id": "09443fac",
   "metadata": {},
   "source": [
    "**[Pre-Training with Whole Word Masking for Chinese BERT](https://arxiv.org/abs/1906.08101)**\n",
    "Yiming Cui, Wanxiang Che, Ting Liu, Bing Qin, Ziqing Yang, Shijin Wang, Guoping Hu\n"
   ]
  },
  {
   "cell_type": "markdown",
   "id": "6dba4767",
   "metadata": {},
   "source": [
    "This repository is developed based on：https://github.com/google-research/bert\n"
   ]
  },
  {
   "cell_type": "markdown",
   "id": "451f870c",
   "metadata": {},
   "source": [
    "You may also interested in,\n",
    "- Chinese BERT series: https://github.com/ymcui/Chinese-BERT-wwm\n",
    "- Chinese MacBERT: https://github.com/ymcui/MacBERT\n",
    "- Chinese ELECTRA: https://github.com/ymcui/Chinese-ELECTRA\n",
    "- Chinese XLNet: https://github.com/ymcui/Chinese-XLNet\n",
    "- Knowledge Distillation Toolkit - TextBrewer: https://github.com/airaria/TextBrewer\n"
   ]
  },
  {
   "cell_type": "markdown",
   "id": "b76aaa99",
   "metadata": {},
   "source": [
    "More resources by HFL: https://github.com/ymcui/HFL-Anthology\n"
   ]
  },
  {
   "cell_type": "markdown",
   "id": "9b74f3e0",
   "metadata": {},
   "source": [
    "## Citation\n",
    "If you find the technical report or resource is useful, please cite the following technical report in your paper.\n",
    "- Primary: https://arxiv.org/abs/2004.13922\n"
   ]
  },
  {
   "cell_type": "code",
   "execution_count": null,
   "id": "b69d8448",
   "metadata": {},
   "outputs": [],
   "source": [
    "!pip install --upgrade paddlenlp"
   ]
  },
  {
   "cell_type": "code",
   "execution_count": null,
   "id": "db958af9",
   "metadata": {},
   "outputs": [],
   "source": [
    "import paddle\n",
    "from paddlenlp.transformers import AutoModel\n",
    "\n",
    "model = AutoModel.from_pretrained(\"hfl/chinese-roberta-wwm-ext-large\")\n",
    "input_ids = paddle.randint(100, 200, shape=[1, 20])\n",
    "print(model(input_ids))"
   ]
  },
  {
   "cell_type": "markdown",
   "id": "3994ddac",
   "metadata": {},
   "source": [
    "@article{chinese-bert-wwm,\n",
    "title={Pre-Training with Whole Word Masking for Chinese BERT},\n",
    "author={Cui, Yiming and Che, Wanxiang and Liu, Ting and Qin, Bing and Yang, Ziqing and Wang, Shijin and Hu, Guoping},\n",
    "journal={arXiv preprint arXiv:1906.08101},\n",
    "year={2019}\n",
    "}\n"
   ]
  },
  {
   "cell_type": "markdown",
   "id": "9a3ea76e",
   "metadata": {},
   "source": [
    "> 此模型来源于：[https://huggingface.co/hfl/chinese-roberta-wwm-ext-large](https://huggingface.co/https://huggingface.co/hfl/chinese-roberta-wwm-ext-large)\n"
   ]
  }
 ],
 "metadata": {},
 "nbformat": 4,
 "nbformat_minor": 5
}
