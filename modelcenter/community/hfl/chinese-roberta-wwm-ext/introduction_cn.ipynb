{
 "cells": [
  {
   "cell_type": "markdown",
   "id": "3eaa11b4",
   "metadata": {},
   "source": [
    "# Please use 'Bert' related functions to load this model!\n"
   ]
  },
  {
   "cell_type": "markdown",
   "id": "2be985e7",
   "metadata": {},
   "source": [
    "## Chinese BERT with Whole Word Masking\n",
    "For further accelerating Chinese natural language processing, we provide **Chinese pre-trained BERT with Whole Word Masking**.\n"
   ]
  },
  {
   "cell_type": "markdown",
   "id": "2ec8a56d",
   "metadata": {},
   "source": [
    "**[Pre-Training with Whole Word Masking for Chinese BERT](https://arxiv.org/abs/1906.08101)**\n",
    "Yiming Cui, Wanxiang Che, Ting Liu, Bing Qin, Ziqing Yang, Shijin Wang, Guoping Hu\n"
   ]
  },
  {
   "cell_type": "markdown",
   "id": "a193bc29",
   "metadata": {},
   "source": [
    "This repository is developed based on：https://github.com/google-research/bert\n"
   ]
  },
  {
   "cell_type": "markdown",
   "id": "960b09c3",
   "metadata": {},
   "source": [
    "You may also interested in,\n",
    "- Chinese BERT series: https://github.com/ymcui/Chinese-BERT-wwm\n",
    "- Chinese MacBERT: https://github.com/ymcui/MacBERT\n",
    "- Chinese ELECTRA: https://github.com/ymcui/Chinese-ELECTRA\n",
    "- Chinese XLNet: https://github.com/ymcui/Chinese-XLNet\n",
    "- Knowledge Distillation Toolkit - TextBrewer: https://github.com/airaria/TextBrewer\n"
   ]
  },
  {
   "cell_type": "markdown",
   "id": "12376a87",
   "metadata": {},
   "source": [
    "More resources by HFL: https://github.com/ymcui/HFL-Anthology\n"
   ]
  },
  {
   "cell_type": "markdown",
   "id": "187f9b8d",
   "metadata": {},
   "source": [
    "## Citation\n",
    "If you find the technical report or resource is useful, please cite the following technical report in your paper.\n",
    "- Primary: https://arxiv.org/abs/2004.13922\n"
   ]
  },
  {
   "cell_type": "code",
   "execution_count": null,
   "id": "e602b383",
   "metadata": {},
   "outputs": [],
   "source": [
    "!pip install --upgrade paddlenlp"
   ]
  },
  {
   "cell_type": "code",
   "execution_count": null,
   "id": "06044116",
   "metadata": {},
   "outputs": [],
   "source": [
    "import paddle\n",
    "from paddlenlp.transformers import AutoModel\n",
    "\n",
    "model = AutoModel.from_pretrained(\"hfl/chinese-roberta-wwm-ext\")\n",
    "input_ids = paddle.randint(100, 200, shape=[1, 20])\n",
    "print(model(input_ids))"
   ]
  },
  {
   "cell_type": "markdown",
   "id": "5f04628b",
   "metadata": {},
   "source": [
    "@article{chinese-bert-wwm,\n",
    "title={Pre-Training with Whole Word Masking for Chinese BERT},\n",
    "author={Cui, Yiming and Che, Wanxiang and Liu, Ting and Qin, Bing and Yang, Ziqing and Wang, Shijin and Hu, Guoping},\n",
    "journal={arXiv preprint arXiv:1906.08101},\n",
    "year={2019}\n",
    "}\n"
   ]
  },
  {
   "cell_type": "markdown",
   "id": "ef511267",
   "metadata": {},
   "source": [
    "> 此模型来源于：[https://huggingface.co/hfl/chinese-roberta-wwm-ext](https://huggingface.co/https://huggingface.co/hfl/chinese-roberta-wwm-ext)\n"
   ]
  }
 ],
 "metadata": {},
 "nbformat": 4,
 "nbformat_minor": 5
}
