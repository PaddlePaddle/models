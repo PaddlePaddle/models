{
 "cells": [
  {
   "cell_type": "markdown",
   "id": "f983c5cf",
   "metadata": {},
   "source": [
    "[Google's T5](https://ai.googleblog.com/2020/02/exploring-transfer-learning-with-t5.html) for **Closed Book Question Answering**.\n"
   ]
  },
  {
   "cell_type": "markdown",
   "id": "03976028",
   "metadata": {},
   "source": [
    "The model was pre-trained using T5's denoising objective on [C4](https://huggingface.co/datasets/c4), subsequently additionally pre-trained using [REALM](https://arxiv.org/pdf/2002.08909.pdf)'s salient span masking objective on [Wikipedia](https://huggingface.co/datasets/wikipedia), and finally fine-tuned on [Natural Questions (NQ)](https://huggingface.co/datasets/natural_questions).\n"
   ]
  },
  {
   "cell_type": "markdown",
   "id": "c6dad7f2",
   "metadata": {},
   "source": [
    "**Note**: The model was fine-tuned on 100% of the train splits of [Natural Questions (NQ)](https://huggingface.co/datasets/natural_questions) for 10k steps.\n"
   ]
  },
  {
   "cell_type": "markdown",
   "id": "3997832f",
   "metadata": {},
   "source": [
    "Other community Checkpoints: [here](https://huggingface.co/models?search=ssm)\n"
   ]
  },
  {
   "cell_type": "markdown",
   "id": "ef35da14",
   "metadata": {},
   "source": [
    "Paper: [How Much Knowledge Can You Pack\n",
    "Into the Parameters of a Language Model?](https://arxiv.org/abs/1910.10683.pdf)\n"
   ]
  },
  {
   "cell_type": "markdown",
   "id": "b7c75c1e",
   "metadata": {},
   "source": [
    "Authors: *Adam Roberts, Colin Raffel, Noam Shazeer*\n"
   ]
  },
  {
   "cell_type": "markdown",
   "id": "0afc1573",
   "metadata": {},
   "source": [
    "## Results on Natural Questions - Test Set\n"
   ]
  },
  {
   "cell_type": "markdown",
   "id": "7aeb4a98",
   "metadata": {},
   "source": [
    "|Id | link | Exact Match  |\n",
    "|---|---|---|\n",
    "|**T5-small**|**https://huggingface.co/google/t5-small-ssm-nq**|**25.5**|\n",
    "|T5-large|https://huggingface.co/google/t5-large-ssm-nq|30.4|\n",
    "|T5-xl|https://huggingface.co/google/t5-xl-ssm-nq|35.6|\n",
    "|T5-xxl|https://huggingface.co/google/t5-xxl-ssm-nq|37.9|\n",
    "|T5-3b|https://huggingface.co/google/t5-3b-ssm-nq|33.2|\n",
    "|T5-11b|https://huggingface.co/google/t5-11b-ssm-nq|36.6|\n"
   ]
  },
  {
   "cell_type": "markdown",
   "id": "4e237875",
   "metadata": {},
   "source": [
    "## Usage\n"
   ]
  },
  {
   "cell_type": "markdown",
   "id": "a16b27ec",
   "metadata": {},
   "source": [
    "The model can be used as follows for **closed book question answering**:\n"
   ]
  },
  {
   "cell_type": "code",
   "execution_count": null,
   "id": "e5c944ff",
   "metadata": {},
   "outputs": [],
   "source": [
    "!pip install --upgrade paddlenlp"
   ]
  },
  {
   "cell_type": "code",
   "execution_count": null,
   "id": "709c91ec",
   "metadata": {},
   "outputs": [],
   "source": [
    "import paddle\n",
    "from paddlenlp.transformers import AutoModel\n",
    "\n",
    "model = AutoModel.from_pretrained(\"google/t5-small-ssm-nq\")\n",
    "input_ids = paddle.randint(100, 200, shape=[1, 20])\n",
    "print(model(input_ids))"
   ]
  },
  {
   "cell_type": "markdown",
   "id": "9825804d",
   "metadata": {},
   "source": [
    "## Abstract\n"
   ]
  },
  {
   "cell_type": "markdown",
   "id": "90f5cac6",
   "metadata": {},
   "source": [
    "It has recently been observed that neural language models trained on unstructured text can implicitly store and retrieve knowledge using natural language queries. In this short paper, we measure the practical utility of this approach by fine-tuning pre-trained models to answer questions without access to any external context or knowledge. We show that this approach scales with model size and performs competitively with open-domain systems that explicitly retrieve answers from an external knowledge source when answering questions. To facilitate reproducibility and future work, we release our code and trained models at https://goo.gle/t5-cbqa.\n"
   ]
  },
  {
   "cell_type": "markdown",
   "id": "7e446ebc",
   "metadata": {},
   "source": [
    "![model image](https://raw.githubusercontent.com/patrickvonplaten/scientific_images/master/how_much_know_ledge_image.png)\n",
    "> 此模型来源于：[https://huggingface.co/google/t5-small-ssm-nq](https://huggingface.co/https://huggingface.co/google/t5-small-ssm-nq)\n"
   ]
  }
 ],
 "metadata": {},
 "nbformat": 4,
 "nbformat_minor": 5
}
