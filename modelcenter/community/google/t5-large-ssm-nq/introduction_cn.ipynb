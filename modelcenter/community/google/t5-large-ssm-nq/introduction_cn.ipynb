{
 "cells": [
  {
   "cell_type": "markdown",
   "id": "676692e8",
   "metadata": {},
   "source": [
    "[Google's T5](https://ai.googleblog.com/2020/02/exploring-transfer-learning-with-t5.html) for **Closed Book Question Answering**.\n",
    "\n",
    "The model was pre-trained using T5's denoising objective on [C4](https://huggingface.co/datasets/c4), subsequently additionally pre-trained using [REALM](https://arxiv.org/pdf/2002.08909.pdf)'s salient span masking objective on [Wikipedia](https://huggingface.co/datasets/wikipedia), and finally fine-tuned on [Natural Questions (NQ)](https://huggingface.co/datasets/natural_questions).\n",
    "\n",
    "**Note**: The model was fine-tuned on 100% of the train splits of [Natural Questions (NQ)](https://huggingface.co/datasets/natural_questions) for 10k steps.\n",
    "\n",
    "Other community Checkpoints: [here](https://huggingface.co/models?search=ssm)\n",
    "\n",
    "Paper: [How Much Knowledge Can You Pack\n",
    "Into the Parameters of a Language Model?](https://arxiv.org/abs/1910.10683.pdf)\n",
    "\n",
    "Authors: *Adam Roberts, Colin Raffel, Noam Shazeer*\n",
    "\n",
    "## Results on Natural Questions - Test Set\n",
    "\n",
    "|Id | link | Exact Match  |\n",
    "|---|---|---|\n",
    "|T5-small|https://huggingface.co/google/t5-small-ssm-nq|25.5|\n",
    "|**T5-large**|**https://huggingface.co/google/t5-large-ssm-nq**|**30.4**|\n",
    "|T5-xl|https://huggingface.co/google/t5-xl-ssm-nq|35.6|\n",
    "|T5-xxl|https://huggingface.co/google/t5-xxl-ssm-nq|37.9|\n",
    "|T5-3b|https://huggingface.co/google/t5-3b-ssm-nq|33.2|\n",
    "|T5-11b|https://huggingface.co/google/t5-11b-ssm-nq|36.6|\n",
    "\n",
    "## Usage\n",
    "\n",
    "The model can be used as follows for **closed book question answering**:\n"
   ]
  },
  {
   "cell_type": "code",
   "execution_count": null,
   "id": "1416bd95",
   "metadata": {},
   "outputs": [],
   "source": [
    "import paddle\n",
    "from paddlenlp.transformers import AutoModel\n",
    "\n",
    "model = AutoModel.from_pretrained(\"google/t5-large-ssm-nq\")\n",
    "input_ids = paddle.randint(100, 200, shape=[1, 20])\n",
    "print(model(input_ids))"
   ]
  },
  {
   "cell_type": "markdown",
   "id": "b1def080",
   "metadata": {},
   "source": [
    "## Abstract\n",
    "\n",
    "It has recently been observed that neural language models trained on unstructured text can implicitly store and retrieve knowledge using natural language queries. In this short paper, we measure the practical utility of this approach by fine-tuning pre-trained models to answer questions without access to any external context or knowledge. We show that this approach scales with model size and performs competitively with open-domain systems that explicitly retrieve answers from an external knowledge source when answering questions. To facilitate reproducibility and future work, we release our code and trained models at https://goo.gle/t5-cbqa.\n",
    "\n",
    "![model image](https://raw.githubusercontent.com/patrickvonplaten/scientific_images/master/how_much_know_ledge_image.png)\n",
    "> 此模型来源于：[https://huggingface.co/google/t5-large-ssm-nq](https://huggingface.co/https://huggingface.co/google/t5-large-ssm-nq)"
   ]
  }
 ],
 "metadata": {},
 "nbformat": 4,
 "nbformat_minor": 5
}
