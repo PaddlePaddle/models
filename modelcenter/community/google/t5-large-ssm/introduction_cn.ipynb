{
 "cells": [
  {
   "cell_type": "markdown",
   "id": "54310216",
   "metadata": {},
   "source": [
    "[Google's T5](https://ai.googleblog.com/2020/02/exploring-transfer-learning-with-t5.html) for **Closed Book Question Answering**.\n",
    "\n",
    "The model was pre-trained using T5's denoising objective on [C4](https://huggingface.co/datasets/c4) and subsequently additionally pre-trained using [REALM](https://arxiv.org/pdf/2002.08909.pdf)'s salient span masking objective on [Wikipedia](https://huggingface.co/datasets/wikipedia).\n",
    "\n",
    "**Note**: This model should be fine-tuned on a question answering downstream task before it is useable for closed book question answering.\n",
    "\n",
    "Other Community Checkpoints: [here](https://huggingface.co/models?search=ssm)\n",
    "\n",
    "Paper: [How Much Knowledge Can You Pack\n",
    "Into the Parameters of a Language Model?](https://arxiv.org/abs/1910.10683.pdf)\n",
    "\n",
    "Authors: *Adam Roberts, Colin Raffel, Noam Shazeer*\n",
    "\n",
    "\n",
    "## Abstract\n",
    "\n",
    "It has recently been observed that neural language models trained on unstructured text can implicitly store and retrieve knowledge using natural language queries. In this short paper, we measure the practical utility of this approach by fine-tuning pre-trained models to answer questions without access to any external context or knowledge. We show that this approach scales with model size and performs competitively with open-domain systems that explicitly retrieve answers from an external knowledge source when answering questions. To facilitate reproducibility and future work, we release our code and trained models at https://goo.gle/t5-cbqa.\n",
    "\n",
    "![model image](https://raw.githubusercontent.com/patrickvonplaten/scientific_images/master/how_much_know_ledge_image.png)\n",
    "> 此模型介绍及权重来源于[https://huggingface.co/google/t5-large-ssm](https://huggingface.co/google/t5-large-ssm)，并转换为飞桨模型格式"
   ]
  },
  {
   "cell_type": "markdown",
   "id": "fc29fee4",
   "metadata": {},
   "source": [
    "## How to use"
   ]
  },
  {
   "cell_type": "code",
   "execution_count": null,
   "id": "1968769d",
   "metadata": {},
   "outputs": [],
   "source": [
    "!pip install --upgrade paddlenlp"
   ]
  },
  {
   "cell_type": "code",
   "execution_count": null,
   "id": "c746ff58",
   "metadata": {},
   "outputs": [],
   "source": [
    "import paddle\n",
    "from paddlenlp.transformers import AutoModel\n",
    "\n",
    "model = AutoModel.from_pretrained(\"google/t5-large-ssm\")\n",
    "input_ids = paddle.randint(100, 200, shape=[1, 20])\n",
    "print(model(input_ids))"
   ]
  }
 ],
 "metadata": {
  "kernelspec": {
   "display_name": "Python 3 (ipykernel)",
   "language": "python",
   "name": "python3"
  },
  "language_info": {
   "codemirror_mode": {
    "name": "ipython",
    "version": 3
   },
   "file_extension": ".py",
   "mimetype": "text/x-python",
   "name": "python",
   "nbconvert_exporter": "python",
   "pygments_lexer": "ipython3",
   "version": "3.8.13"
  }
 },
 "nbformat": 4,
 "nbformat_minor": 5
}
