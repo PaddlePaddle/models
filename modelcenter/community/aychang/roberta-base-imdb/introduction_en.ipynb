{
 "cells": [
  {
   "cell_type": "markdown",
   "id": "76158134",
   "metadata": {},
   "source": [
    "# IMDB Sentiment Task: roberta-base\n"
   ]
  },
  {
   "cell_type": "markdown",
   "id": "5127475d",
   "metadata": {},
   "source": [
    "## Model description\n"
   ]
  },
  {
   "cell_type": "markdown",
   "id": "93365400",
   "metadata": {},
   "source": [
    "A simple base roBERTa model trained on the \"imdb\" dataset.\n"
   ]
  },
  {
   "cell_type": "markdown",
   "id": "4529b44e",
   "metadata": {},
   "source": [
    "## Intended uses & limitations\n"
   ]
  },
  {
   "cell_type": "markdown",
   "id": "dc7c4f2d",
   "metadata": {},
   "source": [
    "#### How to use\n"
   ]
  },
  {
   "cell_type": "markdown",
   "id": "36f3402e",
   "metadata": {},
   "source": [
    "##### Transformers\n"
   ]
  },
  {
   "cell_type": "code",
   "execution_count": null,
   "id": "b3141ac5",
   "metadata": {},
   "outputs": [],
   "source": [
    "!pip install --upgrade paddlenlp"
   ]
  },
  {
   "cell_type": "code",
   "execution_count": null,
   "id": "32937f32",
   "metadata": {},
   "outputs": [],
   "source": [
    "import paddle\n",
    "from paddlenlp.transformers import AutoModel\n",
    "\n",
    "model = AutoModel.from_pretrained(\"aychang/roberta-base-imdb\")\n",
    "input_ids = paddle.randint(100, 200, shape=[1, 20])\n",
    "print(model(input_ids))"
   ]
  },
  {
   "cell_type": "markdown",
   "id": "2c9afc1f",
   "metadata": {},
   "source": [
    "{'epoch': 2.0,\n",
    "'eval_accuracy': 0.94668,\n",
    "'eval_f1': array([0.94603457, 0.94731017]),\n",
    "'eval_loss': 0.2578844428062439,\n",
    "'eval_precision': array([0.95762642, 0.93624502]),\n",
    "'eval_recall': array([0.93472, 0.95864]),\n",
    "'eval_runtime': 244.7522,\n",
    "'eval_samples_per_second': 102.144}\n"
   ]
  },
  {
   "cell_type": "markdown",
   "id": "704cfba9",
   "metadata": {},
   "source": [
    "> 此模型来源于：[https://huggingface.co/aychang/roberta-base-imdb](https://huggingface.co/https://huggingface.co/aychang/roberta-base-imdb)\n"
   ]
  }
 ],
 "metadata": {},
 "nbformat": 4,
 "nbformat_minor": 5
}
