{
 "cells": [
  {
   "cell_type": "markdown",
   "id": "df78952e",
   "metadata": {},
   "source": [
    "# IMDB Sentiment Task: roberta-base\n",
    "\n",
    "## Model description\n",
    "\n",
    "A simple base roBERTa model trained on the \"imdb\" dataset.\n",
    "\n",
    "## Intended uses & limitations\n",
    "\n",
    "#### How to use\n",
    "\n",
    "##### Transformers\n"
   ]
  },
  {
   "cell_type": "code",
   "execution_count": null,
   "id": "05b96b51",
   "metadata": {},
   "outputs": [],
   "source": [
    "import paddle\n",
    "from paddlenlp.transformers import AutoModel\n",
    "\n",
    "model = AutoModel.from_pretrained(\"aychang/roberta-base-imdb\")\n",
    "input_ids = paddle.randint(100, 200, shape=[1, 20])\n",
    "print(model(input_ids))"
   ]
  },
  {
   "cell_type": "code",
   "execution_count": null,
   "id": "0f686617",
   "metadata": {},
   "outputs": [],
   "source": [
    "{'epoch': 2.0,\n",
    "'eval_accuracy': 0.94668,\n",
    "'eval_f1': array([0.94603457, 0.94731017]),\n",
    "'eval_loss': 0.2578844428062439,\n",
    "'eval_precision': array([0.95762642, 0.93624502]),\n",
    "'eval_recall': array([0.93472, 0.95864]),\n",
    "'eval_runtime': 244.7522,\n",
    "'eval_samples_per_second': 102.144}\n"
   ]
  },
  {
   "cell_type": "markdown",
   "id": "cf90fcaf",
   "metadata": {},
   "source": [
    "> 此模型来源于：[https://huggingface.co/aychang/roberta-base-imdb](https://huggingface.co/https://huggingface.co/aychang/roberta-base-imdb)"
   ]
  }
 ],
 "metadata": {},
 "nbformat": 4,
 "nbformat_minor": 5
}
