{
 "cells": [
  {
   "cell_type": "markdown",
   "id": "ceab1f6c",
   "metadata": {},
   "source": [
    "# IMDB Sentiment Task: roberta-base\n",
    "\n",
    "## Model description\n",
    "\n",
    "A simple base roBERTa model trained on the \"imdb\" dataset.\n",
    "\n",
    "## Intended uses & limitations\n",
    "\n",
    "#### How to use\n",
    "\n",
    "##### Transformers\n"
   ]
  },
  {
   "cell_type": "code",
   "execution_count": null,
   "id": "23ecfbef",
   "metadata": {},
   "outputs": [],
   "source": [
    "import paddle\n",
    "from paddlenlp.transformers import AutoModel\n",
    "\n",
    "model = AutoModel.from_pretrained(\"aychang/roberta-base-imdb\")\n",
    "input_ids = paddle.randint(100, 200, shape=[1, 20])\n",
    "print(model(input_ids))"
   ]
  },
  {
   "cell_type": "markdown",
   "id": "ab5d533d",
   "metadata": {},
   "source": [
    "> 此模型来源于：[https://huggingface.co/aychang/roberta-base-imdb](https://huggingface.co/https://huggingface.co/aychang/roberta-base-imdb)"
   ]
  }
 ],
 "metadata": {},
 "nbformat": 4,
 "nbformat_minor": 5
}
