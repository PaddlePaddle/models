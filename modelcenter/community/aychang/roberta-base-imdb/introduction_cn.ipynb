{
 "cells": [
  {
   "cell_type": "markdown",
   "id": "7ef9549c",
   "metadata": {},
   "source": [
    "# IMDB Sentiment Task: roberta-base\n"
   ]
  },
  {
   "cell_type": "markdown",
   "id": "d70d2106",
   "metadata": {},
   "source": [
    "## Model description\n"
   ]
  },
  {
   "cell_type": "markdown",
   "id": "db340f1e",
   "metadata": {},
   "source": [
    "A simple base roBERTa model trained on the \"imdb\" dataset.\n"
   ]
  },
  {
   "cell_type": "markdown",
   "id": "ebc37df2",
   "metadata": {},
   "source": [
    "## Intended uses & limitations\n"
   ]
  },
  {
   "cell_type": "markdown",
   "id": "894cd5ba",
   "metadata": {},
   "source": [
    "#### How to use\n"
   ]
  },
  {
   "cell_type": "markdown",
   "id": "a2010926",
   "metadata": {},
   "source": [
    "##### Transformers\n"
   ]
  },
  {
   "cell_type": "code",
   "execution_count": null,
   "id": "e42b2788",
   "metadata": {},
   "outputs": [],
   "source": [
    "!pip install --upgrade paddlenlp"
   ]
  },
  {
   "cell_type": "code",
   "execution_count": null,
   "id": "030c934c",
   "metadata": {},
   "outputs": [],
   "source": [
    "import paddle\n",
    "from paddlenlp.transformers import AutoModel\n",
    "\n",
    "model = AutoModel.from_pretrained(\"aychang/roberta-base-imdb\")\n",
    "input_ids = paddle.randint(100, 200, shape=[1, 20])\n",
    "print(model(input_ids))"
   ]
  },
  {
   "cell_type": "markdown",
   "id": "ed31be33",
   "metadata": {},
   "source": [
    "{'epoch': 2.0,\n",
    "'eval_accuracy': 0.94668,\n",
    "'eval_f1': array([0.94603457, 0.94731017]),\n",
    "'eval_loss': 0.2578844428062439,\n",
    "'eval_precision': array([0.95762642, 0.93624502]),\n",
    "'eval_recall': array([0.93472, 0.95864]),\n",
    "'eval_runtime': 244.7522,\n",
    "'eval_samples_per_second': 102.144}\n"
   ]
  },
  {
   "cell_type": "markdown",
   "id": "94291f84",
   "metadata": {},
   "source": [
    "> 此模型来源于：[https://huggingface.co/aychang/roberta-base-imdb](https://huggingface.co/https://huggingface.co/aychang/roberta-base-imdb)\n"
   ]
  }
 ],
 "metadata": {},
 "nbformat": 4,
 "nbformat_minor": 5
}
