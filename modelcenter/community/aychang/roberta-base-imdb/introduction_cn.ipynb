{
 "cells": [
  {
   "cell_type": "markdown",
   "id": "a1802c2f",
   "metadata": {},
   "source": [
    "# IMDB Sentiment Task: roberta-base\n",
    "\n",
    "## Model description\n",
    "\n",
    "A simple base roBERTa model trained on the \"imdb\" dataset.\n",
    "\n",
    "## Intended uses & limitations\n",
    "\n",
    "#### How to use\n",
    "\n",
    "##### Transformers\n"
   ]
  },
  {
   "cell_type": "code",
   "execution_count": null,
   "id": "6cfb5a56",
   "metadata": {},
   "outputs": [],
   "source": [
    "import paddle\n",
    "from paddlenlp.transformers import AutoModel\n",
    "\n",
    "model = AutoModel.from_pretrained(\"aychang/roberta-base-imdb\")\n",
    "input_ids = paddle.randint(100, 200, shape=[1, 20])\n",
    "print(model(input_ids))"
   ]
  },
  {
   "cell_type": "markdown",
   "id": "12deb0ae",
   "metadata": {},
   "source": [
    "> 此模型来源于：[https://huggingface.co/aychang/roberta-base-imdb](https://huggingface.co/https://huggingface.co/aychang/roberta-base-imdb)"
   ]
  }
 ],
 "metadata": {},
 "nbformat": 4,
 "nbformat_minor": 5
}
