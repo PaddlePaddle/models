{
 "cells": [
  {
   "cell_type": "markdown",
   "id": "abd0187a",
   "metadata": {},
   "source": [
    "# GPT-2 Large\n",
    "\n",
    "## Table of Contents\n",
    "- [Model Details](#model-details)\n",
    "- [How To Get Started With the Model](#how-to-get-started-with-the-model)\n",
    "- [Uses](#uses)\n",
    "- [Risks, Limitations and Biases](#risks-limitations-and-biases)\n",
    "- [Training](#training)\n",
    "- [Evaluation](#evaluation)\n",
    "- [Environmental Impact](#environmental-impact)\n",
    "- [Technical Specifications](#technical-specifications)\n",
    "- [Citation Information](#citation-information)\n",
    "- [Model Card Authors](#model-card-author)\n",
    "\n",
    "## Model Details\n",
    "\n",
    "**Model Description:** GPT-2 Large is the **774M parameter** version of GPT-2, a transformer-based language model created and released by OpenAI. The model is a pretrained model on English language using a causal language modeling (CLM) objective.\n",
    "\n",
    "- **Developed by:** OpenAI, see [associated research paper](https://d4mucfpksywv.cloudfront.net/better-language-models/language_models_are_unsupervised_multitask_learners.pdf) and [GitHub repo](https://github.com/openai/gpt-2) for model developers.\n",
    "- **Model Type:** Transformer-based language model\n",
    "- **Language(s):** English\n",
    "- **License:** [Modified MIT License](https://github.com/openai/gpt-2/blob/master/LICENSE)\n",
    "- **Related Models:** [GPT-2](https://huggingface.co/gpt2), [GPT-Medium](https://huggingface.co/gpt2-medium) and [GPT-XL](https://huggingface.co/gpt2-xl)\n",
    "- **Resources for more information:**\n",
    "- [Research Paper](https://d4mucfpksywv.cloudfront.net/better-language-models/language_models_are_unsupervised_multitask_learners.pdf)\n",
    "- [OpenAI Blog Post](https://openai.com/blog/better-language-models/)\n",
    "- [GitHub Repo](https://github.com/openai/gpt-2)\n",
    "- [OpenAI Model Card for GPT-2](https://github.com/openai/gpt-2/blob/master/model_card.md)\n",
    "- Test the full generation capabilities here: https://transformer.huggingface.co/doc/gpt2-large\n",
    "\n",
    "## How to Get Started with the Model\n",
    "\n",
    "Use the code below to get started with the model. You can use this model directly with a pipeline for text generation. Since the generation relies on some randomness, we\n",
    "set a seed for reproducibility:\n"
   ]
  },
  {
   "cell_type": "markdown",
   "id": "4429f6f7",
   "metadata": {},
   "source": [
    "> 详细请看 [GPT in PaddleNLP](https://github.com/PaddlePaddle/PaddleNLP/blob/develop/model_zoo/gpt/README.md)"
   ]
  },
  {
   "cell_type": "code",
   "execution_count": null,
   "id": "092669f7",
   "metadata": {},
   "outputs": [],
   "source": [
    "import paddle\n",
    "from paddlenlp.transformers import AutoModel\n",
    "\n",
    "model = AutoModel.from_pretrained(\"gpt2-large\")\n",
    "input_ids = paddle.randint(100, 200, shape=[1, 20])\n",
    "print(model(input_ids))"
   ]
  },
  {
   "cell_type": "markdown",
   "id": "1e208602",
   "metadata": {},
   "source": [
    "## Model Card Authors\n",
    "\n",
    "This model card was written by the Hugging Face team.\n",
    "> 此模型来源于：[https://huggingface.co/gpt2-large](https://huggingface.co/https://huggingface.co/gpt2-large)"
   ]
  }
 ],
 "metadata": {
  "language_info": {
   "name": "python"
  }
 },
 "nbformat": 4,
 "nbformat_minor": 5
}
