{
 "cells": [
  {
   "cell_type": "markdown",
   "id": "9a570494",
   "metadata": {},
   "source": [
    "# bert-base-spanish-wwm-cased-xnli\n"
   ]
  },
  {
   "cell_type": "markdown",
   "id": "bec53c46",
   "metadata": {},
   "source": [
    "**UPDATE, 15.10.2021: Check out our new zero-shot classifiers, much more lightweight and even outperforming this one: [zero-shot SELECTRA small](https://huggingface.co/Recognai/zeroshot_selectra_small) and [zero-shot SELECTRA medium](https://huggingface.co/Recognai/zeroshot_selectra_medium).**\n"
   ]
  },
  {
   "cell_type": "markdown",
   "id": "73c3f298",
   "metadata": {},
   "source": [
    "## Model description\n"
   ]
  },
  {
   "cell_type": "markdown",
   "id": "c5048bb5",
   "metadata": {},
   "source": [
    "This model is a fine-tuned version of the [spanish BERT model](https://huggingface.co/dccuchile/bert-base-spanish-wwm-cased) with the Spanish portion of the XNLI dataset. You can have a look at the [training script](https://huggingface.co/Recognai/bert-base-spanish-wwm-cased-xnli/blob/main/zeroshot_training_script.py) for details of the training.\n"
   ]
  },
  {
   "cell_type": "markdown",
   "id": "218eb5f4",
   "metadata": {},
   "source": [
    "### How to use\n"
   ]
  },
  {
   "cell_type": "markdown",
   "id": "74e03f2f",
   "metadata": {},
   "source": [
    "You can use this model with Hugging Face's [zero-shot-classification pipeline](https://discuss.huggingface.co/t/new-pipeline-for-zero-shot-text-classification/681):\n"
   ]
  },
  {
   "cell_type": "code",
   "execution_count": null,
   "id": "cabf5ef6",
   "metadata": {},
   "outputs": [],
   "source": [
    "!pip install --upgrade paddlenlp"
   ]
  },
  {
   "cell_type": "code",
   "execution_count": null,
   "id": "a19be8c7",
   "metadata": {},
   "outputs": [],
   "source": [
    "import paddle\n",
    "from paddlenlp.transformers import AutoModel\n",
    "\n",
    "model = AutoModel.from_pretrained(\"Recognai/bert-base-spanish-wwm-cased-xnli\")\n",
    "input_ids = paddle.randint(100, 200, shape=[1, 20])\n",
    "print(model(input_ids))"
   ]
  },
  {
   "cell_type": "markdown",
   "id": "5ac07f24",
   "metadata": {},
   "source": [
    "## Eval results\n"
   ]
  },
  {
   "cell_type": "markdown",
   "id": "befc81c1",
   "metadata": {},
   "source": [
    "Accuracy for the test set:\n"
   ]
  },
  {
   "cell_type": "markdown",
   "id": "cb4d8242",
   "metadata": {},
   "source": [
    "|                             | XNLI-es |\n",
    "|-----------------------------|---------|\n",
    "|bert-base-spanish-wwm-cased-xnli | 79.9% |\n",
    "> 此模型来源于：[https://huggingface.co/Recognai/bert-base-spanish-wwm-cased-xnli](https://huggingface.co/https://huggingface.co/Recognai/bert-base-spanish-wwm-cased-xnli)\n"
   ]
  }
 ],
 "metadata": {},
 "nbformat": 4,
 "nbformat_minor": 5
}
