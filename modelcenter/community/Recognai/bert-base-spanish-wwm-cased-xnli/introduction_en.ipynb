{
 "cells": [
  {
   "cell_type": "markdown",
   "id": "7a8a1587",
   "metadata": {},
   "source": [
    "# bert-base-spanish-wwm-cased-xnli\n"
   ]
  },
  {
   "cell_type": "markdown",
   "id": "210c8e3a",
   "metadata": {},
   "source": [
    "## Model description\n"
   ]
  },
  {
   "cell_type": "markdown",
   "id": "fe16ef03",
   "metadata": {},
   "source": [
    "This model is a fine-tuned version of the spanish BERT model with the Spanish portion of the XNLI dataset.\n"
   ]
  },
  {
   "cell_type": "markdown",
   "id": "b23d27b0",
   "metadata": {},
   "source": [
    "## How to use\n"
   ]
  },
  {
   "cell_type": "code",
   "execution_count": null,
   "id": "37e5b840",
   "metadata": {},
   "outputs": [],
   "source": [
    "!pip install --upgrade paddlenlp"
   ]
  },
  {
   "cell_type": "code",
   "execution_count": null,
   "id": "117b1e15",
   "metadata": {},
   "outputs": [],
   "source": [
    "import paddle\n",
    "from paddlenlp.transformers import AutoModel\n",
    "\n",
    "model = AutoModel.from_pretrained(\"Recognai/bert-base-spanish-wwm-cased-xnli\")\n",
    "input_ids = paddle.randint(100, 200, shape=[1, 20])\n",
    "print(model(input_ids))"
   ]
  },
  {
   "cell_type": "markdown",
   "id": "65669489",
   "metadata": {},
   "source": [
    "## Eval results\n",
    "\n",
    "Accuracy for the test set:\n",
    "\n",
    "|                             | XNLI-es |\n",
    "|-----------------------------|---------|\n",
    "|bert-base-spanish-wwm-cased-xnli | 79.9% |\n",
    "\n",
    "> The model introduction and model weights originate from https://huggingface.co/Recognai/bert-base-spanish-wwm-cased-xnli and were converted to PaddlePaddle format for ease of use in PaddleNLP."
   ]
  }
 ],
 "metadata": {
  "kernelspec": {
   "display_name": "Python 3 (ipykernel)",
   "language": "python",
   "name": "python3"
  },
  "language_info": {
   "codemirror_mode": {
    "name": "ipython",
    "version": 3
   },
   "file_extension": ".py",
   "mimetype": "text/x-python",
   "name": "python",
   "nbconvert_exporter": "python",
   "pygments_lexer": "ipython3",
   "version": "3.7.13"
  }
 },
 "nbformat": 4,
 "nbformat_minor": 5
}
