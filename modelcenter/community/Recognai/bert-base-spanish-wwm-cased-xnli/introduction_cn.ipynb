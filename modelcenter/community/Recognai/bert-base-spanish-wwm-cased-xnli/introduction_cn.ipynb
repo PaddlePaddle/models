{
 "cells": [
  {
   "cell_type": "markdown",
   "id": "0b1e9532",
   "metadata": {},
   "source": [
    "# bert-base-spanish-wwm-cased-xnli\n"
   ]
  },
  {
   "cell_type": "markdown",
   "id": "e953fc8b",
   "metadata": {},
   "source": [
    "**UPDATE, 15.10.2021: Check out our new zero-shot classifiers, much more lightweight and even outperforming this one: [zero-shot SELECTRA small](https://huggingface.co/Recognai/zeroshot_selectra_small) and [zero-shot SELECTRA medium](https://huggingface.co/Recognai/zeroshot_selectra_medium).**\n"
   ]
  },
  {
   "cell_type": "markdown",
   "id": "2b09a9af",
   "metadata": {},
   "source": [
    "## Model description\n"
   ]
  },
  {
   "cell_type": "markdown",
   "id": "e348457b",
   "metadata": {},
   "source": [
    "This model is a fine-tuned version of the [spanish BERT model](https://huggingface.co/dccuchile/bert-base-spanish-wwm-cased) with the Spanish portion of the XNLI dataset. You can have a look at the [training script](https://huggingface.co/Recognai/bert-base-spanish-wwm-cased-xnli/blob/main/zeroshot_training_script.py) for details of the training.\n"
   ]
  },
  {
   "cell_type": "markdown",
   "id": "6643a3b7",
   "metadata": {},
   "source": [
    "### How to use\n"
   ]
  },
  {
   "cell_type": "markdown",
   "id": "f7e52df7",
   "metadata": {},
   "source": [
    "You can use this model with Hugging Face's [zero-shot-classification pipeline](https://discuss.huggingface.co/t/new-pipeline-for-zero-shot-text-classification/681):\n"
   ]
  },
  {
   "cell_type": "code",
   "execution_count": null,
   "id": "8475d429",
   "metadata": {},
   "outputs": [],
   "source": [
    "!pip install --upgrade paddlenlp"
   ]
  },
  {
   "cell_type": "code",
   "execution_count": null,
   "id": "ced3e559",
   "metadata": {},
   "outputs": [],
   "source": [
    "import paddle\n",
    "from paddlenlp.transformers import AutoModel\n",
    "\n",
    "model = AutoModel.from_pretrained(\"Recognai/bert-base-spanish-wwm-cased-xnli\")\n",
    "input_ids = paddle.randint(100, 200, shape=[1, 20])\n",
    "print(model(input_ids))"
   ]
  },
  {
   "cell_type": "markdown",
   "id": "47419faf",
   "metadata": {},
   "source": [
    "## Eval results\n"
   ]
  },
  {
   "cell_type": "markdown",
   "id": "9b87e64b",
   "metadata": {},
   "source": [
    "Accuracy for the test set:\n"
   ]
  },
  {
   "cell_type": "markdown",
   "id": "7be74f6f",
   "metadata": {},
   "source": [
    "|                             | XNLI-es |\n",
    "|-----------------------------|---------|\n",
    "|bert-base-spanish-wwm-cased-xnli | 79.9% |\n",
    "> 此模型来源于：[https://huggingface.co/Recognai/bert-base-spanish-wwm-cased-xnli](https://huggingface.co/Recognai/bert-base-spanish-wwm-cased-xnli)\n"
   ]
  }
 ],
 "metadata": {},
 "nbformat": 4,
 "nbformat_minor": 5
}
