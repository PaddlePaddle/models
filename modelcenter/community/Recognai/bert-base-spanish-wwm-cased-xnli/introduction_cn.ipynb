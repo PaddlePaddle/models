{
 "cells": [
  {
   "cell_type": "markdown",
   "id": "e450d05e",
   "metadata": {},
   "source": [
    "# bert-base-spanish-wwm-cased-xnli\n",
    "\n",
    "**UPDATE, 15.10.2021: Check out our new zero-shot classifiers, much more lightweight and even outperforming this one: [zero-shot SELECTRA small](https://huggingface.co/Recognai/zeroshot_selectra_small) and [zero-shot SELECTRA medium](https://huggingface.co/Recognai/zeroshot_selectra_medium).**\n",
    "\n",
    "## Model description\n",
    "\n",
    "This model is a fine-tuned version of the [spanish BERT model](https://huggingface.co/dccuchile/bert-base-spanish-wwm-cased) with the Spanish portion of the XNLI dataset. You can have a look at the [training script](https://huggingface.co/Recognai/bert-base-spanish-wwm-cased-xnli/blob/main/zeroshot_training_script.py) for details of the training.\n",
    "\n",
    "### How to use\n",
    "\n",
    "You can use this model with Hugging Face's [zero-shot-classification pipeline](https://discuss.huggingface.co/t/new-pipeline-for-zero-shot-text-classification/681):\n"
   ]
  },
  {
   "cell_type": "code",
   "execution_count": null,
   "id": "5e76f4ef",
   "metadata": {},
   "outputs": [],
   "source": [
    "import paddle\n",
    "from paddlenlp.transformers import AutoModel\n",
    "\n",
    "model = AutoModel.from_pretrained(\"Recognai/bert-base-spanish-wwm-cased-xnli\")\n",
    "input_ids = paddle.randint(100, 200, shape=[1, 20])\n",
    "print(model(input_ids))"
   ]
  },
  {
   "cell_type": "markdown",
   "id": "ab80bdfa",
   "metadata": {},
   "source": [
    "## Eval results\n",
    "\n",
    "\n",
    "Accuracy for the test set:\n",
    "\n",
    "|                             | XNLI-es |\n",
    "|-----------------------------|---------|\n",
    "|bert-base-spanish-wwm-cased-xnli | 79.9% |\n",
    "> 此模型来源于：[https://huggingface.co/Recognai/bert-base-spanish-wwm-cased-xnli](https://huggingface.co/https://huggingface.co/Recognai/bert-base-spanish-wwm-cased-xnli)"
   ]
  }
 ],
 "metadata": {},
 "nbformat": 4,
 "nbformat_minor": 5
}
