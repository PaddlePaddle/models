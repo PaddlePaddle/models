{
 "cells": [
  {
   "cell_type": "markdown",
   "id": "fd5fbca9",
   "metadata": {},
   "source": [
    "# bert-base-spanish-wwm-cased-xnli\n"
   ]
  },
  {
   "cell_type": "markdown",
   "id": "c35383fc",
   "metadata": {},
   "source": [
    "**UPDATE, 15.10.2021: Check out our new zero-shot classifiers, much more lightweight and even outperforming this one: [zero-shot SELECTRA small](https://huggingface.co/Recognai/zeroshot_selectra_small) and [zero-shot SELECTRA medium](https://huggingface.co/Recognai/zeroshot_selectra_medium).**\n"
   ]
  },
  {
   "cell_type": "markdown",
   "id": "1bd6e26c",
   "metadata": {},
   "source": [
    "## Model description\n"
   ]
  },
  {
   "cell_type": "markdown",
   "id": "cff65da2",
   "metadata": {},
   "source": [
    "This model is a fine-tuned version of the [spanish BERT model](https://huggingface.co/dccuchile/bert-base-spanish-wwm-cased) with the Spanish portion of the XNLI dataset. You can have a look at the [training script](https://huggingface.co/Recognai/bert-base-spanish-wwm-cased-xnli/blob/main/zeroshot_training_script.py) for details of the training.\n"
   ]
  },
  {
   "cell_type": "markdown",
   "id": "dbd5a49a",
   "metadata": {},
   "source": [
    "### How to use\n"
   ]
  },
  {
   "cell_type": "markdown",
   "id": "a0cef103",
   "metadata": {},
   "source": [
    "You can use this model with Hugging Face's [zero-shot-classification pipeline](https://discuss.huggingface.co/t/new-pipeline-for-zero-shot-text-classification/681):\n"
   ]
  },
  {
   "cell_type": "code",
   "execution_count": null,
   "id": "3e951cb4",
   "metadata": {},
   "outputs": [],
   "source": [
    "!pip install --upgrade paddlenlp"
   ]
  },
  {
   "cell_type": "code",
   "execution_count": null,
   "id": "ce1974c6",
   "metadata": {},
   "outputs": [],
   "source": [
    "import paddle\n",
    "from paddlenlp.transformers import AutoModel\n",
    "\n",
    "model = AutoModel.from_pretrained(\"Recognai/bert-base-spanish-wwm-cased-xnli\")\n",
    "input_ids = paddle.randint(100, 200, shape=[1, 20])\n",
    "print(model(input_ids))"
   ]
  },
  {
   "cell_type": "markdown",
   "id": "25b6de1d",
   "metadata": {},
   "source": [
    "## Eval results\n"
   ]
  },
  {
   "cell_type": "markdown",
   "id": "a80e4356",
   "metadata": {},
   "source": [
    "Accuracy for the test set:\n"
   ]
  },
  {
   "cell_type": "markdown",
   "id": "fad88c84",
   "metadata": {},
   "source": [
    "|                             | XNLI-es |\n",
    "|-----------------------------|---------|\n",
    "|bert-base-spanish-wwm-cased-xnli | 79.9% |\n",
    "> 此模型来源于：[https://huggingface.co/Recognai/bert-base-spanish-wwm-cased-xnli](https://huggingface.co/https://huggingface.co/Recognai/bert-base-spanish-wwm-cased-xnli)\n"
   ]
  }
 ],
 "metadata": {},
 "nbformat": 4,
 "nbformat_minor": 5
}
