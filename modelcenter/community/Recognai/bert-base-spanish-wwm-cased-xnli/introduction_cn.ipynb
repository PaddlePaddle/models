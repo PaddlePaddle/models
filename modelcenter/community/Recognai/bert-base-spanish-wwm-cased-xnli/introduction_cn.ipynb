{
 "cells": [
  {
   "cell_type": "markdown",
   "id": "0b1e9532",
   "metadata": {},
   "source": [
    "# bert-base-spanish-wwm-cased-xnli\n"
   ]
  },
  {
   "cell_type": "markdown",
   "id": "2b09a9af",
   "metadata": {},
   "source": [
    "## Model description\n"
   ]
  },
  {
   "cell_type": "markdown",
   "id": "e348457b",
   "metadata": {},
   "source": [
    "This model is a fine-tuned version of the [spanish BERT model](https://huggingface.co/dccuchile/bert-base-spanish-wwm-cased) with the Spanish portion of the XNLI dataset. \n"
   ]
  },
  {
   "cell_type": "markdown",
   "id": "6643a3b7",
   "metadata": {},
   "source": [
    "### How to use\n"
   ]
  },
  {
   "cell_type": "code",
   "execution_count": null,
   "id": "8475d429",
   "metadata": {},
   "outputs": [],
   "source": [
    "!pip install --upgrade paddlenlp"
   ]
  },
  {
   "cell_type": "code",
   "execution_count": null,
   "id": "ced3e559",
   "metadata": {},
   "outputs": [],
   "source": [
    "import paddle\n",
    "from paddlenlp.transformers import AutoModel\n",
    "\n",
    "model = AutoModel.from_pretrained(\"Recognai/bert-base-spanish-wwm-cased-xnli\")\n",
    "input_ids = paddle.randint(100, 200, shape=[1, 20])\n",
    "print(model(input_ids))"
   ]
  },
  {
   "cell_type": "markdown",
   "id": "47419faf",
   "metadata": {},
   "source": [
    "## Eval results\n"
   ]
  },
  {
   "cell_type": "markdown",
   "id": "9b87e64b",
   "metadata": {},
   "source": [
    "Accuracy for the test set:\n"
   ]
  },
  {
   "cell_type": "markdown",
   "id": "7be74f6f",
   "metadata": {},
   "source": [
    "|                             | XNLI-es |\n",
    "|-----------------------------|---------|\n",
    "|bert-base-spanish-wwm-cased-xnli | 79.9% |\n",
    "> 此模型介绍及权重来源于[https://huggingface.co/Recognai/bert-base-spanish-wwm-cased-xnli](https://huggingface.co/Recognai/bert-base-spanish-wwm-cased-xnli)，并转换为飞桨模型格式。\n"
   ]
  }
 ],
 "metadata": {
  "kernelspec": {
   "display_name": "Python 3 (ipykernel)",
   "language": "python",
   "name": "python3"
  },
  "language_info": {
   "codemirror_mode": {
    "name": "ipython",
    "version": 3
   },
   "file_extension": ".py",
   "mimetype": "text/x-python",
   "name": "python",
   "nbconvert_exporter": "python",
   "pygments_lexer": "ipython3",
   "version": "3.7.13"
  }
 },
 "nbformat": 4,
 "nbformat_minor": 5
}
