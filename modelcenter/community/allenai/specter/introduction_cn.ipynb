{
 "cells": [
  {
   "cell_type": "markdown",
   "id": "a5b54f39",
   "metadata": {},
   "source": [
    "## SPECTER\n",
    "\n",
    "SPECTER is a pre-trained language model to generate document-level embedding of documents. It is pre-trained on a a powerful signal of document-level relatedness: the citation graph. Unlike existing pretrained language models, SPECTER can be easily applied to downstream applications without task-specific fine-tuning.\n",
    "\n",
    "Paper: [SPECTER: Document-level Representation Learning using Citation-informed Transformers](https://arxiv.org/pdf/2004.07180.pdf)\n",
    "\n",
    "Original Repo: [Github](https://github.com/allenai/specter)\n",
    "\n",
    "Evaluation Benchmark: [SciDocs](https://github.com/allenai/scidocs)\n",
    "\n",
    "Authors: *Arman Cohan, Sergey Feldman, Iz Beltagy, Doug Downey, Daniel S. Weld*"
   ]
  },
  {
   "cell_type": "markdown",
   "id": "e279b43d",
   "metadata": {},
   "source": [
    "## How to Use"
   ]
  },
  {
   "cell_type": "code",
   "execution_count": null,
   "id": "3dcf4e0b",
   "metadata": {},
   "outputs": [],
   "source": [
    "!pip install --upgrade paddlenlp"
   ]
  },
  {
   "cell_type": "code",
   "execution_count": null,
   "id": "7348a84e",
   "metadata": {},
   "outputs": [],
   "source": [
    "import paddle\n",
    "from paddlenlp.transformers import AutoModel\n",
    "\n",
    "model = AutoModel.from_pretrained(\"allenai/specter\")\n",
    "input_ids = paddle.randint(100, 200, shape=[1, 20])\n",
    "print(model(input_ids))"
   ]
  },
  {
   "cell_type": "markdown",
   "id": "89c70552",
   "metadata": {},
   "source": [
    "## Reference\n",
    "\n",
    "> 此模型介绍及权重来源于[https://huggingface.co/allenai/specter](https://huggingface.co/allenai/specter)，并转换为飞桨模型格式。"
   ]
  }
 ],
 "metadata": {
  "kernelspec": {
   "display_name": "Python 3 (ipykernel)",
   "language": "python",
   "name": "python3"
  },
  "language_info": {
   "codemirror_mode": {
    "name": "ipython",
    "version": 3
   },
   "file_extension": ".py",
   "mimetype": "text/x-python",
   "name": "python",
   "nbconvert_exporter": "python",
   "pygments_lexer": "ipython3",
   "version": "3.7.13"
  }
 },
 "nbformat": 4,
 "nbformat_minor": 5
}
