{
 "cells": [
  {
   "cell_type": "markdown",
   "id": "ee7d7499",
   "metadata": {},
   "source": [
    "## SPECTER\n",
    "\n",
    "SPECTER is a pre-trained language model to generate document-level embedding of documents. It is pre-trained on a a powerful signal of document-level relatedness: the citation graph. Unlike existing pretrained language models, SPECTER can be easily applied to downstream applications without task-specific fine-tuning.\n",
    "\n",
    "Paper: [SPECTER: Document-level Representation Learning using Citation-informed Transformers](https://arxiv.org/pdf/2004.07180.pdf)\n",
    "\n",
    "Original Repo: [Github](https://github.com/allenai/specter)\n",
    "\n",
    "Evaluation Benchmark: [SciDocs](https://github.com/allenai/scidocs)\n",
    "\n",
    "Authors: *Arman Cohan, Sergey Feldman, Iz Beltagy, Doug Downey, Daniel S. Weld*\n",
    "\n",
    "> 此模型来源于：[https://huggingface.co/allenai/specter](https://huggingface.co/https://huggingface.co/allenai/specter)"
   ]
  }
 ],
 "metadata": {},
 "nbformat": 4,
 "nbformat_minor": 5
}
