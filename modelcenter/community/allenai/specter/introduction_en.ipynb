{
 "cells": [
  {
   "cell_type": "markdown",
   "id": "a09f5723",
   "metadata": {},
   "source": [
    "## SPECTER\n",
    "\n",
    "SPECTER is a pre-trained language model to generate document-level embedding of documents. It is pre-trained on a a powerful signal of document-level relatedness: the citation graph. Unlike existing pretrained language models, SPECTER can be easily applied to downstream applications without task-specific fine-tuning.\n",
    "\n",
    "Paper: [SPECTER: Document-level Representation Learning using Citation-informed Transformers](https://arxiv.org/pdf/2004.07180.pdf)\n",
    "\n",
    "Original Repo: [Github](https://github.com/allenai/specter)\n",
    "\n",
    "Evaluation Benchmark: [SciDocs](https://github.com/allenai/scidocs)\n",
    "\n",
    "Authors: *Arman Cohan, Sergey Feldman, Iz Beltagy, Doug Downey, Daniel S. Weld*\n",
    "\n",
    "> 此模型来源于：[https://huggingface.co/allenai/specter](https://huggingface.co/allenai/specter)"
   ]
  },
  {
   "cell_type": "markdown",
   "id": "b62bbb59",
   "metadata": {},
   "source": [
    "## How to Use"
   ]
  },
  {
   "cell_type": "code",
   "execution_count": null,
   "id": "2dff923a",
   "metadata": {},
   "outputs": [],
   "source": [
    "!pip install --upgrade paddlenlp"
   ]
  },
  {
   "cell_type": "code",
   "execution_count": null,
   "id": "e60739cc",
   "metadata": {},
   "outputs": [],
   "source": [
    "import paddle\n",
    "from paddlenlp.transformers import AutoModel\n",
    "\n",
    "model = AutoModel.from_pretrained(\"allenai/specter\")\n",
    "input_ids = paddle.randint(100, 200, shape=[1, 20])\n",
    "print(model(input_ids))"
   ]
  }
 ],
 "metadata": {},
 "nbformat": 4,
 "nbformat_minor": 5
}
