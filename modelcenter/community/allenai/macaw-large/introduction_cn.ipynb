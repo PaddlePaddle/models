{
 "cells": [
  {
   "cell_type": "markdown",
   "id": "d50965ae",
   "metadata": {},
   "source": [
    "# macaw-large\n",
    "\n",
    "## Model description\n",
    "\n",
    "Macaw (<b>M</b>ulti-<b>a</b>ngle <b>c</b>(q)uestion <b>a</b>ns<b>w</b>ering) is a ready-to-use model capable of\n",
    "general question answering,\n",
    "showing robustness outside the domains it was trained on. It has been trained in \"multi-angle\" fashion,\n",
    "which means it can handle a flexible set of input and output \"slots\"\n",
    "(question, answer, multiple-choice options, context, and explanation) .\n",
    "\n",
    "Macaw was built on top of [T5](https://github.com/google-research/text-to-text-transfer-transformer) and comes in\n",
    "three sizes: [macaw-11b](https://huggingface.co/allenai/macaw-11b), [macaw-3b](https://huggingface.co/allenai/macaw-3b),\n",
    "and [macaw-large](https://huggingface.co/allenai/macaw-large), as well as an answer-focused version featured on\n",
    "various leaderboards [macaw-answer-11b](https://huggingface.co/allenai/macaw-answer-11b).\n",
    "\n",
    "See https://github.com/allenai/macaw for more details.\n",
    "> 此模型介绍及权重来源于[https://huggingface.co/allenai/macaw-large](https://huggingface.co/allenai/macaw-large)，并转换为飞桨模型格式"
   ]
  },
  {
   "cell_type": "markdown",
   "id": "1c0bce56",
   "metadata": {},
   "source": [
    "## How to Use"
   ]
  },
  {
   "cell_type": "code",
   "execution_count": null,
   "id": "cb7a2c88",
   "metadata": {},
   "outputs": [],
   "source": [
    "!pip install --upgrade paddlenlp"
   ]
  },
  {
   "cell_type": "code",
   "execution_count": null,
   "id": "b0fd69ae",
   "metadata": {},
   "outputs": [],
   "source": [
    "import paddle\n",
    "from paddlenlp.transformers import AutoModel\n",
    "\n",
    "model = AutoModel.from_pretrained(\"allenai/macaw-large\")\n",
    "input_ids = paddle.randint(100, 200, shape=[1, 20])\n",
    "print(model(input_ids))"
   ]
  }
 ],
 "metadata": {},
 "nbformat": 4,
 "nbformat_minor": 5
}
