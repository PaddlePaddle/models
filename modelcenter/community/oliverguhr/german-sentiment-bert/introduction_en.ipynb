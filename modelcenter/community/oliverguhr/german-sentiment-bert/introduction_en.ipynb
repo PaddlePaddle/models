{
 "cells": [
  {
   "cell_type": "markdown",
   "id": "6368cf27",
   "metadata": {},
   "source": [
    "# German Sentiment Classification with Bert\n"
   ]
  },
  {
   "cell_type": "markdown",
   "id": "01ed81d9",
   "metadata": {},
   "source": [
    "This model was trained for sentiment classification of German language texts. To achieve the best results all model inputs needs to be preprocessed with the same procedure, that was applied during the training. To simplify the usage of the model,\n",
    "we provide a Python package that bundles the code need for the preprocessing and inferencing.\n"
   ]
  },
  {
   "cell_type": "markdown",
   "id": "24907bee",
   "metadata": {},
   "source": [
    "The model uses the Googles Bert architecture and was trained on 1.834 million German-language samples. The training data contains texts from various domains like Twitter, Facebook and movie, app and hotel reviews.\n",
    "You can find more information about the dataset and the training process in the [paper](http://www.lrec-conf.org/proceedings/lrec2020/pdf/2020.lrec-1.202.pdf).\n"
   ]
  },
  {
   "cell_type": "markdown",
   "id": "4a894deb",
   "metadata": {},
   "source": [
    "## Using the Python package\n"
   ]
  },
  {
   "cell_type": "markdown",
   "id": "a83e423c",
   "metadata": {},
   "source": [
    "To get started install the package from [pypi](https://pypi.org/project/germansentiment/):\n"
   ]
  },
  {
   "cell_type": "code",
   "execution_count": null,
   "id": "ddef9a92",
   "metadata": {},
   "outputs": [],
   "source": [
    "!pip install --upgrade paddlenlp"
   ]
  },
  {
   "cell_type": "code",
   "execution_count": null,
   "id": "e8bd3286",
   "metadata": {},
   "outputs": [],
   "source": [
    "import paddle\n",
    "from paddlenlp.transformers import AutoModel\n",
    "\n",
    "model = AutoModel.from_pretrained(\"oliverguhr/german-sentiment-bert\")\n",
    "input_ids = paddle.randint(100, 200, shape=[1, 20])\n",
    "print(model(input_ids))"
   ]
  },
  {
   "cell_type": "markdown",
   "id": "094dea5c",
   "metadata": {},
   "source": [
    "@InProceedings{guhr-EtAl:2020:LREC,\n",
    "author    = {Guhr, Oliver  and  Schumann, Anne-Kathrin  and  Bahrmann, Frank  and  Böhme, Hans Joachim},\n",
    "title     = {Training a Broad-Coverage German Sentiment Classification Model for Dialog Systems},\n",
    "booktitle      = {Proceedings of The 12th Language Resources and Evaluation Conference},\n",
    "month          = {May},\n",
    "year           = {2020},\n",
    "address        = {Marseille, France},\n",
    "publisher      = {European Language Resources Association},\n",
    "pages     = {1620--1625},\n",
    "url       = {https://www.aclweb.org/anthology/2020.lrec-1.202}\n",
    "}\n"
   ]
  },
  {
   "cell_type": "markdown",
   "id": "6a48cfef",
   "metadata": {},
   "source": [
    "> 此模型来源于：[https://huggingface.co/oliverguhr/german-sentiment-bert](https://huggingface.co/https://huggingface.co/oliverguhr/german-sentiment-bert)\n"
   ]
  }
 ],
 "metadata": {},
 "nbformat": 4,
 "nbformat_minor": 5
}
