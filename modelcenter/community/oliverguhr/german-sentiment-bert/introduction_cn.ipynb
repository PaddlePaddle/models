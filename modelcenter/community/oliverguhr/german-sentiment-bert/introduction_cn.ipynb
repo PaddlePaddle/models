{
 "cells": [
  {
   "cell_type": "markdown",
   "id": "514bb23f",
   "metadata": {},
   "source": [
    "\n",
    "# German Sentiment Classification with Bert\n",
    "\n",
    "This model was trained for sentiment classification of German language texts. To achieve the best results all model inputs needs to be preprocessed with the same procedure, that was applied during the training. To simplify the usage of the model,\n",
    "we provide a Python package that bundles the code need for the preprocessing and inferencing.\n",
    "\n",
    "The model uses the Googles Bert architecture and was trained on 1.834 million German-language samples. The training data contains texts from various domains like Twitter, Facebook and movie, app and hotel reviews.\n",
    "You can find more information about the dataset and the training process in the [paper](http://www.lrec-conf.org/proceedings/lrec2020/pdf/2020.lrec-1.202.pdf).\n",
    "\n",
    "## Using the Python package\n",
    "\n",
    "To get started install the package from [pypi](https://pypi.org/project/germansentiment/):\n"
   ]
  },
  {
   "cell_type": "code",
   "execution_count": null,
   "id": "77349f4d",
   "metadata": {},
   "outputs": [],
   "source": [
    "import paddle\n",
    "from paddlenlp.transformers import AutoModel\n",
    "\n",
    "model = AutoModel.from_pretrained(\"oliverguhr/german-sentiment-bert\")\n",
    "input_ids = paddle.randint(100, 200, shape=[1, 20])\n",
    "print(model(input_ids))"
   ]
  },
  {
   "cell_type": "markdown",
   "id": "23bf0554",
   "metadata": {},
   "source": [
    "\n",
    "> 此模型来源于：[https://huggingface.co/oliverguhr/german-sentiment-bert](https://huggingface.co/https://huggingface.co/oliverguhr/german-sentiment-bert)"
   ]
  }
 ],
 "metadata": {},
 "nbformat": 4,
 "nbformat_minor": 5
}
