{
 "cells": [
  {
   "cell_type": "markdown",
   "id": "a44e7094",
   "metadata": {},
   "source": [
    "# Spanish RoBERTa-large trained on BNE finetuned for Spanish Question Answering Corpus (SQAC) dataset.\n",
    "RoBERTa-large-bne is a transformer-based masked language model for the Spanish language. It is based on the [RoBERTa](https://arxiv.org/abs/1907.11692) large model and has been pre-trained using the largest Spanish corpus known to date, with a total of 570GB of clean and deduplicated text processed for this work, compiled from the web crawlings performed by the  [National Library of Spain (Biblioteca Nacional de España)](http://www.bne.es/en/Inicio/index.html) from 2009 to 2019.\n",
    "\n",
    "Original pre-trained model can be found here: https://huggingface.co/BSC-TeMU/roberta-large-bne\n",
    "\n",
    "## Dataset\n",
    "The dataset used is the [SQAC corpus](https://huggingface.co/datasets/PlanTL-GOB-ES/SQAC).\n",
    "\n",
    "## Evaluation and results\n",
    "F1 Score: 0.7993 (average of 5 runs).\n",
    "\n",
    "For evaluation details visit our [GitHub repository](https://github.com/PlanTL-GOB-ES/lm-spanish).\n",
    "\n",
    "\n",
    "## Citing\n",
    "## Citing\n",
    "If you use this model, please cite our [paper](http://journal.sepln.org/sepln/ojs/ojs/index.php/pln/article/view/6405):\n"
   ]
  },
  {
   "cell_type": "code",
   "execution_count": null,
   "id": "4d46b18c",
   "metadata": {},
   "outputs": [],
   "source": [
    "@article{,\n",
    "abstract = {We want to thank the National Library of Spain for such a large effort on the data gathering and the Future of Computing Center, a\n",
    "Barcelona Supercomputing Center and IBM initiative (2020). This work was funded by the Spanish State Secretariat for Digitalization and Artificial\n",
    "Intelligence (SEDIA) within the framework of the Plan-TL.},\n",
    "author = {Asier Gutiérrez Fandiño and Jordi Armengol Estapé and Marc Pàmies and Joan Llop Palao and Joaquin Silveira Ocampo and Casimiro Pio Carrino and Carme Armentano Oller and Carlos Rodriguez Penagos and Aitor Gonzalez Agirre and Marta Villegas},\n",
    "doi = {10.26342/2022-68-3},\n",
    "issn = {1135-5948},\n",
    "journal = {Procesamiento del Lenguaje Natural},\n",
    "keywords = {Artificial intelligence,Benchmarking,Data processing.,MarIA,Natural language processing,Spanish language modelling,Spanish language resources,Tractament del llenguatge natural (Informàtica),Àrees temàtiques de la UPC::Informàtica::Intel·ligència artificial::Llenguatge natural},\n",
    "publisher = {Sociedad Española para el Procesamiento del Lenguaje Natural},\n",
    "title = {MarIA: Spanish Language Models},\n",
    "volume = {68},\n",
    "url = {https://upcommons.upc.edu/handle/2117/367156#.YyMTB4X9A-0.mendeley},\n",
    "year = {2022},\n",
    "}\n"
   ]
  },
  {
   "cell_type": "markdown",
   "id": "db498e99",
   "metadata": {},
   "source": [
    "## Copyright\n",
    "\n",
    "Copyright by the Spanish State Secretariat for Digitalization and Artificial Intelligence (SEDIA) (2022)\n",
    "\n",
    "## Licensing information\n",
    "\n",
    "[Apache License, Version 2.0](https://www.apache.org/licenses/LICENSE-2.0)\n",
    "\n",
    "## Funding\n",
    "\n",
    "This work was funded by the Spanish State Secretariat for Digitalization and Artificial Intelligence (SEDIA) within the framework of the Plan-TL.\n",
    "\n",
    "## Disclaimer\n",
    "\n",
    "The models published in this repository are intended for a generalist purpose and are available to third parties. These models may have bias and/or any other undesirable distortions.\n",
    "\n",
    "When third  parties, deploy or provide systems and/or services to other parties using any of these models (or using systems based on these models) or become users of the models, they should note that it is their responsibility to mitigate the risks arising from their use and, in any event, to comply with applicable regulations, including regulations regarding the use of artificial intelligence.\n",
    "\n",
    "In no event shall the owner of the models (SEDIA – State Secretariat for digitalization and artificial intelligence) nor the creator (BSC – Barcelona Supercomputing Center) be liable for any results arising from the use made by third parties of these models.\n",
    "\n",
    "\n",
    "Los modelos publicados en este repositorio tienen una finalidad generalista y están a disposición de terceros. Estos modelos pueden tener sesgos y/u otro tipo de distorsiones indeseables.\n",
    "\n",
    "Cuando terceros desplieguen o proporcionen sistemas y/o servicios a otras partes usando alguno de estos modelos (o utilizando sistemas basados en estos modelos) o se conviertan en usuarios de los modelos, deben tener en cuenta que es su responsabilidad mitigar los riesgos derivados de su uso y, en todo caso, cumplir con la normativa aplicable, incluyendo la normativa en materia de uso de inteligencia artificial.\n",
    "\n",
    "En ningún caso el propietario de los modelos (SEDIA – Secretaría de Estado de Digitalización e Inteligencia Artificial) ni el creador (BSC – Barcelona Supercomputing Center) serán responsables de los resultados derivados del uso que hagan terceros de estos modelos.\n",
    "> 此模型来源于：[https://huggingface.co/PlanTL-GOB-ES/roberta-large-bne-sqac](https://huggingface.co/https://huggingface.co/PlanTL-GOB-ES/roberta-large-bne-sqac)"
   ]
  }
 ],
 "metadata": {},
 "nbformat": 4,
 "nbformat_minor": 5
}
