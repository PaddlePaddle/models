{
 "cells": [
  {
   "cell_type": "markdown",
   "id": "77c818a8",
   "metadata": {},
   "source": [
    "# BERTa: RoBERTa-based Catalan language model\n"
   ]
  },
  {
   "cell_type": "markdown",
   "id": "3521c948",
   "metadata": {},
   "source": [
    "## BibTeX  citation\n"
   ]
  },
  {
   "cell_type": "markdown",
   "id": "562083d1",
   "metadata": {},
   "source": [
    "If you use any of these resources (datasets or models) in your work, please cite our latest paper:\n"
   ]
  },
  {
   "cell_type": "code",
   "execution_count": null,
   "id": "30b5007d",
   "metadata": {},
   "outputs": [],
   "source": [
    "!pip install --upgrade paddlenlp"
   ]
  },
  {
   "cell_type": "code",
   "execution_count": null,
   "id": "a1025e15",
   "metadata": {},
   "outputs": [],
   "source": [
    "import paddle\n",
    "from paddlenlp.transformers import AutoModel\n",
    "\n",
    "model = AutoModel.from_pretrained(\"PlanTL-GOB-ES/roberta-base-ca\")\n",
    "input_ids = paddle.randint(100, 200, shape=[1, 20])\n",
    "print(model(input_ids))"
   ]
  },
  {
   "cell_type": "markdown",
   "id": "2f41cb94",
   "metadata": {},
   "source": [
    ">>> from transformers import pipeline\n",
    ">>> unmasker = pipeline('fill-mask', model='PlanTL-GOB-ES/roberta-base-ca-cased')\n",
    ">>> unmasker(\"Situada a la costa de la mar Mediterrània, <mask> s'assenta en una plana formada \"\n",
    "\"entre els deltes de les desembocadures dels rius Llobregat, al sud-oest, \"\n",
    "\"i Besòs, al nord-est, i limitada pel sud-est per la línia de costa,\"\n",
    "\"i pel nord-oest per la serralada de Collserola \"\n",
    "\"(amb el cim del Tibidabo, 516,2 m, com a punt més alt) que segueix paral·lela \"\n",
    "\"la línia de costa encaixant la ciutat en un perímetre molt definit.\")\n"
   ]
  },
  {
   "cell_type": "markdown",
   "id": "44d4f142",
   "metadata": {},
   "source": [
    "[\n",
    "{\n",
    "\"sequence\": \" Situada a la costa de la mar Mediterrània, <mask> s'assenta en una plana formada \"\n",
    "\"entre els deltes de les desembocadures dels rius Llobregat, al sud-oest, \"\n",
    "\"i Besòs, al nord-est, i limitada pel sud-est per la línia de costa,\"\n",
    "\"i pel nord-oest per la serralada de Collserola \"\n",
    "\"(amb el cim del Tibidabo, 516,2 m, com a punt més alt) que segueix paral·lela \"\n",
    "\"la línia de costa encaixant la ciutat en un perímetre molt definit.\",\n",
    "\"score\": 0.4177263379096985,\n",
    "\"token\": 734,\n",
    "\"token_str\": \" Barcelona\"\n",
    "},\n",
    "{\n",
    "\"sequence\": \" Situada a la costa de la mar Mediterrània, <mask> s'assenta en una plana formada \"\n",
    "\"entre els deltes de les desembocadures dels rius Llobregat, al sud-oest, \"\n",
    "\"i Besòs, al nord-est, i limitada pel sud-est per la línia de costa,\"\n",
    "\"i pel nord-oest per la serralada de Collserola \"\n",
    "\"(amb el cim del Tibidabo, 516,2 m, com a punt més alt) que segueix paral·lela \"\n",
    "\"la línia de costa encaixant la ciutat en un perímetre molt definit.\",\n",
    "\"score\": 0.10696165263652802,\n",
    "\"token\": 3849,\n",
    "\"token_str\": \" Badalona\"\n",
    "},\n",
    "{\n",
    "\"sequence\": \" Situada a la costa de la mar Mediterrània, <mask> s'assenta en una plana formada \"\n",
    "\"entre els deltes de les desembocadures dels rius Llobregat, al sud-oest, \"\n",
    "\"i Besòs, al nord-est, i limitada pel sud-est per la línia de costa,\"\n",
    "\"i pel nord-oest per la serralada de Collserola \"\n",
    "\"(amb el cim del Tibidabo, 516,2 m, com a punt més alt) que segueix paral·lela \"\n",
    "\"la línia de costa encaixant la ciutat en un perímetre molt definit.\",\n",
    "\"score\": 0.08135009557008743,\n",
    "\"token\": 19349,\n",
    "\"token_str\": \" Collserola\"\n",
    "},\n",
    "{\n",
    "\"sequence\": \" Situada a la costa de la mar Mediterrània, <mask> s'assenta en una plana formada \"\n",
    "\"entre els deltes de les desembocadures dels rius Llobregat, al sud-oest, \"\n",
    "\"i Besòs, al nord-est, i limitada pel sud-est per la línia de costa,\"\n",
    "\"i pel nord-oest per la serralada de Collserola \"\n",
    "\"(amb el cim del Tibidabo, 516,2 m, com a punt més alt) que segueix paral·lela \"\n",
    "\"la línia de costa encaixant la ciutat en un perímetre molt definit.\",\n",
    "\"score\": 0.07330769300460815,\n",
    "\"token\": 4974,\n",
    "\"token_str\": \" Terrassa\"\n",
    "},\n",
    "{\n",
    "\"sequence\": \" Situada a la costa de la mar Mediterrània, <mask> s'assenta en una plana formada \"\n",
    "\"entre els deltes de les desembocadures dels rius Llobregat, al sud-oest, \"\n",
    "\"i Besòs, al nord-est, i limitada pel sud-est per la línia de costa,\"\n",
    "\"i pel nord-oest per la serralada de Collserola \"\n",
    "\"(amb el cim del Tibidabo, 516,2 m, com a punt més alt) que segueix paral·lela \"\n",
    "\"la línia de costa encaixant la ciutat en un perímetre molt definit.\",\n",
    "\"score\": 0.03317456692457199,\n",
    "\"token\": 14333,\n",
    "\"token_str\": \" Gavà\"\n",
    "}\n",
    "]\n"
   ]
  },
  {
   "cell_type": "markdown",
   "id": "ffa6fe76",
   "metadata": {},
   "source": [
    "This model was originally published as [bsc/roberta-base-ca-cased](https://huggingface.co/bsc/roberta-base-ca-cased).\n"
   ]
  },
  {
   "cell_type": "markdown",
   "id": "ec41f729",
   "metadata": {},
   "source": [
    "## Copyright\n"
   ]
  },
  {
   "cell_type": "markdown",
   "id": "63c62a2f",
   "metadata": {},
   "source": [
    "Copyright by the Spanish State Secretariat for Digitalization and Artificial Intelligence (SEDIA) (2022)\n"
   ]
  },
  {
   "cell_type": "markdown",
   "id": "4aef8901",
   "metadata": {},
   "source": [
    "## Licensing information\n"
   ]
  },
  {
   "cell_type": "markdown",
   "id": "e799327b",
   "metadata": {},
   "source": [
    "[Apache License, Version 2.0](https://www.apache.org/licenses/LICENSE-2.0)\n"
   ]
  },
  {
   "cell_type": "markdown",
   "id": "53293f13",
   "metadata": {},
   "source": [
    "## Funding\n"
   ]
  },
  {
   "cell_type": "markdown",
   "id": "f467a45c",
   "metadata": {},
   "source": [
    "This work was funded by the Spanish State Secretariat for Digitalization and Artificial Intelligence (SEDIA) within the framework of the Plan-TL.\n"
   ]
  },
  {
   "cell_type": "markdown",
   "id": "78e14c71",
   "metadata": {},
   "source": [
    "## Disclaimer\n"
   ]
  },
  {
   "cell_type": "markdown",
   "id": "87a2c9bc",
   "metadata": {},
   "source": [
    "The models published in this repository are intended for a generalist purpose and are available to third parties. These models may have bias and/or any other undesirable distortions.\n"
   ]
  },
  {
   "cell_type": "markdown",
   "id": "93fd7a61",
   "metadata": {},
   "source": [
    "When third  parties, deploy or provide systems and/or services to other parties using any of these models (or using systems based on these models) or become users of the models, they should note that it is their responsibility to mitigate the risks arising from their use and, in any event, to comply with applicable regulations, including regulations regarding the use of artificial intelligence.\n"
   ]
  },
  {
   "cell_type": "markdown",
   "id": "98b16605",
   "metadata": {},
   "source": [
    "In no event shall the owner of the models (SEDIA – State Secretariat for digitalization and artificial intelligence) nor the creator (BSC – Barcelona Supercomputing Center) be liable for any results arising from the use made by third parties of these models.\n"
   ]
  },
  {
   "cell_type": "markdown",
   "id": "942e3380",
   "metadata": {},
   "source": [
    "Los modelos publicados en este repositorio tienen una finalidad generalista y están a disposición de terceros. Estos modelos pueden tener sesgos y/u otro tipo de distorsiones indeseables.\n"
   ]
  },
  {
   "cell_type": "markdown",
   "id": "5a1160d6",
   "metadata": {},
   "source": [
    "Cuando terceros desplieguen o proporcionen sistemas y/o servicios a otras partes usando alguno de estos modelos (o utilizando sistemas basados en estos modelos) o se conviertan en usuarios de los modelos, deben tener en cuenta que es su responsabilidad mitigar los riesgos derivados de su uso y, en todo caso, cumplir con la normativa aplicable, incluyendo la normativa en materia de uso de inteligencia artificial.\n"
   ]
  },
  {
   "cell_type": "markdown",
   "id": "7999b2cb",
   "metadata": {},
   "source": [
    "En ningún caso el propietario de los modelos (SEDIA – Secretaría de Estado de Digitalización e Inteligencia Artificial) ni el creador (BSC – Barcelona Supercomputing Center) serán responsables de los resultados derivados del uso que hagan terceros de estos modelos.\n",
    "> 此模型来源于：[https://huggingface.co/PlanTL-GOB-ES/roberta-base-ca](https://huggingface.co/https://huggingface.co/PlanTL-GOB-ES/roberta-base-ca)\n"
   ]
  }
 ],
 "metadata": {},
 "nbformat": 4,
 "nbformat_minor": 5
}
