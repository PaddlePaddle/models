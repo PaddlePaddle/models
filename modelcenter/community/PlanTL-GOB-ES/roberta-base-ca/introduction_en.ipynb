{
 "cells": [
  {
   "cell_type": "markdown",
   "id": "2c6443c5",
   "metadata": {},
   "source": [
    "# BERTa: RoBERTa-based Catalan language model\n",
    "\n",
    "## BibTeX  citation\n",
    "\n",
    "If you use any of these resources (datasets or models) in your work, please cite our latest paper:\n"
   ]
  },
  {
   "cell_type": "code",
   "execution_count": null,
   "id": "cf0df6af",
   "metadata": {},
   "outputs": [],
   "source": [
    "import paddle\n",
    "from paddlenlp.transformers import AutoModel\n",
    "\n",
    "model = AutoModel.from_pretrained(\"PlanTL-GOB-ES/roberta-base-ca\")\n",
    "input_ids = paddle.randint(100, 200, shape=[1, 20])\n",
    "print(model(input_ids))"
   ]
  },
  {
   "cell_type": "markdown",
   "id": "12b466b6",
   "metadata": {},
   "source": [
    "This model was originally published as [bsc/roberta-base-ca-cased](https://huggingface.co/bsc/roberta-base-ca-cased).\n",
    "\n",
    "## Copyright\n",
    "\n",
    "Copyright by the Spanish State Secretariat for Digitalization and Artificial Intelligence (SEDIA) (2022)\n",
    "\n",
    "## Licensing information\n",
    "\n",
    "[Apache License, Version 2.0](https://www.apache.org/licenses/LICENSE-2.0)\n",
    "\n",
    "## Funding\n",
    "\n",
    "This work was funded by the Spanish State Secretariat for Digitalization and Artificial Intelligence (SEDIA) within the framework of the Plan-TL.\n",
    "\n",
    "## Disclaimer\n",
    "\n",
    "The models published in this repository are intended for a generalist purpose and are available to third parties. These models may have bias and/or any other undesirable distortions.\n",
    "\n",
    "When third  parties, deploy or provide systems and/or services to other parties using any of these models (or using systems based on these models) or become users of the models, they should note that it is their responsibility to mitigate the risks arising from their use and, in any event, to comply with applicable regulations, including regulations regarding the use of artificial intelligence.\n",
    "\n",
    "In no event shall the owner of the models (SEDIA – State Secretariat for digitalization and artificial intelligence) nor the creator (BSC – Barcelona Supercomputing Center) be liable for any results arising from the use made by third parties of these models.\n",
    "\n",
    "\n",
    "Los modelos publicados en este repositorio tienen una finalidad generalista y están a disposición de terceros. Estos modelos pueden tener sesgos y/u otro tipo de distorsiones indeseables.\n",
    "\n",
    "Cuando terceros desplieguen o proporcionen sistemas y/o servicios a otras partes usando alguno de estos modelos (o utilizando sistemas basados en estos modelos) o se conviertan en usuarios de los modelos, deben tener en cuenta que es su responsabilidad mitigar los riesgos derivados de su uso y, en todo caso, cumplir con la normativa aplicable, incluyendo la normativa en materia de uso de inteligencia artificial.\n",
    "\n",
    "En ningún caso el propietario de los modelos (SEDIA – Secretaría de Estado de Digitalización e Inteligencia Artificial) ni el creador (BSC – Barcelona Supercomputing Center) serán responsables de los resultados derivados del uso que hagan terceros de estos modelos.\n",
    "> 此模型来源于：[https://huggingface.co/PlanTL-GOB-ES/roberta-base-ca](https://huggingface.co/https://huggingface.co/PlanTL-GOB-ES/roberta-base-ca)"
   ]
  }
 ],
 "metadata": {},
 "nbformat": 4,
 "nbformat_minor": 5
}
