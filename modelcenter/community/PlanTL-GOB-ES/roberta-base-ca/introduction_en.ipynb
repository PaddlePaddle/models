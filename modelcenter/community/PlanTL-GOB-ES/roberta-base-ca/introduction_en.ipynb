{
 "cells": [
  {
   "cell_type": "markdown",
   "id": "85fc668b",
   "metadata": {},
   "source": [
    "# BERTa: RoBERTa-based Catalan language model\n"
   ]
  },
  {
   "cell_type": "markdown",
   "id": "e31f0b3b",
   "metadata": {},
   "source": [
    "## BibTeX  citation\n"
   ]
  },
  {
   "cell_type": "markdown",
   "id": "a6576c77",
   "metadata": {},
   "source": [
    "If you use any of these resources (datasets or models) in your work, please cite our latest paper:\n",
    "\n",
    "```\n",
    "@inproceedings{armengol-estape-etal-2021-multilingual,\n",
    "    title = \"Are Multilingual Models the Best Choice for Moderately Under-resourced Languages? {A} Comprehensive Assessment for {C}atalan\",\n",
    "    author = \"Armengol-Estap{\\'e}, Jordi  and\n",
    "      Carrino, Casimiro Pio  and\n",
    "      Rodriguez-Penagos, Carlos  and\n",
    "      de Gibert Bonet, Ona  and\n",
    "      Armentano-Oller, Carme  and\n",
    "      Gonzalez-Agirre, Aitor  and\n",
    "      Melero, Maite  and\n",
    "      Villegas, Marta\",\n",
    "    booktitle = \"Findings of the Association for Computational Linguistics: ACL-IJCNLP 2021\",\n",
    "    month = aug,\n",
    "    year = \"2021\",\n",
    "    address = \"Online\",\n",
    "    publisher = \"Association for Computational Linguistics\",\n",
    "    url = \"https://aclanthology.org/2021.findings-acl.437\",\n",
    "    doi = \"10.18653/v1/2021.findings-acl.437\",\n",
    "    pages = \"4933--4946\",\n",
    "}\n",
    "```"
   ]
  },
  {
   "cell_type": "code",
   "execution_count": null,
   "id": "f0ae6364",
   "metadata": {},
   "outputs": [],
   "source": [
    "!pip install --upgrade paddlenlp"
   ]
  },
  {
   "cell_type": "code",
   "execution_count": null,
   "id": "901d579a",
   "metadata": {},
   "outputs": [],
   "source": [
    "import paddle\n",
    "from paddlenlp.transformers import AutoModel\n",
    "\n",
    "model = AutoModel.from_pretrained(\"PlanTL-GOB-ES/roberta-base-ca\")\n",
    "input_ids = paddle.randint(100, 200, shape=[1, 20])\n",
    "print(model(input_ids))"
   ]
  },
  {
   "cell_type": "markdown",
   "id": "33841515",
   "metadata": {},
   "source": [
    "This model was originally published as [bsc/roberta-base-ca-cased](https://huggingface.co/bsc/roberta-base-ca-cased).\n"
   ]
  },
  {
   "cell_type": "markdown",
   "id": "4a6e34df",
   "metadata": {},
   "source": [
    "## Copyright\n"
   ]
  },
  {
   "cell_type": "markdown",
   "id": "2de4d969",
   "metadata": {},
   "source": [
    "Copyright by the Spanish State Secretariat for Digitalization and Artificial Intelligence (SEDIA) (2022)\n"
   ]
  },
  {
   "cell_type": "markdown",
   "id": "e4f81212",
   "metadata": {},
   "source": [
    "## Licensing information\n"
   ]
  },
  {
   "cell_type": "markdown",
   "id": "ee0ed017",
   "metadata": {},
   "source": [
    "[Apache License, Version 2.0](https://www.apache.org/licenses/LICENSE-2.0)\n"
   ]
  },
  {
   "cell_type": "markdown",
   "id": "68c2076f",
   "metadata": {},
   "source": [
    "## Funding\n"
   ]
  },
  {
   "cell_type": "markdown",
   "id": "b009b75c",
   "metadata": {},
   "source": [
    "This work was funded by the Spanish State Secretariat for Digitalization and Artificial Intelligence (SEDIA) within the framework of the Plan-TL.\n"
   ]
  },
  {
   "cell_type": "markdown",
   "id": "dd130f35",
   "metadata": {},
   "source": [
    "## Disclaimer\n"
   ]
  },
  {
   "cell_type": "markdown",
   "id": "b4edd712",
   "metadata": {},
   "source": [
    "The models published in this repository are intended for a generalist purpose and are available to third parties. These models may have bias and/or any other undesirable distortions.\n"
   ]
  },
  {
   "cell_type": "markdown",
   "id": "b5d3717e",
   "metadata": {},
   "source": [
    "When third  parties, deploy or provide systems and/or services to other parties using any of these models (or using systems based on these models) or become users of the models, they should note that it is their responsibility to mitigate the risks arising from their use and, in any event, to comply with applicable regulations, including regulations regarding the use of artificial intelligence.\n"
   ]
  },
  {
   "cell_type": "markdown",
   "id": "1d0d8ebf",
   "metadata": {},
   "source": [
    "In no event shall the owner of the models (SEDIA – State Secretariat for digitalization and artificial intelligence) nor the creator (BSC – Barcelona Supercomputing Center) be liable for any results arising from the use made by third parties of these models.\n"
   ]
  },
  {
   "cell_type": "markdown",
   "id": "802f6b07",
   "metadata": {},
   "source": [
    "Los modelos publicados en este repositorio tienen una finalidad generalista y están a disposición de terceros. Estos modelos pueden tener sesgos y/u otro tipo de distorsiones indeseables.\n"
   ]
  },
  {
   "cell_type": "markdown",
   "id": "a375741c",
   "metadata": {},
   "source": [
    "Cuando terceros desplieguen o proporcionen sistemas y/o servicios a otras partes usando alguno de estos modelos (o utilizando sistemas basados en estos modelos) o se conviertan en usuarios de los modelos, deben tener en cuenta que es su responsabilidad mitigar los riesgos derivados de su uso y, en todo caso, cumplir con la normativa aplicable, incluyendo la normativa en materia de uso de inteligencia artificial.\n"
   ]
  },
  {
   "cell_type": "markdown",
   "id": "f6fc3608",
   "metadata": {},
   "source": [
    "En ningún caso el propietario de los modelos (SEDIA – Secretaría de Estado de Digitalización e Inteligencia Artificial) ni el creador (BSC – Barcelona Supercomputing Center) serán responsables de los resultados derivados del uso que hagan terceros de estos modelos.\n",
    "> this model is from：[https://huggingface.co/PlanTL-GOB-ES/roberta-base-ca](https://huggingface.co/PlanTL-GOB-ES/roberta-base-ca)\n"
   ]
  }
 ],
 "metadata": {
  "kernelspec": {
   "display_name": "Python 3 (ipykernel)",
   "language": "python",
   "name": "python3"
  },
  "language_info": {
   "codemirror_mode": {
    "name": "ipython",
    "version": 3
   },
   "file_extension": ".py",
   "mimetype": "text/x-python",
   "name": "python",
   "nbconvert_exporter": "python",
   "pygments_lexer": "ipython3",
   "version": "3.8.13"
  }
 },
 "nbformat": 4,
 "nbformat_minor": 5
}
