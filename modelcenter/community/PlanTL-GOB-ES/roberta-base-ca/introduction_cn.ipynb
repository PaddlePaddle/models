{
 "cells": [
  {
   "cell_type": "markdown",
   "id": "0def031a",
   "metadata": {},
   "source": [
    "# BERTa: RoBERTa-based Catalan language model\n"
   ]
  },
  {
   "cell_type": "markdown",
   "id": "6a88650c",
   "metadata": {},
   "source": [
    "## BibTeX  citation\n"
   ]
  },
  {
   "cell_type": "markdown",
   "id": "a83a3223",
   "metadata": {},
   "source": [
    "If you use any of these resources (datasets or models) in your work, please cite our latest paper:\n",
    "\n",
    "```\n",
    "@inproceedings{armengol-estape-etal-2021-multilingual,\n",
    "    title = \"Are Multilingual Models the Best Choice for Moderately Under-resourced Languages? {A} Comprehensive Assessment for {C}atalan\",\n",
    "    author = \"Armengol-Estap{\\'e}, Jordi  and\n",
    "      Carrino, Casimiro Pio  and\n",
    "      Rodriguez-Penagos, Carlos  and\n",
    "      de Gibert Bonet, Ona  and\n",
    "      Armentano-Oller, Carme  and\n",
    "      Gonzalez-Agirre, Aitor  and\n",
    "      Melero, Maite  and\n",
    "      Villegas, Marta\",\n",
    "    booktitle = \"Findings of the Association for Computational Linguistics: ACL-IJCNLP 2021\",\n",
    "    month = aug,\n",
    "    year = \"2021\",\n",
    "    address = \"Online\",\n",
    "    publisher = \"Association for Computational Linguistics\",\n",
    "    url = \"https://aclanthology.org/2021.findings-acl.437\",\n",
    "    doi = \"10.18653/v1/2021.findings-acl.437\",\n",
    "    pages = \"4933--4946\",\n",
    "}\n",
    "```\n"
   ]
  },
  {
   "cell_type": "markdown",
   "id": "c43f81ae",
   "metadata": {},
   "source": [
    "## How to use"
   ]
  },
  {
   "cell_type": "code",
   "execution_count": null,
   "id": "b8775c31",
   "metadata": {},
   "outputs": [],
   "source": [
    "!pip install --upgrade paddlenlp"
   ]
  },
  {
   "cell_type": "code",
   "execution_count": null,
   "id": "b28f8253",
   "metadata": {},
   "outputs": [],
   "source": [
    "import paddle\n",
    "from paddlenlp.transformers import AutoModel\n",
    "\n",
    "model = AutoModel.from_pretrained(\"PlanTL-GOB-ES/roberta-base-ca\")\n",
    "input_ids = paddle.randint(100, 200, shape=[1, 20])\n",
    "print(model(input_ids))"
   ]
  },
  {
   "cell_type": "markdown",
   "id": "a5ac4e84",
   "metadata": {},
   "source": [
    "This model was originally published as [bsc/roberta-base-ca-cased](https://huggingface.co/bsc/roberta-base-ca-cased).\n"
   ]
  },
  {
   "cell_type": "markdown",
   "id": "c2d62db2",
   "metadata": {},
   "source": [
    "## Copyright\n"
   ]
  },
  {
   "cell_type": "markdown",
   "id": "cfb98265",
   "metadata": {},
   "source": [
    "Copyright by the Spanish State Secretariat for Digitalization and Artificial Intelligence (SEDIA) (2022)\n"
   ]
  },
  {
   "cell_type": "markdown",
   "id": "efeffae0",
   "metadata": {},
   "source": [
    "## Licensing information\n"
   ]
  },
  {
   "cell_type": "markdown",
   "id": "71e14289",
   "metadata": {},
   "source": [
    "[Apache License, Version 2.0](https://www.apache.org/licenses/LICENSE-2.0)\n"
   ]
  },
  {
   "cell_type": "markdown",
   "id": "6defd81c",
   "metadata": {},
   "source": [
    "## Funding\n"
   ]
  },
  {
   "cell_type": "markdown",
   "id": "cfda84a5",
   "metadata": {},
   "source": [
    "This work was funded by the Spanish State Secretariat for Digitalization and Artificial Intelligence (SEDIA) within the framework of the Plan-TL.\n"
   ]
  },
  {
   "cell_type": "markdown",
   "id": "fd461a8b",
   "metadata": {},
   "source": [
    "## Disclaimer\n"
   ]
  },
  {
   "cell_type": "markdown",
   "id": "90623fe2",
   "metadata": {},
   "source": [
    "The models published in this repository are intended for a generalist purpose and are available to third parties. These models may have bias and/or any other undesirable distortions.\n"
   ]
  },
  {
   "cell_type": "markdown",
   "id": "ee0126cf",
   "metadata": {},
   "source": [
    "When third  parties, deploy or provide systems and/or services to other parties using any of these models (or using systems based on these models) or become users of the models, they should note that it is their responsibility to mitigate the risks arising from their use and, in any event, to comply with applicable regulations, including regulations regarding the use of artificial intelligence.\n"
   ]
  },
  {
   "cell_type": "markdown",
   "id": "9a9a2e8d",
   "metadata": {},
   "source": [
    "In no event shall the owner of the models (SEDIA – State Secretariat for digitalization and artificial intelligence) nor the creator (BSC – Barcelona Supercomputing Center) be liable for any results arising from the use made by third parties of these models.\n"
   ]
  },
  {
   "cell_type": "markdown",
   "id": "c9446715",
   "metadata": {},
   "source": [
    "Los modelos publicados en este repositorio tienen una finalidad generalista y están a disposición de terceros. Estos modelos pueden tener sesgos y/u otro tipo de distorsiones indeseables.\n"
   ]
  },
  {
   "cell_type": "markdown",
   "id": "5878c62c",
   "metadata": {},
   "source": [
    "Cuando terceros desplieguen o proporcionen sistemas y/o servicios a otras partes usando alguno de estos modelos (o utilizando sistemas basados en estos modelos) o se conviertan en usuarios de los modelos, deben tener en cuenta que es su responsabilidad mitigar los riesgos derivados de su uso y, en todo caso, cumplir con la normativa aplicable, incluyendo la normativa en materia de uso de inteligencia artificial.\n"
   ]
  },
  {
   "cell_type": "markdown",
   "id": "0dde0648",
   "metadata": {},
   "source": [
    "En ningún caso el propietario de los modelos (SEDIA – Secretaría de Estado de Digitalización e Inteligencia Artificial) ni el creador (BSC – Barcelona Supercomputing Center) serán responsables de los resultados derivados del uso que hagan terceros de estos modelos.\n",
    "> 此模型介绍及权重来源于[https://huggingface.co/PlanTL-GOB-ES/roberta-base-ca](https://huggingface.co/PlanTL-GOB-ES/roberta-base-ca)，并转换为飞桨模型格式\n"
   ]
  }
 ],
 "metadata": {
  "kernelspec": {
   "display_name": "Python 3 (ipykernel)",
   "language": "python",
   "name": "python3"
  },
  "language_info": {
   "codemirror_mode": {
    "name": "ipython",
    "version": 3
   },
   "file_extension": ".py",
   "mimetype": "text/x-python",
   "name": "python",
   "nbconvert_exporter": "python",
   "pygments_lexer": "ipython3",
   "version": "3.8.13"
  }
 },
 "nbformat": 4,
 "nbformat_minor": 5
}
