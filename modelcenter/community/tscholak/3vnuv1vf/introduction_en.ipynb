{
 "cells": [
  {
   "cell_type": "markdown",
   "id": "f5fe3c82",
   "metadata": {},
   "source": [
    "## tscholak/3vnuv1vf\n",
    "\n",
    "Fine-tuned weights for [PICARD - Parsing Incrementally for Constrained Auto-Regressive Decoding from Language Models](https://arxiv.org/abs/2109.05093) based on [t5.1.1.lm100k.large](https://github.com/google-research/text-to-text-transfer-transformer/blob/main/released_checkpoints.md#lm-adapted-t511lm100k).\n",
    "\n",
    "\n",
    "### Training Data\n",
    "\n",
    "The model has been fine-tuned on the 7000 training examples in the [Spider text-to-SQL dataset](https://yale-lily.github.io/spider). The model solves Spider's zero-shot text-to-SQL translation task, and that means that it can generalize to unseen SQL databases.\n",
    "\n",
    "\n",
    "### Training Objective\n",
    "\n",
    "This model was initialized with [t5.1.1.lm100k.large](https://github.com/google-research/text-to-text-transfer-transformer/blob/main/released_checkpoints.md#lm-adapted-t511lm100k) and fine-tuned with the text-to-text generation objective.\n",
    "\n",
    "Questions are always grounded in a database schema, and the model is trained to predict the SQL query that would be used to answer the question. The input to the model is composed of the user's natural language question, the database identifier, and a list of tables and their columns:\n"
   ]
  },
  {
   "cell_type": "code",
   "execution_count": null,
   "id": "2d8659ac",
   "metadata": {},
   "outputs": [],
   "source": [
    "import paddle\n",
    "from paddlenlp.transformers import AutoModel\n",
    "\n",
    "model = AutoModel.from_pretrained(\"tscholak/3vnuv1vf\")\n",
    "input_ids = paddle.randint(100, 200, shape=[1, 20])\n",
    "print(model(input_ids))"
   ]
  },
  {
   "cell_type": "markdown",
   "id": "f8f46348",
   "metadata": {},
   "source": [
    "> 此模型来源于：[https://huggingface.co/tscholak/3vnuv1vf](https://huggingface.co/https://huggingface.co/tscholak/3vnuv1vf)"
   ]
  }
 ],
 "metadata": {},
 "nbformat": 4,
 "nbformat_minor": 5
}
