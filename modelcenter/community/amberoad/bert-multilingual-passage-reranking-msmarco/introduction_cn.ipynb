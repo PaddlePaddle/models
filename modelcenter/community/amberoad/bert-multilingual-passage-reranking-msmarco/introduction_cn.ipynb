{
 "cells": [
  {
   "cell_type": "markdown",
   "id": "83244d63",
   "metadata": {},
   "source": [
    "# Passage Reranking Multilingual BERT 🔃 🌍\n"
   ]
  },
  {
   "cell_type": "markdown",
   "id": "4c8c922a",
   "metadata": {},
   "source": [
    "## Model description\n",
    "**Input:** Supports over 100 Languages. See [List of supported languages](https://github.com/google-research/bert/blob/master/multilingual.md#list-of-languages) for all available.\n"
   ]
  },
  {
   "cell_type": "markdown",
   "id": "8b40d5de",
   "metadata": {},
   "source": [
    "**Purpose:** This module takes a search query [1] and a passage [2] and calculates if the passage matches the query.\n",
    "It can be used as an improvement for Elasticsearch Results and boosts the relevancy by up to 100%.\n"
   ]
  },
  {
   "cell_type": "markdown",
   "id": "c9d89366",
   "metadata": {},
   "source": [
    "**Architecture:** On top of BERT there is a Densly Connected NN which takes the 768 Dimensional [CLS] Token as input and provides the output ([Arxiv](https://arxiv.org/abs/1901.04085)).\n"
   ]
  },
  {
   "cell_type": "markdown",
   "id": "29745195",
   "metadata": {},
   "source": [
    "**Output:** Just a single value between between -10 and 10. Better matching query,passage pairs tend to have a higher a score.\n"
   ]
  },
  {
   "cell_type": "markdown",
   "id": "010a4d92",
   "metadata": {},
   "source": [
    "## Intended uses & limitations\n",
    "Both query[1] and passage[2] have to fit in 512 Tokens.\n",
    "As you normally want to rerank the first dozens of search results keep in mind the inference time of approximately 300 ms/query.\n"
   ]
  },
  {
   "cell_type": "markdown",
   "id": "a9f2dea7",
   "metadata": {},
   "source": [
    "## How to use\n"
   ]
  },
  {
   "cell_type": "code",
   "execution_count": null,
   "id": "8d023555",
   "metadata": {},
   "outputs": [],
   "source": [
    "!pip install --upgrade paddlenlp"
   ]
  },
  {
   "cell_type": "code",
   "execution_count": null,
   "id": "4c83eef3",
   "metadata": {},
   "outputs": [],
   "source": [
    "import paddle\n",
    "from paddlenlp.transformers import AutoModel\n",
    "\n",
    "model = AutoModel.from_pretrained(\"amberoad/bert-multilingual-passage-reranking-msmarco\")\n",
    "input_ids = paddle.randint(100, 200, shape=[1, 20])\n",
    "print(model(input_ids))"
   ]
  },
  {
   "cell_type": "markdown",
   "id": "38b8bca2",
   "metadata": {},
   "source": [
    "This Model can be used as a drop-in replacement in the [Nboost Library](https://github.com/koursaros-ai/nboost)\n",
    "Through this you can directly improve your Elasticsearch Results without any coding.\n"
   ]
  },
  {
   "cell_type": "markdown",
   "id": "2611b122",
   "metadata": {},
   "source": [
    "## Training data\n"
   ]
  },
  {
   "cell_type": "markdown",
   "id": "ba62fbe0",
   "metadata": {},
   "source": [
    "This model is trained using the [**Microsoft MS Marco Dataset**](https://microsoft.github.io/msmarco/ \"Microsoft MS Marco\"). This training dataset contains approximately 400M tuples of a query, relevant and non-relevant passages. All datasets used for training and evaluating are listed in this [table](https://github.com/microsoft/MSMARCO-Passage-Ranking#data-information-and-formating). The used dataset for training is called *Train Triples Large*, while the evaluation was made on *Top 1000 Dev*. There are 6,900 queries in total in the development dataset, where each query is mapped to top 1,000 passage retrieved using BM25 from MS MARCO corpus.\n"
   ]
  },
  {
   "cell_type": "markdown",
   "id": "0e406de0",
   "metadata": {},
   "source": [
    "## Training procedure\n"
   ]
  },
  {
   "cell_type": "markdown",
   "id": "abf8b6b0",
   "metadata": {},
   "source": [
    "The training is performed the same way as stated in this [README](https://github.com/nyu-dl/dl4marco-bert \"NYU Github\"). See their excellent Paper on [Arxiv](https://arxiv.org/abs/1901.04085).\n"
   ]
  },
  {
   "cell_type": "markdown",
   "id": "fff77d55",
   "metadata": {},
   "source": [
    "We changed the BERT Model from an English only to the default BERT Multilingual uncased Model from [Google](https://huggingface.co/bert-base-multilingual-uncased).\n"
   ]
  },
  {
   "cell_type": "markdown",
   "id": "30b13dd9",
   "metadata": {},
   "source": [
    "Training was done 400 000 Steps. This equaled 12 hours an a TPU V3-8.\n"
   ]
  },
  {
   "cell_type": "markdown",
   "id": "2cf147e6",
   "metadata": {},
   "source": [
    "## Eval results\n"
   ]
  },
  {
   "cell_type": "markdown",
   "id": "613af434",
   "metadata": {},
   "source": [
    "We see nearly similar performance than the English only Model in the English [Bing Queries Dataset](http://www.msmarco.org/). Although the training data is English only internal Tests on private data showed a far higher accurancy in German than all other available models.\n"
   ]
  },
  {
   "cell_type": "markdown",
   "id": "0d6a1cc5",
   "metadata": {},
   "source": [
    "Fine-tuned Models                                                                   | Dependency                                                                   | Eval Set                                                           | Search Boost<a href='#benchmarks'> | Speed on GPU\n",
    "----------------------------------------------------------------------------------- | ---------------------------------------------------------------------------- | ------------------------------------------------------------------ | ----------------------------------------------------- | ----------------------------------\n",
    "**`amberoad/Multilingual-uncased-MSMARCO`**  (This Model)                                       | <img alt=\"PyTorch\" src=\"https://img.shields.io/badge/PyTorch-blue\"/>          |  <a href ='http://www.msmarco.org/'>bing queries</a>               | **+61%** <sub><sup>(0.29 vs 0.18)</sup></sub>         | ~300 ms/query <a href='#footnotes'>\n",
    "`nboost/pt-tinybert-msmarco`                                          | <img alt=\"PyTorch\" src=\"https://img.shields.io/badge/PyTorch-red\"/>          |  <a href ='http://www.msmarco.org/'>bing queries</a>               | **+45%** <sub><sup>(0.26 vs 0.18)</sup></sub>         | ~50ms/query <a href='#footnotes'>\n",
    "`nboost/pt-bert-base-uncased-msmarco`                                               | <img alt=\"PyTorch\" src=\"https://img.shields.io/badge/PyTorch-red\"/>          | <a href ='http://www.msmarco.org/'>bing queries</a>                | **+62%** <sub><sup>(0.29 vs 0.18)</sup></sub>         | ~300 ms/query<a href='#footnotes'>\n",
    "`nboost/pt-bert-large-msmarco`                                                      | <img alt=\"PyTorch\" src=\"https://img.shields.io/badge/PyTorch-red\"/>          | <a href ='http://www.msmarco.org/'>bing queries</a>                | **+77%** <sub><sup>(0.32 vs 0.18)</sup></sub>         | -\n",
    "`nboost/pt-biobert-base-msmarco`                                                    | <img alt=\"PyTorch\" src=\"https://img.shields.io/badge/PyTorch-red\"/>          | <a href ='https://github.com/naver/biobert-pretrained'>biomed</a>  | **+66%** <sub><sup>(0.17 vs 0.10)</sup></sub>         | ~300 ms/query<a href='#footnotes'>\n"
   ]
  },
  {
   "cell_type": "markdown",
   "id": "de0894eb",
   "metadata": {},
   "source": [
    "This table is taken from [nboost](https://github.com/koursaros-ai/nboost) and extended by the first line.\n"
   ]
  },
  {
   "cell_type": "markdown",
   "id": "7fc27a6d",
   "metadata": {},
   "source": [
    "## Contact Infos\n"
   ]
  },
  {
   "cell_type": "markdown",
   "id": "e016e316",
   "metadata": {},
   "source": [
    "![](https://amberoad.de/images/logo_text.png)\n"
   ]
  },
  {
   "cell_type": "markdown",
   "id": "de962926",
   "metadata": {},
   "source": [
    "Amberoad is a company focussing on Search and Business Intelligence.\n",
    "We provide you:\n",
    "* Advanced Internal Company Search Engines thorugh NLP\n",
    "* External Search Egnines: Find Competitors, Customers, Suppliers\n"
   ]
  },
  {
   "cell_type": "markdown",
   "id": "b5c95d43",
   "metadata": {},
   "source": [
    "**Get in Contact now to benefit from our Expertise:**\n"
   ]
  },
  {
   "cell_type": "markdown",
   "id": "3dad2f7c",
   "metadata": {},
   "source": [
    "The training and evaluation was performed by [**Philipp Reissel**](https://reissel.eu/) and [**Igli Manaj**](https://github.com/iglimanaj)\n"
   ]
  },
  {
   "cell_type": "markdown",
   "id": "55d009d5",
   "metadata": {},
   "source": [
    "[![Amberoad](https://i.stack.imgur.com/gVE0j.png) Linkedin](https://de.linkedin.com/company/amberoad) | <svg xmlns=\"http://www.w3.org/2000/svg\" x=\"0px\" y=\"0px\"\n",
    "width=\"32\" height=\"32\"\n",
    "viewBox=\"0 0 172 172\"\n",
    "style=\" fill:#000000;\"><g fill=\"none\" fill-rule=\"nonzero\" stroke=\"none\" stroke-width=\"1\" stroke-linecap=\"butt\" stroke-linejoin=\"miter\" stroke-miterlimit=\"10\" stroke-dasharray=\"\" stroke-dashoffset=\"0\" font-family=\"none\" font-weight=\"none\" font-size=\"none\" text-anchor=\"none\" style=\"mix-blend-mode: normal\"><path d=\"M0,172v-172h172v172z\" fill=\"none\"></path><g fill=\"#e67e22\"><path d=\"M37.625,21.5v86h96.75v-86h-5.375zM48.375,32.25h10.75v10.75h-10.75zM69.875,32.25h10.75v10.75h-10.75zM91.375,32.25h32.25v10.75h-32.25zM48.375,53.75h75.25v43h-75.25zM80.625,112.875v17.61572c-1.61558,0.93921 -2.94506,2.2687 -3.88428,3.88428h-49.86572v10.75h49.86572c1.8612,3.20153 5.28744,5.375 9.25928,5.375c3.97183,0 7.39808,-2.17347 9.25928,-5.375h49.86572v-10.75h-49.86572c-0.93921,-1.61558 -2.2687,-2.94506 -3.88428,-3.88428v-17.61572z\"></path></g></g></svg>[Homepage](https://de.linkedin.com/company/amberoad) |  [Email](info@amberoad.de)\n"
   ]
  },
  {
   "cell_type": "markdown",
   "id": "afc188f2",
   "metadata": {},
   "source": [
    "> 此模型介绍及权重来源于[https://huggingface.co/amberoad/bert-multilingual-passage-reranking-msmarco](https://huggingface.co/amberoad/bert-multilingual-passage-reranking-msmarco)，并转换为飞桨模型格式\n"
   ]
  }
 ],
 "metadata": {
  "kernelspec": {
   "display_name": "Python 3 (ipykernel)",
   "language": "python",
   "name": "python3"
  },
  "language_info": {
   "codemirror_mode": {
    "name": "ipython",
    "version": 3
   },
   "file_extension": ".py",
   "mimetype": "text/x-python",
   "name": "python",
   "nbconvert_exporter": "python",
   "pygments_lexer": "ipython3",
   "version": "3.8.13"
  }
 },
 "nbformat": 4,
 "nbformat_minor": 5
}
