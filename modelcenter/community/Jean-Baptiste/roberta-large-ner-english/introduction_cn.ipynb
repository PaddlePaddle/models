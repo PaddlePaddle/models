{
 "cells": [
  {
   "cell_type": "markdown",
   "id": "743f4950",
   "metadata": {},
   "source": [
    "# roberta-large-ner-english: model fine-tuned from roberta-large for NER task\n"
   ]
  },
  {
   "cell_type": "markdown",
   "id": "0d517a6d",
   "metadata": {},
   "source": [
    "## Introduction\n"
   ]
  },
  {
   "cell_type": "markdown",
   "id": "bbb5e934",
   "metadata": {},
   "source": [
    "roberta-large-ner-english is an english NER model that was fine-tuned from roberta-large on conll2003 dataset.\n",
    "Model was validated on emails/chat data and outperformed other models on this type of data specifically.\n",
    "In particular the model seems to work better on entity that don't start with an upper case.\n"
   ]
  },
  {
   "cell_type": "markdown",
   "id": "a13117c3",
   "metadata": {},
   "source": [
    "## How to use"
   ]
  },
  {
   "cell_type": "code",
   "execution_count": null,
   "id": "b9e58955",
   "metadata": {},
   "outputs": [],
   "source": [
    "!pip install --upgrade paddlenlp"
   ]
  },
  {
   "cell_type": "code",
   "execution_count": null,
   "id": "db077413",
   "metadata": {},
   "outputs": [],
   "source": [
    "import paddle\n",
    "from paddlenlp.transformers import AutoModel\n",
    "\n",
    "model = AutoModel.from_pretrained(\"Jean-Baptiste/roberta-large-ner-english\")\n",
    "input_ids = paddle.randint(100, 200, shape=[1, 20])\n",
    "print(model(input_ids))"
   ]
  },
  {
   "cell_type": "markdown",
   "id": "86ae5e96",
   "metadata": {},
   "source": [
    "For those who could be interested, here is a short article on how I used the results of this model to train a LSTM model for signature detection in emails:\n",
    "https://medium.com/@jean-baptiste.polle/lstm-model-for-email-signature-detection-8e990384fefa\n",
    "\n",
    "\n",
    "> 此模型介绍及权重来源于[https://huggingface.co/Jean-Baptiste/roberta-large-ner-english](https://huggingface.co/Jean-Baptiste/roberta-large-ner-english)，并转换为飞桨模型格式。\n"
   ]
  }
 ],
 "metadata": {
  "kernelspec": {
   "display_name": "Python 3 (ipykernel)",
   "language": "python",
   "name": "python3"
  },
  "language_info": {
   "codemirror_mode": {
    "name": "ipython",
    "version": 3
   },
   "file_extension": ".py",
   "mimetype": "text/x-python",
   "name": "python",
   "nbconvert_exporter": "python",
   "pygments_lexer": "ipython3",
   "version": "3.7.13"
  }
 },
 "nbformat": 4,
 "nbformat_minor": 5
}
