{
 "cells": [
  {
   "cell_type": "markdown",
   "id": "983a479c",
   "metadata": {},
   "source": [
    "# t5-qg_squad1-en\n",
    "\n",
    "## Model description\n",
    "This model is a *Question Generation* model based on T5-small.\n",
    "It is actually a component of [QuestEval](https://github.com/ThomasScialom/QuestEval) metric but can be used independently as it is, for QG only.\n",
    "\n",
    "\n",
    "## How to use\n"
   ]
  },
  {
   "cell_type": "code",
   "execution_count": null,
   "id": "0bd2ae08",
   "metadata": {},
   "outputs": [],
   "source": [
    "import paddle\n",
    "from paddlenlp.transformers import AutoModel\n",
    "\n",
    "model = AutoModel.from_pretrained(\"ThomasNLG/t5-qg_squad1-en\")\n",
    "input_ids = paddle.randint(100, 200, shape=[1, 20])\n",
    "print(model(input_ids))"
   ]
  },
  {
   "cell_type": "markdown",
   "id": "c41eb837",
   "metadata": {},
   "source": [
    "> 此模型来源于：[https://huggingface.co/ThomasNLG/t5-qg_squad1-en](https://huggingface.co/https://huggingface.co/ThomasNLG/t5-qg_squad1-en)"
   ]
  }
 ],
 "metadata": {},
 "nbformat": 4,
 "nbformat_minor": 5
}
