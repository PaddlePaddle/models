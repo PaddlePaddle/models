{
 "cells": [
  {
   "cell_type": "markdown",
   "id": "e29beb68",
   "metadata": {},
   "source": [
    "# t5-qg_squad1-en\n"
   ]
  },
  {
   "cell_type": "markdown",
   "id": "9883a366",
   "metadata": {},
   "source": [
    "## Model description\n",
    "This model is a *Question Generation* model based on T5-small.\n",
    "It is actually a component of [QuestEval](https://github.com/ThomasScialom/QuestEval) metric but can be used independently as it is, for QG only.\n"
   ]
  },
  {
   "cell_type": "markdown",
   "id": "b26b062f",
   "metadata": {},
   "source": [
    "## How to use\n"
   ]
  },
  {
   "cell_type": "code",
   "execution_count": null,
   "id": "0a4c1db6",
   "metadata": {},
   "outputs": [],
   "source": [
    "!pip install --upgrade paddlenlp"
   ]
  },
  {
   "cell_type": "code",
   "execution_count": null,
   "id": "a699e0b6",
   "metadata": {},
   "outputs": [],
   "source": [
    "import paddle\n",
    "from paddlenlp.transformers import AutoModel\n",
    "\n",
    "model = AutoModel.from_pretrained(\"ThomasNLG/t5-qg_squad1-en\")\n",
    "input_ids = paddle.randint(100, 200, shape=[1, 20])\n",
    "print(model(input_ids))"
   ]
  },
  {
   "cell_type": "markdown",
   "id": "3995d4c9",
   "metadata": {},
   "source": [
    "@article{scialom2020QuestEval,\n",
    "title={QuestEval: Summarization Asks for Fact-based Evaluation},\n",
    "author={Scialom, Thomas and Dray, Paul-Alexis and Gallinari, Patrick and Lamprier, Sylvain and Piwowarski, Benjamin and Staiano, Jacopo and Wang, Alex},\n",
    "journal={arXiv preprint arXiv:2103.12693},\n",
    "year={2021}\n",
    "}\n"
   ]
  },
  {
   "cell_type": "markdown",
   "id": "79eaef61",
   "metadata": {},
   "source": [
    "> 此模型来源于：[https://huggingface.co/ThomasNLG/t5-qg_squad1-en](https://huggingface.co/https://huggingface.co/ThomasNLG/t5-qg_squad1-en)\n"
   ]
  }
 ],
 "metadata": {},
 "nbformat": 4,
 "nbformat_minor": 5
}
