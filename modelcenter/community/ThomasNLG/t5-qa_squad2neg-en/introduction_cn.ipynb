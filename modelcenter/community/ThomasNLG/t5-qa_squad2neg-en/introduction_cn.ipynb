{
 "cells": [
  {
   "cell_type": "markdown",
   "id": "38414467",
   "metadata": {},
   "source": [
    "# t5-qa_squad2neg-en\n",
    "\n",
    "## Model description\n",
    "This model is a *Question Answering* model based on T5-small.\n",
    "It is actually a component of [QuestEval](https://github.com/ThomasScialom/QuestEval) metric but can be used independently as it is, for QA only.\n",
    "\n",
    "\n",
    "## How to use\n"
   ]
  },
  {
   "cell_type": "code",
   "execution_count": null,
   "id": "d3a1ba96",
   "metadata": {},
   "outputs": [],
   "source": [
    "import paddle\n",
    "from paddlenlp.transformers import AutoModel\n",
    "\n",
    "model = AutoModel.from_pretrained(\"ThomasNLG/t5-qa_squad2neg-en\")\n",
    "input_ids = paddle.randint(100, 200, shape=[1, 20])\n",
    "print(model(input_ids))"
   ]
  },
  {
   "cell_type": "code",
   "execution_count": null,
   "id": "c3782e55",
   "metadata": {},
   "outputs": [],
   "source": [
    "@article{scialom2020QuestEval,\n",
    "title={QuestEval: Summarization Asks for Fact-based Evaluation},\n",
    "author={Scialom, Thomas and Dray, Paul-Alexis and Gallinari, Patrick and Lamprier, Sylvain and Piwowarski, Benjamin and Staiano, Jacopo and Wang, Alex},\n",
    "journal={arXiv preprint arXiv:2103.12693},\n",
    "year={2021}\n",
    "}\n"
   ]
  },
  {
   "cell_type": "markdown",
   "id": "d2c76b77",
   "metadata": {},
   "source": [
    "> 此模型来源于：[https://huggingface.co/ThomasNLG/t5-qa_squad2neg-en](https://huggingface.co/https://huggingface.co/ThomasNLG/t5-qa_squad2neg-en)"
   ]
  }
 ],
 "metadata": {},
 "nbformat": 4,
 "nbformat_minor": 5
}
