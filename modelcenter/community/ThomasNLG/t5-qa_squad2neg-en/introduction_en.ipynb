{
 "cells": [
  {
   "cell_type": "markdown",
   "id": "282814b5",
   "metadata": {},
   "source": [
    "# t5-qa_squad2neg-en\n"
   ]
  },
  {
   "cell_type": "markdown",
   "id": "ee57511a",
   "metadata": {},
   "source": [
    "## Model description\n",
    "This model is a *Question Answering* model based on T5-small.\n",
    "It is actually a component of [QuestEval](https://github.com/ThomasScialom/QuestEval) metric but can be used independently as it is, for QA only.\n"
   ]
  },
  {
   "cell_type": "markdown",
   "id": "8c21b15f",
   "metadata": {},
   "source": [
    "## How to use\n"
   ]
  },
  {
   "cell_type": "code",
   "execution_count": null,
   "id": "8ed94d36",
   "metadata": {},
   "outputs": [],
   "source": [
    "!pip install --upgrade paddlenlp"
   ]
  },
  {
   "cell_type": "code",
   "execution_count": null,
   "id": "a7e499c2",
   "metadata": {},
   "outputs": [],
   "source": [
    "import paddle\n",
    "from paddlenlp.transformers import AutoModel\n",
    "\n",
    "model = AutoModel.from_pretrained(\"ThomasNLG/t5-qa_squad2neg-en\")\n",
    "input_ids = paddle.randint(100, 200, shape=[1, 20])\n",
    "print(model(input_ids))"
   ]
  },
  {
   "cell_type": "markdown",
   "id": "c99bdd59",
   "metadata": {},
   "source": [
    "@article{scialom2020QuestEval,\n",
    "title={QuestEval: Summarization Asks for Fact-based Evaluation},\n",
    "author={Scialom, Thomas and Dray, Paul-Alexis and Gallinari, Patrick and Lamprier, Sylvain and Piwowarski, Benjamin and Staiano, Jacopo and Wang, Alex},\n",
    "journal={arXiv preprint arXiv:2103.12693},\n",
    "year={2021}\n",
    "}\n"
   ]
  },
  {
   "cell_type": "markdown",
   "id": "7aa8bb0b",
   "metadata": {},
   "source": [
    "> 此模型来源于：[https://huggingface.co/ThomasNLG/t5-qa_squad2neg-en](https://huggingface.co/https://huggingface.co/ThomasNLG/t5-qa_squad2neg-en)\n"
   ]
  }
 ],
 "metadata": {},
 "nbformat": 4,
 "nbformat_minor": 5
}
