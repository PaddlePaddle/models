{
 "cells": [
  {
   "cell_type": "markdown",
   "id": "f6886155",
   "metadata": {},
   "source": [
    "# t5-qa_squad2neg-en\n",
    "\n",
    "## Model description\n",
    "This model is a *Question Answering* model based on T5-small.\n",
    "It is actually a component of [QuestEval](https://github.com/ThomasScialom/QuestEval) metric but can be used independently as it is, for QA only.\n",
    "\n",
    "\n",
    "## How to use\n"
   ]
  },
  {
   "cell_type": "code",
   "execution_count": null,
   "id": "d6efbd5a",
   "metadata": {},
   "outputs": [],
   "source": [
    "import paddle\n",
    "from paddlenlp.transformers import AutoModel\n",
    "\n",
    "model = AutoModel.from_pretrained(\"ThomasNLG/t5-qa_squad2neg-en\")\n",
    "input_ids = paddle.randint(100, 200, shape=[1, 20])\n",
    "print(model(input_ids))"
   ]
  },
  {
   "cell_type": "markdown",
   "id": "0caadaa3",
   "metadata": {},
   "source": [
    "> 此模型来源于：[https://huggingface.co/ThomasNLG/t5-qa_squad2neg-en](https://huggingface.co/https://huggingface.co/ThomasNLG/t5-qa_squad2neg-en)"
   ]
  }
 ],
 "metadata": {},
 "nbformat": 4,
 "nbformat_minor": 5
}
