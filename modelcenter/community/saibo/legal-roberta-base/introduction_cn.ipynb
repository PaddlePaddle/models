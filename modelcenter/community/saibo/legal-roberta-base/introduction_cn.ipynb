{
 "cells": [
  {
   "cell_type": "markdown",
   "id": "dde1956b",
   "metadata": {},
   "source": [
    "# LEGAL-ROBERTA\n",
    "We introduce LEGAL-ROBERTA, which is a domain-specific language representation model fine-tuned on large-scale legal corpora(4.6 GB).\n"
   ]
  },
  {
   "cell_type": "markdown",
   "id": "15335a0b",
   "metadata": {},
   "source": [
    "## Demo\n"
   ]
  },
  {
   "cell_type": "markdown",
   "id": "afaee1ad",
   "metadata": {},
   "source": [
    "'This \\<mask\\> Agreement is between General Motors and John Murray .'\n"
   ]
  },
  {
   "cell_type": "markdown",
   "id": "0bee052e",
   "metadata": {},
   "source": [
    "| Model        | top1 | top2    |  top3   | top4    | top5 |\n",
    "| ------------ | ---- | --- | --- | --- | -------- |\n",
    "| Bert         |  new    |   current  | proposed    |  marketing   |    joint      |\n",
    "| legalBert    |  settlement    | letter    |  dealer   |  master   |   supplemental       |\n",
    "| legalRoberta | License     |  Settlement   |  Contract   |  license   |   Trust       |\n"
   ]
  },
  {
   "cell_type": "markdown",
   "id": "bdfe26db",
   "metadata": {},
   "source": [
    "> LegalRoberta captures the case\n"
   ]
  },
  {
   "cell_type": "markdown",
   "id": "41e60dfd",
   "metadata": {},
   "source": [
    "'The applicant submitted that her husband was subjected to treatment amounting to \\<mask\\> whilst in the custody of Adana Security Directorate'\n"
   ]
  },
  {
   "cell_type": "markdown",
   "id": "ac14e9f5",
   "metadata": {},
   "source": [
    "| Model        | top1 | top2    |  top3   | top4    |  top5 |\n",
    "| ------------ | ---- | --- | --- | --- | -------- |\n",
    "| Bert    |  torture    |  rape   |  abuse   |  death   |     violence     |\n",
    "| legalBert    |  torture    | detention    | arrest    |  rape   |   death       |\n",
    "| legalRoberta | torture     |  abuse   |  insanity   |   cruelty  |    confinement      |\n"
   ]
  },
  {
   "cell_type": "markdown",
   "id": "e5bdfab7",
   "metadata": {},
   "source": [
    "'Establishing a system for the identification and registration of \\<mask\\> animals and regarding the labeling of beef and beef products .':\n"
   ]
  },
  {
   "cell_type": "markdown",
   "id": "4c010eae",
   "metadata": {},
   "source": [
    "| Model        | top1 | top2    |  top3   | top4    | top5 |\n",
    "| ------------ | ---- | --- | --- | --- | -------- |\n",
    "| Bert         |  farm    |  livestock   | draft    | domestic    |   wild       |\n",
    "| legalBert    |   live   |  beef   |  farm   | pet    |      dairy    |\n",
    "| legalRoberta | domestic     |  all   |  beef   |   wild  |    registered      |\n"
   ]
  },
  {
   "cell_type": "markdown",
   "id": "4541a888",
   "metadata": {},
   "source": [
    "## Load Pretrained Model\n"
   ]
  },
  {
   "cell_type": "code",
   "execution_count": null,
   "id": "8aa84b63",
   "metadata": {},
   "outputs": [],
   "source": [
    "!pip install --upgrade paddlenlp"
   ]
  },
  {
   "cell_type": "code",
   "execution_count": null,
   "id": "74884d7d",
   "metadata": {},
   "outputs": [],
   "source": [
    "import paddle\n",
    "from paddlenlp.transformers import AutoModel\n",
    "\n",
    "model = AutoModel.from_pretrained(\"saibo/legal-roberta-base\")\n",
    "input_ids = paddle.randint(100, 200, shape=[1, 20])\n",
    "print(model(input_ids))"
   ]
  },
  {
   "cell_type": "markdown",
   "id": "f7b289d4",
   "metadata": {},
   "source": [
    "['I', 'Ġlove', 'Ġsalad']\n"
   ]
  },
  {
   "cell_type": "markdown",
   "id": "75a92e75",
   "metadata": {},
   "source": [
    "The pretraining of LegalRoBERTa was restricted by the size of legal corpora available and the number of pretraining steps is small compared to the popular domain adapted models. This makes legalRoBERTa significantly **under-trained**.\n"
   ]
  },
  {
   "cell_type": "markdown",
   "id": "ebbe017d",
   "metadata": {},
   "source": [
    "## BibTeX entry and citation info\n"
   ]
  },
  {
   "cell_type": "markdown",
   "id": "ef8619c6",
   "metadata": {},
   "source": [
    "> 此模型来源于：[https://huggingface.co/saibo/legal-roberta-base](https://huggingface.co/https://huggingface.co/saibo/legal-roberta-base)\n"
   ]
  }
 ],
 "metadata": {},
 "nbformat": 4,
 "nbformat_minor": 5
}
