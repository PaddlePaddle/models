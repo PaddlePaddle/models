{
 "cells": [
  {
   "cell_type": "markdown",
   "id": "be0df584",
   "metadata": {},
   "source": [
    "\n",
    "\n",
    "\n",
    "\n",
    "# LEGAL-ROBERTA\n",
    "We introduce LEGAL-ROBERTA, which is a domain-specific language representation model fine-tuned on large-scale legal corpora(4.6 GB).\n",
    "\n",
    "## Demo\n",
    "\n",
    "\n",
    "\n",
    "'This \\<mask\\> Agreement is between General Motors and John Murray .'\n",
    "\n",
    "\n",
    "\n",
    "| Model        | top1 | top2    |  top3   | top4    | top5 |\n",
    "| ------------ | ---- | --- | --- | --- | -------- |\n",
    "| Bert         |  new    |   current  | proposed    |  marketing   |    joint      |\n",
    "| legalBert    |  settlement    | letter    |  dealer   |  master   |   supplemental       |\n",
    "| legalRoberta | License     |  Settlement   |  Contract   |  license   |   Trust       |\n",
    "\n",
    "> LegalRoberta captures the case\n",
    "\n",
    "'The applicant submitted that her husband was subjected to treatment amounting to \\<mask\\> whilst in the custody of Adana Security Directorate'\n",
    "\n",
    "\n",
    "| Model        | top1 | top2    |  top3   | top4    |  top5 |\n",
    "| ------------ | ---- | --- | --- | --- | -------- |\n",
    "| Bert    |  torture    |  rape   |  abuse   |  death   |     violence     |\n",
    "| legalBert    |  torture    | detention    | arrest    |  rape   |   death       |\n",
    "| legalRoberta | torture     |  abuse   |  insanity   |   cruelty  |    confinement      |\n",
    "\n",
    "'Establishing a system for the identification and registration of \\<mask\\> animals and regarding the labeling of beef and beef products .':\n",
    "\n",
    "| Model        | top1 | top2    |  top3   | top4    | top5 |\n",
    "| ------------ | ---- | --- | --- | --- | -------- |\n",
    "| Bert         |  farm    |  livestock   | draft    | domestic    |   wild       |\n",
    "| legalBert    |   live   |  beef   |  farm   | pet    |      dairy    |\n",
    "| legalRoberta | domestic     |  all   |  beef   |   wild  |    registered      |\n",
    "\n",
    "## Load Pretrained Model\n"
   ]
  },
  {
   "cell_type": "code",
   "execution_count": null,
   "id": "390e6152",
   "metadata": {},
   "outputs": [],
   "source": [
    "import paddle\n",
    "from paddlenlp.transformers import AutoModel\n",
    "\n",
    "model = AutoModel.from_pretrained(\"saibo/legal-roberta-base\")\n",
    "input_ids = paddle.randint(100, 200, shape=[1, 20])\n",
    "print(model(input_ids))"
   ]
  },
  {
   "cell_type": "markdown",
   "id": "27f14f28",
   "metadata": {},
   "source": [
    "The pretraining of LegalRoBERTa was restricted by the size of legal corpora available and the number of pretraining steps is small compared to the popular domain adapted models. This makes legalRoBERTa significantly **under-trained**.\n",
    "\n",
    "## BibTeX entry and citation info\n",
    "\n",
    "\n",
    "\n",
    "\n",
    "> 此模型来源于：[https://huggingface.co/saibo/legal-roberta-base](https://huggingface.co/https://huggingface.co/saibo/legal-roberta-base)"
   ]
  }
 ],
 "metadata": {},
 "nbformat": 4,
 "nbformat_minor": 5
}
