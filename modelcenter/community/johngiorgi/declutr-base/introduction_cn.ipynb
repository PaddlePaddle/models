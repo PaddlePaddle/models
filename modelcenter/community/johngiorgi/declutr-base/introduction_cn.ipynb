{
 "cells": [
  {
   "cell_type": "markdown",
   "id": "e09be084",
   "metadata": {},
   "source": [
    "# DeCLUTR-base\n"
   ]
  },
  {
   "cell_type": "markdown",
   "id": "952544fe",
   "metadata": {},
   "source": [
    "## Model description\n"
   ]
  },
  {
   "cell_type": "markdown",
   "id": "ec5794e4",
   "metadata": {},
   "source": [
    "The \"DeCLUTR-base\" model from our paper: [DeCLUTR: Deep Contrastive Learning for Unsupervised Textual Representations](https://arxiv.org/abs/2006.03659).\n"
   ]
  },
  {
   "cell_type": "markdown",
   "id": "319d3afd",
   "metadata": {},
   "source": [
    "## Intended uses & limitations\n"
   ]
  },
  {
   "cell_type": "markdown",
   "id": "e1afe7cb",
   "metadata": {},
   "source": [
    "The model is intended to be used as a universal sentence encoder, similar to [Google's Universal Sentence Encoder](https://tfhub.dev/google/universal-sentence-encoder/4) or [Sentence Transformers](https://github.com/UKPLab/sentence-transformers).\n"
   ]
  },
  {
   "cell_type": "markdown",
   "id": "be161b0e",
   "metadata": {},
   "source": [
    "#### How to use\n"
   ]
  },
  {
   "cell_type": "markdown",
   "id": "05c52f12",
   "metadata": {},
   "source": [
    "Please see [our repo](https://github.com/JohnGiorgi/DeCLUTR) for full details. A simple example is shown below.\n"
   ]
  },
  {
   "cell_type": "markdown",
   "id": "8d774d95",
   "metadata": {},
   "source": [
    "##### With [SentenceTransformers](https://www.sbert.net/)\n"
   ]
  },
  {
   "cell_type": "code",
   "execution_count": null,
   "id": "5e26c4ef",
   "metadata": {},
   "outputs": [],
   "source": [
    "!pip install --upgrade paddlenlp"
   ]
  },
  {
   "cell_type": "code",
   "execution_count": null,
   "id": "6193960e",
   "metadata": {},
   "outputs": [],
   "source": [
    "import paddle\n",
    "from paddlenlp.transformers import AutoModel\n",
    "\n",
    "model = AutoModel.from_pretrained(\"johngiorgi/declutr-base\")\n",
    "input_ids = paddle.randint(100, 200, shape=[1, 20])\n",
    "print(model(input_ids))"
   ]
  },
  {
   "cell_type": "markdown",
   "id": "f5b0752a",
   "metadata": {},
   "source": [
    "@inproceedings{giorgi-etal-2021-declutr,\n",
    "title        = {{D}e{CLUTR}: Deep Contrastive Learning for Unsupervised Textual Representations},\n",
    "author       = {Giorgi, John  and Nitski, Osvald  and Wang, Bo  and Bader, Gary},\n",
    "year         = 2021,\n",
    "month        = aug,\n",
    "booktitle    = {Proceedings of the 59th Annual Meeting of the Association for Computational Linguistics and the 11th International Joint Conference on Natural Language Processing (Volume 1: Long Papers)},\n",
    "publisher    = {Association for Computational Linguistics},\n",
    "address      = {Online},\n",
    "pages        = {879--895},\n",
    "doi          = {10.18653/v1/2021.acl-long.72},\n",
    "url          = {https://aclanthology.org/2021.acl-long.72}\n",
    "}\n"
   ]
  },
  {
   "cell_type": "markdown",
   "id": "00275e44",
   "metadata": {},
   "source": [
    "> 此模型来源于：[https://huggingface.co/johngiorgi/declutr-base](https://huggingface.co/https://huggingface.co/johngiorgi/declutr-base)\n"
   ]
  }
 ],
 "metadata": {},
 "nbformat": 4,
 "nbformat_minor": 5
}
