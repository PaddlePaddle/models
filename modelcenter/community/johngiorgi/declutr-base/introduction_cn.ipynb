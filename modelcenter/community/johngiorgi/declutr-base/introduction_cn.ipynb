{
 "cells": [
  {
   "cell_type": "markdown",
   "id": "6a600727",
   "metadata": {},
   "source": [
    "# DeCLUTR-base\n",
    "\n",
    "## Model description\n",
    "\n",
    "The \"DeCLUTR-base\" model from our paper: [DeCLUTR: Deep Contrastive Learning for Unsupervised Textual Representations](https://arxiv.org/abs/2006.03659).\n",
    "\n",
    "## Intended uses & limitations\n",
    "\n",
    "The model is intended to be used as a universal sentence encoder, similar to [Google's Universal Sentence Encoder](https://tfhub.dev/google/universal-sentence-encoder/4) or [Sentence Transformers](https://github.com/UKPLab/sentence-transformers).\n",
    "\n",
    "#### How to use\n",
    "\n",
    "Please see [our repo](https://github.com/JohnGiorgi/DeCLUTR) for full details. A simple example is shown below.\n",
    "\n",
    "##### With [SentenceTransformers](https://www.sbert.net/)\n"
   ]
  },
  {
   "cell_type": "code",
   "execution_count": null,
   "id": "e2b6194e",
   "metadata": {},
   "outputs": [],
   "source": [
    "import paddle\n",
    "from paddlenlp.transformers import AutoModel\n",
    "\n",
    "model = AutoModel.from_pretrained(\"johngiorgi/declutr-base\")\n",
    "input_ids = paddle.randint(100, 200, shape=[1, 20])\n",
    "print(model(input_ids))"
   ]
  },
  {
   "cell_type": "markdown",
   "id": "80ef6d85",
   "metadata": {},
   "source": [
    "> 此模型来源于：[https://huggingface.co/johngiorgi/declutr-base](https://huggingface.co/https://huggingface.co/johngiorgi/declutr-base)"
   ]
  }
 ],
 "metadata": {},
 "nbformat": 4,
 "nbformat_minor": 5
}
