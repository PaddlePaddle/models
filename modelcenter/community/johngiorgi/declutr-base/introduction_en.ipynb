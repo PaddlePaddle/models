{
 "cells": [
  {
   "cell_type": "markdown",
   "id": "d64b089a",
   "metadata": {},
   "source": [
    "# DeCLUTR-base\n"
   ]
  },
  {
   "cell_type": "markdown",
   "id": "5069e71a",
   "metadata": {},
   "source": [
    "## Model description\n"
   ]
  },
  {
   "cell_type": "markdown",
   "id": "19d3a302",
   "metadata": {},
   "source": [
    "The \"DeCLUTR-base\" model from our paper: [DeCLUTR: Deep Contrastive Learning for Unsupervised Textual Representations](https://arxiv.org/abs/2006.03659).\n"
   ]
  },
  {
   "cell_type": "markdown",
   "id": "7c75f233",
   "metadata": {},
   "source": [
    "## Intended uses & limitations\n"
   ]
  },
  {
   "cell_type": "markdown",
   "id": "a4794c15",
   "metadata": {},
   "source": [
    "The model is intended to be used as a universal sentence encoder, similar to [Google's Universal Sentence Encoder](https://tfhub.dev/google/universal-sentence-encoder/4) or [Sentence Transformers](https://github.com/UKPLab/sentence-transformers).\n"
   ]
  },
  {
   "cell_type": "markdown",
   "id": "3f58a284",
   "metadata": {},
   "source": [
    "## How to use"
   ]
  },
  {
   "cell_type": "code",
   "execution_count": null,
   "id": "de07aed1",
   "metadata": {},
   "outputs": [],
   "source": [
    "!pip install --upgrade paddlenlp"
   ]
  },
  {
   "cell_type": "code",
   "execution_count": null,
   "id": "f3fbbc4e",
   "metadata": {},
   "outputs": [],
   "source": [
    "import paddle\n",
    "from paddlenlp.transformers import AutoModel\n",
    "\n",
    "model = AutoModel.from_pretrained(\"johngiorgi/declutr-base\")\n",
    "input_ids = paddle.randint(100, 200, shape=[1, 20])\n",
    "print(model(input_ids))"
   ]
  },
  {
   "cell_type": "markdown",
   "id": "179d076d",
   "metadata": {},
   "source": [
    "## Citation\n",
    "\n",
    "```\n",
    "@inproceedings{giorgi-etal-2021-declutr,\n",
    "title        = {{D}e{CLUTR}: Deep Contrastive Learning for Unsupervised Textual Representations},\n",
    "author       = {Giorgi, John  and Nitski, Osvald  and Wang, Bo  and Bader, Gary},\n",
    "year         = 2021,\n",
    "month        = aug,\n",
    "booktitle    = {Proceedings of the 59th Annual Meeting of the Association for Computational Linguistics and the 11th International Joint Conference on Natural Language Processing (Volume 1: Long Papers)},\n",
    "publisher    = {Association for Computational Linguistics},\n",
    "address      = {Online},\n",
    "pages        = {879--895},\n",
    "doi          = {10.18653/v1/2021.acl-long.72},\n",
    "url          = {https://aclanthology.org/2021.acl-long.72}\n",
    "}\n",
    "```"
   ]
  },
  {
   "cell_type": "markdown",
   "id": "f4ee72b8",
   "metadata": {},
   "source": [
    "> 此模型来源于：[https://huggingface.co/johngiorgi/declutr-base](https://huggingface.co/johngiorgi/declutr-base)\n"
   ]
  }
 ],
 "metadata": {
  "kernelspec": {
   "display_name": "Python 3 (ipykernel)",
   "language": "python",
   "name": "python3"
  },
  "language_info": {
   "codemirror_mode": {
    "name": "ipython",
    "version": 3
   },
   "file_extension": ".py",
   "mimetype": "text/x-python",
   "name": "python",
   "nbconvert_exporter": "python",
   "pygments_lexer": "ipython3",
   "version": "3.8.13"
  }
 },
 "nbformat": 4,
 "nbformat_minor": 5
}
