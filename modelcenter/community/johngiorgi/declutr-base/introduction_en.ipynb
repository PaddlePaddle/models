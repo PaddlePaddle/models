{
 "cells": [
  {
   "cell_type": "markdown",
   "id": "1fad3398",
   "metadata": {},
   "source": [
    "# DeCLUTR-base\n"
   ]
  },
  {
   "cell_type": "markdown",
   "id": "31999e25",
   "metadata": {},
   "source": [
    "## Model description\n"
   ]
  },
  {
   "cell_type": "markdown",
   "id": "9d5c416d",
   "metadata": {},
   "source": [
    "The \"DeCLUTR-base\" model from our paper: [DeCLUTR: Deep Contrastive Learning for Unsupervised Textual Representations](https://arxiv.org/abs/2006.03659).\n"
   ]
  },
  {
   "cell_type": "markdown",
   "id": "b9ec6963",
   "metadata": {},
   "source": [
    "## Intended uses & limitations\n"
   ]
  },
  {
   "cell_type": "markdown",
   "id": "221e5071",
   "metadata": {},
   "source": [
    "The model is intended to be used as a universal sentence encoder, similar to [Google's Universal Sentence Encoder](https://tfhub.dev/google/universal-sentence-encoder/4) or [Sentence Transformers](https://github.com/UKPLab/sentence-transformers).\n"
   ]
  },
  {
   "cell_type": "markdown",
   "id": "1cb0acba",
   "metadata": {},
   "source": [
    "#### How to use\n"
   ]
  },
  {
   "cell_type": "markdown",
   "id": "6dae8123",
   "metadata": {},
   "source": [
    "Please see [our repo](https://github.com/JohnGiorgi/DeCLUTR) for full details. A simple example is shown below.\n"
   ]
  },
  {
   "cell_type": "markdown",
   "id": "3aeb73ac",
   "metadata": {},
   "source": [
    "##### With [SentenceTransformers](https://www.sbert.net/)\n"
   ]
  },
  {
   "cell_type": "code",
   "execution_count": null,
   "id": "14a7142d",
   "metadata": {},
   "outputs": [],
   "source": [
    "!pip install --upgrade paddlenlp"
   ]
  },
  {
   "cell_type": "code",
   "execution_count": null,
   "id": "5cce9653",
   "metadata": {},
   "outputs": [],
   "source": [
    "import paddle\n",
    "from paddlenlp.transformers import AutoModel\n",
    "\n",
    "model = AutoModel.from_pretrained(\"johngiorgi/declutr-base\")\n",
    "input_ids = paddle.randint(100, 200, shape=[1, 20])\n",
    "print(model(input_ids))"
   ]
  },
  {
   "cell_type": "markdown",
   "id": "da2472cc",
   "metadata": {},
   "source": [
    "@inproceedings{giorgi-etal-2021-declutr,\n",
    "title        = {{D}e{CLUTR}: Deep Contrastive Learning for Unsupervised Textual Representations},\n",
    "author       = {Giorgi, John  and Nitski, Osvald  and Wang, Bo  and Bader, Gary},\n",
    "year         = 2021,\n",
    "month        = aug,\n",
    "booktitle    = {Proceedings of the 59th Annual Meeting of the Association for Computational Linguistics and the 11th International Joint Conference on Natural Language Processing (Volume 1: Long Papers)},\n",
    "publisher    = {Association for Computational Linguistics},\n",
    "address      = {Online},\n",
    "pages        = {879--895},\n",
    "doi          = {10.18653/v1/2021.acl-long.72},\n",
    "url          = {https://aclanthology.org/2021.acl-long.72}\n",
    "}\n"
   ]
  },
  {
   "cell_type": "markdown",
   "id": "83b8f819",
   "metadata": {},
   "source": [
    "> 此模型来源于：[https://huggingface.co/johngiorgi/declutr-base](https://huggingface.co/https://huggingface.co/johngiorgi/declutr-base)\n"
   ]
  }
 ],
 "metadata": {},
 "nbformat": 4,
 "nbformat_minor": 5
}
