{
 "cells": [
  {
   "cell_type": "markdown",
   "id": "af1de0a8",
   "metadata": {},
   "source": [
    "## Overview\n",
    "**Language model:** deepset/roberta-base-squad2-distilled\n",
    "**Language:** English\n",
    "**Training data:** SQuAD 2.0 training set\n",
    "**Eval data:** SQuAD 2.0 dev set\n",
    "**Infrastructure**: 4x V100 GPU\n",
    "**Published**: Dec 8th, 2021\n"
   ]
  },
  {
   "cell_type": "markdown",
   "id": "ba2838d4",
   "metadata": {},
   "source": [
    "## Details\n",
    "- haystack's distillation feature was used for training. deepset/roberta-large-squad2 was used as the teacher model.\n"
   ]
  },
  {
   "cell_type": "markdown",
   "id": "ca925210",
   "metadata": {},
   "source": [
    "## Hyperparameters\n"
   ]
  },
  {
   "cell_type": "code",
   "execution_count": null,
   "id": "63cca993",
   "metadata": {},
   "outputs": [],
   "source": [
    "!pip install --upgrade paddlenlp"
   ]
  },
  {
   "cell_type": "code",
   "execution_count": null,
   "id": "c7c86073",
   "metadata": {},
   "outputs": [],
   "source": [
    "import paddle\n",
    "from paddlenlp.transformers import AutoModel\n",
    "\n",
    "model = AutoModel.from_pretrained(\"deepset/roberta-base-squad2-distilled\")\n",
    "input_ids = paddle.randint(100, 200, shape=[1, 20])\n",
    "print(model(input_ids))"
   ]
  },
  {
   "cell_type": "markdown",
   "id": "b1bf9135",
   "metadata": {},
   "source": [
    "## Authors\n",
    "- Timo Möller: `timo.moeller [at] deepset.ai`\n",
    "- Julian Risch: `julian.risch [at] deepset.ai`\n",
    "- Malte Pietsch: `malte.pietsch [at] deepset.ai`\n",
    "- Michel Bartels: `michel.bartels [at] deepset.ai`\n",
    "## About us\n",
    "![deepset logo](https://workablehr.s3.amazonaws.com/uploads/account/logo/476306/logo)\n",
    "We bring NLP to the industry via open source!\n",
    "Our focus: Industry specific language models & large scale QA systems.\n"
   ]
  },
  {
   "cell_type": "markdown",
   "id": "c1ad1e60",
   "metadata": {},
   "source": [
    "Some of our work:\n",
    "- [German BERT (aka \"bert-base-german-cased\")](https://deepset.ai/german-bert)\n",
    "- [GermanQuAD and GermanDPR datasets and models (aka \"gelectra-base-germanquad\", \"gbert-base-germandpr\")](https://deepset.ai/germanquad)\n",
    "- [FARM](https://github.com/deepset-ai/FARM)\n",
    "- [Haystack](https://github.com/deepset-ai/haystack/)\n"
   ]
  },
  {
   "cell_type": "markdown",
   "id": "0d12e624",
   "metadata": {},
   "source": [
    "Get in touch:\n",
    "[Twitter](https://twitter.com/deepset_ai) | [LinkedIn](https://www.linkedin.com/company/deepset-ai/) | [Slack](https://haystack.deepset.ai/community/join) | [GitHub Discussions](https://github.com/deepset-ai/haystack/discussions) | [Website](https://deepset.ai)\n"
   ]
  },
  {
   "cell_type": "markdown",
   "id": "9f2670bb",
   "metadata": {},
   "source": [
    "By the way: [we're hiring!](http://www.deepset.ai/jobs)\n",
    "> 此模型来源于：[https://huggingface.co/deepset/roberta-base-squad2-distilled](https://huggingface.co/https://huggingface.co/deepset/roberta-base-squad2-distilled)\n"
   ]
  }
 ],
 "metadata": {},
 "nbformat": 4,
 "nbformat_minor": 5
}
