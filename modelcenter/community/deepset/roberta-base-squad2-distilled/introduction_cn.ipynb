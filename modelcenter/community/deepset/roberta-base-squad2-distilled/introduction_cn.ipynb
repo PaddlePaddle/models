{
 "cells": [
  {
   "cell_type": "markdown",
   "id": "f111d140",
   "metadata": {},
   "source": [
    "## Overview\n",
    "\n",
    "**Language model:** deepset/roberta-base-squad2-distilled\n",
    "\n",
    "**Language:** English\n",
    "\n",
    "**Training data:** SQuAD 2.0 training set\n",
    "\n",
    "**Eval data:** SQuAD 2.0 dev set\n",
    "\n",
    "**Infrastructure**: 4x V100 GPU\n",
    "\n",
    "**Published**: Dec 8th, 2021\n"
   ]
  },
  {
   "cell_type": "markdown",
   "id": "85b7cc2e",
   "metadata": {},
   "source": [
    "## Details\n",
    "- haystack's distillation feature was used for training. deepset/roberta-large-squad2 was used as the teacher model.\n"
   ]
  },
  {
   "cell_type": "markdown",
   "id": "07f3a50e",
   "metadata": {},
   "source": [
    "## Hyperparameters\n",
    "\n",
    "```python\n",
    "batch_size = 80\n",
    "n_epochs = 4\n",
    "max_seq_len = 384\n",
    "learning_rate = 3e-5\n",
    "lr_schedule = LinearWarmup\n",
    "embeds_dropout_prob = 0.1\n",
    "temperature = 1.5\n",
    "distillation_loss_weight = 0.75\n",
    "```"
   ]
  },
  {
   "cell_type": "markdown",
   "id": "a455ff64",
   "metadata": {},
   "source": [
    "## How to use"
   ]
  },
  {
   "cell_type": "code",
   "execution_count": null,
   "id": "d51fa907",
   "metadata": {},
   "outputs": [],
   "source": [
    "!pip install --upgrade paddlenlp"
   ]
  },
  {
   "cell_type": "code",
   "execution_count": null,
   "id": "4590c7eb",
   "metadata": {},
   "outputs": [],
   "source": [
    "import paddle\n",
    "from paddlenlp.transformers import AutoModel\n",
    "\n",
    "model = AutoModel.from_pretrained(\"deepset/roberta-base-squad2-distilled\")\n",
    "input_ids = paddle.randint(100, 200, shape=[1, 20])\n",
    "print(model(input_ids))"
   ]
  },
  {
   "cell_type": "markdown",
   "id": "ac6e34fd",
   "metadata": {},
   "source": [
    "## Authors\n",
    "- Timo Möller: `timo.moeller [at] deepset.ai`\n",
    "- Julian Risch: `julian.risch [at] deepset.ai`\n",
    "- Malte Pietsch: `malte.pietsch [at] deepset.ai`\n",
    "- Michel Bartels: `michel.bartels [at] deepset.ai`\n",
    "## About us\n",
    "![deepset logo](https://workablehr.s3.amazonaws.com/uploads/account/logo/476306/logo)\n",
    "We bring NLP to the industry via open source!\n",
    "Our focus: Industry specific language models & large scale QA systems.\n"
   ]
  },
  {
   "cell_type": "markdown",
   "id": "6f19f2e9",
   "metadata": {},
   "source": [
    "Some of our work:\n",
    "- [German BERT (aka \"bert-base-german-cased\")](https://deepset.ai/german-bert)\n",
    "- [GermanQuAD and GermanDPR datasets and models (aka \"gelectra-base-germanquad\", \"gbert-base-germandpr\")](https://deepset.ai/germanquad)\n",
    "- [FARM](https://github.com/deepset-ai/FARM)\n",
    "- [Haystack](https://github.com/deepset-ai/haystack/)\n"
   ]
  },
  {
   "cell_type": "markdown",
   "id": "53b9274e",
   "metadata": {},
   "source": [
    "Get in touch:\n",
    "[Twitter](https://twitter.com/deepset_ai) | [LinkedIn](https://www.linkedin.com/company/deepset-ai/) | [Slack](https://haystack.deepset.ai/community/join) | [GitHub Discussions](https://github.com/deepset-ai/haystack/discussions) | [Website](https://deepset.ai)\n"
   ]
  },
  {
   "cell_type": "markdown",
   "id": "3d22bf87",
   "metadata": {},
   "source": [
    "By the way: [we're hiring!](http://www.deepset.ai/jobs)\n",
    "> 此模型介绍及权重来源于[https://huggingface.co/deepset/roberta-base-squad2-distilled](https://huggingface.co/deepset/roberta-base-squad2-distilled)，并转换为飞桨模型格式\n"
   ]
  }
 ],
 "metadata": {
  "kernelspec": {
   "display_name": "Python 3 (ipykernel)",
   "language": "python",
   "name": "python3"
  },
  "language_info": {
   "codemirror_mode": {
    "name": "ipython",
    "version": 3
   },
   "file_extension": ".py",
   "mimetype": "text/x-python",
   "name": "python",
   "nbconvert_exporter": "python",
   "pygments_lexer": "ipython3",
   "version": "3.8.13"
  }
 },
 "nbformat": 4,
 "nbformat_minor": 5
}
