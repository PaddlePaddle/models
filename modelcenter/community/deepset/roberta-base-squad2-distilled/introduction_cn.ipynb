{
 "cells": [
  {
   "cell_type": "markdown",
   "id": "5b49a658",
   "metadata": {},
   "source": [
    "## Overview\n",
    "**Language model:** deepset/roberta-base-squad2-distilled\n",
    "**Language:** English\n",
    "**Training data:** SQuAD 2.0 training set\n",
    "**Eval data:** SQuAD 2.0 dev set\n",
    "**Infrastructure**: 4x V100 GPU\n",
    "**Published**: Dec 8th, 2021\n",
    "\n",
    "## Details\n",
    "- haystack's distillation feature was used for training. deepset/roberta-large-squad2 was used as the teacher model.\n",
    "\n",
    "## Hyperparameters\n"
   ]
  },
  {
   "cell_type": "code",
   "execution_count": null,
   "id": "d96dc349",
   "metadata": {},
   "outputs": [],
   "source": [
    "import paddle\n",
    "from paddlenlp.transformers import AutoModel\n",
    "\n",
    "model = AutoModel.from_pretrained(\"deepset/roberta-base-squad2-distilled\")\n",
    "input_ids = paddle.randint(100, 200, shape=[1, 20])\n",
    "print(model(input_ids))"
   ]
  },
  {
   "cell_type": "markdown",
   "id": "491d4c32",
   "metadata": {},
   "source": [
    "## Authors\n",
    "- Timo Möller: `timo.moeller [at] deepset.ai`\n",
    "- Julian Risch: `julian.risch [at] deepset.ai`\n",
    "- Malte Pietsch: `malte.pietsch [at] deepset.ai`\n",
    "- Michel Bartels: `michel.bartels [at] deepset.ai`\n",
    "## About us\n",
    "![deepset logo](https://workablehr.s3.amazonaws.com/uploads/account/logo/476306/logo)\n",
    "We bring NLP to the industry via open source!\n",
    "Our focus: Industry specific language models & large scale QA systems.\n",
    "\n",
    "Some of our work:\n",
    "- [German BERT (aka \"bert-base-german-cased\")](https://deepset.ai/german-bert)\n",
    "- [GermanQuAD and GermanDPR datasets and models (aka \"gelectra-base-germanquad\", \"gbert-base-germandpr\")](https://deepset.ai/germanquad)\n",
    "- [FARM](https://github.com/deepset-ai/FARM)\n",
    "- [Haystack](https://github.com/deepset-ai/haystack/)\n",
    "\n",
    "Get in touch:\n",
    "[Twitter](https://twitter.com/deepset_ai) | [LinkedIn](https://www.linkedin.com/company/deepset-ai/) | [Slack](https://haystack.deepset.ai/community/join) | [GitHub Discussions](https://github.com/deepset-ai/haystack/discussions) | [Website](https://deepset.ai)\n",
    "\n",
    "By the way: [we're hiring!](http://www.deepset.ai/jobs)\n",
    "> 此模型来源于：[https://huggingface.co/deepset/roberta-base-squad2-distilled](https://huggingface.co/https://huggingface.co/deepset/roberta-base-squad2-distilled)"
   ]
  }
 ],
 "metadata": {},
 "nbformat": 4,
 "nbformat_minor": 5
}
