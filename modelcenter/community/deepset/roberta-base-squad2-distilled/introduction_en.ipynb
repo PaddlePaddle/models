{
 "cells": [
  {
   "cell_type": "markdown",
   "id": "b917c220",
   "metadata": {},
   "source": [
    "## Overview\n",
    "\n",
    "Language model: deepset/roberta-base-squad2-distilled\n",
    "\n",
    "Language: English\n",
    "\n",
    "Training data: SQuAD 2.0 training set Eval data: SQuAD 2.0 dev set Infrastructure: 4x V100 GPU\n",
    "\n",
    "Published: Dec 8th, 2021"
   ]
  },
  {
   "cell_type": "markdown",
   "id": "94e41c66",
   "metadata": {},
   "source": [
    "## How to use"
   ]
  },
  {
   "cell_type": "code",
   "execution_count": null,
   "id": "8b2c9009",
   "metadata": {},
   "outputs": [],
   "source": [
    "!pip install --upgrade paddlenlp"
   ]
  },
  {
   "cell_type": "code",
   "execution_count": null,
   "id": "b9472a8e",
   "metadata": {},
   "outputs": [],
   "source": [
    "import paddle\n",
    "from paddlenlp.transformers import AutoModel\n",
    "\n",
    "model = AutoModel.from_pretrained(\"deepset/roberta-base-squad2-distilled\")\n",
    "input_ids = paddle.randint(100, 200, shape=[1, 20])\n",
    "print(model(input_ids))"
   ]
  },
  {
   "cell_type": "markdown",
   "id": "942ce61d",
   "metadata": {},
   "source": [
    "## Authors\n",
    "- Timo Möller: `timo.moeller [at] deepset.ai`\n",
    "- Julian Risch: `julian.risch [at] deepset.ai`\n",
    "- Malte Pietsch: `malte.pietsch [at] deepset.ai`\n",
    "- Michel Bartels: `michel.bartels [at] deepset.ai`\n",
    "## About us\n",
    "![deepset logo](https://workablehr.s3.amazonaws.com/uploads/account/logo/476306/logo)\n",
    "We bring NLP to the industry via open source!\n",
    "Our focus: Industry specific language models & large scale QA systems.\n"
   ]
  },
  {
   "cell_type": "markdown",
   "id": "d65be46f",
   "metadata": {},
   "source": [
    "> The model introduction and model weights originate from [https://huggingface.co/deepset/roberta-base-squad2-distilled](https://huggingface.co/deepset/roberta-base-squad2-distilled) and were converted to PaddlePaddle format for ease of use in PaddleNLP.\n"
   ]
  }
 ],
 "metadata": {
  "kernelspec": {
   "display_name": "Python 3 (ipykernel)",
   "language": "python",
   "name": "python3"
  },
  "language_info": {
   "codemirror_mode": {
    "name": "ipython",
    "version": 3
   },
   "file_extension": ".py",
   "mimetype": "text/x-python",
   "name": "python",
   "nbconvert_exporter": "python",
   "pygments_lexer": "ipython3",
   "version": "3.7.13"
  }
 },
 "nbformat": 4,
 "nbformat_minor": 5
}
