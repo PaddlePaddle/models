{
 "cells": [
  {
   "cell_type": "markdown",
   "id": "c5b2c55e",
   "metadata": {},
   "source": [
    "This is an upload of the bert-base-nli-stsb-mean-tokens pretrained model from the Sentence Transformers Repo (https://github.com/UKPLab/sentence-transformers)\n",
    "> 此模型来源于：[https://huggingface.co/deepset/sentence_bert](https://huggingface.co/https://huggingface.co/deepset/sentence_bert)"
   ]
  }
 ],
 "metadata": {},
 "nbformat": 4,
 "nbformat_minor": 5
}
