{
 "cells": [
  {
   "cell_type": "markdown",
   "id": "f3600d45",
   "metadata": {},
   "source": [
    "# t5-base-japanese-web (with Byte-fallback, 32K)\n"
   ]
  },
  {
   "cell_type": "markdown",
   "id": "8f744c2d",
   "metadata": {},
   "source": [
    "## Description\n"
   ]
  },
  {
   "cell_type": "markdown",
   "id": "15f2c346",
   "metadata": {},
   "source": [
    "[megagonlabs/t5-base-japanese-web](https://huggingface.co/megagonlabs/t5-base-japanese-web) is a T5 (Text-to-Text Transfer Transformer) model pre-trained on Japanese web texts.\n",
    "Training codes are [available on GitHub](https://github.com/megagonlabs/t5-japanese).\n"
   ]
  },
  {
   "cell_type": "markdown",
   "id": "8555cb82",
   "metadata": {},
   "source": [
    "The vocabulary size of this model is 32K.\n",
    "[8K version is also available](https://huggingface.co/megagonlabs/t5-base-japanese-web-8k).\n"
   ]
  },
  {
   "cell_type": "markdown",
   "id": "7148505b",
   "metadata": {},
   "source": [
    "### Corpora\n"
   ]
  },
  {
   "cell_type": "markdown",
   "id": "8d4ad0f9",
   "metadata": {},
   "source": [
    "We used following corpora for pre-training.\n"
   ]
  },
  {
   "cell_type": "markdown",
   "id": "7a02f2c4",
   "metadata": {},
   "source": [
    "- Japanese in [mC4/3.0.1](https://huggingface.co/datasets/mc4) (We used [Tensorflow native format](https://github.com/allenai/allennlp/discussions/5056))\n",
    "- 87,425,304 pages\n",
    "- 782 GB in TFRecord format\n",
    "- [Japanese](https://www.tensorflow.org/datasets/catalog/wiki40b#wiki40bja) in [wiki40b/1.3.0](https://www.tensorflow.org/datasets/catalog/wiki40b)\n",
    "- 828,236 articles (2,073,584 examples)\n",
    "- 2 GB in TFRecord format\n"
   ]
  },
  {
   "cell_type": "markdown",
   "id": "5ed3ac43",
   "metadata": {},
   "source": [
    "### Tokenizer\n"
   ]
  },
  {
   "cell_type": "markdown",
   "id": "6a280eea",
   "metadata": {},
   "source": [
    "We used Japanese Wikipedia to train [SentencePiece](https://github.com/google/sentencepiece).\n"
   ]
  },
  {
   "cell_type": "markdown",
   "id": "ebee01be",
   "metadata": {},
   "source": [
    "- Vocabulary size: 32,000\n",
    "- [Byte-fallback](https://github.com/google/sentencepiece/releases/tag/v0.1.9): Enabled\n"
   ]
  },
  {
   "cell_type": "markdown",
   "id": "0fb2c317",
   "metadata": {},
   "source": [
    "### Parameters\n"
   ]
  },
  {
   "cell_type": "markdown",
   "id": "cf9dafff",
   "metadata": {},
   "source": [
    "- T5 model: [models/t5.1.1.base.gin](https://github.com/google-research/text-to-text-transfer-transformer/blob/main/t5/models/gin/models/t5.1.1.base.gin)\n",
    "- Training steps: 1,000,000\n"
   ]
  },
  {
   "cell_type": "markdown",
   "id": "2beac28e",
   "metadata": {},
   "source": [
    "It took about 126 hours with TPU v3-8\n"
   ]
  },
  {
   "cell_type": "markdown",
   "id": "a0ddf578",
   "metadata": {},
   "source": [
    "## Related models\n"
   ]
  },
  {
   "cell_type": "markdown",
   "id": "133f77df",
   "metadata": {},
   "source": [
    "- [日本語T5事前学習済みモデル (sonoisa/t5-base-japanese)](https://huggingface.co/sonoisa/t5-base-japanese)\n",
    "- [日本語T5事前学習済みモデル (sonoisa/t5-base-japanese-mC4-Wikipedia)](https://huggingface.co/sonoisa/t5-base-japanese-mC4-Wikipedia)\n"
   ]
  },
  {
   "cell_type": "markdown",
   "id": "4a46a68f",
   "metadata": {},
   "source": [
    "## License\n"
   ]
  },
  {
   "cell_type": "markdown",
   "id": "7bc9b39c",
   "metadata": {},
   "source": [
    "Apache License 2.0\n"
   ]
  },
  {
   "cell_type": "markdown",
   "id": "e577dd71",
   "metadata": {},
   "source": [
    "## Citations\n"
   ]
  },
  {
   "cell_type": "markdown",
   "id": "997f6494",
   "metadata": {},
   "source": [
    "- mC4\n"
   ]
  },
  {
   "cell_type": "markdown",
   "id": "4cfac786",
   "metadata": {},
   "source": [
    "Contains information from `mC4` which is made available under the [ODC Attribution License](https://opendatacommons.org/licenses/by/1-0/).\n"
   ]
  },
  {
   "cell_type": "code",
   "execution_count": null,
   "id": "6e4fdcdb",
   "metadata": {},
   "outputs": [],
   "source": [
    "!pip install --upgrade paddlenlp"
   ]
  },
  {
   "cell_type": "code",
   "execution_count": null,
   "id": "374abaed",
   "metadata": {},
   "outputs": [],
   "source": [
    "import paddle\n",
    "from paddlenlp.transformers import AutoModel\n",
    "\n",
    "model = AutoModel.from_pretrained(\"megagonlabs/t5-base-japanese-web\")\n",
    "input_ids = paddle.randint(100, 200, shape=[1, 20])\n",
    "print(model(input_ids))"
   ]
  },
  {
   "cell_type": "markdown",
   "id": "d5d2e3aa",
   "metadata": {},
   "source": [
    "@inproceedings{49029,\n",
    "title = {Wiki-40B: Multilingual Language Model Dataset},\n",
    "author = {Mandy Guo and Zihang Dai and Denny Vrandecic and Rami Al-Rfou},\n",
    "year = {2020},\n",
    "booktitle   = {LREC 2020}\n",
    "}\n"
   ]
  },
  {
   "cell_type": "markdown",
   "id": "5a441db4",
   "metadata": {},
   "source": [
    "> 此模型来源于：[https://huggingface.co/megagonlabs/t5-base-japanese-web](https://huggingface.co/https://huggingface.co/megagonlabs/t5-base-japanese-web)\n"
   ]
  }
 ],
 "metadata": {},
 "nbformat": 4,
 "nbformat_minor": 5
}
