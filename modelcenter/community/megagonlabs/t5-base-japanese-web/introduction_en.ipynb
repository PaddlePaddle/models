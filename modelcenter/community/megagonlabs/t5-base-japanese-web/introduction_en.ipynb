{
 "cells": [
  {
   "cell_type": "markdown",
   "id": "05f363f4",
   "metadata": {},
   "source": [
    "# t5-base-japanese-web (with Byte-fallback, 32K)\n",
    "\n",
    "## Description\n",
    "\n",
    "[megagonlabs/t5-base-japanese-web](https://huggingface.co/megagonlabs/t5-base-japanese-web) is a T5 (Text-to-Text Transfer Transformer) model pre-trained on Japanese web texts.\n",
    "Training codes are [available on GitHub](https://github.com/megagonlabs/t5-japanese).\n",
    "\n",
    "The vocabulary size of this model is 32K.\n",
    "[8K version is also available](https://huggingface.co/megagonlabs/t5-base-japanese-web-8k).\n",
    "\n",
    "### Corpora\n",
    "\n",
    "We used following corpora for pre-training.\n",
    "\n",
    "- Japanese in [mC4/3.0.1](https://huggingface.co/datasets/mc4) (We used [Tensorflow native format](https://github.com/allenai/allennlp/discussions/5056))\n",
    "- 87,425,304 pages\n",
    "- 782 GB in TFRecord format\n",
    "- [Japanese](https://www.tensorflow.org/datasets/catalog/wiki40b#wiki40bja) in [wiki40b/1.3.0](https://www.tensorflow.org/datasets/catalog/wiki40b)\n",
    "- 828,236 articles (2,073,584 examples)\n",
    "- 2 GB in TFRecord format\n",
    "\n",
    "### Tokenizer\n",
    "\n",
    "We used Japanese Wikipedia to train [SentencePiece](https://github.com/google/sentencepiece).\n",
    "\n",
    "- Vocabulary size: 32,000\n",
    "- [Byte-fallback](https://github.com/google/sentencepiece/releases/tag/v0.1.9): Enabled\n",
    "\n",
    "### Parameters\n",
    "\n",
    "- T5 model: [models/t5.1.1.base.gin](https://github.com/google-research/text-to-text-transfer-transformer/blob/main/t5/models/gin/models/t5.1.1.base.gin)\n",
    "- Training steps: 1,000,000\n",
    "\n",
    "It took about 126 hours with TPU v3-8\n",
    "\n",
    "## Related models\n",
    "\n",
    "- [日本語T5事前学習済みモデル (sonoisa/t5-base-japanese)](https://huggingface.co/sonoisa/t5-base-japanese)\n",
    "- [日本語T5事前学習済みモデル (sonoisa/t5-base-japanese-mC4-Wikipedia)](https://huggingface.co/sonoisa/t5-base-japanese-mC4-Wikipedia)\n",
    "\n",
    "## License\n",
    "\n",
    "Apache License 2.0\n",
    "\n",
    "## Citations\n",
    "\n",
    "- mC4\n",
    "\n",
    "Contains information from `mC4` which is made available under the [ODC Attribution License](https://opendatacommons.org/licenses/by/1-0/).\n"
   ]
  },
  {
   "cell_type": "code",
   "execution_count": null,
   "id": "bc99fcfa",
   "metadata": {},
   "outputs": [],
   "source": [
    "import paddle\n",
    "from paddlenlp.transformers import AutoModel\n",
    "\n",
    "model = AutoModel.from_pretrained(\"megagonlabs/t5-base-japanese-web\")\n",
    "input_ids = paddle.randint(100, 200, shape=[1, 20])\n",
    "print(model(input_ids))"
   ]
  },
  {
   "cell_type": "markdown",
   "id": "7e3a80cd",
   "metadata": {},
   "source": [
    "> 此模型来源于：[https://huggingface.co/megagonlabs/t5-base-japanese-web](https://huggingface.co/https://huggingface.co/megagonlabs/t5-base-japanese-web)"
   ]
  }
 ],
 "metadata": {},
 "nbformat": 4,
 "nbformat_minor": 5
}
