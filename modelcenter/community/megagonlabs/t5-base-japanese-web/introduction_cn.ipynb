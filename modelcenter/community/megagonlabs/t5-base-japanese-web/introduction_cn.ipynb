{
 "cells": [
  {
   "cell_type": "markdown",
   "id": "17aa937d",
   "metadata": {},
   "source": [
    "# t5-base-japanese-web (with Byte-fallback, 32K)\n"
   ]
  },
  {
   "cell_type": "markdown",
   "id": "ba0fe618",
   "metadata": {},
   "source": [
    "## Description\n"
   ]
  },
  {
   "cell_type": "markdown",
   "id": "3f90fe03",
   "metadata": {},
   "source": [
    "[megagonlabs/t5-base-japanese-web](https://huggingface.co/megagonlabs/t5-base-japanese-web) is a T5 (Text-to-Text Transfer Transformer) model pre-trained on Japanese web texts.\n",
    "Training codes are [available on GitHub](https://github.com/megagonlabs/t5-japanese).\n"
   ]
  },
  {
   "cell_type": "markdown",
   "id": "6dd1234e",
   "metadata": {},
   "source": [
    "The vocabulary size of this model is 32K.\n",
    "[8K version is also available](https://huggingface.co/megagonlabs/t5-base-japanese-web-8k).\n"
   ]
  },
  {
   "cell_type": "markdown",
   "id": "987dc91c",
   "metadata": {},
   "source": [
    "### Corpora\n"
   ]
  },
  {
   "cell_type": "markdown",
   "id": "3a55baae",
   "metadata": {},
   "source": [
    "We used following corpora for pre-training.\n"
   ]
  },
  {
   "cell_type": "markdown",
   "id": "b72c10ee",
   "metadata": {},
   "source": [
    "- Japanese in [mC4/3.0.1](https://huggingface.co/datasets/mc4) (We used [Tensorflow native format](https://github.com/allenai/allennlp/discussions/5056))\n",
    "- 87,425,304 pages\n",
    "- 782 GB in TFRecord format\n",
    "- [Japanese](https://www.tensorflow.org/datasets/catalog/wiki40b#wiki40bja) in [wiki40b/1.3.0](https://www.tensorflow.org/datasets/catalog/wiki40b)\n",
    "- 828,236 articles (2,073,584 examples)\n",
    "- 2 GB in TFRecord format\n"
   ]
  },
  {
   "cell_type": "markdown",
   "id": "2dc08dad",
   "metadata": {},
   "source": [
    "### Tokenizer\n"
   ]
  },
  {
   "cell_type": "markdown",
   "id": "12149fbb",
   "metadata": {},
   "source": [
    "We used Japanese Wikipedia to train [SentencePiece](https://github.com/google/sentencepiece).\n"
   ]
  },
  {
   "cell_type": "markdown",
   "id": "45bab354",
   "metadata": {},
   "source": [
    "- Vocabulary size: 32,000\n",
    "- [Byte-fallback](https://github.com/google/sentencepiece/releases/tag/v0.1.9): Enabled\n"
   ]
  },
  {
   "cell_type": "markdown",
   "id": "6e1b08be",
   "metadata": {},
   "source": [
    "### Parameters\n"
   ]
  },
  {
   "cell_type": "markdown",
   "id": "c350697d",
   "metadata": {},
   "source": [
    "- T5 model: [models/t5.1.1.base.gin](https://github.com/google-research/text-to-text-transfer-transformer/blob/main/t5/models/gin/models/t5.1.1.base.gin)\n",
    "- Training steps: 1,000,000\n"
   ]
  },
  {
   "cell_type": "markdown",
   "id": "95dcfc6e",
   "metadata": {},
   "source": [
    "It took about 126 hours with TPU v3-8\n"
   ]
  },
  {
   "cell_type": "markdown",
   "id": "267aa364",
   "metadata": {},
   "source": [
    "## Related models\n"
   ]
  },
  {
   "cell_type": "markdown",
   "id": "9452fde4",
   "metadata": {},
   "source": [
    "- [日本語T5事前学習済みモデル (sonoisa/t5-base-japanese)](https://huggingface.co/sonoisa/t5-base-japanese)\n",
    "- [日本語T5事前学習済みモデル (sonoisa/t5-base-japanese-mC4-Wikipedia)](https://huggingface.co/sonoisa/t5-base-japanese-mC4-Wikipedia)\n"
   ]
  },
  {
   "cell_type": "markdown",
   "id": "51dc427c",
   "metadata": {},
   "source": [
    "## License\n"
   ]
  },
  {
   "cell_type": "markdown",
   "id": "afeaffa6",
   "metadata": {},
   "source": [
    "Apache License 2.0\n"
   ]
  },
  {
   "cell_type": "markdown",
   "id": "2635607f",
   "metadata": {},
   "source": [
    "## Citations\n"
   ]
  },
  {
   "cell_type": "markdown",
   "id": "31651ec2",
   "metadata": {},
   "source": [
    "- mC4\n"
   ]
  },
  {
   "cell_type": "markdown",
   "id": "fb00a088",
   "metadata": {},
   "source": [
    "Contains information from `mC4` which is made available under the [ODC Attribution License](https://opendatacommons.org/licenses/by/1-0/).\n"
   ]
  },
  {
   "cell_type": "code",
   "execution_count": null,
   "id": "b68a5e42",
   "metadata": {},
   "outputs": [],
   "source": [
    "!pip install --upgrade paddlenlp"
   ]
  },
  {
   "cell_type": "code",
   "execution_count": null,
   "id": "c103a8cd",
   "metadata": {},
   "outputs": [],
   "source": [
    "import paddle\n",
    "from paddlenlp.transformers import AutoModel\n",
    "\n",
    "model = AutoModel.from_pretrained(\"megagonlabs/t5-base-japanese-web\")\n",
    "input_ids = paddle.randint(100, 200, shape=[1, 20])\n",
    "print(model(input_ids))"
   ]
  },
  {
   "cell_type": "markdown",
   "id": "fc5cd1eb",
   "metadata": {},
   "source": [
    "@inproceedings{49029,\n",
    "title = {Wiki-40B: Multilingual Language Model Dataset},\n",
    "author = {Mandy Guo and Zihang Dai and Denny Vrandecic and Rami Al-Rfou},\n",
    "year = {2020},\n",
    "booktitle   = {LREC 2020}\n",
    "}\n"
   ]
  },
  {
   "cell_type": "markdown",
   "id": "1c728a85",
   "metadata": {},
   "source": [
    "> 此模型来源于：[https://huggingface.co/megagonlabs/t5-base-japanese-web](https://huggingface.co/https://huggingface.co/megagonlabs/t5-base-japanese-web)\n"
   ]
  }
 ],
 "metadata": {},
 "nbformat": 4,
 "nbformat_minor": 5
}
