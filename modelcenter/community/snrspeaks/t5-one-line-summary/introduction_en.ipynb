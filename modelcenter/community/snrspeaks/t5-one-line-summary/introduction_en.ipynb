{
 "cells": [
  {
   "cell_type": "markdown",
   "id": "0c4d9f7d",
   "metadata": {},
   "source": [
    "# T5 One Line Summary\n",
    "A T5 model trained on 370,000 research papers, to generate one line summary based on description/abstract of the papers. It is trained using [simpleT5](https://github.com/Shivanandroy/simpleT5) library - A python package built on top of pytorch lightning⚡️ & transformers🤗 to quickly train T5 models\n"
   ]
  },
  {
   "cell_type": "markdown",
   "id": "b3cc1640",
   "metadata": {},
   "source": []
  },
  {
   "cell_type": "code",
   "execution_count": null,
   "id": "3b7d79a5",
   "metadata": {},
   "outputs": [],
   "source": [
    "!pip install --upgrade paddlenlp"
   ]
  },
  {
   "cell_type": "code",
   "execution_count": null,
   "id": "b7a516f5",
   "metadata": {},
   "outputs": [],
   "source": [
    "import paddle\n",
    "from paddlenlp.transformers import AutoModel\n",
    "\n",
    "model = AutoModel.from_pretrained(\"snrspeaks/t5-one-line-summary\")\n",
    "input_ids = paddle.randint(100, 200, shape=[1, 20])\n",
    "print(model(input_ids))"
   ]
  },
  {
   "cell_type": "markdown",
   "id": "31239d96",
   "metadata": {},
   "source": [
    "# pip install --upgrade simplet5\n",
    "from simplet5 import SimpleT5\n",
    "model = SimpleT5()\n",
    "model.load_model(\"t5\",\"snrspeaks/t5-one-line-summary\")\n",
    "model.predict(abstract)\n"
   ]
  },
  {
   "cell_type": "markdown",
   "id": "4a740c9d",
   "metadata": {},
   "source": [
    "# output\n",
    "\"Overton: Building, Deploying, and Monitoring Machine Learning Systems for Engineers\"\n"
   ]
  },
  {
   "cell_type": "markdown",
   "id": "8a69a4e4",
   "metadata": {},
   "source": [
    "> 此模型来源于：[https://huggingface.co/snrspeaks/t5-one-line-summary](https://huggingface.co/https://huggingface.co/snrspeaks/t5-one-line-summary)\n"
   ]
  }
 ],
 "metadata": {},
 "nbformat": 4,
 "nbformat_minor": 5
}
