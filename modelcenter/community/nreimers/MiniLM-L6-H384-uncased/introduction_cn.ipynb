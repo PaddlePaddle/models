{
 "cells": [
  {
   "cell_type": "markdown",
   "id": "a42ed0dc",
   "metadata": {},
   "source": [
    "## MiniLM: 6 Layer Version\n",
    "\n",
    "This is a 6 layer version of [microsoft/MiniLM-L12-H384-uncased](https://huggingface.co/microsoft/MiniLM-L12-H384-uncased/) by keeping only every second layer.\n",
    "> 此模型来源于：[https://huggingface.co/nreimers/MiniLM-L6-H384-uncased](https://huggingface.co/https://huggingface.co/nreimers/MiniLM-L6-H384-uncased)"
   ]
  }
 ],
 "metadata": {},
 "nbformat": 4,
 "nbformat_minor": 5
}
