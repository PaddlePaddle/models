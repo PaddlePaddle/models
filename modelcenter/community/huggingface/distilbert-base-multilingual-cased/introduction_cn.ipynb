{
 "cells": [
  {
   "cell_type": "markdown",
   "id": "922fd8e5",
   "metadata": {},
   "source": [
    "# Model Card for DistilBERT base multilingual (cased)\n"
   ]
  },
  {
   "cell_type": "markdown",
   "id": "ef3290cb",
   "metadata": {},
   "source": [
    "# Table of Contents\n"
   ]
  },
  {
   "cell_type": "markdown",
   "id": "4ed8f636",
   "metadata": {},
   "source": [
    "1. [Model Details](#model-details)\n",
    "2. [Uses](#uses)\n",
    "3. [Bias, Risks, and Limitations](#bias-risks-and-limitations)\n",
    "4. [Training Details](#training-details)\n",
    "5. [Evaluation](#evaluation)\n",
    "6. [Environmental Impact](#environmental-impact)\n",
    "7. [Citation](#citation)\n",
    "8. [How To Get Started With the Model](#how-to-get-started-with-the-model)\n"
   ]
  },
  {
   "cell_type": "markdown",
   "id": "dd1c7ab1",
   "metadata": {},
   "source": [
    "# Model Details\n"
   ]
  },
  {
   "cell_type": "markdown",
   "id": "a1024bec",
   "metadata": {},
   "source": [
    "## Model Description\n"
   ]
  },
  {
   "cell_type": "markdown",
   "id": "bcdfe024",
   "metadata": {},
   "source": [
    "This model is a distilled version of the [BERT base multilingual model](https://huggingface.co/bert-base-multilingual-cased/). The code for the distillation process can be found [here](https://github.com/huggingface/transformers/tree/main/examples/research_projects/distillation). This model is cased: it does make a difference between english and English.\n"
   ]
  },
  {
   "cell_type": "markdown",
   "id": "5051aaa6",
   "metadata": {},
   "source": [
    "The model is trained on the concatenation of Wikipedia in 104 different languages listed [here](https://github.com/google-research/bert/blob/master/multilingual.md#list-of-languages).\n",
    "The model has 6 layers, 768 dimension and 12 heads, totalizing 134M parameters (compared to 177M parameters for mBERT-base).\n",
    "On average, this model, referred to as DistilmBERT, is twice as fast as mBERT-base.\n"
   ]
  },
  {
   "cell_type": "markdown",
   "id": "cdddc273",
   "metadata": {},
   "source": [
    "We encourage potential users of this model to check out the [BERT base multilingual model card](https://huggingface.co/bert-base-multilingual-cased) to learn more about usage, limitations and potential biases.\n"
   ]
  },
  {
   "cell_type": "markdown",
   "id": "8eebedbf",
   "metadata": {},
   "source": [
    "- **Developed by:** Victor Sanh, Lysandre Debut, Julien Chaumond, Thomas Wolf (Hugging Face)\n",
    "- **Model type:** Transformer-based language model\n",
    "- **Language(s) (NLP):** 104 languages; see full list [here](https://github.com/google-research/bert/blob/master/multilingual.md#list-of-languages)\n",
    "- **License:** Apache 2.0\n",
    "- **Related Models:** [BERT base multilingual model](https://huggingface.co/bert-base-multilingual-cased)\n",
    "- **Resources for more information:**\n",
    "- [GitHub Repository](https://github.com/huggingface/transformers/blob/main/examples/research_projects/distillation/README.md)\n",
    "- [Associated Paper](https://arxiv.org/abs/1910.01108)\n"
   ]
  },
  {
   "cell_type": "markdown",
   "id": "1a63cd4b",
   "metadata": {},
   "source": [
    "# Uses\n"
   ]
  },
  {
   "cell_type": "markdown",
   "id": "ff2af4ca",
   "metadata": {},
   "source": [
    "## Direct Use and Downstream Use\n"
   ]
  },
  {
   "cell_type": "markdown",
   "id": "383f6161",
   "metadata": {},
   "source": [
    "You can use the raw model for either masked language modeling or next sentence prediction, but it's mostly intended to be fine-tuned on a downstream task. See the [model hub](https://huggingface.co/models?filter=bert) to look for fine-tuned versions on a task that interests you.\n"
   ]
  },
  {
   "cell_type": "markdown",
   "id": "fd37c89a",
   "metadata": {},
   "source": [
    "Note that this model is primarily aimed at being fine-tuned on tasks that use the whole sentence (potentially masked) to make decisions, such as sequence classification, token classification or question answering. For tasks such as text generation you should look at model like GPT2.\n"
   ]
  },
  {
   "cell_type": "markdown",
   "id": "c0137762",
   "metadata": {},
   "source": [
    "## Out of Scope Use\n"
   ]
  },
  {
   "cell_type": "markdown",
   "id": "eace9f3e",
   "metadata": {},
   "source": [
    "The model should not be used to intentionally create hostile or alienating environments for people. The model was not trained to be factual or true representations of people or events, and therefore using the models to generate such content is out-of-scope for the abilities of this model.\n"
   ]
  },
  {
   "cell_type": "markdown",
   "id": "6d5f7b41",
   "metadata": {},
   "source": [
    "# Bias, Risks, and Limitations\n"
   ]
  },
  {
   "cell_type": "markdown",
   "id": "e84a7703",
   "metadata": {},
   "source": [
    "Significant research has explored bias and fairness issues with language models (see, e.g., [Sheng et al. (2021)](https://aclanthology.org/2021.acl-long.330.pdf) and [Bender et al. (2021)](https://dl.acm.org/doi/pdf/10.1145/3442188.3445922)). Predictions generated by the model may include disturbing and harmful stereotypes across protected classes; identity characteristics; and sensitive, social, and occupational groups.\n"
   ]
  },
  {
   "cell_type": "markdown",
   "id": "f1cf8ea1",
   "metadata": {},
   "source": [
    "## Recommendations\n"
   ]
  },
  {
   "cell_type": "markdown",
   "id": "2b50c0db",
   "metadata": {},
   "source": [
    "Users (both direct and downstream) should be made aware of the risks, biases and limitations of the model.\n"
   ]
  },
  {
   "cell_type": "markdown",
   "id": "3b5c37e5",
   "metadata": {},
   "source": [
    "# Training Details\n"
   ]
  },
  {
   "cell_type": "markdown",
   "id": "48fcc5ab",
   "metadata": {},
   "source": [
    "- The model was pretrained with the supervision of [bert-base-multilingual-cased](https://huggingface.co/bert-base-multilingual-cased) on the concatenation of Wikipedia in 104 different languages\n",
    "- The model has 6 layers, 768 dimension and 12 heads, totalizing 134M parameters.\n",
    "- Further information about the training procedure and data is included in the [bert-base-multilingual-cased](https://huggingface.co/bert-base-multilingual-cased) model card.\n"
   ]
  },
  {
   "cell_type": "markdown",
   "id": "2c9f6e82",
   "metadata": {},
   "source": [
    "# Evaluation\n"
   ]
  },
  {
   "cell_type": "markdown",
   "id": "bfad1bff",
   "metadata": {},
   "source": [
    "The model developers report the following accuracy results for DistilmBERT (see [GitHub Repo](https://github.com/huggingface/transformers/blob/main/examples/research_projects/distillation/README.md)):\n"
   ]
  },
  {
   "cell_type": "markdown",
   "id": "82d5ffce",
   "metadata": {},
   "source": [
    "> Here are the results on the test sets for 6 of the languages available in XNLI. The results are computed in the zero shot setting (trained on the English portion and evaluated on the target language portion):\n"
   ]
  },
  {
   "cell_type": "markdown",
   "id": "53cd0803",
   "metadata": {},
   "source": [
    "| Model                        | English | Spanish | Chinese | German | Arabic  | Urdu |\n",
    "| :---:                        | :---:   | :---:   | :---:   | :---:  | :---:   | :---:|\n",
    "| mBERT base cased (computed)  | 82.1    | 74.6    | 69.1    | 72.3   | 66.4    | 58.5 |\n",
    "| mBERT base uncased (reported)| 81.4    | 74.3    | 63.8    | 70.5   | 62.1    | 58.3 |\n",
    "| DistilmBERT                  | 78.2    | 69.1    | 64.0    | 66.3   | 59.1    | 54.7 |\n"
   ]
  },
  {
   "cell_type": "markdown",
   "id": "f6a7f6d4",
   "metadata": {},
   "source": [
    "# Environmental Impact\n"
   ]
  },
  {
   "cell_type": "markdown",
   "id": "ec7f3b08",
   "metadata": {},
   "source": [
    "Carbon emissions can be estimated using the [Machine Learning Impact calculator](https://mlco2.github.io/impact#compute) presented in [Lacoste et al. (2019)](https://arxiv.org/abs/1910.09700).\n"
   ]
  },
  {
   "cell_type": "markdown",
   "id": "6bc71f65",
   "metadata": {},
   "source": [
    "- **Hardware Type:** More information needed\n",
    "- **Hours used:** More information needed\n",
    "- **Cloud Provider:** More information needed\n",
    "- **Compute Region:** More information needed\n",
    "- **Carbon Emitted:** More information needed\n"
   ]
  },
  {
   "cell_type": "markdown",
   "id": "7ab62874",
   "metadata": {},
   "source": [
    "# Citation\n",
    "\n",
    "```\n",
    "@article{Sanh2019DistilBERTAD,\n",
    "  title={DistilBERT, a distilled version of BERT: smaller, faster, cheaper and lighter},\n",
    "  author={Victor Sanh and Lysandre Debut and Julien Chaumond and Thomas Wolf},\n",
    "  journal={ArXiv},\n",
    "  year={2019},\n",
    "  volume={abs/1910.01108}\n",
    "}\n",
    "```"
   ]
  },
  {
   "cell_type": "markdown",
   "id": "e9f48c0b",
   "metadata": {},
   "source": [
    "## How to use"
   ]
  },
  {
   "cell_type": "code",
   "execution_count": null,
   "id": "f4dde273",
   "metadata": {},
   "outputs": [],
   "source": [
    "!pip install --upgrade paddlenlp"
   ]
  },
  {
   "cell_type": "code",
   "execution_count": null,
   "id": "b940cddf",
   "metadata": {},
   "outputs": [],
   "source": [
    "import paddle\n",
    "from paddlenlp.transformers import AutoModel\n",
    "\n",
    "model = AutoModel.from_pretrained(\"distilbert-base-multilingual-cased\")\n",
    "input_ids = paddle.randint(100, 200, shape=[1, 20])\n",
    "print(model(input_ids))"
   ]
  },
  {
   "cell_type": "markdown",
   "id": "8bdb4ee1",
   "metadata": {},
   "source": [
    "> 此模型来源于：[https://huggingface.co/distilbert-base-multilingual-cased](https://huggingface.co/distilbert-base-multilingual-cased)\n"
   ]
  }
 ],
 "metadata": {
  "kernelspec": {
   "display_name": "Python 3 (ipykernel)",
   "language": "python",
   "name": "python3"
  },
  "language_info": {
   "codemirror_mode": {
    "name": "ipython",
    "version": 3
   },
   "file_extension": ".py",
   "mimetype": "text/x-python",
   "name": "python",
   "nbconvert_exporter": "python",
   "pygments_lexer": "ipython3",
   "version": "3.8.13"
  }
 },
 "nbformat": 4,
 "nbformat_minor": 5
}
