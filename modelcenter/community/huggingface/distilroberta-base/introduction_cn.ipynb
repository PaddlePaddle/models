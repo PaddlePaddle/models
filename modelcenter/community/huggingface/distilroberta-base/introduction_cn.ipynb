{
 "cells": [
  {
   "cell_type": "markdown",
   "id": "7f49bb4b",
   "metadata": {},
   "source": [
    "# Model Card for DistilRoBERTa base\n"
   ]
  },
  {
   "cell_type": "markdown",
   "id": "88c832ab",
   "metadata": {},
   "source": [
    "## Model Description\n"
   ]
  },
  {
   "cell_type": "markdown",
   "id": "3a2333a1",
   "metadata": {},
   "source": [
    "This model is a distilled version of the RoBERTa-base model. It follows the same training procedure as DistilBERT.\n",
    "The code for the distillation process can be found [here](https://github.com/huggingface/transformers/tree/master/examples/distillation).\n",
    "This model is case-sensitive: it makes a difference between english and English.\n"
   ]
  },
  {
   "cell_type": "markdown",
   "id": "9ac70255",
   "metadata": {},
   "source": [
    "The model has 6 layers, 768 dimension and 12 heads, totalizing 82M parameters (compared to 125M parameters for RoBERTa-base).\n",
    "On average DistilRoBERTa is twice as fast as Roberta-base.\n"
   ]
  },
  {
   "cell_type": "markdown",
   "id": "a0757c23",
   "metadata": {},
   "source": [
    "We encourage users of this model card to check out the RoBERTa-base model card to learn more about usage, limitations and potential biases.\n"
   ]
  },
  {
   "cell_type": "markdown",
   "id": "2865466d",
   "metadata": {},
   "source": [
    "- **Developed by:** Victor Sanh, Lysandre Debut, Julien Chaumond, Thomas Wolf (Hugging Face)\n",
    "- **Model type:** Transformer-based language model\n",
    "- **Language(s) (NLP):** English\n",
    "- **License:** Apache 2.0\n",
    "- **Related Models:** RoBERTa-base model card\n",
    "- [Associated Paper](https://arxiv.org/abs/1910.01108)\n"
   ]
  },
  {
   "cell_type": "markdown",
   "id": "a204fad3",
   "metadata": {},
   "source": [
    "## How to use"
   ]
  },
  {
   "cell_type": "code",
   "execution_count": null,
   "id": "b2e488ed",
   "metadata": {},
   "outputs": [],
   "source": [
    "!pip install --upgrade paddlenlp"
   ]
  },
  {
   "cell_type": "code",
   "execution_count": null,
   "id": "43d7726b",
   "metadata": {},
   "outputs": [],
   "source": [
    "import paddle\n",
    "from paddlenlp.transformers import AutoModel\n",
    "\n",
    "model = AutoModel.from_pretrained(\"distilroberta-base\")\n",
    "input_ids = paddle.randint(100, 200, shape=[1, 20])\n",
    "print(model(input_ids))"
   ]
  },
  {
   "cell_type": "markdown",
   "id": "e30fb0eb",
   "metadata": {},
   "source": [
    "<a href=\"https://huggingface.co/exbert/?model=distilroberta-base\">\n",
    "<img width=\"300px\" src=\"https://cdn-media.huggingface.co/exbert/button.png\">\n",
    "</a>\n",
    "\n",
    "> 此模型介绍及权重来源于[https://huggingface.co/distilroberta-base](https://huggingface.co/distilroberta-base)，并转换为飞桨模型格式。\n"
   ]
  }
 ],
 "metadata": {
  "kernelspec": {
   "display_name": "Python 3 (ipykernel)",
   "language": "python",
   "name": "python3"
  },
  "language_info": {
   "codemirror_mode": {
    "name": "ipython",
    "version": 3
   },
   "file_extension": ".py",
   "mimetype": "text/x-python",
   "name": "python",
   "nbconvert_exporter": "python",
   "pygments_lexer": "ipython3",
   "version": "3.7.13"
  }
 },
 "nbformat": 4,
 "nbformat_minor": 5
}
