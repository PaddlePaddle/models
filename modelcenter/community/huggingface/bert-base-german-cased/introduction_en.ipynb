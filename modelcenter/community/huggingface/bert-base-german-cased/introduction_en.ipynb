{
 "cells": [
  {
   "cell_type": "markdown",
   "id": "7aa268f7",
   "metadata": {},
   "source": [
    "# German BERT\n",
    "![bert_image](https://static.tildacdn.com/tild6438-3730-4164-b266-613634323466/german_bert.png)\n",
    "## Overview\n",
    "**Language model:** bert-base-cased\n",
    "**Language:** German\n",
    "**Training data:** Wiki, OpenLegalData, News (~ 12GB)\n",
    "**Eval data:** Conll03 (NER), GermEval14 (NER), GermEval18 (Classification), GNAD (Classification)\n",
    "**Infrastructure**: 1x TPU v2\n",
    "**Published**: Jun 14th, 2019\n",
    "\n",
    "you can get more details from [Bert in PaddleNLP](https://github.com/PaddlePaddle/PaddleNLP/blob/develop/model_zoo/bert/README.md)。"
   ]
  },
  {
   "cell_type": "markdown",
   "id": "f407e80e",
   "metadata": {},
   "source": [
    "**Update April 3rd, 2020**: we updated the vocabulary file on deepset's s3 to conform with the default tokenization of punctuation tokens.\n",
    "For details see the related [FARM issue](https://github.com/deepset-ai/FARM/issues/60). If you want to use the old vocab we have also uploaded a [\"deepset/bert-base-german-cased-oldvocab\"](https://huggingface.co/deepset/bert-base-german-cased-oldvocab) model.\n"
   ]
  },
  {
   "cell_type": "markdown",
   "id": "902c939f",
   "metadata": {},
   "source": [
    "## Details\n",
    "- We trained using Google's Tensorflow code on a single cloud TPU v2 with standard settings.\n",
    "- We trained 810k steps with a batch size of 1024 for sequence length 128 and 30k steps with sequence length 512. Training took about 9 days.\n",
    "- As training data we used the latest German Wikipedia dump (6GB of raw txt files), the OpenLegalData dump (2.4 GB) and news articles (3.6 GB).\n",
    "- We cleaned the data dumps with tailored scripts and segmented sentences with spacy v2.1. To create tensorflow records we used the recommended sentencepiece library for creating the word piece vocabulary and tensorflow scripts to convert the text to data usable by BERT.\n"
   ]
  },
  {
   "cell_type": "markdown",
   "id": "5ff4f19d",
   "metadata": {},
   "source": [
    "See https://deepset.ai/german-bert for more details\n"
   ]
  },
  {
   "cell_type": "markdown",
   "id": "18d2ad8e",
   "metadata": {},
   "source": [
    "## Hyperparameters\n"
   ]
  },
  {
   "cell_type": "code",
   "execution_count": null,
   "id": "b80052bd",
   "metadata": {},
   "outputs": [],
   "source": [
    "!pip install --upgrade paddlenlp"
   ]
  },
  {
   "cell_type": "code",
   "execution_count": null,
   "id": "4ea9d4e3",
   "metadata": {},
   "outputs": [],
   "source": [
    "import paddle\n",
    "from paddlenlp.transformers import AutoModel\n",
    "\n",
    "model = AutoModel.from_pretrained(\"bert-base-german-cased\")\n",
    "input_ids = paddle.randint(100, 200, shape=[1, 20])\n",
    "print(model(input_ids))"
   ]
  },
  {
   "cell_type": "markdown",
   "id": "8dd25d07",
   "metadata": {},
   "source": [
    "## Performance\n"
   ]
  },
  {
   "cell_type": "markdown",
   "id": "5310bc9f",
   "metadata": {},
   "source": [
    "During training we monitored the loss and evaluated different model checkpoints on the following German datasets:\n"
   ]
  },
  {
   "cell_type": "markdown",
   "id": "5a1c4d76",
   "metadata": {},
   "source": [
    "- germEval18Fine: Macro f1 score for multiclass sentiment classification\n",
    "- germEval18coarse: Macro f1 score for binary sentiment classification\n",
    "- germEval14: Seq f1 score for NER (file names deuutf.\\*)\n",
    "- CONLL03: Seq f1 score for NER\n",
    "- 10kGNAD: Accuracy for document classification\n"
   ]
  },
  {
   "cell_type": "markdown",
   "id": "fdcebb9b",
   "metadata": {},
   "source": [
    "Even without thorough hyperparameter tuning, we observed quite stable learning especially for our German model. Multiple restarts with different seeds produced quite similar results.\n"
   ]
  },
  {
   "cell_type": "markdown",
   "id": "f44e52ac",
   "metadata": {},
   "source": [
    "![performancetable](https://thumb.tildacdn.com/tild3162-6462-4566-b663-376630376138/-/format/webp/Screenshot_from_2020.png)\n"
   ]
  },
  {
   "cell_type": "markdown",
   "id": "a412feab",
   "metadata": {},
   "source": [
    "We further evaluated different points during the 9 days of pre-training and were astonished how fast the model converges to the maximally reachable performance. We ran all 5 downstream tasks on 7 different model checkpoints - taken at 0 up to 840k training steps (x-axis in figure below). Most checkpoints are taken from early training where we expected most performance changes. Surprisingly, even a randomly initialized BERT can be trained only on labeled downstream datasets and reach good performance (blue line, GermEval 2018 Coarse task, 795 kB trainset size).\n"
   ]
  },
  {
   "cell_type": "markdown",
   "id": "7143070c",
   "metadata": {},
   "source": [
    "![checkpointseval](https://thumb.tildacdn.com/tild6335-3531-4137-b533-313365663435/-/format/webp/deepset_checkpoints.png)\n"
   ]
  },
  {
   "cell_type": "markdown",
   "id": "9d560e75",
   "metadata": {},
   "source": [
    "## Authors\n",
    "- Branden Chan: `branden.chan [at] deepset.ai`\n",
    "- Timo Möller: `timo.moeller [at] deepset.ai`\n",
    "- Malte Pietsch: `malte.pietsch [at] deepset.ai`\n",
    "- Tanay Soni: `tanay.soni [at] deepset.ai`\n"
   ]
  },
  {
   "cell_type": "markdown",
   "id": "a0e43273",
   "metadata": {},
   "source": [
    "## About us\n",
    "![deepset logo](https://raw.githubusercontent.com/deepset-ai/FARM/master/docs/img/deepset_logo.png)\n"
   ]
  },
  {
   "cell_type": "markdown",
   "id": "c1b05e60",
   "metadata": {},
   "source": [
    "We bring NLP to the industry via open source!\n",
    "Our focus: Industry specific language models & large scale QA systems.\n"
   ]
  },
  {
   "cell_type": "markdown",
   "id": "5196bee9",
   "metadata": {},
   "source": [
    "Some of our work:\n",
    "- [German BERT (aka \"bert-base-german-cased\")](https://deepset.ai/german-bert)\n",
    "- [FARM](https://github.com/deepset-ai/FARM)\n",
    "- [Haystack](https://github.com/deepset-ai/haystack/)\n"
   ]
  },
  {
   "cell_type": "markdown",
   "id": "18fe01d5",
   "metadata": {},
   "source": [
    "Get in touch:\n",
    "[Twitter](https://twitter.com/deepset_ai) | [LinkedIn](https://www.linkedin.com/company/deepset-ai/) | [Website](https://deepset.ai)\n",
    "> 此模型来源于：[https://huggingface.co/bert-base-german-cased](https://huggingface.co/bert-base-german-cased)\n"
   ]
  }
 ],
 "metadata": {
  "kernelspec": {
   "display_name": "Python 3 (ipykernel)",
   "language": "python",
   "name": "python3"
  },
  "language_info": {
   "codemirror_mode": {
    "name": "ipython",
    "version": 3
   },
   "file_extension": ".py",
   "mimetype": "text/x-python",
   "name": "python",
   "nbconvert_exporter": "python",
   "pygments_lexer": "ipython3",
   "version": "3.8.13"
  }
 },
 "nbformat": 4,
 "nbformat_minor": 5
}
