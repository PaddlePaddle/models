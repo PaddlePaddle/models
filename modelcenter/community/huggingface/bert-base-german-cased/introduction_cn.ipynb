{
 "cells": [
  {
   "cell_type": "markdown",
   "id": "0870a629",
   "metadata": {},
   "source": [
    "# German BERT\n",
    "![bert_image](https://static.tildacdn.com/tild6438-3730-4164-b266-613634323466/german_bert.png)\n",
    "## Overview\n",
    "**Language model:** bert-base-cased\n",
    "**Language:** German\n",
    "**Training data:** Wiki, OpenLegalData, News (~ 12GB)\n",
    "**Eval data:** Conll03 (NER), GermEval14 (NER), GermEval18 (Classification), GNAD (Classification)\n",
    "**Infrastructure**: 1x TPU v2\n",
    "**Published**: Jun 14th, 2019\n",
    "\n",
    "详细内容请看[Bert in PaddleNLP](https://github.com/PaddlePaddle/PaddleNLP/blob/develop/model_zoo/bert/README.md)。"
   ]
  },
  {
   "cell_type": "markdown",
   "id": "b2a6c897",
   "metadata": {},
   "source": [
    "## How to use\n"
   ]
  },
  {
   "cell_type": "code",
   "execution_count": null,
   "id": "1790135e",
   "metadata": {},
   "outputs": [],
   "source": [
    "!pip install --upgrade paddlenlp"
   ]
  },
  {
   "cell_type": "code",
   "execution_count": null,
   "id": "99c714ac",
   "metadata": {},
   "outputs": [],
   "source": [
    "import paddle\n",
    "from paddlenlp.transformers import AutoModel\n",
    "\n",
    "model = AutoModel.from_pretrained(\"bert-base-german-cased\")\n",
    "input_ids = paddle.randint(100, 200, shape=[1, 20])\n",
    "print(model(input_ids))"
   ]
  },
  {
   "cell_type": "markdown",
   "id": "54c2f398",
   "metadata": {},
   "source": [
    "## Authors\n",
    "- Branden Chan: `branden.chan [at] deepset.ai`\n",
    "- Timo Möller: `timo.moeller [at] deepset.ai`\n",
    "- Malte Pietsch: `malte.pietsch [at] deepset.ai`\n",
    "- Tanay Soni: `tanay.soni [at] deepset.ai`\n"
   ]
  },
  {
   "cell_type": "markdown",
   "id": "94b669bc",
   "metadata": {},
   "source": [
    "## About us\n",
    "![deepset logo](https://raw.githubusercontent.com/deepset-ai/FARM/master/docs/img/deepset_logo.png)\n"
   ]
  },
  {
   "cell_type": "markdown",
   "id": "ce90710a",
   "metadata": {},
   "source": [
    "We bring NLP to the industry via open source!\n",
    "Our focus: Industry specific language models & large scale QA systems.\n"
   ]
  },
  {
   "cell_type": "markdown",
   "id": "5dc8ba63",
   "metadata": {},
   "source": [
    "Some of our work:\n",
    "- [German BERT (aka \"bert-base-german-cased\")](https://deepset.ai/german-bert)\n",
    "- [FARM](https://github.com/deepset-ai/FARM)\n",
    "- [Haystack](https://github.com/deepset-ai/haystack/)\n"
   ]
  },
  {
   "cell_type": "markdown",
   "id": "56a1a360",
   "metadata": {},
   "source": [
    "Get in touch:\n",
    "[Twitter](https://twitter.com/deepset_ai) | [LinkedIn](https://www.linkedin.com/company/deepset-ai/) | [Website](https://deepset.ai)\n",
    "\n",
    "> 此模型介绍及权重来源于 https://huggingface.co/bert-base-german-cased ，并转换为飞桨模型格式。"
   ]
  }
 ],
 "metadata": {
  "kernelspec": {
   "display_name": "Python 3 (ipykernel)",
   "language": "python",
   "name": "python3"
  },
  "language_info": {
   "codemirror_mode": {
    "name": "ipython",
    "version": 3
   },
   "file_extension": ".py",
   "mimetype": "text/x-python",
   "name": "python",
   "nbconvert_exporter": "python",
   "pygments_lexer": "ipython3",
   "version": "3.7.13"
  }
 },
 "nbformat": 4,
 "nbformat_minor": 5
}
