{
 "cells": [
  {
   "cell_type": "markdown",
   "id": "58f64e54",
   "metadata": {},
   "source": [
    "# BERT large model (cased) whole word masking\n",
    "\n",
    "you can get more details from [Bert in PaddleNLP](https://github.com/PaddlePaddle/PaddleNLP/blob/develop/model_zoo/bert/README.md)。"
   ]
  },
  {
   "cell_type": "markdown",
   "id": "6814fe73",
   "metadata": {},
   "source": [
    "Pretrained model on English language using a masked language modeling (MLM) objective. It was introduced in\n",
    "[this paper](https://arxiv.org/abs/1810.04805) and first released in\n",
    "[this repository](https://github.com/google-research/bert). This model is cased: it makes a difference between english and English.\n"
   ]
  },
  {
   "cell_type": "markdown",
   "id": "7a6b1b28",
   "metadata": {},
   "source": [
    "Differently to other BERT models, this model was trained with a new technique: Whole Word Masking. In this case, all of the tokens corresponding to a word are masked at once. The overall masking rate remains the same.\n"
   ]
  },
  {
   "cell_type": "markdown",
   "id": "e6c8ddc5",
   "metadata": {},
   "source": [
    "The training is identical -- each masked WordPiece token is predicted independently.\n"
   ]
  },
  {
   "cell_type": "markdown",
   "id": "dfcd9c6b",
   "metadata": {},
   "source": [
    "Disclaimer: The team releasing BERT did not write a model card for this model so this model card has been written by\n",
    "the Hugging Face team.\n"
   ]
  },
  {
   "cell_type": "markdown",
   "id": "d758dbd9",
   "metadata": {},
   "source": [
    "## Model description\n"
   ]
  },
  {
   "cell_type": "markdown",
   "id": "c4e44287",
   "metadata": {},
   "source": [
    "BERT is a transformers model pretrained on a large corpus of English data in a self-supervised fashion. This means it\n",
    "was pretrained on the raw texts only, with no humans labelling them in any way (which is why it can use lots of\n",
    "publicly available data) with an automatic process to generate inputs and labels from those texts. More precisely, it\n",
    "was pretrained with two objectives:\n"
   ]
  },
  {
   "cell_type": "markdown",
   "id": "d07abc2a",
   "metadata": {},
   "source": [
    "- Masked language modeling (MLM): taking a sentence, the model randomly masks 15% of the words in the input then run\n",
    "the entire masked sentence through the model and has to predict the masked words. This is different from traditional\n",
    "recurrent neural networks (RNNs) that usually see the words one after the other, or from autoregressive models like\n",
    "GPT which internally mask the future tokens. It allows the model to learn a bidirectional representation of the\n",
    "sentence.\n",
    "- Next sentence prediction (NSP): the models concatenates two masked sentences as inputs during pretraining. Sometimes\n",
    "they correspond to sentences that were next to each other in the original text, sometimes not. The model then has to\n",
    "predict if the two sentences were following each other or not.\n"
   ]
  },
  {
   "cell_type": "markdown",
   "id": "5fcb83d6",
   "metadata": {},
   "source": [
    "This way, the model learns an inner representation of the English language that can then be used to extract features\n",
    "useful for downstream tasks: if you have a dataset of labeled sentences for instance, you can train a standard\n",
    "classifier using the features produced by the BERT model as inputs.\n"
   ]
  },
  {
   "cell_type": "markdown",
   "id": "1be2f6a5",
   "metadata": {},
   "source": [
    "This model has the following configuration:\n"
   ]
  },
  {
   "cell_type": "markdown",
   "id": "cd047a65",
   "metadata": {},
   "source": [
    "- 24-layer\n",
    "- 1024 hidden dimension\n",
    "- 16 attention heads\n",
    "- 336M parameters.\n"
   ]
  },
  {
   "cell_type": "markdown",
   "id": "93925c79",
   "metadata": {},
   "source": [
    "## Intended uses & limitations\n"
   ]
  },
  {
   "cell_type": "markdown",
   "id": "f6c1f9b9",
   "metadata": {},
   "source": [
    "You can use the raw model for either masked language modeling or next sentence prediction, but it's mostly intended to\n",
    "be fine-tuned on a downstream task. See the [model hub](https://huggingface.co/models?filter=bert) to look for\n",
    "fine-tuned versions on a task that interests you.\n"
   ]
  },
  {
   "cell_type": "markdown",
   "id": "a682ee5c",
   "metadata": {},
   "source": [
    "Note that this model is primarily aimed at being fine-tuned on tasks that use the whole sentence (potentially masked)\n",
    "to make decisions, such as sequence classification, token classification or question answering. For tasks such as text\n",
    "generation you should look at model like GPT2.\n"
   ]
  },
  {
   "cell_type": "markdown",
   "id": "394e6456",
   "metadata": {},
   "source": [
    "### How to use\n"
   ]
  },
  {
   "cell_type": "markdown",
   "id": "9e5fdb9a",
   "metadata": {},
   "source": [
    "You can use this model directly with a pipeline for masked language modeling:\n"
   ]
  },
  {
   "cell_type": "code",
   "execution_count": null,
   "id": "77af91fe",
   "metadata": {},
   "outputs": [],
   "source": [
    "!pip install --upgrade paddlenlp"
   ]
  },
  {
   "cell_type": "code",
   "execution_count": null,
   "id": "ae5caf8d",
   "metadata": {},
   "outputs": [],
   "source": [
    "import paddle\n",
    "from paddlenlp.transformers import AutoModel\n",
    "\n",
    "model = AutoModel.from_pretrained(\"bert-large-cased-whole-word-masking\")\n",
    "input_ids = paddle.randint(100, 200, shape=[1, 20])\n",
    "print(model(input_ids))"
   ]
  },
  {
   "cell_type": "markdown",
   "id": "0f43705d",
   "metadata": {},
   "source": [
    "```\n",
    "@article{DBLP:journals/corr/abs-1810-04805,\n",
    "author    = {Jacob Devlin and\n",
    "Ming{-}Wei Chang and\n",
    "Kenton Lee and\n",
    "Kristina Toutanova},\n",
    "title     = {{BERT:} Pre-training of Deep Bidirectional Transformers for Language\n",
    "Understanding},\n",
    "journal   = {CoRR},\n",
    "volume    = {abs/1810.04805},\n",
    "year      = {2018},\n",
    "url       = {http://arxiv.org/abs/1810.04805},\n",
    "archivePrefix = {arXiv},\n",
    "eprint    = {1810.04805},\n",
    "timestamp = {Tue, 30 Oct 2018 20:39:56 +0100},\n",
    "biburl    = {https://dblp.org/rec/journals/corr/abs-1810-04805.bib},\n",
    "bibsource = {dblp computer science bibliography, https://dblp.org}\n",
    "}\n",
    "```"
   ]
  },
  {
   "cell_type": "markdown",
   "id": "54ae4165",
   "metadata": {},
   "source": [
    "> 此模型来源于：[https://huggingface.co/bert-large-cased-whole-word-masking](https://huggingface.co/bert-large-cased-whole-word-masking)\n"
   ]
  }
 ],
 "metadata": {
  "kernelspec": {
   "display_name": "Python 3 (ipykernel)",
   "language": "python",
   "name": "python3"
  },
  "language_info": {
   "codemirror_mode": {
    "name": "ipython",
    "version": 3
   },
   "file_extension": ".py",
   "mimetype": "text/x-python",
   "name": "python",
   "nbconvert_exporter": "python",
   "pygments_lexer": "ipython3",
   "version": "3.8.13"
  }
 },
 "nbformat": 4,
 "nbformat_minor": 5
}
