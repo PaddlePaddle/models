{
 "cells": [
  {
   "cell_type": "markdown",
   "id": "d413647f",
   "metadata": {},
   "source": [
    "## RoBERTa-base fine-tuned on SQuAD v1\n"
   ]
  },
  {
   "cell_type": "markdown",
   "id": "037621f1",
   "metadata": {},
   "source": [
    "This model was fine-tuned from the HuggingFace [RoBERTa](https://arxiv.org/abs/1907.11692) base checkpoint on [SQuAD1.1](https://rajpurkar.github.io/SQuAD-explorer).\n",
    "This model is case-sensitive: it makes a difference between english and English.\n"
   ]
  },
  {
   "cell_type": "markdown",
   "id": "60bc3929",
   "metadata": {},
   "source": [
    "## Details\n"
   ]
  },
  {
   "cell_type": "markdown",
   "id": "aa7b4b1f",
   "metadata": {},
   "source": [
    "| Dataset  | Split | # samples |\n",
    "| -------- | ----- | --------- |\n",
    "| SQuAD1.1 | train | 96.8K      |\n",
    "| SQuAD1.1 | eval  | 11.8k     |\n"
   ]
  },
  {
   "cell_type": "markdown",
   "id": "0d012665",
   "metadata": {},
   "source": [
    "### Fine-tuning\n",
    "- Python: `3.7.5`\n"
   ]
  },
  {
   "cell_type": "markdown",
   "id": "d28bbaff",
   "metadata": {},
   "source": [
    "- Machine specs:\n"
   ]
  },
  {
   "cell_type": "markdown",
   "id": "acff3ca7",
   "metadata": {},
   "source": [
    "`CPU: Intel(R) Core(TM) i7-6800K CPU @ 3.40GHz`\n"
   ]
  },
  {
   "cell_type": "markdown",
   "id": "c7de3ebd",
   "metadata": {},
   "source": [
    "`Memory: 32 GiB`\n"
   ]
  },
  {
   "cell_type": "markdown",
   "id": "4119e2be",
   "metadata": {},
   "source": [
    "`GPUs: 2 GeForce GTX 1070, each with 8GiB memory`\n"
   ]
  },
  {
   "cell_type": "markdown",
   "id": "ed3a36ed",
   "metadata": {},
   "source": [
    "`GPU driver: 418.87.01, CUDA: 10.1`\n"
   ]
  },
  {
   "cell_type": "markdown",
   "id": "244c9865",
   "metadata": {},
   "source": [
    "- script:\n"
   ]
  },
  {
   "cell_type": "code",
   "execution_count": null,
   "id": "6b8273d3",
   "metadata": {},
   "outputs": [],
   "source": [
    "!pip install --upgrade paddlenlp"
   ]
  },
  {
   "cell_type": "code",
   "execution_count": null,
   "id": "b1be38b3",
   "metadata": {},
   "outputs": [],
   "source": [
    "import paddle\n",
    "from paddlenlp.transformers import AutoModel\n",
    "\n",
    "model = AutoModel.from_pretrained(\"csarron/roberta-base-squad-v1\")\n",
    "input_ids = paddle.randint(100, 200, shape=[1, 20])\n",
    "print(model(input_ids))"
   ]
  },
  {
   "cell_type": "markdown",
   "id": "2d37b67b",
   "metadata": {},
   "source": [
    "> Created by [Qingqing Cao](https://awk.ai/) | [GitHub](https://github.com/csarron) | [Twitter](https://twitter.com/sysnlp)\n"
   ]
  },
  {
   "cell_type": "markdown",
   "id": "e113dafc",
   "metadata": {},
   "source": [
    "> Made with ❤️ in New York.\n",
    "> 此模型来源于：[https://huggingface.co/csarron/roberta-base-squad-v1](https://huggingface.co/https://huggingface.co/csarron/roberta-base-squad-v1)\n"
   ]
  }
 ],
 "metadata": {},
 "nbformat": 4,
 "nbformat_minor": 5
}
