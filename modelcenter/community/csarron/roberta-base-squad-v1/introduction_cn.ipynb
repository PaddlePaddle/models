{
 "cells": [
  {
   "cell_type": "markdown",
   "id": "92997270",
   "metadata": {},
   "source": [
    "## RoBERTa-base fine-tuned on SQuAD v1\n"
   ]
  },
  {
   "cell_type": "markdown",
   "id": "9836a144",
   "metadata": {},
   "source": [
    "This model was fine-tuned from the HuggingFace [RoBERTa](https://arxiv.org/abs/1907.11692) base checkpoint on [SQuAD1.1](https://rajpurkar.github.io/SQuAD-explorer).\n",
    "This model is case-sensitive: it makes a difference between english and English.\n"
   ]
  },
  {
   "cell_type": "markdown",
   "id": "6000df5d",
   "metadata": {},
   "source": [
    "## Details\n"
   ]
  },
  {
   "cell_type": "markdown",
   "id": "af201239",
   "metadata": {},
   "source": [
    "| Dataset  | Split | # samples |\n",
    "| -------- | ----- | --------- |\n",
    "| SQuAD1.1 | train | 96.8K      |\n",
    "| SQuAD1.1 | eval  | 11.8k     |\n"
   ]
  },
  {
   "cell_type": "markdown",
   "id": "e2b6087c",
   "metadata": {},
   "source": [
    "### Fine-tuning\n",
    "- Python: `3.7.5`\n"
   ]
  },
  {
   "cell_type": "markdown",
   "id": "586cf7b2",
   "metadata": {},
   "source": [
    "- Machine specs:\n"
   ]
  },
  {
   "cell_type": "markdown",
   "id": "7eaaaa27",
   "metadata": {},
   "source": [
    "`CPU: Intel(R) Core(TM) i7-6800K CPU @ 3.40GHz`\n"
   ]
  },
  {
   "cell_type": "markdown",
   "id": "24502c0b",
   "metadata": {},
   "source": [
    "`Memory: 32 GiB`\n"
   ]
  },
  {
   "cell_type": "markdown",
   "id": "8ab2e1a4",
   "metadata": {},
   "source": [
    "`GPUs: 2 GeForce GTX 1070, each with 8GiB memory`\n"
   ]
  },
  {
   "cell_type": "markdown",
   "id": "c9b0dbe5",
   "metadata": {},
   "source": [
    "`GPU driver: 418.87.01, CUDA: 10.1`\n"
   ]
  },
  {
   "cell_type": "markdown",
   "id": "f1ae1cf6",
   "metadata": {},
   "source": [
    "- script:\n"
   ]
  },
  {
   "cell_type": "code",
   "execution_count": null,
   "id": "bddd0cca",
   "metadata": {},
   "outputs": [],
   "source": [
    "!pip install --upgrade paddlenlp"
   ]
  },
  {
   "cell_type": "code",
   "execution_count": null,
   "id": "a0ad8a39",
   "metadata": {},
   "outputs": [],
   "source": [
    "import paddle\n",
    "from paddlenlp.transformers import AutoModel\n",
    "\n",
    "model = AutoModel.from_pretrained(\"csarron/roberta-base-squad-v1\")\n",
    "input_ids = paddle.randint(100, 200, shape=[1, 20])\n",
    "print(model(input_ids))"
   ]
  },
  {
   "cell_type": "markdown",
   "id": "f214c233",
   "metadata": {},
   "source": [
    "> Created by [Qingqing Cao](https://awk.ai/) | [GitHub](https://github.com/csarron) | [Twitter](https://twitter.com/sysnlp)\n",
    "> Made with ❤️ in New York.\n",
    "> 此模型介绍及权重来源于[https://huggingface.co/csarron/roberta-base-squad-v1](https://huggingface.co/csarron/roberta-base-squad-v1)，并转换为飞桨模型格式\n"
   ]
  }
 ],
 "metadata": {
  "kernelspec": {
   "display_name": "Python 3 (ipykernel)",
   "language": "python",
   "name": "python3"
  },
  "language_info": {
   "codemirror_mode": {
    "name": "ipython",
    "version": 3
   },
   "file_extension": ".py",
   "mimetype": "text/x-python",
   "name": "python",
   "nbconvert_exporter": "python",
   "pygments_lexer": "ipython3",
   "version": "3.8.13"
  }
 },
 "nbformat": 4,
 "nbformat_minor": 5
}
