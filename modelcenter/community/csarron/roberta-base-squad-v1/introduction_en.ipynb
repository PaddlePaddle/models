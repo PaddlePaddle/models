{
 "cells": [
  {
   "cell_type": "markdown",
   "id": "7e2b1088",
   "metadata": {},
   "source": [
    "## RoBERTa-base fine-tuned on SQuAD v1\n",
    "\n",
    "This model was fine-tuned from the HuggingFace [RoBERTa](https://arxiv.org/abs/1907.11692) base checkpoint on [SQuAD1.1](https://rajpurkar.github.io/SQuAD-explorer).\n",
    "This model is case-sensitive: it makes a difference between english and English.\n",
    "\n",
    "## Details\n",
    "\n",
    "| Dataset  | Split | # samples |\n",
    "| -------- | ----- | --------- |\n",
    "| SQuAD1.1 | train | 96.8K      |\n",
    "| SQuAD1.1 | eval  | 11.8k     |\n",
    "\n",
    "\n",
    "### Fine-tuning\n",
    "- Python: `3.7.5`\n",
    "\n",
    "- Machine specs:\n",
    "\n",
    "`CPU: Intel(R) Core(TM) i7-6800K CPU @ 3.40GHz`\n",
    "\n",
    "`Memory: 32 GiB`\n",
    "\n",
    "`GPUs: 2 GeForce GTX 1070, each with 8GiB memory`\n",
    "\n",
    "`GPU driver: 418.87.01, CUDA: 10.1`\n",
    "\n",
    "- script:\n"
   ]
  },
  {
   "cell_type": "code",
   "execution_count": null,
   "id": "550aa245",
   "metadata": {},
   "outputs": [],
   "source": [
    "import paddle\n",
    "from paddlenlp.transformers import AutoModel\n",
    "\n",
    "model = AutoModel.from_pretrained(\"csarron/roberta-base-squad-v1\")\n",
    "input_ids = paddle.randint(100, 200, shape=[1, 20])\n",
    "print(model(input_ids))"
   ]
  },
  {
   "cell_type": "markdown",
   "id": "5dd3183e",
   "metadata": {},
   "source": [
    "> Created by [Qingqing Cao](https://awk.ai/) | [GitHub](https://github.com/csarron) | [Twitter](https://twitter.com/sysnlp)\n",
    "\n",
    "> Made with ❤️ in New York.\n",
    "> 此模型来源于：[https://huggingface.co/csarron/roberta-base-squad-v1](https://huggingface.co/https://huggingface.co/csarron/roberta-base-squad-v1)"
   ]
  }
 ],
 "metadata": {},
 "nbformat": 4,
 "nbformat_minor": 5
}
