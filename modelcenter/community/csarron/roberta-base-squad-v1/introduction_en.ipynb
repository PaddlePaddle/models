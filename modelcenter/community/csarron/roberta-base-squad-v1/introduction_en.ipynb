{
 "cells": [
  {
   "cell_type": "markdown",
   "id": "24702e9b",
   "metadata": {},
   "source": [
    "## RoBERTa-base fine-tuned on SQuAD v1\n"
   ]
  },
  {
   "cell_type": "markdown",
   "id": "d459ee4c",
   "metadata": {},
   "source": [
    "This model was fine-tuned from the HuggingFace [RoBERTa](https://arxiv.org/abs/1907.11692) base checkpoint on [SQuAD1.1](https://rajpurkar.github.io/SQuAD-explorer).\n",
    "This model is case-sensitive: it makes a difference between english and English.\n"
   ]
  },
  {
   "cell_type": "markdown",
   "id": "3bf6a264",
   "metadata": {},
   "source": [
    "## Details\n"
   ]
  },
  {
   "cell_type": "markdown",
   "id": "7b650b3e",
   "metadata": {},
   "source": [
    "| Dataset  | Split | # samples |\n",
    "| -------- | ----- | --------- |\n",
    "| SQuAD1.1 | train | 96.8K      |\n",
    "| SQuAD1.1 | eval  | 11.8k     |\n"
   ]
  },
  {
   "cell_type": "markdown",
   "id": "e9ce575b",
   "metadata": {},
   "source": [
    "### Fine-tuning\n",
    "- Python: `3.7.5`\n"
   ]
  },
  {
   "cell_type": "markdown",
   "id": "90d582fe",
   "metadata": {},
   "source": [
    "- Machine specs:\n"
   ]
  },
  {
   "cell_type": "markdown",
   "id": "b1c8f548",
   "metadata": {},
   "source": [
    "`CPU: Intel(R) Core(TM) i7-6800K CPU @ 3.40GHz`\n"
   ]
  },
  {
   "cell_type": "markdown",
   "id": "4d67a453",
   "metadata": {},
   "source": [
    "`Memory: 32 GiB`\n"
   ]
  },
  {
   "cell_type": "markdown",
   "id": "a3b77190",
   "metadata": {},
   "source": [
    "`GPUs: 2 GeForce GTX 1070, each with 8GiB memory`\n"
   ]
  },
  {
   "cell_type": "markdown",
   "id": "1c3faf44",
   "metadata": {},
   "source": [
    "`GPU driver: 418.87.01, CUDA: 10.1`\n"
   ]
  },
  {
   "cell_type": "markdown",
   "id": "4a2d9855",
   "metadata": {},
   "source": [
    "- script:\n"
   ]
  },
  {
   "cell_type": "code",
   "execution_count": null,
   "id": "d5c5da13",
   "metadata": {},
   "outputs": [],
   "source": [
    "!pip install --upgrade paddlenlp"
   ]
  },
  {
   "cell_type": "code",
   "execution_count": null,
   "id": "307d7924",
   "metadata": {},
   "outputs": [],
   "source": [
    "import paddle\n",
    "from paddlenlp.transformers import AutoModel\n",
    "\n",
    "model = AutoModel.from_pretrained(\"csarron/roberta-base-squad-v1\")\n",
    "input_ids = paddle.randint(100, 200, shape=[1, 20])\n",
    "print(model(input_ids))"
   ]
  },
  {
   "cell_type": "markdown",
   "id": "9406a59a",
   "metadata": {},
   "source": [
    "> Created by [Qingqing Cao](https://awk.ai/) | [GitHub](https://github.com/csarron) | [Twitter](https://twitter.com/sysnlp)\n",
    "> Made with ❤️ in New York.\n",
    "> The introduciton and weight file of this model are from [https://huggingface.co/csarron/roberta-base-squad-v1](https://huggingface.co/csarron/roberta-base-squad-v1), and we convert them to paddle related files."
   ]
  }
 ],
 "metadata": {
  "kernelspec": {
   "display_name": "Python 3 (ipykernel)",
   "language": "python",
   "name": "python3"
  },
  "language_info": {
   "codemirror_mode": {
    "name": "ipython",
    "version": 3
   },
   "file_extension": ".py",
   "mimetype": "text/x-python",
   "name": "python",
   "nbconvert_exporter": "python",
   "pygments_lexer": "ipython3",
   "version": "3.8.13"
  }
 },
 "nbformat": 4,
 "nbformat_minor": 5
}
