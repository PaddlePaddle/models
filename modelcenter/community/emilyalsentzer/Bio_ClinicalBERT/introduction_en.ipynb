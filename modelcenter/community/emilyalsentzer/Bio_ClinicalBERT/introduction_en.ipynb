{
 "cells": [
  {
   "cell_type": "markdown",
   "id": "91c5f94f",
   "metadata": {},
   "source": [
    "# ClinicalBERT - Bio + Clinical BERT Model\n"
   ]
  },
  {
   "cell_type": "markdown",
   "id": "ec471b16",
   "metadata": {},
   "source": [
    "The [Publicly Available Clinical BERT Embeddings](https://arxiv.org/abs/1904.03323) paper contains four unique clinicalBERT models: initialized with BERT-Base (`cased_L-12_H-768_A-12`) or BioBERT (`BioBERT-Base v1.0 + PubMed 200K + PMC 270K`) & trained on either all MIMIC notes or only discharge summaries.\n"
   ]
  },
  {
   "cell_type": "markdown",
   "id": "9ab166b8",
   "metadata": {},
   "source": [
    "This model card describes the Bio+Clinical BERT model, which was initialized from [BioBERT](https://arxiv.org/abs/1901.08746) & trained on all MIMIC notes.\n"
   ]
  },
  {
   "cell_type": "markdown",
   "id": "6da9600f",
   "metadata": {},
   "source": [
    "## Pretraining Data\n",
    "The `Bio_ClinicalBERT` model was trained on all notes from [MIMIC III](https://www.nature.com/articles/sdata201635), a database containing electronic health records from ICU patients at the Beth Israel Hospital in Boston, MA. For more details on MIMIC, see [here](https://mimic.physionet.org/). All notes from the `NOTEEVENTS` table were included (~880M words).\n"
   ]
  },
  {
   "cell_type": "markdown",
   "id": "4b0e09b6",
   "metadata": {},
   "source": [
    "## Model Pretraining\n"
   ]
  },
  {
   "cell_type": "markdown",
   "id": "39d6142b",
   "metadata": {},
   "source": [
    "### Note Preprocessing\n",
    "Each note in MIMIC was first split into sections using a rules-based section splitter (e.g. discharge summary notes were split into \"History of Present Illness\", \"Family History\", \"Brief Hospital Course\", etc. sections). Then each section was split into sentences using SciSpacy (`en core sci md` tokenizer).\n"
   ]
  },
  {
   "cell_type": "markdown",
   "id": "5f8c4495",
   "metadata": {},
   "source": [
    "### Pretraining Procedures\n",
    "The model was trained using code from [Google's BERT repository](https://github.com/google-research/bert) on a GeForce GTX TITAN X 12 GB GPU. Model parameters were initialized with BioBERT (`BioBERT-Base v1.0 + PubMed 200K + PMC 270K`).\n"
   ]
  },
  {
   "cell_type": "markdown",
   "id": "4c177eaf",
   "metadata": {},
   "source": [
    "### Pretraining Hyperparameters\n",
    "We used a batch size of 32, a maximum sequence length of 128, and a learning rate of 5 · 10−5 for pre-training our models. The models trained on all MIMIC notes  were trained for 150,000 steps. The dup factor for duplicating input data with different masks was set to 5. All other default parameters were used (specifically, masked language model probability = 0.15\n",
    "and max predictions per sequence = 20).\n"
   ]
  },
  {
   "cell_type": "markdown",
   "id": "69f6ed08",
   "metadata": {},
   "source": [
    "## How to use the model\n"
   ]
  },
  {
   "cell_type": "code",
   "execution_count": null,
   "id": "62913fa8",
   "metadata": {},
   "outputs": [],
   "source": [
    "!pip install --upgrade paddlenlp"
   ]
  },
  {
   "cell_type": "code",
   "execution_count": null,
   "id": "7b055241",
   "metadata": {},
   "outputs": [],
   "source": [
    "import paddle\n",
    "from paddlenlp.transformers import AutoModel\n",
    "\n",
    "model = AutoModel.from_pretrained(\"emilyalsentzer/Bio_ClinicalBERT\")\n",
    "input_ids = paddle.randint(100, 200, shape=[1, 20])\n",
    "print(model(input_ids))"
   ]
  },
  {
   "cell_type": "markdown",
   "id": "4822c0c6",
   "metadata": {},
   "source": [
    "## More Information\n"
   ]
  },
  {
   "cell_type": "markdown",
   "id": "14b25faa",
   "metadata": {},
   "source": [
    "Refer to the original paper, [Publicly Available Clinical BERT Embeddings](https://arxiv.org/abs/1904.03323) (NAACL Clinical NLP Workshop 2019) for additional details and performance on NLI and NER tasks.\n"
   ]
  },
  {
   "cell_type": "markdown",
   "id": "cf0f049e",
   "metadata": {},
   "source": [
    "## Questions?\n"
   ]
  },
  {
   "cell_type": "markdown",
   "id": "f4b734c0",
   "metadata": {},
   "source": [
    "Post a Github issue on the [clinicalBERT repo](https://github.com/EmilyAlsentzer/clinicalBERT) or email emilya@mit.edu with any questions.\n"
   ]
  },
  {
   "cell_type": "markdown",
   "id": "0716a06f",
   "metadata": {},
   "source": [
    "> 此模型来源于：[https://huggingface.co/emilyalsentzer/Bio_ClinicalBERT](https://huggingface.co/emilyalsentzer/Bio_ClinicalBERT)\n"
   ]
  }
 ],
 "metadata": {
  "kernelspec": {
   "display_name": "Python 3 (ipykernel)",
   "language": "python",
   "name": "python3"
  },
  "language_info": {
   "codemirror_mode": {
    "name": "ipython",
    "version": 3
   },
   "file_extension": ".py",
   "mimetype": "text/x-python",
   "name": "python",
   "nbconvert_exporter": "python",
   "pygments_lexer": "ipython3",
   "version": "3.8.13"
  }
 },
 "nbformat": 4,
 "nbformat_minor": 5
}
