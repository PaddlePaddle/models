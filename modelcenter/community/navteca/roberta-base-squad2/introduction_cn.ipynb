{
 "cells": [
  {
   "cell_type": "markdown",
   "id": "bc15b0f8",
   "metadata": {},
   "source": [
    "# Roberta base model for QA (SQuAD 2.0)\n"
   ]
  },
  {
   "cell_type": "markdown",
   "id": "f3c02769",
   "metadata": {},
   "source": [
    "This model uses [roberta-base](https://huggingface.co/roberta-base).\n"
   ]
  },
  {
   "cell_type": "markdown",
   "id": "ae729c5d",
   "metadata": {},
   "source": [
    "## Training Data\n",
    "The models have been trained on the [SQuAD 2.0](https://rajpurkar.github.io/SQuAD-explorer/) dataset.\n"
   ]
  },
  {
   "cell_type": "markdown",
   "id": "da0b4ddb",
   "metadata": {},
   "source": [
    "It can be used for question answering task.\n"
   ]
  },
  {
   "cell_type": "markdown",
   "id": "d556ff83",
   "metadata": {},
   "source": [
    "## Usage and Performance\n",
    "The trained model can be used like this:\n"
   ]
  },
  {
   "cell_type": "code",
   "execution_count": null,
   "id": "b14508bd",
   "metadata": {},
   "outputs": [],
   "source": [
    "!pip install --upgrade paddlenlp"
   ]
  },
  {
   "cell_type": "code",
   "execution_count": null,
   "id": "00d6014b",
   "metadata": {},
   "outputs": [],
   "source": [
    "import paddle\n",
    "from paddlenlp.transformers import AutoModel\n",
    "\n",
    "model = AutoModel.from_pretrained(\"navteca/roberta-base-squad2\")\n",
    "input_ids = paddle.randint(100, 200, shape=[1, 20])\n",
    "print(model(input_ids))"
   ]
  },
  {
   "cell_type": "markdown",
   "id": "b91377ec",
   "metadata": {},
   "source": [
    "> 此模型来源于：[https://huggingface.co/navteca/roberta-base-squad2](https://huggingface.co/https://huggingface.co/navteca/roberta-base-squad2)\n"
   ]
  }
 ],
 "metadata": {},
 "nbformat": 4,
 "nbformat_minor": 5
}
