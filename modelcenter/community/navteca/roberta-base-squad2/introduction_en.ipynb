{
 "cells": [
  {
   "cell_type": "markdown",
   "id": "9fc1fc44",
   "metadata": {},
   "source": [
    "# Roberta base model for QA (SQuAD 2.0)\n",
    "\n",
    "This model uses [roberta-base](https://huggingface.co/roberta-base).\n",
    "\n",
    "## Training Data\n",
    "The models have been trained on the [SQuAD 2.0](https://rajpurkar.github.io/SQuAD-explorer/) dataset.\n",
    "\n",
    "It can be used for question answering task.\n",
    "\n",
    "## Usage and Performance\n",
    "The trained model can be used like this:\n"
   ]
  },
  {
   "cell_type": "code",
   "execution_count": null,
   "id": "f63e9630",
   "metadata": {},
   "outputs": [],
   "source": [
    "import paddle\n",
    "from paddlenlp.transformers import AutoModel\n",
    "\n",
    "model = AutoModel.from_pretrained(\"navteca/roberta-base-squad2\")\n",
    "input_ids = paddle.randint(100, 200, shape=[1, 20])\n",
    "print(model(input_ids))"
   ]
  },
  {
   "cell_type": "markdown",
   "id": "27bac0c8",
   "metadata": {},
   "source": [
    "> 此模型来源于：[https://huggingface.co/navteca/roberta-base-squad2](https://huggingface.co/https://huggingface.co/navteca/roberta-base-squad2)"
   ]
  }
 ],
 "metadata": {},
 "nbformat": 4,
 "nbformat_minor": 5
}
