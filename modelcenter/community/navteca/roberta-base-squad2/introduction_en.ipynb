{
 "cells": [
  {
   "cell_type": "markdown",
   "id": "41d1e66a",
   "metadata": {},
   "source": [
    "# Roberta base model for QA (SQuAD 2.0)\n"
   ]
  },
  {
   "cell_type": "markdown",
   "id": "a8274781",
   "metadata": {},
   "source": [
    "This model uses [roberta-base](https://huggingface.co/roberta-base).\n"
   ]
  },
  {
   "cell_type": "markdown",
   "id": "2c31ecd1",
   "metadata": {},
   "source": [
    "## Training Data\n",
    "The models have been trained on the [SQuAD 2.0](https://rajpurkar.github.io/SQuAD-explorer/) dataset.\n"
   ]
  },
  {
   "cell_type": "markdown",
   "id": "62662634",
   "metadata": {},
   "source": [
    "It can be used for question answering task.\n"
   ]
  },
  {
   "cell_type": "markdown",
   "id": "32f22f66",
   "metadata": {},
   "source": [
    "## Usage and Performance\n",
    "The trained model can be used like this:\n"
   ]
  },
  {
   "cell_type": "code",
   "execution_count": null,
   "id": "a780c49d",
   "metadata": {},
   "outputs": [],
   "source": [
    "!pip install --upgrade paddlenlp"
   ]
  },
  {
   "cell_type": "code",
   "execution_count": null,
   "id": "18190dc5",
   "metadata": {},
   "outputs": [],
   "source": [
    "import paddle\n",
    "from paddlenlp.transformers import AutoModel\n",
    "\n",
    "model = AutoModel.from_pretrained(\"navteca/roberta-base-squad2\")\n",
    "input_ids = paddle.randint(100, 200, shape=[1, 20])\n",
    "print(model(input_ids))"
   ]
  },
  {
   "cell_type": "markdown",
   "id": "d6047998",
   "metadata": {},
   "source": [
    "> 此模型来源于：[https://huggingface.co/navteca/roberta-base-squad2](https://huggingface.co/https://huggingface.co/navteca/roberta-base-squad2)\n"
   ]
  }
 ],
 "metadata": {},
 "nbformat": 4,
 "nbformat_minor": 5
}
