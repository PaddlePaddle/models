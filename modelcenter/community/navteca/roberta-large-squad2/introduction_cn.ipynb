{
 "cells": [
  {
   "cell_type": "markdown",
   "id": "800198c1",
   "metadata": {},
   "source": [
    "# Roberta large model for QA (SQuAD 2.0)\n"
   ]
  },
  {
   "cell_type": "markdown",
   "id": "72860572",
   "metadata": {},
   "source": [
    "This model uses [roberta-large](https://huggingface.co/roberta-large).\n"
   ]
  },
  {
   "cell_type": "markdown",
   "id": "165302f2",
   "metadata": {},
   "source": [
    "## Training Data\n",
    "The models have been trained on the [SQuAD 2.0](https://rajpurkar.github.io/SQuAD-explorer/) dataset.\n"
   ]
  },
  {
   "cell_type": "markdown",
   "id": "379382dc",
   "metadata": {},
   "source": [
    "It can be used for question answering task.\n"
   ]
  },
  {
   "cell_type": "markdown",
   "id": "56d4be6a",
   "metadata": {},
   "source": [
    "## Usage and Performance\n",
    "The trained model can be used like this:\n"
   ]
  },
  {
   "cell_type": "code",
   "execution_count": null,
   "id": "475196b2",
   "metadata": {},
   "outputs": [],
   "source": [
    "!pip install --upgrade paddlenlp"
   ]
  },
  {
   "cell_type": "code",
   "execution_count": null,
   "id": "849df276",
   "metadata": {},
   "outputs": [],
   "source": [
    "import paddle\n",
    "from paddlenlp.transformers import AutoModel\n",
    "\n",
    "model = AutoModel.from_pretrained(\"navteca/roberta-large-squad2\")\n",
    "input_ids = paddle.randint(100, 200, shape=[1, 20])\n",
    "print(model(input_ids))"
   ]
  },
  {
   "cell_type": "markdown",
   "id": "5725a3c6",
   "metadata": {},
   "source": [
    "> 此模型来源于：[https://huggingface.co/navteca/roberta-large-squad2](https://huggingface.co/https://huggingface.co/navteca/roberta-large-squad2)\n"
   ]
  }
 ],
 "metadata": {},
 "nbformat": 4,
 "nbformat_minor": 5
}
