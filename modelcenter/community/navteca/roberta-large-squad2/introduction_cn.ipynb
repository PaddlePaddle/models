{
 "cells": [
  {
   "cell_type": "markdown",
   "id": "f49d50d9",
   "metadata": {},
   "source": [
    "# Roberta large model for QA (SQuAD 2.0)\n",
    "\n",
    "This model uses [roberta-large](https://huggingface.co/roberta-large).\n",
    "\n",
    "## Training Data\n",
    "The models have been trained on the [SQuAD 2.0](https://rajpurkar.github.io/SQuAD-explorer/) dataset.\n",
    "\n",
    "It can be used for question answering task.\n",
    "\n",
    "## Usage and Performance\n",
    "The trained model can be used like this:\n"
   ]
  },
  {
   "cell_type": "code",
   "execution_count": null,
   "id": "13aeec80",
   "metadata": {},
   "outputs": [],
   "source": [
    "import paddle\n",
    "from paddlenlp.transformers import AutoModel\n",
    "\n",
    "model = AutoModel.from_pretrained(\"navteca/roberta-large-squad2\")\n",
    "input_ids = paddle.randint(100, 200, shape=[1, 20])\n",
    "print(model(input_ids))"
   ]
  },
  {
   "cell_type": "markdown",
   "id": "e7f27fb0",
   "metadata": {},
   "source": [
    "> 此模型来源于：[https://huggingface.co/navteca/roberta-large-squad2](https://huggingface.co/https://huggingface.co/navteca/roberta-large-squad2)"
   ]
  }
 ],
 "metadata": {},
 "nbformat": 4,
 "nbformat_minor": 5
}
