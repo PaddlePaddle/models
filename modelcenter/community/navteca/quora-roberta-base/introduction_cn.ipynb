{
 "cells": [
  {
   "cell_type": "markdown",
   "id": "504f740c",
   "metadata": {},
   "source": [
    "# Cross-Encoder for Quora Duplicate Questions Detection\n"
   ]
  },
  {
   "cell_type": "markdown",
   "id": "e7f4e15a",
   "metadata": {},
   "source": [
    "This model was trained using [SentenceTransformers](https://sbert.net) [Cross-Encoder](https://www.sbert.net/examples/applications/cross-encoder/README.html) class.\n"
   ]
  },
  {
   "cell_type": "markdown",
   "id": "e5cd8757",
   "metadata": {},
   "source": [
    "This model uses [roberta-base](https://huggingface.co/roberta-base).\n"
   ]
  },
  {
   "cell_type": "markdown",
   "id": "46c9bf7d",
   "metadata": {},
   "source": [
    "## Training Data\n"
   ]
  },
  {
   "cell_type": "markdown",
   "id": "883e45cc",
   "metadata": {},
   "source": [
    "This model was trained on the [Quora Duplicate Questions](https://www.quora.com/q/quoradata/First-Quora-Dataset-Release-Question-Pairs) dataset.\n"
   ]
  },
  {
   "cell_type": "markdown",
   "id": "74d0c07f",
   "metadata": {},
   "source": [
    "The model will predict a score between 0 and 1: How likely the two given questions are duplicates.\n"
   ]
  },
  {
   "cell_type": "markdown",
   "id": "7c89aad1",
   "metadata": {},
   "source": [
    "Note: The model is not suitable to estimate the similarity of questions, e.g. the two questions \"How to learn Java\" and \"How to learn Python\" will result in a rahter low score, as these are not duplicates.\n"
   ]
  },
  {
   "cell_type": "markdown",
   "id": "964e5732",
   "metadata": {},
   "source": [
    "## Usage and Performance\n"
   ]
  },
  {
   "cell_type": "markdown",
   "id": "af8955d5",
   "metadata": {},
   "source": [
    "The trained model can be used like this:\n"
   ]
  },
  {
   "cell_type": "code",
   "execution_count": null,
   "id": "7b5eeeb5",
   "metadata": {},
   "outputs": [],
   "source": [
    "!pip install --upgrade paddlenlp"
   ]
  },
  {
   "cell_type": "code",
   "execution_count": null,
   "id": "9ac5cb4e",
   "metadata": {},
   "outputs": [],
   "source": [
    "import paddle\n",
    "from paddlenlp.transformers import AutoModel\n",
    "\n",
    "model = AutoModel.from_pretrained(\"navteca/quora-roberta-base\")\n",
    "input_ids = paddle.randint(100, 200, shape=[1, 20])\n",
    "print(model(input_ids))"
   ]
  },
  {
   "cell_type": "markdown",
   "id": "54278169",
   "metadata": {},
   "source": [
    "> 此模型来源于：[https://huggingface.co/navteca/quora-roberta-base](https://huggingface.co/https://huggingface.co/navteca/quora-roberta-base)\n"
   ]
  }
 ],
 "metadata": {},
 "nbformat": 4,
 "nbformat_minor": 5
}
