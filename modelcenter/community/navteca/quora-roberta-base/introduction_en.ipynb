{
 "cells": [
  {
   "cell_type": "markdown",
   "id": "b77feb15",
   "metadata": {},
   "source": [
    "# Cross-Encoder for Quora Duplicate Questions Detection\n"
   ]
  },
  {
   "cell_type": "markdown",
   "id": "3a9fd5d5",
   "metadata": {},
   "source": [
    "This model was trained using [SentenceTransformers](https://sbert.net) [Cross-Encoder](https://www.sbert.net/examples/applications/cross-encoder/README.html) class.\n"
   ]
  },
  {
   "cell_type": "markdown",
   "id": "e65f1d1d",
   "metadata": {},
   "source": [
    "This model uses [roberta-base](https://huggingface.co/roberta-base).\n"
   ]
  },
  {
   "cell_type": "markdown",
   "id": "a1b045a6",
   "metadata": {},
   "source": [
    "## Training Data\n"
   ]
  },
  {
   "cell_type": "markdown",
   "id": "70927fe2",
   "metadata": {},
   "source": [
    "This model was trained on the [Quora Duplicate Questions](https://www.quora.com/q/quoradata/First-Quora-Dataset-Release-Question-Pairs) dataset.\n"
   ]
  },
  {
   "cell_type": "markdown",
   "id": "06099f12",
   "metadata": {},
   "source": [
    "The model will predict a score between 0 and 1: How likely the two given questions are duplicates.\n"
   ]
  },
  {
   "cell_type": "markdown",
   "id": "e7d6a92a",
   "metadata": {},
   "source": [
    "Note: The model is not suitable to estimate the similarity of questions, e.g. the two questions \"How to learn Java\" and \"How to learn Python\" will result in a rahter low score, as these are not duplicates.\n"
   ]
  },
  {
   "cell_type": "markdown",
   "id": "cd41f005",
   "metadata": {},
   "source": [
    "## Usage and Performance\n"
   ]
  },
  {
   "cell_type": "markdown",
   "id": "a15f0fc4",
   "metadata": {},
   "source": [
    "The trained model can be used like this:\n"
   ]
  },
  {
   "cell_type": "code",
   "execution_count": null,
   "id": "03ad5a67",
   "metadata": {},
   "outputs": [],
   "source": [
    "!pip install --upgrade paddlenlp"
   ]
  },
  {
   "cell_type": "code",
   "execution_count": null,
   "id": "7cc7adf5",
   "metadata": {},
   "outputs": [],
   "source": [
    "import paddle\n",
    "from paddlenlp.transformers import AutoModel\n",
    "\n",
    "model = AutoModel.from_pretrained(\"navteca/quora-roberta-base\")\n",
    "input_ids = paddle.randint(100, 200, shape=[1, 20])\n",
    "print(model(input_ids))"
   ]
  },
  {
   "cell_type": "markdown",
   "id": "20eb5578",
   "metadata": {},
   "source": [
    "> 此模型来源于：[https://huggingface.co/navteca/quora-roberta-base](https://huggingface.co/https://huggingface.co/navteca/quora-roberta-base)\n"
   ]
  }
 ],
 "metadata": {},
 "nbformat": 4,
 "nbformat_minor": 5
}
