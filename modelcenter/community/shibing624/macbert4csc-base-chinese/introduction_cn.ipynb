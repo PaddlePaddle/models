{
 "cells": [
  {
   "cell_type": "markdown",
   "id": "a4748a2d",
   "metadata": {},
   "source": [
    "# MacBERT for Chinese Spelling Correction(macbert4csc) Model\n",
    "中文拼写纠错模型\n"
   ]
  },
  {
   "cell_type": "markdown",
   "id": "7d59fd4f",
   "metadata": {},
   "source": [
    "`macbert4csc-base-chinese` evaluate SIGHAN2015 test data：\n"
   ]
  },
  {
   "cell_type": "markdown",
   "id": "1c9de6c8",
   "metadata": {},
   "source": [
    "- Char Level:     precision:0.9372, recall:0.8640, f1:0.8991\n",
    "- Sentence Level: precision:0.8264, recall:0.7366, f1:0.7789\n"
   ]
  },
  {
   "cell_type": "markdown",
   "id": "e3c0f914",
   "metadata": {},
   "source": [
    "由于训练使用的数据使用了SIGHAN2015的训练集（复现paper），在SIGHAN2015的测试集上达到SOTA水平。\n"
   ]
  },
  {
   "cell_type": "markdown",
   "id": "44eb925d",
   "metadata": {},
   "source": [
    "模型结构，魔改于softmaskedbert：\n"
   ]
  },
  {
   "cell_type": "markdown",
   "id": "9570df23",
   "metadata": {},
   "source": [
    "![arch](arch1.png)\n"
   ]
  },
  {
   "cell_type": "markdown",
   "id": "ac028463",
   "metadata": {},
   "source": [
    "## Usage\n"
   ]
  },
  {
   "cell_type": "markdown",
   "id": "3585c7f7",
   "metadata": {},
   "source": [
    "本项目开源在中文文本纠错项目：[pycorrector](https://github.com/shibing624/pycorrector)，可支持macbert4csc模型，通过如下命令调用：\n"
   ]
  },
  {
   "cell_type": "code",
   "execution_count": null,
   "id": "f293fd4c",
   "metadata": {},
   "outputs": [],
   "source": [
    "!pip install --upgrade paddlenlp"
   ]
  },
  {
   "cell_type": "code",
   "execution_count": null,
   "id": "980fa25f",
   "metadata": {},
   "outputs": [],
   "source": [
    "import paddle\n",
    "from paddlenlp.transformers import AutoModel\n",
    "\n",
    "model = AutoModel.from_pretrained(\"shibing624/macbert4csc-base-chinese\")\n",
    "input_ids = paddle.randint(100, 200, shape=[1, 20])\n",
    "print(model(input_ids))"
   ]
  },
  {
   "cell_type": "markdown",
   "id": "4f3918f2",
   "metadata": {},
   "source": [
    "@software{pycorrector,\n",
    "author = {Xu Ming},\n",
    "title = {pycorrector: Text Error Correction Tool},\n",
    "year = {2021},\n",
    "url = {https://github.com/shibing624/pycorrector},\n",
    "}\n"
   ]
  },
  {
   "cell_type": "markdown",
   "id": "677c421b",
   "metadata": {},
   "source": [
    "> 此模型来源于：[https://huggingface.co/shibing624/macbert4csc-base-chinese](https://huggingface.co/https://huggingface.co/shibing624/macbert4csc-base-chinese)\n"
   ]
  }
 ],
 "metadata": {},
 "nbformat": 4,
 "nbformat_minor": 5
}
