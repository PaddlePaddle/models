{
 "cells": [
  {
   "cell_type": "markdown",
   "id": "7107d101",
   "metadata": {},
   "source": [
    "# MacBERT for Chinese Spelling Correction(macbert4csc) Model\n",
    "中文拼写纠错模型\n",
    "\n",
    "`macbert4csc-base-chinese` evaluate SIGHAN2015 test data：\n",
    "\n",
    "- Char Level:     precision:0.9372, recall:0.8640, f1:0.8991\n",
    "- Sentence Level: precision:0.8264, recall:0.7366, f1:0.7789\n",
    "\n",
    "由于训练使用的数据使用了SIGHAN2015的训练集（复现paper），在SIGHAN2015的测试集上达到SOTA水平。\n",
    "\n",
    "模型结构，魔改于softmaskedbert：\n",
    "\n",
    "![arch](arch1.png)\n",
    "\n",
    "## Usage\n",
    "\n",
    "本项目开源在中文文本纠错项目：[pycorrector](https://github.com/shibing624/pycorrector)，可支持macbert4csc模型，通过如下命令调用：\n"
   ]
  },
  {
   "cell_type": "code",
   "execution_count": null,
   "id": "ebd53427",
   "metadata": {},
   "outputs": [],
   "source": [
    "import paddle\n",
    "from paddlenlp.transformers import AutoModel\n",
    "\n",
    "model = AutoModel.from_pretrained(\"shibing624/macbert4csc-base-chinese\")\n",
    "input_ids = paddle.randint(100, 200, shape=[1, 20])\n",
    "print(model(input_ids))"
   ]
  },
  {
   "cell_type": "markdown",
   "id": "cbd9c7b7",
   "metadata": {},
   "source": [
    "> 此模型来源于：[https://huggingface.co/shibing624/macbert4csc-base-chinese](https://huggingface.co/https://huggingface.co/shibing624/macbert4csc-base-chinese)"
   ]
  }
 ],
 "metadata": {},
 "nbformat": 4,
 "nbformat_minor": 5
}
