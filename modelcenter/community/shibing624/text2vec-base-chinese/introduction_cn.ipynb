{
 "cells": [
  {
   "cell_type": "markdown",
   "id": "ef9d28c4",
   "metadata": {},
   "source": [
    "# shibing624/text2vec-base-chinese\n",
    "This is a CoSENT(Cosine Sentence) model: shibing624/text2vec-base-chinese.\n"
   ]
  },
  {
   "cell_type": "markdown",
   "id": "109aae76",
   "metadata": {},
   "source": [
    "It maps sentences to a 768 dimensional dense vector space and can be used for tasks\n",
    "like sentence embeddings, text matching or semantic search.\n"
   ]
  },
  {
   "cell_type": "markdown",
   "id": "a71e2348",
   "metadata": {},
   "source": [
    "## Evaluation\n",
    "For an automated evaluation of this model, see the *Evaluation Benchmark*: [text2vec](https://github.com/shibing624/text2vec)\n"
   ]
  },
  {
   "cell_type": "markdown",
   "id": "7f17d45e",
   "metadata": {},
   "source": [
    "- chinese text matching task：\n"
   ]
  },
  {
   "cell_type": "markdown",
   "id": "f2a51d1b",
   "metadata": {},
   "source": [
    "| Model Name | ATEC | BQ | LCQMC | PAWSX | STS-B | Avg | QPS |\n",
    "| :---- | :-: | :-: | :-: | :-: | :-: | :-: | :-: |\n",
    "| w2v-light-tencent-chinese | 20.00 | 31.49 | 59.46 | 2.57 | 55.78 | 33.86 | 10283 |\n",
    "| paraphrase-multilingual-MiniLM-L12-v2 | 18.42 | 38.52 | 63.96 | 10.14 | 78.90 | 41.99 | 2371 |\n",
    "| text2vec-base-chinese | 31.93 | 42.67 | 70.16 | 17.21 | 79.30 | **48.25** | 2572 |\n"
   ]
  },
  {
   "cell_type": "markdown",
   "id": "7e757430",
   "metadata": {},
   "source": [
    "## Usage (text2vec)\n",
    "Using this model becomes easy when you have [text2vec](https://github.com/shibing624/text2vec) installed:\n"
   ]
  },
  {
   "cell_type": "code",
   "execution_count": null,
   "id": "fa2a2e8b",
   "metadata": {},
   "outputs": [],
   "source": [
    "!pip install --upgrade paddlenlp"
   ]
  },
  {
   "cell_type": "code",
   "execution_count": null,
   "id": "d5629caa",
   "metadata": {},
   "outputs": [],
   "source": [
    "import paddle\n",
    "from paddlenlp.transformers import AutoModel\n",
    "\n",
    "model = AutoModel.from_pretrained(\"shibing624/text2vec-base-chinese\")\n",
    "input_ids = paddle.randint(100, 200, shape=[1, 20])\n",
    "print(model(input_ids))"
   ]
  },
  {
   "cell_type": "markdown",
   "id": "916d1ccc",
   "metadata": {},
   "source": [
    "@software{text2vec,\n",
    "author = {Xu Ming},\n",
    "title = {text2vec: A Tool for Text to Vector},\n",
    "year = {2022},\n",
    "url = {https://github.com/shibing624/text2vec},\n",
    "}\n"
   ]
  },
  {
   "cell_type": "markdown",
   "id": "88b151b9",
   "metadata": {},
   "source": [
    "> 此模型来源于：[https://huggingface.co/shibing624/text2vec-base-chinese](https://huggingface.co/https://huggingface.co/shibing624/text2vec-base-chinese)\n"
   ]
  }
 ],
 "metadata": {},
 "nbformat": 4,
 "nbformat_minor": 5
}
