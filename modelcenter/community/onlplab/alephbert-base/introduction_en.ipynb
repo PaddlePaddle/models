{
 "cells": [
  {
   "cell_type": "markdown",
   "id": "e56db9ab",
   "metadata": {},
   "source": [
    "# AlephBERT\n",
    "\n",
    "## Hebrew Language Model\n",
    "\n",
    "State-of-the-art language model for Hebrew.\n",
    "Based on Google's BERT architecture [(Devlin et al. 2018)](https://arxiv.org/abs/1810.04805).\n",
    "\n",
    "#### How to use\n"
   ]
  },
  {
   "cell_type": "code",
   "execution_count": null,
   "id": "caf2410d",
   "metadata": {},
   "outputs": [],
   "source": [
    "import paddle\n",
    "from paddlenlp.transformers import AutoModel\n",
    "\n",
    "model = AutoModel.from_pretrained(\"onlplab/alephbert-base\")\n",
    "input_ids = paddle.randint(100, 200, shape=[1, 20])\n",
    "print(model(input_ids))"
   ]
  },
  {
   "cell_type": "markdown",
   "id": "20249b3e",
   "metadata": {},
   "source": [
    "## Training data\n",
    "1. OSCAR [(Ortiz, 2019)](https://oscar-corpus.com/) Hebrew section (10 GB text, 20 million sentences).\n",
    "2. Hebrew dump of [Wikipedia](https://dumps.wikimedia.org/hewiki/latest/) (650 MB text, 3 million sentences).\n",
    "3. Hebrew Tweets collected from the Twitter sample stream (7 GB text, 70 million sentences).\n",
    "\n",
    "## Training procedure\n",
    "\n",
    "Trained on a DGX machine (8 V100 GPUs) using the standard huggingface training procedure.\n",
    "\n",
    "Since the larger part of our training data is based on tweets we decided to start by optimizing using Masked Language Model loss only.\n",
    "\n",
    "To optimize training time we split the data into 4 sections based on max number of tokens:\n",
    "\n",
    "1. num tokens < 32 (70M sentences)\n",
    "2. 32 <= num tokens < 64 (12M sentences)\n",
    "3. 64 <= num tokens < 128 (10M sentences)\n",
    "4. 128 <= num tokens < 512 (1.5M sentences)\n",
    "\n",
    "Each section was first trained for 5 epochs with an initial learning rate set to 1e-4. Then each section was trained for another 5 epochs with an initial learning rate set to 1e-5, for a total of 10 epochs.\n",
    "\n",
    "Total training time was 8 days.\n",
    "\n",
    "\n",
    "> 此模型来源于：[https://huggingface.co/onlplab/alephbert-base](https://huggingface.co/https://huggingface.co/onlplab/alephbert-base)"
   ]
  }
 ],
 "metadata": {},
 "nbformat": 4,
 "nbformat_minor": 5
}
