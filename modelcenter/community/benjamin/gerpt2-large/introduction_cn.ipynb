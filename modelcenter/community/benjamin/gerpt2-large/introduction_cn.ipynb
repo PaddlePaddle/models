{
 "cells": [
  {
   "cell_type": "markdown",
   "id": "3a4107cc",
   "metadata": {},
   "source": [
    "# GerPT2\n"
   ]
  },
  {
   "cell_type": "markdown",
   "id": "6f3112c9",
   "metadata": {},
   "source": [
    "German large and small versions of GPT2:\n"
   ]
  },
  {
   "cell_type": "markdown",
   "id": "68faaa25",
   "metadata": {},
   "source": [
    "- https://huggingface.co/benjamin/gerpt2\n",
    "- https://huggingface.co/benjamin/gerpt2-large\n"
   ]
  },
  {
   "cell_type": "markdown",
   "id": "6278e1a8",
   "metadata": {},
   "source": [
    "See the [GPT2 model card](https://huggingface.co/gpt2) for considerations on limitations and bias. See the [GPT2 documentation](https://huggingface.co/transformers/model_doc/gpt2.html) for details on GPT2.\n"
   ]
  },
  {
   "cell_type": "markdown",
   "id": "ca359aeb",
   "metadata": {},
   "source": [
    "## Comparison to [dbmdz/german-gpt2](https://huggingface.co/dbmdz/german-gpt2)\n"
   ]
  },
  {
   "cell_type": "markdown",
   "id": "e667a68f",
   "metadata": {},
   "source": [
    "I evaluated both GerPT2-large and the other German GPT2, [dbmdz/german-gpt2](https://huggingface.co/dbmdz/german-gpt2) on the [CC-100](http://data.statmt.org/cc-100/) dataset and on the German Wikipedia:\n"
   ]
  },
  {
   "cell_type": "markdown",
   "id": "3f26c78e",
   "metadata": {},
   "source": [
    "|                   | CC-100 (PPL) | Wikipedia (PPL) |\n",
    "|-------------------|--------------|-----------------|\n",
    "| dbmdz/german-gpt2 | 49.47        | 62.92           |\n",
    "| GerPT2            | 24.78        | 35.33           |\n",
    "| GerPT2-large      | __16.08__    | __23.26__       |\n",
    "|                   |              |                 |\n"
   ]
  },
  {
   "cell_type": "markdown",
   "id": "2b9cdbe1",
   "metadata": {},
   "source": [
    "See the script `evaluate.py` in the [GerPT2 Github repository](https://github.com/bminixhofer/gerpt2) for the code.\n"
   ]
  },
  {
   "cell_type": "markdown",
   "id": "f2fb6ac8",
   "metadata": {},
   "source": [
    "## Usage\n"
   ]
  },
  {
   "cell_type": "code",
   "execution_count": null,
   "id": "5e7eccdf",
   "metadata": {},
   "outputs": [],
   "source": [
    "!pip install --upgrade paddlenlp"
   ]
  },
  {
   "cell_type": "code",
   "execution_count": null,
   "id": "0a815e59",
   "metadata": {},
   "outputs": [],
   "source": [
    "import paddle\n",
    "from paddlenlp.transformers import AutoModel\n",
    "\n",
    "model = AutoModel.from_pretrained(\"benjamin/gerpt2-large\")\n",
    "input_ids = paddle.randint(100, 200, shape=[1, 20])\n",
    "print(model(input_ids))"
   ]
  },
  {
   "cell_type": "markdown",
   "id": "bf838622",
   "metadata": {},
   "source": [
    "@misc{Minixhofer_GerPT2_German_large_2020,\n",
    "author = {Minixhofer, Benjamin},\n",
    "doi = {10.5281/zenodo.5509984},\n",
    "month = {12},\n",
    "title = {{GerPT2: German large and small versions of GPT2}},\n",
    "url = {https://github.com/bminixhofer/gerpt2},\n",
    "year = {2020}\n",
    "}\n"
   ]
  },
  {
   "cell_type": "markdown",
   "id": "09e3acb8",
   "metadata": {},
   "source": []
  },
  {
   "cell_type": "markdown",
   "id": "cab9cb9b",
   "metadata": {},
   "source": []
  },
  {
   "cell_type": "markdown",
   "id": "88f72142",
   "metadata": {},
   "source": [
    "## Acknowledgements\n"
   ]
  },
  {
   "cell_type": "markdown",
   "id": "cbe147db",
   "metadata": {},
   "source": [
    "Thanks to [Hugging Face](https://huggingface.co) for awesome tools and infrastructure.\n",
    "Huge thanks to [Artus Krohn-Grimberghe](https://twitter.com/artuskg) at [LYTiQ](https://www.lytiq.de/) for making this possible by sponsoring the resources used for training.\n",
    "> 此模型来源于：[https://huggingface.co/benjamin/gerpt2-large](https://huggingface.co/https://huggingface.co/benjamin/gerpt2-large)\n"
   ]
  }
 ],
 "metadata": {
  "language_info": {
   "name": "python"
  }
 },
 "nbformat": 4,
 "nbformat_minor": 5
}
