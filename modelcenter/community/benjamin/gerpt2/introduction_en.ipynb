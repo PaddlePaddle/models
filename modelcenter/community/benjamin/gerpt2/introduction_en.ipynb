{
 "cells": [
  {
   "cell_type": "markdown",
   "id": "6b63e116",
   "metadata": {},
   "source": [
    "# GerPT2\n"
   ]
  },
  {
   "cell_type": "markdown",
   "id": "40caac83",
   "metadata": {},
   "source": [
    "German large and small versions of GPT2:\n"
   ]
  },
  {
   "cell_type": "markdown",
   "id": "60318884",
   "metadata": {},
   "source": [
    "- https://huggingface.co/benjamin/gerpt2\n",
    "- https://huggingface.co/benjamin/gerpt2-large\n"
   ]
  },
  {
   "cell_type": "markdown",
   "id": "3eaac681",
   "metadata": {},
   "source": [
    "See the [GPT2 model card](https://huggingface.co/gpt2) for considerations on limitations and bias. See the [GPT2 documentation](https://huggingface.co/transformers/model_doc/gpt2.html) for details on GPT2.\n"
   ]
  },
  {
   "cell_type": "markdown",
   "id": "192afb3e",
   "metadata": {},
   "source": [
    "## Comparison to [dbmdz/german-gpt2](https://huggingface.co/dbmdz/german-gpt2)\n"
   ]
  },
  {
   "cell_type": "markdown",
   "id": "a0446e0c",
   "metadata": {},
   "source": [
    "I evaluated both GerPT2-large and the other German GPT2, [dbmdz/german-gpt2](https://huggingface.co/dbmdz/german-gpt2) on the [CC-100](http://data.statmt.org/cc-100/) dataset and on the German Wikipedia:\n"
   ]
  },
  {
   "cell_type": "markdown",
   "id": "b1a54072",
   "metadata": {},
   "source": [
    "|                   | CC-100 (PPL) | Wikipedia (PPL) |\n",
    "|-------------------|--------------|-----------------|\n",
    "| dbmdz/german-gpt2 | 49.47        | 62.92           |\n",
    "| GerPT2            | 24.78        | 35.33           |\n",
    "| GerPT2-large      | __16.08__    | __23.26__       |\n",
    "|                   |              |                 |\n"
   ]
  },
  {
   "cell_type": "markdown",
   "id": "dbe082d6",
   "metadata": {},
   "source": [
    "See the script `evaluate.py` in the [GerPT2 Github repository](https://github.com/bminixhofer/gerpt2) for the code.\n"
   ]
  },
  {
   "cell_type": "markdown",
   "id": "0bfa635a",
   "metadata": {},
   "source": [
    "## Usage\n"
   ]
  },
  {
   "cell_type": "code",
   "execution_count": null,
   "id": "d52161ac",
   "metadata": {},
   "outputs": [],
   "source": [
    "!pip install --upgrade paddlenlp"
   ]
  },
  {
   "cell_type": "code",
   "execution_count": null,
   "id": "5c0cc811",
   "metadata": {},
   "outputs": [],
   "source": [
    "import paddle\n",
    "from paddlenlp.transformers import AutoModel\n",
    "\n",
    "model = AutoModel.from_pretrained(\"benjamin/gerpt2\")\n",
    "input_ids = paddle.randint(100, 200, shape=[1, 20])\n",
    "print(model(input_ids))"
   ]
  },
  {
   "cell_type": "markdown",
   "id": "a3891e8b",
   "metadata": {},
   "source": [
    "```\n",
    "@misc{Minixhofer_GerPT2_German_large_2020,\n",
    "author = {Minixhofer, Benjamin},\n",
    "doi = {10.5281/zenodo.5509984},\n",
    "month = {12},\n",
    "title = {{GerPT2: German large and small versions of GPT2}},\n",
    "url = {https://github.com/bminixhofer/gerpt2},\n",
    "year = {2020}\n",
    "}\n",
    "```"
   ]
  },
  {
   "cell_type": "markdown",
   "id": "387637e9",
   "metadata": {},
   "source": [
    "## Acknowledgements\n"
   ]
  },
  {
   "cell_type": "markdown",
   "id": "231ea779",
   "metadata": {},
   "source": [
    "Thanks to [Hugging Face](https://huggingface.co) for awesome tools and infrastructure.\n",
    "Huge thanks to [Artus Krohn-Grimberghe](https://twitter.com/artuskg) at [LYTiQ](https://www.lytiq.de/) for making this possible by sponsoring the resources used for training.\n",
    "> 此模型来源于：[https://huggingface.co/benjamin/gerpt2](https://huggingface.co/benjamin/gerpt2)\n"
   ]
  }
 ],
 "metadata": {
  "kernelspec": {
   "display_name": "Python 3 (ipykernel)",
   "language": "python",
   "name": "python3"
  },
  "language_info": {
   "codemirror_mode": {
    "name": "ipython",
    "version": 3
   },
   "file_extension": ".py",
   "mimetype": "text/x-python",
   "name": "python",
   "nbconvert_exporter": "python",
   "pygments_lexer": "ipython3",
   "version": "3.8.13"
  }
 },
 "nbformat": 4,
 "nbformat_minor": 5
}
