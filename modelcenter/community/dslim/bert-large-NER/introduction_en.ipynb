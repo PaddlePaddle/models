{
 "cells": [
  {
   "cell_type": "markdown",
   "id": "574c41aa",
   "metadata": {},
   "source": [
    "# bert-base-NER\n"
   ]
  },
  {
   "cell_type": "markdown",
   "id": "430be48c",
   "metadata": {},
   "source": [
    "## Model description\n"
   ]
  },
  {
   "cell_type": "markdown",
   "id": "4bdfd881",
   "metadata": {},
   "source": [
    "**bert-large-NER** is a fine-tuned BERT model that is ready to use for **Named Entity Recognition** and achieves **state-of-the-art performance** for the NER task. It has been trained to recognize four types of entities: location (LOC), organizations (ORG), person (PER) and Miscellaneous (MISC).\n"
   ]
  },
  {
   "cell_type": "markdown",
   "id": "84ed4f8f",
   "metadata": {},
   "source": [
    "Specifically, this model is a *bert-large-cased* model that was fine-tuned on the English version of the standard [CoNLL-2003 Named Entity Recognition](https://www.aclweb.org/anthology/W03-0419.pdf) dataset.\n"
   ]
  },
  {
   "cell_type": "markdown",
   "id": "b4acb8a4",
   "metadata": {},
   "source": [
    "If you'd like to use a smaller BERT model fine-tuned on the same dataset, a [**bert-base-NER**](https://huggingface.co/dslim/bert-base-NER/) version is also available.\n"
   ]
  },
  {
   "cell_type": "markdown",
   "id": "46ad4f1f",
   "metadata": {},
   "source": [
    "## How to use\n"
   ]
  },
  {
   "cell_type": "code",
   "execution_count": null,
   "id": "b7e64545",
   "metadata": {},
   "outputs": [],
   "source": [
    "!pip install --upgrade paddlenlp"
   ]
  },
  {
   "cell_type": "code",
   "execution_count": null,
   "id": "380aa0dc",
   "metadata": {},
   "outputs": [],
   "source": [
    "import paddle\n",
    "from paddlenlp.transformers import AutoModel\n",
    "\n",
    "model = AutoModel.from_pretrained(\"dslim/bert-large-NER\")\n",
    "input_ids = paddle.randint(100, 200, shape=[1, 20])\n",
    "print(model(input_ids))"
   ]
  },
  {
   "cell_type": "markdown",
   "id": "220eb907",
   "metadata": {},
   "source": [
    "## Citation\n",
    "\n",
    "```\n",
    "@inproceedings{tjong-kim-sang-de-meulder-2003-introduction,\n",
    "title = \"Introduction to the {C}o{NLL}-2003 Shared Task: Language-Independent Named Entity Recognition\",\n",
    "author = \"Tjong Kim Sang, Erik F.  and\n",
    "De Meulder, Fien\",\n",
    "booktitle = \"Proceedings of the Seventh Conference on Natural Language Learning at {HLT}-{NAACL} 2003\",\n",
    "year = \"2003\",\n",
    "url = \"https://www.aclweb.org/anthology/W03-0419\",\n",
    "pages = \"142--147\",\n",
    "}\n",
    "```"
   ]
  },
  {
   "cell_type": "markdown",
   "id": "dc0b9503",
   "metadata": {},
   "source": [
    "> 此模型来源于：[https://huggingface.co/dslim/bert-large-NER](https://huggingface.co/dslim/bert-large-NER)\n"
   ]
  }
 ],
 "metadata": {
  "kernelspec": {
   "display_name": "Python 3 (ipykernel)",
   "language": "python",
   "name": "python3"
  },
  "language_info": {
   "codemirror_mode": {
    "name": "ipython",
    "version": 3
   },
   "file_extension": ".py",
   "mimetype": "text/x-python",
   "name": "python",
   "nbconvert_exporter": "python",
   "pygments_lexer": "ipython3",
   "version": "3.8.13"
  }
 },
 "nbformat": 4,
 "nbformat_minor": 5
}
