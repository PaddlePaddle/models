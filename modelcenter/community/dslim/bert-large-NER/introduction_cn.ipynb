{
 "cells": [
  {
   "cell_type": "markdown",
   "id": "152153df",
   "metadata": {},
   "source": [
    "# bert-base-NER\n"
   ]
  },
  {
   "cell_type": "markdown",
   "id": "d7dea0b4",
   "metadata": {},
   "source": [
    "## Model description\n"
   ]
  },
  {
   "cell_type": "markdown",
   "id": "ab674707",
   "metadata": {},
   "source": [
    "**bert-large-NER** is a fine-tuned BERT model that is ready to use for **Named Entity Recognition** and achieves **state-of-the-art performance** for the NER task. It has been trained to recognize four types of entities: location (LOC), organizations (ORG), person (PER) and Miscellaneous (MISC).\n"
   ]
  },
  {
   "cell_type": "markdown",
   "id": "848f8ad0",
   "metadata": {},
   "source": [
    "Specifically, this model is a *bert-large-cased* model that was fine-tuned on the English version of the standard [CoNLL-2003 Named Entity Recognition](https://www.aclweb.org/anthology/W03-0419.pdf) dataset.\n"
   ]
  },
  {
   "cell_type": "markdown",
   "id": "0b0378e5",
   "metadata": {},
   "source": [
    "If you'd like to use a smaller BERT model fine-tuned on the same dataset, a [**bert-base-NER**](https://huggingface.co/dslim/bert-base-NER/) version is also available.\n"
   ]
  },
  {
   "cell_type": "markdown",
   "id": "ddb1d26c",
   "metadata": {},
   "source": [
    "## Intended uses & limitations\n"
   ]
  },
  {
   "cell_type": "markdown",
   "id": "2d710d22",
   "metadata": {},
   "source": [
    "#### How to use\n"
   ]
  },
  {
   "cell_type": "markdown",
   "id": "a57dc755",
   "metadata": {},
   "source": [
    "You can use this model with Transformers *pipeline* for NER.\n"
   ]
  },
  {
   "cell_type": "code",
   "execution_count": null,
   "id": "6b753f4d",
   "metadata": {},
   "outputs": [],
   "source": [
    "!pip install --upgrade paddlenlp"
   ]
  },
  {
   "cell_type": "code",
   "execution_count": null,
   "id": "922000eb",
   "metadata": {},
   "outputs": [],
   "source": [
    "import paddle\n",
    "from paddlenlp.transformers import AutoModel\n",
    "\n",
    "model = AutoModel.from_pretrained(\"dslim/bert-large-NER\")\n",
    "input_ids = paddle.randint(100, 200, shape=[1, 20])\n",
    "print(model(input_ids))"
   ]
  },
  {
   "cell_type": "markdown",
   "id": "592de7bf",
   "metadata": {},
   "source": [
    "@inproceedings{tjong-kim-sang-de-meulder-2003-introduction,\n",
    "title = \"Introduction to the {C}o{NLL}-2003 Shared Task: Language-Independent Named Entity Recognition\",\n",
    "author = \"Tjong Kim Sang, Erik F.  and\n",
    "De Meulder, Fien\",\n",
    "booktitle = \"Proceedings of the Seventh Conference on Natural Language Learning at {HLT}-{NAACL} 2003\",\n",
    "year = \"2003\",\n",
    "url = \"https://www.aclweb.org/anthology/W03-0419\",\n",
    "pages = \"142--147\",\n",
    "}\n"
   ]
  },
  {
   "cell_type": "markdown",
   "id": "f2df5f43",
   "metadata": {},
   "source": [
    "> 此模型来源于：[https://huggingface.co/dslim/bert-large-NER](https://huggingface.co/https://huggingface.co/dslim/bert-large-NER)\n"
   ]
  }
 ],
 "metadata": {},
 "nbformat": 4,
 "nbformat_minor": 5
}
