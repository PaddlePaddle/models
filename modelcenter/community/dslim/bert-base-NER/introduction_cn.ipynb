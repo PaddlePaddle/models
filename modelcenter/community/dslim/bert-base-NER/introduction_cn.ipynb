{
 "cells": [
  {
   "cell_type": "markdown",
   "id": "20b6a34a",
   "metadata": {},
   "source": [
    "# bert-base-NER\n"
   ]
  },
  {
   "cell_type": "markdown",
   "id": "4d527683",
   "metadata": {},
   "source": [
    "## Model description\n"
   ]
  },
  {
   "cell_type": "markdown",
   "id": "9cc4ded6",
   "metadata": {},
   "source": [
    "**bert-base-NER** is a fine-tuned BERT model that is ready to use for **Named Entity Recognition** and achieves **state-of-the-art performance** for the NER task. It has been trained to recognize four types of entities: location (LOC), organizations (ORG), person (PER) and Miscellaneous (MISC).\n"
   ]
  },
  {
   "cell_type": "markdown",
   "id": "1d8e17c2",
   "metadata": {},
   "source": [
    "Specifically, this model is a *bert-base-cased* model that was fine-tuned on the English version of the standard [CoNLL-2003 Named Entity Recognition](https://www.aclweb.org/anthology/W03-0419.pdf) dataset.\n"
   ]
  },
  {
   "cell_type": "markdown",
   "id": "4031176d",
   "metadata": {},
   "source": [
    "If you'd like to use a larger BERT-large model fine-tuned on the same dataset, a [**bert-large-NER**](https://huggingface.co/dslim/bert-large-NER/) version is also available.\n"
   ]
  },
  {
   "cell_type": "markdown",
   "id": "d7c44689",
   "metadata": {},
   "source": [
    "## Intended uses & limitations\n"
   ]
  },
  {
   "cell_type": "markdown",
   "id": "4b652374",
   "metadata": {},
   "source": [
    "#### How to use\n"
   ]
  },
  {
   "cell_type": "markdown",
   "id": "504b899f",
   "metadata": {},
   "source": [
    "You can use this model with Transformers *pipeline* for NER.\n"
   ]
  },
  {
   "cell_type": "code",
   "execution_count": null,
   "id": "a7dc7cee",
   "metadata": {},
   "outputs": [],
   "source": [
    "!pip install --upgrade paddlenlp"
   ]
  },
  {
   "cell_type": "code",
   "execution_count": null,
   "id": "7cd8cf70",
   "metadata": {},
   "outputs": [],
   "source": [
    "import paddle\n",
    "from paddlenlp.transformers import AutoModel\n",
    "\n",
    "model = AutoModel.from_pretrained(\"dslim/bert-base-NER\")\n",
    "input_ids = paddle.randint(100, 200, shape=[1, 20])\n",
    "print(model(input_ids))"
   ]
  },
  {
   "cell_type": "markdown",
   "id": "10bcf5b6",
   "metadata": {},
   "source": [
    "@inproceedings{tjong-kim-sang-de-meulder-2003-introduction,\n",
    "title = \"Introduction to the {C}o{NLL}-2003 Shared Task: Language-Independent Named Entity Recognition\",\n",
    "author = \"Tjong Kim Sang, Erik F.  and\n",
    "De Meulder, Fien\",\n",
    "booktitle = \"Proceedings of the Seventh Conference on Natural Language Learning at {HLT}-{NAACL} 2003\",\n",
    "year = \"2003\",\n",
    "url = \"https://www.aclweb.org/anthology/W03-0419\",\n",
    "pages = \"142--147\",\n",
    "}\n"
   ]
  },
  {
   "cell_type": "markdown",
   "id": "d5a30c27",
   "metadata": {},
   "source": [
    "> 此模型来源于：[https://huggingface.co/dslim/bert-base-NER](https://huggingface.co/https://huggingface.co/dslim/bert-base-NER)\n"
   ]
  }
 ],
 "metadata": {},
 "nbformat": 4,
 "nbformat_minor": 5
}
