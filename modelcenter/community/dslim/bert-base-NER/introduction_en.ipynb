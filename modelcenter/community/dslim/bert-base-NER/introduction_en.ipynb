{
 "cells": [
  {
   "cell_type": "markdown",
   "id": "1691c9cd",
   "metadata": {},
   "source": [
    "# bert-base-NER\n",
    "\n",
    "## Model description\n",
    "\n",
    "**bert-base-NER** is a fine-tuned BERT model that is ready to use for **Named Entity Recognition** and achieves **state-of-the-art performance** for the NER task. It has been trained to recognize four types of entities: location (LOC), organizations (ORG), person (PER) and Miscellaneous (MISC).\n",
    "\n",
    "Specifically, this model is a *bert-base-cased* model that was fine-tuned on the English version of the standard [CoNLL-2003 Named Entity Recognition](https://www.aclweb.org/anthology/W03-0419.pdf) dataset.\n",
    "\n",
    "If you'd like to use a larger BERT-large model fine-tuned on the same dataset, a [**bert-large-NER**](https://huggingface.co/dslim/bert-large-NER/) version is also available.\n",
    "\n",
    "\n",
    "## Intended uses & limitations\n",
    "\n",
    "#### How to use\n",
    "\n",
    "You can use this model with Transformers *pipeline* for NER.\n"
   ]
  },
  {
   "cell_type": "code",
   "execution_count": null,
   "id": "5372b077",
   "metadata": {},
   "outputs": [],
   "source": [
    "import paddle\n",
    "from paddlenlp.transformers import AutoModel\n",
    "\n",
    "model = AutoModel.from_pretrained(\"dslim/bert-base-NER\")\n",
    "input_ids = paddle.randint(100, 200, shape=[1, 20])\n",
    "print(model(input_ids))"
   ]
  },
  {
   "cell_type": "markdown",
   "id": "08302f3b",
   "metadata": {},
   "source": [
    "> 此模型来源于：[https://huggingface.co/dslim/bert-base-NER](https://huggingface.co/https://huggingface.co/dslim/bert-base-NER)"
   ]
  }
 ],
 "metadata": {},
 "nbformat": 4,
 "nbformat_minor": 5
}
