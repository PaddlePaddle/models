{
 "cells": [
  {
   "cell_type": "markdown",
   "id": "1cbf31ef",
   "metadata": {},
   "source": [
    "# bert-base-NER\n"
   ]
  },
  {
   "cell_type": "markdown",
   "id": "266c7631",
   "metadata": {},
   "source": [
    "## Model description\n"
   ]
  },
  {
   "cell_type": "markdown",
   "id": "1078b90b",
   "metadata": {},
   "source": [
    "**bert-base-NER** is a fine-tuned BERT model that is ready to use for **Named Entity Recognition** and achieves **state-of-the-art performance** for the NER task. It has been trained to recognize four types of entities: location (LOC), organizations (ORG), person (PER) and Miscellaneous (MISC).\n"
   ]
  },
  {
   "cell_type": "markdown",
   "id": "85c107d1",
   "metadata": {},
   "source": [
    "Specifically, this model is a *bert-base-cased* model that was fine-tuned on the English version of the standard [CoNLL-2003 Named Entity Recognition](https://www.aclweb.org/anthology/W03-0419.pdf) dataset.\n"
   ]
  },
  {
   "cell_type": "markdown",
   "id": "a1041d2c",
   "metadata": {},
   "source": [
    "If you'd like to use a larger BERT-large model fine-tuned on the same dataset, a [**bert-large-NER**](https://huggingface.co/dslim/bert-large-NER/) version is also available.\n"
   ]
  },
  {
   "cell_type": "markdown",
   "id": "8949e8ad",
   "metadata": {},
   "source": [
    "## Intended uses & limitations\n"
   ]
  },
  {
   "cell_type": "markdown",
   "id": "ec0cd2a1",
   "metadata": {},
   "source": [
    "#### How to use\n"
   ]
  },
  {
   "cell_type": "markdown",
   "id": "981ea514",
   "metadata": {},
   "source": [
    "You can use this model with Transformers *pipeline* for NER.\n"
   ]
  },
  {
   "cell_type": "code",
   "execution_count": null,
   "id": "08145b08",
   "metadata": {},
   "outputs": [],
   "source": [
    "!pip install --upgrade paddlenlp"
   ]
  },
  {
   "cell_type": "code",
   "execution_count": null,
   "id": "01e43f4d",
   "metadata": {},
   "outputs": [],
   "source": [
    "import paddle\n",
    "from paddlenlp.transformers import AutoModel\n",
    "\n",
    "model = AutoModel.from_pretrained(\"dslim/bert-base-NER\")\n",
    "input_ids = paddle.randint(100, 200, shape=[1, 20])\n",
    "print(model(input_ids))"
   ]
  },
  {
   "cell_type": "markdown",
   "id": "c8f702a5",
   "metadata": {},
   "source": [
    "@inproceedings{tjong-kim-sang-de-meulder-2003-introduction,\n",
    "title = \"Introduction to the {C}o{NLL}-2003 Shared Task: Language-Independent Named Entity Recognition\",\n",
    "author = \"Tjong Kim Sang, Erik F.  and\n",
    "De Meulder, Fien\",\n",
    "booktitle = \"Proceedings of the Seventh Conference on Natural Language Learning at {HLT}-{NAACL} 2003\",\n",
    "year = \"2003\",\n",
    "url = \"https://www.aclweb.org/anthology/W03-0419\",\n",
    "pages = \"142--147\",\n",
    "}\n"
   ]
  },
  {
   "cell_type": "markdown",
   "id": "7344d4a4",
   "metadata": {},
   "source": [
    "> 此模型来源于：[https://huggingface.co/dslim/bert-base-NER](https://huggingface.co/https://huggingface.co/dslim/bert-base-NER)\n"
   ]
  }
 ],
 "metadata": {},
 "nbformat": 4,
 "nbformat_minor": 5
}
