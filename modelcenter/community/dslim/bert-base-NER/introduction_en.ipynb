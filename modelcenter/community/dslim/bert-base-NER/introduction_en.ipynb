{
 "cells": [
  {
   "cell_type": "markdown",
   "id": "59093e73",
   "metadata": {},
   "source": [
    "# bert-base-NER\n",
    "\n",
    "## Model description\n",
    "\n",
    "**bert-base-NER** is a fine-tuned BERT model that is ready to use for **Named Entity Recognition** and achieves **state-of-the-art performance** for the NER task. It has been trained to recognize four types of entities: location (LOC), organizations (ORG), person (PER) and Miscellaneous (MISC).\n",
    "\n",
    "Specifically, this model is a *bert-base-cased* model that was fine-tuned on the English version of the standard [CoNLL-2003 Named Entity Recognition](https://www.aclweb.org/anthology/W03-0419.pdf) dataset.\n",
    "\n",
    "If you'd like to use a larger BERT-large model fine-tuned on the same dataset, a [**bert-large-NER**](https://huggingface.co/dslim/bert-large-NER/) version is also available.\n",
    "\n",
    "\n",
    "## Intended uses & limitations\n",
    "\n",
    "#### How to use\n",
    "\n",
    "You can use this model with Transformers *pipeline* for NER.\n"
   ]
  },
  {
   "cell_type": "code",
   "execution_count": null,
   "id": "79a079fc",
   "metadata": {},
   "outputs": [],
   "source": [
    "import paddle\n",
    "from paddlenlp.transformers import AutoModel\n",
    "\n",
    "model = AutoModel.from_pretrained(\"dslim/bert-base-NER\")\n",
    "input_ids = paddle.randint(100, 200, shape=[1, 20])\n",
    "print(model(input_ids))"
   ]
  },
  {
   "cell_type": "code",
   "execution_count": null,
   "id": "515af365",
   "metadata": {},
   "outputs": [],
   "source": [
    "@inproceedings{tjong-kim-sang-de-meulder-2003-introduction,\n",
    "title = \"Introduction to the {C}o{NLL}-2003 Shared Task: Language-Independent Named Entity Recognition\",\n",
    "author = \"Tjong Kim Sang, Erik F.  and\n",
    "De Meulder, Fien\",\n",
    "booktitle = \"Proceedings of the Seventh Conference on Natural Language Learning at {HLT}-{NAACL} 2003\",\n",
    "year = \"2003\",\n",
    "url = \"https://www.aclweb.org/anthology/W03-0419\",\n",
    "pages = \"142--147\",\n",
    "}\n"
   ]
  },
  {
   "cell_type": "markdown",
   "id": "9e37de56",
   "metadata": {},
   "source": [
    "> 此模型来源于：[https://huggingface.co/dslim/bert-base-NER](https://huggingface.co/https://huggingface.co/dslim/bert-base-NER)"
   ]
  }
 ],
 "metadata": {},
 "nbformat": 4,
 "nbformat_minor": 5
}
