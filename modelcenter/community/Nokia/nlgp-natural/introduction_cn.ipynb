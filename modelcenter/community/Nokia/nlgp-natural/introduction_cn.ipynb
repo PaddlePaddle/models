{
 "cells": [
  {
   "cell_type": "markdown",
   "id": "8edd3b5a",
   "metadata": {},
   "source": [
    "# NLGP natural model\n",
    "\n",
    "The NLGP natural model was introduced in the paper [Natural Language-Guided Programming](https://arxiv.org/abs/2108.05198).  The model was trained on a collection of Jupyter notebooks and can be used to synthesize Python code that addresses a natural language **intent** in a certain code **context** (see the example below). This work was carried out by a research team in Nokia Bell Labs.\n",
    "\n",
    "**Context**\n"
   ]
  },
  {
   "cell_type": "code",
   "execution_count": null,
   "id": "9b28870a",
   "metadata": {},
   "outputs": [],
   "source": [
    "import paddle\n",
    "from paddlenlp.transformers import AutoModel\n",
    "\n",
    "model = AutoModel.from_pretrained(\"Nokia/nlgp-natural\")\n",
    "input_ids = paddle.randint(100, 200, shape=[1, 20])\n",
    "print(model(input_ids))"
   ]
  },
  {
   "cell_type": "markdown",
   "id": "442e28fb",
   "metadata": {},
   "source": [
    "## License and copyright\n",
    "\n",
    "Copyright 2021 Nokia\n",
    "\n",
    "Licensed under the Apache License 2.0\n",
    "\n",
    "SPDX-License-Identifier: Apache-2.0\n",
    "> 此模型来源于：[https://huggingface.co/Nokia/nlgp-natural](https://huggingface.co/https://huggingface.co/Nokia/nlgp-natural)"
   ]
  }
 ],
 "metadata": {},
 "nbformat": 4,
 "nbformat_minor": 5
}
