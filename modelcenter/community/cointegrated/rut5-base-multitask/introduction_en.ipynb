{
 "cells": [
  {
   "cell_type": "code",
   "execution_count": null,
   "id": "becc0d55",
   "metadata": {},
   "outputs": [],
   "source": [
    "!pip install --upgrade paddlenlp"
   ]
  },
  {
   "cell_type": "code",
   "execution_count": null,
   "id": "060ee3e8",
   "metadata": {},
   "outputs": [],
   "source": [
    "import paddle\n",
    "from paddlenlp.transformers import AutoModel\n",
    "\n",
    "model = AutoModel.from_pretrained(\"cointegrated/rut5-base-multitask\")\n",
    "input_ids = paddle.randint(100, 200, shape=[1, 20])\n",
    "print(model(input_ids))"
   ]
  },
  {
   "cell_type": "markdown",
   "id": "02317db0",
   "metadata": {},
   "source": [
    "print(generate('translate ru-en | Каждый охотник желает знать, где сидит фазан.'))\n",
    "# Each hunter wants to know, where he is.\n"
   ]
  },
  {
   "cell_type": "markdown",
   "id": "9521c32a",
   "metadata": {},
   "source": [
    "print(generate('paraphrase | Каждый охотник желает знать, где сидит фазан.',\n",
    "encoder_no_repeat_ngram_size=1, repetition_penalty=0.5, no_repeat_ngram_size=1))\n",
    "# В любом случае каждый рыбак мечтает познакомиться со своей фермой\n"
   ]
  },
  {
   "cell_type": "markdown",
   "id": "a64da675",
   "metadata": {},
   "source": [
    "print(generate('fill | Каждый охотник _3_, где сидит фазан.'))\n",
    "# смотрит на озеро\n"
   ]
  },
  {
   "cell_type": "markdown",
   "id": "bb99aec7",
   "metadata": {},
   "source": [
    "print(generate('assemble | охотник каждый знать фазан сидит'))\n",
    "# Каждый охотник знает, что фазан сидит.\n"
   ]
  },
  {
   "cell_type": "markdown",
   "id": "2bd2701a",
   "metadata": {},
   "source": [
    "print(generate('simplify | Местным продуктом-специалитетом с защищённым географическим наименованием по происхождению считается люнебургский степной барашек.', max_length=32))\n",
    "# Местным продуктом-специалитетом считается люнебургский степной барашек.\n"
   ]
  },
  {
   "cell_type": "markdown",
   "id": "fa352732",
   "metadata": {},
   "source": [
    "print(generate('reply | Помогите мне закадрить девушку'))\n",
    "# Что я хочу?\n"
   ]
  },
  {
   "cell_type": "markdown",
   "id": "5af1ff27",
   "metadata": {},
   "source": [
    "print(generate('answer | Помогите мне закадрить девушку'))\n",
    "# я хочу познакомиться с девушкой!!!!!!!!\n"
   ]
  },
  {
   "cell_type": "markdown",
   "id": "05a62c1b",
   "metadata": {},
   "source": [
    "print(generate(\"comprehend | На фоне земельного конфликта между владельцами овец и ранчеро разворачивается история любви овцевода Моргана Лейна, \"\n",
    "\"прибывшего в США из Австралии, и Марии Синглетон, владелицы богатого скотоводческого ранчо. Вопрос: откуда приехал Морган?\"))\n",
    "# из Австралии\n"
   ]
  },
  {
   "cell_type": "markdown",
   "id": "60903b6b",
   "metadata": {},
   "source": [
    "print(generate(\"ask | На фоне земельного конфликта между владельцами овец и ранчеро разворачивается история любви овцевода Моргана Лейна, \"\n",
    "\"прибывшего в США из Австралии, и Марии Синглетон, владелицы богатого скотоводческого ранчо.\", max_length=32))\n",
    "# Что разворачивается на фоне земельного конфликта между владельцами овец и ранчеро?\n"
   ]
  },
  {
   "cell_type": "markdown",
   "id": "5dc55009",
   "metadata": {},
   "source": [
    "print(generate(\"headline | На фоне земельного конфликта между владельцами овец и ранчеро разворачивается история любви овцевода Моргана Лейна, \"\n",
    "\"прибывшего в США из Австралии, и Марии Синглетон, владелицы богатого скотоводческого ранчо.\", max_length=32))\n",
    "# На фоне земельного конфликта разворачивается история любви овцевода Моргана Лейна и Марии Синглетон\n"
   ]
  },
  {
   "cell_type": "markdown",
   "id": "535a85f7",
   "metadata": {},
   "source": [
    "However, it is strongly recommended that you fine tune the model for your own task.\n",
    "> 此模型来源于：[https://huggingface.co/cointegrated/rut5-base-multitask](https://huggingface.co/https://huggingface.co/cointegrated/rut5-base-multitask)\n"
   ]
  }
 ],
 "metadata": {},
 "nbformat": 4,
 "nbformat_minor": 5
}
