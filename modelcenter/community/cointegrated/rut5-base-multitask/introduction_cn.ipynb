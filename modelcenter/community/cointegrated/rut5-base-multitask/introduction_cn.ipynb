{
 "cells": [
  {
   "cell_type": "code",
   "execution_count": null,
   "id": "01129bc6",
   "metadata": {},
   "outputs": [],
   "source": [
    "import paddle\n",
    "from paddlenlp.transformers import AutoModel\n",
    "\n",
    "model = AutoModel.from_pretrained(\"cointegrated/rut5-base-multitask\")\n",
    "input_ids = paddle.randint(100, 200, shape=[1, 20])\n",
    "print(model(input_ids))"
   ]
  },
  {
   "cell_type": "markdown",
   "id": "f29d5a0a",
   "metadata": {},
   "source": [
    "However, it is strongly recommended that you fine tune the model for your own task.\n",
    "> 此模型来源于：[https://huggingface.co/cointegrated/rut5-base-multitask](https://huggingface.co/https://huggingface.co/cointegrated/rut5-base-multitask)"
   ]
  }
 ],
 "metadata": {},
 "nbformat": 4,
 "nbformat_minor": 5
}
