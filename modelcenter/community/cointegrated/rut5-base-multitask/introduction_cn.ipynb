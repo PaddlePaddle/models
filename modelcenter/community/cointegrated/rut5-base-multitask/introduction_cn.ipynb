{
 "cells": [
  {
   "cell_type": "code",
   "execution_count": null,
   "id": "5c3d9745",
   "metadata": {},
   "outputs": [],
   "source": [
    "!pip install --upgrade paddlenlp"
   ]
  },
  {
   "cell_type": "code",
   "execution_count": null,
   "id": "2a808918",
   "metadata": {},
   "outputs": [],
   "source": [
    "import paddle\n",
    "from paddlenlp.transformers import AutoModel\n",
    "\n",
    "model = AutoModel.from_pretrained(\"cointegrated/rut5-base-multitask\")\n",
    "input_ids = paddle.randint(100, 200, shape=[1, 20])\n",
    "print(model(input_ids))"
   ]
  },
  {
   "cell_type": "markdown",
   "id": "9aeb5967",
   "metadata": {},
   "source": [
    "print(generate('translate ru-en | Каждый охотник желает знать, где сидит фазан.'))\n",
    "# Each hunter wants to know, where he is.\n"
   ]
  },
  {
   "cell_type": "markdown",
   "id": "a7803d72",
   "metadata": {},
   "source": [
    "print(generate('paraphrase | Каждый охотник желает знать, где сидит фазан.',\n",
    "encoder_no_repeat_ngram_size=1, repetition_penalty=0.5, no_repeat_ngram_size=1))\n",
    "# В любом случае каждый рыбак мечтает познакомиться со своей фермой\n"
   ]
  },
  {
   "cell_type": "markdown",
   "id": "29838638",
   "metadata": {},
   "source": [
    "print(generate('fill | Каждый охотник _3_, где сидит фазан.'))\n",
    "# смотрит на озеро\n"
   ]
  },
  {
   "cell_type": "markdown",
   "id": "3855e933",
   "metadata": {},
   "source": [
    "print(generate('assemble | охотник каждый знать фазан сидит'))\n",
    "# Каждый охотник знает, что фазан сидит.\n"
   ]
  },
  {
   "cell_type": "markdown",
   "id": "b7c039b3",
   "metadata": {},
   "source": [
    "print(generate('simplify | Местным продуктом-специалитетом с защищённым географическим наименованием по происхождению считается люнебургский степной барашек.', max_length=32))\n",
    "# Местным продуктом-специалитетом считается люнебургский степной барашек.\n"
   ]
  },
  {
   "cell_type": "markdown",
   "id": "401cbb66",
   "metadata": {},
   "source": [
    "print(generate('reply | Помогите мне закадрить девушку'))\n",
    "# Что я хочу?\n"
   ]
  },
  {
   "cell_type": "markdown",
   "id": "d767e601",
   "metadata": {},
   "source": [
    "print(generate('answer | Помогите мне закадрить девушку'))\n",
    "# я хочу познакомиться с девушкой!!!!!!!!\n"
   ]
  },
  {
   "cell_type": "markdown",
   "id": "e3b224c4",
   "metadata": {},
   "source": [
    "print(generate(\"comprehend | На фоне земельного конфликта между владельцами овец и ранчеро разворачивается история любви овцевода Моргана Лейна, \"\n",
    "\"прибывшего в США из Австралии, и Марии Синглетон, владелицы богатого скотоводческого ранчо. Вопрос: откуда приехал Морган?\"))\n",
    "# из Австралии\n"
   ]
  },
  {
   "cell_type": "markdown",
   "id": "9e5b0619",
   "metadata": {},
   "source": [
    "print(generate(\"ask | На фоне земельного конфликта между владельцами овец и ранчеро разворачивается история любви овцевода Моргана Лейна, \"\n",
    "\"прибывшего в США из Австралии, и Марии Синглетон, владелицы богатого скотоводческого ранчо.\", max_length=32))\n",
    "# Что разворачивается на фоне земельного конфликта между владельцами овец и ранчеро?\n"
   ]
  },
  {
   "cell_type": "markdown",
   "id": "95e75ab6",
   "metadata": {},
   "source": [
    "print(generate(\"headline | На фоне земельного конфликта между владельцами овец и ранчеро разворачивается история любви овцевода Моргана Лейна, \"\n",
    "\"прибывшего в США из Австралии, и Марии Синглетон, владелицы богатого скотоводческого ранчо.\", max_length=32))\n",
    "# На фоне земельного конфликта разворачивается история любви овцевода Моргана Лейна и Марии Синглетон\n"
   ]
  },
  {
   "cell_type": "markdown",
   "id": "632a53f1",
   "metadata": {},
   "source": [
    "However, it is strongly recommended that you fine tune the model for your own task.\n",
    "> 此模型来源于：[https://huggingface.co/cointegrated/rut5-base-multitask](https://huggingface.co/https://huggingface.co/cointegrated/rut5-base-multitask)\n"
   ]
  }
 ],
 "metadata": {},
 "nbformat": 4,
 "nbformat_minor": 5
}
