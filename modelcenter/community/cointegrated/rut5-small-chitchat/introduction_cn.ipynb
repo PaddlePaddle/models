{
 "cells": [
  {
   "cell_type": "markdown",
   "id": "f1d0fdc7",
   "metadata": {},
   "source": [
    "This is a version of the [cointegrated/rut5-small](https://huggingface.co/cointegrated/rut5-small) model fine-tuned on some Russian dialogue data. It is not very smart and creative, but it is small and fast, and can serve as a fallback response generator for some chatbot or can be fine-tuned to imitate the style of someone.\n"
   ]
  },
  {
   "cell_type": "markdown",
   "id": "ddea01c5",
   "metadata": {},
   "source": [
    "The input of the model is the previous dialogue utterances separated by `'\\n\\n'`, and the output is the next utterance.\n"
   ]
  },
  {
   "cell_type": "markdown",
   "id": "c5224c07",
   "metadata": {},
   "source": [
    "The model can be used as follows:\n"
   ]
  },
  {
   "cell_type": "code",
   "execution_count": null,
   "id": "28675524",
   "metadata": {},
   "outputs": [],
   "source": [
    "!pip install --upgrade paddlenlp"
   ]
  },
  {
   "cell_type": "code",
   "execution_count": null,
   "id": "5b38bcab",
   "metadata": {},
   "outputs": [],
   "source": [
    "import paddle\n",
    "from paddlenlp.transformers import AutoModel\n",
    "\n",
    "model = AutoModel.from_pretrained(\"cointegrated/rut5-small-chitchat\")\n",
    "input_ids = paddle.randint(100, 200, shape=[1, 20])\n",
    "print(model(input_ids))"
   ]
  },
  {
   "cell_type": "markdown",
   "id": "8c3e733e",
   "metadata": {},
   "source": [
    "> 此模型来源于：[https://huggingface.co/cointegrated/rut5-small-chitchat](https://huggingface.co/https://huggingface.co/cointegrated/rut5-small-chitchat)\n"
   ]
  }
 ],
 "metadata": {},
 "nbformat": 4,
 "nbformat_minor": 5
}
