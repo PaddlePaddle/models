{
 "cells": [
  {
   "cell_type": "markdown",
   "id": "6ed02470",
   "metadata": {},
   "source": [
    "This is a version of the [cointegrated/rut5-small](https://huggingface.co/cointegrated/rut5-small) model fine-tuned on some Russian dialogue data. It is not very smart and creative, but it is small and fast, and can serve as a fallback response generator for some chatbot or can be fine-tuned to imitate the style of someone.\n",
    "\n",
    "The input of the model is the previous dialogue utterances separated by `'\\n\\n'`, and the output is the next utterance.\n",
    "\n",
    "The model can be used as follows:\n"
   ]
  },
  {
   "cell_type": "code",
   "execution_count": null,
   "id": "6cb7379a",
   "metadata": {},
   "outputs": [],
   "source": [
    "import paddle\n",
    "from paddlenlp.transformers import AutoModel\n",
    "\n",
    "model = AutoModel.from_pretrained(\"cointegrated/rut5-small-chitchat\")\n",
    "input_ids = paddle.randint(100, 200, shape=[1, 20])\n",
    "print(model(input_ids))"
   ]
  },
  {
   "cell_type": "markdown",
   "id": "b080a42b",
   "metadata": {},
   "source": [
    "> 此模型来源于：[https://huggingface.co/cointegrated/rut5-small-chitchat](https://huggingface.co/https://huggingface.co/cointegrated/rut5-small-chitchat)"
   ]
  }
 ],
 "metadata": {},
 "nbformat": 4,
 "nbformat_minor": 5
}
