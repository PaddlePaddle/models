{
 "cells": [
  {
   "cell_type": "markdown",
   "id": "c315c8a8",
   "metadata": {},
   "source": [
    "This is a paraphraser for Russian sentences described [in this Habr post](https://habr.com/ru/post/564916/).\n"
   ]
  },
  {
   "cell_type": "markdown",
   "id": "8a03e8c7",
   "metadata": {},
   "source": [
    "It is recommended to use the model with the `encoder_no_repeat_ngram_size` argument:\n"
   ]
  },
  {
   "cell_type": "code",
   "execution_count": null,
   "id": "24b8bef2",
   "metadata": {},
   "outputs": [],
   "source": [
    "!pip install --upgrade paddlenlp"
   ]
  },
  {
   "cell_type": "code",
   "execution_count": null,
   "id": "5b7d0347",
   "metadata": {},
   "outputs": [],
   "source": [
    "import paddle\n",
    "from paddlenlp.transformers import AutoModel\n",
    "\n",
    "model = AutoModel.from_pretrained(\"cointegrated/rut5-base-paraphraser\")\n",
    "input_ids = paddle.randint(100, 200, shape=[1, 20])\n",
    "print(model(input_ids))"
   ]
  },
  {
   "cell_type": "markdown",
   "id": "1df4cda9",
   "metadata": {},
   "source": [
    "> 此模型来源于：[https://huggingface.co/cointegrated/rut5-base-paraphraser](https://huggingface.co/https://huggingface.co/cointegrated/rut5-base-paraphraser)\n"
   ]
  }
 ],
 "metadata": {},
 "nbformat": 4,
 "nbformat_minor": 5
}
