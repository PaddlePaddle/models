{
 "cells": [
  {
   "cell_type": "markdown",
   "id": "110946ef",
   "metadata": {},
   "source": [
    "This is a paraphraser for Russian sentences described [in this Habr post](https://habr.com/ru/post/564916/).\n",
    "\n",
    "It is recommended to use the model with the `encoder_no_repeat_ngram_size` argument:\n"
   ]
  },
  {
   "cell_type": "code",
   "execution_count": null,
   "id": "94d756a7",
   "metadata": {},
   "outputs": [],
   "source": [
    "import paddle\n",
    "from paddlenlp.transformers import AutoModel\n",
    "\n",
    "model = AutoModel.from_pretrained(\"cointegrated/rut5-base-paraphraser\")\n",
    "input_ids = paddle.randint(100, 200, shape=[1, 20])\n",
    "print(model(input_ids))"
   ]
  },
  {
   "cell_type": "markdown",
   "id": "6cfc9898",
   "metadata": {},
   "source": [
    "> 此模型来源于：[https://huggingface.co/cointegrated/rut5-base-paraphraser](https://huggingface.co/https://huggingface.co/cointegrated/rut5-base-paraphraser)"
   ]
  }
 ],
 "metadata": {},
 "nbformat": 4,
 "nbformat_minor": 5
}
