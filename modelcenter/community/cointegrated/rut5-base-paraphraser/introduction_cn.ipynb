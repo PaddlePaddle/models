{
 "cells": [
  {
   "cell_type": "markdown",
   "id": "c1527cca",
   "metadata": {},
   "source": [
    "This is a paraphraser for Russian sentences described [in this Habr post](https://habr.com/ru/post/564916/).\n"
   ]
  },
  {
   "cell_type": "markdown",
   "id": "96ce050b",
   "metadata": {},
   "source": [
    "It is recommended to use the model with the `encoder_no_repeat_ngram_size` argument:\n"
   ]
  },
  {
   "cell_type": "code",
   "execution_count": null,
   "id": "45f8d185",
   "metadata": {},
   "outputs": [],
   "source": [
    "!pip install --upgrade paddlenlp"
   ]
  },
  {
   "cell_type": "code",
   "execution_count": null,
   "id": "7a3b230e",
   "metadata": {},
   "outputs": [],
   "source": [
    "import paddle\n",
    "from paddlenlp.transformers import AutoModel\n",
    "\n",
    "model = AutoModel.from_pretrained(\"cointegrated/rut5-base-paraphraser\")\n",
    "input_ids = paddle.randint(100, 200, shape=[1, 20])\n",
    "print(model(input_ids))"
   ]
  },
  {
   "cell_type": "markdown",
   "id": "e8bb9775",
   "metadata": {},
   "source": [
    "> 此模型来源于：[https://huggingface.co/cointegrated/rut5-base-paraphraser](https://huggingface.co/https://huggingface.co/cointegrated/rut5-base-paraphraser)\n"
   ]
  }
 ],
 "metadata": {},
 "nbformat": 4,
 "nbformat_minor": 5
}
