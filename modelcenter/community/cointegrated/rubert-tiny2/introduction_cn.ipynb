{
 "cells": [
  {
   "cell_type": "markdown",
   "id": "00822059",
   "metadata": {},
   "source": [
    "This is an updated version of [cointegrated/rubert-tiny](https://huggingface.co/cointegrated/rubert-tiny): a small Russian BERT-based encoder with high-quality sentence embeddings. This [post in Russian](https://habr.com/ru/post/669674/) gives more details.\n",
    "\n",
    "The differences from the previous version include:\n",
    "- a larger vocabulary: 83828 tokens instead of 29564;\n",
    "- larger supported sequences: 2048 instead of 512;\n",
    "- sentence embeddings approximate LaBSE closer than before;\n",
    "- meaningful segment embeddings (tuned on the NLI task)\n",
    "- the model is focused only on Russian.\n",
    "\n",
    "The model should be used as is to produce sentence embeddings (e.g. for KNN classification of short texts) or fine-tuned for a downstream task.\n",
    "\n",
    "Sentence embeddings can be produced as follows:\n"
   ]
  },
  {
   "cell_type": "code",
   "execution_count": null,
   "id": "b28ef6a8",
   "metadata": {},
   "outputs": [],
   "source": [
    "import paddle\n",
    "from paddlenlp.transformers import AutoModel\n",
    "\n",
    "model = AutoModel.from_pretrained(\"cointegrated/rubert-tiny2\")\n",
    "input_ids = paddle.randint(100, 200, shape=[1, 20])\n",
    "print(model(input_ids))"
   ]
  },
  {
   "cell_type": "markdown",
   "id": "d3dbcd57",
   "metadata": {},
   "source": [
    "> 此模型来源于：[https://huggingface.co/cointegrated/rubert-tiny2](https://huggingface.co/https://huggingface.co/cointegrated/rubert-tiny2)"
   ]
  }
 ],
 "metadata": {},
 "nbformat": 4,
 "nbformat_minor": 5
}
